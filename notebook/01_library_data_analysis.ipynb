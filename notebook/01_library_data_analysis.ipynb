{
 "cells": [
  {
   "cell_type": "markdown",
   "id": "8f44287b-377f-4542-b8c0-853b15df3d7e",
   "metadata": {},
   "source": [
    "## Library Data Analysis\n",
    "\n",
    "Data analysis covered in this notebook aims to prove the answers and solutions to the business problems libraries face, books being checked out and returned late. \n",
    "\n",
    "The analysis will discover connections between entities engaged in this business transaction, customer, books, and libraries, by looking into their respective relationships. \n",
    "This part of the process is called EDA (Exploratory Data Analysis) and if successful, it is going to yield features that are the most descriptive of the problem and these features will help us build a predictive model.\n",
    "\n",
    "The main idea is that the model will be able to help libraries elevate their businesses. \n",
    "\n",
    "This notebook\n",
    "1. Loads the data\n",
    "2. (Potentially) Adds additional columns to existing data (providing insight)\n",
    "3. Detects and visualizes the features\n",
    "4. Explains how these features can help mitigate the risks libraries are facing"
   ]
  },
  {
   "cell_type": "code",
   "execution_count": 4,
   "id": "fbdab765-df63-4296-9855-27c029451b6e",
   "metadata": {},
   "outputs": [
    {
     "data": {
      "text/html": [
       "<script type=\"esms-options\">{\"shimMode\": true}</script><style>*[data-root-id],\n",
       "*[data-root-id] > * {\n",
       "  box-sizing: border-box;\n",
       "  font-family: var(--jp-ui-font-family);\n",
       "  font-size: var(--jp-ui-font-size1);\n",
       "  color: var(--vscode-editor-foreground, var(--jp-ui-font-color1));\n",
       "}\n",
       "\n",
       "/* Override VSCode background color */\n",
       ".cell-output-ipywidget-background:has(\n",
       "    > .cell-output-ipywidget-background > .lm-Widget > *[data-root-id]\n",
       "  ),\n",
       ".cell-output-ipywidget-background:has(> .lm-Widget > *[data-root-id]) {\n",
       "  background-color: transparent !important;\n",
       "}\n",
       "</style>"
      ]
     },
     "metadata": {},
     "output_type": "display_data"
    },
    {
     "data": {
      "application/javascript": [
       "(function(root) {\n",
       "  function now() {\n",
       "    return new Date();\n",
       "  }\n",
       "\n",
       "  const force = true;\n",
       "  const py_version = '3.6.0'.replace('rc', '-rc.').replace('.dev', '-dev.');\n",
       "  const reloading = false;\n",
       "  const Bokeh = root.Bokeh;\n",
       "\n",
       "  // Set a timeout for this load but only if we are not already initializing\n",
       "  if (typeof (root._bokeh_timeout) === \"undefined\" || (force || !root._bokeh_is_initializing)) {\n",
       "    root._bokeh_timeout = Date.now() + 5000;\n",
       "    root._bokeh_failed_load = false;\n",
       "  }\n",
       "\n",
       "  function run_callbacks() {\n",
       "    try {\n",
       "      root._bokeh_onload_callbacks.forEach(function(callback) {\n",
       "        if (callback != null)\n",
       "          callback();\n",
       "      });\n",
       "    } finally {\n",
       "      delete root._bokeh_onload_callbacks;\n",
       "    }\n",
       "    console.debug(\"Bokeh: all callbacks have finished\");\n",
       "  }\n",
       "\n",
       "  function load_libs(css_urls, js_urls, js_modules, js_exports, callback) {\n",
       "    if (css_urls == null) css_urls = [];\n",
       "    if (js_urls == null) js_urls = [];\n",
       "    if (js_modules == null) js_modules = [];\n",
       "    if (js_exports == null) js_exports = {};\n",
       "\n",
       "    root._bokeh_onload_callbacks.push(callback);\n",
       "\n",
       "    if (root._bokeh_is_loading > 0) {\n",
       "      // Don't load bokeh if it is still initializing\n",
       "      console.debug(\"Bokeh: BokehJS is being loaded, scheduling callback at\", now());\n",
       "      return null;\n",
       "    } else if (js_urls.length === 0 && js_modules.length === 0 && Object.keys(js_exports).length === 0) {\n",
       "      // There is nothing to load\n",
       "      run_callbacks();\n",
       "      return null;\n",
       "    }\n",
       "\n",
       "    function on_load() {\n",
       "      root._bokeh_is_loading--;\n",
       "      if (root._bokeh_is_loading === 0) {\n",
       "        console.debug(\"Bokeh: all BokehJS libraries/stylesheets loaded\");\n",
       "        run_callbacks()\n",
       "      }\n",
       "    }\n",
       "    window._bokeh_on_load = on_load\n",
       "\n",
       "    function on_error(e) {\n",
       "      const src_el = e.srcElement\n",
       "      console.error(\"failed to load \" + (src_el.href || src_el.src));\n",
       "    }\n",
       "\n",
       "    const skip = [];\n",
       "    if (window.requirejs) {\n",
       "      window.requirejs.config({'packages': {}, 'paths': {}, 'shim': {}});\n",
       "      root._bokeh_is_loading = css_urls.length + 0;\n",
       "    } else {\n",
       "      root._bokeh_is_loading = css_urls.length + js_urls.length + js_modules.length + Object.keys(js_exports).length;\n",
       "    }\n",
       "\n",
       "    const existing_stylesheets = []\n",
       "    const links = document.getElementsByTagName('link')\n",
       "    for (let i = 0; i < links.length; i++) {\n",
       "      const link = links[i]\n",
       "      if (link.href != null) {\n",
       "        existing_stylesheets.push(link.href)\n",
       "      }\n",
       "    }\n",
       "    for (let i = 0; i < css_urls.length; i++) {\n",
       "      const url = css_urls[i];\n",
       "      const escaped = encodeURI(url)\n",
       "      if (existing_stylesheets.indexOf(escaped) !== -1) {\n",
       "        on_load()\n",
       "        continue;\n",
       "      }\n",
       "      const element = document.createElement(\"link\");\n",
       "      element.onload = on_load;\n",
       "      element.onerror = on_error;\n",
       "      element.rel = \"stylesheet\";\n",
       "      element.type = \"text/css\";\n",
       "      element.href = url;\n",
       "      console.debug(\"Bokeh: injecting link tag for BokehJS stylesheet: \", url);\n",
       "      document.body.appendChild(element);\n",
       "    }    var existing_scripts = []\n",
       "    const scripts = document.getElementsByTagName('script')\n",
       "    for (let i = 0; i < scripts.length; i++) {\n",
       "      var script = scripts[i]\n",
       "      if (script.src != null) {\n",
       "        existing_scripts.push(script.src)\n",
       "      }\n",
       "    }\n",
       "    for (let i = 0; i < js_urls.length; i++) {\n",
       "      const url = js_urls[i];\n",
       "      const escaped = encodeURI(url)\n",
       "      if (skip.indexOf(escaped) !== -1 || existing_scripts.indexOf(escaped) !== -1) {\n",
       "        if (!window.requirejs) {\n",
       "          on_load();\n",
       "        }\n",
       "        continue;\n",
       "      }\n",
       "      const element = document.createElement('script');\n",
       "      element.onload = on_load;\n",
       "      element.onerror = on_error;\n",
       "      element.async = false;\n",
       "      element.src = url;\n",
       "      console.debug(\"Bokeh: injecting script tag for BokehJS library: \", url);\n",
       "      document.head.appendChild(element);\n",
       "    }\n",
       "    for (let i = 0; i < js_modules.length; i++) {\n",
       "      const url = js_modules[i];\n",
       "      const escaped = encodeURI(url)\n",
       "      if (skip.indexOf(escaped) !== -1 || existing_scripts.indexOf(escaped) !== -1) {\n",
       "        if (!window.requirejs) {\n",
       "          on_load();\n",
       "        }\n",
       "        continue;\n",
       "      }\n",
       "      var element = document.createElement('script');\n",
       "      element.onload = on_load;\n",
       "      element.onerror = on_error;\n",
       "      element.async = false;\n",
       "      element.src = url;\n",
       "      element.type = \"module\";\n",
       "      console.debug(\"Bokeh: injecting script tag for BokehJS library: \", url);\n",
       "      document.head.appendChild(element);\n",
       "    }\n",
       "    for (const name in js_exports) {\n",
       "      const url = js_exports[name];\n",
       "      const escaped = encodeURI(url)\n",
       "      if (skip.indexOf(escaped) >= 0 || root[name] != null) {\n",
       "        if (!window.requirejs) {\n",
       "          on_load();\n",
       "        }\n",
       "        continue;\n",
       "      }\n",
       "      var element = document.createElement('script');\n",
       "      element.onerror = on_error;\n",
       "      element.async = false;\n",
       "      element.type = \"module\";\n",
       "      console.debug(\"Bokeh: injecting script tag for BokehJS library: \", url);\n",
       "      element.textContent = `\n",
       "      import ${name} from \"${url}\"\n",
       "      window.${name} = ${name}\n",
       "      window._bokeh_on_load()\n",
       "      `\n",
       "      document.head.appendChild(element);\n",
       "    }\n",
       "    if (!js_urls.length && !js_modules.length) {\n",
       "      on_load()\n",
       "    }\n",
       "  };\n",
       "\n",
       "  function inject_raw_css(css) {\n",
       "    const element = document.createElement(\"style\");\n",
       "    element.appendChild(document.createTextNode(css));\n",
       "    document.body.appendChild(element);\n",
       "  }\n",
       "\n",
       "  const js_urls = [\"https://cdn.holoviz.org/panel/1.5.3/dist/bundled/reactiveesm/es-module-shims@^1.10.0/dist/es-module-shims.min.js\", \"https://cdn.bokeh.org/bokeh/release/bokeh-3.6.0.min.js\", \"https://cdn.bokeh.org/bokeh/release/bokeh-gl-3.6.0.min.js\", \"https://cdn.bokeh.org/bokeh/release/bokeh-widgets-3.6.0.min.js\", \"https://cdn.bokeh.org/bokeh/release/bokeh-tables-3.6.0.min.js\", \"https://cdn.holoviz.org/panel/1.5.3/dist/panel.min.js\"];\n",
       "  const js_modules = [];\n",
       "  const js_exports = {};\n",
       "  const css_urls = [];\n",
       "  const inline_js = [    function(Bokeh) {\n",
       "      Bokeh.set_log_level(\"info\");\n",
       "    },\n",
       "function(Bokeh) {} // ensure no trailing comma for IE\n",
       "  ];\n",
       "\n",
       "  function run_inline_js() {\n",
       "    if ((root.Bokeh !== undefined) || (force === true)) {\n",
       "      for (let i = 0; i < inline_js.length; i++) {\n",
       "        try {\n",
       "          inline_js[i].call(root, root.Bokeh);\n",
       "        } catch(e) {\n",
       "          if (!reloading) {\n",
       "            throw e;\n",
       "          }\n",
       "        }\n",
       "      }\n",
       "      // Cache old bokeh versions\n",
       "      if (Bokeh != undefined && !reloading) {\n",
       "        var NewBokeh = root.Bokeh;\n",
       "        if (Bokeh.versions === undefined) {\n",
       "          Bokeh.versions = new Map();\n",
       "        }\n",
       "        if (NewBokeh.version !== Bokeh.version) {\n",
       "          Bokeh.versions.set(NewBokeh.version, NewBokeh)\n",
       "        }\n",
       "        root.Bokeh = Bokeh;\n",
       "      }\n",
       "    } else if (Date.now() < root._bokeh_timeout) {\n",
       "      setTimeout(run_inline_js, 100);\n",
       "    } else if (!root._bokeh_failed_load) {\n",
       "      console.log(\"Bokeh: BokehJS failed to load within specified timeout.\");\n",
       "      root._bokeh_failed_load = true;\n",
       "    }\n",
       "    root._bokeh_is_initializing = false\n",
       "  }\n",
       "\n",
       "  function load_or_wait() {\n",
       "    // Implement a backoff loop that tries to ensure we do not load multiple\n",
       "    // versions of Bokeh and its dependencies at the same time.\n",
       "    // In recent versions we use the root._bokeh_is_initializing flag\n",
       "    // to determine whether there is an ongoing attempt to initialize\n",
       "    // bokeh, however for backward compatibility we also try to ensure\n",
       "    // that we do not start loading a newer (Panel>=1.0 and Bokeh>3) version\n",
       "    // before older versions are fully initialized.\n",
       "    if (root._bokeh_is_initializing && Date.now() > root._bokeh_timeout) {\n",
       "      // If the timeout and bokeh was not successfully loaded we reset\n",
       "      // everything and try loading again\n",
       "      root._bokeh_timeout = Date.now() + 5000;\n",
       "      root._bokeh_is_initializing = false;\n",
       "      root._bokeh_onload_callbacks = undefined;\n",
       "      root._bokeh_is_loading = 0\n",
       "      console.log(\"Bokeh: BokehJS was loaded multiple times but one version failed to initialize.\");\n",
       "      load_or_wait();\n",
       "    } else if (root._bokeh_is_initializing || (typeof root._bokeh_is_initializing === \"undefined\" && root._bokeh_onload_callbacks !== undefined)) {\n",
       "      setTimeout(load_or_wait, 100);\n",
       "    } else {\n",
       "      root._bokeh_is_initializing = true\n",
       "      root._bokeh_onload_callbacks = []\n",
       "      const bokeh_loaded = root.Bokeh != null && (root.Bokeh.version === py_version || (root.Bokeh.versions !== undefined && root.Bokeh.versions.has(py_version)));\n",
       "      if (!reloading && !bokeh_loaded) {\n",
       "        if (root.Bokeh) {\n",
       "          root.Bokeh = undefined;\n",
       "        }\n",
       "        console.debug(\"Bokeh: BokehJS not loaded, scheduling load and callback at\", now());\n",
       "      }\n",
       "      load_libs(css_urls, js_urls, js_modules, js_exports, function() {\n",
       "        console.debug(\"Bokeh: BokehJS plotting callback run at\", now());\n",
       "        run_inline_js();\n",
       "      });\n",
       "    }\n",
       "  }\n",
       "  // Give older versions of the autoload script a head-start to ensure\n",
       "  // they initialize before we start loading newer version.\n",
       "  setTimeout(load_or_wait, 100)\n",
       "}(window));"
      ],
      "application/vnd.holoviews_load.v0+json": "(function(root) {\n  function now() {\n    return new Date();\n  }\n\n  const force = true;\n  const py_version = '3.6.0'.replace('rc', '-rc.').replace('.dev', '-dev.');\n  const reloading = false;\n  const Bokeh = root.Bokeh;\n\n  // Set a timeout for this load but only if we are not already initializing\n  if (typeof (root._bokeh_timeout) === \"undefined\" || (force || !root._bokeh_is_initializing)) {\n    root._bokeh_timeout = Date.now() + 5000;\n    root._bokeh_failed_load = false;\n  }\n\n  function run_callbacks() {\n    try {\n      root._bokeh_onload_callbacks.forEach(function(callback) {\n        if (callback != null)\n          callback();\n      });\n    } finally {\n      delete root._bokeh_onload_callbacks;\n    }\n    console.debug(\"Bokeh: all callbacks have finished\");\n  }\n\n  function load_libs(css_urls, js_urls, js_modules, js_exports, callback) {\n    if (css_urls == null) css_urls = [];\n    if (js_urls == null) js_urls = [];\n    if (js_modules == null) js_modules = [];\n    if (js_exports == null) js_exports = {};\n\n    root._bokeh_onload_callbacks.push(callback);\n\n    if (root._bokeh_is_loading > 0) {\n      // Don't load bokeh if it is still initializing\n      console.debug(\"Bokeh: BokehJS is being loaded, scheduling callback at\", now());\n      return null;\n    } else if (js_urls.length === 0 && js_modules.length === 0 && Object.keys(js_exports).length === 0) {\n      // There is nothing to load\n      run_callbacks();\n      return null;\n    }\n\n    function on_load() {\n      root._bokeh_is_loading--;\n      if (root._bokeh_is_loading === 0) {\n        console.debug(\"Bokeh: all BokehJS libraries/stylesheets loaded\");\n        run_callbacks()\n      }\n    }\n    window._bokeh_on_load = on_load\n\n    function on_error(e) {\n      const src_el = e.srcElement\n      console.error(\"failed to load \" + (src_el.href || src_el.src));\n    }\n\n    const skip = [];\n    if (window.requirejs) {\n      window.requirejs.config({'packages': {}, 'paths': {}, 'shim': {}});\n      root._bokeh_is_loading = css_urls.length + 0;\n    } else {\n      root._bokeh_is_loading = css_urls.length + js_urls.length + js_modules.length + Object.keys(js_exports).length;\n    }\n\n    const existing_stylesheets = []\n    const links = document.getElementsByTagName('link')\n    for (let i = 0; i < links.length; i++) {\n      const link = links[i]\n      if (link.href != null) {\n        existing_stylesheets.push(link.href)\n      }\n    }\n    for (let i = 0; i < css_urls.length; i++) {\n      const url = css_urls[i];\n      const escaped = encodeURI(url)\n      if (existing_stylesheets.indexOf(escaped) !== -1) {\n        on_load()\n        continue;\n      }\n      const element = document.createElement(\"link\");\n      element.onload = on_load;\n      element.onerror = on_error;\n      element.rel = \"stylesheet\";\n      element.type = \"text/css\";\n      element.href = url;\n      console.debug(\"Bokeh: injecting link tag for BokehJS stylesheet: \", url);\n      document.body.appendChild(element);\n    }    var existing_scripts = []\n    const scripts = document.getElementsByTagName('script')\n    for (let i = 0; i < scripts.length; i++) {\n      var script = scripts[i]\n      if (script.src != null) {\n        existing_scripts.push(script.src)\n      }\n    }\n    for (let i = 0; i < js_urls.length; i++) {\n      const url = js_urls[i];\n      const escaped = encodeURI(url)\n      if (skip.indexOf(escaped) !== -1 || existing_scripts.indexOf(escaped) !== -1) {\n        if (!window.requirejs) {\n          on_load();\n        }\n        continue;\n      }\n      const element = document.createElement('script');\n      element.onload = on_load;\n      element.onerror = on_error;\n      element.async = false;\n      element.src = url;\n      console.debug(\"Bokeh: injecting script tag for BokehJS library: \", url);\n      document.head.appendChild(element);\n    }\n    for (let i = 0; i < js_modules.length; i++) {\n      const url = js_modules[i];\n      const escaped = encodeURI(url)\n      if (skip.indexOf(escaped) !== -1 || existing_scripts.indexOf(escaped) !== -1) {\n        if (!window.requirejs) {\n          on_load();\n        }\n        continue;\n      }\n      var element = document.createElement('script');\n      element.onload = on_load;\n      element.onerror = on_error;\n      element.async = false;\n      element.src = url;\n      element.type = \"module\";\n      console.debug(\"Bokeh: injecting script tag for BokehJS library: \", url);\n      document.head.appendChild(element);\n    }\n    for (const name in js_exports) {\n      const url = js_exports[name];\n      const escaped = encodeURI(url)\n      if (skip.indexOf(escaped) >= 0 || root[name] != null) {\n        if (!window.requirejs) {\n          on_load();\n        }\n        continue;\n      }\n      var element = document.createElement('script');\n      element.onerror = on_error;\n      element.async = false;\n      element.type = \"module\";\n      console.debug(\"Bokeh: injecting script tag for BokehJS library: \", url);\n      element.textContent = `\n      import ${name} from \"${url}\"\n      window.${name} = ${name}\n      window._bokeh_on_load()\n      `\n      document.head.appendChild(element);\n    }\n    if (!js_urls.length && !js_modules.length) {\n      on_load()\n    }\n  };\n\n  function inject_raw_css(css) {\n    const element = document.createElement(\"style\");\n    element.appendChild(document.createTextNode(css));\n    document.body.appendChild(element);\n  }\n\n  const js_urls = [\"https://cdn.holoviz.org/panel/1.5.3/dist/bundled/reactiveesm/es-module-shims@^1.10.0/dist/es-module-shims.min.js\", \"https://cdn.bokeh.org/bokeh/release/bokeh-3.6.0.min.js\", \"https://cdn.bokeh.org/bokeh/release/bokeh-gl-3.6.0.min.js\", \"https://cdn.bokeh.org/bokeh/release/bokeh-widgets-3.6.0.min.js\", \"https://cdn.bokeh.org/bokeh/release/bokeh-tables-3.6.0.min.js\", \"https://cdn.holoviz.org/panel/1.5.3/dist/panel.min.js\"];\n  const js_modules = [];\n  const js_exports = {};\n  const css_urls = [];\n  const inline_js = [    function(Bokeh) {\n      Bokeh.set_log_level(\"info\");\n    },\nfunction(Bokeh) {} // ensure no trailing comma for IE\n  ];\n\n  function run_inline_js() {\n    if ((root.Bokeh !== undefined) || (force === true)) {\n      for (let i = 0; i < inline_js.length; i++) {\n        try {\n          inline_js[i].call(root, root.Bokeh);\n        } catch(e) {\n          if (!reloading) {\n            throw e;\n          }\n        }\n      }\n      // Cache old bokeh versions\n      if (Bokeh != undefined && !reloading) {\n        var NewBokeh = root.Bokeh;\n        if (Bokeh.versions === undefined) {\n          Bokeh.versions = new Map();\n        }\n        if (NewBokeh.version !== Bokeh.version) {\n          Bokeh.versions.set(NewBokeh.version, NewBokeh)\n        }\n        root.Bokeh = Bokeh;\n      }\n    } else if (Date.now() < root._bokeh_timeout) {\n      setTimeout(run_inline_js, 100);\n    } else if (!root._bokeh_failed_load) {\n      console.log(\"Bokeh: BokehJS failed to load within specified timeout.\");\n      root._bokeh_failed_load = true;\n    }\n    root._bokeh_is_initializing = false\n  }\n\n  function load_or_wait() {\n    // Implement a backoff loop that tries to ensure we do not load multiple\n    // versions of Bokeh and its dependencies at the same time.\n    // In recent versions we use the root._bokeh_is_initializing flag\n    // to determine whether there is an ongoing attempt to initialize\n    // bokeh, however for backward compatibility we also try to ensure\n    // that we do not start loading a newer (Panel>=1.0 and Bokeh>3) version\n    // before older versions are fully initialized.\n    if (root._bokeh_is_initializing && Date.now() > root._bokeh_timeout) {\n      // If the timeout and bokeh was not successfully loaded we reset\n      // everything and try loading again\n      root._bokeh_timeout = Date.now() + 5000;\n      root._bokeh_is_initializing = false;\n      root._bokeh_onload_callbacks = undefined;\n      root._bokeh_is_loading = 0\n      console.log(\"Bokeh: BokehJS was loaded multiple times but one version failed to initialize.\");\n      load_or_wait();\n    } else if (root._bokeh_is_initializing || (typeof root._bokeh_is_initializing === \"undefined\" && root._bokeh_onload_callbacks !== undefined)) {\n      setTimeout(load_or_wait, 100);\n    } else {\n      root._bokeh_is_initializing = true\n      root._bokeh_onload_callbacks = []\n      const bokeh_loaded = root.Bokeh != null && (root.Bokeh.version === py_version || (root.Bokeh.versions !== undefined && root.Bokeh.versions.has(py_version)));\n      if (!reloading && !bokeh_loaded) {\n        if (root.Bokeh) {\n          root.Bokeh = undefined;\n        }\n        console.debug(\"Bokeh: BokehJS not loaded, scheduling load and callback at\", now());\n      }\n      load_libs(css_urls, js_urls, js_modules, js_exports, function() {\n        console.debug(\"Bokeh: BokehJS plotting callback run at\", now());\n        run_inline_js();\n      });\n    }\n  }\n  // Give older versions of the autoload script a head-start to ensure\n  // they initialize before we start loading newer version.\n  setTimeout(load_or_wait, 100)\n}(window));"
     },
     "metadata": {},
     "output_type": "display_data"
    },
    {
     "data": {
      "application/javascript": [
       "\n",
       "if ((window.PyViz === undefined) || (window.PyViz instanceof HTMLElement)) {\n",
       "  window.PyViz = {comms: {}, comm_status:{}, kernels:{}, receivers: {}, plot_index: []}\n",
       "}\n",
       "\n",
       "\n",
       "    function JupyterCommManager() {\n",
       "    }\n",
       "\n",
       "    JupyterCommManager.prototype.register_target = function(plot_id, comm_id, msg_handler) {\n",
       "      if (window.comm_manager || ((window.Jupyter !== undefined) && (Jupyter.notebook.kernel != null))) {\n",
       "        var comm_manager = window.comm_manager || Jupyter.notebook.kernel.comm_manager;\n",
       "        comm_manager.register_target(comm_id, function(comm) {\n",
       "          comm.on_msg(msg_handler);\n",
       "        });\n",
       "      } else if ((plot_id in window.PyViz.kernels) && (window.PyViz.kernels[plot_id])) {\n",
       "        window.PyViz.kernels[plot_id].registerCommTarget(comm_id, function(comm) {\n",
       "          comm.onMsg = msg_handler;\n",
       "        });\n",
       "      } else if (typeof google != 'undefined' && google.colab.kernel != null) {\n",
       "        google.colab.kernel.comms.registerTarget(comm_id, (comm) => {\n",
       "          var messages = comm.messages[Symbol.asyncIterator]();\n",
       "          function processIteratorResult(result) {\n",
       "            var message = result.value;\n",
       "            console.log(message)\n",
       "            var content = {data: message.data, comm_id};\n",
       "            var buffers = []\n",
       "            for (var buffer of message.buffers || []) {\n",
       "              buffers.push(new DataView(buffer))\n",
       "            }\n",
       "            var metadata = message.metadata || {};\n",
       "            var msg = {content, buffers, metadata}\n",
       "            msg_handler(msg);\n",
       "            return messages.next().then(processIteratorResult);\n",
       "          }\n",
       "          return messages.next().then(processIteratorResult);\n",
       "        })\n",
       "      }\n",
       "    }\n",
       "\n",
       "    JupyterCommManager.prototype.get_client_comm = function(plot_id, comm_id, msg_handler) {\n",
       "      if (comm_id in window.PyViz.comms) {\n",
       "        return window.PyViz.comms[comm_id];\n",
       "      } else if (window.comm_manager || ((window.Jupyter !== undefined) && (Jupyter.notebook.kernel != null))) {\n",
       "        var comm_manager = window.comm_manager || Jupyter.notebook.kernel.comm_manager;\n",
       "        var comm = comm_manager.new_comm(comm_id, {}, {}, {}, comm_id);\n",
       "        if (msg_handler) {\n",
       "          comm.on_msg(msg_handler);\n",
       "        }\n",
       "      } else if ((plot_id in window.PyViz.kernels) && (window.PyViz.kernels[plot_id])) {\n",
       "        var comm = window.PyViz.kernels[plot_id].connectToComm(comm_id);\n",
       "        comm.open();\n",
       "        if (msg_handler) {\n",
       "          comm.onMsg = msg_handler;\n",
       "        }\n",
       "      } else if (typeof google != 'undefined' && google.colab.kernel != null) {\n",
       "        var comm_promise = google.colab.kernel.comms.open(comm_id)\n",
       "        comm_promise.then((comm) => {\n",
       "          window.PyViz.comms[comm_id] = comm;\n",
       "          if (msg_handler) {\n",
       "            var messages = comm.messages[Symbol.asyncIterator]();\n",
       "            function processIteratorResult(result) {\n",
       "              var message = result.value;\n",
       "              var content = {data: message.data};\n",
       "              var metadata = message.metadata || {comm_id};\n",
       "              var msg = {content, metadata}\n",
       "              msg_handler(msg);\n",
       "              return messages.next().then(processIteratorResult);\n",
       "            }\n",
       "            return messages.next().then(processIteratorResult);\n",
       "          }\n",
       "        }) \n",
       "        var sendClosure = (data, metadata, buffers, disposeOnDone) => {\n",
       "          return comm_promise.then((comm) => {\n",
       "            comm.send(data, metadata, buffers, disposeOnDone);\n",
       "          });\n",
       "        };\n",
       "        var comm = {\n",
       "          send: sendClosure\n",
       "        };\n",
       "      }\n",
       "      window.PyViz.comms[comm_id] = comm;\n",
       "      return comm;\n",
       "    }\n",
       "    window.PyViz.comm_manager = new JupyterCommManager();\n",
       "    \n",
       "\n",
       "\n",
       "var JS_MIME_TYPE = 'application/javascript';\n",
       "var HTML_MIME_TYPE = 'text/html';\n",
       "var EXEC_MIME_TYPE = 'application/vnd.holoviews_exec.v0+json';\n",
       "var CLASS_NAME = 'output';\n",
       "\n",
       "/**\n",
       " * Render data to the DOM node\n",
       " */\n",
       "function render(props, node) {\n",
       "  var div = document.createElement(\"div\");\n",
       "  var script = document.createElement(\"script\");\n",
       "  node.appendChild(div);\n",
       "  node.appendChild(script);\n",
       "}\n",
       "\n",
       "/**\n",
       " * Handle when a new output is added\n",
       " */\n",
       "function handle_add_output(event, handle) {\n",
       "  var output_area = handle.output_area;\n",
       "  var output = handle.output;\n",
       "  if ((output.data == undefined) || (!output.data.hasOwnProperty(EXEC_MIME_TYPE))) {\n",
       "    return\n",
       "  }\n",
       "  var id = output.metadata[EXEC_MIME_TYPE][\"id\"];\n",
       "  var toinsert = output_area.element.find(\".\" + CLASS_NAME.split(' ')[0]);\n",
       "  if (id !== undefined) {\n",
       "    var nchildren = toinsert.length;\n",
       "    var html_node = toinsert[nchildren-1].children[0];\n",
       "    html_node.innerHTML = output.data[HTML_MIME_TYPE];\n",
       "    var scripts = [];\n",
       "    var nodelist = html_node.querySelectorAll(\"script\");\n",
       "    for (var i in nodelist) {\n",
       "      if (nodelist.hasOwnProperty(i)) {\n",
       "        scripts.push(nodelist[i])\n",
       "      }\n",
       "    }\n",
       "\n",
       "    scripts.forEach( function (oldScript) {\n",
       "      var newScript = document.createElement(\"script\");\n",
       "      var attrs = [];\n",
       "      var nodemap = oldScript.attributes;\n",
       "      for (var j in nodemap) {\n",
       "        if (nodemap.hasOwnProperty(j)) {\n",
       "          attrs.push(nodemap[j])\n",
       "        }\n",
       "      }\n",
       "      attrs.forEach(function(attr) { newScript.setAttribute(attr.name, attr.value) });\n",
       "      newScript.appendChild(document.createTextNode(oldScript.innerHTML));\n",
       "      oldScript.parentNode.replaceChild(newScript, oldScript);\n",
       "    });\n",
       "    if (JS_MIME_TYPE in output.data) {\n",
       "      toinsert[nchildren-1].children[1].textContent = output.data[JS_MIME_TYPE];\n",
       "    }\n",
       "    output_area._hv_plot_id = id;\n",
       "    if ((window.Bokeh !== undefined) && (id in Bokeh.index)) {\n",
       "      window.PyViz.plot_index[id] = Bokeh.index[id];\n",
       "    } else {\n",
       "      window.PyViz.plot_index[id] = null;\n",
       "    }\n",
       "  } else if (output.metadata[EXEC_MIME_TYPE][\"server_id\"] !== undefined) {\n",
       "    var bk_div = document.createElement(\"div\");\n",
       "    bk_div.innerHTML = output.data[HTML_MIME_TYPE];\n",
       "    var script_attrs = bk_div.children[0].attributes;\n",
       "    for (var i = 0; i < script_attrs.length; i++) {\n",
       "      toinsert[toinsert.length - 1].childNodes[1].setAttribute(script_attrs[i].name, script_attrs[i].value);\n",
       "    }\n",
       "    // store reference to server id on output_area\n",
       "    output_area._bokeh_server_id = output.metadata[EXEC_MIME_TYPE][\"server_id\"];\n",
       "  }\n",
       "}\n",
       "\n",
       "/**\n",
       " * Handle when an output is cleared or removed\n",
       " */\n",
       "function handle_clear_output(event, handle) {\n",
       "  var id = handle.cell.output_area._hv_plot_id;\n",
       "  var server_id = handle.cell.output_area._bokeh_server_id;\n",
       "  if (((id === undefined) || !(id in PyViz.plot_index)) && (server_id !== undefined)) { return; }\n",
       "  var comm = window.PyViz.comm_manager.get_client_comm(\"hv-extension-comm\", \"hv-extension-comm\", function () {});\n",
       "  if (server_id !== null) {\n",
       "    comm.send({event_type: 'server_delete', 'id': server_id});\n",
       "    return;\n",
       "  } else if (comm !== null) {\n",
       "    comm.send({event_type: 'delete', 'id': id});\n",
       "  }\n",
       "  delete PyViz.plot_index[id];\n",
       "  if ((window.Bokeh !== undefined) & (id in window.Bokeh.index)) {\n",
       "    var doc = window.Bokeh.index[id].model.document\n",
       "    doc.clear();\n",
       "    const i = window.Bokeh.documents.indexOf(doc);\n",
       "    if (i > -1) {\n",
       "      window.Bokeh.documents.splice(i, 1);\n",
       "    }\n",
       "  }\n",
       "}\n",
       "\n",
       "/**\n",
       " * Handle kernel restart event\n",
       " */\n",
       "function handle_kernel_cleanup(event, handle) {\n",
       "  delete PyViz.comms[\"hv-extension-comm\"];\n",
       "  window.PyViz.plot_index = {}\n",
       "}\n",
       "\n",
       "/**\n",
       " * Handle update_display_data messages\n",
       " */\n",
       "function handle_update_output(event, handle) {\n",
       "  handle_clear_output(event, {cell: {output_area: handle.output_area}})\n",
       "  handle_add_output(event, handle)\n",
       "}\n",
       "\n",
       "function register_renderer(events, OutputArea) {\n",
       "  function append_mime(data, metadata, element) {\n",
       "    // create a DOM node to render to\n",
       "    var toinsert = this.create_output_subarea(\n",
       "    metadata,\n",
       "    CLASS_NAME,\n",
       "    EXEC_MIME_TYPE\n",
       "    );\n",
       "    this.keyboard_manager.register_events(toinsert);\n",
       "    // Render to node\n",
       "    var props = {data: data, metadata: metadata[EXEC_MIME_TYPE]};\n",
       "    render(props, toinsert[0]);\n",
       "    element.append(toinsert);\n",
       "    return toinsert\n",
       "  }\n",
       "\n",
       "  events.on('output_added.OutputArea', handle_add_output);\n",
       "  events.on('output_updated.OutputArea', handle_update_output);\n",
       "  events.on('clear_output.CodeCell', handle_clear_output);\n",
       "  events.on('delete.Cell', handle_clear_output);\n",
       "  events.on('kernel_ready.Kernel', handle_kernel_cleanup);\n",
       "\n",
       "  OutputArea.prototype.register_mime_type(EXEC_MIME_TYPE, append_mime, {\n",
       "    safe: true,\n",
       "    index: 0\n",
       "  });\n",
       "}\n",
       "\n",
       "if (window.Jupyter !== undefined) {\n",
       "  try {\n",
       "    var events = require('base/js/events');\n",
       "    var OutputArea = require('notebook/js/outputarea').OutputArea;\n",
       "    if (OutputArea.prototype.mime_types().indexOf(EXEC_MIME_TYPE) == -1) {\n",
       "      register_renderer(events, OutputArea);\n",
       "    }\n",
       "  } catch(err) {\n",
       "  }\n",
       "}\n"
      ],
      "application/vnd.holoviews_load.v0+json": "\nif ((window.PyViz === undefined) || (window.PyViz instanceof HTMLElement)) {\n  window.PyViz = {comms: {}, comm_status:{}, kernels:{}, receivers: {}, plot_index: []}\n}\n\n\n    function JupyterCommManager() {\n    }\n\n    JupyterCommManager.prototype.register_target = function(plot_id, comm_id, msg_handler) {\n      if (window.comm_manager || ((window.Jupyter !== undefined) && (Jupyter.notebook.kernel != null))) {\n        var comm_manager = window.comm_manager || Jupyter.notebook.kernel.comm_manager;\n        comm_manager.register_target(comm_id, function(comm) {\n          comm.on_msg(msg_handler);\n        });\n      } else if ((plot_id in window.PyViz.kernels) && (window.PyViz.kernels[plot_id])) {\n        window.PyViz.kernels[plot_id].registerCommTarget(comm_id, function(comm) {\n          comm.onMsg = msg_handler;\n        });\n      } else if (typeof google != 'undefined' && google.colab.kernel != null) {\n        google.colab.kernel.comms.registerTarget(comm_id, (comm) => {\n          var messages = comm.messages[Symbol.asyncIterator]();\n          function processIteratorResult(result) {\n            var message = result.value;\n            console.log(message)\n            var content = {data: message.data, comm_id};\n            var buffers = []\n            for (var buffer of message.buffers || []) {\n              buffers.push(new DataView(buffer))\n            }\n            var metadata = message.metadata || {};\n            var msg = {content, buffers, metadata}\n            msg_handler(msg);\n            return messages.next().then(processIteratorResult);\n          }\n          return messages.next().then(processIteratorResult);\n        })\n      }\n    }\n\n    JupyterCommManager.prototype.get_client_comm = function(plot_id, comm_id, msg_handler) {\n      if (comm_id in window.PyViz.comms) {\n        return window.PyViz.comms[comm_id];\n      } else if (window.comm_manager || ((window.Jupyter !== undefined) && (Jupyter.notebook.kernel != null))) {\n        var comm_manager = window.comm_manager || Jupyter.notebook.kernel.comm_manager;\n        var comm = comm_manager.new_comm(comm_id, {}, {}, {}, comm_id);\n        if (msg_handler) {\n          comm.on_msg(msg_handler);\n        }\n      } else if ((plot_id in window.PyViz.kernels) && (window.PyViz.kernels[plot_id])) {\n        var comm = window.PyViz.kernels[plot_id].connectToComm(comm_id);\n        comm.open();\n        if (msg_handler) {\n          comm.onMsg = msg_handler;\n        }\n      } else if (typeof google != 'undefined' && google.colab.kernel != null) {\n        var comm_promise = google.colab.kernel.comms.open(comm_id)\n        comm_promise.then((comm) => {\n          window.PyViz.comms[comm_id] = comm;\n          if (msg_handler) {\n            var messages = comm.messages[Symbol.asyncIterator]();\n            function processIteratorResult(result) {\n              var message = result.value;\n              var content = {data: message.data};\n              var metadata = message.metadata || {comm_id};\n              var msg = {content, metadata}\n              msg_handler(msg);\n              return messages.next().then(processIteratorResult);\n            }\n            return messages.next().then(processIteratorResult);\n          }\n        }) \n        var sendClosure = (data, metadata, buffers, disposeOnDone) => {\n          return comm_promise.then((comm) => {\n            comm.send(data, metadata, buffers, disposeOnDone);\n          });\n        };\n        var comm = {\n          send: sendClosure\n        };\n      }\n      window.PyViz.comms[comm_id] = comm;\n      return comm;\n    }\n    window.PyViz.comm_manager = new JupyterCommManager();\n    \n\n\nvar JS_MIME_TYPE = 'application/javascript';\nvar HTML_MIME_TYPE = 'text/html';\nvar EXEC_MIME_TYPE = 'application/vnd.holoviews_exec.v0+json';\nvar CLASS_NAME = 'output';\n\n/**\n * Render data to the DOM node\n */\nfunction render(props, node) {\n  var div = document.createElement(\"div\");\n  var script = document.createElement(\"script\");\n  node.appendChild(div);\n  node.appendChild(script);\n}\n\n/**\n * Handle when a new output is added\n */\nfunction handle_add_output(event, handle) {\n  var output_area = handle.output_area;\n  var output = handle.output;\n  if ((output.data == undefined) || (!output.data.hasOwnProperty(EXEC_MIME_TYPE))) {\n    return\n  }\n  var id = output.metadata[EXEC_MIME_TYPE][\"id\"];\n  var toinsert = output_area.element.find(\".\" + CLASS_NAME.split(' ')[0]);\n  if (id !== undefined) {\n    var nchildren = toinsert.length;\n    var html_node = toinsert[nchildren-1].children[0];\n    html_node.innerHTML = output.data[HTML_MIME_TYPE];\n    var scripts = [];\n    var nodelist = html_node.querySelectorAll(\"script\");\n    for (var i in nodelist) {\n      if (nodelist.hasOwnProperty(i)) {\n        scripts.push(nodelist[i])\n      }\n    }\n\n    scripts.forEach( function (oldScript) {\n      var newScript = document.createElement(\"script\");\n      var attrs = [];\n      var nodemap = oldScript.attributes;\n      for (var j in nodemap) {\n        if (nodemap.hasOwnProperty(j)) {\n          attrs.push(nodemap[j])\n        }\n      }\n      attrs.forEach(function(attr) { newScript.setAttribute(attr.name, attr.value) });\n      newScript.appendChild(document.createTextNode(oldScript.innerHTML));\n      oldScript.parentNode.replaceChild(newScript, oldScript);\n    });\n    if (JS_MIME_TYPE in output.data) {\n      toinsert[nchildren-1].children[1].textContent = output.data[JS_MIME_TYPE];\n    }\n    output_area._hv_plot_id = id;\n    if ((window.Bokeh !== undefined) && (id in Bokeh.index)) {\n      window.PyViz.plot_index[id] = Bokeh.index[id];\n    } else {\n      window.PyViz.plot_index[id] = null;\n    }\n  } else if (output.metadata[EXEC_MIME_TYPE][\"server_id\"] !== undefined) {\n    var bk_div = document.createElement(\"div\");\n    bk_div.innerHTML = output.data[HTML_MIME_TYPE];\n    var script_attrs = bk_div.children[0].attributes;\n    for (var i = 0; i < script_attrs.length; i++) {\n      toinsert[toinsert.length - 1].childNodes[1].setAttribute(script_attrs[i].name, script_attrs[i].value);\n    }\n    // store reference to server id on output_area\n    output_area._bokeh_server_id = output.metadata[EXEC_MIME_TYPE][\"server_id\"];\n  }\n}\n\n/**\n * Handle when an output is cleared or removed\n */\nfunction handle_clear_output(event, handle) {\n  var id = handle.cell.output_area._hv_plot_id;\n  var server_id = handle.cell.output_area._bokeh_server_id;\n  if (((id === undefined) || !(id in PyViz.plot_index)) && (server_id !== undefined)) { return; }\n  var comm = window.PyViz.comm_manager.get_client_comm(\"hv-extension-comm\", \"hv-extension-comm\", function () {});\n  if (server_id !== null) {\n    comm.send({event_type: 'server_delete', 'id': server_id});\n    return;\n  } else if (comm !== null) {\n    comm.send({event_type: 'delete', 'id': id});\n  }\n  delete PyViz.plot_index[id];\n  if ((window.Bokeh !== undefined) & (id in window.Bokeh.index)) {\n    var doc = window.Bokeh.index[id].model.document\n    doc.clear();\n    const i = window.Bokeh.documents.indexOf(doc);\n    if (i > -1) {\n      window.Bokeh.documents.splice(i, 1);\n    }\n  }\n}\n\n/**\n * Handle kernel restart event\n */\nfunction handle_kernel_cleanup(event, handle) {\n  delete PyViz.comms[\"hv-extension-comm\"];\n  window.PyViz.plot_index = {}\n}\n\n/**\n * Handle update_display_data messages\n */\nfunction handle_update_output(event, handle) {\n  handle_clear_output(event, {cell: {output_area: handle.output_area}})\n  handle_add_output(event, handle)\n}\n\nfunction register_renderer(events, OutputArea) {\n  function append_mime(data, metadata, element) {\n    // create a DOM node to render to\n    var toinsert = this.create_output_subarea(\n    metadata,\n    CLASS_NAME,\n    EXEC_MIME_TYPE\n    );\n    this.keyboard_manager.register_events(toinsert);\n    // Render to node\n    var props = {data: data, metadata: metadata[EXEC_MIME_TYPE]};\n    render(props, toinsert[0]);\n    element.append(toinsert);\n    return toinsert\n  }\n\n  events.on('output_added.OutputArea', handle_add_output);\n  events.on('output_updated.OutputArea', handle_update_output);\n  events.on('clear_output.CodeCell', handle_clear_output);\n  events.on('delete.Cell', handle_clear_output);\n  events.on('kernel_ready.Kernel', handle_kernel_cleanup);\n\n  OutputArea.prototype.register_mime_type(EXEC_MIME_TYPE, append_mime, {\n    safe: true,\n    index: 0\n  });\n}\n\nif (window.Jupyter !== undefined) {\n  try {\n    var events = require('base/js/events');\n    var OutputArea = require('notebook/js/outputarea').OutputArea;\n    if (OutputArea.prototype.mime_types().indexOf(EXEC_MIME_TYPE) == -1) {\n      register_renderer(events, OutputArea);\n    }\n  } catch(err) {\n  }\n}\n"
     },
     "metadata": {},
     "output_type": "display_data"
    },
    {
     "data": {
      "application/vnd.holoviews_exec.v0+json": "",
      "text/html": [
       "<div id='p1004'>\n",
       "  <div id=\"fa77a82b-861d-46b0-b3e5-ee4fa1915777\" data-root-id=\"p1004\" style=\"display: contents;\"></div>\n",
       "</div>\n",
       "<script type=\"application/javascript\">(function(root) {\n",
       "  var docs_json = {\"31c0f850-0bbc-49ad-86f9-cc8bf9a53eed\":{\"version\":\"3.6.0\",\"title\":\"Bokeh Application\",\"roots\":[{\"type\":\"object\",\"name\":\"panel.models.browser.BrowserInfo\",\"id\":\"p1004\"},{\"type\":\"object\",\"name\":\"panel.models.comm_manager.CommManager\",\"id\":\"p1005\",\"attributes\":{\"plot_id\":\"p1004\",\"comm_id\":\"1eaa58d612bb45d1a25a89e56a58037e\",\"client_comm_id\":\"d54fad2a5c3a4379b18cb81f925f20e3\"}}],\"defs\":[{\"type\":\"model\",\"name\":\"ReactiveHTML1\"},{\"type\":\"model\",\"name\":\"FlexBox1\",\"properties\":[{\"name\":\"align_content\",\"kind\":\"Any\",\"default\":\"flex-start\"},{\"name\":\"align_items\",\"kind\":\"Any\",\"default\":\"flex-start\"},{\"name\":\"flex_direction\",\"kind\":\"Any\",\"default\":\"row\"},{\"name\":\"flex_wrap\",\"kind\":\"Any\",\"default\":\"wrap\"},{\"name\":\"gap\",\"kind\":\"Any\",\"default\":\"\"},{\"name\":\"justify_content\",\"kind\":\"Any\",\"default\":\"flex-start\"}]},{\"type\":\"model\",\"name\":\"FloatPanel1\",\"properties\":[{\"name\":\"config\",\"kind\":\"Any\",\"default\":{\"type\":\"map\"}},{\"name\":\"contained\",\"kind\":\"Any\",\"default\":true},{\"name\":\"position\",\"kind\":\"Any\",\"default\":\"right-top\"},{\"name\":\"offsetx\",\"kind\":\"Any\",\"default\":null},{\"name\":\"offsety\",\"kind\":\"Any\",\"default\":null},{\"name\":\"theme\",\"kind\":\"Any\",\"default\":\"primary\"},{\"name\":\"status\",\"kind\":\"Any\",\"default\":\"normalized\"}]},{\"type\":\"model\",\"name\":\"GridStack1\",\"properties\":[{\"name\":\"mode\",\"kind\":\"Any\",\"default\":\"warn\"},{\"name\":\"ncols\",\"kind\":\"Any\",\"default\":null},{\"name\":\"nrows\",\"kind\":\"Any\",\"default\":null},{\"name\":\"allow_resize\",\"kind\":\"Any\",\"default\":true},{\"name\":\"allow_drag\",\"kind\":\"Any\",\"default\":true},{\"name\":\"state\",\"kind\":\"Any\",\"default\":[]}]},{\"type\":\"model\",\"name\":\"drag1\",\"properties\":[{\"name\":\"slider_width\",\"kind\":\"Any\",\"default\":5},{\"name\":\"slider_color\",\"kind\":\"Any\",\"default\":\"black\"},{\"name\":\"value\",\"kind\":\"Any\",\"default\":50}]},{\"type\":\"model\",\"name\":\"click1\",\"properties\":[{\"name\":\"terminal_output\",\"kind\":\"Any\",\"default\":\"\"},{\"name\":\"debug_name\",\"kind\":\"Any\",\"default\":\"\"},{\"name\":\"clears\",\"kind\":\"Any\",\"default\":0}]},{\"type\":\"model\",\"name\":\"FastWrapper1\",\"properties\":[{\"name\":\"object\",\"kind\":\"Any\",\"default\":null},{\"name\":\"style\",\"kind\":\"Any\",\"default\":null}]},{\"type\":\"model\",\"name\":\"NotificationAreaBase1\",\"properties\":[{\"name\":\"js_events\",\"kind\":\"Any\",\"default\":{\"type\":\"map\"}},{\"name\":\"position\",\"kind\":\"Any\",\"default\":\"bottom-right\"},{\"name\":\"_clear\",\"kind\":\"Any\",\"default\":0}]},{\"type\":\"model\",\"name\":\"NotificationArea1\",\"properties\":[{\"name\":\"js_events\",\"kind\":\"Any\",\"default\":{\"type\":\"map\"}},{\"name\":\"notifications\",\"kind\":\"Any\",\"default\":[]},{\"name\":\"position\",\"kind\":\"Any\",\"default\":\"bottom-right\"},{\"name\":\"_clear\",\"kind\":\"Any\",\"default\":0},{\"name\":\"types\",\"kind\":\"Any\",\"default\":[{\"type\":\"map\",\"entries\":[[\"type\",\"warning\"],[\"background\",\"#ffc107\"],[\"icon\",{\"type\":\"map\",\"entries\":[[\"className\",\"fas fa-exclamation-triangle\"],[\"tagName\",\"i\"],[\"color\",\"white\"]]}]]},{\"type\":\"map\",\"entries\":[[\"type\",\"info\"],[\"background\",\"#007bff\"],[\"icon\",{\"type\":\"map\",\"entries\":[[\"className\",\"fas fa-info-circle\"],[\"tagName\",\"i\"],[\"color\",\"white\"]]}]]}]}]},{\"type\":\"model\",\"name\":\"Notification\",\"properties\":[{\"name\":\"background\",\"kind\":\"Any\",\"default\":null},{\"name\":\"duration\",\"kind\":\"Any\",\"default\":3000},{\"name\":\"icon\",\"kind\":\"Any\",\"default\":null},{\"name\":\"message\",\"kind\":\"Any\",\"default\":\"\"},{\"name\":\"notification_type\",\"kind\":\"Any\",\"default\":null},{\"name\":\"_destroyed\",\"kind\":\"Any\",\"default\":false}]},{\"type\":\"model\",\"name\":\"TemplateActions1\",\"properties\":[{\"name\":\"open_modal\",\"kind\":\"Any\",\"default\":0},{\"name\":\"close_modal\",\"kind\":\"Any\",\"default\":0}]},{\"type\":\"model\",\"name\":\"BootstrapTemplateActions1\",\"properties\":[{\"name\":\"open_modal\",\"kind\":\"Any\",\"default\":0},{\"name\":\"close_modal\",\"kind\":\"Any\",\"default\":0}]},{\"type\":\"model\",\"name\":\"TemplateEditor1\",\"properties\":[{\"name\":\"layout\",\"kind\":\"Any\",\"default\":[]}]},{\"type\":\"model\",\"name\":\"MaterialTemplateActions1\",\"properties\":[{\"name\":\"open_modal\",\"kind\":\"Any\",\"default\":0},{\"name\":\"close_modal\",\"kind\":\"Any\",\"default\":0}]},{\"type\":\"model\",\"name\":\"ReactiveESM1\"},{\"type\":\"model\",\"name\":\"JSComponent1\"},{\"type\":\"model\",\"name\":\"ReactComponent1\"},{\"type\":\"model\",\"name\":\"AnyWidgetComponent1\"},{\"type\":\"model\",\"name\":\"request_value1\",\"properties\":[{\"name\":\"fill\",\"kind\":\"Any\",\"default\":\"none\"},{\"name\":\"_synced\",\"kind\":\"Any\",\"default\":null},{\"name\":\"_request_sync\",\"kind\":\"Any\",\"default\":0}]}]}};\n",
       "  var render_items = [{\"docid\":\"31c0f850-0bbc-49ad-86f9-cc8bf9a53eed\",\"roots\":{\"p1004\":\"fa77a82b-861d-46b0-b3e5-ee4fa1915777\"},\"root_ids\":[\"p1004\"]}];\n",
       "  var docs = Object.values(docs_json)\n",
       "  if (!docs) {\n",
       "    return\n",
       "  }\n",
       "  const py_version = docs[0].version.replace('rc', '-rc.').replace('.dev', '-dev.')\n",
       "  async function embed_document(root) {\n",
       "    var Bokeh = get_bokeh(root)\n",
       "    await Bokeh.embed.embed_items_notebook(docs_json, render_items);\n",
       "    for (const render_item of render_items) {\n",
       "      for (const root_id of render_item.root_ids) {\n",
       "\tconst id_el = document.getElementById(root_id)\n",
       "\tif (id_el.children.length && id_el.children[0].hasAttribute('data-root-id')) {\n",
       "\t  const root_el = id_el.children[0]\n",
       "\t  root_el.id = root_el.id + '-rendered'\n",
       "\t  for (const child of root_el.children) {\n",
       "            // Ensure JupyterLab does not capture keyboard shortcuts\n",
       "            // see: https://jupyterlab.readthedocs.io/en/4.1.x/extension/notebook.html#keyboard-interaction-model\n",
       "\t    child.setAttribute('data-lm-suppress-shortcuts', 'true')\n",
       "\t  }\n",
       "\t}\n",
       "      }\n",
       "    }\n",
       "  }\n",
       "  function get_bokeh(root) {\n",
       "    if (root.Bokeh === undefined) {\n",
       "      return null\n",
       "    } else if (root.Bokeh.version !== py_version) {\n",
       "      if (root.Bokeh.versions === undefined || !root.Bokeh.versions.has(py_version)) {\n",
       "\treturn null\n",
       "      }\n",
       "      return root.Bokeh.versions.get(py_version);\n",
       "    } else if (root.Bokeh.version === py_version) {\n",
       "      return root.Bokeh\n",
       "    }\n",
       "    return null\n",
       "  }\n",
       "  function is_loaded(root) {\n",
       "    var Bokeh = get_bokeh(root)\n",
       "    return (Bokeh != null && Bokeh.Panel !== undefined)\n",
       "  }\n",
       "  if (is_loaded(root)) {\n",
       "    embed_document(root);\n",
       "  } else {\n",
       "    var attempts = 0;\n",
       "    var timer = setInterval(function(root) {\n",
       "      if (is_loaded(root)) {\n",
       "        clearInterval(timer);\n",
       "        embed_document(root);\n",
       "      } else if (document.readyState == \"complete\") {\n",
       "        attempts++;\n",
       "        if (attempts > 200) {\n",
       "          clearInterval(timer);\n",
       "\t  var Bokeh = get_bokeh(root)\n",
       "\t  if (Bokeh == null || Bokeh.Panel == null) {\n",
       "            console.warn(\"Panel: ERROR: Unable to run Panel code because Bokeh or Panel library is missing\");\n",
       "\t  } else {\n",
       "\t    console.warn(\"Panel: WARNING: Attempting to render but not all required libraries could be resolved.\")\n",
       "\t    embed_document(root)\n",
       "\t  }\n",
       "        }\n",
       "      }\n",
       "    }, 25, root)\n",
       "  }\n",
       "})(window);</script>"
      ]
     },
     "metadata": {
      "application/vnd.holoviews_exec.v0+json": {
       "id": "p1004"
      }
     },
     "output_type": "display_data"
    }
   ],
   "source": [
    "from datetime import datetime, timezone\n",
    "from pathlib import Path\n",
    "\n",
    "import hvplot.polars\n",
    "import polars as pl"
   ]
  },
  {
   "cell_type": "code",
   "execution_count": 5,
   "id": "f046bbbb-0787-44a8-abbf-2b394ec5e92d",
   "metadata": {},
   "outputs": [],
   "source": [
    "RETURN_LIMIT = 28"
   ]
  },
  {
   "cell_type": "markdown",
   "id": "303d6ace-dd8d-4097-8f66-38aea8875963",
   "metadata": {},
   "source": [
    "### Paths and tables\n",
    "\n",
    "Defines paths and load tables showcasing some data points."
   ]
  },
  {
   "cell_type": "code",
   "execution_count": 6,
   "id": "65549e03-d126-4042-9e5e-68f7a9e4bdd4",
   "metadata": {},
   "outputs": [],
   "source": [
    "ROOT_PATH = Path(__name__).absolute().parent.parent\n",
    "DATA_PATH = ROOT_PATH / \"data\"\n",
    "\n",
    "TABLE_PATH = DATA_PATH / \"storage\" / \"silver\""
   ]
  },
  {
   "cell_type": "markdown",
   "id": "2aa64b3a-609d-43d6-8414-d15b68c9189e",
   "metadata": {},
   "source": [
    "The available datasets are small, so we can load them into memory with the `read_parquet` function. If circumstances were different, we would use `LazyFrame` with lazy evaluation (with better optimizations for operations down the road).\n",
    "\n",
    "Data is loaded from the \"silver\" layer or the layer that has clean data ready for the analysis. "
   ]
  },
  {
   "cell_type": "markdown",
   "id": "64f7bce4-7e2f-4f92-b5af-08ffa6924495",
   "metadata": {},
   "source": [
    "### Books table"
   ]
  },
  {
   "cell_type": "code",
   "execution_count": 7,
   "id": "bddf7142-d04b-46d8-998c-d75beb5952c6",
   "metadata": {},
   "outputs": [
    {
     "data": {
      "text/html": [
       "<div><style>\n",
       ".dataframe > thead > tr,\n",
       ".dataframe > tbody > tr {\n",
       "  text-align: right;\n",
       "  white-space: pre-wrap;\n",
       "}\n",
       "</style>\n",
       "<small>shape: (1, 9)</small><table border=\"1\" class=\"dataframe\"><thead><tr><th>id</th><th>title</th><th>authors</th><th>publisher</th><th>published_date</th><th>categories</th><th>price</th><th>pages</th><th>published_year</th></tr><tr><td>str</td><td>str</td><td>list[str]</td><td>str</td><td>str</td><td>list[str]</td><td>f32</td><td>i32</td><td>i32</td></tr></thead><tbody><tr><td>&quot;oObQOTJbpuoC&quot;</td><td>&quot;Web Advertising&quot;</td><td>[&quot;Anja Janoschka&quot;]</td><td>&quot;John Benjamins Publishing&quot;</td><td>&quot;2004-01-01&quot;</td><td>[&quot;Language Arts &amp; Disciplines&quot;]</td><td>330.0</td><td>635</td><td>2004</td></tr></tbody></table></div>"
      ],
      "text/plain": [
       "shape: (1, 9)\n",
       "┌─────────────┬────────────┬────────────┬────────────┬───┬────────────┬───────┬───────┬────────────┐\n",
       "│ id          ┆ title      ┆ authors    ┆ publisher  ┆ … ┆ categories ┆ price ┆ pages ┆ published_ │\n",
       "│ ---         ┆ ---        ┆ ---        ┆ ---        ┆   ┆ ---        ┆ ---   ┆ ---   ┆ year       │\n",
       "│ str         ┆ str        ┆ list[str]  ┆ str        ┆   ┆ list[str]  ┆ f32   ┆ i32   ┆ ---        │\n",
       "│             ┆            ┆            ┆            ┆   ┆            ┆       ┆       ┆ i32        │\n",
       "╞═════════════╪════════════╪════════════╪════════════╪═══╪════════════╪═══════╪═══════╪════════════╡\n",
       "│ oObQOTJbpuo ┆ Web Advert ┆ [\"Anja Jan ┆ John       ┆ … ┆ [\"Language ┆ 330.0 ┆ 635   ┆ 2004       │\n",
       "│ C           ┆ ising      ┆ oschka\"]   ┆ Benjamins  ┆   ┆ Arts & Dis ┆       ┆       ┆            │\n",
       "│             ┆            ┆            ┆ Publishing ┆   ┆ ciplines\"… ┆       ┆       ┆            │\n",
       "└─────────────┴────────────┴────────────┴────────────┴───┴────────────┴───────┴───────┴────────────┘"
      ]
     },
     "execution_count": 7,
     "metadata": {},
     "output_type": "execute_result"
    }
   ],
   "source": [
    "# books\n",
    "\n",
    "books_path = TABLE_PATH / \"books.parquet\"\n",
    "books_df = pl.read_parquet(source=books_path)\n",
    "\n",
    "books_df.head(1)"
   ]
  },
  {
   "cell_type": "code",
   "execution_count": 55,
   "id": "e7f0eaac-dd7a-47e1-885b-c79e05772b7f",
   "metadata": {},
   "outputs": [
    {
     "name": "stdout",
     "output_type": "stream",
     "text": [
      "Nulls in books columns:\n",
      "\n",
      "{'id': 0, 'title': 0, 'authors': 73, 'publisher': 146, 'published_date': 2, 'categories': 51, 'price': 2, 'pages': 0, 'published_year': 2}\n"
     ]
    }
   ],
   "source": [
    "print(\"Nulls in books columns:\\n\")\n",
    "\n",
    "book_nulls = books_df.select(pl.all().is_null().sum()).to_dicts()[0]\n",
    "print(book_nulls)"
   ]
  },
  {
   "cell_type": "markdown",
   "id": "c6cf2455-44c0-416f-a160-2647cc64d01d",
   "metadata": {},
   "source": [
    "### Customers table"
   ]
  },
  {
   "cell_type": "code",
   "execution_count": 8,
   "id": "c552dfee-452d-4f5c-acd0-b38f7621cf82",
   "metadata": {},
   "outputs": [
    {
     "data": {
      "text/html": [
       "<div><style>\n",
       ".dataframe > thead > tr,\n",
       ".dataframe > tbody > tr {\n",
       "  text-align: right;\n",
       "  white-space: pre-wrap;\n",
       "}\n",
       "</style>\n",
       "<small>shape: (1, 10)</small><table border=\"1\" class=\"dataframe\"><thead><tr><th>id</th><th>name</th><th>street_address</th><th>city</th><th>state</th><th>zipcode</th><th>birth_date</th><th>gender</th><th>education</th><th>occupation</th></tr><tr><td>str</td><td>str</td><td>str</td><td>str</td><td>str</td><td>i32</td><td>date</td><td>str</td><td>str</td><td>str</td></tr></thead><tbody><tr><td>&quot;d2abc05522a952c66ab06080f47433…</td><td>&quot;Ruth Coburn&quot;</td><td>&quot;233 Ne 125th Ave&quot;</td><td>&quot;Portland&quot;</td><td>&quot;Oregon&quot;</td><td>97230</td><td>1965-01-12</td><td>&quot;female&quot;</td><td>&quot;College&quot;</td><td>&quot;Sales&quot;</td></tr></tbody></table></div>"
      ],
      "text/plain": [
       "shape: (1, 10)\n",
       "┌─────────────┬────────┬─────────────┬──────────┬───┬────────────┬────────┬───────────┬────────────┐\n",
       "│ id          ┆ name   ┆ street_addr ┆ city     ┆ … ┆ birth_date ┆ gender ┆ education ┆ occupation │\n",
       "│ ---         ┆ ---    ┆ ess         ┆ ---      ┆   ┆ ---        ┆ ---    ┆ ---       ┆ ---        │\n",
       "│ str         ┆ str    ┆ ---         ┆ str      ┆   ┆ date       ┆ str    ┆ str       ┆ str        │\n",
       "│             ┆        ┆ str         ┆          ┆   ┆            ┆        ┆           ┆            │\n",
       "╞═════════════╪════════╪═════════════╪══════════╪═══╪════════════╪════════╪═══════════╪════════════╡\n",
       "│ d2abc05522a ┆ Ruth   ┆ 233 Ne      ┆ Portland ┆ … ┆ 1965-01-12 ┆ female ┆ College   ┆ Sales      │\n",
       "│ 952c66ab060 ┆ Coburn ┆ 125th Ave   ┆          ┆   ┆            ┆        ┆           ┆            │\n",
       "│ 80f47433…   ┆        ┆             ┆          ┆   ┆            ┆        ┆           ┆            │\n",
       "└─────────────┴────────┴─────────────┴──────────┴───┴────────────┴────────┴───────────┴────────────┘"
      ]
     },
     "execution_count": 8,
     "metadata": {},
     "output_type": "execute_result"
    }
   ],
   "source": [
    "# customers\n",
    "\n",
    "customers_path = TABLE_PATH / \"customers.parquet\"\n",
    "customers_df = pl.read_parquet(source=customers_path)\n",
    "\n",
    "customers_df.head(1)"
   ]
  },
  {
   "cell_type": "code",
   "execution_count": 9,
   "id": "31be4cb3-f159-4b35-8d9f-068a8eb8bd52",
   "metadata": {},
   "outputs": [
    {
     "name": "stdout",
     "output_type": "stream",
     "text": [
      "Number of customers: 2000\n"
     ]
    }
   ],
   "source": [
    "print(f\"Number of customers: {len(customers_df)}\")"
   ]
  },
  {
   "cell_type": "code",
   "execution_count": 54,
   "id": "c4540b86-89cf-4812-b0bf-6126f5957ca4",
   "metadata": {},
   "outputs": [
    {
     "name": "stdout",
     "output_type": "stream",
     "text": [
      "Nulls in customer columns:\n",
      "\n",
      "{'id': 0, 'name': 0, 'street_address': 0, 'city': 94, 'state': 102, 'zipcode': 1, 'birth_date': 107, 'gender': 101, 'education': 104, 'occupation': 107, 'age': 107, 'age_category': 0}\n"
     ]
    }
   ],
   "source": [
    "print(\"Nulls in customer columns:\\n\")\n",
    "\n",
    "customer_nulls = customers_df.select(pl.all().is_null().sum()).to_dicts()[0]\n",
    "print(customer_nulls)"
   ]
  },
  {
   "cell_type": "markdown",
   "id": "db103801-d5bc-47ae-941f-166a00ad7c8a",
   "metadata": {},
   "source": [
    "10% of the customers have null values for some of their attributes. \n",
    "\n",
    "One way to solve the issue is to drop rows with null values and the other is to try and mitigate the problem by replacing null values with median values. A good candidate is the `age` column. Other is `gender` where we can guess the gender but that's error-prone."
   ]
  },
  {
   "cell_type": "code",
   "execution_count": 74,
   "id": "47f01c9e-7982-4b09-bcee-af0884ee93a5",
   "metadata": {},
   "outputs": [],
   "source": [
    "# Fill null values\n",
    "\n",
    "customers_df = customers_df.with_columns(\n",
    "    pl.col(\"age\").fill_null(pl.col(\"age\").median()).alias(\"age\")\n",
    ")\n",
    "books_df = books_df.with_columns(\n",
    "    pl.col(\"price\").fill_null(pl.col(\"price\").median()).alias(\"price\")\n",
    ")"
   ]
  },
  {
   "cell_type": "markdown",
   "id": "21ab285a-0fc3-4994-8a39-d7900a52a658",
   "metadata": {},
   "source": [
    "### Libraries table"
   ]
  },
  {
   "cell_type": "code",
   "execution_count": 59,
   "id": "56aca292-7aef-4305-a1a9-b38a3ba42962",
   "metadata": {},
   "outputs": [
    {
     "data": {
      "text/html": [
       "<div><style>\n",
       ".dataframe > thead > tr,\n",
       ".dataframe > tbody > tr {\n",
       "  text-align: right;\n",
       "  white-space: pre-wrap;\n",
       "}\n",
       "</style>\n",
       "<small>shape: (1, 6)</small><table border=\"1\" class=\"dataframe\"><thead><tr><th>id</th><th>name</th><th>street_address</th><th>city</th><th>region</th><th>postal_code</th></tr><tr><td>str</td><td>str</td><td>str</td><td>str</td><td>str</td><td>str</td></tr></thead><tbody><tr><td>&quot;222-222@5xc-jxp-rp9&quot;</td><td>&quot;Multnomah County Library Holly…</td><td>&quot;4040 Ne Tillamook St&quot;</td><td>&quot;Portland&quot;</td><td>&quot;OR&quot;</td><td>&quot;97212&quot;</td></tr></tbody></table></div>"
      ],
      "text/plain": [
       "shape: (1, 6)\n",
       "┌─────────────────────┬─────────────────────┬────────────────────┬──────────┬────────┬─────────────┐\n",
       "│ id                  ┆ name                ┆ street_address     ┆ city     ┆ region ┆ postal_code │\n",
       "│ ---                 ┆ ---                 ┆ ---                ┆ ---      ┆ ---    ┆ ---         │\n",
       "│ str                 ┆ str                 ┆ str                ┆ str      ┆ str    ┆ str         │\n",
       "╞═════════════════════╪═════════════════════╪════════════════════╪══════════╪════════╪═════════════╡\n",
       "│ 222-222@5xc-jxp-rp9 ┆ Multnomah County    ┆ 4040 Ne Tillamook  ┆ Portland ┆ OR     ┆ 97212       │\n",
       "│                     ┆ Library Holly…      ┆ St                 ┆          ┆        ┆             │\n",
       "└─────────────────────┴─────────────────────┴────────────────────┴──────────┴────────┴─────────────┘"
      ]
     },
     "execution_count": 59,
     "metadata": {},
     "output_type": "execute_result"
    }
   ],
   "source": [
    "# libraries\n",
    "\n",
    "libraries_path = TABLE_PATH / \"libraries.parquet\"\n",
    "libraries_df = pl.read_parquet(source=libraries_path)\n",
    "\n",
    "libraries_df.head(1)"
   ]
  },
  {
   "cell_type": "markdown",
   "id": "e2eecc0c-3982-4987-a493-a987b08852fc",
   "metadata": {},
   "source": [
    "### Checkouts table"
   ]
  },
  {
   "cell_type": "code",
   "execution_count": 60,
   "id": "68afafff-5372-47d1-a3f0-eb091bd07a22",
   "metadata": {},
   "outputs": [
    {
     "data": {
      "text/html": [
       "<div><style>\n",
       ".dataframe > thead > tr,\n",
       ".dataframe > tbody > tr {\n",
       "  text-align: right;\n",
       "  white-space: pre-wrap;\n",
       "}\n",
       "</style>\n",
       "<small>shape: (1, 5)</small><table border=\"1\" class=\"dataframe\"><thead><tr><th>id</th><th>patron_id</th><th>library_id</th><th>date_checkout</th><th>date_returned</th></tr><tr><td>str</td><td>str</td><td>str</td><td>date</td><td>date</td></tr></thead><tbody><tr><td>&quot;oFWsXm1zZCcC&quot;</td><td>&quot;bc840f93aa631f7357e14fdef522f5…</td><td>&quot;22d-222@5xc-kcy-8sq&quot;</td><td>2018-12-13</td><td>2018-12-20</td></tr></tbody></table></div>"
      ],
      "text/plain": [
       "shape: (1, 5)\n",
       "┌──────────────┬─────────────────────────────┬─────────────────────┬───────────────┬───────────────┐\n",
       "│ id           ┆ patron_id                   ┆ library_id          ┆ date_checkout ┆ date_returned │\n",
       "│ ---          ┆ ---                         ┆ ---                 ┆ ---           ┆ ---           │\n",
       "│ str          ┆ str                         ┆ str                 ┆ date          ┆ date          │\n",
       "╞══════════════╪═════════════════════════════╪═════════════════════╪═══════════════╪═══════════════╡\n",
       "│ oFWsXm1zZCcC ┆ bc840f93aa631f7357e14fdef52 ┆ 22d-222@5xc-kcy-8sq ┆ 2018-12-13    ┆ 2018-12-20    │\n",
       "│              ┆ 2f5…                        ┆                     ┆               ┆               │\n",
       "└──────────────┴─────────────────────────────┴─────────────────────┴───────────────┴───────────────┘"
      ]
     },
     "execution_count": 60,
     "metadata": {},
     "output_type": "execute_result"
    }
   ],
   "source": [
    "# checkouts\n",
    "\n",
    "checkouts_path = TABLE_PATH / \"checkouts.parquet\"\n",
    "checkouts_df = pl.read_parquet(source=checkouts_path)\n",
    "\n",
    "checkouts_df.head(1)"
   ]
  },
  {
   "cell_type": "markdown",
   "id": "bf0c3df1-2fb1-48bf-a06f-011b8e9ffee5",
   "metadata": {},
   "source": [
    "### Taking a look at the tables\n",
    "\n",
    "Looking at the tables, there are candidates for some additional columns that may help with the analysis and are potential candidates for features. \n",
    "For example, the `customers` table has the field `birth_date`. Creating age categories (Young, Adults, Middle-Aged Adults, and Old) can give additional insight into who rents books.\n",
    "\n",
    "Also, the `checkouts` table has columns `date_checkout` and `date_returned,` which is going to be our label."
   ]
  },
  {
   "cell_type": "code",
   "execution_count": 61,
   "id": "d0dc1c20-cfa3-4146-84ad-ee01c2531a3d",
   "metadata": {},
   "outputs": [],
   "source": [
    "customers_df = customers_df.with_columns(\n",
    "    ((datetime.now(timezone.utc).date() - pl.col(\"birth_date\")).dt.total_days() / 365)\n",
    "    .floor()\n",
    "    .cast(pl.Int32)\n",
    "    .alias(\"age\")\n",
    ")"
   ]
  },
  {
   "cell_type": "code",
   "execution_count": 75,
   "id": "fb8d828a-ad89-432e-8255-ca63a76337df",
   "metadata": {},
   "outputs": [],
   "source": [
    "customers_df = customers_df.with_columns(\n",
    "    pl.when((3 <= pl.col(\"age\")) & (pl.col(\"age\") <= 19))\n",
    "    .then(pl.lit(\"Young\"))\n",
    "    .when((20 <= pl.col(\"age\")) & (pl.col(\"age\") <= 39))\n",
    "    .then(pl.lit(\"Adult\"))\n",
    "    .when((40 <= pl.col(\"age\")) & (pl.col(\"age\") <= 59))\n",
    "    .then(pl.lit(\"Middle-Age\"))\n",
    "    .when((60 <= pl.col(\"age\")) & (pl.col(\"age\") <= 99))\n",
    "    .then(pl.lit(\"Old\"))\n",
    "    .otherwise(pl.lit(\"Undefined\"))\n",
    "    .alias(\"age_category\")\n",
    ")"
   ]
  },
  {
   "cell_type": "code",
   "execution_count": 76,
   "id": "22f6585e-78f8-4ca2-8485-0c708b006764",
   "metadata": {},
   "outputs": [
    {
     "data": {
      "text/html": [
       "<div><style>\n",
       ".dataframe > thead > tr,\n",
       ".dataframe > tbody > tr {\n",
       "  text-align: right;\n",
       "  white-space: pre-wrap;\n",
       "}\n",
       "</style>\n",
       "<small>shape: (3, 2)</small><table border=\"1\" class=\"dataframe\"><thead><tr><th>age</th><th>age_category</th></tr><tr><td>f64</td><td>str</td></tr></thead><tbody><tr><td>59.0</td><td>&quot;Middle-Age&quot;</td></tr><tr><td>74.0</td><td>&quot;Old&quot;</td></tr><tr><td>53.0</td><td>&quot;Middle-Age&quot;</td></tr></tbody></table></div>"
      ],
      "text/plain": [
       "shape: (3, 2)\n",
       "┌──────┬──────────────┐\n",
       "│ age  ┆ age_category │\n",
       "│ ---  ┆ ---          │\n",
       "│ f64  ┆ str          │\n",
       "╞══════╪══════════════╡\n",
       "│ 59.0 ┆ Middle-Age   │\n",
       "│ 74.0 ┆ Old          │\n",
       "│ 53.0 ┆ Middle-Age   │\n",
       "└──────┴──────────────┘"
      ]
     },
     "execution_count": 76,
     "metadata": {},
     "output_type": "execute_result"
    }
   ],
   "source": [
    "customers_df.head(3)[\"age\", \"age_category\"]"
   ]
  },
  {
   "cell_type": "markdown",
   "id": "61f5ed13-64d9-40cb-8536-3699c3ab1b51",
   "metadata": {},
   "source": [
    "### Label calculation\n",
    "\n",
    "Labels can be calculated by subsctracting `date_returned` and `date_checkout`. Limit for the book return is 28 days. \n",
    "\n",
    "Return date has to be higher than checkout date. If return date is `None` that means customer didn't returned book yet."
   ]
  },
  {
   "cell_type": "code",
   "execution_count": 99,
   "id": "239ecad4-f53a-4e99-996c-9061bfba77b4",
   "metadata": {},
   "outputs": [],
   "source": [
    "checkouts_df = checkouts_df.with_columns(\n",
    "    pl.col(\"date_returned\")\n",
    "    .sub(pl.col(\"date_checkout\"))\n",
    "    .dt.total_days()\n",
    "    .cast(pl.Int32)\n",
    "    .alias(\"days_holding_book\")\n",
    ")\n",
    "\n",
    "checkouts_df = checkouts_df.with_columns(\n",
    "    pl.when(\n",
    "        (pl.col(\"days_holding_book\") <= RETURN_LIMIT)\n",
    "        & (pl.col(\"days_holding_book\") >= 0)\n",
    "    )\n",
    "    .then(pl.lit(1))\n",
    "    .when(pl.col(\"days_holding_book\") > RETURN_LIMIT)\n",
    "    .then(pl.lit(0))\n",
    "    .when(pl.col(\"date_returned\").is_null())\n",
    "    .then(pl.lit(0))\n",
    "    .when(pl.col(\"days_holding_book\") < 0)\n",
    "    .then(pl.lit(-1))\n",
    "    .otherwise(pl.lit(-1))\n",
    "    .alias(\"book_returned\")\n",
    ")"
   ]
  },
  {
   "cell_type": "markdown",
   "id": "c79c3620-28d6-4379-a938-06fa99aa776f",
   "metadata": {},
   "source": [
    "If there are values that are negative values in column `days_holding_book` number `-1` marks them as unvalid. "
   ]
  },
  {
   "cell_type": "code",
   "execution_count": 91,
   "id": "e03b8b5b-ec12-470a-886c-ec60a2cd606c",
   "metadata": {},
   "outputs": [
    {
     "data": {
      "text/html": [
       "<div><style>\n",
       ".dataframe > thead > tr,\n",
       ".dataframe > tbody > tr {\n",
       "  text-align: right;\n",
       "  white-space: pre-wrap;\n",
       "}\n",
       "</style>\n",
       "<small>shape: (2, 7)</small><table border=\"1\" class=\"dataframe\"><thead><tr><th>id</th><th>patron_id</th><th>library_id</th><th>date_checkout</th><th>date_returned</th><th>days_holding_book</th><th>book_returned</th></tr><tr><td>str</td><td>str</td><td>str</td><td>date</td><td>date</td><td>i32</td><td>i32</td></tr></thead><tbody><tr><td>&quot;oFWsXm1zZCcC&quot;</td><td>&quot;bc840f93aa631f7357e14fdef522f5…</td><td>&quot;22d-222@5xc-kcy-8sq&quot;</td><td>2018-12-13</td><td>2018-12-20</td><td>7</td><td>1</td></tr><tr><td>&quot;tvo3LZ-Qms0C&quot;</td><td>&quot;2e89d06f11e5cfdc727d93ac589a2a…</td><td>&quot;226-222@5xc-jxj-7yv&quot;</td><td>2018-10-01</td><td>2018-10-17</td><td>16</td><td>1</td></tr></tbody></table></div>"
      ],
      "text/plain": [
       "shape: (2, 7)\n",
       "┌──────────────┬─────────────┬─────────────┬─────────────┬─────────────┬─────────────┬─────────────┐\n",
       "│ id           ┆ patron_id   ┆ library_id  ┆ date_checko ┆ date_return ┆ days_holdin ┆ book_return │\n",
       "│ ---          ┆ ---         ┆ ---         ┆ ut          ┆ ed          ┆ g_book      ┆ ed          │\n",
       "│ str          ┆ str         ┆ str         ┆ ---         ┆ ---         ┆ ---         ┆ ---         │\n",
       "│              ┆             ┆             ┆ date        ┆ date        ┆ i32         ┆ i32         │\n",
       "╞══════════════╪═════════════╪═════════════╪═════════════╪═════════════╪═════════════╪═════════════╡\n",
       "│ oFWsXm1zZCcC ┆ bc840f93aa6 ┆ 22d-222@5xc ┆ 2018-12-13  ┆ 2018-12-20  ┆ 7           ┆ 1           │\n",
       "│              ┆ 31f7357e14f ┆ -kcy-8sq    ┆             ┆             ┆             ┆             │\n",
       "│              ┆ def522f5…   ┆             ┆             ┆             ┆             ┆             │\n",
       "│ tvo3LZ-Qms0C ┆ 2e89d06f11e ┆ 226-222@5xc ┆ 2018-10-01  ┆ 2018-10-17  ┆ 16          ┆ 1           │\n",
       "│              ┆ 5cfdc727d93 ┆ -jxj-7yv    ┆             ┆             ┆             ┆             │\n",
       "│              ┆ ac589a2a…   ┆             ┆             ┆             ┆             ┆             │\n",
       "└──────────────┴─────────────┴─────────────┴─────────────┴─────────────┴─────────────┴─────────────┘"
      ]
     },
     "execution_count": 91,
     "metadata": {},
     "output_type": "execute_result"
    }
   ],
   "source": [
    "checkouts_df.head(2)"
   ]
  },
  {
   "cell_type": "markdown",
   "id": "f26a8c93-53a9-446e-afb2-f8581d354bdd",
   "metadata": {},
   "source": [
    "### Entity analysis\n",
    "Analysis of customers and book entities\n",
    "TODO: Add more description"
   ]
  },
  {
   "cell_type": "code",
   "execution_count": 66,
   "id": "4fce9533-dc59-414f-8282-8bee5f7de774",
   "metadata": {},
   "outputs": [
    {
     "data": {},
     "metadata": {},
     "output_type": "display_data"
    },
    {
     "data": {
      "application/vnd.holoviews_exec.v0+json": "",
      "text/html": [
       "<div id='p1712'>\n",
       "  <div id=\"d842652f-7fba-4f0c-afed-990643beee3f\" data-root-id=\"p1712\" style=\"display: contents;\"></div>\n",
       "</div>\n",
       "<script type=\"application/javascript\">(function(root) {\n",
       "  var docs_json = {\"f9833ccd-42f8-4319-9597-b8392e43d481\":{\"version\":\"3.6.0\",\"title\":\"Bokeh Application\",\"roots\":[{\"type\":\"object\",\"name\":\"Row\",\"id\":\"p1712\",\"attributes\":{\"name\":\"Row01969\",\"tags\":[\"embedded\"],\"stylesheets\":[\"\\n:host(.pn-loading):before, .pn-loading:before {\\n  background-color: #c3c3c3;\\n  mask-size: auto calc(min(50%, 400px));\\n  -webkit-mask-size: auto calc(min(50%, 400px));\\n}\",{\"type\":\"object\",\"name\":\"ImportedStyleSheet\",\"id\":\"p1715\",\"attributes\":{\"url\":\"https://cdn.holoviz.org/panel/1.5.3/dist/css/loading.css\"}},{\"type\":\"object\",\"name\":\"ImportedStyleSheet\",\"id\":\"p1773\",\"attributes\":{\"url\":\"https://cdn.holoviz.org/panel/1.5.3/dist/css/listpanel.css\"}},{\"type\":\"object\",\"name\":\"ImportedStyleSheet\",\"id\":\"p1713\",\"attributes\":{\"url\":\"https://cdn.holoviz.org/panel/1.5.3/dist/bundled/theme/default.css\"}},{\"type\":\"object\",\"name\":\"ImportedStyleSheet\",\"id\":\"p1714\",\"attributes\":{\"url\":\"https://cdn.holoviz.org/panel/1.5.3/dist/bundled/theme/native.css\"}}],\"min_width\":700,\"margin\":0,\"sizing_mode\":\"stretch_width\",\"align\":\"start\",\"children\":[{\"type\":\"object\",\"name\":\"Spacer\",\"id\":\"p1716\",\"attributes\":{\"name\":\"HSpacer01976\",\"stylesheets\":[\"\\n:host(.pn-loading):before, .pn-loading:before {\\n  background-color: #c3c3c3;\\n  mask-size: auto calc(min(50%, 400px));\\n  -webkit-mask-size: auto calc(min(50%, 400px));\\n}\",{\"id\":\"p1715\"},{\"id\":\"p1713\"},{\"id\":\"p1714\"}],\"margin\":0,\"sizing_mode\":\"stretch_width\",\"align\":\"start\"}},{\"type\":\"object\",\"name\":\"Figure\",\"id\":\"p1724\",\"attributes\":{\"width\":700,\"height\":300,\"margin\":[5,10],\"sizing_mode\":\"fixed\",\"align\":\"start\",\"x_range\":{\"type\":\"object\",\"name\":\"FactorRange\",\"id\":\"p1717\",\"attributes\":{\"tags\":[[[\"Gender\",null]],[]],\"factors\":[\"male\",\"female\"]}},\"y_range\":{\"type\":\"object\",\"name\":\"Range1d\",\"id\":\"p1718\",\"attributes\":{\"tags\":[[[\"Number of customers\",null]],{\"type\":\"map\",\"entries\":[[\"invert_yaxis\",false],[\"autorange\",false]]}],\"end\":970.5,\"reset_start\":0.0,\"reset_end\":970.5}},\"x_scale\":{\"type\":\"object\",\"name\":\"CategoricalScale\",\"id\":\"p1734\"},\"y_scale\":{\"type\":\"object\",\"name\":\"LinearScale\",\"id\":\"p1735\"},\"title\":{\"type\":\"object\",\"name\":\"Title\",\"id\":\"p1727\",\"attributes\":{\"text\":\"Library customers gender\",\"text_color\":\"black\",\"text_font_size\":\"12pt\"}},\"renderers\":[{\"type\":\"object\",\"name\":\"GlyphRenderer\",\"id\":\"p1766\",\"attributes\":{\"data_source\":{\"type\":\"object\",\"name\":\"ColumnDataSource\",\"id\":\"p1757\",\"attributes\":{\"selected\":{\"type\":\"object\",\"name\":\"Selection\",\"id\":\"p1758\",\"attributes\":{\"indices\":[],\"line_indices\":[]}},\"selection_policy\":{\"type\":\"object\",\"name\":\"UnionRenderers\",\"id\":\"p1759\"},\"data\":{\"type\":\"map\",\"entries\":[[\"Gender\",[\"male\",\"female\"]],[\"Number_of_customers\",{\"type\":\"ndarray\",\"array\":{\"type\":\"bytes\",\"data\":\"xwMAAKQDAAA=\"},\"shape\":[2],\"dtype\":\"uint32\",\"order\":\"little\"}]]}}},\"view\":{\"type\":\"object\",\"name\":\"CDSView\",\"id\":\"p1767\",\"attributes\":{\"filter\":{\"type\":\"object\",\"name\":\"AllIndices\",\"id\":\"p1768\"}}},\"glyph\":{\"type\":\"object\",\"name\":\"VBar\",\"id\":\"p1763\",\"attributes\":{\"tags\":[\"apply_ranges\"],\"x\":{\"type\":\"field\",\"field\":\"Gender\"},\"width\":{\"type\":\"value\",\"value\":0.8},\"top\":{\"type\":\"field\",\"field\":\"Number_of_customers\"},\"fill_color\":{\"type\":\"value\",\"value\":\"#30a2da\"},\"hatch_color\":{\"type\":\"value\",\"value\":\"#30a2da\"}}},\"selection_glyph\":{\"type\":\"object\",\"name\":\"VBar\",\"id\":\"p1769\",\"attributes\":{\"tags\":[\"apply_ranges\"],\"x\":{\"type\":\"field\",\"field\":\"Gender\"},\"width\":{\"type\":\"value\",\"value\":0.8},\"bottom\":{\"type\":\"value\",\"value\":0},\"top\":{\"type\":\"field\",\"field\":\"Number_of_customers\"},\"line_color\":{\"type\":\"value\",\"value\":\"black\"},\"line_alpha\":{\"type\":\"value\",\"value\":1.0},\"line_width\":{\"type\":\"value\",\"value\":1},\"line_join\":{\"type\":\"value\",\"value\":\"bevel\"},\"line_cap\":{\"type\":\"value\",\"value\":\"butt\"},\"line_dash\":{\"type\":\"value\",\"value\":[]},\"line_dash_offset\":{\"type\":\"value\",\"value\":0},\"fill_color\":{\"type\":\"value\",\"value\":\"#30a2da\"},\"fill_alpha\":{\"type\":\"value\",\"value\":1.0},\"hatch_color\":{\"type\":\"value\",\"value\":\"#30a2da\"},\"hatch_alpha\":{\"type\":\"value\",\"value\":1.0},\"hatch_scale\":{\"type\":\"value\",\"value\":12.0},\"hatch_pattern\":{\"type\":\"value\",\"value\":null},\"hatch_weight\":{\"type\":\"value\",\"value\":1.0}}},\"nonselection_glyph\":{\"type\":\"object\",\"name\":\"VBar\",\"id\":\"p1764\",\"attributes\":{\"tags\":[\"apply_ranges\"],\"x\":{\"type\":\"field\",\"field\":\"Gender\"},\"width\":{\"type\":\"value\",\"value\":0.8},\"top\":{\"type\":\"field\",\"field\":\"Number_of_customers\"},\"line_alpha\":{\"type\":\"value\",\"value\":0.1},\"fill_color\":{\"type\":\"value\",\"value\":\"#30a2da\"},\"fill_alpha\":{\"type\":\"value\",\"value\":0.1},\"hatch_color\":{\"type\":\"value\",\"value\":\"#30a2da\"},\"hatch_alpha\":{\"type\":\"value\",\"value\":0.1}}},\"muted_glyph\":{\"type\":\"object\",\"name\":\"VBar\",\"id\":\"p1765\",\"attributes\":{\"tags\":[\"apply_ranges\"],\"x\":{\"type\":\"field\",\"field\":\"Gender\"},\"width\":{\"type\":\"value\",\"value\":0.8},\"top\":{\"type\":\"field\",\"field\":\"Number_of_customers\"},\"line_alpha\":{\"type\":\"value\",\"value\":0.2},\"fill_color\":{\"type\":\"value\",\"value\":\"#30a2da\"},\"fill_alpha\":{\"type\":\"value\",\"value\":0.2},\"hatch_color\":{\"type\":\"value\",\"value\":\"#30a2da\"},\"hatch_alpha\":{\"type\":\"value\",\"value\":0.2}}}}}],\"toolbar\":{\"type\":\"object\",\"name\":\"Toolbar\",\"id\":\"p1733\",\"attributes\":{\"tools\":[{\"type\":\"object\",\"name\":\"WheelZoomTool\",\"id\":\"p1722\",\"attributes\":{\"tags\":[\"hv_created\"],\"renderers\":\"auto\",\"zoom_together\":\"none\"}},{\"type\":\"object\",\"name\":\"HoverTool\",\"id\":\"p1723\",\"attributes\":{\"tags\":[\"hv_created\"],\"renderers\":[{\"id\":\"p1766\"}],\"tooltips\":[[\"Gender\",\"@{Gender}\"],[\"Number of customers\",\"@{Number_of_customers}\"]]}},{\"type\":\"object\",\"name\":\"SaveTool\",\"id\":\"p1746\"},{\"type\":\"object\",\"name\":\"PanTool\",\"id\":\"p1747\"},{\"type\":\"object\",\"name\":\"BoxZoomTool\",\"id\":\"p1748\",\"attributes\":{\"overlay\":{\"type\":\"object\",\"name\":\"BoxAnnotation\",\"id\":\"p1749\",\"attributes\":{\"syncable\":false,\"line_color\":\"black\",\"line_alpha\":1.0,\"line_width\":2,\"line_dash\":[4,4],\"fill_color\":\"lightgrey\",\"fill_alpha\":0.5,\"level\":\"overlay\",\"visible\":false,\"left\":{\"type\":\"number\",\"value\":\"nan\"},\"right\":{\"type\":\"number\",\"value\":\"nan\"},\"top\":{\"type\":\"number\",\"value\":\"nan\"},\"bottom\":{\"type\":\"number\",\"value\":\"nan\"},\"left_units\":\"canvas\",\"right_units\":\"canvas\",\"top_units\":\"canvas\",\"bottom_units\":\"canvas\",\"handles\":{\"type\":\"object\",\"name\":\"BoxInteractionHandles\",\"id\":\"p1755\",\"attributes\":{\"all\":{\"type\":\"object\",\"name\":\"AreaVisuals\",\"id\":\"p1754\",\"attributes\":{\"fill_color\":\"white\",\"hover_fill_color\":\"lightgray\"}}}}}}}},{\"type\":\"object\",\"name\":\"ResetTool\",\"id\":\"p1756\"}],\"active_drag\":{\"id\":\"p1747\"},\"active_scroll\":{\"id\":\"p1722\"}}},\"left\":[{\"type\":\"object\",\"name\":\"LinearAxis\",\"id\":\"p1741\",\"attributes\":{\"ticker\":{\"type\":\"object\",\"name\":\"BasicTicker\",\"id\":\"p1742\",\"attributes\":{\"mantissas\":[1,2,5]}},\"formatter\":{\"type\":\"object\",\"name\":\"BasicTickFormatter\",\"id\":\"p1743\"},\"axis_label\":\"Number of customers\",\"major_label_policy\":{\"type\":\"object\",\"name\":\"AllLabels\",\"id\":\"p1744\"}}}],\"below\":[{\"type\":\"object\",\"name\":\"CategoricalAxis\",\"id\":\"p1736\",\"attributes\":{\"ticker\":{\"type\":\"object\",\"name\":\"CategoricalTicker\",\"id\":\"p1737\"},\"formatter\":{\"type\":\"object\",\"name\":\"CategoricalTickFormatter\",\"id\":\"p1738\"},\"axis_label\":\"Gender\",\"major_label_orientation\":1.5707963267948966,\"major_label_policy\":{\"type\":\"object\",\"name\":\"AllLabels\",\"id\":\"p1739\"}}}],\"center\":[{\"type\":\"object\",\"name\":\"Grid\",\"id\":\"p1740\",\"attributes\":{\"axis\":{\"id\":\"p1736\"},\"grid_line_color\":null}},{\"type\":\"object\",\"name\":\"Grid\",\"id\":\"p1745\",\"attributes\":{\"dimension\":1,\"axis\":{\"id\":\"p1741\"},\"grid_line_color\":null}}],\"min_border_top\":10,\"min_border_bottom\":10,\"min_border_left\":10,\"min_border_right\":10,\"output_backend\":\"webgl\"}},{\"type\":\"object\",\"name\":\"Spacer\",\"id\":\"p1771\",\"attributes\":{\"name\":\"HSpacer01977\",\"stylesheets\":[\"\\n:host(.pn-loading):before, .pn-loading:before {\\n  background-color: #c3c3c3;\\n  mask-size: auto calc(min(50%, 400px));\\n  -webkit-mask-size: auto calc(min(50%, 400px));\\n}\",{\"id\":\"p1715\"},{\"id\":\"p1713\"},{\"id\":\"p1714\"}],\"margin\":0,\"sizing_mode\":\"stretch_width\",\"align\":\"start\"}}]}}],\"defs\":[{\"type\":\"model\",\"name\":\"ReactiveHTML1\"},{\"type\":\"model\",\"name\":\"FlexBox1\",\"properties\":[{\"name\":\"align_content\",\"kind\":\"Any\",\"default\":\"flex-start\"},{\"name\":\"align_items\",\"kind\":\"Any\",\"default\":\"flex-start\"},{\"name\":\"flex_direction\",\"kind\":\"Any\",\"default\":\"row\"},{\"name\":\"flex_wrap\",\"kind\":\"Any\",\"default\":\"wrap\"},{\"name\":\"gap\",\"kind\":\"Any\",\"default\":\"\"},{\"name\":\"justify_content\",\"kind\":\"Any\",\"default\":\"flex-start\"}]},{\"type\":\"model\",\"name\":\"FloatPanel1\",\"properties\":[{\"name\":\"config\",\"kind\":\"Any\",\"default\":{\"type\":\"map\"}},{\"name\":\"contained\",\"kind\":\"Any\",\"default\":true},{\"name\":\"position\",\"kind\":\"Any\",\"default\":\"right-top\"},{\"name\":\"offsetx\",\"kind\":\"Any\",\"default\":null},{\"name\":\"offsety\",\"kind\":\"Any\",\"default\":null},{\"name\":\"theme\",\"kind\":\"Any\",\"default\":\"primary\"},{\"name\":\"status\",\"kind\":\"Any\",\"default\":\"normalized\"}]},{\"type\":\"model\",\"name\":\"GridStack1\",\"properties\":[{\"name\":\"mode\",\"kind\":\"Any\",\"default\":\"warn\"},{\"name\":\"ncols\",\"kind\":\"Any\",\"default\":null},{\"name\":\"nrows\",\"kind\":\"Any\",\"default\":null},{\"name\":\"allow_resize\",\"kind\":\"Any\",\"default\":true},{\"name\":\"allow_drag\",\"kind\":\"Any\",\"default\":true},{\"name\":\"state\",\"kind\":\"Any\",\"default\":[]}]},{\"type\":\"model\",\"name\":\"drag1\",\"properties\":[{\"name\":\"slider_width\",\"kind\":\"Any\",\"default\":5},{\"name\":\"slider_color\",\"kind\":\"Any\",\"default\":\"black\"},{\"name\":\"value\",\"kind\":\"Any\",\"default\":50}]},{\"type\":\"model\",\"name\":\"click1\",\"properties\":[{\"name\":\"terminal_output\",\"kind\":\"Any\",\"default\":\"\"},{\"name\":\"debug_name\",\"kind\":\"Any\",\"default\":\"\"},{\"name\":\"clears\",\"kind\":\"Any\",\"default\":0}]},{\"type\":\"model\",\"name\":\"FastWrapper1\",\"properties\":[{\"name\":\"object\",\"kind\":\"Any\",\"default\":null},{\"name\":\"style\",\"kind\":\"Any\",\"default\":null}]},{\"type\":\"model\",\"name\":\"NotificationAreaBase1\",\"properties\":[{\"name\":\"js_events\",\"kind\":\"Any\",\"default\":{\"type\":\"map\"}},{\"name\":\"position\",\"kind\":\"Any\",\"default\":\"bottom-right\"},{\"name\":\"_clear\",\"kind\":\"Any\",\"default\":0}]},{\"type\":\"model\",\"name\":\"NotificationArea1\",\"properties\":[{\"name\":\"js_events\",\"kind\":\"Any\",\"default\":{\"type\":\"map\"}},{\"name\":\"notifications\",\"kind\":\"Any\",\"default\":[]},{\"name\":\"position\",\"kind\":\"Any\",\"default\":\"bottom-right\"},{\"name\":\"_clear\",\"kind\":\"Any\",\"default\":0},{\"name\":\"types\",\"kind\":\"Any\",\"default\":[{\"type\":\"map\",\"entries\":[[\"type\",\"warning\"],[\"background\",\"#ffc107\"],[\"icon\",{\"type\":\"map\",\"entries\":[[\"className\",\"fas fa-exclamation-triangle\"],[\"tagName\",\"i\"],[\"color\",\"white\"]]}]]},{\"type\":\"map\",\"entries\":[[\"type\",\"info\"],[\"background\",\"#007bff\"],[\"icon\",{\"type\":\"map\",\"entries\":[[\"className\",\"fas fa-info-circle\"],[\"tagName\",\"i\"],[\"color\",\"white\"]]}]]}]}]},{\"type\":\"model\",\"name\":\"Notification\",\"properties\":[{\"name\":\"background\",\"kind\":\"Any\",\"default\":null},{\"name\":\"duration\",\"kind\":\"Any\",\"default\":3000},{\"name\":\"icon\",\"kind\":\"Any\",\"default\":null},{\"name\":\"message\",\"kind\":\"Any\",\"default\":\"\"},{\"name\":\"notification_type\",\"kind\":\"Any\",\"default\":null},{\"name\":\"_destroyed\",\"kind\":\"Any\",\"default\":false}]},{\"type\":\"model\",\"name\":\"TemplateActions1\",\"properties\":[{\"name\":\"open_modal\",\"kind\":\"Any\",\"default\":0},{\"name\":\"close_modal\",\"kind\":\"Any\",\"default\":0}]},{\"type\":\"model\",\"name\":\"BootstrapTemplateActions1\",\"properties\":[{\"name\":\"open_modal\",\"kind\":\"Any\",\"default\":0},{\"name\":\"close_modal\",\"kind\":\"Any\",\"default\":0}]},{\"type\":\"model\",\"name\":\"TemplateEditor1\",\"properties\":[{\"name\":\"layout\",\"kind\":\"Any\",\"default\":[]}]},{\"type\":\"model\",\"name\":\"MaterialTemplateActions1\",\"properties\":[{\"name\":\"open_modal\",\"kind\":\"Any\",\"default\":0},{\"name\":\"close_modal\",\"kind\":\"Any\",\"default\":0}]},{\"type\":\"model\",\"name\":\"ReactiveESM1\"},{\"type\":\"model\",\"name\":\"JSComponent1\"},{\"type\":\"model\",\"name\":\"ReactComponent1\"},{\"type\":\"model\",\"name\":\"AnyWidgetComponent1\"},{\"type\":\"model\",\"name\":\"request_value1\",\"properties\":[{\"name\":\"fill\",\"kind\":\"Any\",\"default\":\"none\"},{\"name\":\"_synced\",\"kind\":\"Any\",\"default\":null},{\"name\":\"_request_sync\",\"kind\":\"Any\",\"default\":0}]}]}};\n",
       "  var render_items = [{\"docid\":\"f9833ccd-42f8-4319-9597-b8392e43d481\",\"roots\":{\"p1712\":\"d842652f-7fba-4f0c-afed-990643beee3f\"},\"root_ids\":[\"p1712\"]}];\n",
       "  var docs = Object.values(docs_json)\n",
       "  if (!docs) {\n",
       "    return\n",
       "  }\n",
       "  const py_version = docs[0].version.replace('rc', '-rc.').replace('.dev', '-dev.')\n",
       "  async function embed_document(root) {\n",
       "    var Bokeh = get_bokeh(root)\n",
       "    await Bokeh.embed.embed_items_notebook(docs_json, render_items);\n",
       "    for (const render_item of render_items) {\n",
       "      for (const root_id of render_item.root_ids) {\n",
       "\tconst id_el = document.getElementById(root_id)\n",
       "\tif (id_el.children.length && id_el.children[0].hasAttribute('data-root-id')) {\n",
       "\t  const root_el = id_el.children[0]\n",
       "\t  root_el.id = root_el.id + '-rendered'\n",
       "\t  for (const child of root_el.children) {\n",
       "            // Ensure JupyterLab does not capture keyboard shortcuts\n",
       "            // see: https://jupyterlab.readthedocs.io/en/4.1.x/extension/notebook.html#keyboard-interaction-model\n",
       "\t    child.setAttribute('data-lm-suppress-shortcuts', 'true')\n",
       "\t  }\n",
       "\t}\n",
       "      }\n",
       "    }\n",
       "  }\n",
       "  function get_bokeh(root) {\n",
       "    if (root.Bokeh === undefined) {\n",
       "      return null\n",
       "    } else if (root.Bokeh.version !== py_version) {\n",
       "      if (root.Bokeh.versions === undefined || !root.Bokeh.versions.has(py_version)) {\n",
       "\treturn null\n",
       "      }\n",
       "      return root.Bokeh.versions.get(py_version);\n",
       "    } else if (root.Bokeh.version === py_version) {\n",
       "      return root.Bokeh\n",
       "    }\n",
       "    return null\n",
       "  }\n",
       "  function is_loaded(root) {\n",
       "    var Bokeh = get_bokeh(root)\n",
       "    return (Bokeh != null && Bokeh.Panel !== undefined)\n",
       "  }\n",
       "  if (is_loaded(root)) {\n",
       "    embed_document(root);\n",
       "  } else {\n",
       "    var attempts = 0;\n",
       "    var timer = setInterval(function(root) {\n",
       "      if (is_loaded(root)) {\n",
       "        clearInterval(timer);\n",
       "        embed_document(root);\n",
       "      } else if (document.readyState == \"complete\") {\n",
       "        attempts++;\n",
       "        if (attempts > 200) {\n",
       "          clearInterval(timer);\n",
       "\t  var Bokeh = get_bokeh(root)\n",
       "\t  if (Bokeh == null || Bokeh.Panel == null) {\n",
       "            console.warn(\"Panel: ERROR: Unable to run Panel code because Bokeh or Panel library is missing\");\n",
       "\t  } else {\n",
       "\t    console.warn(\"Panel: WARNING: Attempting to render but not all required libraries could be resolved.\")\n",
       "\t    embed_document(root)\n",
       "\t  }\n",
       "        }\n",
       "      }\n",
       "    }, 25, root)\n",
       "  }\n",
       "})(window);</script>"
      ],
      "text/plain": [
       ":Bars   [Gender]   (Number of customers)"
      ]
     },
     "execution_count": 66,
     "metadata": {
      "application/vnd.holoviews_exec.v0+json": {
       "id": "p1712"
      }
     },
     "output_type": "execute_result"
    }
   ],
   "source": [
    "gender_df = customers_df.group_by(pl.col(\"gender\")).len()\n",
    "gender_df = gender_df.drop_nulls().rename(\n",
    "    {\"gender\": \"Gender\", \"len\": \"Number of customers\"}\n",
    ")\n",
    "gender_df.hvplot.bar(\n",
    "    x=\"Gender\", y=\"Number of customers\", rot=90, title=\"Library customers gender\"\n",
    ")"
   ]
  },
  {
   "cell_type": "code",
   "execution_count": 18,
   "id": "fda5bc21-36ce-46c7-a2c6-ce5b48f7a82f",
   "metadata": {},
   "outputs": [
    {
     "data": {},
     "metadata": {},
     "output_type": "display_data"
    },
    {
     "data": {
      "application/vnd.holoviews_exec.v0+json": "",
      "text/html": [
       "<div id='p1070'>\n",
       "  <div id=\"a0ac1ffb-c4ba-4fb3-8ab7-2677ee6bbbac\" data-root-id=\"p1070\" style=\"display: contents;\"></div>\n",
       "</div>\n",
       "<script type=\"application/javascript\">(function(root) {\n",
       "  var docs_json = {\"8008ca8c-ac52-4d68-949d-9ffc5ec4f35e\":{\"version\":\"3.6.0\",\"title\":\"Bokeh Application\",\"roots\":[{\"type\":\"object\",\"name\":\"Row\",\"id\":\"p1070\",\"attributes\":{\"name\":\"Row01009\",\"tags\":[\"embedded\"],\"stylesheets\":[\"\\n:host(.pn-loading):before, .pn-loading:before {\\n  background-color: #c3c3c3;\\n  mask-size: auto calc(min(50%, 400px));\\n  -webkit-mask-size: auto calc(min(50%, 400px));\\n}\",{\"type\":\"object\",\"name\":\"ImportedStyleSheet\",\"id\":\"p1073\",\"attributes\":{\"url\":\"https://cdn.holoviz.org/panel/1.5.3/dist/css/loading.css\"}},{\"type\":\"object\",\"name\":\"ImportedStyleSheet\",\"id\":\"p1131\",\"attributes\":{\"url\":\"https://cdn.holoviz.org/panel/1.5.3/dist/css/listpanel.css\"}},{\"type\":\"object\",\"name\":\"ImportedStyleSheet\",\"id\":\"p1071\",\"attributes\":{\"url\":\"https://cdn.holoviz.org/panel/1.5.3/dist/bundled/theme/default.css\"}},{\"type\":\"object\",\"name\":\"ImportedStyleSheet\",\"id\":\"p1072\",\"attributes\":{\"url\":\"https://cdn.holoviz.org/panel/1.5.3/dist/bundled/theme/native.css\"}}],\"min_width\":700,\"margin\":0,\"sizing_mode\":\"stretch_width\",\"align\":\"start\",\"children\":[{\"type\":\"object\",\"name\":\"Spacer\",\"id\":\"p1074\",\"attributes\":{\"name\":\"HSpacer01016\",\"stylesheets\":[\"\\n:host(.pn-loading):before, .pn-loading:before {\\n  background-color: #c3c3c3;\\n  mask-size: auto calc(min(50%, 400px));\\n  -webkit-mask-size: auto calc(min(50%, 400px));\\n}\",{\"id\":\"p1073\"},{\"id\":\"p1071\"},{\"id\":\"p1072\"}],\"margin\":0,\"sizing_mode\":\"stretch_width\",\"align\":\"start\"}},{\"type\":\"object\",\"name\":\"Figure\",\"id\":\"p1082\",\"attributes\":{\"width\":700,\"height\":300,\"margin\":[5,10],\"sizing_mode\":\"fixed\",\"align\":\"start\",\"x_range\":{\"type\":\"object\",\"name\":\"FactorRange\",\"id\":\"p1075\",\"attributes\":{\"tags\":[[[\"Education\",null]],[]],\"factors\":[\"Others\",\"Graduate Degree\",\"High School\",\"College\"]}},\"y_range\":{\"type\":\"object\",\"name\":\"Range1d\",\"id\":\"p1076\",\"attributes\":{\"tags\":[[[\"Number of customers\",null]],{\"type\":\"map\",\"entries\":[[\"invert_yaxis\",false],[\"autorange\",false]]}],\"end\":511.3,\"reset_start\":0.0,\"reset_end\":511.3}},\"x_scale\":{\"type\":\"object\",\"name\":\"CategoricalScale\",\"id\":\"p1092\"},\"y_scale\":{\"type\":\"object\",\"name\":\"LinearScale\",\"id\":\"p1093\"},\"title\":{\"type\":\"object\",\"name\":\"Title\",\"id\":\"p1085\",\"attributes\":{\"text\":\"Library customer education\",\"text_color\":\"black\",\"text_font_size\":\"12pt\"}},\"renderers\":[{\"type\":\"object\",\"name\":\"GlyphRenderer\",\"id\":\"p1124\",\"attributes\":{\"data_source\":{\"type\":\"object\",\"name\":\"ColumnDataSource\",\"id\":\"p1115\",\"attributes\":{\"selected\":{\"type\":\"object\",\"name\":\"Selection\",\"id\":\"p1116\",\"attributes\":{\"indices\":[],\"line_indices\":[]}},\"selection_policy\":{\"type\":\"object\",\"name\":\"UnionRenderers\",\"id\":\"p1117\"},\"data\":{\"type\":\"map\",\"entries\":[[\"Education\",[\"Others\",\"Graduate Degree\",\"High School\",\"College\"]],[\"Number_of_customers\",{\"type\":\"ndarray\",\"array\":{\"type\":\"bytes\",\"data\":\"3AEAAMUBAAD6AQAAzQEAAA==\"},\"shape\":[4],\"dtype\":\"uint32\",\"order\":\"little\"}]]}}},\"view\":{\"type\":\"object\",\"name\":\"CDSView\",\"id\":\"p1125\",\"attributes\":{\"filter\":{\"type\":\"object\",\"name\":\"AllIndices\",\"id\":\"p1126\"}}},\"glyph\":{\"type\":\"object\",\"name\":\"VBar\",\"id\":\"p1121\",\"attributes\":{\"tags\":[\"apply_ranges\"],\"x\":{\"type\":\"field\",\"field\":\"Education\"},\"width\":{\"type\":\"value\",\"value\":0.8},\"top\":{\"type\":\"field\",\"field\":\"Number_of_customers\"},\"fill_color\":{\"type\":\"value\",\"value\":\"teal\"},\"hatch_color\":{\"type\":\"value\",\"value\":\"teal\"}}},\"selection_glyph\":{\"type\":\"object\",\"name\":\"VBar\",\"id\":\"p1127\",\"attributes\":{\"tags\":[\"apply_ranges\"],\"x\":{\"type\":\"field\",\"field\":\"Education\"},\"width\":{\"type\":\"value\",\"value\":0.8},\"bottom\":{\"type\":\"value\",\"value\":0},\"top\":{\"type\":\"field\",\"field\":\"Number_of_customers\"},\"line_color\":{\"type\":\"value\",\"value\":\"black\"},\"line_alpha\":{\"type\":\"value\",\"value\":1.0},\"line_width\":{\"type\":\"value\",\"value\":1},\"line_join\":{\"type\":\"value\",\"value\":\"bevel\"},\"line_cap\":{\"type\":\"value\",\"value\":\"butt\"},\"line_dash\":{\"type\":\"value\",\"value\":[]},\"line_dash_offset\":{\"type\":\"value\",\"value\":0},\"fill_color\":{\"type\":\"value\",\"value\":\"teal\"},\"fill_alpha\":{\"type\":\"value\",\"value\":1.0},\"hatch_color\":{\"type\":\"value\",\"value\":\"teal\"},\"hatch_alpha\":{\"type\":\"value\",\"value\":1.0},\"hatch_scale\":{\"type\":\"value\",\"value\":12.0},\"hatch_pattern\":{\"type\":\"value\",\"value\":null},\"hatch_weight\":{\"type\":\"value\",\"value\":1.0}}},\"nonselection_glyph\":{\"type\":\"object\",\"name\":\"VBar\",\"id\":\"p1122\",\"attributes\":{\"tags\":[\"apply_ranges\"],\"x\":{\"type\":\"field\",\"field\":\"Education\"},\"width\":{\"type\":\"value\",\"value\":0.8},\"top\":{\"type\":\"field\",\"field\":\"Number_of_customers\"},\"line_alpha\":{\"type\":\"value\",\"value\":0.1},\"fill_color\":{\"type\":\"value\",\"value\":\"teal\"},\"fill_alpha\":{\"type\":\"value\",\"value\":0.1},\"hatch_color\":{\"type\":\"value\",\"value\":\"teal\"},\"hatch_alpha\":{\"type\":\"value\",\"value\":0.1}}},\"muted_glyph\":{\"type\":\"object\",\"name\":\"VBar\",\"id\":\"p1123\",\"attributes\":{\"tags\":[\"apply_ranges\"],\"x\":{\"type\":\"field\",\"field\":\"Education\"},\"width\":{\"type\":\"value\",\"value\":0.8},\"top\":{\"type\":\"field\",\"field\":\"Number_of_customers\"},\"line_alpha\":{\"type\":\"value\",\"value\":0.2},\"fill_color\":{\"type\":\"value\",\"value\":\"teal\"},\"fill_alpha\":{\"type\":\"value\",\"value\":0.2},\"hatch_color\":{\"type\":\"value\",\"value\":\"teal\"},\"hatch_alpha\":{\"type\":\"value\",\"value\":0.2}}}}}],\"toolbar\":{\"type\":\"object\",\"name\":\"Toolbar\",\"id\":\"p1091\",\"attributes\":{\"tools\":[{\"type\":\"object\",\"name\":\"WheelZoomTool\",\"id\":\"p1080\",\"attributes\":{\"tags\":[\"hv_created\"],\"renderers\":\"auto\",\"zoom_together\":\"none\"}},{\"type\":\"object\",\"name\":\"HoverTool\",\"id\":\"p1081\",\"attributes\":{\"tags\":[\"hv_created\"],\"renderers\":[{\"id\":\"p1124\"}],\"tooltips\":[[\"Education\",\"@{Education}\"],[\"Number of customers\",\"@{Number_of_customers}\"]]}},{\"type\":\"object\",\"name\":\"SaveTool\",\"id\":\"p1104\"},{\"type\":\"object\",\"name\":\"PanTool\",\"id\":\"p1105\"},{\"type\":\"object\",\"name\":\"BoxZoomTool\",\"id\":\"p1106\",\"attributes\":{\"overlay\":{\"type\":\"object\",\"name\":\"BoxAnnotation\",\"id\":\"p1107\",\"attributes\":{\"syncable\":false,\"line_color\":\"black\",\"line_alpha\":1.0,\"line_width\":2,\"line_dash\":[4,4],\"fill_color\":\"lightgrey\",\"fill_alpha\":0.5,\"level\":\"overlay\",\"visible\":false,\"left\":{\"type\":\"number\",\"value\":\"nan\"},\"right\":{\"type\":\"number\",\"value\":\"nan\"},\"top\":{\"type\":\"number\",\"value\":\"nan\"},\"bottom\":{\"type\":\"number\",\"value\":\"nan\"},\"left_units\":\"canvas\",\"right_units\":\"canvas\",\"top_units\":\"canvas\",\"bottom_units\":\"canvas\",\"handles\":{\"type\":\"object\",\"name\":\"BoxInteractionHandles\",\"id\":\"p1113\",\"attributes\":{\"all\":{\"type\":\"object\",\"name\":\"AreaVisuals\",\"id\":\"p1112\",\"attributes\":{\"fill_color\":\"white\",\"hover_fill_color\":\"lightgray\"}}}}}}}},{\"type\":\"object\",\"name\":\"ResetTool\",\"id\":\"p1114\"}],\"active_drag\":{\"id\":\"p1105\"},\"active_scroll\":{\"id\":\"p1080\"}}},\"left\":[{\"type\":\"object\",\"name\":\"LinearAxis\",\"id\":\"p1099\",\"attributes\":{\"ticker\":{\"type\":\"object\",\"name\":\"BasicTicker\",\"id\":\"p1100\",\"attributes\":{\"mantissas\":[1,2,5]}},\"formatter\":{\"type\":\"object\",\"name\":\"BasicTickFormatter\",\"id\":\"p1101\"},\"axis_label\":\"Number of customers\",\"major_label_policy\":{\"type\":\"object\",\"name\":\"AllLabels\",\"id\":\"p1102\"}}}],\"below\":[{\"type\":\"object\",\"name\":\"CategoricalAxis\",\"id\":\"p1094\",\"attributes\":{\"ticker\":{\"type\":\"object\",\"name\":\"CategoricalTicker\",\"id\":\"p1095\"},\"formatter\":{\"type\":\"object\",\"name\":\"CategoricalTickFormatter\",\"id\":\"p1096\"},\"axis_label\":\"Education\",\"major_label_orientation\":1.5707963267948966,\"major_label_policy\":{\"type\":\"object\",\"name\":\"AllLabels\",\"id\":\"p1097\"}}}],\"center\":[{\"type\":\"object\",\"name\":\"Grid\",\"id\":\"p1098\",\"attributes\":{\"axis\":{\"id\":\"p1094\"},\"grid_line_color\":null}},{\"type\":\"object\",\"name\":\"Grid\",\"id\":\"p1103\",\"attributes\":{\"dimension\":1,\"axis\":{\"id\":\"p1099\"},\"grid_line_color\":null}}],\"min_border_top\":10,\"min_border_bottom\":10,\"min_border_left\":10,\"min_border_right\":10,\"output_backend\":\"webgl\"}},{\"type\":\"object\",\"name\":\"Spacer\",\"id\":\"p1129\",\"attributes\":{\"name\":\"HSpacer01017\",\"stylesheets\":[\"\\n:host(.pn-loading):before, .pn-loading:before {\\n  background-color: #c3c3c3;\\n  mask-size: auto calc(min(50%, 400px));\\n  -webkit-mask-size: auto calc(min(50%, 400px));\\n}\",{\"id\":\"p1073\"},{\"id\":\"p1071\"},{\"id\":\"p1072\"}],\"margin\":0,\"sizing_mode\":\"stretch_width\",\"align\":\"start\"}}]}}],\"defs\":[{\"type\":\"model\",\"name\":\"ReactiveHTML1\"},{\"type\":\"model\",\"name\":\"FlexBox1\",\"properties\":[{\"name\":\"align_content\",\"kind\":\"Any\",\"default\":\"flex-start\"},{\"name\":\"align_items\",\"kind\":\"Any\",\"default\":\"flex-start\"},{\"name\":\"flex_direction\",\"kind\":\"Any\",\"default\":\"row\"},{\"name\":\"flex_wrap\",\"kind\":\"Any\",\"default\":\"wrap\"},{\"name\":\"gap\",\"kind\":\"Any\",\"default\":\"\"},{\"name\":\"justify_content\",\"kind\":\"Any\",\"default\":\"flex-start\"}]},{\"type\":\"model\",\"name\":\"FloatPanel1\",\"properties\":[{\"name\":\"config\",\"kind\":\"Any\",\"default\":{\"type\":\"map\"}},{\"name\":\"contained\",\"kind\":\"Any\",\"default\":true},{\"name\":\"position\",\"kind\":\"Any\",\"default\":\"right-top\"},{\"name\":\"offsetx\",\"kind\":\"Any\",\"default\":null},{\"name\":\"offsety\",\"kind\":\"Any\",\"default\":null},{\"name\":\"theme\",\"kind\":\"Any\",\"default\":\"primary\"},{\"name\":\"status\",\"kind\":\"Any\",\"default\":\"normalized\"}]},{\"type\":\"model\",\"name\":\"GridStack1\",\"properties\":[{\"name\":\"mode\",\"kind\":\"Any\",\"default\":\"warn\"},{\"name\":\"ncols\",\"kind\":\"Any\",\"default\":null},{\"name\":\"nrows\",\"kind\":\"Any\",\"default\":null},{\"name\":\"allow_resize\",\"kind\":\"Any\",\"default\":true},{\"name\":\"allow_drag\",\"kind\":\"Any\",\"default\":true},{\"name\":\"state\",\"kind\":\"Any\",\"default\":[]}]},{\"type\":\"model\",\"name\":\"drag1\",\"properties\":[{\"name\":\"slider_width\",\"kind\":\"Any\",\"default\":5},{\"name\":\"slider_color\",\"kind\":\"Any\",\"default\":\"black\"},{\"name\":\"value\",\"kind\":\"Any\",\"default\":50}]},{\"type\":\"model\",\"name\":\"click1\",\"properties\":[{\"name\":\"terminal_output\",\"kind\":\"Any\",\"default\":\"\"},{\"name\":\"debug_name\",\"kind\":\"Any\",\"default\":\"\"},{\"name\":\"clears\",\"kind\":\"Any\",\"default\":0}]},{\"type\":\"model\",\"name\":\"FastWrapper1\",\"properties\":[{\"name\":\"object\",\"kind\":\"Any\",\"default\":null},{\"name\":\"style\",\"kind\":\"Any\",\"default\":null}]},{\"type\":\"model\",\"name\":\"NotificationAreaBase1\",\"properties\":[{\"name\":\"js_events\",\"kind\":\"Any\",\"default\":{\"type\":\"map\"}},{\"name\":\"position\",\"kind\":\"Any\",\"default\":\"bottom-right\"},{\"name\":\"_clear\",\"kind\":\"Any\",\"default\":0}]},{\"type\":\"model\",\"name\":\"NotificationArea1\",\"properties\":[{\"name\":\"js_events\",\"kind\":\"Any\",\"default\":{\"type\":\"map\"}},{\"name\":\"notifications\",\"kind\":\"Any\",\"default\":[]},{\"name\":\"position\",\"kind\":\"Any\",\"default\":\"bottom-right\"},{\"name\":\"_clear\",\"kind\":\"Any\",\"default\":0},{\"name\":\"types\",\"kind\":\"Any\",\"default\":[{\"type\":\"map\",\"entries\":[[\"type\",\"warning\"],[\"background\",\"#ffc107\"],[\"icon\",{\"type\":\"map\",\"entries\":[[\"className\",\"fas fa-exclamation-triangle\"],[\"tagName\",\"i\"],[\"color\",\"white\"]]}]]},{\"type\":\"map\",\"entries\":[[\"type\",\"info\"],[\"background\",\"#007bff\"],[\"icon\",{\"type\":\"map\",\"entries\":[[\"className\",\"fas fa-info-circle\"],[\"tagName\",\"i\"],[\"color\",\"white\"]]}]]}]}]},{\"type\":\"model\",\"name\":\"Notification\",\"properties\":[{\"name\":\"background\",\"kind\":\"Any\",\"default\":null},{\"name\":\"duration\",\"kind\":\"Any\",\"default\":3000},{\"name\":\"icon\",\"kind\":\"Any\",\"default\":null},{\"name\":\"message\",\"kind\":\"Any\",\"default\":\"\"},{\"name\":\"notification_type\",\"kind\":\"Any\",\"default\":null},{\"name\":\"_destroyed\",\"kind\":\"Any\",\"default\":false}]},{\"type\":\"model\",\"name\":\"TemplateActions1\",\"properties\":[{\"name\":\"open_modal\",\"kind\":\"Any\",\"default\":0},{\"name\":\"close_modal\",\"kind\":\"Any\",\"default\":0}]},{\"type\":\"model\",\"name\":\"BootstrapTemplateActions1\",\"properties\":[{\"name\":\"open_modal\",\"kind\":\"Any\",\"default\":0},{\"name\":\"close_modal\",\"kind\":\"Any\",\"default\":0}]},{\"type\":\"model\",\"name\":\"TemplateEditor1\",\"properties\":[{\"name\":\"layout\",\"kind\":\"Any\",\"default\":[]}]},{\"type\":\"model\",\"name\":\"MaterialTemplateActions1\",\"properties\":[{\"name\":\"open_modal\",\"kind\":\"Any\",\"default\":0},{\"name\":\"close_modal\",\"kind\":\"Any\",\"default\":0}]},{\"type\":\"model\",\"name\":\"ReactiveESM1\"},{\"type\":\"model\",\"name\":\"JSComponent1\"},{\"type\":\"model\",\"name\":\"ReactComponent1\"},{\"type\":\"model\",\"name\":\"AnyWidgetComponent1\"},{\"type\":\"model\",\"name\":\"request_value1\",\"properties\":[{\"name\":\"fill\",\"kind\":\"Any\",\"default\":\"none\"},{\"name\":\"_synced\",\"kind\":\"Any\",\"default\":null},{\"name\":\"_request_sync\",\"kind\":\"Any\",\"default\":0}]}]}};\n",
       "  var render_items = [{\"docid\":\"8008ca8c-ac52-4d68-949d-9ffc5ec4f35e\",\"roots\":{\"p1070\":\"a0ac1ffb-c4ba-4fb3-8ab7-2677ee6bbbac\"},\"root_ids\":[\"p1070\"]}];\n",
       "  var docs = Object.values(docs_json)\n",
       "  if (!docs) {\n",
       "    return\n",
       "  }\n",
       "  const py_version = docs[0].version.replace('rc', '-rc.').replace('.dev', '-dev.')\n",
       "  async function embed_document(root) {\n",
       "    var Bokeh = get_bokeh(root)\n",
       "    await Bokeh.embed.embed_items_notebook(docs_json, render_items);\n",
       "    for (const render_item of render_items) {\n",
       "      for (const root_id of render_item.root_ids) {\n",
       "\tconst id_el = document.getElementById(root_id)\n",
       "\tif (id_el.children.length && id_el.children[0].hasAttribute('data-root-id')) {\n",
       "\t  const root_el = id_el.children[0]\n",
       "\t  root_el.id = root_el.id + '-rendered'\n",
       "\t  for (const child of root_el.children) {\n",
       "            // Ensure JupyterLab does not capture keyboard shortcuts\n",
       "            // see: https://jupyterlab.readthedocs.io/en/4.1.x/extension/notebook.html#keyboard-interaction-model\n",
       "\t    child.setAttribute('data-lm-suppress-shortcuts', 'true')\n",
       "\t  }\n",
       "\t}\n",
       "      }\n",
       "    }\n",
       "  }\n",
       "  function get_bokeh(root) {\n",
       "    if (root.Bokeh === undefined) {\n",
       "      return null\n",
       "    } else if (root.Bokeh.version !== py_version) {\n",
       "      if (root.Bokeh.versions === undefined || !root.Bokeh.versions.has(py_version)) {\n",
       "\treturn null\n",
       "      }\n",
       "      return root.Bokeh.versions.get(py_version);\n",
       "    } else if (root.Bokeh.version === py_version) {\n",
       "      return root.Bokeh\n",
       "    }\n",
       "    return null\n",
       "  }\n",
       "  function is_loaded(root) {\n",
       "    var Bokeh = get_bokeh(root)\n",
       "    return (Bokeh != null && Bokeh.Panel !== undefined)\n",
       "  }\n",
       "  if (is_loaded(root)) {\n",
       "    embed_document(root);\n",
       "  } else {\n",
       "    var attempts = 0;\n",
       "    var timer = setInterval(function(root) {\n",
       "      if (is_loaded(root)) {\n",
       "        clearInterval(timer);\n",
       "        embed_document(root);\n",
       "      } else if (document.readyState == \"complete\") {\n",
       "        attempts++;\n",
       "        if (attempts > 200) {\n",
       "          clearInterval(timer);\n",
       "\t  var Bokeh = get_bokeh(root)\n",
       "\t  if (Bokeh == null || Bokeh.Panel == null) {\n",
       "            console.warn(\"Panel: ERROR: Unable to run Panel code because Bokeh or Panel library is missing\");\n",
       "\t  } else {\n",
       "\t    console.warn(\"Panel: WARNING: Attempting to render but not all required libraries could be resolved.\")\n",
       "\t    embed_document(root)\n",
       "\t  }\n",
       "        }\n",
       "      }\n",
       "    }, 25, root)\n",
       "  }\n",
       "})(window);</script>"
      ],
      "text/plain": [
       ":Bars   [Education]   (Number of customers)"
      ]
     },
     "execution_count": 18,
     "metadata": {
      "application/vnd.holoviews_exec.v0+json": {
       "id": "p1070"
      }
     },
     "output_type": "execute_result"
    }
   ],
   "source": [
    "education_df = customers_df.group_by(pl.col(\"education\")).len()\n",
    "education_df = education_df.drop_nulls().rename(\n",
    "    {\"education\": \"Education\", \"len\": \"Number of customers\"}\n",
    ")\n",
    "education_df.hvplot.bar(\n",
    "    x=\"Education\",\n",
    "    y=\"Number of customers\",\n",
    "    rot=90,\n",
    "    color=\"teal\",\n",
    "    title=\"Library customer education\",\n",
    ")"
   ]
  },
  {
   "cell_type": "code",
   "execution_count": 19,
   "id": "52105909-4bfa-4f04-b49f-4dff05657f96",
   "metadata": {},
   "outputs": [
    {
     "data": {},
     "metadata": {},
     "output_type": "display_data"
    },
    {
     "data": {
      "application/vnd.holoviews_exec.v0+json": "",
      "text/html": [
       "<div id='p1134'>\n",
       "  <div id=\"c766585c-fbf2-49c6-bac9-054e76799880\" data-root-id=\"p1134\" style=\"display: contents;\"></div>\n",
       "</div>\n",
       "<script type=\"application/javascript\">(function(root) {\n",
       "  var docs_json = {\"9b60a077-5e84-4504-ab1b-2796a26ec269\":{\"version\":\"3.6.0\",\"title\":\"Bokeh Application\",\"roots\":[{\"type\":\"object\",\"name\":\"Row\",\"id\":\"p1134\",\"attributes\":{\"name\":\"Row01096\",\"tags\":[\"embedded\"],\"stylesheets\":[\"\\n:host(.pn-loading):before, .pn-loading:before {\\n  background-color: #c3c3c3;\\n  mask-size: auto calc(min(50%, 400px));\\n  -webkit-mask-size: auto calc(min(50%, 400px));\\n}\",{\"type\":\"object\",\"name\":\"ImportedStyleSheet\",\"id\":\"p1137\",\"attributes\":{\"url\":\"https://cdn.holoviz.org/panel/1.5.3/dist/css/loading.css\"}},{\"type\":\"object\",\"name\":\"ImportedStyleSheet\",\"id\":\"p1195\",\"attributes\":{\"url\":\"https://cdn.holoviz.org/panel/1.5.3/dist/css/listpanel.css\"}},{\"type\":\"object\",\"name\":\"ImportedStyleSheet\",\"id\":\"p1135\",\"attributes\":{\"url\":\"https://cdn.holoviz.org/panel/1.5.3/dist/bundled/theme/default.css\"}},{\"type\":\"object\",\"name\":\"ImportedStyleSheet\",\"id\":\"p1136\",\"attributes\":{\"url\":\"https://cdn.holoviz.org/panel/1.5.3/dist/bundled/theme/native.css\"}}],\"min_width\":700,\"margin\":0,\"sizing_mode\":\"stretch_width\",\"align\":\"start\",\"children\":[{\"type\":\"object\",\"name\":\"Spacer\",\"id\":\"p1138\",\"attributes\":{\"name\":\"HSpacer01103\",\"stylesheets\":[\"\\n:host(.pn-loading):before, .pn-loading:before {\\n  background-color: #c3c3c3;\\n  mask-size: auto calc(min(50%, 400px));\\n  -webkit-mask-size: auto calc(min(50%, 400px));\\n}\",{\"id\":\"p1137\"},{\"id\":\"p1135\"},{\"id\":\"p1136\"}],\"margin\":0,\"sizing_mode\":\"stretch_width\",\"align\":\"start\"}},{\"type\":\"object\",\"name\":\"Figure\",\"id\":\"p1146\",\"attributes\":{\"width\":700,\"height\":300,\"margin\":[5,10],\"sizing_mode\":\"fixed\",\"align\":\"start\",\"x_range\":{\"type\":\"object\",\"name\":\"FactorRange\",\"id\":\"p1139\",\"attributes\":{\"tags\":[[[\"Occupation\",null]],[]],\"factors\":[\"Business & Finance\",\"Sales\",\"Blue Collar\",\"Tech\",\"Admin & Support\",\"Education & Health\",\"Others\"]}},\"y_range\":{\"type\":\"object\",\"name\":\"Range1d\",\"id\":\"p1140\",\"attributes\":{\"tags\":[[[\"Number of customers\",null]],{\"type\":\"map\",\"entries\":[[\"invert_yaxis\",false],[\"autorange\",false]]}],\"end\":305.2,\"reset_start\":0.0,\"reset_end\":305.2}},\"x_scale\":{\"type\":\"object\",\"name\":\"CategoricalScale\",\"id\":\"p1156\"},\"y_scale\":{\"type\":\"object\",\"name\":\"LinearScale\",\"id\":\"p1157\"},\"title\":{\"type\":\"object\",\"name\":\"Title\",\"id\":\"p1149\",\"attributes\":{\"text\":\"Library customer occupation\",\"text_color\":\"black\",\"text_font_size\":\"12pt\"}},\"renderers\":[{\"type\":\"object\",\"name\":\"GlyphRenderer\",\"id\":\"p1188\",\"attributes\":{\"data_source\":{\"type\":\"object\",\"name\":\"ColumnDataSource\",\"id\":\"p1179\",\"attributes\":{\"selected\":{\"type\":\"object\",\"name\":\"Selection\",\"id\":\"p1180\",\"attributes\":{\"indices\":[],\"line_indices\":[]}},\"selection_policy\":{\"type\":\"object\",\"name\":\"UnionRenderers\",\"id\":\"p1181\"},\"data\":{\"type\":\"map\",\"entries\":[[\"Occupation\",[\"Business & Finance\",\"Sales\",\"Blue Collar\",\"Tech\",\"Admin & Support\",\"Education & Health\",\"Others\"]],[\"Number_of_customers\",{\"type\":\"ndarray\",\"array\":{\"type\":\"bytes\",\"data\":\"AwEAAAUBAAAJAQAABwEAAC0BAAATAQAADQEAAA==\"},\"shape\":[7],\"dtype\":\"uint32\",\"order\":\"little\"}]]}}},\"view\":{\"type\":\"object\",\"name\":\"CDSView\",\"id\":\"p1189\",\"attributes\":{\"filter\":{\"type\":\"object\",\"name\":\"AllIndices\",\"id\":\"p1190\"}}},\"glyph\":{\"type\":\"object\",\"name\":\"VBar\",\"id\":\"p1185\",\"attributes\":{\"tags\":[\"apply_ranges\"],\"x\":{\"type\":\"field\",\"field\":\"Occupation\"},\"width\":{\"type\":\"value\",\"value\":0.8},\"top\":{\"type\":\"field\",\"field\":\"Number_of_customers\"},\"fill_color\":{\"type\":\"value\",\"value\":\"orange\"},\"hatch_color\":{\"type\":\"value\",\"value\":\"orange\"}}},\"selection_glyph\":{\"type\":\"object\",\"name\":\"VBar\",\"id\":\"p1191\",\"attributes\":{\"tags\":[\"apply_ranges\"],\"x\":{\"type\":\"field\",\"field\":\"Occupation\"},\"width\":{\"type\":\"value\",\"value\":0.8},\"bottom\":{\"type\":\"value\",\"value\":0},\"top\":{\"type\":\"field\",\"field\":\"Number_of_customers\"},\"line_color\":{\"type\":\"value\",\"value\":\"black\"},\"line_alpha\":{\"type\":\"value\",\"value\":1.0},\"line_width\":{\"type\":\"value\",\"value\":1},\"line_join\":{\"type\":\"value\",\"value\":\"bevel\"},\"line_cap\":{\"type\":\"value\",\"value\":\"butt\"},\"line_dash\":{\"type\":\"value\",\"value\":[]},\"line_dash_offset\":{\"type\":\"value\",\"value\":0},\"fill_color\":{\"type\":\"value\",\"value\":\"orange\"},\"fill_alpha\":{\"type\":\"value\",\"value\":1.0},\"hatch_color\":{\"type\":\"value\",\"value\":\"orange\"},\"hatch_alpha\":{\"type\":\"value\",\"value\":1.0},\"hatch_scale\":{\"type\":\"value\",\"value\":12.0},\"hatch_pattern\":{\"type\":\"value\",\"value\":null},\"hatch_weight\":{\"type\":\"value\",\"value\":1.0}}},\"nonselection_glyph\":{\"type\":\"object\",\"name\":\"VBar\",\"id\":\"p1186\",\"attributes\":{\"tags\":[\"apply_ranges\"],\"x\":{\"type\":\"field\",\"field\":\"Occupation\"},\"width\":{\"type\":\"value\",\"value\":0.8},\"top\":{\"type\":\"field\",\"field\":\"Number_of_customers\"},\"line_alpha\":{\"type\":\"value\",\"value\":0.1},\"fill_color\":{\"type\":\"value\",\"value\":\"orange\"},\"fill_alpha\":{\"type\":\"value\",\"value\":0.1},\"hatch_color\":{\"type\":\"value\",\"value\":\"orange\"},\"hatch_alpha\":{\"type\":\"value\",\"value\":0.1}}},\"muted_glyph\":{\"type\":\"object\",\"name\":\"VBar\",\"id\":\"p1187\",\"attributes\":{\"tags\":[\"apply_ranges\"],\"x\":{\"type\":\"field\",\"field\":\"Occupation\"},\"width\":{\"type\":\"value\",\"value\":0.8},\"top\":{\"type\":\"field\",\"field\":\"Number_of_customers\"},\"line_alpha\":{\"type\":\"value\",\"value\":0.2},\"fill_color\":{\"type\":\"value\",\"value\":\"orange\"},\"fill_alpha\":{\"type\":\"value\",\"value\":0.2},\"hatch_color\":{\"type\":\"value\",\"value\":\"orange\"},\"hatch_alpha\":{\"type\":\"value\",\"value\":0.2}}}}}],\"toolbar\":{\"type\":\"object\",\"name\":\"Toolbar\",\"id\":\"p1155\",\"attributes\":{\"tools\":[{\"type\":\"object\",\"name\":\"WheelZoomTool\",\"id\":\"p1144\",\"attributes\":{\"tags\":[\"hv_created\"],\"renderers\":\"auto\",\"zoom_together\":\"none\"}},{\"type\":\"object\",\"name\":\"HoverTool\",\"id\":\"p1145\",\"attributes\":{\"tags\":[\"hv_created\"],\"renderers\":[{\"id\":\"p1188\"}],\"tooltips\":[[\"Occupation\",\"@{Occupation}\"],[\"Number of customers\",\"@{Number_of_customers}\"]]}},{\"type\":\"object\",\"name\":\"SaveTool\",\"id\":\"p1168\"},{\"type\":\"object\",\"name\":\"PanTool\",\"id\":\"p1169\"},{\"type\":\"object\",\"name\":\"BoxZoomTool\",\"id\":\"p1170\",\"attributes\":{\"overlay\":{\"type\":\"object\",\"name\":\"BoxAnnotation\",\"id\":\"p1171\",\"attributes\":{\"syncable\":false,\"line_color\":\"black\",\"line_alpha\":1.0,\"line_width\":2,\"line_dash\":[4,4],\"fill_color\":\"lightgrey\",\"fill_alpha\":0.5,\"level\":\"overlay\",\"visible\":false,\"left\":{\"type\":\"number\",\"value\":\"nan\"},\"right\":{\"type\":\"number\",\"value\":\"nan\"},\"top\":{\"type\":\"number\",\"value\":\"nan\"},\"bottom\":{\"type\":\"number\",\"value\":\"nan\"},\"left_units\":\"canvas\",\"right_units\":\"canvas\",\"top_units\":\"canvas\",\"bottom_units\":\"canvas\",\"handles\":{\"type\":\"object\",\"name\":\"BoxInteractionHandles\",\"id\":\"p1177\",\"attributes\":{\"all\":{\"type\":\"object\",\"name\":\"AreaVisuals\",\"id\":\"p1176\",\"attributes\":{\"fill_color\":\"white\",\"hover_fill_color\":\"lightgray\"}}}}}}}},{\"type\":\"object\",\"name\":\"ResetTool\",\"id\":\"p1178\"}],\"active_drag\":{\"id\":\"p1169\"},\"active_scroll\":{\"id\":\"p1144\"}}},\"left\":[{\"type\":\"object\",\"name\":\"LinearAxis\",\"id\":\"p1163\",\"attributes\":{\"ticker\":{\"type\":\"object\",\"name\":\"BasicTicker\",\"id\":\"p1164\",\"attributes\":{\"mantissas\":[1,2,5]}},\"formatter\":{\"type\":\"object\",\"name\":\"BasicTickFormatter\",\"id\":\"p1165\"},\"axis_label\":\"Number of customers\",\"major_label_policy\":{\"type\":\"object\",\"name\":\"AllLabels\",\"id\":\"p1166\"}}}],\"below\":[{\"type\":\"object\",\"name\":\"CategoricalAxis\",\"id\":\"p1158\",\"attributes\":{\"ticker\":{\"type\":\"object\",\"name\":\"CategoricalTicker\",\"id\":\"p1159\"},\"formatter\":{\"type\":\"object\",\"name\":\"CategoricalTickFormatter\",\"id\":\"p1160\"},\"axis_label\":\"Occupation\",\"major_label_orientation\":1.5707963267948966,\"major_label_policy\":{\"type\":\"object\",\"name\":\"AllLabels\",\"id\":\"p1161\"}}}],\"center\":[{\"type\":\"object\",\"name\":\"Grid\",\"id\":\"p1162\",\"attributes\":{\"axis\":{\"id\":\"p1158\"},\"grid_line_color\":null}},{\"type\":\"object\",\"name\":\"Grid\",\"id\":\"p1167\",\"attributes\":{\"dimension\":1,\"axis\":{\"id\":\"p1163\"},\"grid_line_color\":null}}],\"min_border_top\":10,\"min_border_bottom\":10,\"min_border_left\":10,\"min_border_right\":10,\"output_backend\":\"webgl\"}},{\"type\":\"object\",\"name\":\"Spacer\",\"id\":\"p1193\",\"attributes\":{\"name\":\"HSpacer01104\",\"stylesheets\":[\"\\n:host(.pn-loading):before, .pn-loading:before {\\n  background-color: #c3c3c3;\\n  mask-size: auto calc(min(50%, 400px));\\n  -webkit-mask-size: auto calc(min(50%, 400px));\\n}\",{\"id\":\"p1137\"},{\"id\":\"p1135\"},{\"id\":\"p1136\"}],\"margin\":0,\"sizing_mode\":\"stretch_width\",\"align\":\"start\"}}]}}],\"defs\":[{\"type\":\"model\",\"name\":\"ReactiveHTML1\"},{\"type\":\"model\",\"name\":\"FlexBox1\",\"properties\":[{\"name\":\"align_content\",\"kind\":\"Any\",\"default\":\"flex-start\"},{\"name\":\"align_items\",\"kind\":\"Any\",\"default\":\"flex-start\"},{\"name\":\"flex_direction\",\"kind\":\"Any\",\"default\":\"row\"},{\"name\":\"flex_wrap\",\"kind\":\"Any\",\"default\":\"wrap\"},{\"name\":\"gap\",\"kind\":\"Any\",\"default\":\"\"},{\"name\":\"justify_content\",\"kind\":\"Any\",\"default\":\"flex-start\"}]},{\"type\":\"model\",\"name\":\"FloatPanel1\",\"properties\":[{\"name\":\"config\",\"kind\":\"Any\",\"default\":{\"type\":\"map\"}},{\"name\":\"contained\",\"kind\":\"Any\",\"default\":true},{\"name\":\"position\",\"kind\":\"Any\",\"default\":\"right-top\"},{\"name\":\"offsetx\",\"kind\":\"Any\",\"default\":null},{\"name\":\"offsety\",\"kind\":\"Any\",\"default\":null},{\"name\":\"theme\",\"kind\":\"Any\",\"default\":\"primary\"},{\"name\":\"status\",\"kind\":\"Any\",\"default\":\"normalized\"}]},{\"type\":\"model\",\"name\":\"GridStack1\",\"properties\":[{\"name\":\"mode\",\"kind\":\"Any\",\"default\":\"warn\"},{\"name\":\"ncols\",\"kind\":\"Any\",\"default\":null},{\"name\":\"nrows\",\"kind\":\"Any\",\"default\":null},{\"name\":\"allow_resize\",\"kind\":\"Any\",\"default\":true},{\"name\":\"allow_drag\",\"kind\":\"Any\",\"default\":true},{\"name\":\"state\",\"kind\":\"Any\",\"default\":[]}]},{\"type\":\"model\",\"name\":\"drag1\",\"properties\":[{\"name\":\"slider_width\",\"kind\":\"Any\",\"default\":5},{\"name\":\"slider_color\",\"kind\":\"Any\",\"default\":\"black\"},{\"name\":\"value\",\"kind\":\"Any\",\"default\":50}]},{\"type\":\"model\",\"name\":\"click1\",\"properties\":[{\"name\":\"terminal_output\",\"kind\":\"Any\",\"default\":\"\"},{\"name\":\"debug_name\",\"kind\":\"Any\",\"default\":\"\"},{\"name\":\"clears\",\"kind\":\"Any\",\"default\":0}]},{\"type\":\"model\",\"name\":\"FastWrapper1\",\"properties\":[{\"name\":\"object\",\"kind\":\"Any\",\"default\":null},{\"name\":\"style\",\"kind\":\"Any\",\"default\":null}]},{\"type\":\"model\",\"name\":\"NotificationAreaBase1\",\"properties\":[{\"name\":\"js_events\",\"kind\":\"Any\",\"default\":{\"type\":\"map\"}},{\"name\":\"position\",\"kind\":\"Any\",\"default\":\"bottom-right\"},{\"name\":\"_clear\",\"kind\":\"Any\",\"default\":0}]},{\"type\":\"model\",\"name\":\"NotificationArea1\",\"properties\":[{\"name\":\"js_events\",\"kind\":\"Any\",\"default\":{\"type\":\"map\"}},{\"name\":\"notifications\",\"kind\":\"Any\",\"default\":[]},{\"name\":\"position\",\"kind\":\"Any\",\"default\":\"bottom-right\"},{\"name\":\"_clear\",\"kind\":\"Any\",\"default\":0},{\"name\":\"types\",\"kind\":\"Any\",\"default\":[{\"type\":\"map\",\"entries\":[[\"type\",\"warning\"],[\"background\",\"#ffc107\"],[\"icon\",{\"type\":\"map\",\"entries\":[[\"className\",\"fas fa-exclamation-triangle\"],[\"tagName\",\"i\"],[\"color\",\"white\"]]}]]},{\"type\":\"map\",\"entries\":[[\"type\",\"info\"],[\"background\",\"#007bff\"],[\"icon\",{\"type\":\"map\",\"entries\":[[\"className\",\"fas fa-info-circle\"],[\"tagName\",\"i\"],[\"color\",\"white\"]]}]]}]}]},{\"type\":\"model\",\"name\":\"Notification\",\"properties\":[{\"name\":\"background\",\"kind\":\"Any\",\"default\":null},{\"name\":\"duration\",\"kind\":\"Any\",\"default\":3000},{\"name\":\"icon\",\"kind\":\"Any\",\"default\":null},{\"name\":\"message\",\"kind\":\"Any\",\"default\":\"\"},{\"name\":\"notification_type\",\"kind\":\"Any\",\"default\":null},{\"name\":\"_destroyed\",\"kind\":\"Any\",\"default\":false}]},{\"type\":\"model\",\"name\":\"TemplateActions1\",\"properties\":[{\"name\":\"open_modal\",\"kind\":\"Any\",\"default\":0},{\"name\":\"close_modal\",\"kind\":\"Any\",\"default\":0}]},{\"type\":\"model\",\"name\":\"BootstrapTemplateActions1\",\"properties\":[{\"name\":\"open_modal\",\"kind\":\"Any\",\"default\":0},{\"name\":\"close_modal\",\"kind\":\"Any\",\"default\":0}]},{\"type\":\"model\",\"name\":\"TemplateEditor1\",\"properties\":[{\"name\":\"layout\",\"kind\":\"Any\",\"default\":[]}]},{\"type\":\"model\",\"name\":\"MaterialTemplateActions1\",\"properties\":[{\"name\":\"open_modal\",\"kind\":\"Any\",\"default\":0},{\"name\":\"close_modal\",\"kind\":\"Any\",\"default\":0}]},{\"type\":\"model\",\"name\":\"ReactiveESM1\"},{\"type\":\"model\",\"name\":\"JSComponent1\"},{\"type\":\"model\",\"name\":\"ReactComponent1\"},{\"type\":\"model\",\"name\":\"AnyWidgetComponent1\"},{\"type\":\"model\",\"name\":\"request_value1\",\"properties\":[{\"name\":\"fill\",\"kind\":\"Any\",\"default\":\"none\"},{\"name\":\"_synced\",\"kind\":\"Any\",\"default\":null},{\"name\":\"_request_sync\",\"kind\":\"Any\",\"default\":0}]}]}};\n",
       "  var render_items = [{\"docid\":\"9b60a077-5e84-4504-ab1b-2796a26ec269\",\"roots\":{\"p1134\":\"c766585c-fbf2-49c6-bac9-054e76799880\"},\"root_ids\":[\"p1134\"]}];\n",
       "  var docs = Object.values(docs_json)\n",
       "  if (!docs) {\n",
       "    return\n",
       "  }\n",
       "  const py_version = docs[0].version.replace('rc', '-rc.').replace('.dev', '-dev.')\n",
       "  async function embed_document(root) {\n",
       "    var Bokeh = get_bokeh(root)\n",
       "    await Bokeh.embed.embed_items_notebook(docs_json, render_items);\n",
       "    for (const render_item of render_items) {\n",
       "      for (const root_id of render_item.root_ids) {\n",
       "\tconst id_el = document.getElementById(root_id)\n",
       "\tif (id_el.children.length && id_el.children[0].hasAttribute('data-root-id')) {\n",
       "\t  const root_el = id_el.children[0]\n",
       "\t  root_el.id = root_el.id + '-rendered'\n",
       "\t  for (const child of root_el.children) {\n",
       "            // Ensure JupyterLab does not capture keyboard shortcuts\n",
       "            // see: https://jupyterlab.readthedocs.io/en/4.1.x/extension/notebook.html#keyboard-interaction-model\n",
       "\t    child.setAttribute('data-lm-suppress-shortcuts', 'true')\n",
       "\t  }\n",
       "\t}\n",
       "      }\n",
       "    }\n",
       "  }\n",
       "  function get_bokeh(root) {\n",
       "    if (root.Bokeh === undefined) {\n",
       "      return null\n",
       "    } else if (root.Bokeh.version !== py_version) {\n",
       "      if (root.Bokeh.versions === undefined || !root.Bokeh.versions.has(py_version)) {\n",
       "\treturn null\n",
       "      }\n",
       "      return root.Bokeh.versions.get(py_version);\n",
       "    } else if (root.Bokeh.version === py_version) {\n",
       "      return root.Bokeh\n",
       "    }\n",
       "    return null\n",
       "  }\n",
       "  function is_loaded(root) {\n",
       "    var Bokeh = get_bokeh(root)\n",
       "    return (Bokeh != null && Bokeh.Panel !== undefined)\n",
       "  }\n",
       "  if (is_loaded(root)) {\n",
       "    embed_document(root);\n",
       "  } else {\n",
       "    var attempts = 0;\n",
       "    var timer = setInterval(function(root) {\n",
       "      if (is_loaded(root)) {\n",
       "        clearInterval(timer);\n",
       "        embed_document(root);\n",
       "      } else if (document.readyState == \"complete\") {\n",
       "        attempts++;\n",
       "        if (attempts > 200) {\n",
       "          clearInterval(timer);\n",
       "\t  var Bokeh = get_bokeh(root)\n",
       "\t  if (Bokeh == null || Bokeh.Panel == null) {\n",
       "            console.warn(\"Panel: ERROR: Unable to run Panel code because Bokeh or Panel library is missing\");\n",
       "\t  } else {\n",
       "\t    console.warn(\"Panel: WARNING: Attempting to render but not all required libraries could be resolved.\")\n",
       "\t    embed_document(root)\n",
       "\t  }\n",
       "        }\n",
       "      }\n",
       "    }, 25, root)\n",
       "  }\n",
       "})(window);</script>"
      ],
      "text/plain": [
       ":Bars   [Occupation]   (Number of customers)"
      ]
     },
     "execution_count": 19,
     "metadata": {
      "application/vnd.holoviews_exec.v0+json": {
       "id": "p1134"
      }
     },
     "output_type": "execute_result"
    }
   ],
   "source": [
    "occupation_df = customers_df.group_by(pl.col(\"occupation\")).len()\n",
    "occupation_df = occupation_df.drop_nulls().rename(\n",
    "    {\"occupation\": \"Occupation\", \"len\": \"Number of customers\"}\n",
    ")\n",
    "occupation_df.hvplot.bar(\n",
    "    x=\"Occupation\",\n",
    "    y=\"Number of customers\",\n",
    "    rot=90,\n",
    "    color=\"orange\",\n",
    "    title=\"Library customer occupation\",\n",
    ")"
   ]
  },
  {
   "cell_type": "code",
   "execution_count": 77,
   "id": "db7bca16-be53-45b0-b3f8-a6e045a21ff4",
   "metadata": {},
   "outputs": [
    {
     "data": {},
     "metadata": {},
     "output_type": "display_data"
    },
    {
     "data": {
      "application/vnd.holoviews_exec.v0+json": "",
      "text/html": [
       "<div id='p2093'>\n",
       "  <div id=\"fc04d04f-a1cf-43ea-b0be-aca453167420\" data-root-id=\"p2093\" style=\"display: contents;\"></div>\n",
       "</div>\n",
       "<script type=\"application/javascript\">(function(root) {\n",
       "  var docs_json = {\"e267c072-6ff8-4e2d-abda-fb256dc4d8e2\":{\"version\":\"3.6.0\",\"title\":\"Bokeh Application\",\"roots\":[{\"type\":\"object\",\"name\":\"Row\",\"id\":\"p2093\",\"attributes\":{\"name\":\"Row02573\",\"tags\":[\"embedded\"],\"stylesheets\":[\"\\n:host(.pn-loading):before, .pn-loading:before {\\n  background-color: #c3c3c3;\\n  mask-size: auto calc(min(50%, 400px));\\n  -webkit-mask-size: auto calc(min(50%, 400px));\\n}\",{\"type\":\"object\",\"name\":\"ImportedStyleSheet\",\"id\":\"p2096\",\"attributes\":{\"url\":\"https://cdn.holoviz.org/panel/1.5.3/dist/css/loading.css\"}},{\"type\":\"object\",\"name\":\"ImportedStyleSheet\",\"id\":\"p2154\",\"attributes\":{\"url\":\"https://cdn.holoviz.org/panel/1.5.3/dist/css/listpanel.css\"}},{\"type\":\"object\",\"name\":\"ImportedStyleSheet\",\"id\":\"p2094\",\"attributes\":{\"url\":\"https://cdn.holoviz.org/panel/1.5.3/dist/bundled/theme/default.css\"}},{\"type\":\"object\",\"name\":\"ImportedStyleSheet\",\"id\":\"p2095\",\"attributes\":{\"url\":\"https://cdn.holoviz.org/panel/1.5.3/dist/bundled/theme/native.css\"}}],\"min_width\":700,\"margin\":0,\"sizing_mode\":\"stretch_width\",\"align\":\"start\",\"children\":[{\"type\":\"object\",\"name\":\"Spacer\",\"id\":\"p2097\",\"attributes\":{\"name\":\"HSpacer02580\",\"stylesheets\":[\"\\n:host(.pn-loading):before, .pn-loading:before {\\n  background-color: #c3c3c3;\\n  mask-size: auto calc(min(50%, 400px));\\n  -webkit-mask-size: auto calc(min(50%, 400px));\\n}\",{\"id\":\"p2096\"},{\"id\":\"p2094\"},{\"id\":\"p2095\"}],\"margin\":0,\"sizing_mode\":\"stretch_width\",\"align\":\"start\"}},{\"type\":\"object\",\"name\":\"Figure\",\"id\":\"p2105\",\"attributes\":{\"width\":700,\"height\":300,\"margin\":[5,10],\"sizing_mode\":\"fixed\",\"align\":\"start\",\"x_range\":{\"type\":\"object\",\"name\":\"FactorRange\",\"id\":\"p2098\",\"attributes\":{\"tags\":[[[\"Age Category\",null]],[]],\"factors\":[\"Old\",\"Adult\",\"Young\",\"Middle-Age\"]}},\"y_range\":{\"type\":\"object\",\"name\":\"Range1d\",\"id\":\"p2099\",\"attributes\":{\"tags\":[[[\"Number of customers\",null]],{\"type\":\"map\",\"entries\":[[\"invert_yaxis\",false],[\"autorange\",false]]}],\"end\":737.8,\"reset_start\":0.0,\"reset_end\":737.8}},\"x_scale\":{\"type\":\"object\",\"name\":\"CategoricalScale\",\"id\":\"p2115\"},\"y_scale\":{\"type\":\"object\",\"name\":\"LinearScale\",\"id\":\"p2116\"},\"title\":{\"type\":\"object\",\"name\":\"Title\",\"id\":\"p2108\",\"attributes\":{\"text\":\"Library customer age group\",\"text_color\":\"black\",\"text_font_size\":\"12pt\"}},\"renderers\":[{\"type\":\"object\",\"name\":\"GlyphRenderer\",\"id\":\"p2147\",\"attributes\":{\"data_source\":{\"type\":\"object\",\"name\":\"ColumnDataSource\",\"id\":\"p2138\",\"attributes\":{\"selected\":{\"type\":\"object\",\"name\":\"Selection\",\"id\":\"p2139\",\"attributes\":{\"indices\":[],\"line_indices\":[]}},\"selection_policy\":{\"type\":\"object\",\"name\":\"UnionRenderers\",\"id\":\"p2140\"},\"data\":{\"type\":\"map\",\"entries\":[[\"Age_Category\",[\"Old\",\"Adult\",\"Young\",\"Middle-Age\"]],[\"Number_of_customers\",{\"type\":\"ndarray\",\"array\":{\"type\":\"bytes\",\"data\":\"nAEAADACAACdAAAArQIAAA==\"},\"shape\":[4],\"dtype\":\"uint32\",\"order\":\"little\"}]]}}},\"view\":{\"type\":\"object\",\"name\":\"CDSView\",\"id\":\"p2148\",\"attributes\":{\"filter\":{\"type\":\"object\",\"name\":\"AllIndices\",\"id\":\"p2149\"}}},\"glyph\":{\"type\":\"object\",\"name\":\"VBar\",\"id\":\"p2144\",\"attributes\":{\"tags\":[\"apply_ranges\"],\"x\":{\"type\":\"field\",\"field\":\"Age_Category\"},\"width\":{\"type\":\"value\",\"value\":0.8},\"top\":{\"type\":\"field\",\"field\":\"Number_of_customers\"},\"fill_color\":{\"type\":\"value\",\"value\":\"purple\"},\"hatch_color\":{\"type\":\"value\",\"value\":\"purple\"}}},\"selection_glyph\":{\"type\":\"object\",\"name\":\"VBar\",\"id\":\"p2150\",\"attributes\":{\"tags\":[\"apply_ranges\"],\"x\":{\"type\":\"field\",\"field\":\"Age_Category\"},\"width\":{\"type\":\"value\",\"value\":0.8},\"bottom\":{\"type\":\"value\",\"value\":0},\"top\":{\"type\":\"field\",\"field\":\"Number_of_customers\"},\"line_color\":{\"type\":\"value\",\"value\":\"black\"},\"line_alpha\":{\"type\":\"value\",\"value\":1.0},\"line_width\":{\"type\":\"value\",\"value\":1},\"line_join\":{\"type\":\"value\",\"value\":\"bevel\"},\"line_cap\":{\"type\":\"value\",\"value\":\"butt\"},\"line_dash\":{\"type\":\"value\",\"value\":[]},\"line_dash_offset\":{\"type\":\"value\",\"value\":0},\"fill_color\":{\"type\":\"value\",\"value\":\"purple\"},\"fill_alpha\":{\"type\":\"value\",\"value\":1.0},\"hatch_color\":{\"type\":\"value\",\"value\":\"purple\"},\"hatch_alpha\":{\"type\":\"value\",\"value\":1.0},\"hatch_scale\":{\"type\":\"value\",\"value\":12.0},\"hatch_pattern\":{\"type\":\"value\",\"value\":null},\"hatch_weight\":{\"type\":\"value\",\"value\":1.0}}},\"nonselection_glyph\":{\"type\":\"object\",\"name\":\"VBar\",\"id\":\"p2145\",\"attributes\":{\"tags\":[\"apply_ranges\"],\"x\":{\"type\":\"field\",\"field\":\"Age_Category\"},\"width\":{\"type\":\"value\",\"value\":0.8},\"top\":{\"type\":\"field\",\"field\":\"Number_of_customers\"},\"line_alpha\":{\"type\":\"value\",\"value\":0.1},\"fill_color\":{\"type\":\"value\",\"value\":\"purple\"},\"fill_alpha\":{\"type\":\"value\",\"value\":0.1},\"hatch_color\":{\"type\":\"value\",\"value\":\"purple\"},\"hatch_alpha\":{\"type\":\"value\",\"value\":0.1}}},\"muted_glyph\":{\"type\":\"object\",\"name\":\"VBar\",\"id\":\"p2146\",\"attributes\":{\"tags\":[\"apply_ranges\"],\"x\":{\"type\":\"field\",\"field\":\"Age_Category\"},\"width\":{\"type\":\"value\",\"value\":0.8},\"top\":{\"type\":\"field\",\"field\":\"Number_of_customers\"},\"line_alpha\":{\"type\":\"value\",\"value\":0.2},\"fill_color\":{\"type\":\"value\",\"value\":\"purple\"},\"fill_alpha\":{\"type\":\"value\",\"value\":0.2},\"hatch_color\":{\"type\":\"value\",\"value\":\"purple\"},\"hatch_alpha\":{\"type\":\"value\",\"value\":0.2}}}}}],\"toolbar\":{\"type\":\"object\",\"name\":\"Toolbar\",\"id\":\"p2114\",\"attributes\":{\"tools\":[{\"type\":\"object\",\"name\":\"WheelZoomTool\",\"id\":\"p2103\",\"attributes\":{\"tags\":[\"hv_created\"],\"renderers\":\"auto\",\"zoom_together\":\"none\"}},{\"type\":\"object\",\"name\":\"HoverTool\",\"id\":\"p2104\",\"attributes\":{\"tags\":[\"hv_created\"],\"renderers\":[{\"id\":\"p2147\"}],\"tooltips\":[[\"Age Category\",\"@{Age_Category}\"],[\"Number of customers\",\"@{Number_of_customers}\"]]}},{\"type\":\"object\",\"name\":\"SaveTool\",\"id\":\"p2127\"},{\"type\":\"object\",\"name\":\"PanTool\",\"id\":\"p2128\"},{\"type\":\"object\",\"name\":\"BoxZoomTool\",\"id\":\"p2129\",\"attributes\":{\"overlay\":{\"type\":\"object\",\"name\":\"BoxAnnotation\",\"id\":\"p2130\",\"attributes\":{\"syncable\":false,\"line_color\":\"black\",\"line_alpha\":1.0,\"line_width\":2,\"line_dash\":[4,4],\"fill_color\":\"lightgrey\",\"fill_alpha\":0.5,\"level\":\"overlay\",\"visible\":false,\"left\":{\"type\":\"number\",\"value\":\"nan\"},\"right\":{\"type\":\"number\",\"value\":\"nan\"},\"top\":{\"type\":\"number\",\"value\":\"nan\"},\"bottom\":{\"type\":\"number\",\"value\":\"nan\"},\"left_units\":\"canvas\",\"right_units\":\"canvas\",\"top_units\":\"canvas\",\"bottom_units\":\"canvas\",\"handles\":{\"type\":\"object\",\"name\":\"BoxInteractionHandles\",\"id\":\"p2136\",\"attributes\":{\"all\":{\"type\":\"object\",\"name\":\"AreaVisuals\",\"id\":\"p2135\",\"attributes\":{\"fill_color\":\"white\",\"hover_fill_color\":\"lightgray\"}}}}}}}},{\"type\":\"object\",\"name\":\"ResetTool\",\"id\":\"p2137\"}],\"active_drag\":{\"id\":\"p2128\"},\"active_scroll\":{\"id\":\"p2103\"}}},\"left\":[{\"type\":\"object\",\"name\":\"LinearAxis\",\"id\":\"p2122\",\"attributes\":{\"ticker\":{\"type\":\"object\",\"name\":\"BasicTicker\",\"id\":\"p2123\",\"attributes\":{\"mantissas\":[1,2,5]}},\"formatter\":{\"type\":\"object\",\"name\":\"BasicTickFormatter\",\"id\":\"p2124\"},\"axis_label\":\"Number of customers\",\"major_label_policy\":{\"type\":\"object\",\"name\":\"AllLabels\",\"id\":\"p2125\"}}}],\"below\":[{\"type\":\"object\",\"name\":\"CategoricalAxis\",\"id\":\"p2117\",\"attributes\":{\"ticker\":{\"type\":\"object\",\"name\":\"CategoricalTicker\",\"id\":\"p2118\"},\"formatter\":{\"type\":\"object\",\"name\":\"CategoricalTickFormatter\",\"id\":\"p2119\"},\"axis_label\":\"Age Category\",\"major_label_orientation\":1.5707963267948966,\"major_label_policy\":{\"type\":\"object\",\"name\":\"AllLabels\",\"id\":\"p2120\"}}}],\"center\":[{\"type\":\"object\",\"name\":\"Grid\",\"id\":\"p2121\",\"attributes\":{\"axis\":{\"id\":\"p2117\"},\"grid_line_color\":null}},{\"type\":\"object\",\"name\":\"Grid\",\"id\":\"p2126\",\"attributes\":{\"dimension\":1,\"axis\":{\"id\":\"p2122\"},\"grid_line_color\":null}}],\"min_border_top\":10,\"min_border_bottom\":10,\"min_border_left\":10,\"min_border_right\":10,\"output_backend\":\"webgl\"}},{\"type\":\"object\",\"name\":\"Spacer\",\"id\":\"p2152\",\"attributes\":{\"name\":\"HSpacer02581\",\"stylesheets\":[\"\\n:host(.pn-loading):before, .pn-loading:before {\\n  background-color: #c3c3c3;\\n  mask-size: auto calc(min(50%, 400px));\\n  -webkit-mask-size: auto calc(min(50%, 400px));\\n}\",{\"id\":\"p2096\"},{\"id\":\"p2094\"},{\"id\":\"p2095\"}],\"margin\":0,\"sizing_mode\":\"stretch_width\",\"align\":\"start\"}}]}}],\"defs\":[{\"type\":\"model\",\"name\":\"ReactiveHTML1\"},{\"type\":\"model\",\"name\":\"FlexBox1\",\"properties\":[{\"name\":\"align_content\",\"kind\":\"Any\",\"default\":\"flex-start\"},{\"name\":\"align_items\",\"kind\":\"Any\",\"default\":\"flex-start\"},{\"name\":\"flex_direction\",\"kind\":\"Any\",\"default\":\"row\"},{\"name\":\"flex_wrap\",\"kind\":\"Any\",\"default\":\"wrap\"},{\"name\":\"gap\",\"kind\":\"Any\",\"default\":\"\"},{\"name\":\"justify_content\",\"kind\":\"Any\",\"default\":\"flex-start\"}]},{\"type\":\"model\",\"name\":\"FloatPanel1\",\"properties\":[{\"name\":\"config\",\"kind\":\"Any\",\"default\":{\"type\":\"map\"}},{\"name\":\"contained\",\"kind\":\"Any\",\"default\":true},{\"name\":\"position\",\"kind\":\"Any\",\"default\":\"right-top\"},{\"name\":\"offsetx\",\"kind\":\"Any\",\"default\":null},{\"name\":\"offsety\",\"kind\":\"Any\",\"default\":null},{\"name\":\"theme\",\"kind\":\"Any\",\"default\":\"primary\"},{\"name\":\"status\",\"kind\":\"Any\",\"default\":\"normalized\"}]},{\"type\":\"model\",\"name\":\"GridStack1\",\"properties\":[{\"name\":\"mode\",\"kind\":\"Any\",\"default\":\"warn\"},{\"name\":\"ncols\",\"kind\":\"Any\",\"default\":null},{\"name\":\"nrows\",\"kind\":\"Any\",\"default\":null},{\"name\":\"allow_resize\",\"kind\":\"Any\",\"default\":true},{\"name\":\"allow_drag\",\"kind\":\"Any\",\"default\":true},{\"name\":\"state\",\"kind\":\"Any\",\"default\":[]}]},{\"type\":\"model\",\"name\":\"drag1\",\"properties\":[{\"name\":\"slider_width\",\"kind\":\"Any\",\"default\":5},{\"name\":\"slider_color\",\"kind\":\"Any\",\"default\":\"black\"},{\"name\":\"value\",\"kind\":\"Any\",\"default\":50}]},{\"type\":\"model\",\"name\":\"click1\",\"properties\":[{\"name\":\"terminal_output\",\"kind\":\"Any\",\"default\":\"\"},{\"name\":\"debug_name\",\"kind\":\"Any\",\"default\":\"\"},{\"name\":\"clears\",\"kind\":\"Any\",\"default\":0}]},{\"type\":\"model\",\"name\":\"FastWrapper1\",\"properties\":[{\"name\":\"object\",\"kind\":\"Any\",\"default\":null},{\"name\":\"style\",\"kind\":\"Any\",\"default\":null}]},{\"type\":\"model\",\"name\":\"NotificationAreaBase1\",\"properties\":[{\"name\":\"js_events\",\"kind\":\"Any\",\"default\":{\"type\":\"map\"}},{\"name\":\"position\",\"kind\":\"Any\",\"default\":\"bottom-right\"},{\"name\":\"_clear\",\"kind\":\"Any\",\"default\":0}]},{\"type\":\"model\",\"name\":\"NotificationArea1\",\"properties\":[{\"name\":\"js_events\",\"kind\":\"Any\",\"default\":{\"type\":\"map\"}},{\"name\":\"notifications\",\"kind\":\"Any\",\"default\":[]},{\"name\":\"position\",\"kind\":\"Any\",\"default\":\"bottom-right\"},{\"name\":\"_clear\",\"kind\":\"Any\",\"default\":0},{\"name\":\"types\",\"kind\":\"Any\",\"default\":[{\"type\":\"map\",\"entries\":[[\"type\",\"warning\"],[\"background\",\"#ffc107\"],[\"icon\",{\"type\":\"map\",\"entries\":[[\"className\",\"fas fa-exclamation-triangle\"],[\"tagName\",\"i\"],[\"color\",\"white\"]]}]]},{\"type\":\"map\",\"entries\":[[\"type\",\"info\"],[\"background\",\"#007bff\"],[\"icon\",{\"type\":\"map\",\"entries\":[[\"className\",\"fas fa-info-circle\"],[\"tagName\",\"i\"],[\"color\",\"white\"]]}]]}]}]},{\"type\":\"model\",\"name\":\"Notification\",\"properties\":[{\"name\":\"background\",\"kind\":\"Any\",\"default\":null},{\"name\":\"duration\",\"kind\":\"Any\",\"default\":3000},{\"name\":\"icon\",\"kind\":\"Any\",\"default\":null},{\"name\":\"message\",\"kind\":\"Any\",\"default\":\"\"},{\"name\":\"notification_type\",\"kind\":\"Any\",\"default\":null},{\"name\":\"_destroyed\",\"kind\":\"Any\",\"default\":false}]},{\"type\":\"model\",\"name\":\"TemplateActions1\",\"properties\":[{\"name\":\"open_modal\",\"kind\":\"Any\",\"default\":0},{\"name\":\"close_modal\",\"kind\":\"Any\",\"default\":0}]},{\"type\":\"model\",\"name\":\"BootstrapTemplateActions1\",\"properties\":[{\"name\":\"open_modal\",\"kind\":\"Any\",\"default\":0},{\"name\":\"close_modal\",\"kind\":\"Any\",\"default\":0}]},{\"type\":\"model\",\"name\":\"TemplateEditor1\",\"properties\":[{\"name\":\"layout\",\"kind\":\"Any\",\"default\":[]}]},{\"type\":\"model\",\"name\":\"MaterialTemplateActions1\",\"properties\":[{\"name\":\"open_modal\",\"kind\":\"Any\",\"default\":0},{\"name\":\"close_modal\",\"kind\":\"Any\",\"default\":0}]},{\"type\":\"model\",\"name\":\"ReactiveESM1\"},{\"type\":\"model\",\"name\":\"JSComponent1\"},{\"type\":\"model\",\"name\":\"ReactComponent1\"},{\"type\":\"model\",\"name\":\"AnyWidgetComponent1\"},{\"type\":\"model\",\"name\":\"request_value1\",\"properties\":[{\"name\":\"fill\",\"kind\":\"Any\",\"default\":\"none\"},{\"name\":\"_synced\",\"kind\":\"Any\",\"default\":null},{\"name\":\"_request_sync\",\"kind\":\"Any\",\"default\":0}]}]}};\n",
       "  var render_items = [{\"docid\":\"e267c072-6ff8-4e2d-abda-fb256dc4d8e2\",\"roots\":{\"p2093\":\"fc04d04f-a1cf-43ea-b0be-aca453167420\"},\"root_ids\":[\"p2093\"]}];\n",
       "  var docs = Object.values(docs_json)\n",
       "  if (!docs) {\n",
       "    return\n",
       "  }\n",
       "  const py_version = docs[0].version.replace('rc', '-rc.').replace('.dev', '-dev.')\n",
       "  async function embed_document(root) {\n",
       "    var Bokeh = get_bokeh(root)\n",
       "    await Bokeh.embed.embed_items_notebook(docs_json, render_items);\n",
       "    for (const render_item of render_items) {\n",
       "      for (const root_id of render_item.root_ids) {\n",
       "\tconst id_el = document.getElementById(root_id)\n",
       "\tif (id_el.children.length && id_el.children[0].hasAttribute('data-root-id')) {\n",
       "\t  const root_el = id_el.children[0]\n",
       "\t  root_el.id = root_el.id + '-rendered'\n",
       "\t  for (const child of root_el.children) {\n",
       "            // Ensure JupyterLab does not capture keyboard shortcuts\n",
       "            // see: https://jupyterlab.readthedocs.io/en/4.1.x/extension/notebook.html#keyboard-interaction-model\n",
       "\t    child.setAttribute('data-lm-suppress-shortcuts', 'true')\n",
       "\t  }\n",
       "\t}\n",
       "      }\n",
       "    }\n",
       "  }\n",
       "  function get_bokeh(root) {\n",
       "    if (root.Bokeh === undefined) {\n",
       "      return null\n",
       "    } else if (root.Bokeh.version !== py_version) {\n",
       "      if (root.Bokeh.versions === undefined || !root.Bokeh.versions.has(py_version)) {\n",
       "\treturn null\n",
       "      }\n",
       "      return root.Bokeh.versions.get(py_version);\n",
       "    } else if (root.Bokeh.version === py_version) {\n",
       "      return root.Bokeh\n",
       "    }\n",
       "    return null\n",
       "  }\n",
       "  function is_loaded(root) {\n",
       "    var Bokeh = get_bokeh(root)\n",
       "    return (Bokeh != null && Bokeh.Panel !== undefined)\n",
       "  }\n",
       "  if (is_loaded(root)) {\n",
       "    embed_document(root);\n",
       "  } else {\n",
       "    var attempts = 0;\n",
       "    var timer = setInterval(function(root) {\n",
       "      if (is_loaded(root)) {\n",
       "        clearInterval(timer);\n",
       "        embed_document(root);\n",
       "      } else if (document.readyState == \"complete\") {\n",
       "        attempts++;\n",
       "        if (attempts > 200) {\n",
       "          clearInterval(timer);\n",
       "\t  var Bokeh = get_bokeh(root)\n",
       "\t  if (Bokeh == null || Bokeh.Panel == null) {\n",
       "            console.warn(\"Panel: ERROR: Unable to run Panel code because Bokeh or Panel library is missing\");\n",
       "\t  } else {\n",
       "\t    console.warn(\"Panel: WARNING: Attempting to render but not all required libraries could be resolved.\")\n",
       "\t    embed_document(root)\n",
       "\t  }\n",
       "        }\n",
       "      }\n",
       "    }, 25, root)\n",
       "  }\n",
       "})(window);</script>"
      ],
      "text/plain": [
       ":Bars   [Age Category]   (Number of customers)"
      ]
     },
     "execution_count": 77,
     "metadata": {
      "application/vnd.holoviews_exec.v0+json": {
       "id": "p2093"
      }
     },
     "output_type": "execute_result"
    }
   ],
   "source": [
    "age_df = customers_df.group_by(pl.col(\"age_category\")).len()\n",
    "age_df = age_df.drop_nulls().rename(\n",
    "    {\"age_category\": \"Age Category\", \"len\": \"Number of customers\"}\n",
    ")\n",
    "age_df = age_df.filter(pl.col(\"Age Category\") != \"Undefined\")\n",
    "age_df.hvplot.bar(\n",
    "    x=\"Age Category\",\n",
    "    y=\"Number of customers\",\n",
    "    rot=90,\n",
    "    color=\"purple\",\n",
    "    title=\"Library customer age group\",\n",
    ")"
   ]
  },
  {
   "cell_type": "markdown",
   "id": "6d5a7b47-b5a1-4b13-a3db-f193d2ff1312",
   "metadata": {},
   "source": [
    "By analyzing categorical columns of customers we can conclude that:\n",
    "1) Looking at the gender there are almost even number of male and female customers. 10% of the data are `nulls` or unknown values.\n",
    "2) Education seems to be equally distributed among customers\n",
    "3) The same applies to the occupation\n",
    "4) By looking at the age group there are dominantly adult renters while young are around 10%.\n",
    "\n",
    "It can be interesting to see which of these groups are late to return the books or if there is even a connection."
   ]
  },
  {
   "cell_type": "code",
   "execution_count": 68,
   "id": "46c22b69-be81-428e-ab4a-3f3e5a8cdccb",
   "metadata": {},
   "outputs": [
    {
     "data": {},
     "metadata": {},
     "output_type": "display_data"
    },
    {
     "data": {
      "application/vnd.holoviews_exec.v0+json": "",
      "text/html": [
       "<div id='p1840'>\n",
       "  <div id=\"a343c964-5461-4465-a6b8-fc5829a1837d\" data-root-id=\"p1840\" style=\"display: contents;\"></div>\n",
       "</div>\n",
       "<script type=\"application/javascript\">(function(root) {\n",
       "  var docs_json = {\"b536892d-9203-4ba0-8490-d6e4b71ece8c\":{\"version\":\"3.6.0\",\"title\":\"Bokeh Application\",\"roots\":[{\"type\":\"object\",\"name\":\"Row\",\"id\":\"p1840\",\"attributes\":{\"name\":\"Row02152\",\"tags\":[\"embedded\"],\"stylesheets\":[\"\\n:host(.pn-loading):before, .pn-loading:before {\\n  background-color: #c3c3c3;\\n  mask-size: auto calc(min(50%, 400px));\\n  -webkit-mask-size: auto calc(min(50%, 400px));\\n}\",{\"type\":\"object\",\"name\":\"ImportedStyleSheet\",\"id\":\"p1843\",\"attributes\":{\"url\":\"https://cdn.holoviz.org/panel/1.5.3/dist/css/loading.css\"}},{\"type\":\"object\",\"name\":\"ImportedStyleSheet\",\"id\":\"p1901\",\"attributes\":{\"url\":\"https://cdn.holoviz.org/panel/1.5.3/dist/css/listpanel.css\"}},{\"type\":\"object\",\"name\":\"ImportedStyleSheet\",\"id\":\"p1841\",\"attributes\":{\"url\":\"https://cdn.holoviz.org/panel/1.5.3/dist/bundled/theme/default.css\"}},{\"type\":\"object\",\"name\":\"ImportedStyleSheet\",\"id\":\"p1842\",\"attributes\":{\"url\":\"https://cdn.holoviz.org/panel/1.5.3/dist/bundled/theme/native.css\"}}],\"min_width\":700,\"margin\":0,\"sizing_mode\":\"stretch_width\",\"align\":\"start\",\"children\":[{\"type\":\"object\",\"name\":\"Spacer\",\"id\":\"p1844\",\"attributes\":{\"name\":\"HSpacer02159\",\"stylesheets\":[\"\\n:host(.pn-loading):before, .pn-loading:before {\\n  background-color: #c3c3c3;\\n  mask-size: auto calc(min(50%, 400px));\\n  -webkit-mask-size: auto calc(min(50%, 400px));\\n}\",{\"id\":\"p1843\"},{\"id\":\"p1841\"},{\"id\":\"p1842\"}],\"margin\":0,\"sizing_mode\":\"stretch_width\",\"align\":\"start\"}},{\"type\":\"object\",\"name\":\"Figure\",\"id\":\"p1852\",\"attributes\":{\"width\":700,\"height\":300,\"margin\":[5,10],\"sizing_mode\":\"fixed\",\"align\":\"start\",\"x_range\":{\"type\":\"object\",\"name\":\"Range1d\",\"id\":\"p1845\",\"attributes\":{\"tags\":[[[\"pages\",null]],[]],\"start\":-99.28571428571428,\"end\":1149.2857142857142,\"reset_start\":-99.28571428571428,\"reset_end\":1149.2857142857142}},\"y_range\":{\"type\":\"object\",\"name\":\"Range1d\",\"id\":\"p1846\",\"attributes\":{\"tags\":[[[\"Count\",null]],{\"type\":\"map\",\"entries\":[[\"invert_yaxis\",false],[\"autorange\",false]]}],\"end\":19.8,\"reset_start\":0.0,\"reset_end\":19.8}},\"x_scale\":{\"type\":\"object\",\"name\":\"LinearScale\",\"id\":\"p1862\"},\"y_scale\":{\"type\":\"object\",\"name\":\"LinearScale\",\"id\":\"p1863\"},\"title\":{\"type\":\"object\",\"name\":\"Title\",\"id\":\"p1855\",\"attributes\":{\"text\":\"Book pages distribution\",\"text_color\":\"black\",\"text_font_size\":\"12pt\"}},\"renderers\":[{\"type\":\"object\",\"name\":\"GlyphRenderer\",\"id\":\"p1894\",\"attributes\":{\"data_source\":{\"type\":\"object\",\"name\":\"ColumnDataSource\",\"id\":\"p1885\",\"attributes\":{\"selected\":{\"type\":\"object\",\"name\":\"Selection\",\"id\":\"p1886\",\"attributes\":{\"indices\":[],\"line_indices\":[]}},\"selection_policy\":{\"type\":\"object\",\"name\":\"UnionRenderers\",\"id\":\"p1887\"},\"data\":{\"type\":\"map\",\"entries\":[[\"top\",{\"type\":\"ndarray\",\"array\":{\"type\":\"bytes\",\"data\":\"AAAAAAAAAAAAAAAAAAAAAAAAAAAAAAAAAAAAAAEAAAAAAAAAAAAAAAEAAAAAAAAAAQAAAAAAAAACAAAAAQAAAAgAAAAGAAAACgAAAAgAAAAKAAAABQAAAAcAAAALAAAADAAAABIAAAAMAAAACwAAAA8AAAALAAAACwAAAA4AAAAGAAAAEAAAAAgAAAAFAAAABwAAAAUAAAACAAAABAAAAAIAAAADAAAABQAAAAAAAAABAAAAAAAAAAAAAAAAAAAAAAAAAAAAAAA=\"},\"shape\":[50],\"dtype\":\"int32\",\"order\":\"little\"}],[\"left\",{\"type\":\"ndarray\",\"array\":{\"type\":\"bytes\",\"data\":\"AAAAAAAAScAAAAAAAAA7wAAAAAAAABDAAAAAAAAAM0AAAAAAAABFQAAAAAAAQFBAAAAAAAAAVkAAAAAAAMBbQAAAAAAAwGBAAAAAAACgY0AAAAAAAIBmQAAAAAAAYGlAAAAAAABAbEAAAAAAACBvQAAAAAAAAHFAAAAAAABwckAAAAAAAOBzQAAAAAAAUHVAAAAAAADAdkAAAAAAADB4QAAAAAAAoHlAAAAAAAAQe0AAAAAAAIB8QAAAAAAA8H1AAAAAAABgf0AAAAAAAGiAQAAAAAAAIIFAAAAAAADYgUAAAAAAAJCCQAAAAAAASINAAAAAAAAAhEAAAAAAALiEQAAAAAAAcIVAAAAAAAAohkAAAAAAAOCGQAAAAAAAmIdAAAAAAABQiEAAAAAAAAiJQAAAAAAAwIlAAAAAAAB4ikAAAAAAADCLQAAAAAAA6ItAAAAAAACgjEAAAAAAAFiNQAAAAAAAEI5AAAAAAADIjkAAAAAAAICPQAAAAAAAHJBAAAAAAAB4kEAAAAAAANSQQA==\"},\"shape\":[50],\"dtype\":\"float64\",\"order\":\"little\"}],[\"right\",{\"type\":\"ndarray\",\"array\":{\"type\":\"bytes\",\"data\":\"AAAAAAAAO8AAAAAAAAAQwAAAAAAAADNAAAAAAAAARUAAAAAAAEBQQAAAAAAAAFZAAAAAAADAW0AAAAAAAMBgQAAAAAAAoGNAAAAAAACAZkAAAAAAAGBpQAAAAAAAQGxAAAAAAAAgb0AAAAAAAABxQAAAAAAAcHJAAAAAAADgc0AAAAAAAFB1QAAAAAAAwHZAAAAAAAAweEAAAAAAAKB5QAAAAAAAEHtAAAAAAACAfEAAAAAAAPB9QAAAAAAAYH9AAAAAAABogEAAAAAAACCBQAAAAAAA2IFAAAAAAACQgkAAAAAAAEiDQAAAAAAAAIRAAAAAAAC4hEAAAAAAAHCFQAAAAAAAKIZAAAAAAADghkAAAAAAAJiHQAAAAAAAUIhAAAAAAAAIiUAAAAAAAMCJQAAAAAAAeIpAAAAAAAAwi0AAAAAAAOiLQAAAAAAAoIxAAAAAAABYjUAAAAAAABCOQAAAAAAAyI5AAAAAAACAj0AAAAAAAByQQAAAAAAAeJBAAAAAAADUkEAAAAAAADCRQA==\"},\"shape\":[50],\"dtype\":\"float64\",\"order\":\"little\"}],[\"pages\",{\"type\":\"ndarray\",\"array\":{\"type\":\"bytes\",\"data\":\"AAAAAABAQ8AAAAAAAAAvwAAAAAAAAB5AAAAAAACAPkAAAAAAAMBKQAAAAAAAIFNAAAAAAADgWEAAAAAAAKBeQAAAAAAAMGJAAAAAAAAQZUAAAAAAAPBnQAAAAAAA0GpAAAAAAACwbUAAAAAAAEhwQAAAAAAAuHFAAAAAAAAoc0AAAAAAAJh0QAAAAAAACHZAAAAAAAB4d0AAAAAAAOh4QAAAAAAAWHpAAAAAAADIe0AAAAAAADh9QAAAAAAAqH5AAAAAAAAMgEAAAAAAAMSAQAAAAAAAfIFAAAAAAAA0gkAAAAAAAOyCQAAAAAAApINAAAAAAABchEAAAAAAABSFQAAAAAAAzIVAAAAAAACEhkAAAAAAADyHQAAAAAAA9IdAAAAAAACsiEAAAAAAAGSJQAAAAAAAHIpAAAAAAADUikAAAAAAAIyLQAAAAAAARIxAAAAAAAD8jEAAAAAAALSNQAAAAAAAbI5AAAAAAAAkj0AAAAAAANyPQAAAAAAASpBAAAAAAACmkEAAAAAAAAKRQA==\"},\"shape\":[50],\"dtype\":\"float64\",\"order\":\"little\"}],[\"pages_count\",{\"type\":\"ndarray\",\"array\":{\"type\":\"bytes\",\"data\":\"AAAAAAAAAAAAAAAAAAAAAAAAAAAAAAAAAAAAAAEAAAAAAAAAAAAAAAEAAAAAAAAAAQAAAAAAAAACAAAAAQAAAAgAAAAGAAAACgAAAAgAAAAKAAAABQAAAAcAAAALAAAADAAAABIAAAAMAAAACwAAAA8AAAALAAAACwAAAA4AAAAGAAAAEAAAAAgAAAAFAAAABwAAAAUAAAACAAAABAAAAAIAAAADAAAABQAAAAAAAAABAAAAAAAAAAAAAAAAAAAAAAAAAAAAAAA=\"},\"shape\":[50],\"dtype\":\"int32\",\"order\":\"little\"}]]}}},\"view\":{\"type\":\"object\",\"name\":\"CDSView\",\"id\":\"p1895\",\"attributes\":{\"filter\":{\"type\":\"object\",\"name\":\"AllIndices\",\"id\":\"p1896\"}}},\"glyph\":{\"type\":\"object\",\"name\":\"Quad\",\"id\":\"p1891\",\"attributes\":{\"tags\":[\"apply_ranges\"],\"left\":{\"type\":\"field\",\"field\":\"left\"},\"right\":{\"type\":\"field\",\"field\":\"right\"},\"bottom\":{\"type\":\"value\",\"value\":0},\"top\":{\"type\":\"field\",\"field\":\"top\"},\"fill_color\":{\"type\":\"value\",\"value\":\"#30a2da\"},\"hatch_color\":{\"type\":\"value\",\"value\":\"#30a2da\"}}},\"selection_glyph\":{\"type\":\"object\",\"name\":\"Quad\",\"id\":\"p1897\",\"attributes\":{\"tags\":[\"apply_ranges\"],\"left\":{\"type\":\"field\",\"field\":\"left\"},\"right\":{\"type\":\"field\",\"field\":\"right\"},\"bottom\":{\"type\":\"value\",\"value\":0},\"top\":{\"type\":\"field\",\"field\":\"top\"},\"line_color\":{\"type\":\"value\",\"value\":\"black\"},\"line_alpha\":{\"type\":\"value\",\"value\":1.0},\"line_width\":{\"type\":\"value\",\"value\":1},\"line_join\":{\"type\":\"value\",\"value\":\"bevel\"},\"line_cap\":{\"type\":\"value\",\"value\":\"butt\"},\"line_dash\":{\"type\":\"value\",\"value\":[]},\"line_dash_offset\":{\"type\":\"value\",\"value\":0},\"fill_color\":{\"type\":\"value\",\"value\":\"#30a2da\"},\"fill_alpha\":{\"type\":\"value\",\"value\":1.0},\"hatch_color\":{\"type\":\"value\",\"value\":\"#30a2da\"},\"hatch_alpha\":{\"type\":\"value\",\"value\":1.0},\"hatch_scale\":{\"type\":\"value\",\"value\":12.0},\"hatch_pattern\":{\"type\":\"value\",\"value\":null},\"hatch_weight\":{\"type\":\"value\",\"value\":1.0}}},\"nonselection_glyph\":{\"type\":\"object\",\"name\":\"Quad\",\"id\":\"p1892\",\"attributes\":{\"tags\":[\"apply_ranges\"],\"left\":{\"type\":\"field\",\"field\":\"left\"},\"right\":{\"type\":\"field\",\"field\":\"right\"},\"bottom\":{\"type\":\"value\",\"value\":0},\"top\":{\"type\":\"field\",\"field\":\"top\"},\"line_alpha\":{\"type\":\"value\",\"value\":0.1},\"fill_color\":{\"type\":\"value\",\"value\":\"#30a2da\"},\"fill_alpha\":{\"type\":\"value\",\"value\":0.1},\"hatch_color\":{\"type\":\"value\",\"value\":\"#30a2da\"},\"hatch_alpha\":{\"type\":\"value\",\"value\":0.1}}},\"muted_glyph\":{\"type\":\"object\",\"name\":\"Quad\",\"id\":\"p1893\",\"attributes\":{\"tags\":[\"apply_ranges\"],\"left\":{\"type\":\"field\",\"field\":\"left\"},\"right\":{\"type\":\"field\",\"field\":\"right\"},\"bottom\":{\"type\":\"value\",\"value\":0},\"top\":{\"type\":\"field\",\"field\":\"top\"},\"line_alpha\":{\"type\":\"value\",\"value\":0.2},\"fill_color\":{\"type\":\"value\",\"value\":\"#30a2da\"},\"fill_alpha\":{\"type\":\"value\",\"value\":0.2},\"hatch_color\":{\"type\":\"value\",\"value\":\"#30a2da\"},\"hatch_alpha\":{\"type\":\"value\",\"value\":0.2}}}}}],\"toolbar\":{\"type\":\"object\",\"name\":\"Toolbar\",\"id\":\"p1861\",\"attributes\":{\"tools\":[{\"type\":\"object\",\"name\":\"WheelZoomTool\",\"id\":\"p1850\",\"attributes\":{\"tags\":[\"hv_created\"],\"renderers\":\"auto\",\"zoom_together\":\"none\"}},{\"type\":\"object\",\"name\":\"HoverTool\",\"id\":\"p1851\",\"attributes\":{\"tags\":[\"hv_created\"],\"renderers\":[{\"id\":\"p1894\"}],\"tooltips\":[[\"pages\",\"@{pages}\"],[\"Count\",\"@{pages_count}\"]]}},{\"type\":\"object\",\"name\":\"SaveTool\",\"id\":\"p1874\"},{\"type\":\"object\",\"name\":\"PanTool\",\"id\":\"p1875\"},{\"type\":\"object\",\"name\":\"BoxZoomTool\",\"id\":\"p1876\",\"attributes\":{\"overlay\":{\"type\":\"object\",\"name\":\"BoxAnnotation\",\"id\":\"p1877\",\"attributes\":{\"syncable\":false,\"line_color\":\"black\",\"line_alpha\":1.0,\"line_width\":2,\"line_dash\":[4,4],\"fill_color\":\"lightgrey\",\"fill_alpha\":0.5,\"level\":\"overlay\",\"visible\":false,\"left\":{\"type\":\"number\",\"value\":\"nan\"},\"right\":{\"type\":\"number\",\"value\":\"nan\"},\"top\":{\"type\":\"number\",\"value\":\"nan\"},\"bottom\":{\"type\":\"number\",\"value\":\"nan\"},\"left_units\":\"canvas\",\"right_units\":\"canvas\",\"top_units\":\"canvas\",\"bottom_units\":\"canvas\",\"handles\":{\"type\":\"object\",\"name\":\"BoxInteractionHandles\",\"id\":\"p1883\",\"attributes\":{\"all\":{\"type\":\"object\",\"name\":\"AreaVisuals\",\"id\":\"p1882\",\"attributes\":{\"fill_color\":\"white\",\"hover_fill_color\":\"lightgray\"}}}}}}}},{\"type\":\"object\",\"name\":\"ResetTool\",\"id\":\"p1884\"}],\"active_drag\":{\"id\":\"p1875\"},\"active_scroll\":{\"id\":\"p1850\"}}},\"left\":[{\"type\":\"object\",\"name\":\"LinearAxis\",\"id\":\"p1869\",\"attributes\":{\"ticker\":{\"type\":\"object\",\"name\":\"BasicTicker\",\"id\":\"p1870\",\"attributes\":{\"mantissas\":[1,2,5]}},\"formatter\":{\"type\":\"object\",\"name\":\"BasicTickFormatter\",\"id\":\"p1871\"},\"axis_label\":\"\",\"major_label_policy\":{\"type\":\"object\",\"name\":\"AllLabels\",\"id\":\"p1872\"}}}],\"below\":[{\"type\":\"object\",\"name\":\"LinearAxis\",\"id\":\"p1864\",\"attributes\":{\"ticker\":{\"type\":\"object\",\"name\":\"BasicTicker\",\"id\":\"p1865\",\"attributes\":{\"mantissas\":[1,2,5]}},\"formatter\":{\"type\":\"object\",\"name\":\"BasicTickFormatter\",\"id\":\"p1866\"},\"axis_label\":\"pages\",\"major_label_policy\":{\"type\":\"object\",\"name\":\"AllLabels\",\"id\":\"p1867\"}}}],\"center\":[{\"type\":\"object\",\"name\":\"Grid\",\"id\":\"p1868\",\"attributes\":{\"axis\":{\"id\":\"p1864\"},\"grid_line_color\":null}},{\"type\":\"object\",\"name\":\"Grid\",\"id\":\"p1873\",\"attributes\":{\"dimension\":1,\"axis\":{\"id\":\"p1869\"},\"grid_line_color\":null}}],\"min_border_top\":10,\"min_border_bottom\":10,\"min_border_left\":10,\"min_border_right\":10,\"output_backend\":\"webgl\"}},{\"type\":\"object\",\"name\":\"Spacer\",\"id\":\"p1899\",\"attributes\":{\"name\":\"HSpacer02160\",\"stylesheets\":[\"\\n:host(.pn-loading):before, .pn-loading:before {\\n  background-color: #c3c3c3;\\n  mask-size: auto calc(min(50%, 400px));\\n  -webkit-mask-size: auto calc(min(50%, 400px));\\n}\",{\"id\":\"p1843\"},{\"id\":\"p1841\"},{\"id\":\"p1842\"}],\"margin\":0,\"sizing_mode\":\"stretch_width\",\"align\":\"start\"}}]}}],\"defs\":[{\"type\":\"model\",\"name\":\"ReactiveHTML1\"},{\"type\":\"model\",\"name\":\"FlexBox1\",\"properties\":[{\"name\":\"align_content\",\"kind\":\"Any\",\"default\":\"flex-start\"},{\"name\":\"align_items\",\"kind\":\"Any\",\"default\":\"flex-start\"},{\"name\":\"flex_direction\",\"kind\":\"Any\",\"default\":\"row\"},{\"name\":\"flex_wrap\",\"kind\":\"Any\",\"default\":\"wrap\"},{\"name\":\"gap\",\"kind\":\"Any\",\"default\":\"\"},{\"name\":\"justify_content\",\"kind\":\"Any\",\"default\":\"flex-start\"}]},{\"type\":\"model\",\"name\":\"FloatPanel1\",\"properties\":[{\"name\":\"config\",\"kind\":\"Any\",\"default\":{\"type\":\"map\"}},{\"name\":\"contained\",\"kind\":\"Any\",\"default\":true},{\"name\":\"position\",\"kind\":\"Any\",\"default\":\"right-top\"},{\"name\":\"offsetx\",\"kind\":\"Any\",\"default\":null},{\"name\":\"offsety\",\"kind\":\"Any\",\"default\":null},{\"name\":\"theme\",\"kind\":\"Any\",\"default\":\"primary\"},{\"name\":\"status\",\"kind\":\"Any\",\"default\":\"normalized\"}]},{\"type\":\"model\",\"name\":\"GridStack1\",\"properties\":[{\"name\":\"mode\",\"kind\":\"Any\",\"default\":\"warn\"},{\"name\":\"ncols\",\"kind\":\"Any\",\"default\":null},{\"name\":\"nrows\",\"kind\":\"Any\",\"default\":null},{\"name\":\"allow_resize\",\"kind\":\"Any\",\"default\":true},{\"name\":\"allow_drag\",\"kind\":\"Any\",\"default\":true},{\"name\":\"state\",\"kind\":\"Any\",\"default\":[]}]},{\"type\":\"model\",\"name\":\"drag1\",\"properties\":[{\"name\":\"slider_width\",\"kind\":\"Any\",\"default\":5},{\"name\":\"slider_color\",\"kind\":\"Any\",\"default\":\"black\"},{\"name\":\"value\",\"kind\":\"Any\",\"default\":50}]},{\"type\":\"model\",\"name\":\"click1\",\"properties\":[{\"name\":\"terminal_output\",\"kind\":\"Any\",\"default\":\"\"},{\"name\":\"debug_name\",\"kind\":\"Any\",\"default\":\"\"},{\"name\":\"clears\",\"kind\":\"Any\",\"default\":0}]},{\"type\":\"model\",\"name\":\"FastWrapper1\",\"properties\":[{\"name\":\"object\",\"kind\":\"Any\",\"default\":null},{\"name\":\"style\",\"kind\":\"Any\",\"default\":null}]},{\"type\":\"model\",\"name\":\"NotificationAreaBase1\",\"properties\":[{\"name\":\"js_events\",\"kind\":\"Any\",\"default\":{\"type\":\"map\"}},{\"name\":\"position\",\"kind\":\"Any\",\"default\":\"bottom-right\"},{\"name\":\"_clear\",\"kind\":\"Any\",\"default\":0}]},{\"type\":\"model\",\"name\":\"NotificationArea1\",\"properties\":[{\"name\":\"js_events\",\"kind\":\"Any\",\"default\":{\"type\":\"map\"}},{\"name\":\"notifications\",\"kind\":\"Any\",\"default\":[]},{\"name\":\"position\",\"kind\":\"Any\",\"default\":\"bottom-right\"},{\"name\":\"_clear\",\"kind\":\"Any\",\"default\":0},{\"name\":\"types\",\"kind\":\"Any\",\"default\":[{\"type\":\"map\",\"entries\":[[\"type\",\"warning\"],[\"background\",\"#ffc107\"],[\"icon\",{\"type\":\"map\",\"entries\":[[\"className\",\"fas fa-exclamation-triangle\"],[\"tagName\",\"i\"],[\"color\",\"white\"]]}]]},{\"type\":\"map\",\"entries\":[[\"type\",\"info\"],[\"background\",\"#007bff\"],[\"icon\",{\"type\":\"map\",\"entries\":[[\"className\",\"fas fa-info-circle\"],[\"tagName\",\"i\"],[\"color\",\"white\"]]}]]}]}]},{\"type\":\"model\",\"name\":\"Notification\",\"properties\":[{\"name\":\"background\",\"kind\":\"Any\",\"default\":null},{\"name\":\"duration\",\"kind\":\"Any\",\"default\":3000},{\"name\":\"icon\",\"kind\":\"Any\",\"default\":null},{\"name\":\"message\",\"kind\":\"Any\",\"default\":\"\"},{\"name\":\"notification_type\",\"kind\":\"Any\",\"default\":null},{\"name\":\"_destroyed\",\"kind\":\"Any\",\"default\":false}]},{\"type\":\"model\",\"name\":\"TemplateActions1\",\"properties\":[{\"name\":\"open_modal\",\"kind\":\"Any\",\"default\":0},{\"name\":\"close_modal\",\"kind\":\"Any\",\"default\":0}]},{\"type\":\"model\",\"name\":\"BootstrapTemplateActions1\",\"properties\":[{\"name\":\"open_modal\",\"kind\":\"Any\",\"default\":0},{\"name\":\"close_modal\",\"kind\":\"Any\",\"default\":0}]},{\"type\":\"model\",\"name\":\"TemplateEditor1\",\"properties\":[{\"name\":\"layout\",\"kind\":\"Any\",\"default\":[]}]},{\"type\":\"model\",\"name\":\"MaterialTemplateActions1\",\"properties\":[{\"name\":\"open_modal\",\"kind\":\"Any\",\"default\":0},{\"name\":\"close_modal\",\"kind\":\"Any\",\"default\":0}]},{\"type\":\"model\",\"name\":\"ReactiveESM1\"},{\"type\":\"model\",\"name\":\"JSComponent1\"},{\"type\":\"model\",\"name\":\"ReactComponent1\"},{\"type\":\"model\",\"name\":\"AnyWidgetComponent1\"},{\"type\":\"model\",\"name\":\"request_value1\",\"properties\":[{\"name\":\"fill\",\"kind\":\"Any\",\"default\":\"none\"},{\"name\":\"_synced\",\"kind\":\"Any\",\"default\":null},{\"name\":\"_request_sync\",\"kind\":\"Any\",\"default\":0}]}]}};\n",
       "  var render_items = [{\"docid\":\"b536892d-9203-4ba0-8490-d6e4b71ece8c\",\"roots\":{\"p1840\":\"a343c964-5461-4465-a6b8-fc5829a1837d\"},\"root_ids\":[\"p1840\"]}];\n",
       "  var docs = Object.values(docs_json)\n",
       "  if (!docs) {\n",
       "    return\n",
       "  }\n",
       "  const py_version = docs[0].version.replace('rc', '-rc.').replace('.dev', '-dev.')\n",
       "  async function embed_document(root) {\n",
       "    var Bokeh = get_bokeh(root)\n",
       "    await Bokeh.embed.embed_items_notebook(docs_json, render_items);\n",
       "    for (const render_item of render_items) {\n",
       "      for (const root_id of render_item.root_ids) {\n",
       "\tconst id_el = document.getElementById(root_id)\n",
       "\tif (id_el.children.length && id_el.children[0].hasAttribute('data-root-id')) {\n",
       "\t  const root_el = id_el.children[0]\n",
       "\t  root_el.id = root_el.id + '-rendered'\n",
       "\t  for (const child of root_el.children) {\n",
       "            // Ensure JupyterLab does not capture keyboard shortcuts\n",
       "            // see: https://jupyterlab.readthedocs.io/en/4.1.x/extension/notebook.html#keyboard-interaction-model\n",
       "\t    child.setAttribute('data-lm-suppress-shortcuts', 'true')\n",
       "\t  }\n",
       "\t}\n",
       "      }\n",
       "    }\n",
       "  }\n",
       "  function get_bokeh(root) {\n",
       "    if (root.Bokeh === undefined) {\n",
       "      return null\n",
       "    } else if (root.Bokeh.version !== py_version) {\n",
       "      if (root.Bokeh.versions === undefined || !root.Bokeh.versions.has(py_version)) {\n",
       "\treturn null\n",
       "      }\n",
       "      return root.Bokeh.versions.get(py_version);\n",
       "    } else if (root.Bokeh.version === py_version) {\n",
       "      return root.Bokeh\n",
       "    }\n",
       "    return null\n",
       "  }\n",
       "  function is_loaded(root) {\n",
       "    var Bokeh = get_bokeh(root)\n",
       "    return (Bokeh != null && Bokeh.Panel !== undefined)\n",
       "  }\n",
       "  if (is_loaded(root)) {\n",
       "    embed_document(root);\n",
       "  } else {\n",
       "    var attempts = 0;\n",
       "    var timer = setInterval(function(root) {\n",
       "      if (is_loaded(root)) {\n",
       "        clearInterval(timer);\n",
       "        embed_document(root);\n",
       "      } else if (document.readyState == \"complete\") {\n",
       "        attempts++;\n",
       "        if (attempts > 200) {\n",
       "          clearInterval(timer);\n",
       "\t  var Bokeh = get_bokeh(root)\n",
       "\t  if (Bokeh == null || Bokeh.Panel == null) {\n",
       "            console.warn(\"Panel: ERROR: Unable to run Panel code because Bokeh or Panel library is missing\");\n",
       "\t  } else {\n",
       "\t    console.warn(\"Panel: WARNING: Attempting to render but not all required libraries could be resolved.\")\n",
       "\t    embed_document(root)\n",
       "\t  }\n",
       "        }\n",
       "      }\n",
       "    }, 25, root)\n",
       "  }\n",
       "})(window);</script>"
      ],
      "text/plain": [
       ":Histogram   [pages]   (Count)"
      ]
     },
     "execution_count": 68,
     "metadata": {
      "application/vnd.holoviews_exec.v0+json": {
       "id": "p1840"
      }
     },
     "output_type": "execute_result"
    }
   ],
   "source": [
    "books_df.hvplot.hist(\n",
    "    y=\"pages\", bins=50, bin_range=(-50, 1100), title=\"Book pages distribution\"\n",
    ")"
   ]
  },
  {
   "cell_type": "code",
   "execution_count": 78,
   "id": "ef8eccd4-2a42-40c4-9cfc-db2ea8c26af5",
   "metadata": {},
   "outputs": [
    {
     "data": {},
     "metadata": {},
     "output_type": "display_data"
    },
    {
     "data": {
      "application/vnd.holoviews_exec.v0+json": "",
      "text/html": [
       "<div id='p2157'>\n",
       "  <div id=\"f70560d3-1bf3-4f91-9a4e-007a18746d1b\" data-root-id=\"p2157\" style=\"display: contents;\"></div>\n",
       "</div>\n",
       "<script type=\"application/javascript\">(function(root) {\n",
       "  var docs_json = {\"ee19e62d-f46d-4bf5-a034-dc411d2a6040\":{\"version\":\"3.6.0\",\"title\":\"Bokeh Application\",\"roots\":[{\"type\":\"object\",\"name\":\"Row\",\"id\":\"p2157\",\"attributes\":{\"name\":\"Row02669\",\"tags\":[\"embedded\"],\"stylesheets\":[\"\\n:host(.pn-loading):before, .pn-loading:before {\\n  background-color: #c3c3c3;\\n  mask-size: auto calc(min(50%, 400px));\\n  -webkit-mask-size: auto calc(min(50%, 400px));\\n}\",{\"type\":\"object\",\"name\":\"ImportedStyleSheet\",\"id\":\"p2160\",\"attributes\":{\"url\":\"https://cdn.holoviz.org/panel/1.5.3/dist/css/loading.css\"}},{\"type\":\"object\",\"name\":\"ImportedStyleSheet\",\"id\":\"p2218\",\"attributes\":{\"url\":\"https://cdn.holoviz.org/panel/1.5.3/dist/css/listpanel.css\"}},{\"type\":\"object\",\"name\":\"ImportedStyleSheet\",\"id\":\"p2158\",\"attributes\":{\"url\":\"https://cdn.holoviz.org/panel/1.5.3/dist/bundled/theme/default.css\"}},{\"type\":\"object\",\"name\":\"ImportedStyleSheet\",\"id\":\"p2159\",\"attributes\":{\"url\":\"https://cdn.holoviz.org/panel/1.5.3/dist/bundled/theme/native.css\"}}],\"min_width\":700,\"margin\":0,\"sizing_mode\":\"stretch_width\",\"align\":\"start\",\"children\":[{\"type\":\"object\",\"name\":\"Spacer\",\"id\":\"p2161\",\"attributes\":{\"name\":\"HSpacer02676\",\"stylesheets\":[\"\\n:host(.pn-loading):before, .pn-loading:before {\\n  background-color: #c3c3c3;\\n  mask-size: auto calc(min(50%, 400px));\\n  -webkit-mask-size: auto calc(min(50%, 400px));\\n}\",{\"id\":\"p2160\"},{\"id\":\"p2158\"},{\"id\":\"p2159\"}],\"margin\":0,\"sizing_mode\":\"stretch_width\",\"align\":\"start\"}},{\"type\":\"object\",\"name\":\"Figure\",\"id\":\"p2169\",\"attributes\":{\"width\":700,\"height\":300,\"margin\":[5,10],\"sizing_mode\":\"fixed\",\"align\":\"start\",\"x_range\":{\"type\":\"object\",\"name\":\"Range1d\",\"id\":\"p2162\",\"attributes\":{\"tags\":[[[\"price\",null]],[]],\"start\":-190.71428571428572,\"end\":840.7142857142857,\"reset_start\":-190.71428571428572,\"reset_end\":840.7142857142857}},\"y_range\":{\"type\":\"object\",\"name\":\"Range1d\",\"id\":\"p2163\",\"attributes\":{\"tags\":[[[\"Count\",null]],{\"type\":\"map\",\"entries\":[[\"invert_yaxis\",false],[\"autorange\",false]]}],\"end\":19.8,\"reset_start\":0.0,\"reset_end\":19.8}},\"x_scale\":{\"type\":\"object\",\"name\":\"LinearScale\",\"id\":\"p2179\"},\"y_scale\":{\"type\":\"object\",\"name\":\"LinearScale\",\"id\":\"p2180\"},\"title\":{\"type\":\"object\",\"name\":\"Title\",\"id\":\"p2172\",\"attributes\":{\"text\":\"Book prices distribution\",\"text_color\":\"black\",\"text_font_size\":\"12pt\"}},\"renderers\":[{\"type\":\"object\",\"name\":\"GlyphRenderer\",\"id\":\"p2211\",\"attributes\":{\"data_source\":{\"type\":\"object\",\"name\":\"ColumnDataSource\",\"id\":\"p2202\",\"attributes\":{\"selected\":{\"type\":\"object\",\"name\":\"Selection\",\"id\":\"p2203\",\"attributes\":{\"indices\":[],\"line_indices\":[]}},\"selection_policy\":{\"type\":\"object\",\"name\":\"UnionRenderers\",\"id\":\"p2204\"},\"data\":{\"type\":\"map\",\"entries\":[[\"top\",{\"type\":\"ndarray\",\"array\":{\"type\":\"bytes\",\"data\":\"AAAAAAAAAAAAAAAAAAAAAAAAAAAAAAAAAAAAAAAAAAAEAAAABgAAAAMAAAADAAAABQAAAAYAAAAIAAAADQAAAAQAAAAIAAAADgAAAAcAAAAFAAAABwAAABIAAAAKAAAAEAAAAAgAAAAQAAAACgAAAAsAAAAKAAAACgAAAAIAAAAEAAAABgAAAAIAAAAFAAAAAwAAAAUAAAAAAAAAAQAAAAIAAAABAAAABQAAAAAAAAAAAAAAAgAAAAAAAAAAAAAAAAAAAAAAAAA=\"},\"shape\":[50],\"dtype\":\"int32\",\"order\":\"little\"}],[\"left\",{\"type\":\"ndarray\",\"array\":{\"type\":\"bytes\",\"data\":\"AAAAAADAYsAAAAAAAGBgwAAAAAAAAFzAAAAAAABAV8AAAAAAAIBSwAAAAAAAgEvAAAAAAAAAQsAAAAAAAAAxwAAAAAAAAABAAAAAAAAANUAAAAAAAABEQAAAAAAAgE1AAAAAAACAU0AAAAAAAEBYQAAAAAAAAF1AAAAAAADgYEAAAAAAAEBjQAAAAAAAoGVAAAAAAAAAaEAAAAAAAGBqQAAAAAAAwGxAAAAAAAAgb0AAAAAAAMBwQAAAAAAA8HFAAAAAAAAgc0AAAAAAAFB0QAAAAAAAgHVAAAAAAACwdkAAAAAAAOB3QAAAAAAAEHlAAAAAAABAekAAAAAAAHB7QAAAAAAAoHxAAAAAAADQfUAAAAAAAAB/QAAAAAAAGIBAAAAAAACwgEAAAAAAAEiBQAAAAAAA4IFAAAAAAAB4gkAAAAAAABCDQAAAAAAAqINAAAAAAABAhEAAAAAAANiEQAAAAAAAcIVAAAAAAAAIhkAAAAAAAKCGQAAAAAAAOIdAAAAAAADQh0AAAAAAAGiIQA==\"},\"shape\":[50],\"dtype\":\"float64\",\"order\":\"little\"}],[\"right\",{\"type\":\"ndarray\",\"array\":{\"type\":\"bytes\",\"data\":\"AAAAAABgYMAAAAAAAABcwAAAAAAAQFfAAAAAAACAUsAAAAAAAIBLwAAAAAAAAELAAAAAAAAAMcAAAAAAAAAAQAAAAAAAADVAAAAAAAAAREAAAAAAAIBNQAAAAAAAgFNAAAAAAABAWEAAAAAAAABdQAAAAAAA4GBAAAAAAABAY0AAAAAAAKBlQAAAAAAAAGhAAAAAAABgakAAAAAAAMBsQAAAAAAAIG9AAAAAAADAcEAAAAAAAPBxQAAAAAAAIHNAAAAAAABQdEAAAAAAAIB1QAAAAAAAsHZAAAAAAADgd0AAAAAAABB5QAAAAAAAQHpAAAAAAABwe0AAAAAAAKB8QAAAAAAA0H1AAAAAAAAAf0AAAAAAABiAQAAAAAAAsIBAAAAAAABIgUAAAAAAAOCBQAAAAAAAeIJAAAAAAAAQg0AAAAAAAKiDQAAAAAAAQIRAAAAAAADYhEAAAAAAAHCFQAAAAAAACIZAAAAAAACghkAAAAAAADiHQAAAAAAA0IdAAAAAAABoiEAAAAAAAACJQA==\"},\"shape\":[50],\"dtype\":\"float64\",\"order\":\"little\"}],[\"price\",{\"type\":\"ndarray\",\"array\":{\"type\":\"bytes\",\"data\":\"AAAAAACQYcAAAAAAAGBewAAAAAAAoFnAAAAAAADgVMAAAAAAACBQwAAAAAAAwEbAAAAAAACAOsAAAAAAAAAewAAAAAAAACdAAAAAAACAPkAAAAAAAMBIQAAAAAAAIFFAAAAAAADgVUAAAAAAAKBaQAAAAAAAYF9AAAAAAAAQYkAAAAAAAHBkQAAAAAAA0GZAAAAAAAAwaUAAAAAAAJBrQAAAAAAA8G1AAAAAAAAocEAAAAAAAFhxQAAAAAAAiHJAAAAAAAC4c0AAAAAAAOh0QAAAAAAAGHZAAAAAAABId0AAAAAAAHh4QAAAAAAAqHlAAAAAAADYekAAAAAAAAh8QAAAAAAAOH1AAAAAAABofkAAAAAAAJh/QAAAAAAAZIBAAAAAAAD8gEAAAAAAAJSBQAAAAAAALIJAAAAAAADEgkAAAAAAAFyDQAAAAAAA9INAAAAAAACMhEAAAAAAACSFQAAAAAAAvIVAAAAAAABUhkAAAAAAAOyGQAAAAAAAhIdAAAAAAAAciEAAAAAAALSIQA==\"},\"shape\":[50],\"dtype\":\"float64\",\"order\":\"little\"}],[\"price_count\",{\"type\":\"ndarray\",\"array\":{\"type\":\"bytes\",\"data\":\"AAAAAAAAAAAAAAAAAAAAAAAAAAAAAAAAAAAAAAAAAAAEAAAABgAAAAMAAAADAAAABQAAAAYAAAAIAAAADQAAAAQAAAAIAAAADgAAAAcAAAAFAAAABwAAABIAAAAKAAAAEAAAAAgAAAAQAAAACgAAAAsAAAAKAAAACgAAAAIAAAAEAAAABgAAAAIAAAAFAAAAAwAAAAUAAAAAAAAAAQAAAAIAAAABAAAABQAAAAAAAAAAAAAAAgAAAAAAAAAAAAAAAAAAAAAAAAA=\"},\"shape\":[50],\"dtype\":\"int32\",\"order\":\"little\"}]]}}},\"view\":{\"type\":\"object\",\"name\":\"CDSView\",\"id\":\"p2212\",\"attributes\":{\"filter\":{\"type\":\"object\",\"name\":\"AllIndices\",\"id\":\"p2213\"}}},\"glyph\":{\"type\":\"object\",\"name\":\"Quad\",\"id\":\"p2208\",\"attributes\":{\"tags\":[\"apply_ranges\"],\"left\":{\"type\":\"field\",\"field\":\"left\"},\"right\":{\"type\":\"field\",\"field\":\"right\"},\"bottom\":{\"type\":\"value\",\"value\":0},\"top\":{\"type\":\"field\",\"field\":\"top\"},\"fill_color\":{\"type\":\"value\",\"value\":\"#30a2da\"},\"hatch_color\":{\"type\":\"value\",\"value\":\"#30a2da\"}}},\"selection_glyph\":{\"type\":\"object\",\"name\":\"Quad\",\"id\":\"p2214\",\"attributes\":{\"tags\":[\"apply_ranges\"],\"left\":{\"type\":\"field\",\"field\":\"left\"},\"right\":{\"type\":\"field\",\"field\":\"right\"},\"bottom\":{\"type\":\"value\",\"value\":0},\"top\":{\"type\":\"field\",\"field\":\"top\"},\"line_color\":{\"type\":\"value\",\"value\":\"black\"},\"line_alpha\":{\"type\":\"value\",\"value\":1.0},\"line_width\":{\"type\":\"value\",\"value\":1},\"line_join\":{\"type\":\"value\",\"value\":\"bevel\"},\"line_cap\":{\"type\":\"value\",\"value\":\"butt\"},\"line_dash\":{\"type\":\"value\",\"value\":[]},\"line_dash_offset\":{\"type\":\"value\",\"value\":0},\"fill_color\":{\"type\":\"value\",\"value\":\"#30a2da\"},\"fill_alpha\":{\"type\":\"value\",\"value\":1.0},\"hatch_color\":{\"type\":\"value\",\"value\":\"#30a2da\"},\"hatch_alpha\":{\"type\":\"value\",\"value\":1.0},\"hatch_scale\":{\"type\":\"value\",\"value\":12.0},\"hatch_pattern\":{\"type\":\"value\",\"value\":null},\"hatch_weight\":{\"type\":\"value\",\"value\":1.0}}},\"nonselection_glyph\":{\"type\":\"object\",\"name\":\"Quad\",\"id\":\"p2209\",\"attributes\":{\"tags\":[\"apply_ranges\"],\"left\":{\"type\":\"field\",\"field\":\"left\"},\"right\":{\"type\":\"field\",\"field\":\"right\"},\"bottom\":{\"type\":\"value\",\"value\":0},\"top\":{\"type\":\"field\",\"field\":\"top\"},\"line_alpha\":{\"type\":\"value\",\"value\":0.1},\"fill_color\":{\"type\":\"value\",\"value\":\"#30a2da\"},\"fill_alpha\":{\"type\":\"value\",\"value\":0.1},\"hatch_color\":{\"type\":\"value\",\"value\":\"#30a2da\"},\"hatch_alpha\":{\"type\":\"value\",\"value\":0.1}}},\"muted_glyph\":{\"type\":\"object\",\"name\":\"Quad\",\"id\":\"p2210\",\"attributes\":{\"tags\":[\"apply_ranges\"],\"left\":{\"type\":\"field\",\"field\":\"left\"},\"right\":{\"type\":\"field\",\"field\":\"right\"},\"bottom\":{\"type\":\"value\",\"value\":0},\"top\":{\"type\":\"field\",\"field\":\"top\"},\"line_alpha\":{\"type\":\"value\",\"value\":0.2},\"fill_color\":{\"type\":\"value\",\"value\":\"#30a2da\"},\"fill_alpha\":{\"type\":\"value\",\"value\":0.2},\"hatch_color\":{\"type\":\"value\",\"value\":\"#30a2da\"},\"hatch_alpha\":{\"type\":\"value\",\"value\":0.2}}}}}],\"toolbar\":{\"type\":\"object\",\"name\":\"Toolbar\",\"id\":\"p2178\",\"attributes\":{\"tools\":[{\"type\":\"object\",\"name\":\"WheelZoomTool\",\"id\":\"p2167\",\"attributes\":{\"tags\":[\"hv_created\"],\"renderers\":\"auto\",\"zoom_together\":\"none\"}},{\"type\":\"object\",\"name\":\"HoverTool\",\"id\":\"p2168\",\"attributes\":{\"tags\":[\"hv_created\"],\"renderers\":[{\"id\":\"p2211\"}],\"tooltips\":[[\"price\",\"@{price}\"],[\"Count\",\"@{price_count}\"]]}},{\"type\":\"object\",\"name\":\"SaveTool\",\"id\":\"p2191\"},{\"type\":\"object\",\"name\":\"PanTool\",\"id\":\"p2192\"},{\"type\":\"object\",\"name\":\"BoxZoomTool\",\"id\":\"p2193\",\"attributes\":{\"overlay\":{\"type\":\"object\",\"name\":\"BoxAnnotation\",\"id\":\"p2194\",\"attributes\":{\"syncable\":false,\"line_color\":\"black\",\"line_alpha\":1.0,\"line_width\":2,\"line_dash\":[4,4],\"fill_color\":\"lightgrey\",\"fill_alpha\":0.5,\"level\":\"overlay\",\"visible\":false,\"left\":{\"type\":\"number\",\"value\":\"nan\"},\"right\":{\"type\":\"number\",\"value\":\"nan\"},\"top\":{\"type\":\"number\",\"value\":\"nan\"},\"bottom\":{\"type\":\"number\",\"value\":\"nan\"},\"left_units\":\"canvas\",\"right_units\":\"canvas\",\"top_units\":\"canvas\",\"bottom_units\":\"canvas\",\"handles\":{\"type\":\"object\",\"name\":\"BoxInteractionHandles\",\"id\":\"p2200\",\"attributes\":{\"all\":{\"type\":\"object\",\"name\":\"AreaVisuals\",\"id\":\"p2199\",\"attributes\":{\"fill_color\":\"white\",\"hover_fill_color\":\"lightgray\"}}}}}}}},{\"type\":\"object\",\"name\":\"ResetTool\",\"id\":\"p2201\"}],\"active_drag\":{\"id\":\"p2192\"},\"active_scroll\":{\"id\":\"p2167\"}}},\"left\":[{\"type\":\"object\",\"name\":\"LinearAxis\",\"id\":\"p2186\",\"attributes\":{\"ticker\":{\"type\":\"object\",\"name\":\"BasicTicker\",\"id\":\"p2187\",\"attributes\":{\"mantissas\":[1,2,5]}},\"formatter\":{\"type\":\"object\",\"name\":\"BasicTickFormatter\",\"id\":\"p2188\"},\"axis_label\":\"\",\"major_label_policy\":{\"type\":\"object\",\"name\":\"AllLabels\",\"id\":\"p2189\"}}}],\"below\":[{\"type\":\"object\",\"name\":\"LinearAxis\",\"id\":\"p2181\",\"attributes\":{\"ticker\":{\"type\":\"object\",\"name\":\"BasicTicker\",\"id\":\"p2182\",\"attributes\":{\"mantissas\":[1,2,5]}},\"formatter\":{\"type\":\"object\",\"name\":\"BasicTickFormatter\",\"id\":\"p2183\"},\"axis_label\":\"price\",\"major_label_policy\":{\"type\":\"object\",\"name\":\"AllLabels\",\"id\":\"p2184\"}}}],\"center\":[{\"type\":\"object\",\"name\":\"Grid\",\"id\":\"p2185\",\"attributes\":{\"axis\":{\"id\":\"p2181\"},\"grid_line_color\":null}},{\"type\":\"object\",\"name\":\"Grid\",\"id\":\"p2190\",\"attributes\":{\"dimension\":1,\"axis\":{\"id\":\"p2186\"},\"grid_line_color\":null}}],\"min_border_top\":10,\"min_border_bottom\":10,\"min_border_left\":10,\"min_border_right\":10,\"output_backend\":\"webgl\"}},{\"type\":\"object\",\"name\":\"Spacer\",\"id\":\"p2216\",\"attributes\":{\"name\":\"HSpacer02677\",\"stylesheets\":[\"\\n:host(.pn-loading):before, .pn-loading:before {\\n  background-color: #c3c3c3;\\n  mask-size: auto calc(min(50%, 400px));\\n  -webkit-mask-size: auto calc(min(50%, 400px));\\n}\",{\"id\":\"p2160\"},{\"id\":\"p2158\"},{\"id\":\"p2159\"}],\"margin\":0,\"sizing_mode\":\"stretch_width\",\"align\":\"start\"}}]}}],\"defs\":[{\"type\":\"model\",\"name\":\"ReactiveHTML1\"},{\"type\":\"model\",\"name\":\"FlexBox1\",\"properties\":[{\"name\":\"align_content\",\"kind\":\"Any\",\"default\":\"flex-start\"},{\"name\":\"align_items\",\"kind\":\"Any\",\"default\":\"flex-start\"},{\"name\":\"flex_direction\",\"kind\":\"Any\",\"default\":\"row\"},{\"name\":\"flex_wrap\",\"kind\":\"Any\",\"default\":\"wrap\"},{\"name\":\"gap\",\"kind\":\"Any\",\"default\":\"\"},{\"name\":\"justify_content\",\"kind\":\"Any\",\"default\":\"flex-start\"}]},{\"type\":\"model\",\"name\":\"FloatPanel1\",\"properties\":[{\"name\":\"config\",\"kind\":\"Any\",\"default\":{\"type\":\"map\"}},{\"name\":\"contained\",\"kind\":\"Any\",\"default\":true},{\"name\":\"position\",\"kind\":\"Any\",\"default\":\"right-top\"},{\"name\":\"offsetx\",\"kind\":\"Any\",\"default\":null},{\"name\":\"offsety\",\"kind\":\"Any\",\"default\":null},{\"name\":\"theme\",\"kind\":\"Any\",\"default\":\"primary\"},{\"name\":\"status\",\"kind\":\"Any\",\"default\":\"normalized\"}]},{\"type\":\"model\",\"name\":\"GridStack1\",\"properties\":[{\"name\":\"mode\",\"kind\":\"Any\",\"default\":\"warn\"},{\"name\":\"ncols\",\"kind\":\"Any\",\"default\":null},{\"name\":\"nrows\",\"kind\":\"Any\",\"default\":null},{\"name\":\"allow_resize\",\"kind\":\"Any\",\"default\":true},{\"name\":\"allow_drag\",\"kind\":\"Any\",\"default\":true},{\"name\":\"state\",\"kind\":\"Any\",\"default\":[]}]},{\"type\":\"model\",\"name\":\"drag1\",\"properties\":[{\"name\":\"slider_width\",\"kind\":\"Any\",\"default\":5},{\"name\":\"slider_color\",\"kind\":\"Any\",\"default\":\"black\"},{\"name\":\"value\",\"kind\":\"Any\",\"default\":50}]},{\"type\":\"model\",\"name\":\"click1\",\"properties\":[{\"name\":\"terminal_output\",\"kind\":\"Any\",\"default\":\"\"},{\"name\":\"debug_name\",\"kind\":\"Any\",\"default\":\"\"},{\"name\":\"clears\",\"kind\":\"Any\",\"default\":0}]},{\"type\":\"model\",\"name\":\"FastWrapper1\",\"properties\":[{\"name\":\"object\",\"kind\":\"Any\",\"default\":null},{\"name\":\"style\",\"kind\":\"Any\",\"default\":null}]},{\"type\":\"model\",\"name\":\"NotificationAreaBase1\",\"properties\":[{\"name\":\"js_events\",\"kind\":\"Any\",\"default\":{\"type\":\"map\"}},{\"name\":\"position\",\"kind\":\"Any\",\"default\":\"bottom-right\"},{\"name\":\"_clear\",\"kind\":\"Any\",\"default\":0}]},{\"type\":\"model\",\"name\":\"NotificationArea1\",\"properties\":[{\"name\":\"js_events\",\"kind\":\"Any\",\"default\":{\"type\":\"map\"}},{\"name\":\"notifications\",\"kind\":\"Any\",\"default\":[]},{\"name\":\"position\",\"kind\":\"Any\",\"default\":\"bottom-right\"},{\"name\":\"_clear\",\"kind\":\"Any\",\"default\":0},{\"name\":\"types\",\"kind\":\"Any\",\"default\":[{\"type\":\"map\",\"entries\":[[\"type\",\"warning\"],[\"background\",\"#ffc107\"],[\"icon\",{\"type\":\"map\",\"entries\":[[\"className\",\"fas fa-exclamation-triangle\"],[\"tagName\",\"i\"],[\"color\",\"white\"]]}]]},{\"type\":\"map\",\"entries\":[[\"type\",\"info\"],[\"background\",\"#007bff\"],[\"icon\",{\"type\":\"map\",\"entries\":[[\"className\",\"fas fa-info-circle\"],[\"tagName\",\"i\"],[\"color\",\"white\"]]}]]}]}]},{\"type\":\"model\",\"name\":\"Notification\",\"properties\":[{\"name\":\"background\",\"kind\":\"Any\",\"default\":null},{\"name\":\"duration\",\"kind\":\"Any\",\"default\":3000},{\"name\":\"icon\",\"kind\":\"Any\",\"default\":null},{\"name\":\"message\",\"kind\":\"Any\",\"default\":\"\"},{\"name\":\"notification_type\",\"kind\":\"Any\",\"default\":null},{\"name\":\"_destroyed\",\"kind\":\"Any\",\"default\":false}]},{\"type\":\"model\",\"name\":\"TemplateActions1\",\"properties\":[{\"name\":\"open_modal\",\"kind\":\"Any\",\"default\":0},{\"name\":\"close_modal\",\"kind\":\"Any\",\"default\":0}]},{\"type\":\"model\",\"name\":\"BootstrapTemplateActions1\",\"properties\":[{\"name\":\"open_modal\",\"kind\":\"Any\",\"default\":0},{\"name\":\"close_modal\",\"kind\":\"Any\",\"default\":0}]},{\"type\":\"model\",\"name\":\"TemplateEditor1\",\"properties\":[{\"name\":\"layout\",\"kind\":\"Any\",\"default\":[]}]},{\"type\":\"model\",\"name\":\"MaterialTemplateActions1\",\"properties\":[{\"name\":\"open_modal\",\"kind\":\"Any\",\"default\":0},{\"name\":\"close_modal\",\"kind\":\"Any\",\"default\":0}]},{\"type\":\"model\",\"name\":\"ReactiveESM1\"},{\"type\":\"model\",\"name\":\"JSComponent1\"},{\"type\":\"model\",\"name\":\"ReactComponent1\"},{\"type\":\"model\",\"name\":\"AnyWidgetComponent1\"},{\"type\":\"model\",\"name\":\"request_value1\",\"properties\":[{\"name\":\"fill\",\"kind\":\"Any\",\"default\":\"none\"},{\"name\":\"_synced\",\"kind\":\"Any\",\"default\":null},{\"name\":\"_request_sync\",\"kind\":\"Any\",\"default\":0}]}]}};\n",
       "  var render_items = [{\"docid\":\"ee19e62d-f46d-4bf5-a034-dc411d2a6040\",\"roots\":{\"p2157\":\"f70560d3-1bf3-4f91-9a4e-007a18746d1b\"},\"root_ids\":[\"p2157\"]}];\n",
       "  var docs = Object.values(docs_json)\n",
       "  if (!docs) {\n",
       "    return\n",
       "  }\n",
       "  const py_version = docs[0].version.replace('rc', '-rc.').replace('.dev', '-dev.')\n",
       "  async function embed_document(root) {\n",
       "    var Bokeh = get_bokeh(root)\n",
       "    await Bokeh.embed.embed_items_notebook(docs_json, render_items);\n",
       "    for (const render_item of render_items) {\n",
       "      for (const root_id of render_item.root_ids) {\n",
       "\tconst id_el = document.getElementById(root_id)\n",
       "\tif (id_el.children.length && id_el.children[0].hasAttribute('data-root-id')) {\n",
       "\t  const root_el = id_el.children[0]\n",
       "\t  root_el.id = root_el.id + '-rendered'\n",
       "\t  for (const child of root_el.children) {\n",
       "            // Ensure JupyterLab does not capture keyboard shortcuts\n",
       "            // see: https://jupyterlab.readthedocs.io/en/4.1.x/extension/notebook.html#keyboard-interaction-model\n",
       "\t    child.setAttribute('data-lm-suppress-shortcuts', 'true')\n",
       "\t  }\n",
       "\t}\n",
       "      }\n",
       "    }\n",
       "  }\n",
       "  function get_bokeh(root) {\n",
       "    if (root.Bokeh === undefined) {\n",
       "      return null\n",
       "    } else if (root.Bokeh.version !== py_version) {\n",
       "      if (root.Bokeh.versions === undefined || !root.Bokeh.versions.has(py_version)) {\n",
       "\treturn null\n",
       "      }\n",
       "      return root.Bokeh.versions.get(py_version);\n",
       "    } else if (root.Bokeh.version === py_version) {\n",
       "      return root.Bokeh\n",
       "    }\n",
       "    return null\n",
       "  }\n",
       "  function is_loaded(root) {\n",
       "    var Bokeh = get_bokeh(root)\n",
       "    return (Bokeh != null && Bokeh.Panel !== undefined)\n",
       "  }\n",
       "  if (is_loaded(root)) {\n",
       "    embed_document(root);\n",
       "  } else {\n",
       "    var attempts = 0;\n",
       "    var timer = setInterval(function(root) {\n",
       "      if (is_loaded(root)) {\n",
       "        clearInterval(timer);\n",
       "        embed_document(root);\n",
       "      } else if (document.readyState == \"complete\") {\n",
       "        attempts++;\n",
       "        if (attempts > 200) {\n",
       "          clearInterval(timer);\n",
       "\t  var Bokeh = get_bokeh(root)\n",
       "\t  if (Bokeh == null || Bokeh.Panel == null) {\n",
       "            console.warn(\"Panel: ERROR: Unable to run Panel code because Bokeh or Panel library is missing\");\n",
       "\t  } else {\n",
       "\t    console.warn(\"Panel: WARNING: Attempting to render but not all required libraries could be resolved.\")\n",
       "\t    embed_document(root)\n",
       "\t  }\n",
       "        }\n",
       "      }\n",
       "    }, 25, root)\n",
       "  }\n",
       "})(window);</script>"
      ],
      "text/plain": [
       ":Histogram   [price]   (Count)"
      ]
     },
     "execution_count": 78,
     "metadata": {
      "application/vnd.holoviews_exec.v0+json": {
       "id": "p2157"
      }
     },
     "output_type": "execute_result"
    }
   ],
   "source": [
    "books_df.hvplot.hist(\n",
    "    y=\"price\", bins=50, bin_range=(-150, 800), title=\"Book prices distribution\"\n",
    ")"
   ]
  },
  {
   "cell_type": "code",
   "execution_count": 23,
   "id": "a013f114-5dff-4afb-9563-f7cdb2f073a3",
   "metadata": {},
   "outputs": [
    {
     "data": {},
     "metadata": {},
     "output_type": "display_data"
    },
    {
     "data": {
      "application/vnd.holoviews_exec.v0+json": "",
      "text/html": [
       "<div id='p1398'>\n",
       "  <div id=\"bbded983-ef90-421c-898b-610a279445d9\" data-root-id=\"p1398\" style=\"display: contents;\"></div>\n",
       "</div>\n",
       "<script type=\"application/javascript\">(function(root) {\n",
       "  var docs_json = {\"18c9d082-7343-4562-b82b-87c665b81623\":{\"version\":\"3.6.0\",\"title\":\"Bokeh Application\",\"roots\":[{\"type\":\"object\",\"name\":\"Row\",\"id\":\"p1398\",\"attributes\":{\"name\":\"Row01462\",\"tags\":[\"embedded\"],\"stylesheets\":[\"\\n:host(.pn-loading):before, .pn-loading:before {\\n  background-color: #c3c3c3;\\n  mask-size: auto calc(min(50%, 400px));\\n  -webkit-mask-size: auto calc(min(50%, 400px));\\n}\",{\"type\":\"object\",\"name\":\"ImportedStyleSheet\",\"id\":\"p1401\",\"attributes\":{\"url\":\"https://cdn.holoviz.org/panel/1.5.3/dist/css/loading.css\"}},{\"type\":\"object\",\"name\":\"ImportedStyleSheet\",\"id\":\"p1459\",\"attributes\":{\"url\":\"https://cdn.holoviz.org/panel/1.5.3/dist/css/listpanel.css\"}},{\"type\":\"object\",\"name\":\"ImportedStyleSheet\",\"id\":\"p1399\",\"attributes\":{\"url\":\"https://cdn.holoviz.org/panel/1.5.3/dist/bundled/theme/default.css\"}},{\"type\":\"object\",\"name\":\"ImportedStyleSheet\",\"id\":\"p1400\",\"attributes\":{\"url\":\"https://cdn.holoviz.org/panel/1.5.3/dist/bundled/theme/native.css\"}}],\"min_width\":700,\"margin\":0,\"sizing_mode\":\"stretch_width\",\"align\":\"start\",\"children\":[{\"type\":\"object\",\"name\":\"Spacer\",\"id\":\"p1402\",\"attributes\":{\"name\":\"HSpacer01469\",\"stylesheets\":[\"\\n:host(.pn-loading):before, .pn-loading:before {\\n  background-color: #c3c3c3;\\n  mask-size: auto calc(min(50%, 400px));\\n  -webkit-mask-size: auto calc(min(50%, 400px));\\n}\",{\"id\":\"p1401\"},{\"id\":\"p1399\"},{\"id\":\"p1400\"}],\"margin\":0,\"sizing_mode\":\"stretch_width\",\"align\":\"start\"}},{\"type\":\"object\",\"name\":\"Figure\",\"id\":\"p1410\",\"attributes\":{\"width\":700,\"height\":300,\"margin\":[5,10],\"sizing_mode\":\"fixed\",\"align\":\"start\",\"x_range\":{\"type\":\"object\",\"name\":\"Range1d\",\"id\":\"p1403\",\"attributes\":{\"tags\":[[[\"index\",null]],[]],\"start\":-3.3857142857142857,\"end\":82.38571428571429,\"reset_start\":-3.3857142857142857,\"reset_end\":82.38571428571429}},\"y_range\":{\"type\":\"object\",\"name\":\"Range1d\",\"id\":\"p1404\",\"attributes\":{\"tags\":[[[\"len\",null]],{\"type\":\"map\",\"entries\":[[\"invert_yaxis\",false],[\"autorange\",false]]}],\"end\":28.5,\"reset_start\":0.0,\"reset_end\":28.5}},\"x_scale\":{\"type\":\"object\",\"name\":\"LinearScale\",\"id\":\"p1420\"},\"y_scale\":{\"type\":\"object\",\"name\":\"LinearScale\",\"id\":\"p1421\"},\"title\":{\"type\":\"object\",\"name\":\"Title\",\"id\":\"p1413\",\"attributes\":{\"text\":\"Book categories distribution\",\"text_color\":\"black\",\"text_font_size\":\"12pt\"}},\"renderers\":[{\"type\":\"object\",\"name\":\"GlyphRenderer\",\"id\":\"p1452\",\"attributes\":{\"data_source\":{\"type\":\"object\",\"name\":\"ColumnDataSource\",\"id\":\"p1443\",\"attributes\":{\"selected\":{\"type\":\"object\",\"name\":\"Selection\",\"id\":\"p1444\",\"attributes\":{\"indices\":[],\"line_indices\":[]}},\"selection_policy\":{\"type\":\"object\",\"name\":\"UnionRenderers\",\"id\":\"p1445\"},\"data\":{\"type\":\"map\",\"entries\":[[\"index\",{\"type\":\"ndarray\",\"array\":{\"type\":\"bytes\",\"data\":\"AAAAAAEAAAACAAAAAwAAAAQAAAAFAAAABgAAAAcAAAAIAAAACQAAAAoAAAALAAAADAAAAA0AAAAOAAAADwAAABAAAAARAAAAEgAAABMAAAAUAAAAFQAAABYAAAAXAAAAGAAAABkAAAAaAAAAGwAAABwAAAAdAAAAHgAAAB8AAAAgAAAAIQAAACIAAAAjAAAAJAAAACUAAAAmAAAAJwAAACgAAAApAAAAKgAAACsAAAAsAAAALQAAAC4AAAAvAAAAMAAAADEAAAAyAAAAMwAAADQAAAA1AAAANgAAADcAAAA4AAAAOQAAADoAAAA7AAAAPAAAAD0AAAA+AAAAPwAAAEAAAABBAAAAQgAAAEMAAABEAAAARQAAAEYAAABHAAAASAAAAEkAAABKAAAASwAAAEwAAABNAAAATgAAAE8AAAA=\"},\"shape\":[80],\"dtype\":\"int32\",\"order\":\"little\"}],[\"len\",{\"type\":\"ndarray\",\"array\":{\"type\":\"bytes\",\"data\":\"AQAAAAEAAAABAAAAAQAAAAEAAAABAAAAAQAAAAEAAAABAAAAAQAAAAEAAAABAAAADwAAAAEAAAABAAAAAgAAAAIAAAABAAAAAQAAAAQAAAACAAAAAQAAAAIAAAABAAAAAQAAAAIAAAABAAAAAQAAAAcAAAACAAAAAwAAAAEAAAABAAAAAQAAAAEAAAABAAAABQAAAAEAAAABAAAAAQAAAAEAAAACAAAAAQAAAAIAAAAJAAAAGgAAAAIAAAACAAAAAQAAABAAAAABAAAAAwAAAAEAAAABAAAAAwAAAAEAAAAGAAAAAQAAAAIAAAABAAAAAgAAAAEAAAACAAAAAQAAAAEAAAACAAAAAQAAAAIAAAAEAAAAAQAAAAIAAAABAAAAAwAAAAIAAAABAAAAAQAAAAEAAAABAAAAAgAAAAEAAAA=\"},\"shape\":[80],\"dtype\":\"uint32\",\"order\":\"little\"}]]}}},\"view\":{\"type\":\"object\",\"name\":\"CDSView\",\"id\":\"p1453\",\"attributes\":{\"filter\":{\"type\":\"object\",\"name\":\"AllIndices\",\"id\":\"p1454\"}}},\"glyph\":{\"type\":\"object\",\"name\":\"VBar\",\"id\":\"p1449\",\"attributes\":{\"tags\":[\"apply_ranges\"],\"x\":{\"type\":\"field\",\"field\":\"index\"},\"width\":{\"type\":\"value\",\"value\":0.8},\"top\":{\"type\":\"field\",\"field\":\"len\"},\"fill_color\":{\"type\":\"value\",\"value\":\"#30a2da\"},\"hatch_color\":{\"type\":\"value\",\"value\":\"#30a2da\"}}},\"selection_glyph\":{\"type\":\"object\",\"name\":\"VBar\",\"id\":\"p1455\",\"attributes\":{\"tags\":[\"apply_ranges\"],\"x\":{\"type\":\"field\",\"field\":\"index\"},\"width\":{\"type\":\"value\",\"value\":0.8},\"bottom\":{\"type\":\"value\",\"value\":0},\"top\":{\"type\":\"field\",\"field\":\"len\"},\"line_color\":{\"type\":\"value\",\"value\":\"black\"},\"line_alpha\":{\"type\":\"value\",\"value\":1.0},\"line_width\":{\"type\":\"value\",\"value\":1},\"line_join\":{\"type\":\"value\",\"value\":\"bevel\"},\"line_cap\":{\"type\":\"value\",\"value\":\"butt\"},\"line_dash\":{\"type\":\"value\",\"value\":[]},\"line_dash_offset\":{\"type\":\"value\",\"value\":0},\"fill_color\":{\"type\":\"value\",\"value\":\"#30a2da\"},\"fill_alpha\":{\"type\":\"value\",\"value\":1.0},\"hatch_color\":{\"type\":\"value\",\"value\":\"#30a2da\"},\"hatch_alpha\":{\"type\":\"value\",\"value\":1.0},\"hatch_scale\":{\"type\":\"value\",\"value\":12.0},\"hatch_pattern\":{\"type\":\"value\",\"value\":null},\"hatch_weight\":{\"type\":\"value\",\"value\":1.0}}},\"nonselection_glyph\":{\"type\":\"object\",\"name\":\"VBar\",\"id\":\"p1450\",\"attributes\":{\"tags\":[\"apply_ranges\"],\"x\":{\"type\":\"field\",\"field\":\"index\"},\"width\":{\"type\":\"value\",\"value\":0.8},\"top\":{\"type\":\"field\",\"field\":\"len\"},\"line_alpha\":{\"type\":\"value\",\"value\":0.1},\"fill_color\":{\"type\":\"value\",\"value\":\"#30a2da\"},\"fill_alpha\":{\"type\":\"value\",\"value\":0.1},\"hatch_color\":{\"type\":\"value\",\"value\":\"#30a2da\"},\"hatch_alpha\":{\"type\":\"value\",\"value\":0.1}}},\"muted_glyph\":{\"type\":\"object\",\"name\":\"VBar\",\"id\":\"p1451\",\"attributes\":{\"tags\":[\"apply_ranges\"],\"x\":{\"type\":\"field\",\"field\":\"index\"},\"width\":{\"type\":\"value\",\"value\":0.8},\"top\":{\"type\":\"field\",\"field\":\"len\"},\"line_alpha\":{\"type\":\"value\",\"value\":0.2},\"fill_color\":{\"type\":\"value\",\"value\":\"#30a2da\"},\"fill_alpha\":{\"type\":\"value\",\"value\":0.2},\"hatch_color\":{\"type\":\"value\",\"value\":\"#30a2da\"},\"hatch_alpha\":{\"type\":\"value\",\"value\":0.2}}}}}],\"toolbar\":{\"type\":\"object\",\"name\":\"Toolbar\",\"id\":\"p1419\",\"attributes\":{\"tools\":[{\"type\":\"object\",\"name\":\"WheelZoomTool\",\"id\":\"p1408\",\"attributes\":{\"tags\":[\"hv_created\"],\"renderers\":\"auto\",\"zoom_together\":\"none\"}},{\"type\":\"object\",\"name\":\"HoverTool\",\"id\":\"p1409\",\"attributes\":{\"tags\":[\"hv_created\"],\"renderers\":[{\"id\":\"p1452\"}],\"tooltips\":[[\"index\",\"@{index}\"],[\"len\",\"@{len}\"]]}},{\"type\":\"object\",\"name\":\"SaveTool\",\"id\":\"p1432\"},{\"type\":\"object\",\"name\":\"PanTool\",\"id\":\"p1433\"},{\"type\":\"object\",\"name\":\"BoxZoomTool\",\"id\":\"p1434\",\"attributes\":{\"overlay\":{\"type\":\"object\",\"name\":\"BoxAnnotation\",\"id\":\"p1435\",\"attributes\":{\"syncable\":false,\"line_color\":\"black\",\"line_alpha\":1.0,\"line_width\":2,\"line_dash\":[4,4],\"fill_color\":\"lightgrey\",\"fill_alpha\":0.5,\"level\":\"overlay\",\"visible\":false,\"left\":{\"type\":\"number\",\"value\":\"nan\"},\"right\":{\"type\":\"number\",\"value\":\"nan\"},\"top\":{\"type\":\"number\",\"value\":\"nan\"},\"bottom\":{\"type\":\"number\",\"value\":\"nan\"},\"left_units\":\"canvas\",\"right_units\":\"canvas\",\"top_units\":\"canvas\",\"bottom_units\":\"canvas\",\"handles\":{\"type\":\"object\",\"name\":\"BoxInteractionHandles\",\"id\":\"p1441\",\"attributes\":{\"all\":{\"type\":\"object\",\"name\":\"AreaVisuals\",\"id\":\"p1440\",\"attributes\":{\"fill_color\":\"white\",\"hover_fill_color\":\"lightgray\"}}}}}}}},{\"type\":\"object\",\"name\":\"ResetTool\",\"id\":\"p1442\"}],\"active_drag\":{\"id\":\"p1433\"},\"active_scroll\":{\"id\":\"p1408\"}}},\"left\":[{\"type\":\"object\",\"name\":\"LinearAxis\",\"id\":\"p1427\",\"attributes\":{\"ticker\":{\"type\":\"object\",\"name\":\"BasicTicker\",\"id\":\"p1428\",\"attributes\":{\"mantissas\":[1,2,5]}},\"formatter\":{\"type\":\"object\",\"name\":\"BasicTickFormatter\",\"id\":\"p1429\"},\"axis_label\":\"len\",\"major_label_policy\":{\"type\":\"object\",\"name\":\"AllLabels\",\"id\":\"p1430\"}}}],\"below\":[{\"type\":\"object\",\"name\":\"LinearAxis\",\"id\":\"p1422\",\"attributes\":{\"ticker\":{\"type\":\"object\",\"name\":\"BasicTicker\",\"id\":\"p1423\",\"attributes\":{\"mantissas\":[1,2,5]}},\"formatter\":{\"type\":\"object\",\"name\":\"BasicTickFormatter\",\"id\":\"p1424\"},\"axis_label\":\"\",\"major_label_policy\":{\"type\":\"object\",\"name\":\"AllLabels\",\"id\":\"p1425\"}}}],\"center\":[{\"type\":\"object\",\"name\":\"Grid\",\"id\":\"p1426\",\"attributes\":{\"axis\":{\"id\":\"p1422\"},\"grid_line_color\":null}},{\"type\":\"object\",\"name\":\"Grid\",\"id\":\"p1431\",\"attributes\":{\"dimension\":1,\"axis\":{\"id\":\"p1427\"},\"grid_line_color\":null}}],\"min_border_top\":10,\"min_border_bottom\":10,\"min_border_left\":10,\"min_border_right\":10,\"output_backend\":\"webgl\"}},{\"type\":\"object\",\"name\":\"Spacer\",\"id\":\"p1457\",\"attributes\":{\"name\":\"HSpacer01470\",\"stylesheets\":[\"\\n:host(.pn-loading):before, .pn-loading:before {\\n  background-color: #c3c3c3;\\n  mask-size: auto calc(min(50%, 400px));\\n  -webkit-mask-size: auto calc(min(50%, 400px));\\n}\",{\"id\":\"p1401\"},{\"id\":\"p1399\"},{\"id\":\"p1400\"}],\"margin\":0,\"sizing_mode\":\"stretch_width\",\"align\":\"start\"}}]}}],\"defs\":[{\"type\":\"model\",\"name\":\"ReactiveHTML1\"},{\"type\":\"model\",\"name\":\"FlexBox1\",\"properties\":[{\"name\":\"align_content\",\"kind\":\"Any\",\"default\":\"flex-start\"},{\"name\":\"align_items\",\"kind\":\"Any\",\"default\":\"flex-start\"},{\"name\":\"flex_direction\",\"kind\":\"Any\",\"default\":\"row\"},{\"name\":\"flex_wrap\",\"kind\":\"Any\",\"default\":\"wrap\"},{\"name\":\"gap\",\"kind\":\"Any\",\"default\":\"\"},{\"name\":\"justify_content\",\"kind\":\"Any\",\"default\":\"flex-start\"}]},{\"type\":\"model\",\"name\":\"FloatPanel1\",\"properties\":[{\"name\":\"config\",\"kind\":\"Any\",\"default\":{\"type\":\"map\"}},{\"name\":\"contained\",\"kind\":\"Any\",\"default\":true},{\"name\":\"position\",\"kind\":\"Any\",\"default\":\"right-top\"},{\"name\":\"offsetx\",\"kind\":\"Any\",\"default\":null},{\"name\":\"offsety\",\"kind\":\"Any\",\"default\":null},{\"name\":\"theme\",\"kind\":\"Any\",\"default\":\"primary\"},{\"name\":\"status\",\"kind\":\"Any\",\"default\":\"normalized\"}]},{\"type\":\"model\",\"name\":\"GridStack1\",\"properties\":[{\"name\":\"mode\",\"kind\":\"Any\",\"default\":\"warn\"},{\"name\":\"ncols\",\"kind\":\"Any\",\"default\":null},{\"name\":\"nrows\",\"kind\":\"Any\",\"default\":null},{\"name\":\"allow_resize\",\"kind\":\"Any\",\"default\":true},{\"name\":\"allow_drag\",\"kind\":\"Any\",\"default\":true},{\"name\":\"state\",\"kind\":\"Any\",\"default\":[]}]},{\"type\":\"model\",\"name\":\"drag1\",\"properties\":[{\"name\":\"slider_width\",\"kind\":\"Any\",\"default\":5},{\"name\":\"slider_color\",\"kind\":\"Any\",\"default\":\"black\"},{\"name\":\"value\",\"kind\":\"Any\",\"default\":50}]},{\"type\":\"model\",\"name\":\"click1\",\"properties\":[{\"name\":\"terminal_output\",\"kind\":\"Any\",\"default\":\"\"},{\"name\":\"debug_name\",\"kind\":\"Any\",\"default\":\"\"},{\"name\":\"clears\",\"kind\":\"Any\",\"default\":0}]},{\"type\":\"model\",\"name\":\"FastWrapper1\",\"properties\":[{\"name\":\"object\",\"kind\":\"Any\",\"default\":null},{\"name\":\"style\",\"kind\":\"Any\",\"default\":null}]},{\"type\":\"model\",\"name\":\"NotificationAreaBase1\",\"properties\":[{\"name\":\"js_events\",\"kind\":\"Any\",\"default\":{\"type\":\"map\"}},{\"name\":\"position\",\"kind\":\"Any\",\"default\":\"bottom-right\"},{\"name\":\"_clear\",\"kind\":\"Any\",\"default\":0}]},{\"type\":\"model\",\"name\":\"NotificationArea1\",\"properties\":[{\"name\":\"js_events\",\"kind\":\"Any\",\"default\":{\"type\":\"map\"}},{\"name\":\"notifications\",\"kind\":\"Any\",\"default\":[]},{\"name\":\"position\",\"kind\":\"Any\",\"default\":\"bottom-right\"},{\"name\":\"_clear\",\"kind\":\"Any\",\"default\":0},{\"name\":\"types\",\"kind\":\"Any\",\"default\":[{\"type\":\"map\",\"entries\":[[\"type\",\"warning\"],[\"background\",\"#ffc107\"],[\"icon\",{\"type\":\"map\",\"entries\":[[\"className\",\"fas fa-exclamation-triangle\"],[\"tagName\",\"i\"],[\"color\",\"white\"]]}]]},{\"type\":\"map\",\"entries\":[[\"type\",\"info\"],[\"background\",\"#007bff\"],[\"icon\",{\"type\":\"map\",\"entries\":[[\"className\",\"fas fa-info-circle\"],[\"tagName\",\"i\"],[\"color\",\"white\"]]}]]}]}]},{\"type\":\"model\",\"name\":\"Notification\",\"properties\":[{\"name\":\"background\",\"kind\":\"Any\",\"default\":null},{\"name\":\"duration\",\"kind\":\"Any\",\"default\":3000},{\"name\":\"icon\",\"kind\":\"Any\",\"default\":null},{\"name\":\"message\",\"kind\":\"Any\",\"default\":\"\"},{\"name\":\"notification_type\",\"kind\":\"Any\",\"default\":null},{\"name\":\"_destroyed\",\"kind\":\"Any\",\"default\":false}]},{\"type\":\"model\",\"name\":\"TemplateActions1\",\"properties\":[{\"name\":\"open_modal\",\"kind\":\"Any\",\"default\":0},{\"name\":\"close_modal\",\"kind\":\"Any\",\"default\":0}]},{\"type\":\"model\",\"name\":\"BootstrapTemplateActions1\",\"properties\":[{\"name\":\"open_modal\",\"kind\":\"Any\",\"default\":0},{\"name\":\"close_modal\",\"kind\":\"Any\",\"default\":0}]},{\"type\":\"model\",\"name\":\"TemplateEditor1\",\"properties\":[{\"name\":\"layout\",\"kind\":\"Any\",\"default\":[]}]},{\"type\":\"model\",\"name\":\"MaterialTemplateActions1\",\"properties\":[{\"name\":\"open_modal\",\"kind\":\"Any\",\"default\":0},{\"name\":\"close_modal\",\"kind\":\"Any\",\"default\":0}]},{\"type\":\"model\",\"name\":\"ReactiveESM1\"},{\"type\":\"model\",\"name\":\"JSComponent1\"},{\"type\":\"model\",\"name\":\"ReactComponent1\"},{\"type\":\"model\",\"name\":\"AnyWidgetComponent1\"},{\"type\":\"model\",\"name\":\"request_value1\",\"properties\":[{\"name\":\"fill\",\"kind\":\"Any\",\"default\":\"none\"},{\"name\":\"_synced\",\"kind\":\"Any\",\"default\":null},{\"name\":\"_request_sync\",\"kind\":\"Any\",\"default\":0}]}]}};\n",
       "  var render_items = [{\"docid\":\"18c9d082-7343-4562-b82b-87c665b81623\",\"roots\":{\"p1398\":\"bbded983-ef90-421c-898b-610a279445d9\"},\"root_ids\":[\"p1398\"]}];\n",
       "  var docs = Object.values(docs_json)\n",
       "  if (!docs) {\n",
       "    return\n",
       "  }\n",
       "  const py_version = docs[0].version.replace('rc', '-rc.').replace('.dev', '-dev.')\n",
       "  async function embed_document(root) {\n",
       "    var Bokeh = get_bokeh(root)\n",
       "    await Bokeh.embed.embed_items_notebook(docs_json, render_items);\n",
       "    for (const render_item of render_items) {\n",
       "      for (const root_id of render_item.root_ids) {\n",
       "\tconst id_el = document.getElementById(root_id)\n",
       "\tif (id_el.children.length && id_el.children[0].hasAttribute('data-root-id')) {\n",
       "\t  const root_el = id_el.children[0]\n",
       "\t  root_el.id = root_el.id + '-rendered'\n",
       "\t  for (const child of root_el.children) {\n",
       "            // Ensure JupyterLab does not capture keyboard shortcuts\n",
       "            // see: https://jupyterlab.readthedocs.io/en/4.1.x/extension/notebook.html#keyboard-interaction-model\n",
       "\t    child.setAttribute('data-lm-suppress-shortcuts', 'true')\n",
       "\t  }\n",
       "\t}\n",
       "      }\n",
       "    }\n",
       "  }\n",
       "  function get_bokeh(root) {\n",
       "    if (root.Bokeh === undefined) {\n",
       "      return null\n",
       "    } else if (root.Bokeh.version !== py_version) {\n",
       "      if (root.Bokeh.versions === undefined || !root.Bokeh.versions.has(py_version)) {\n",
       "\treturn null\n",
       "      }\n",
       "      return root.Bokeh.versions.get(py_version);\n",
       "    } else if (root.Bokeh.version === py_version) {\n",
       "      return root.Bokeh\n",
       "    }\n",
       "    return null\n",
       "  }\n",
       "  function is_loaded(root) {\n",
       "    var Bokeh = get_bokeh(root)\n",
       "    return (Bokeh != null && Bokeh.Panel !== undefined)\n",
       "  }\n",
       "  if (is_loaded(root)) {\n",
       "    embed_document(root);\n",
       "  } else {\n",
       "    var attempts = 0;\n",
       "    var timer = setInterval(function(root) {\n",
       "      if (is_loaded(root)) {\n",
       "        clearInterval(timer);\n",
       "        embed_document(root);\n",
       "      } else if (document.readyState == \"complete\") {\n",
       "        attempts++;\n",
       "        if (attempts > 200) {\n",
       "          clearInterval(timer);\n",
       "\t  var Bokeh = get_bokeh(root)\n",
       "\t  if (Bokeh == null || Bokeh.Panel == null) {\n",
       "            console.warn(\"Panel: ERROR: Unable to run Panel code because Bokeh or Panel library is missing\");\n",
       "\t  } else {\n",
       "\t    console.warn(\"Panel: WARNING: Attempting to render but not all required libraries could be resolved.\")\n",
       "\t    embed_document(root)\n",
       "\t  }\n",
       "        }\n",
       "      }\n",
       "    }, 25, root)\n",
       "  }\n",
       "})(window);</script>"
      ],
      "text/plain": [
       ":Bars   [index]   (len)"
      ]
     },
     "execution_count": 23,
     "metadata": {
      "application/vnd.holoviews_exec.v0+json": {
       "id": "p1398"
      }
     },
     "output_type": "execute_result"
    }
   ],
   "source": [
    "book_categories_df = books_df.group_by(pl.col(\"categories\")).len()\n",
    "book_categories_df = book_categories_df.drop_nulls()\n",
    "book_categories_df.hvplot.bar(title=\"Book categories distribution\")"
   ]
  },
  {
   "cell_type": "markdown",
   "id": "ad72c608-e510-49d2-be79-01157cac3121",
   "metadata": {},
   "source": [
    "There are three dominant categories of books while the rest are below 10 unit per category(ies)."
   ]
  },
  {
   "cell_type": "code",
   "execution_count": 24,
   "id": "cd71777c-ce61-4cb9-a14d-84ebf7fdbe37",
   "metadata": {},
   "outputs": [
    {
     "data": {},
     "metadata": {},
     "output_type": "display_data"
    },
    {
     "data": {
      "application/vnd.holoviews_exec.v0+json": "",
      "text/html": [
       "<div id='p1463'>\n",
       "  <div id=\"be1332c1-7ef6-4fba-bcbc-8b24c586fd6e\" data-root-id=\"p1463\" style=\"display: contents;\"></div>\n",
       "</div>\n",
       "<script type=\"application/javascript\">(function(root) {\n",
       "  var docs_json = {\"5bfc7606-f956-419f-9bb3-8defa0623c62\":{\"version\":\"3.6.0\",\"title\":\"Bokeh Application\",\"roots\":[{\"type\":\"object\",\"name\":\"Row\",\"id\":\"p1463\",\"attributes\":{\"name\":\"Row01557\",\"tags\":[\"embedded\"],\"stylesheets\":[\"\\n:host(.pn-loading):before, .pn-loading:before {\\n  background-color: #c3c3c3;\\n  mask-size: auto calc(min(50%, 400px));\\n  -webkit-mask-size: auto calc(min(50%, 400px));\\n}\",{\"type\":\"object\",\"name\":\"ImportedStyleSheet\",\"id\":\"p1466\",\"attributes\":{\"url\":\"https://cdn.holoviz.org/panel/1.5.3/dist/css/loading.css\"}},{\"type\":\"object\",\"name\":\"ImportedStyleSheet\",\"id\":\"p1524\",\"attributes\":{\"url\":\"https://cdn.holoviz.org/panel/1.5.3/dist/css/listpanel.css\"}},{\"type\":\"object\",\"name\":\"ImportedStyleSheet\",\"id\":\"p1464\",\"attributes\":{\"url\":\"https://cdn.holoviz.org/panel/1.5.3/dist/bundled/theme/default.css\"}},{\"type\":\"object\",\"name\":\"ImportedStyleSheet\",\"id\":\"p1465\",\"attributes\":{\"url\":\"https://cdn.holoviz.org/panel/1.5.3/dist/bundled/theme/native.css\"}}],\"min_width\":700,\"margin\":0,\"sizing_mode\":\"stretch_width\",\"align\":\"start\",\"children\":[{\"type\":\"object\",\"name\":\"Spacer\",\"id\":\"p1467\",\"attributes\":{\"name\":\"HSpacer01564\",\"stylesheets\":[\"\\n:host(.pn-loading):before, .pn-loading:before {\\n  background-color: #c3c3c3;\\n  mask-size: auto calc(min(50%, 400px));\\n  -webkit-mask-size: auto calc(min(50%, 400px));\\n}\",{\"id\":\"p1466\"},{\"id\":\"p1464\"},{\"id\":\"p1465\"}],\"margin\":0,\"sizing_mode\":\"stretch_width\",\"align\":\"start\"}},{\"type\":\"object\",\"name\":\"Figure\",\"id\":\"p1475\",\"attributes\":{\"width\":700,\"height\":300,\"margin\":[5,10],\"sizing_mode\":\"fixed\",\"align\":\"start\",\"x_range\":{\"type\":\"object\",\"name\":\"Range1d\",\"id\":\"p1468\",\"attributes\":{\"tags\":[[[\"published_year\",null]],[]],\"start\":1821.8142857142857,\"end\":2029.1857142857143,\"reset_start\":1821.8142857142857,\"reset_end\":2029.1857142857143}},\"y_range\":{\"type\":\"object\",\"name\":\"Range1d\",\"id\":\"p1469\",\"attributes\":{\"tags\":[[[\"Count\",null]],{\"type\":\"map\",\"entries\":[[\"invert_yaxis\",false],[\"autorange\",false]]}],\"end\":36.3,\"reset_start\":0.0,\"reset_end\":36.3}},\"x_scale\":{\"type\":\"object\",\"name\":\"LinearScale\",\"id\":\"p1485\"},\"y_scale\":{\"type\":\"object\",\"name\":\"LinearScale\",\"id\":\"p1486\"},\"title\":{\"type\":\"object\",\"name\":\"Title\",\"id\":\"p1478\",\"attributes\":{\"text\":\"Book publishing year distribution\",\"text_color\":\"black\",\"text_font_size\":\"12pt\"}},\"renderers\":[{\"type\":\"object\",\"name\":\"GlyphRenderer\",\"id\":\"p1517\",\"attributes\":{\"data_source\":{\"type\":\"object\",\"name\":\"ColumnDataSource\",\"id\":\"p1508\",\"attributes\":{\"selected\":{\"type\":\"object\",\"name\":\"Selection\",\"id\":\"p1509\",\"attributes\":{\"indices\":[],\"line_indices\":[]}},\"selection_policy\":{\"type\":\"object\",\"name\":\"UnionRenderers\",\"id\":\"p1510\"},\"data\":{\"type\":\"map\",\"entries\":[[\"top\",{\"type\":\"ndarray\",\"array\":{\"type\":\"bytes\",\"data\":\"AQAAAAAAAAAAAAAABgAAAAQAAAABAAAABAAAAAUAAAADAAAABwAAAAYAAAAMAAAACgAAAAsAAAAPAAAAAQAAAAIAAAADAAAAAQAAAAUAAAAFAAAABQAAAAYAAAAJAAAADgAAAAoAAAAHAAAAIQAAABoAAAAaAAAA\"},\"shape\":[30],\"dtype\":\"int32\",\"order\":\"little\"}],[\"left\",{\"type\":\"ndarray\",\"array\":{\"type\":\"bytes\",\"data\":\"AAAAAACYnEB3d3d3d7GcQO/u7u7uypxAZmZmZmbknEDe3d3d3f2cQFVVVVVVF51AzczMzMwwnUBEREREREqdQLy7u7u7Y51AMzMzMzN9nUCrqqqqqpadQCIiIiIisJ1AmpmZmZnJnUAREREREeOdQIiIiIiI/J1AAAAAAAAWnkB3d3d3dy+eQO/u7u7uSJ5AZmZmZmZinkDe3d3d3XueQFVVVVVVlZ5AzczMzMyunkBERERERMieQLy7u7u74Z5AMzMzMzP7nkCrqqqqqhSfQCIiIiIiLp9AmpmZmZlHn0AREREREWGfQIiIiIiIep9A\"},\"shape\":[30],\"dtype\":\"float64\",\"order\":\"little\"}],[\"right\",{\"type\":\"ndarray\",\"array\":{\"type\":\"bytes\",\"data\":\"d3d3d3exnEDv7u7u7sqcQGZmZmZm5JxA3t3d3d39nEBVVVVVVRedQM3MzMzMMJ1ARERERERKnUC8u7u7u2OdQDMzMzMzfZ1Aq6qqqqqWnUAiIiIiIrCdQJqZmZmZyZ1AERERERHjnUCIiIiIiPydQAAAAAAAFp5Ad3d3d3cvnkDv7u7u7kieQGZmZmZmYp5A3t3d3d17nkBVVVVVVZWeQM3MzMzMrp5ARERERETInkC8u7u7u+GeQDMzMzMz+55Aq6qqqqoUn0AiIiIiIi6fQJqZmZmZR59AERERERFhn0CIiIiIiHqfQAAAAAAAlJ9A\"},\"shape\":[30],\"dtype\":\"float64\",\"order\":\"little\"}],[\"published_year\",{\"type\":\"ndarray\",\"array\":{\"type\":\"bytes\",\"data\":\"vLu7u7uknEAzMzMzM76cQKqqqqqq15xAIiIiIiLxnECamZmZmQqdQBERERERJJ1AiIiIiIg9nUAAAAAAAFedQHh3d3d3cJ1A7+7u7u6JnUBmZmZmZqOdQN7d3d3dvJ1AVlVVVVXWnUDMzMzMzO+dQERERERECZ5AvLu7u7sinkAzMzMzMzyeQKqqqqqqVZ5AIiIiIiJvnkCamZmZmYieQBERERERop5AiIiIiIi7nkAAAAAAANWeQHh3d3d37p5A7+7u7u4Hn0BmZmZmZiGfQN7d3d3dOp9AVlVVVVVUn0DMzMzMzG2fQEREREREh59A\"},\"shape\":[30],\"dtype\":\"float64\",\"order\":\"little\"}],[\"published_year_count\",{\"type\":\"ndarray\",\"array\":{\"type\":\"bytes\",\"data\":\"AQAAAAAAAAAAAAAABgAAAAQAAAABAAAABAAAAAUAAAADAAAABwAAAAYAAAAMAAAACgAAAAsAAAAPAAAAAQAAAAIAAAADAAAAAQAAAAUAAAAFAAAABQAAAAYAAAAJAAAADgAAAAoAAAAHAAAAIQAAABoAAAAaAAAA\"},\"shape\":[30],\"dtype\":\"int32\",\"order\":\"little\"}]]}}},\"view\":{\"type\":\"object\",\"name\":\"CDSView\",\"id\":\"p1518\",\"attributes\":{\"filter\":{\"type\":\"object\",\"name\":\"AllIndices\",\"id\":\"p1519\"}}},\"glyph\":{\"type\":\"object\",\"name\":\"Quad\",\"id\":\"p1514\",\"attributes\":{\"tags\":[\"apply_ranges\"],\"left\":{\"type\":\"field\",\"field\":\"left\"},\"right\":{\"type\":\"field\",\"field\":\"right\"},\"bottom\":{\"type\":\"value\",\"value\":0},\"top\":{\"type\":\"field\",\"field\":\"top\"},\"fill_color\":{\"type\":\"value\",\"value\":\"#30a2da\"},\"hatch_color\":{\"type\":\"value\",\"value\":\"#30a2da\"}}},\"selection_glyph\":{\"type\":\"object\",\"name\":\"Quad\",\"id\":\"p1520\",\"attributes\":{\"tags\":[\"apply_ranges\"],\"left\":{\"type\":\"field\",\"field\":\"left\"},\"right\":{\"type\":\"field\",\"field\":\"right\"},\"bottom\":{\"type\":\"value\",\"value\":0},\"top\":{\"type\":\"field\",\"field\":\"top\"},\"line_color\":{\"type\":\"value\",\"value\":\"black\"},\"line_alpha\":{\"type\":\"value\",\"value\":1.0},\"line_width\":{\"type\":\"value\",\"value\":1},\"line_join\":{\"type\":\"value\",\"value\":\"bevel\"},\"line_cap\":{\"type\":\"value\",\"value\":\"butt\"},\"line_dash\":{\"type\":\"value\",\"value\":[]},\"line_dash_offset\":{\"type\":\"value\",\"value\":0},\"fill_color\":{\"type\":\"value\",\"value\":\"#30a2da\"},\"fill_alpha\":{\"type\":\"value\",\"value\":1.0},\"hatch_color\":{\"type\":\"value\",\"value\":\"#30a2da\"},\"hatch_alpha\":{\"type\":\"value\",\"value\":1.0},\"hatch_scale\":{\"type\":\"value\",\"value\":12.0},\"hatch_pattern\":{\"type\":\"value\",\"value\":null},\"hatch_weight\":{\"type\":\"value\",\"value\":1.0}}},\"nonselection_glyph\":{\"type\":\"object\",\"name\":\"Quad\",\"id\":\"p1515\",\"attributes\":{\"tags\":[\"apply_ranges\"],\"left\":{\"type\":\"field\",\"field\":\"left\"},\"right\":{\"type\":\"field\",\"field\":\"right\"},\"bottom\":{\"type\":\"value\",\"value\":0},\"top\":{\"type\":\"field\",\"field\":\"top\"},\"line_alpha\":{\"type\":\"value\",\"value\":0.1},\"fill_color\":{\"type\":\"value\",\"value\":\"#30a2da\"},\"fill_alpha\":{\"type\":\"value\",\"value\":0.1},\"hatch_color\":{\"type\":\"value\",\"value\":\"#30a2da\"},\"hatch_alpha\":{\"type\":\"value\",\"value\":0.1}}},\"muted_glyph\":{\"type\":\"object\",\"name\":\"Quad\",\"id\":\"p1516\",\"attributes\":{\"tags\":[\"apply_ranges\"],\"left\":{\"type\":\"field\",\"field\":\"left\"},\"right\":{\"type\":\"field\",\"field\":\"right\"},\"bottom\":{\"type\":\"value\",\"value\":0},\"top\":{\"type\":\"field\",\"field\":\"top\"},\"line_alpha\":{\"type\":\"value\",\"value\":0.2},\"fill_color\":{\"type\":\"value\",\"value\":\"#30a2da\"},\"fill_alpha\":{\"type\":\"value\",\"value\":0.2},\"hatch_color\":{\"type\":\"value\",\"value\":\"#30a2da\"},\"hatch_alpha\":{\"type\":\"value\",\"value\":0.2}}}}}],\"toolbar\":{\"type\":\"object\",\"name\":\"Toolbar\",\"id\":\"p1484\",\"attributes\":{\"tools\":[{\"type\":\"object\",\"name\":\"WheelZoomTool\",\"id\":\"p1473\",\"attributes\":{\"tags\":[\"hv_created\"],\"renderers\":\"auto\",\"zoom_together\":\"none\"}},{\"type\":\"object\",\"name\":\"HoverTool\",\"id\":\"p1474\",\"attributes\":{\"tags\":[\"hv_created\"],\"renderers\":[{\"id\":\"p1517\"}],\"tooltips\":[[\"published_year\",\"@{published_year}\"],[\"Count\",\"@{published_year_count}\"]]}},{\"type\":\"object\",\"name\":\"SaveTool\",\"id\":\"p1497\"},{\"type\":\"object\",\"name\":\"PanTool\",\"id\":\"p1498\"},{\"type\":\"object\",\"name\":\"BoxZoomTool\",\"id\":\"p1499\",\"attributes\":{\"overlay\":{\"type\":\"object\",\"name\":\"BoxAnnotation\",\"id\":\"p1500\",\"attributes\":{\"syncable\":false,\"line_color\":\"black\",\"line_alpha\":1.0,\"line_width\":2,\"line_dash\":[4,4],\"fill_color\":\"lightgrey\",\"fill_alpha\":0.5,\"level\":\"overlay\",\"visible\":false,\"left\":{\"type\":\"number\",\"value\":\"nan\"},\"right\":{\"type\":\"number\",\"value\":\"nan\"},\"top\":{\"type\":\"number\",\"value\":\"nan\"},\"bottom\":{\"type\":\"number\",\"value\":\"nan\"},\"left_units\":\"canvas\",\"right_units\":\"canvas\",\"top_units\":\"canvas\",\"bottom_units\":\"canvas\",\"handles\":{\"type\":\"object\",\"name\":\"BoxInteractionHandles\",\"id\":\"p1506\",\"attributes\":{\"all\":{\"type\":\"object\",\"name\":\"AreaVisuals\",\"id\":\"p1505\",\"attributes\":{\"fill_color\":\"white\",\"hover_fill_color\":\"lightgray\"}}}}}}}},{\"type\":\"object\",\"name\":\"ResetTool\",\"id\":\"p1507\"}],\"active_drag\":{\"id\":\"p1498\"},\"active_scroll\":{\"id\":\"p1473\"}}},\"left\":[{\"type\":\"object\",\"name\":\"LinearAxis\",\"id\":\"p1492\",\"attributes\":{\"ticker\":{\"type\":\"object\",\"name\":\"BasicTicker\",\"id\":\"p1493\",\"attributes\":{\"mantissas\":[1,2,5]}},\"formatter\":{\"type\":\"object\",\"name\":\"BasicTickFormatter\",\"id\":\"p1494\"},\"axis_label\":\"\",\"major_label_policy\":{\"type\":\"object\",\"name\":\"AllLabels\",\"id\":\"p1495\"}}}],\"below\":[{\"type\":\"object\",\"name\":\"LinearAxis\",\"id\":\"p1487\",\"attributes\":{\"ticker\":{\"type\":\"object\",\"name\":\"BasicTicker\",\"id\":\"p1488\",\"attributes\":{\"mantissas\":[1,2,5]}},\"formatter\":{\"type\":\"object\",\"name\":\"BasicTickFormatter\",\"id\":\"p1489\"},\"axis_label\":\"published_year\",\"major_label_policy\":{\"type\":\"object\",\"name\":\"AllLabels\",\"id\":\"p1490\"}}}],\"center\":[{\"type\":\"object\",\"name\":\"Grid\",\"id\":\"p1491\",\"attributes\":{\"axis\":{\"id\":\"p1487\"},\"grid_line_color\":null}},{\"type\":\"object\",\"name\":\"Grid\",\"id\":\"p1496\",\"attributes\":{\"dimension\":1,\"axis\":{\"id\":\"p1492\"},\"grid_line_color\":null}}],\"min_border_top\":10,\"min_border_bottom\":10,\"min_border_left\":10,\"min_border_right\":10,\"output_backend\":\"webgl\"}},{\"type\":\"object\",\"name\":\"Spacer\",\"id\":\"p1522\",\"attributes\":{\"name\":\"HSpacer01565\",\"stylesheets\":[\"\\n:host(.pn-loading):before, .pn-loading:before {\\n  background-color: #c3c3c3;\\n  mask-size: auto calc(min(50%, 400px));\\n  -webkit-mask-size: auto calc(min(50%, 400px));\\n}\",{\"id\":\"p1466\"},{\"id\":\"p1464\"},{\"id\":\"p1465\"}],\"margin\":0,\"sizing_mode\":\"stretch_width\",\"align\":\"start\"}}]}}],\"defs\":[{\"type\":\"model\",\"name\":\"ReactiveHTML1\"},{\"type\":\"model\",\"name\":\"FlexBox1\",\"properties\":[{\"name\":\"align_content\",\"kind\":\"Any\",\"default\":\"flex-start\"},{\"name\":\"align_items\",\"kind\":\"Any\",\"default\":\"flex-start\"},{\"name\":\"flex_direction\",\"kind\":\"Any\",\"default\":\"row\"},{\"name\":\"flex_wrap\",\"kind\":\"Any\",\"default\":\"wrap\"},{\"name\":\"gap\",\"kind\":\"Any\",\"default\":\"\"},{\"name\":\"justify_content\",\"kind\":\"Any\",\"default\":\"flex-start\"}]},{\"type\":\"model\",\"name\":\"FloatPanel1\",\"properties\":[{\"name\":\"config\",\"kind\":\"Any\",\"default\":{\"type\":\"map\"}},{\"name\":\"contained\",\"kind\":\"Any\",\"default\":true},{\"name\":\"position\",\"kind\":\"Any\",\"default\":\"right-top\"},{\"name\":\"offsetx\",\"kind\":\"Any\",\"default\":null},{\"name\":\"offsety\",\"kind\":\"Any\",\"default\":null},{\"name\":\"theme\",\"kind\":\"Any\",\"default\":\"primary\"},{\"name\":\"status\",\"kind\":\"Any\",\"default\":\"normalized\"}]},{\"type\":\"model\",\"name\":\"GridStack1\",\"properties\":[{\"name\":\"mode\",\"kind\":\"Any\",\"default\":\"warn\"},{\"name\":\"ncols\",\"kind\":\"Any\",\"default\":null},{\"name\":\"nrows\",\"kind\":\"Any\",\"default\":null},{\"name\":\"allow_resize\",\"kind\":\"Any\",\"default\":true},{\"name\":\"allow_drag\",\"kind\":\"Any\",\"default\":true},{\"name\":\"state\",\"kind\":\"Any\",\"default\":[]}]},{\"type\":\"model\",\"name\":\"drag1\",\"properties\":[{\"name\":\"slider_width\",\"kind\":\"Any\",\"default\":5},{\"name\":\"slider_color\",\"kind\":\"Any\",\"default\":\"black\"},{\"name\":\"value\",\"kind\":\"Any\",\"default\":50}]},{\"type\":\"model\",\"name\":\"click1\",\"properties\":[{\"name\":\"terminal_output\",\"kind\":\"Any\",\"default\":\"\"},{\"name\":\"debug_name\",\"kind\":\"Any\",\"default\":\"\"},{\"name\":\"clears\",\"kind\":\"Any\",\"default\":0}]},{\"type\":\"model\",\"name\":\"FastWrapper1\",\"properties\":[{\"name\":\"object\",\"kind\":\"Any\",\"default\":null},{\"name\":\"style\",\"kind\":\"Any\",\"default\":null}]},{\"type\":\"model\",\"name\":\"NotificationAreaBase1\",\"properties\":[{\"name\":\"js_events\",\"kind\":\"Any\",\"default\":{\"type\":\"map\"}},{\"name\":\"position\",\"kind\":\"Any\",\"default\":\"bottom-right\"},{\"name\":\"_clear\",\"kind\":\"Any\",\"default\":0}]},{\"type\":\"model\",\"name\":\"NotificationArea1\",\"properties\":[{\"name\":\"js_events\",\"kind\":\"Any\",\"default\":{\"type\":\"map\"}},{\"name\":\"notifications\",\"kind\":\"Any\",\"default\":[]},{\"name\":\"position\",\"kind\":\"Any\",\"default\":\"bottom-right\"},{\"name\":\"_clear\",\"kind\":\"Any\",\"default\":0},{\"name\":\"types\",\"kind\":\"Any\",\"default\":[{\"type\":\"map\",\"entries\":[[\"type\",\"warning\"],[\"background\",\"#ffc107\"],[\"icon\",{\"type\":\"map\",\"entries\":[[\"className\",\"fas fa-exclamation-triangle\"],[\"tagName\",\"i\"],[\"color\",\"white\"]]}]]},{\"type\":\"map\",\"entries\":[[\"type\",\"info\"],[\"background\",\"#007bff\"],[\"icon\",{\"type\":\"map\",\"entries\":[[\"className\",\"fas fa-info-circle\"],[\"tagName\",\"i\"],[\"color\",\"white\"]]}]]}]}]},{\"type\":\"model\",\"name\":\"Notification\",\"properties\":[{\"name\":\"background\",\"kind\":\"Any\",\"default\":null},{\"name\":\"duration\",\"kind\":\"Any\",\"default\":3000},{\"name\":\"icon\",\"kind\":\"Any\",\"default\":null},{\"name\":\"message\",\"kind\":\"Any\",\"default\":\"\"},{\"name\":\"notification_type\",\"kind\":\"Any\",\"default\":null},{\"name\":\"_destroyed\",\"kind\":\"Any\",\"default\":false}]},{\"type\":\"model\",\"name\":\"TemplateActions1\",\"properties\":[{\"name\":\"open_modal\",\"kind\":\"Any\",\"default\":0},{\"name\":\"close_modal\",\"kind\":\"Any\",\"default\":0}]},{\"type\":\"model\",\"name\":\"BootstrapTemplateActions1\",\"properties\":[{\"name\":\"open_modal\",\"kind\":\"Any\",\"default\":0},{\"name\":\"close_modal\",\"kind\":\"Any\",\"default\":0}]},{\"type\":\"model\",\"name\":\"TemplateEditor1\",\"properties\":[{\"name\":\"layout\",\"kind\":\"Any\",\"default\":[]}]},{\"type\":\"model\",\"name\":\"MaterialTemplateActions1\",\"properties\":[{\"name\":\"open_modal\",\"kind\":\"Any\",\"default\":0},{\"name\":\"close_modal\",\"kind\":\"Any\",\"default\":0}]},{\"type\":\"model\",\"name\":\"ReactiveESM1\"},{\"type\":\"model\",\"name\":\"JSComponent1\"},{\"type\":\"model\",\"name\":\"ReactComponent1\"},{\"type\":\"model\",\"name\":\"AnyWidgetComponent1\"},{\"type\":\"model\",\"name\":\"request_value1\",\"properties\":[{\"name\":\"fill\",\"kind\":\"Any\",\"default\":\"none\"},{\"name\":\"_synced\",\"kind\":\"Any\",\"default\":null},{\"name\":\"_request_sync\",\"kind\":\"Any\",\"default\":0}]}]}};\n",
       "  var render_items = [{\"docid\":\"5bfc7606-f956-419f-9bb3-8defa0623c62\",\"roots\":{\"p1463\":\"be1332c1-7ef6-4fba-bcbc-8b24c586fd6e\"},\"root_ids\":[\"p1463\"]}];\n",
       "  var docs = Object.values(docs_json)\n",
       "  if (!docs) {\n",
       "    return\n",
       "  }\n",
       "  const py_version = docs[0].version.replace('rc', '-rc.').replace('.dev', '-dev.')\n",
       "  async function embed_document(root) {\n",
       "    var Bokeh = get_bokeh(root)\n",
       "    await Bokeh.embed.embed_items_notebook(docs_json, render_items);\n",
       "    for (const render_item of render_items) {\n",
       "      for (const root_id of render_item.root_ids) {\n",
       "\tconst id_el = document.getElementById(root_id)\n",
       "\tif (id_el.children.length && id_el.children[0].hasAttribute('data-root-id')) {\n",
       "\t  const root_el = id_el.children[0]\n",
       "\t  root_el.id = root_el.id + '-rendered'\n",
       "\t  for (const child of root_el.children) {\n",
       "            // Ensure JupyterLab does not capture keyboard shortcuts\n",
       "            // see: https://jupyterlab.readthedocs.io/en/4.1.x/extension/notebook.html#keyboard-interaction-model\n",
       "\t    child.setAttribute('data-lm-suppress-shortcuts', 'true')\n",
       "\t  }\n",
       "\t}\n",
       "      }\n",
       "    }\n",
       "  }\n",
       "  function get_bokeh(root) {\n",
       "    if (root.Bokeh === undefined) {\n",
       "      return null\n",
       "    } else if (root.Bokeh.version !== py_version) {\n",
       "      if (root.Bokeh.versions === undefined || !root.Bokeh.versions.has(py_version)) {\n",
       "\treturn null\n",
       "      }\n",
       "      return root.Bokeh.versions.get(py_version);\n",
       "    } else if (root.Bokeh.version === py_version) {\n",
       "      return root.Bokeh\n",
       "    }\n",
       "    return null\n",
       "  }\n",
       "  function is_loaded(root) {\n",
       "    var Bokeh = get_bokeh(root)\n",
       "    return (Bokeh != null && Bokeh.Panel !== undefined)\n",
       "  }\n",
       "  if (is_loaded(root)) {\n",
       "    embed_document(root);\n",
       "  } else {\n",
       "    var attempts = 0;\n",
       "    var timer = setInterval(function(root) {\n",
       "      if (is_loaded(root)) {\n",
       "        clearInterval(timer);\n",
       "        embed_document(root);\n",
       "      } else if (document.readyState == \"complete\") {\n",
       "        attempts++;\n",
       "        if (attempts > 200) {\n",
       "          clearInterval(timer);\n",
       "\t  var Bokeh = get_bokeh(root)\n",
       "\t  if (Bokeh == null || Bokeh.Panel == null) {\n",
       "            console.warn(\"Panel: ERROR: Unable to run Panel code because Bokeh or Panel library is missing\");\n",
       "\t  } else {\n",
       "\t    console.warn(\"Panel: WARNING: Attempting to render but not all required libraries could be resolved.\")\n",
       "\t    embed_document(root)\n",
       "\t  }\n",
       "        }\n",
       "      }\n",
       "    }, 25, root)\n",
       "  }\n",
       "})(window);</script>"
      ],
      "text/plain": [
       ":Histogram   [published_year]   (Count)"
      ]
     },
     "execution_count": 24,
     "metadata": {
      "application/vnd.holoviews_exec.v0+json": {
       "id": "p1463"
      }
     },
     "output_type": "execute_result"
    }
   ],
   "source": [
    "books_df.hvplot.hist(\n",
    "    y=\"published_year\", bins=30, title=\"Book publishing year distribution\"\n",
    ")"
   ]
  },
  {
   "cell_type": "markdown",
   "id": "5cd0e8fd-89ac-4150-a18c-12376a29e110",
   "metadata": {},
   "source": [
    "Number of books published in the same year might not be relevent but we can what is rented the most (taking publishing year in account) and connect it to the customer data (age group, education etc.)"
   ]
  },
  {
   "cell_type": "code",
   "execution_count": 100,
   "id": "f0de82e4-71b7-462b-86d7-ec709cb770ea",
   "metadata": {},
   "outputs": [
    {
     "data": {},
     "metadata": {},
     "output_type": "display_data"
    },
    {
     "data": {
      "application/vnd.holoviews_exec.v0+json": "",
      "text/html": [
       "<div id='p2511'>\n",
       "  <div id=\"bc015fa2-a75d-4118-a9bb-ea9cef1c1537\" data-root-id=\"p2511\" style=\"display: contents;\"></div>\n",
       "</div>\n",
       "<script type=\"application/javascript\">(function(root) {\n",
       "  var docs_json = {\"e4e8818c-03d8-42d0-a155-cccedb33aa31\":{\"version\":\"3.6.0\",\"title\":\"Bokeh Application\",\"roots\":[{\"type\":\"object\",\"name\":\"Row\",\"id\":\"p2511\",\"attributes\":{\"name\":\"Row03297\",\"tags\":[\"embedded\"],\"stylesheets\":[\"\\n:host(.pn-loading):before, .pn-loading:before {\\n  background-color: #c3c3c3;\\n  mask-size: auto calc(min(50%, 400px));\\n  -webkit-mask-size: auto calc(min(50%, 400px));\\n}\",{\"type\":\"object\",\"name\":\"ImportedStyleSheet\",\"id\":\"p2514\",\"attributes\":{\"url\":\"https://cdn.holoviz.org/panel/1.5.3/dist/css/loading.css\"}},{\"type\":\"object\",\"name\":\"ImportedStyleSheet\",\"id\":\"p2572\",\"attributes\":{\"url\":\"https://cdn.holoviz.org/panel/1.5.3/dist/css/listpanel.css\"}},{\"type\":\"object\",\"name\":\"ImportedStyleSheet\",\"id\":\"p2512\",\"attributes\":{\"url\":\"https://cdn.holoviz.org/panel/1.5.3/dist/bundled/theme/default.css\"}},{\"type\":\"object\",\"name\":\"ImportedStyleSheet\",\"id\":\"p2513\",\"attributes\":{\"url\":\"https://cdn.holoviz.org/panel/1.5.3/dist/bundled/theme/native.css\"}}],\"min_width\":700,\"margin\":0,\"sizing_mode\":\"stretch_width\",\"align\":\"start\",\"children\":[{\"type\":\"object\",\"name\":\"Spacer\",\"id\":\"p2515\",\"attributes\":{\"name\":\"HSpacer03304\",\"stylesheets\":[\"\\n:host(.pn-loading):before, .pn-loading:before {\\n  background-color: #c3c3c3;\\n  mask-size: auto calc(min(50%, 400px));\\n  -webkit-mask-size: auto calc(min(50%, 400px));\\n}\",{\"id\":\"p2514\"},{\"id\":\"p2512\"},{\"id\":\"p2513\"}],\"margin\":0,\"sizing_mode\":\"stretch_width\",\"align\":\"start\"}},{\"type\":\"object\",\"name\":\"Figure\",\"id\":\"p2523\",\"attributes\":{\"width\":700,\"height\":300,\"margin\":[5,10],\"sizing_mode\":\"fixed\",\"align\":\"start\",\"x_range\":{\"type\":\"object\",\"name\":\"Range1d\",\"id\":\"p2516\",\"attributes\":{\"tags\":[[[\"Book returned\",null]],[]],\"start\":-1.0857142857142856,\"end\":1.0857142857142856,\"reset_start\":-1.0857142857142856,\"reset_end\":1.0857142857142856}},\"y_range\":{\"type\":\"object\",\"name\":\"Range1d\",\"id\":\"p2517\",\"attributes\":{\"tags\":[[[\"Number of customers\",null]],{\"type\":\"map\",\"entries\":[[\"invert_yaxis\",false],[\"autorange\",false]]}],\"end\":1347.9,\"reset_start\":0.0,\"reset_end\":1347.9}},\"x_scale\":{\"type\":\"object\",\"name\":\"LinearScale\",\"id\":\"p2533\"},\"y_scale\":{\"type\":\"object\",\"name\":\"LinearScale\",\"id\":\"p2534\"},\"title\":{\"type\":\"object\",\"name\":\"Title\",\"id\":\"p2526\",\"attributes\":{\"text\":\"Customers returning/not returning books\",\"text_color\":\"black\",\"text_font_size\":\"12pt\"}},\"renderers\":[{\"type\":\"object\",\"name\":\"GlyphRenderer\",\"id\":\"p2565\",\"attributes\":{\"data_source\":{\"type\":\"object\",\"name\":\"ColumnDataSource\",\"id\":\"p2556\",\"attributes\":{\"selected\":{\"type\":\"object\",\"name\":\"Selection\",\"id\":\"p2557\",\"attributes\":{\"indices\":[],\"line_indices\":[]}},\"selection_policy\":{\"type\":\"object\",\"name\":\"UnionRenderers\",\"id\":\"p2558\"},\"data\":{\"type\":\"map\",\"entries\":[[\"Book_returned\",{\"type\":\"ndarray\",\"array\":{\"type\":\"bytes\",\"data\":\"AAAAAAEAAAD/////\"},\"shape\":[3],\"dtype\":\"int32\",\"order\":\"little\"}],[\"Number_of_customers\",{\"type\":\"ndarray\",\"array\":{\"type\":\"bytes\",\"data\":\"lwEAAOgEAABRAQAA\"},\"shape\":[3],\"dtype\":\"uint32\",\"order\":\"little\"}]]}}},\"view\":{\"type\":\"object\",\"name\":\"CDSView\",\"id\":\"p2566\",\"attributes\":{\"filter\":{\"type\":\"object\",\"name\":\"AllIndices\",\"id\":\"p2567\"}}},\"glyph\":{\"type\":\"object\",\"name\":\"VBar\",\"id\":\"p2562\",\"attributes\":{\"tags\":[\"apply_ranges\"],\"x\":{\"type\":\"field\",\"field\":\"Book_returned\"},\"width\":{\"type\":\"value\",\"value\":0.4},\"top\":{\"type\":\"field\",\"field\":\"Number_of_customers\"},\"fill_color\":{\"type\":\"value\",\"value\":\"purple\"},\"hatch_color\":{\"type\":\"value\",\"value\":\"purple\"}}},\"selection_glyph\":{\"type\":\"object\",\"name\":\"VBar\",\"id\":\"p2568\",\"attributes\":{\"tags\":[\"apply_ranges\"],\"x\":{\"type\":\"field\",\"field\":\"Book_returned\"},\"width\":{\"type\":\"value\",\"value\":0.4},\"bottom\":{\"type\":\"value\",\"value\":0},\"top\":{\"type\":\"field\",\"field\":\"Number_of_customers\"},\"line_color\":{\"type\":\"value\",\"value\":\"black\"},\"line_alpha\":{\"type\":\"value\",\"value\":1.0},\"line_width\":{\"type\":\"value\",\"value\":1},\"line_join\":{\"type\":\"value\",\"value\":\"bevel\"},\"line_cap\":{\"type\":\"value\",\"value\":\"butt\"},\"line_dash\":{\"type\":\"value\",\"value\":[]},\"line_dash_offset\":{\"type\":\"value\",\"value\":0},\"fill_color\":{\"type\":\"value\",\"value\":\"purple\"},\"fill_alpha\":{\"type\":\"value\",\"value\":1.0},\"hatch_color\":{\"type\":\"value\",\"value\":\"purple\"},\"hatch_alpha\":{\"type\":\"value\",\"value\":1.0},\"hatch_scale\":{\"type\":\"value\",\"value\":12.0},\"hatch_pattern\":{\"type\":\"value\",\"value\":null},\"hatch_weight\":{\"type\":\"value\",\"value\":1.0}}},\"nonselection_glyph\":{\"type\":\"object\",\"name\":\"VBar\",\"id\":\"p2563\",\"attributes\":{\"tags\":[\"apply_ranges\"],\"x\":{\"type\":\"field\",\"field\":\"Book_returned\"},\"width\":{\"type\":\"value\",\"value\":0.4},\"top\":{\"type\":\"field\",\"field\":\"Number_of_customers\"},\"line_alpha\":{\"type\":\"value\",\"value\":0.1},\"fill_color\":{\"type\":\"value\",\"value\":\"purple\"},\"fill_alpha\":{\"type\":\"value\",\"value\":0.1},\"hatch_color\":{\"type\":\"value\",\"value\":\"purple\"},\"hatch_alpha\":{\"type\":\"value\",\"value\":0.1}}},\"muted_glyph\":{\"type\":\"object\",\"name\":\"VBar\",\"id\":\"p2564\",\"attributes\":{\"tags\":[\"apply_ranges\"],\"x\":{\"type\":\"field\",\"field\":\"Book_returned\"},\"width\":{\"type\":\"value\",\"value\":0.4},\"top\":{\"type\":\"field\",\"field\":\"Number_of_customers\"},\"line_alpha\":{\"type\":\"value\",\"value\":0.2},\"fill_color\":{\"type\":\"value\",\"value\":\"purple\"},\"fill_alpha\":{\"type\":\"value\",\"value\":0.2},\"hatch_color\":{\"type\":\"value\",\"value\":\"purple\"},\"hatch_alpha\":{\"type\":\"value\",\"value\":0.2}}}}}],\"toolbar\":{\"type\":\"object\",\"name\":\"Toolbar\",\"id\":\"p2532\",\"attributes\":{\"tools\":[{\"type\":\"object\",\"name\":\"WheelZoomTool\",\"id\":\"p2521\",\"attributes\":{\"tags\":[\"hv_created\"],\"renderers\":\"auto\",\"zoom_together\":\"none\"}},{\"type\":\"object\",\"name\":\"HoverTool\",\"id\":\"p2522\",\"attributes\":{\"tags\":[\"hv_created\"],\"renderers\":[{\"id\":\"p2565\"}],\"tooltips\":[[\"Book returned\",\"@{Book_returned}\"],[\"Number of customers\",\"@{Number_of_customers}\"]]}},{\"type\":\"object\",\"name\":\"SaveTool\",\"id\":\"p2545\"},{\"type\":\"object\",\"name\":\"PanTool\",\"id\":\"p2546\"},{\"type\":\"object\",\"name\":\"BoxZoomTool\",\"id\":\"p2547\",\"attributes\":{\"overlay\":{\"type\":\"object\",\"name\":\"BoxAnnotation\",\"id\":\"p2548\",\"attributes\":{\"syncable\":false,\"line_color\":\"black\",\"line_alpha\":1.0,\"line_width\":2,\"line_dash\":[4,4],\"fill_color\":\"lightgrey\",\"fill_alpha\":0.5,\"level\":\"overlay\",\"visible\":false,\"left\":{\"type\":\"number\",\"value\":\"nan\"},\"right\":{\"type\":\"number\",\"value\":\"nan\"},\"top\":{\"type\":\"number\",\"value\":\"nan\"},\"bottom\":{\"type\":\"number\",\"value\":\"nan\"},\"left_units\":\"canvas\",\"right_units\":\"canvas\",\"top_units\":\"canvas\",\"bottom_units\":\"canvas\",\"handles\":{\"type\":\"object\",\"name\":\"BoxInteractionHandles\",\"id\":\"p2554\",\"attributes\":{\"all\":{\"type\":\"object\",\"name\":\"AreaVisuals\",\"id\":\"p2553\",\"attributes\":{\"fill_color\":\"white\",\"hover_fill_color\":\"lightgray\"}}}}}}}},{\"type\":\"object\",\"name\":\"ResetTool\",\"id\":\"p2555\"}],\"active_drag\":{\"id\":\"p2546\"},\"active_scroll\":{\"id\":\"p2521\"}}},\"left\":[{\"type\":\"object\",\"name\":\"LinearAxis\",\"id\":\"p2540\",\"attributes\":{\"ticker\":{\"type\":\"object\",\"name\":\"BasicTicker\",\"id\":\"p2541\",\"attributes\":{\"mantissas\":[1,2,5]}},\"formatter\":{\"type\":\"object\",\"name\":\"BasicTickFormatter\",\"id\":\"p2542\"},\"axis_label\":\"Number of customers\",\"major_label_policy\":{\"type\":\"object\",\"name\":\"AllLabels\",\"id\":\"p2543\"}}}],\"below\":[{\"type\":\"object\",\"name\":\"LinearAxis\",\"id\":\"p2535\",\"attributes\":{\"ticker\":{\"type\":\"object\",\"name\":\"BasicTicker\",\"id\":\"p2536\",\"attributes\":{\"mantissas\":[1,2,5]}},\"formatter\":{\"type\":\"object\",\"name\":\"BasicTickFormatter\",\"id\":\"p2537\"},\"axis_label\":\"Book returned\",\"major_label_orientation\":1.5707963267948966,\"major_label_policy\":{\"type\":\"object\",\"name\":\"AllLabels\",\"id\":\"p2538\"}}}],\"center\":[{\"type\":\"object\",\"name\":\"Grid\",\"id\":\"p2539\",\"attributes\":{\"axis\":{\"id\":\"p2535\"},\"grid_line_color\":null}},{\"type\":\"object\",\"name\":\"Grid\",\"id\":\"p2544\",\"attributes\":{\"dimension\":1,\"axis\":{\"id\":\"p2540\"},\"grid_line_color\":null}}],\"min_border_top\":10,\"min_border_bottom\":10,\"min_border_left\":10,\"min_border_right\":10,\"output_backend\":\"webgl\"}},{\"type\":\"object\",\"name\":\"Spacer\",\"id\":\"p2570\",\"attributes\":{\"name\":\"HSpacer03305\",\"stylesheets\":[\"\\n:host(.pn-loading):before, .pn-loading:before {\\n  background-color: #c3c3c3;\\n  mask-size: auto calc(min(50%, 400px));\\n  -webkit-mask-size: auto calc(min(50%, 400px));\\n}\",{\"id\":\"p2514\"},{\"id\":\"p2512\"},{\"id\":\"p2513\"}],\"margin\":0,\"sizing_mode\":\"stretch_width\",\"align\":\"start\"}}]}}],\"defs\":[{\"type\":\"model\",\"name\":\"ReactiveHTML1\"},{\"type\":\"model\",\"name\":\"FlexBox1\",\"properties\":[{\"name\":\"align_content\",\"kind\":\"Any\",\"default\":\"flex-start\"},{\"name\":\"align_items\",\"kind\":\"Any\",\"default\":\"flex-start\"},{\"name\":\"flex_direction\",\"kind\":\"Any\",\"default\":\"row\"},{\"name\":\"flex_wrap\",\"kind\":\"Any\",\"default\":\"wrap\"},{\"name\":\"gap\",\"kind\":\"Any\",\"default\":\"\"},{\"name\":\"justify_content\",\"kind\":\"Any\",\"default\":\"flex-start\"}]},{\"type\":\"model\",\"name\":\"FloatPanel1\",\"properties\":[{\"name\":\"config\",\"kind\":\"Any\",\"default\":{\"type\":\"map\"}},{\"name\":\"contained\",\"kind\":\"Any\",\"default\":true},{\"name\":\"position\",\"kind\":\"Any\",\"default\":\"right-top\"},{\"name\":\"offsetx\",\"kind\":\"Any\",\"default\":null},{\"name\":\"offsety\",\"kind\":\"Any\",\"default\":null},{\"name\":\"theme\",\"kind\":\"Any\",\"default\":\"primary\"},{\"name\":\"status\",\"kind\":\"Any\",\"default\":\"normalized\"}]},{\"type\":\"model\",\"name\":\"GridStack1\",\"properties\":[{\"name\":\"mode\",\"kind\":\"Any\",\"default\":\"warn\"},{\"name\":\"ncols\",\"kind\":\"Any\",\"default\":null},{\"name\":\"nrows\",\"kind\":\"Any\",\"default\":null},{\"name\":\"allow_resize\",\"kind\":\"Any\",\"default\":true},{\"name\":\"allow_drag\",\"kind\":\"Any\",\"default\":true},{\"name\":\"state\",\"kind\":\"Any\",\"default\":[]}]},{\"type\":\"model\",\"name\":\"drag1\",\"properties\":[{\"name\":\"slider_width\",\"kind\":\"Any\",\"default\":5},{\"name\":\"slider_color\",\"kind\":\"Any\",\"default\":\"black\"},{\"name\":\"value\",\"kind\":\"Any\",\"default\":50}]},{\"type\":\"model\",\"name\":\"click1\",\"properties\":[{\"name\":\"terminal_output\",\"kind\":\"Any\",\"default\":\"\"},{\"name\":\"debug_name\",\"kind\":\"Any\",\"default\":\"\"},{\"name\":\"clears\",\"kind\":\"Any\",\"default\":0}]},{\"type\":\"model\",\"name\":\"FastWrapper1\",\"properties\":[{\"name\":\"object\",\"kind\":\"Any\",\"default\":null},{\"name\":\"style\",\"kind\":\"Any\",\"default\":null}]},{\"type\":\"model\",\"name\":\"NotificationAreaBase1\",\"properties\":[{\"name\":\"js_events\",\"kind\":\"Any\",\"default\":{\"type\":\"map\"}},{\"name\":\"position\",\"kind\":\"Any\",\"default\":\"bottom-right\"},{\"name\":\"_clear\",\"kind\":\"Any\",\"default\":0}]},{\"type\":\"model\",\"name\":\"NotificationArea1\",\"properties\":[{\"name\":\"js_events\",\"kind\":\"Any\",\"default\":{\"type\":\"map\"}},{\"name\":\"notifications\",\"kind\":\"Any\",\"default\":[]},{\"name\":\"position\",\"kind\":\"Any\",\"default\":\"bottom-right\"},{\"name\":\"_clear\",\"kind\":\"Any\",\"default\":0},{\"name\":\"types\",\"kind\":\"Any\",\"default\":[{\"type\":\"map\",\"entries\":[[\"type\",\"warning\"],[\"background\",\"#ffc107\"],[\"icon\",{\"type\":\"map\",\"entries\":[[\"className\",\"fas fa-exclamation-triangle\"],[\"tagName\",\"i\"],[\"color\",\"white\"]]}]]},{\"type\":\"map\",\"entries\":[[\"type\",\"info\"],[\"background\",\"#007bff\"],[\"icon\",{\"type\":\"map\",\"entries\":[[\"className\",\"fas fa-info-circle\"],[\"tagName\",\"i\"],[\"color\",\"white\"]]}]]}]}]},{\"type\":\"model\",\"name\":\"Notification\",\"properties\":[{\"name\":\"background\",\"kind\":\"Any\",\"default\":null},{\"name\":\"duration\",\"kind\":\"Any\",\"default\":3000},{\"name\":\"icon\",\"kind\":\"Any\",\"default\":null},{\"name\":\"message\",\"kind\":\"Any\",\"default\":\"\"},{\"name\":\"notification_type\",\"kind\":\"Any\",\"default\":null},{\"name\":\"_destroyed\",\"kind\":\"Any\",\"default\":false}]},{\"type\":\"model\",\"name\":\"TemplateActions1\",\"properties\":[{\"name\":\"open_modal\",\"kind\":\"Any\",\"default\":0},{\"name\":\"close_modal\",\"kind\":\"Any\",\"default\":0}]},{\"type\":\"model\",\"name\":\"BootstrapTemplateActions1\",\"properties\":[{\"name\":\"open_modal\",\"kind\":\"Any\",\"default\":0},{\"name\":\"close_modal\",\"kind\":\"Any\",\"default\":0}]},{\"type\":\"model\",\"name\":\"TemplateEditor1\",\"properties\":[{\"name\":\"layout\",\"kind\":\"Any\",\"default\":[]}]},{\"type\":\"model\",\"name\":\"MaterialTemplateActions1\",\"properties\":[{\"name\":\"open_modal\",\"kind\":\"Any\",\"default\":0},{\"name\":\"close_modal\",\"kind\":\"Any\",\"default\":0}]},{\"type\":\"model\",\"name\":\"ReactiveESM1\"},{\"type\":\"model\",\"name\":\"JSComponent1\"},{\"type\":\"model\",\"name\":\"ReactComponent1\"},{\"type\":\"model\",\"name\":\"AnyWidgetComponent1\"},{\"type\":\"model\",\"name\":\"request_value1\",\"properties\":[{\"name\":\"fill\",\"kind\":\"Any\",\"default\":\"none\"},{\"name\":\"_synced\",\"kind\":\"Any\",\"default\":null},{\"name\":\"_request_sync\",\"kind\":\"Any\",\"default\":0}]}]}};\n",
       "  var render_items = [{\"docid\":\"e4e8818c-03d8-42d0-a155-cccedb33aa31\",\"roots\":{\"p2511\":\"bc015fa2-a75d-4118-a9bb-ea9cef1c1537\"},\"root_ids\":[\"p2511\"]}];\n",
       "  var docs = Object.values(docs_json)\n",
       "  if (!docs) {\n",
       "    return\n",
       "  }\n",
       "  const py_version = docs[0].version.replace('rc', '-rc.').replace('.dev', '-dev.')\n",
       "  async function embed_document(root) {\n",
       "    var Bokeh = get_bokeh(root)\n",
       "    await Bokeh.embed.embed_items_notebook(docs_json, render_items);\n",
       "    for (const render_item of render_items) {\n",
       "      for (const root_id of render_item.root_ids) {\n",
       "\tconst id_el = document.getElementById(root_id)\n",
       "\tif (id_el.children.length && id_el.children[0].hasAttribute('data-root-id')) {\n",
       "\t  const root_el = id_el.children[0]\n",
       "\t  root_el.id = root_el.id + '-rendered'\n",
       "\t  for (const child of root_el.children) {\n",
       "            // Ensure JupyterLab does not capture keyboard shortcuts\n",
       "            // see: https://jupyterlab.readthedocs.io/en/4.1.x/extension/notebook.html#keyboard-interaction-model\n",
       "\t    child.setAttribute('data-lm-suppress-shortcuts', 'true')\n",
       "\t  }\n",
       "\t}\n",
       "      }\n",
       "    }\n",
       "  }\n",
       "  function get_bokeh(root) {\n",
       "    if (root.Bokeh === undefined) {\n",
       "      return null\n",
       "    } else if (root.Bokeh.version !== py_version) {\n",
       "      if (root.Bokeh.versions === undefined || !root.Bokeh.versions.has(py_version)) {\n",
       "\treturn null\n",
       "      }\n",
       "      return root.Bokeh.versions.get(py_version);\n",
       "    } else if (root.Bokeh.version === py_version) {\n",
       "      return root.Bokeh\n",
       "    }\n",
       "    return null\n",
       "  }\n",
       "  function is_loaded(root) {\n",
       "    var Bokeh = get_bokeh(root)\n",
       "    return (Bokeh != null && Bokeh.Panel !== undefined)\n",
       "  }\n",
       "  if (is_loaded(root)) {\n",
       "    embed_document(root);\n",
       "  } else {\n",
       "    var attempts = 0;\n",
       "    var timer = setInterval(function(root) {\n",
       "      if (is_loaded(root)) {\n",
       "        clearInterval(timer);\n",
       "        embed_document(root);\n",
       "      } else if (document.readyState == \"complete\") {\n",
       "        attempts++;\n",
       "        if (attempts > 200) {\n",
       "          clearInterval(timer);\n",
       "\t  var Bokeh = get_bokeh(root)\n",
       "\t  if (Bokeh == null || Bokeh.Panel == null) {\n",
       "            console.warn(\"Panel: ERROR: Unable to run Panel code because Bokeh or Panel library is missing\");\n",
       "\t  } else {\n",
       "\t    console.warn(\"Panel: WARNING: Attempting to render but not all required libraries could be resolved.\")\n",
       "\t    embed_document(root)\n",
       "\t  }\n",
       "        }\n",
       "      }\n",
       "    }, 25, root)\n",
       "  }\n",
       "})(window);</script>"
      ],
      "text/plain": [
       ":Bars   [Book returned]   (Number of customers)"
      ]
     },
     "execution_count": 100,
     "metadata": {
      "application/vnd.holoviews_exec.v0+json": {
       "id": "p2511"
      }
     },
     "output_type": "execute_result"
    }
   ],
   "source": [
    "book_returned_df = checkouts_df.group_by(\"book_returned\").len()\n",
    "book_returned_df = book_returned_df.drop_nulls().rename(\n",
    "    {\"book_returned\": \"Book returned\", \"len\": \"Number of customers\"}\n",
    ")\n",
    "book_returned_df.hvplot.bar(\n",
    "    x=\"Book returned\",\n",
    "    y=\"Number of customers\",\n",
    "    rot=90,\n",
    "    stacked=True,\n",
    "    color=\"purple\",\n",
    "    title=\"Customers returning/not returning books\",\n",
    ")"
   ]
  },
  {
   "cell_type": "markdown",
   "id": "39184d50-628d-41d6-8bd3-708be146f6a3",
   "metadata": {},
   "source": [
    "By analyzing data about books we see that: \n",
    "1. Number of book categories and their distribution in total number of books is not relevant, it's doesn't tell much. There are a couple of categories that are dominant.\n",
    "2. From publishing years we can see deficiency of books published between 1940. and 1960. year. These informations are not relevant for the problem we are trying to solve\n",
    "3. Both prices and number of pages are following normal distribution\n",
    "4. 20% does not return rented books on time\n",
    "5. 10% of rented books data is invalid\n",
    "\n",
    "Adding publisher column to the list of analyzed data doesn't accomplish anything and this column is not valuable as potential feature. \n",
    "Already from the `Customers returning/not returning books` bar plot we can see imbalance in number of positive and negative labels. Training predictive model is going to be harder. "
   ]
  },
  {
   "cell_type": "markdown",
   "id": "b77b0617-fdf9-489b-8bfb-e125d5d67447",
   "metadata": {},
   "source": [
    "### Connecting data together\n",
    "\n",
    "Joining customers and books data through checkouts will tell what type of customers and what types of books are returning late.\n",
    "Selected columns should be tested for correlation with the label. \n",
    "After correlation check, columns above the threshold can be used for training predictive model."
   ]
  },
  {
   "cell_type": "code",
   "execution_count": 132,
   "id": "eb44bb6c-ba60-46b6-8ff9-924d5e247e5c",
   "metadata": {},
   "outputs": [
    {
     "name": "stdout",
     "output_type": "stream",
     "text": [
      "Number of data points: 2000\n"
     ]
    }
   ],
   "source": [
    "customer_checkout_df = customers_df.rename({\"id\": \"patron_id\"}).join(\n",
    "    checkouts_df, on=\"patron_id\"\n",
    ")\n",
    "library_df = customer_checkout_df.join(books_df, on=\"id\", how=\"left\")\n",
    "\n",
    "print(f\"Number of data points: {len(library_df)}\")"
   ]
  },
  {
   "cell_type": "markdown",
   "id": "384b1eeb-374d-4289-b1ba-0b9c1937cb92",
   "metadata": {},
   "source": [
    "Number of data points fits the number of customers. "
   ]
  },
  {
   "cell_type": "markdown",
   "id": "c6cf1ab9-58f6-4f7a-b012-6d3f88f266ab",
   "metadata": {},
   "source": [
    "### Columns and the resulting table for analysis"
   ]
  },
  {
   "cell_type": "code",
   "execution_count": 133,
   "id": "8b796173-7280-4ede-a589-424f3d2b4766",
   "metadata": {},
   "outputs": [
    {
     "data": {
      "text/html": [
       "<div><style>\n",
       ".dataframe > thead > tr,\n",
       ".dataframe > tbody > tr {\n",
       "  text-align: right;\n",
       "  white-space: pre-wrap;\n",
       "}\n",
       "</style>\n",
       "<small>shape: (3, 26)</small><table border=\"1\" class=\"dataframe\"><thead><tr><th>patron_id</th><th>name</th><th>street_address</th><th>city</th><th>state</th><th>zipcode</th><th>birth_date</th><th>gender</th><th>education</th><th>occupation</th><th>age</th><th>age_category</th><th>id</th><th>library_id</th><th>date_checkout</th><th>date_returned</th><th>days_holding_book</th><th>book_returned</th><th>title</th><th>authors</th><th>publisher</th><th>published_date</th><th>categories</th><th>price</th><th>pages</th><th>published_year</th></tr><tr><td>str</td><td>str</td><td>str</td><td>str</td><td>str</td><td>i32</td><td>date</td><td>str</td><td>str</td><td>str</td><td>f64</td><td>str</td><td>str</td><td>str</td><td>date</td><td>date</td><td>i32</td><td>i32</td><td>str</td><td>list[str]</td><td>str</td><td>str</td><td>list[str]</td><td>f32</td><td>i32</td><td>i32</td></tr></thead><tbody><tr><td>&quot;bc840f93aa631f7357e14fdef522f5…</td><td>&quot;Danielle Long&quot;</td><td>&quot;5345 Se 46th Ave&quot;</td><td>&quot;Portland&quot;</td><td>&quot;Oregon&quot;</td><td>97206</td><td>1983-08-18</td><td>&quot;female&quot;</td><td>&quot;Graduate Degree&quot;</td><td>&quot;Blue Collar&quot;</td><td>41.0</td><td>&quot;Middle-Age&quot;</td><td>&quot;oFWsXm1zZCcC&quot;</td><td>&quot;22d-222@5xc-kcy-8sq&quot;</td><td>2018-12-13</td><td>2018-12-20</td><td>7</td><td>1</td><td>&quot;Navy Medicine&quot;</td><td>null</td><td>null</td><td>&quot;2004&quot;</td><td>null</td><td>330.0</td><td>604</td><td>2004</td></tr><tr><td>&quot;2e89d06f11e5cfdc727d93ac589a2a…</td><td>&quot;Kimberly Wilkerson&quot;</td><td>&quot;3737 Ne 12th Ave&quot;</td><td>&quot;Portland&quot;</td><td>&quot;Oregon&quot;</td><td>97212</td><td>1963-01-14</td><td>&quot;female&quot;</td><td>&quot;Others&quot;</td><td>&quot;Sales&quot;</td><td>61.0</td><td>&quot;Old&quot;</td><td>&quot;tvo3LZ-Qms0C&quot;</td><td>&quot;226-222@5xc-jxj-7yv&quot;</td><td>2018-10-01</td><td>2018-10-17</td><td>16</td><td>1</td><td>&quot;International Accounting/Finan…</td><td>[&quot;David Alexander&quot;]</td><td>&quot;Cch&quot;</td><td>&quot;2008-11&quot;</td><td>[&quot;Business &amp; Economics&quot;]</td><td>517.0</td><td>722</td><td>2008</td></tr><tr><td>&quot;deb55ba9015162c42a94232b64eadd…</td><td>&quot;Joanne Hughes&quot;</td><td>&quot;4607 Ne 74th Ave&quot;</td><td>&quot;Portland&quot;</td><td>&quot;Oregon&quot;</td><td>97218</td><td>1991-03-24</td><td>&quot;female&quot;</td><td>&quot;Others&quot;</td><td>&quot;Education &amp; Health&quot;</td><td>33.0</td><td>&quot;Adult&quot;</td><td>&quot;rEIrDwAAQBAJ&quot;</td><td>&quot;224-222@5xc-jw2-t9z&quot;</td><td>2018-06-23</td><td>2018-07-01</td><td>8</td><td>1</td><td>&quot;Aircraft Propulsion And Gas Tu…</td><td>[&quot;Ahmed F. El-Sayed&quot;]</td><td>&quot;Crc Press&quot;</td><td>&quot;2017-07-06&quot;</td><td>[&quot;Science&quot;]</td><td>631.0</td><td>932</td><td>2017</td></tr></tbody></table></div>"
      ],
      "text/plain": [
       "shape: (3, 26)\n",
       "┌─────────────┬─────────────┬─────────────┬──────────┬───┬────────────┬───────┬───────┬────────────┐\n",
       "│ patron_id   ┆ name        ┆ street_addr ┆ city     ┆ … ┆ categories ┆ price ┆ pages ┆ published_ │\n",
       "│ ---         ┆ ---         ┆ ess         ┆ ---      ┆   ┆ ---        ┆ ---   ┆ ---   ┆ year       │\n",
       "│ str         ┆ str         ┆ ---         ┆ str      ┆   ┆ list[str]  ┆ f32   ┆ i32   ┆ ---        │\n",
       "│             ┆             ┆ str         ┆          ┆   ┆            ┆       ┆       ┆ i32        │\n",
       "╞═════════════╪═════════════╪═════════════╪══════════╪═══╪════════════╪═══════╪═══════╪════════════╡\n",
       "│ bc840f93aa6 ┆ Danielle    ┆ 5345 Se     ┆ Portland ┆ … ┆ null       ┆ 330.0 ┆ 604   ┆ 2004       │\n",
       "│ 31f7357e14f ┆ Long        ┆ 46th Ave    ┆          ┆   ┆            ┆       ┆       ┆            │\n",
       "│ def522f5…   ┆             ┆             ┆          ┆   ┆            ┆       ┆       ┆            │\n",
       "│ 2e89d06f11e ┆ Kimberly    ┆ 3737 Ne     ┆ Portland ┆ … ┆ [\"Business ┆ 517.0 ┆ 722   ┆ 2008       │\n",
       "│ 5cfdc727d93 ┆ Wilkerson   ┆ 12th Ave    ┆          ┆   ┆ & Economic ┆       ┆       ┆            │\n",
       "│ ac589a2a…   ┆             ┆             ┆          ┆   ┆ s\"]        ┆       ┆       ┆            │\n",
       "│ deb55ba9015 ┆ Joanne      ┆ 4607 Ne     ┆ Portland ┆ … ┆ [\"Science\" ┆ 631.0 ┆ 932   ┆ 2017       │\n",
       "│ 162c42a9423 ┆ Hughes      ┆ 74th Ave    ┆          ┆   ┆ ]          ┆       ┆       ┆            │\n",
       "│ 2b64eadd…   ┆             ┆             ┆          ┆   ┆            ┆       ┆       ┆            │\n",
       "└─────────────┴─────────────┴─────────────┴──────────┴───┴────────────┴───────┴───────┴────────────┘"
      ]
     },
     "execution_count": 133,
     "metadata": {},
     "output_type": "execute_result"
    }
   ],
   "source": [
    "library_df.head(3)"
   ]
  },
  {
   "cell_type": "markdown",
   "id": "ba941866-dd0b-451f-aacd-b1081be5b813",
   "metadata": {},
   "source": [
    "In the table above, we have sample data and all columns listed. This mini table represent joined data between customers, books and checkouts.\n",
    "By analyzing this dataframe one can check which customers returned books (or not), what kinds of books, their prices, pages, categories etc.\n",
    "We can add also information about libraries and check which library has to most problems about late returnings."
   ]
  },
  {
   "cell_type": "code",
   "execution_count": 134,
   "id": "c66a843f-bc27-47f7-9198-4bded9a2855e",
   "metadata": {},
   "outputs": [
    {
     "data": {},
     "metadata": {},
     "output_type": "display_data"
    },
    {
     "data": {
      "application/vnd.holoviews_exec.v0+json": "",
      "text/html": [
       "<div id='p3225'>\n",
       "  <div id=\"fd80ddf5-6b4d-4d0a-89cf-29305328d0c5\" data-root-id=\"p3225\" style=\"display: contents;\"></div>\n",
       "</div>\n",
       "<script type=\"application/javascript\">(function(root) {\n",
       "  var docs_json = {\"d6e74cbe-f60c-4955-aeb0-710244406984\":{\"version\":\"3.6.0\",\"title\":\"Bokeh Application\",\"roots\":[{\"type\":\"object\",\"name\":\"Row\",\"id\":\"p3225\",\"attributes\":{\"name\":\"Row04537\",\"tags\":[\"embedded\"],\"stylesheets\":[\"\\n:host(.pn-loading):before, .pn-loading:before {\\n  background-color: #c3c3c3;\\n  mask-size: auto calc(min(50%, 400px));\\n  -webkit-mask-size: auto calc(min(50%, 400px));\\n}\",{\"type\":\"object\",\"name\":\"ImportedStyleSheet\",\"id\":\"p3228\",\"attributes\":{\"url\":\"https://cdn.holoviz.org/panel/1.5.3/dist/css/loading.css\"}},{\"type\":\"object\",\"name\":\"ImportedStyleSheet\",\"id\":\"p3272\",\"attributes\":{\"url\":\"https://cdn.holoviz.org/panel/1.5.3/dist/css/listpanel.css\"}},{\"type\":\"object\",\"name\":\"ImportedStyleSheet\",\"id\":\"p3226\",\"attributes\":{\"url\":\"https://cdn.holoviz.org/panel/1.5.3/dist/bundled/theme/default.css\"}},{\"type\":\"object\",\"name\":\"ImportedStyleSheet\",\"id\":\"p3227\",\"attributes\":{\"url\":\"https://cdn.holoviz.org/panel/1.5.3/dist/bundled/theme/native.css\"}}],\"min_width\":700,\"margin\":0,\"sizing_mode\":\"stretch_width\",\"align\":\"start\",\"children\":[{\"type\":\"object\",\"name\":\"Spacer\",\"id\":\"p3229\",\"attributes\":{\"name\":\"HSpacer04544\",\"stylesheets\":[\"\\n:host(.pn-loading):before, .pn-loading:before {\\n  background-color: #c3c3c3;\\n  mask-size: auto calc(min(50%, 400px));\\n  -webkit-mask-size: auto calc(min(50%, 400px));\\n}\",{\"id\":\"p3228\"},{\"id\":\"p3226\"},{\"id\":\"p3227\"}],\"margin\":0,\"sizing_mode\":\"stretch_width\",\"align\":\"start\"}},{\"type\":\"object\",\"name\":\"DataTable\",\"id\":\"p3263\",\"attributes\":{\"width\":700,\"height\":300,\"source\":{\"type\":\"object\",\"name\":\"ColumnDataSource\",\"id\":\"p3230\",\"attributes\":{\"selected\":{\"type\":\"object\",\"name\":\"Selection\",\"id\":\"p3231\",\"attributes\":{\"indices\":[],\"line_indices\":[]}},\"selection_policy\":{\"type\":\"object\",\"name\":\"UnionRenderers\",\"id\":\"p3232\"},\"data\":{\"type\":\"map\",\"entries\":[[\"name\",{\"type\":\"ndarray\",\"array\":[\"Danielle Long\",\"Kimberly Wilkerson\",\"Joanne Hughes\",\"Donald Cannon\",\"Sean Reinhold\",\"Willie Vaughn\",\"Ernest Humble\",\"Charles Nichols\",\"Jason Peters\",\"Marion Cornett\",\"Jill Quammen\",\"Doris Lesher\",\"Ingrid Little\",\"Lawrence Overstreet\",\"Robert Steady\",\"Jose Brayman\",\"Devin White\",\"Donnie Burright\",\"Tammy Poma\",\"John Martinez\",\"Eric Aberle\",\"Sandra Nguyen\",\"Vernice Lee\",\"Sean Soria\",\"Vernon Crowe\",\"Sara Gonzalez\",\"Tom Godsey\",\"Vincent Martinez\",\"Michael Phillips\",\"Edna Coffey\",\"Rebecca Martin\",\"Diane Sirman\",\"Nelson Brenes\",\"Hector Gibson\",\"Eugene Lemberger\",\"Ella Jackovich\",\"William Mccarthy\",\"Sara Mullen\",\"Belle Porter\",\"Edith Major\",\"Robert Braun\",\"Theresa Kidd\",\"Sadie Islas\",\"Bonnie Davis\",\"Elena Briesemeister\",\"Darryl Walser\",\"Linda Carter\",\"James Corona\",\"Isabelle Briggs\",\"Stephen Burguess\",\"Timothy Parrilla\",\"Jeffrey Montford\",\"Shirley Pollock\",\"John Labiosa\",\"Soledad Wade\",\"Crystal Carter\",\"Richard Strole\",\"Donna Montemayor\",\"Marcia Brown\",\"Vivian Craig\",\"Margie Hebert\",\"Edward Mckie\",\"Marcia Kennedy\",\"Peggy Byrd\",\"Tami Wills\",\"Pamela Clemente\",\"Jennifer Palmerin\",\"Tiffany Barber\",\"Andrew Arther\",\"Frank Martin\",\"Jennifer Baca\",\"Ashly Hennen\",\"Carol Stanfill\",\"Corinna Bauer\",\"Louise Landon\",\"Kristina Diaz\",\"Angel Rodriguez\",\"Teresa Paulus\",\"Jackie Evans\",\"Sherie Craig\",\"Maria Grahl\",\"Rosa Pierson\",\"Briana Wiggins\",\"James Orchard\",\"Patricia Mether\",\"Maggie Keen\",\"Beth Licata\",\"Jay Skinner\",\"Joel Riordan\",\"Rena Reddick\",\"Marjorie Medina\",\"Anthony Briss\",\"Charline Tannous\",\"Renee Decker\",\"Marcia Pope\",\"Nancy Herman\",\"Shirley Carson\",\"Ana Lee\",\"Robert Jones\",\"Dena Monterio\",\"Sheila Ambrose\",\"Cathi Marsh\",\"Mary Cochrell\",\"Juan Gates\",\"Jose Pitts\",\"Gary Rightmire\",\"Bryan Dorceus\",\"Jason Barrett\",\"Terri Witthaus\",\"Melody Gallagher\",\"Pamela Carlson\",\"Joseph Peatman\",\"David Jarvis\",\"Elwanda Maravilla\",\"Carolyn Weedman\",\"Deborah Schlappi\",\"Tyler Ward\",\"Richard Owens\",\"Edward Singh\",\"Richard Brinkley\",\"Raymond Buchanan\",\"Jose Lee\",\"Mary Foster\",\"Nathan Janson\",\"Bethany Roeder\",\"Jose Olson\",\"Mathew Stahl\",\"Charles Knollenberg\",\"George Koehler\",\"Jonathan Bonds\",\"Willie Berryman\",\"Karen Pingry\",\"Joan Laberdee\",\"Valerie Foster\",\"Charles Bailey\",\"James Tabbert\",\"Jaime Stidham\",\"John Abram\",\"Catherine Carter\",\"Charles Foley\",\"Douglass Williamson\",\"Matthew Watson\",\"Donald Holmes\",\"Philip Boswell\",\"Clara Reardon\",\"Joyce Stern\",\"Ronald Garber\",\"Ivan Kolze\",\"Adam Randall\",\"Hazel Dyle\",\"Richard Dews\",\"Michael Kubo\",\"Kenneth Chavez\",\"Billy Smolek\",\"William Guzman\",\"Jessie Buckingham\",\"Christa Istre\",\"Alan Castle\",\"Greg Whitcher\",\"Henry Blankemeyer\",\"Thomas Alvarez\",\"Elizabeth Smith\",\"Tony Raulerson\",\"Nancy Wenger\",\"Jeanne Lewis\",\"Ella Wood\",\"Stacy Byrne\",\"Theodore Delacruz\",\"Ora Althoff\",\"Mark Sowada\",\"Dustin Dibenedetto\",\"Irvin Ruiz\",\"Mildred Dacus\",\"Salvatore Turk\",\"Maria Perkins\",\"Kathy Myers\",\"Arlene Hill\",\"Barbie Smith\",\"Dennis Cybul\",\"Christine Fitzgerald\",\"Lane Davis\",\"Richard Steiner\",\"Phyllis Carter\",\"Joy Luke\",\"Jesse Cannon\",\"Vanessa Hall\",\"Lori Dipalo\",\"Lisa Carson\",\"Pearl Johnson\",\"Joseph Park\",\"Kenneth Craig\",\"Bob Timmons\",\"Melissa Huston\",\"Beatrice Murphy\",\"Lyle Hughes\",\"Elizabeth Smith\",\"Shaunta Hyten\",\"William Green\",\"Bessie Medina\",\"Simon Hunt\",\"Tabitha Sturgill\",\"William Jackson\",\"Opal Dennis\",\"Elaine Houser\",\"Lynn Wu\",\"Sarah Matthew\",\"John O'Kelley\",\"Diane Robinson\",\"Jayson Stout\",\"Stella Ramos\",\"Ashley Azevedo\",\"Cheryl Tate\",\"Lindsay Berry\",\"Anthony Smalls\",\"Lorena Corneau\",\"Pei Gonzalez\",\"Thomas Acquavella\",\"Louise Mckinzie\",\"Jonathan Borst\",\"George Howard\",\"Anna Culbertson\",\"Connie Gonzales\",\"Eileen Hutchison\",\"Guillermina Clark\",\"Emilia Tubolino\",\"Joyce Crawford\",\"Paul Loggins\",\"James Toner\",\"Dorothy Kerr\",\"Mary Shorb\",\"Shana Shin\",\"Jeanette Ford\",\"Jerry Speakman\",\"Elsie Munday\",\"Steven Ouradnik\",\"Enrique Gorman\",\"Bruce Spoto\",\"Donald Butler\",\"Scott Dawkins\",\"Arlene Novak\",\"Everett Jin\",\"Timothy Browder\",\"Jon Stewart\",\"Sylvia King\",\"Lashanda Lehmbeck\",\"Sandra Brilliant\",\"Richard Finn\",\"Helen Villani\",\"Clifford Mendoza\",\"Charles Lyman\",\"Christopher Knoblauch\",\"Mildred Wild\",\"Michael Ehrlich\",\"Charles Baker\",\"Cynthia Graham\",\"Christina Austin\",\"Barbra Hobbs\",\"Leonard Simmonds\",\"William Watters\",\"Louis Ponce\",\"Mary Vaniman\",\"Tami Wieczorek\",\"Timothy Meraz\",\"John Almoney\",\"Maria Wooten\",\"Freddie Peck\",\"Sarah Thrush\",\"Abraham Massey\",\"Keven Epps\",\"Linda Hernandez\",\"Elizabeth Estevez\",\"Franklin Walters\",\"Allen Malone\",\"Lee Williams\",\"Kristina Pedersen\",\"Gary Sullivan\",\"Carol Slotterback\",\"Paul Banta\",\"John Beringer\",\"David Aviles\",\"Jacob Pardee\",\"Margaret Eser\",\"Jonathan Stogner\",\"Gail Livingston\",\"Kyle Hebenstreit\",\"Anne Emiliano\",\"Becky Toops\",\"Ronald Lydon\",\"Freddy Ruff\",\"Jean Valadez\",\"Vera Khem\",\"Donald Villarreal\",\"Jane Clark\",\"Roseanne Hughes\",\"Clarence Golden\",\"Thomas Muhammad\",\"Keith Adams\",\"Art Nicholas\",\"Consuelo Ly\",\"John Lerma\",\"Henry Leonard\",\"Karen Omary\",\"Ann Felts\",\"Frank Coleman\",\"Maurice Leach\",\"Brady Nelson\",\"Sara Johnson\",\"Anthony Vincent\",\"Violet Tournear\",\"Adam Currence\",\"Cindy Wiggins\",\"Charles Ellis\",\"Richard Jackson\",\"Eric Singh\",\"Maxine Morrison\",\"Jennifer Nesbitt\",\"Eula Navarro\",\"Socorro Harner\",\"Johnnie Pingel\",\"Ezequiel Dortch\",\"Michelle Happel\",\"Kenneth Newell\",\"Maynard Mcdonald\",\"Dennis Newsom\",\"Alicia Wilt\",\"Garrett Bailey\",\"Gabriel Stratton\",\"Frank Stoneking\",\"Willie Bernal\",\"Glenn Russo\",\"Michael Simmons\",\"Jeffrey Privette\",\"Amanda Henson\",\"Mary Maxim\",\"Tanya Scussel\",\"Natividad Parker\",\"Barry Mccleskey\",\"Donald Martin\",\"Darcey Elliott\",\"Virginia Gurley\",\"Leanne Pratt\",\"June Walker\",\"Hattie Fidler\",\"Dawn Hensler\",\"Ernestine Pederson\",\"Sandra Harder\",\"Richard Witherspoon\",\"Reba Marshall\",\"John Dokken\",\"Cindy Bejan\",\"George Harris\",\"Donna Ladd\",\"Edelmira Grant\",\"Ronald Meza\",\"Ramona Wilcox\",\"Christina Robles\",\"Larry Green\",\"Joyce Garza\",\"Frank Parker\",\"Damian Shaul\",\"Leonard Iraheta\",\"Helen Parker\",\"Kenneth Wright\",\"Sabrina Prawdzik\",\"Catherine Raines\",\"Saul Falkenrath\",\"Patrick Smith\",\"Kimberly Hollabaugh\",\"Christopher Nelson\",\"Elizabeth Soots\",\"Molly Warner\",\"Clara Lagos\",\"Michael Barnes\",\"Regina Mcleod\",\"James Marini\",\"Jacqueline Dacko\",\"Ruth Gatterdam\",\"Mellissa Riley\",\"Carol Hufford\",\"Frank O'Brien\",\"James Williams\",\"Randy Payne\",\"Colette Beck\",\"Bill Pratt\",\"Sheri Lett\",\"Karen Jaco\",\"Ray Lawrenz\",\"Ray Marks\",\"Amber Wesselman\",\"Leon Jadwin\",\"Mary Blankenship\",\"Howard Jackson\",\"Lora Canal\",\"Edward Morales\",\"Nickolas Knobel\",\"Robert Hughes\",\"Alan Freeman\",\"Mary Burton\",\"Casey Beard\",\"Ernesto Mitcham\",\"Susan Atiles\",\"Jason Wisely\",\"John Turner\",\"Ryan Peper\",\"Carol Denis\",\"Ronald Peterson\",\"Mariann Peters\",\"Mark Jackson\",\"Lisa Tubbs\",\"Linda Shaffer\",\"Audrey Vick\",\"Jeff Gonzalez\",\"Heather Bayer\",\"Karen Murdock\",\"Mary Wegner\",\"Gerald Vasquez\",\"Lorraine Anderson\",\"Eric Hughes\",\"James Hoffman\",\"Shirley Maier\",\"Blake Short\",\"Tricia Rodrigues\",\"Patricia Galbraith\",\"Kathleen Gulli\",\"Micheal Macdonald\",\"Michael Gilmore\",\"Corey Trimble\",\"Kimberly Leonard\",\"Beth Stanley\",\"Maria Morris\",\"Hai Eason\",\"Irma Orozco\",\"James Kelone\",\"Andrew Downs\",\"Derrick Martinez\",\"Donna Spencer\",\"Patrick Butler\",\"Delores Borish\",\"Jessica Luu\",\"Lisa Newman\",\"Wendy Wilson\",\"Delois Taylor\",\"William Barrera\",\"Mary Gurley\",\"Larry Clark\",\"Raymond Larson\",\"Judy Swartzell\",\"Matthew Hand\",\"Royal Villegas\",\"Edward Duran\",\"Luke Smyth\",\"David Radabaugh\",\"Edwardo Morford\",\"Beatrice Drees\",\"Vivian Hawkins\",\"David Nguyen\",\"Curtis Sheets\",\"Nicholas Nicks\",\"Michael Beno\",\"Ramon Heydt\",\"Norman Siracusa\",\"Kaylene Dunn\",\"James Croley\",\"Nancy Lopez\",\"James Gardner\",\"Etta Schmidt\",\"Kathleen Edelman\",\"Anna Hyde\",\"Richard Aguirre\",\"Lisa Caceres\",\"Elizabeth Torrez\",\"William Burrows\",\"James Sarver\",\"Robert Tyler\",\"Anthony Spicola\",\"Robert Korpi\",\"Jo Burks\",\"Kyle Calabrese\",\"Teri Mckinney\",\"Sue Durazo\",\"Debra Velez\",\"Ruth Singleton\",\"Louise Merkel\",\"Antonio Collingwood\",\"Shana Kimbrough\",\"Alberto Gonzalez\",\"Phyllis Cameron\",\"Robert Richards\",\"Gary Armstrong\",\"James Villacres\",\"Song Merrill\",\"Mike Collison\",\"Shelia Johnson\",\"Silvia Ehrenberg\",\"Thomas Porcaro\",\"Earnestine Bothe\",\"George Wingfield\",\"Tom Talarico\",\"Monica Carpenter\",\"Rose Hughes\",\"Robert Taylor\",\"Charles Russell\",\"Jacob Moore\",\"Jason Lindsley\",\"Robert Macaspac\",\"Randolph Henry\",\"Joan Harbers\",\"Eveline Heck\",\"Debbie Correa\",\"Susan Engel\",\"Shirley Mills\",\"Nola Runkle\",\"Lewis Price\",\"Betty May\",\"Carolyn English\",\"Brenda Keiper\",\"Steven Brammer\",\"Beverly Little\",\"Shannon Kidd\",\"Lani Alvarez\",\"Lyndsey Welles\",\"Michael Welsh\",\"Amanda Hedges\",\"Luther Kennedy\",\"Bobby Steenwyk\",\"Cody Johnson\",\"Christopher Ruben\",\"James Currier\",\"Angela Dipaolo\",\"William Stephens\",\"Mikel Graham\",\"Margaret Marshall\",\"Robert Andersen\",\"Betty Mendoza\",\"Connie Holloway\",\"Matthew Kenline\",\"Richard Lichlyter\",\"Maria Ford\",\"Dennis Cochard\",\"Claudia Chimelis\",\"Shari Burkett\",\"Elizabeth Mcelrath\",\"Lucy Cain\",\"Sandra Flores\",\"Kathy Mowery\",\"Joann Sutherland\",\"Connie Grant\",\"Grace Pronti\",\"James Foret\",\"Bobby Hui\",\"Margaret Tannahill\",\"Jeri Watts\",\"Scott Backensto\",\"Ida Huffman\",\"Carolyn Gonzalez\",\"Sabrina Bowers\",\"Bonita Tinsley\",\"Elmer Fowler\",\"Frances Erwin\",\"John Little\",\"Willie Riley\",\"Karen Ward\",\"Nydia Scott\",\"Christopher Rison\",\"Jennifer Kimberlin\",\"Harold Shourds\",\"Darren Murphy\",\"Anthony Mendoza\",\"Clorinda Mcneil\",\"Richard Short\",\"Leticia Brinkley\",\"Russell Hawkins\",\"Anne Deans\",\"William Jung\",\"Michael Bennett\",\"Jeanie Green\",\"Bobbi Simmons\",\"Richard Pabla\",\"Edward Ramirez\",\"Stephanie Leno\",\"Jerry Mcclease\",\"Steven Hamilton\",\"Melvin Jackson\",\"Karen Barstow\",\"Rose Alexander\",\"Nancy Harkless\",\"Christine Hermreck\",\"Thomas Silverstein\",\"Bernard Petron\",\"Sung Mellor\",\"Raul Brewer\",\"Dawn Preston\",\"Johnny Collier\",\"Lashonda Carle\",\"Steven Carson\",\"Jason Wratten\",\"Louie Resnick\",\"Ronald Cedillo\",\"Maggie Southworth\",\"Rhonda Nagel\",\"Vida Langford\",\"Stacy Dangelo\",\"Charles Guarin\",\"Edward Perriman\",\"Charles Goodno\",\"William Preston\",\"Julie Bockman\",\"Jacob Fishback\",\"Karen Shepherd\",\"Cynthia Rogers\",\"Raven Dryden\",\"Arthur Freeman\",\"Louis Morris\",\"Aaron Cadarette\",\"Ida Winston\",\"Clyde Arterburn\",\"Leon Foust\",\"Joshua Lye\",\"Barbara Albers\",\"Dana Wadlington\",\"Carol Saldana\",\"Christopher Bohland\",\"Daisy Sisco\",\"Clementine Vannoy\",\"Rodney Arredondo\",\"Charlene Harper\",\"Shirley Rayas\",\"Glenda Owens\",\"Nannie Luce\",\"Kenneth Scott\",\"Glen Winslow\",\"James Silva\",\"Earl Gaona\",\"Celine Villagomez\",\"Tracy Howell\",\"Betty Gilder\",\"Shirley Beck\",\"John Beattie\",\"Betty Hollister\",\"Chance Howard\",\"James Greenwell\",\"Frank Jordan\",\"Cheryl Wiercinski\",\"Andres Sullivan\",\"Beatrice Magno\",\"Lillie Scott\",\"Wenona Strause\",\"Deborah Topp\",\"William Rendon\",\"Tammie Petty\",\"Mamie Dalton\",\"Dorothy Hole\",\"William Burkhart\",\"Vickie Pearson\",\"Ladonna Lashley\",\"Tiffany Barker\",\"Rosario Gant\",\"Rhonda Westby\",\"Fred Castaneda\",\"Debra Mix\",\"James Oritz\",\"Luke Malmquist\",\"Mary Lepow\",\"Kasie Rodriguez\",\"William York\",\"Corrine Thayer\",\"Anne Wallace\",\"Magen Harris\",\"David Fonseca\",\"Glenn Anaya\",\"Harold Dirks\",\"John Jimenez\",\"Jennifer Evans\",\"Joseph Romero\",\"Teresa Dunkin\",\"Allen Tedder\",\"Joseph Goodman\",\"Jerri Shechter\",\"Margarito Hernandez\",\"Annette Corbett\",\"Elia Wiseman\",\"Leonard Daniel\",\"Hobert Trujillo\",\"Frances Wortham\",\"James Patti\",\"Robert Weber\",\"Minnie Bigelow\",\"Kelly Meza\",\"Lois Larios\",\"Orlando Kennedy\",\"Zachary Bukowski\",\"Ralph Dennis\",\"Bryan Mack\",\"Fletcher Hess\",\"John Dryer\",\"Kevin Sheler\",\"Gianna Tung\",\"Lewis Gills\",\"William Lancaster\",\"Elizabeth Manning\",\"Lilly Thomas\",\"David Liner\",\"Wilson Graciano\",\"John Hood\",\"Tina Johnson\",\"Peter Phillipp\",\"Norma Helzer\",\"Elizabeth Mcleod\",\"Lisa Barreto\",\"John Milkins\",\"Lauren Boney\",\"Curtis Bliss\",\"Barbara Atherton\",\"Lesa Cooper\",\"Dominique Hansen\",\"Khalilah Hill\",\"Yvonne Czarnecki\",\"Mary Lukic\",\"Kellie Daubert\",\"Sharon Ojala\",\"John Gannon\",\"Sean Gardiner\",\"Tonya Mouse\",\"Manuel Brooks\",\"Kristopher Jimenez\",\"Phyllis Thomas\",\"George Ryan\",\"Roy Hendricks\",\"Martha Heard\",\"John Lyford\",\"Patricia Murillo\",\"Patrick Yeatman\",\"Michelle Renner\",\"Danny Mccandless\",\"Bertha Clyne\",\"Amelia Bush\",\"Robert Kruse\",\"Perry Holliday\",\"Norma Whitley\",\"John Estes\",\"Rickey Gonzales\",\"Julie Morgan\",\"Barbara Anderson\",\"Mary Mcafee\",\"Paul Dodd\",\"Mary Arakelian\",\"Henry Ledford\",\"John French\",\"Martin Hart\",\"Denise Cornman\",\"John Barrett\",\"Robert Sanchez\",\"Betty Guzman\",\"Sharon Jakubowski\",\"Aaron Kennedy\",\"Bobbie Davis\",\"Juan Massie\",\"Mamie Topete\",\"Tim Mccoy\",\"Patricia Echelberger\",\"Jamie Wilson\",\"Edna Kimling\",\"Phillip Tate\",\"Jeffrey Hightower\",\"Lorri Dollar\",\"William Dobrinski\",\"Patricia Schmidt\",\"Miles Dzuris\",\"James Benda\",\"Jeannie Mock\",\"Susan Ahrenholz\",\"Jennifer Adkins\",\"Myrtle Mcdonald\",\"Donald Greene\",\"Buddy Perez\",\"Efren Santiago\",\"Rita Jackson\",\"Judith Greening\",\"Elizabeth Kirby\",\"Sean Munguia\",\"Tony Mckinney\",\"Morgan Hale\",\"Virginia Chambers\",\"Vincent Hahn\",\"Emma Foster\",\"Brandy Hughes\",\"James Dollens\",\"Catherine Louis\",\"Harold Finnicum\",\"Joyce Gosewisch\",\"Mickey Haverland\",\"Charles Stout\",\"Frederick O'Neal\",\"Marie Sanders\",\"Josie Burnett\",\"Fernando Washington\",\"Cindy Ramos\",\"Marvin Gelles\",\"Patricia Lewis\",\"Emmett Lineberger\",\"Kenneth Lee\",\"Nathaniel Cardenas\",\"Roberta Nemeth\",\"Marie Hannon\",\"Christa Hargis\",\"William Hickey\",\"Marisol Miller\",\"Chandra Meldrum\",\"Ricardo Marotta\",\"Maria Gonzales\",\"Mary Shirley\",\"Michael Janak\",\"Diane Kirchgessner\",\"Tony Haywood\",\"Gabrielle Nelson\",\"James Gerving\",\"Hae Brown\",\"Luz Cooper\",\"Marion Kitchen\",\"Kylee Anderson\",\"Paul Loesch\",\"Derrick Elms\",\"Frank Hopper\",\"Gary Stark\",\"Edward Rivera\",\"Mike Tuttle\",\"Daniel Shackelton\",\"Randall Proctor\",\"Saul Fischer\",\"Thomas Rapp\",\"David Lugar\",\"Richard Poindexter\",\"David Christiansen\",\"Linda Runge\",\"Norberto O'Dell\",\"Dominique Nam\",\"Rogelio Richmann\",\"Ella Stepan\",\"Shirley Hartnett\",\"Wiley Turner\",\"Peggy Parson\",\"William Carr\",\"Major Ahmad\",\"Florence Rhoads\",\"Damon Sweet\",\"Danial Samples\",\"Tracey Servant\",\"Robert Reyna\",\"Frances Watts\",\"Patricia Colvin\",\"Roberta Pecori\",\"John Hermanson\",\"Carla Hanson\",\"Hazel Balch\",\"Jose Barker\",\"Travis Eaglin\",\"Gregg Green\",\"Adrienne Garcia\",\"Patricia Todaro\",\"Angela Hatfield\",\"Kimberly Crawford\",\"Anne Lee\",\"Michelle Blakely\",\"Edith Willingham\",\"Michael Colvert\",\"Irma Bobbitt\",\"Fermin Kornegay\",\"Nancy Buchan\",\"James Klein\",\"Bernadine Reis\",\"Karen Tuazon\",\"Frank Harrell\",\"Genevieve Little\",\"Matthew Coniglio\",\"Tim Botsford\",\"Jimmie Morris\",\"Darrel Yoshida\",\"Franklin Marshall\",\"Linda Olivas\",\"Charles Cannon\",\"Hazel Nielsen\",\"Jennifer Engelhaupt\",\"Jennifer Goodrich\",\"Jose Jenkins\",\"Harry Nelson\",\"Margaret Webster\",\"Jane Schiller\",\"Leo Falvey\",\"Wendy Gonzalez\",\"John Homolka\",\"Melissa Flores\",\"Calvin Giron\",\"Staci Brown\",\"Kristy Garcia\",\"Adele Albright\",\"Heath Simpson\",\"Michael Roller\",\"Gilbert Mcgee\",\"Mary Bodine\",\"Roxann Cooper\",\"Mark Kwan\",\"Ruth Coburn\",\"Alex Davis\",\"Marcus Jama\",\"Angelica Coy\",\"Peter Watkins\",\"William Barton\",\"Mandie Monroe\",\"Ronald Fiocco\",\"Debbie Martin\",\"Elizabeth Bornstein\",\"John Nash\",\"Kristin Davis\",\"Stanley Grove\",\"Alfredo Herman\",\"Thomas Snyder\",\"Gary Erb\",\"Janice Barrett\",\"Tarsha Deberry\",\"Jose Seligman\",\"Max Pennington\",\"Christopher Ruiz\",\"Evelyn Keeler\",\"Caren Harrington\",\"Paul Stout\",\"Elsa Steffey\",\"Brian Ward\",\"Stephen Butler\",\"Richard Blomquist\",\"Gilbert Chapman\",\"Gwendolyn Hernandez\",\"Angela Jonas\",\"Deborah Snyder\",\"Thomas Honkala\",\"Frances Gould\",\"Megan Renfro\",\"Diane Strickland\",\"Mike Roberts\",\"Earnest Bell\",\"Brittney Kurup\",\"Walter Ramones\",\"Yong Zur\",\"Anita Deboom\",\"Alice Whaley\",\"Martha Teel\",\"John Mounts\",\"Alfred Eubanks\",\"Laura Charbonneau\",\"James Gorham\",\"Paul Telfair\",\"Lydia Nguyen\",\"Linda Healy\",\"Morton Turpin\",\"Tresa Villiard\",\"Ralph Colwell\",\"Brent Durkin\",\"Angle Taub\",\"Shawn Vanhook\",\"Jason Major\",\"Edward Vidana\",\"Jacqueline Jimenez\",\"Brian Morrow\",\"Carl Fink\",\"James Perez\",\"Daniel Kennedy\",\"Colleen Rucker\",\"Joe Bingham\",\"Aileen Gillis\",\"Eric Esparza\",\"Sybil Bellamy\",\"Ruth Marston\",\"Adam Bodily\",\"Jason Brown\",\"James Dunn\",\"Dennis Krajnik\",\"David Gadow\",\"Robert Hamilton\",\"Alexander Minnig\",\"Casey Barnes\",\"Rodney Charland\",\"Jeffery Mccleary\",\"Anthony Simnitt\",\"Crystal Scardino\",\"Sally Cappo\",\"Joseph Burnett\",\"Raymond Macie\",\"Jackie Collis\",\"Jeffrey Matusz\",\"Leona Cox\",\"James Thompson\",\"Travis Hardy\",\"William Mayfield\",\"Blanca Medley\",\"Thomas Nevills\",\"Jackie Johnson\",\"Darrin Bedwell\",\"Howard Mayeux\",\"Kendall Jenkins\",\"Alice Hornbeck\",\"Josephine Harris\",\"Christine Courson\",\"Clint Toombs\",\"Manuel Kellum\",\"Carolyn Zhao\",\"Philip Smith\",\"Delila Ritchie\",\"Kristie Pitts\",\"Pedro Gardner\",\"Gregory Oxendine\",\"Lavern Mccullough\",\"Richard Donovan\",\"John Ryan\",\"Steven Sims\",\"Joshua Isaacs\",\"Sonny Pope\",\"Willie Shearin\",\"Joseph Taylor\",\"Judith Thomas\",\"Shelley Augusta\",\"Derek Bopp\",\"Roy Porter\",\"Joseph King\",\"David Cabrales\",\"Suzanne Jones\",\"Phyllis Montano\",\"Michael Oliphant\",\"William Raines\",\"Lee Brown\",\"Linda Velazquez\",\"Frank Holloway\",\"Charlie Mcelroy\",\"Millard Delmoral\",\"Donald Lemmon\",\"Jeffrey Cabriales\",\"Jeffrey Rowe\",\"Erin Rodriguez\",\"Jonathan Barrett\",\"Charles Beall\",\"Vada Hendrickson\",\"Jamie Darian\",\"Scott Cavazos\",\"Donald Thomson\",\"David Carey\",\"Fred Hansen\",\"Talia Wright\",\"Luther Bennett\",\"Donald Huff\",\"Herman Harris\",\"Phillip Yeiser\",\"Jessica Kearney\",\"Merlin Vigil\",\"Eli Vitalone\",\"Laura Bell\",\"Angela Cutts\",\"Allen Donoho\",\"Christopher Ruiz\",\"Phuong Estle\",\"Matthew Majszak\",\"David Taylor\",\"Edith Johna\",\"Christie Willard\",\"David Morrison\",\"Heather Cornelius\",\"Pauline Spurling\",\"Daniel Garcia\",\"Stephen Ricks\",\"Carol Hess\",\"Ethel Saylor\",\"Katie Henige\",\"Debra Parr\",\"Kassandra Santiago\",\"Andrew Deshong\",\"Miguel Jones\",\"Mark Alemayehu\",\"Earl Grier\",\"Timothy Nellis\",\"Harvey Leininger\",\"Krystal Roles\",\"Ernestine Gooden\",\"Kelly Castellanos\",\"Linda Wilkes\",\"Stacey Barwick\",\"Donald Duran\",\"Patricia Gonzalez\",\"Lillian Bobbitt\",\"Eddie Dodge\",\"Douglas Flores\",\"Antonio Watts\",\"Susan Goodson\",\"Sherill Carter\",\"Edna Mccaig\",\"Aaron Bliss\",\"Ashley Cruz\",\"Mary Bell\",\"Connie Neighbors\",\"Wayne Randolph\",\"Phyllis Hoppe\",\"Daniel Doster\",\"Gail Santoro\",\"Stanley Spencer\",\"Portia Meder\",\"Michael Ellick\",\"Kevin Weatherford\",\"Charles Melcher\",\"Rebecca Stuenkel\",\"Doris Moreau\",\"Lula Rios\",\"Wilbur Mirabal\",\"William Espino\",\"Jason Fischer\",\"Calvin Miletich\",\"Adela Beard\",\"Geraldine Behrens\",\"Petra Young\",\"John Hayes\",\"Gina Peckinpaugh\",\"Kellie Foster\",\"Jose Nasalroad\",\"Ruthie Melton\",\"Cora Angeles\",\"Constance Abbazia\",\"Douglass Lighten\",\"Virginia Robinson\",\"Thomas Beck\",\"Alejandro Burrell\",\"Akiko Samson\",\"Robert Gunn\",\"Alicia Smart\",\"Evelyn Siragusa\",\"Tamra Brumit\",\"Joseph Martin\",\"Margaret Sanches\",\"Nicole Teague\",\"Keith Vanbeek\",\"Jay Mann\",\"Roberta Taylor\",\"Tracy Martinez\",\"Harold Lamb\",\"Shawn Roussell\",\"Shannon Corpron\",\"Kendrick Cummings\",\"Willie Youngberg\",\"Mary Murray\",\"Ida Merrigan\",\"Karl Davidson\",\"Enrique Mackey\",\"Antonio Schulman\",\"Diane Perez\",\"James Troyer\",\"Rosie Gallegos\",\"Bonnie Wood\",\"Deborah Burleigh\",\"Sally Keels\",\"Shirley Shelley\",\"Laurie Higgin\",\"Benny Degroot\",\"Linda New\",\"Emmanuel Mccauley\",\"Matthew Hennessy\",\"Joshua Smith\",\"Delores Holz\",\"Jerome Vincent\",\"Lavonne Talamante\",\"Billie Ferreira\",\"Lorraine Ko\",\"Juanita Lara\",\"Paul Boone\",\"Joaquin Bosworth\",\"George Doherty\",\"Bobby Wiktorowski\",\"Coleen Ortiz\",\"Lewis Schools\",\"Jessica Wagner\",\"Georgia Mercer\",\"John Spaulding\",\"Wanda Bravo\",\"Timothy Race\",\"Karl Lopez\",\"Michelle Hollingsworth\",\"Ronnie Sims\",\"Tanya Garcia\",\"Jean Tsosie\",\"Judie Morgan\",\"Carlos Carolan\",\"Matthew Poulos\",\"Kelly Watson\",\"Eric Lembke\",\"Greg Todd\",\"Steve Huff\",\"Brian Saunders\",\"James Blay\",\"Angelia Hernandez\",\"Walter Morales\",\"Lori Fergerson\",\"Helen Smith\",\"Terry Marks\",\"Ralph Hernandez\",\"Joel Johnson\",\"Cynthia Montez\",\"John Renteria\",\"Joseph Sutter\",\"Bernard Sampson\",\"Marietta Bricker\",\"Joyce Robbins\",\"Vivian Mckey\",\"Amanda Voorhes\",\"Kevin Storey\",\"Thomas Chumley\",\"Gene Weixel\",\"Estrella Harris\",\"Jane Honaker\",\"Maxine Stapleton\",\"Aaron Belton\",\"Richard Rangaswamy\",\"Marion Knieling\",\"Diana Mendez\",\"Ellen Osborne\",\"Pamela Thomas\",\"Celeste Willems\",\"Lawrence Greer\",\"Walter Brown\",\"Hillary Mcdermott\",\"Darcy Masco\",\"Lois Christian\",\"Eleanor Coogan\",\"Marcellus Ainsworth\",\"Melissa Evankovich\",\"Norbert Tolley\",\"Jane Bryan\",\"Peter Cowling\",\"David Swick\",\"Mary Forster\",\"Andrew Krug\",\"April Belcher\",\"Joline Carraro\",\"Eric Fletcher\",\"Patricia Nasser\",\"Phillip Richardson\",\"David Kessler\",\"Geneva Miner\",\"Kurt Snyder\",\"Barbara Coccia\",\"Jay Crim\",\"Scott Wyrick\",\"David Schultz\",\"Beth Ferreira\",\"James Sheldon\",\"Curtis Smith\",\"Myron Herrera\",\"Stacey Dorman\",\"Delbert Constantino\",\"William Price\",\"Ronald Williams\",\"Joseph Cortez\",\"Christopher Vlietstra\",\"Melissa Swink\",\"Linda Mahedy\",\"Janice Staton\",\"Jennifer Hernandez\",\"Rebecca Lee\",\"Paul Davenport\",\"James Rhodes\",\"Robert Clark\",\"Polly Jacob\",\"Mercedes Deniz\",\"John Dalson\",\"Thomas Wilson\",\"Homer Newman\",\"Crystal Hassey\",\"Jeff Priar\",\"Tennie Mcdaniel\",\"Anthony Cary\",\"Enid Johnson\",\"Willie Maes\",\"Gonzalo Cox\",\"Erica Walters\",\"Kirk White\",\"Edward Oftedahl\",\"Shane Dong\",\"Gavin Bosley\",\"James Blackburn\",\"John Speirs\",\"Timothy Wright\",\"Fatima Kavanagh\",\"Sam Harris\",\"Amanda Boyce\",\"Issac Roby\",\"Joy Gladfelter\",\"Ronald Aide\",\"Linda Tritt\",\"Kendrick Mcclinton\",\"Virginia Watson\",\"Lora Dailey\",\"William Estes\",\"Robert Terry\",\"Walter Madrigal\",\"Deirdre Eberling\",\"Gregory Kong\",\"Alan Tucker\",\"Eric Mayo\",\"Joseph Briley\",\"Deborah Jordan\",\"Andrew Adkins\",\"Frank Eutsler\",\"Rachelle Miller\",\"Steven Hawkins\",\"Lawrence Montgomery\",\"Travis Murphy\",\"Gary Pham\",\"Kathryn Dortch\",\"Renee Moreno\",\"Benjamin Leonard\",\"Denise Fletcher\",\"Daniel Person\",\"Karl Stauner\",\"Gloria Wright\",\"Edward Biggs\",\"Jimmy Donnell\",\"Connie Meagher\",\"Laura Kuta\",\"Marion Krause\",\"Tim Mongomery\",\"Roselee Holzem\",\"Consuelo Lundy\",\"Cynthia Class\",\"Tyrone Weiss\",\"Cora Evans\",\"Samuel Du\",\"Shiela Myers\",\"Alan Lackey\",\"Neil Chen\",\"Bill Dias\",\"Grover Williams\",\"Lonnie Jackson\",\"Dianne Lowe\",\"Helen Brayshaw\",\"Chad Atwood\",\"Irma Mcgruder\",\"Daniel Lobosco\",\"Shad Snyder\",\"Kent Shellabarger\",\"Earl Brown\",\"Joseph Addington\",\"Lori Woody\",\"Carol Bueno\",\"Robert Crespo\",\"Maria Garrett\",\"Mario Mclaughlin\",\"Brian Spears\",\"Rodney Rosales\",\"Gary Barry\",\"Hazel Whitson\",\"Jill Hamood\",\"Ramon Julia\",\"Le Sanchez\",\"Susan Brock\",\"Cherly Adams\",\"Lawrence Munroe\",\"Keith Looney\",\"Gina Madhani\",\"Michael Anguiano\",\"Allan Kramp\",\"Willie Rice\",\"Juan Meagher\",\"Dawn Christopher\",\"Charles Sherwood\",\"Raymond Neaves\",\"Herminia Sperry\",\"Sharon Bowden\",\"Lloyd Roseman\",\"Delia Case\",\"Melvin Bole\",\"William Crites\",\"Amanda Cohen\",\"Douglas Connor\",\"Pearl Stanhope\",\"Joyce Hogue\",\"Lydia Fontanella\",\"Tommy Guidry\",\"April Goodwin\",\"Craig Ford\",\"Debra Criswell\",\"Joyce Coleman\",\"Steven Bartholomew\",\"Roberto Adler\",\"Jeanette Perez\",\"Willie Carpenter\",\"Michael Nguyen\",\"Dorothy Hensley\",\"Etta Pickett\",\"Laurie Cortes\",\"Carolyn Carranza\",\"Ruth Hoffman\",\"Sue Wingert\",\"Angelica Gipson\",\"William Vitela\",\"Katherine Calhoun\",\"Rhonda Stout\",\"George Ware\",\"Beverly Pham\",\"Paul Kresta\",\"Paul Klever\",\"Annie Holland\",\"Stephanie Coursey\",\"Daniel Green\",\"Doris Ford\",\"Jodi Smith\",\"Micah Wise\",\"Helen Kozel\",\"Jeffrey Stevenson\",\"James Morales\",\"Jeffrey Carmosino\",\"Mary Stanley\",\"Paul Groat\",\"Eddie Greer\",\"Randall Barks\",\"Thomas Bolton\",\"Melissa Pham\",\"Mary Stoker\",\"Steve Chappell\",\"Kristen Windon\",\"Colby Gutierrez\",\"Michael Rose\",\"Andrew Rodriguez\",\"Jamie Vance\",\"Robbi Baker\",\"Mary Riggs\",\"Margaret Feuz\",\"Priscilla Robinson\",\"Lois Mattson\",\"Ruby Vines\",\"Edna Mcmullen\",\"See Lanzone\",\"Raymond Frelix\",\"Michelle Mitchell\",\"Veronika Newsom\",\"Joey Rodriguez\",\"James Diller\",\"Catherine Dennison\",\"Charlotte Maguire\",\"Twila Shryock\",\"Wallace Layne\",\"Andrew Thomas\",\"Farrah Martinek\",\"Hilda James\",\"Delores Oles\",\"Brent Jones\",\"Clay Hinz\",\"Teresa Jenkins\",\"Shirley Wood\",\"Sandra Rosenthal\",\"David Barton\",\"Laura Riley\",\"Mildred Prosen\",\"Miguel Bueno\",\"George Brown\",\"Frank Garcia\",\"Rhonda Hirokawa\",\"Vasiliki Smith\",\"Cathy Roldan\",\"Leon Treece\",\"Christy Vansteenburgh\",\"Benjamin Langley\",\"Gonzalo Owens\",\"Walter Wilson\",\"Christine Shapiro\",\"Michael Duncan\",\"Judy Pavlich\",\"Susie Meadows\",\"Diane Case\",\"Jimmy Hernandez\",\"James Williams\",\"Alpha Wolfe\",\"Rudolph Clayton\",\"William Stewart\",\"James Richardson\",\"Elizabeth Lugo\",\"Jason Moyer\",\"Leonor Blondheim\",\"Jeanette Nelms\",\"James Ore\",\"Billie Barnes\",\"Fernando Rozelle\",\"Yvonne Norris\",\"Lorenzo Fulwider\",\"Dusty Ditzler\",\"John Pruit\",\"Micheal Conley\",\"Timothy Brewer\",\"Jerome Baldwin\",\"Victoria Reyes\",\"Vince Farrell\",\"Marco Royals\",\"Anthony Hanson\",\"Harry Raman\",\"Gloria Wells\",\"Paula Conway\",\"Catherine Rammel\",\"Michael Hall\",\"Dennis Hayes\",\"Jose Sikora\",\"William Delgadillo\",\"Jean Millo\",\"Katie Gori\",\"Ryan Bui\",\"Margie Bustamante\",\"James Wichman\",\"Gerald Johnstone\",\"Ola Mccallum\",\"Sam Summers\",\"Ralph Roxas\",\"Sandra Franklin\",\"Shawn Buller\",\"Meghan Drinkwine\",\"Raymond Varney\",\"William Green\",\"Ruth Dickes\",\"Lynn Halfmann\",\"John Koles\",\"Brian Killough\",\"Eva Sommers\",\"Joseph Allen\",\"Stacy Fierro\",\"Brent Withrow\",\"Gordon Connelly\",\"Jimmy Helton\",\"Mary Morrow\",\"Martin Shaffer\",\"Ray Williams\",\"Christopher Soileau\",\"Leila Johnson\",\"Anthony Porter\",\"Paul Starling\",\"Michelle Hollowell\",\"Jason Jenkins\",\"Duncan Cruz\",\"Barbara Landers\",\"Gary Bailey\",\"Lino Casillas\",\"Jeffrey Fischer\",\"Ben Yu\",\"Robin Fisher\",\"Dennis Tamayo\",\"Cathy Won\",\"Marquita Obaid\",\"Lucy Carp\",\"Milagros Calderon\",\"Daniel Anderson\",\"Burton Royston\",\"James Lefevre\",\"Laura Davis\",\"Michael Wilfong\",\"Tara Bellinger\",\"Patricia Alamilla\",\"Lana Wiese\",\"Sherri Silby\",\"Bonnie Moore\",\"Cristin Downey\",\"Rob Shen\",\"Jose Franco\",\"Thomas Day\",\"Omar Mayen\",\"Lois Cannata\",\"Kelly Enquist\",\"Dorothy Young\",\"Twyla Tucker\",\"Christina Galindo\",\"Albert Frederick\",\"Cassandra Ayers\",\"Carl Henault\",\"Nicole Hart\",\"Douglas Johnson\",\"Kelly Zamora\",\"Linda Ramphal\",\"Alan Cornelius\",\"Richard Hill\",\"Maria Perino\",\"Daniel Khalifa\",\"Thomas Mcdonnell\",\"John Burwick\",\"Emma Switzler\",\"Suzanne Martinez\",\"James Ziolkowski\",\"Helen Harper\",\"Jeffery Wright\",\"Mark Chausse\",\"Jack Jenkins\",\"Susan Ryal\",\"Ericka Fitzgerald\",\"Eduardo Durica\",\"Jason Hiatt\",\"Wendy Elias\",\"Brenda Jones\",\"Marie Neves\",\"Jose Guidera\",\"Mike Hand\",\"Barbara Reppert\",\"Michael Alex\",\"William Gleason\",\"Emery Ralph\",\"Annabel Horton\",\"Margaret Ranson\",\"Fred Wills\",\"Jessica Laird\",\"James Wilde\",\"Elisa Venn\",\"Carolyn Jimenez\",\"Eddie Brown\",\"Rachel Norkett\",\"Richard Steer\",\"Helen Seron\",\"Judith Wilner\",\"Evelyn Martin\",\"James Viola\",\"Vicki Barclay\",\"Shirley Stonehouse\",\"Judy Kent\",\"Patricia Ussery\",\"Willie Fairchild\",\"John Hunter\",\"Ruth Rodriguez\",\"Ronald Potts\",\"Trina Stephens\",\"Dorothy Reyes\",\"Marjorie Gross\",\"Lula Barber\",\"Natalie Hanes\",\"Katherine Heine\",\"Sarah Ly\",\"Karina Arendt\",\"Katherine Bax\",\"Sharon Morris\",\"Terry Sender\",\"Joe Roberts\",\"Jean Bradley\",\"Cynthia Barnfield\",\"Mildred Castro\",\"Shannon Stapleton\",\"Hazel Curley\",\"Michael Thompson\",\"Stephanie Mathieu\",\"Kathleen Loya\",\"Juan Contos\",\"Hope Zuckerman\",\"John Sandoval\",\"Rebecca Nelson\",\"Charles Keogan\",\"Melvin Jimenez\",\"Russell Worsham\",\"Hans Diaz\",\"Amy Anderson\",\"Willard Plant\",\"Stuart Do\",\"Jerry O'Connor\",\"Grace Pena\",\"Frank Weatherspoon\",\"Brenda Nino\",\"Keith Man\",\"Vicky Cardenas\",\"Phillip Delpozo\",\"Jeffrey Snyder\",\"Kenneth Mitchell\",\"Daniel Wildenberg\",\"Richard Mcclincy\",\"Millard Kelly\",\"Jeremiah Tull\",\"Eva Stone\",\"Claire Billman\",\"Delilah Greer\",\"Margarita Lee\",\"Jacob Harold\",\"Joseph Craft\",\"Shenna Nieto\",\"Jaye Venturelli\",\"John Rinehart\",\"Russell Cantin\",\"Cynthia Persaud\",\"Morris Mickey\",\"Donald Hoffman\",\"Lucille Rothman\",\"Kathryn Carter\",\"Beatrice Rogers\",\"John Folse\",\"Cathy June\",\"Emma Jackson\",\"Brittany Jones\",\"Kyle Willson\",\"James Bateman\",\"Sharon Grimm\",\"Audrey Gailor\",\"Richard Thomas\",\"Polly Denning\",\"Marie Zaluski\",\"William Stafford\",\"Genevieve Burke\",\"Kimberly Riggert\",\"Ann Ybarra\",\"Eleanor Dandrea\",\"William Cottrell\",\"Lillian Duncan\",\"Joan Walker\",\"Yvette Gutierrez\",\"Mary Teal\",\"Susan Pollick\",\"Shauna Ledesma\",\"Lawrence Dobbs\",\"Ryan Bancroft\",\"Ramon Johnson\",\"Patsy Elman\",\"Connie Bishop\",\"Marguerite Mackie\",\"Cora Dodge\",\"Robert Love\",\"James Locy\",\"Yolanda Rosa\",\"Carmella Meyer\",\"Randy Mcgee\",\"Elizabeth Hilton\",\"Sheila Phillips\",\"Lidia Marshall\",\"Claude Hendren\",\"Steven Epple\",\"Pam Eckenrode\",\"Lynn King\",\"Sara Williams\",\"Helen Jeffries\",\"David Mckinney\",\"William Fell\",\"William Perez\",\"Frederick Watson\",\"Clinton Southerland\",\"Pamela Stigall\",\"John Fichter\",\"Willie Harris\",\"Ralph Parker\",\"Florence Robinson\",\"Mary Melvin\",\"Marcelo Cartwright\",\"Abigail Ork\",\"Patricia Arredondo\",\"Brenda Askew\",\"Christina Farling\",\"Mark Borges\",\"Cheryl Porter\",\"James Castaneda\",\"Jason Watts\",\"Richard Macaluso\",\"William Davey\",\"Todd Overton\",\"John Mitchell\",\"Michael Huang\",\"Cory Mitchell\",\"Ricky Ramsey\",\"Eva Holmes\",\"Patty Fewell\",\"Max Nelson\",\"Thomas Arevalo\",\"Johnnie Hurt\",\"Michael Matthews\",\"Susan Ramsey\",\"Olga Auer\",\"Morris Armstrong\",\"Carolyn Saunders\",\"Daniel Cook\",\"Lionel Pritts\",\"Cindy Scroggin\",\"Tina Gould\",\"Carole Souza\",\"Ida Stormont\",\"Jennifer Hamilton\",\"Melissa Hall\",\"Michael Saliba\",\"Karen Martinez\",\"Jo Barnard\",\"Dorothy Garcia\",\"Valarie Parker\",\"Shawn Tierney\",\"Chris Fleenor\",\"David Jesse\",\"Constance O'Brien\",\"Deangelo Hayden\",\"Carroll Sprague\",\"Nickie Lenhart\",\"Rachelle Osteen\",\"Raymond Levigne\",\"Daniel Batchelor\",\"Robert Lafon\",\"Alexander Justice\",\"Sheena Pratt\",\"Nigel Haynes\",\"Joe Brickell\",\"George Garcia\",\"Linda Dobson\",\"Eric Berry\",\"Esther Simone\",\"Eva Olson\",\"Jerry Salazar\",\"Maura Packard\",\"James Gage\",\"Roger Castle\",\"Brian Lewis\",\"James Ybarra\",\"Ronald Henson\",\"John Soyars\",\"Donald Maestas\",\"Susan Burnett\",\"Ina Gibler\",\"Julia Jones\",\"Ollie Petti\",\"Andrew Ruth\",\"Pauline Adamchick\",\"Ruby Whaley\",\"Evelyn Burdette\",\"Patrick Alder\",\"Edwardo Muma\",\"Leo Davis\",\"James Williams\",\"Theresa Choromanski\",\"Ricardo Goeke\",\"Erin Carter\",\"Maricela Swett\",\"Edwin Gordon\",\"Lillian Vazquez\",\"Suzanne Sheehan\",\"Mabel Mcnair\",\"Linda Guzman\",\"Karen Washington\",\"Tena Nuzzo\",\"Christina Blevins\",\"Margaret Ramaswamy\",\"Pamela Patel\",\"Brenda Price\",\"Chelsea Vernon\",\"Lynne Slone\",\"Casey Phillips\",\"Robert Moretti\",\"Hollie Ingram\",\"Richard Mckay\",\"Rosa Morgan\",\"Joseph Guedes\",\"Elizabeth Martin\",\"Alexander Saper\",\"Bess Vavrik\",\"Debbie Ball\",\"Patricia Renteria\",\"Elmer Klein\",\"Gilbert Williams\",\"Shantay Murray\",\"Jeff Gaxiola\",\"Paul Grubb\",\"Kenneth Skaggs\",\"Sharon Valentine\",\"Joe Pagan\",\"Helen Ingran\",\"Troy Kowal\",\"Clementina Lukas\",\"Walter Ryan\",\"Elizabeth Heath\",\"Robert Mendoza\",\"Nathan Santos\",\"Juanita Hicks\",\"Ramona Storey\",\"Paul Ledezma\",\"Ben Ernst\",\"Elvia Bateman\",\"Jonathan Reed\",\"Darlene Gridley\",\"Graig Stebbins\",\"Roxanne Buis\",\"Kacy Agan\",\"Timothy Babcock\",\"Richard Holmes\",\"Anthony Harrison\",\"Aaron Rojewski\",\"Deborah Holmes\",\"William Cage\",\"Nicole Neuschwander\",\"Edna Boucher\",\"Timothy Bolton\",\"Kenneth Sanchez\",\"Rosemary Galloway\",\"Donald Hall\",\"Al Wright\",\"Karrie Currie\",\"Richard Sizemore\",\"Dorothy Dineen\",\"Mary Chrisman\",\"Laquita Williams\",\"Mary Waggoner\",\"Michelle Hughes\",\"Francisco Roraback\",\"Roy Craig\",\"Margaret Morgan\",\"Betty Mann\",\"Walter Serrano\",\"Brandy Espie\",\"Misty Mcdonald\",\"John Laing\",\"Everette Ordaz\",\"Misty Segrest\",\"Michael Chung\",\"Lee Arriaga\",\"Christina Warren\",\"Wanda Johnson\",\"Jason Puleo\",\"Stella Gehrt\",\"Dena Taylor\",\"Angela Splichal\",\"Shirley Pope\",\"Peter Wolf\",\"Gary Lopez\",\"Linda Arnold\",\"Clara Mayfield\",\"Carroll Johnson\",\"Jon Boyle\",\"Barbara Elchert\",\"Jason Braun\",\"Kristy Young\",\"Cortez Pioquinto\",\"Charles Greene\",\"Alexander Brooks\",\"Carol Martinez\",\"Herman Shadel\",\"Jessie Carter\",\"Christy Clements\",\"Frank Gulbronson\",\"Michelle Carter\",\"Yuette Tallant\",\"Alexander Smith\",\"Angela Fogelsong\",\"Anna Baran\",\"Bruce Brown\",\"Matthew Schmidt\",\"Annie Johnson\",\"Eugenia Hawk\",\"Nicole Goshorn\",\"Craig Allen\",\"Brenda Adams\",\"Debra Stephens\",\"Linda Kitko\",\"Jean Ziesman\",\"Dexter Forrest\",\"Robert Saldana\",\"Wendy Lozon\",\"David Lopez\",\"Robert Ceja\",\"Andrea Szczepanski\",\"Ed Mcconnell\",\"Carlyn Jones\",\"Thomas Hughes\",\"Gregory Eichenberger\",\"Rosina Lodge\",\"Martin Cunningham\",\"Ernest Huggett\",\"Daisy Mendoza\",\"Alaina Applewhite\",\"Gloria Heslop\",\"Kevin Rhoades\",\"Sean Gutierrez\",\"Gregory Rodriguez\",\"Dorothy Bare\",\"Kevin Fuentes\",\"Ricky Husky\",\"Norberto Hargrave\",\"Norman Frazier\",\"Scott Rivera\",\"Patricia Defrancesco\",\"Stacey Ray\",\"Keisha Flores\",\"Robert Hobbs\",\"Morris Elmore\",\"John Rutledge\",\"Audrey Orozco\",\"Scott Berrios\",\"Joann Quillin\",\"Linda Saunderson\",\"Steven Fike\",\"Jo James\",\"Elizebeth Lugo\",\"Mary Jones\",\"William Gomez\",\"Jennifer Lawson\",\"Deanna Gil\",\"Nicole Tuttle\",\"Candace Raza\",\"Donna Keeven\",\"Robyn Webb\",\"David Lee\",\"John Hubbard\",\"Diana Zenk\",\"Ricky Bonn\",\"Lisa Cheng\",\"Jerry Mohammed\",\"Eric Smith\",\"Kendrick Luciano\",\"Earl Fly\",\"Mara Martinez\",\"Walter Love\",\"Irene Taylor\",\"Christina Gomez\"],\"shape\":[2000],\"dtype\":\"object\",\"order\":\"little\"}],[\"gender\",{\"type\":\"ndarray\",\"array\":[\"female\",\"female\",\"female\",\"male\",\"male\",\"male\",\"male\",\"male\",\"male\",\"female\",\"female\",\"female\",\"female\",\"male\",\"male\",\"male\",\"male\",\"male\",\"female\",\"male\",\"male\",\"female\",\"female\",\"male\",\"male\",\"female\",\"male\",\"male\",\"male\",\"female\",\"female\",\"female\",\"male\",\"male\",\"male\",\"female\",\"male\",\"female\",\"female\",\"female\",\"male\",\"female\",\"female\",\"female\",\"female\",\"male\",\"female\",\"male\",\"female\",\"male\",\"male\",\"male\",\"female\",\"male\",\"female\",\"female\",\"male\",\"female\",\"female\",\"female\",null,\"male\",\"female\",\"female\",\"female\",\"female\",\"female\",\"female\",\"male\",\"male\",\"female\",\"female\",\"female\",\"female\",\"female\",\"female\",\"male\",\"female\",\"female\",\"female\",\"female\",\"female\",\"female\",\"male\",\"female\",\"female\",\"female\",\"male\",null,\"female\",\"female\",\"male\",null,\"female\",\"female\",\"female\",\"female\",\"female\",\"male\",\"female\",\"female\",\"female\",\"female\",\"male\",\"male\",\"male\",\"male\",\"male\",\"female\",\"female\",\"female\",\"male\",\"male\",\"female\",\"female\",\"female\",\"male\",\"male\",\"male\",\"male\",\"male\",null,\"female\",\"male\",\"female\",\"male\",\"male\",\"male\",\"male\",\"male\",\"male\",null,\"female\",\"female\",\"male\",\"male\",\"female\",\"male\",\"female\",\"male\",\"male\",\"male\",\"male\",\"male\",\"female\",\"female\",\"male\",\"male\",\"male\",\"female\",\"male\",\"male\",\"male\",\"male\",\"male\",\"male\",\"female\",\"male\",\"male\",\"male\",\"male\",\"female\",\"male\",\"female\",\"female\",null,\"female\",\"male\",\"female\",\"male\",\"male\",\"male\",\"female\",\"male\",\"female\",\"female\",\"female\",\"female\",\"male\",\"female\",\"female\",\"male\",\"female\",\"female\",\"male\",\"female\",\"female\",\"female\",\"female\",\"male\",\"male\",\"male\",\"female\",null,\"male\",\"female\",\"female\",\"male\",\"female\",\"male\",\"female\",\"male\",\"female\",\"female\",\"female\",\"female\",\"male\",\"female\",\"male\",\"female\",\"female\",\"female\",\"female\",\"male\",null,\"female\",\"male\",\"female\",\"male\",null,null,\"female\",\"female\",\"female\",null,\"female\",\"male\",\"male\",\"female\",\"female\",\"female\",\"female\",\"male\",\"female\",\"male\",\"male\",\"male\",null,\"male\",\"female\",\"male\",\"male\",\"male\",\"female\",\"female\",\"female\",\"male\",\"female\",\"male\",\"male\",\"male\",\"female\",\"male\",\"male\",\"female\",\"female\",\"female\",\"male\",null,\"male\",\"female\",\"female\",\"male\",\"male\",\"female\",\"male\",\"female\",\"male\",\"male\",\"female\",\"female\",\"male\",\"male\",\"male\",\"female\",\"male\",\"female\",\"male\",\"male\",\"male\",\"male\",\"female\",\"male\",\"male\",\"male\",\"female\",\"female\",\"male\",\"male\",\"female\",\"female\",\"male\",\"female\",\"female\",\"male\",\"male\",\"male\",\"male\",\"female\",\"male\",\"male\",\"female\",\"female\",\"male\",\"male\",\"male\",\"female\",\"male\",\"female\",\"male\",\"female\",\"male\",\"male\",\"male\",\"female\",\"female\",\"female\",\"female\",\"male\",\"male\",\"female\",\"male\",\"male\",\"male\",\"female\",\"male\",\"male\",\"male\",\"male\",\"male\",\"male\",\"male\",\"female\",\"female\",\"female\",\"female\",\"male\",\"male\",\"female\",\"female\",\"female\",\"female\",\"female\",\"female\",null,\"female\",\"male\",\"female\",\"male\",\"female\",null,\"female\",\"female\",\"male\",\"female\",\"female\",\"male\",\"female\",null,\"male\",\"male\",\"female\",\"male\",\"female\",\"female\",\"male\",\"male\",\"female\",\"male\",\"female\",\"female\",\"female\",\"male\",\"female\",\"male\",\"female\",\"female\",null,\"female\",\"male\",\"male\",\"male\",\"female\",\"male\",\"female\",\"female\",\"male\",\"male\",\"female\",\"male\",\"female\",\"male\",\"female\",\"male\",\"male\",\"male\",\"male\",\"female\",\"female\",\"male\",\"female\",\"male\",\"male\",\"female\",\"female\",\"male\",\"female\",\"male\",\"female\",\"female\",\"female\",\"male\",\"female\",\"female\",\"female\",\"male\",\"female\",\"male\",\"male\",\"female\",\"male\",null,\"female\",\"female\",\"male\",\"male\",\"male\",\"female\",null,null,\"male\",\"female\",\"male\",\"male\",\"male\",\"female\",\"male\",\"female\",\"female\",null,\"female\",\"female\",null,\"female\",\"male\",\"male\",\"female\",\"male\",\"male\",\"male\",\"male\",\"male\",\"male\",\"female\",\"female\",\"male\",\"male\",\"male\",\"male\",\"male\",\"male\",null,\"male\",\"female\",\"male\",\"female\",\"female\",\"female\",\"male\",\"female\",\"female\",\"male\",\"male\",\"male\",\"male\",\"male\",\"female\",\"male\",\"female\",\"female\",\"female\",\"female\",\"female\",\"male\",\"female\",\"male\",\"female\",\"male\",\"male\",null,\"female\",\"male\",\"female\",\"female\",\"male\",null,\"male\",\"male\",\"female\",\"female\",\"male\",\"male\",\"male\",\"male\",\"male\",\"male\",\"female\",\"female\",\"female\",\"female\",\"female\",\"female\",\"male\",\"female\",\"female\",\"female\",\"male\",\"female\",\"female\",\"female\",\"female\",\"male\",\"female\",\"male\",\"male\",\"male\",\"male\",\"male\",null,\"male\",\"male\",\"female\",\"male\",\"female\",\"female\",\"male\",\"male\",\"female\",\"male\",\"female\",\"female\",\"female\",\"female\",\"female\",\"female\",\"female\",\"female\",\"female\",\"male\",\"male\",\"female\",\"female\",\"male\",\"female\",\"female\",\"female\",\"female\",\"male\",\"female\",\"male\",\"male\",\"female\",\"female\",\"male\",\"female\",\"male\",\"male\",\"male\",\"female\",\"male\",\"female\",\"male\",\"female\",\"male\",\"male\",\"female\",\"female\",\"male\",\"male\",\"female\",\"male\",\"male\",\"male\",\"female\",\"female\",\"female\",\"female\",\"male\",\"male\",\"female\",\"male\",\"female\",\"male\",\"female\",\"male\",\"male\",\"male\",null,\"female\",\"female\",\"female\",null,\"male\",\"male\",\"male\",\"male\",\"female\",\"male\",\"female\",\"female\",\"female\",\"male\",null,\"male\",\"female\",\"male\",null,\"male\",null,\"female\",\"female\",null,\"female\",\"female\",\"male\",\"female\",\"female\",\"female\",\"female\",\"male\",\"male\",\"male\",\"male\",\"female\",\"female\",\"female\",\"female\",null,\"female\",\"male\",\"male\",\"male\",\"female\",\"male\",\"female\",\"female\",\"female\",\"female\",\"male\",\"female\",\"female\",\"female\",\"male\",\"female\",\"female\",\"female\",\"female\",\"female\",\"male\",\"female\",\"male\",null,\"female\",null,\"male\",\"female\",\"female\",\"female\",\"male\",\"male\",\"male\",\"male\",\"female\",\"male\",\"female\",\"male\",\"male\",\"female\",\"male\",\"female\",\"female\",\"male\",\"male\",null,\"male\",null,\"female\",\"female\",\"female\",\"male\",\"male\",\"male\",\"male\",\"male\",\"male\",\"male\",\"female\",\"male\",\"male\",\"female\",\"female\",\"male\",\"male\",\"male\",\"female\",null,\"female\",\"female\",\"female\",\"male\",\"female\",\"male\",\"female\",\"female\",\"female\",\"female\",\"female\",\"female\",\"female\",\"female\",\"male\",\"male\",\"female\",\"male\",\"male\",\"female\",\"male\",\"male\",\"female\",\"male\",\"female\",\"male\",\"female\",\"male\",\"female\",\"female\",\"male\",\"male\",\"female\",\"male\",\"male\",\"female\",null,\"female\",\"male\",\"female\",\"male\",\"male\",\"male\",\"female\",\"male\",\"male\",\"female\",\"female\",\"male\",\"female\",\"male\",\"female\",\"male\",null,\"female\",null,\"male\",\"male\",\"female\",\"male\",\"female\",\"male\",\"male\",\"female\",\"female\",\"female\",\"female\",\"male\",\"male\",\"male\",\"female\",\"female\",\"female\",\"male\",\"male\",\"male\",\"female\",\"male\",\"female\",\"female\",\"male\",\"female\",\"male\",\"female\",\"male\",\"male\",\"male\",\"female\",null,\"male\",\"female\",\"male\",\"female\",\"male\",\"male\",\"male\",\"female\",\"female\",\"female\",\"male\",\"female\",\"female\",\"male\",\"female\",\"female\",\"male\",\"female\",\"male\",\"female\",\"male\",\"female\",\"female\",\"female\",\"female\",\"male\",\"male\",\"male\",\"male\",\"male\",\"male\",\"male\",\"male\",\"male\",\"male\",\"male\",\"male\",\"male\",\"female\",\"male\",\"female\",\"male\",\"female\",\"female\",\"male\",\"female\",\"male\",\"male\",null,\"male\",\"male\",\"male\",\"male\",\"female\",\"female\",\"female\",\"male\",\"female\",\"female\",\"male\",\"male\",\"male\",\"female\",\"female\",\"female\",\"female\",\"female\",\"female\",\"female\",\"male\",\"female\",\"male\",\"female\",\"male\",\"female\",\"female\",\"male\",\"female\",\"male\",\"male\",\"female\",\"male\",\"male\",\"female\",\"male\",\"female\",\"female\",\"female\",\"male\",\"male\",\"female\",\"female\",\"male\",null,\"male\",\"female\",\"male\",null,\"female\",\"female\",\"male\",\"male\",\"male\",\"female\",\"female\",\"male\",\"female\",null,null,\"female\",\"male\",\"male\",\"female\",\"male\",\"female\",\"female\",\"male\",\"female\",\"male\",\"male\",\"male\",\"male\",\"female\",\"female\",\"male\",\"male\",\"male\",\"female\",\"female\",\"male\",\"female\",\"male\",\"male\",\"male\",\"male\",\"female\",\"female\",\"female\",\"male\",\"female\",\"female\",\"female\",\"male\",\"male\",\"female\",\"male\",\"male\",\"female\",\"female\",\"female\",\"male\",\"male\",\"female\",\"male\",\"male\",\"female\",\"female\",\"male\",\"female\",\"male\",\"male\",null,\"male\",\"male\",\"male\",\"female\",\"male\",\"male\",\"male\",\"male\",\"female\",\"male\",\"female\",\"male\",\"female\",\"female\",null,\"male\",\"male\",\"male\",\"male\",\"male\",\"male\",\"male\",\"male\",\"male\",\"female\",\"female\",\"female\",\"male\",\"male\",\"male\",null,\"female\",\"male\",\"male\",\"male\",\"female\",\"male\",\"male\",\"male\",\"male\",\"male\",\"female\",\"female\",\"female\",\"male\",\"male\",\"female\",\"male\",\"female\",\"female\",\"male\",\"male\",\"male\",\"male\",\"male\",\"male\",\"male\",\"male\",\"female\",\"male\",\"female\",\"female\",\"male\",\"male\",\"male\",\"male\",\"female\",\"female\",\"male\",\"male\",\"male\",\"female\",\"male\",\"male\",\"male\",\"male\",null,\"male\",\"female\",\"male\",\"male\",\"female\",\"female\",\"male\",\"male\",\"male\",\"male\",\"female\",\"male\",\"male\",\"male\",\"male\",\"female\",\"male\",\"male\",\"female\",\"female\",\"male\",\"male\",\"female\",null,\"male\",null,\"female\",\"male\",\"female\",\"female\",\"male\",\"male\",\"female\",\"female\",\"female\",\"female\",\"female\",\"male\",\"male\",\"male\",\"male\",\"male\",\"male\",\"female\",\"female\",\"female\",\"female\",\"female\",null,\"female\",\"female\",\"female\",\"male\",\"male\",\"female\",\"female\",\"female\",\"male\",\"female\",\"female\",\"female\",\"male\",\"female\",\"male\",\"female\",\"male\",\"female\",\"male\",\"male\",\"male\",\"female\",\"female\",\"female\",\"male\",\"male\",\"male\",\"male\",\"female\",\"female\",\"female\",\"male\",\"female\",\"female\",\"male\",\"female\",\"female\",\"female\",\"male\",\"female\",\"male\",null,\"female\",\"male\",\"female\",\"female\",\"female\",\"male\",\"female\",\"female\",\"male\",\"male\",\"female\",\"female\",\"male\",\"male\",\"female\",\"male\",\"male\",\"female\",\"female\",\"male\",\"male\",\"male\",\"female\",\"male\",\"female\",\"female\",\"female\",\"female\",\"female\",\"female\",\"male\",\"female\",\"male\",\"male\",\"male\",\"female\",\"male\",\"female\",\"female\",\"female\",\"female\",\"male\",\"male\",\"male\",\"male\",\"female\",\"male\",\"female\",\"female\",\"male\",\"female\",\"male\",\"male\",\"female\",\"male\",\"female\",\"female\",\"female\",\"male\",\"male\",\"female\",\"male\",\"male\",\"male\",\"male\",\"male\",\"female\",\"male\",\"female\",\"female\",\"male\",\"male\",\"male\",\"female\",\"male\",\"male\",\"male\",\"female\",\"female\",\"female\",\"female\",\"male\",\"male\",\"male\",\"female\",\"female\",\"female\",\"male\",null,\"female\",\"female\",null,null,\"female\",\"male\",\"male\",\"female\",\"female\",\"female\",\"female\",\"male\",\"female\",\"male\",\"female\",\"male\",\"male\",\"female\",\"male\",\"female\",null,\"male\",\"female\",\"male\",\"male\",\"female\",\"male\",\"female\",\"male\",\"male\",\"male\",\"female\",\"male\",\"male\",\"male\",\"female\",\"male\",\"male\",\"male\",\"male\",\"male\",\"female\",\"female\",\"female\",\"female\",\"female\",\"male\",\"male\",\"male\",\"female\",null,\"male\",\"male\",\"male\",\"female\",\"male\",\"female\",\"male\",\"female\",\"male\",null,\"female\",\"male\",\"male\",\"male\",\"male\",\"male\",\"male\",\"male\",\"female\",\"male\",\"female\",\"male\",\"female\",\"male\",\"female\",\"male\",\"female\",\"female\",\"male\",\"male\",\"male\",\"female\",\"male\",\"male\",\"male\",\"male\",\"female\",\"male\",\"male\",\"female\",\"male\",\"male\",\"male\",\"male\",\"female\",\"female\",\"male\",\"female\",null,\"male\",\"female\",\"male\",\"male\",\"female\",null,\"female\",\"male\",\"female\",\"female\",\"female\",\"male\",\"female\",\"male\",\"female\",\"male\",\"male\",null,\"male\",\"male\",\"female\",\"female\",\"male\",\"female\",\"male\",\"male\",\"male\",\"male\",\"male\",null,\"female\",\"male\",\"female\",\"male\",\"male\",\"male\",\"male\",\"female\",\"female\",\"male\",\"female\",\"female\",\"female\",\"male\",\"male\",\"female\",\"male\",\"male\",\"male\",\"male\",\"female\",\"male\",\"male\",\"female\",\"female\",\"male\",\"female\",\"male\",\"male\",\"female\",\"male\",\"female\",\"female\",\"female\",\"male\",\"female\",\"male\",\"female\",\"female\",\"male\",\"male\",\"female\",\"female\",\"male\",\"female\",\"female\",\"female\",\"female\",\"female\",\"female\",\"female\",\"male\",\"female\",\"female\",\"male\",\"female\",\"male\",\"male\",\"female\",\"female\",\"male\",\"female\",\"female\",\"male\",\"female\",\"male\",\"male\",\"male\",\"female\",\"male\",\"male\",\"male\",\"male\",\"female\",\"female\",\"male\",\"female\",\"male\",\"male\",\"male\",\"male\",\"female\",null,\"female\",\"female\",\"female\",\"female\",\"female\",\"female\",\"male\",\"female\",\"female\",\"male\",\"male\",\"female\",\"female\",\"female\",\"male\",\"male\",\"female\",\"female\",\"female\",\"male\",\"male\",\"female\",\"female\",\"female\",\"male\",\"female\",\"female\",\"male\",\"male\",\"male\",\"female\",\"female\",\"female\",\"male\",\"female\",\"male\",\"male\",\"male\",\"female\",\"male\",null,\"female\",\"female\",\"male\",\"male\",\"female\",\"male\",\"male\",\"male\",null,\"male\",\"female\",\"female\",\"male\",null,\"male\",\"female\",\"male\",\"male\",\"male\",\"male\",\"male\",\"male\",null,null,\"male\",\"male\",\"male\",\"female\",\"female\",\"female\",\"male\",\"male\",\"male\",\"male\",\"female\",null,\"male\",\"female\",\"male\",\"male\",\"female\",null,\"male\",null,\"male\",\"female\",\"male\",\"male\",null,\"female\",\"male\",\"male\",\"female\",\"male\",\"female\",\"male\",\"male\",\"male\",\"female\",\"male\",\"male\",\"male\",\"female\",\"male\",\"female\",\"female\",\"male\",\"male\",\"female\",\"male\",\"male\",\"male\",\"male\",\"female\",\"male\",\"female\",\"female\",\"female\",\"female\",\"male\",\"male\",\"male\",\"female\",\"male\",\"female\",\"female\",\"female\",\"female\",\"female\",\"female\",\"male\",\"male\",\"male\",\"male\",\"female\",\"female\",\"female\",\"female\",\"female\",\"male\",\"female\",\"male\",\"female\",null,\"female\",\"female\",null,\"male\",\"female\",\"male\",\"male\",\"male\",\"female\",\"female\",\"male\",\"female\",\"male\",\"male\",\"male\",\"female\",\"female\",\"male\",\"male\",\"female\",\"female\",\"female\",\"male\",\"male\",\"female\",\"male\",\"male\",\"male\",\"female\",\"female\",\"male\",\"female\",\"male\",null,\"female\",\"male\",\"female\",\"male\",\"female\",null,\"female\",\"male\",\"female\",\"female\",\"female\",\"female\",null,\"male\",\"female\",\"male\",\"female\",\"female\",\"female\",\"female\",\"female\",\"female\",\"female\",\"female\",\"female\",\"female\",\"male\",\"male\",\"female\",\"female\",\"female\",\"male\",\"female\",\"male\",null,\"female\",\"male\",\"female\",null,\"female\",\"male\",\"male\",\"male\",\"male\",\"female\",\"male\",\"male\",\"male\",\"female\",null,\"female\",\"male\",\"female\",\"male\",\"male\",\"male\",\"male\",\"male\",\"male\",\"male\",\"female\",\"female\",\"female\",\"female\",\"male\",\"male\",\"female\",\"female\",\"male\",\"male\",\"female\",\"male\",\"male\",\"female\",\"female\",\"female\",\"male\",null,\"female\",\"female\",\"male\",\"male\",\"female\",\"female\",null,\"female\",null,\"male\",\"female\",\"female\",\"female\",\"female\",\"male\",\"female\",null,\"female\",\"female\",\"female\",\"female\",\"male\",\"male\",\"male\",\"female\",\"female\",null,\"female\",\"male\",\"male\",\"female\",\"female\",\"male\",\"female\",\"female\",\"female\",\"male\",\"male\",\"female\",\"female\",\"female\",\"female\",\"male\",\"male\",\"male\",\"male\",\"male\",\"female\",\"male\",\"male\",\"male\",\"female\",\"female\",\"male\",\"female\",\"female\",\"female\",\"female\",\"male\",null,\"male\",null,\"male\",\"male\",\"male\",\"male\",\"male\",\"male\",\"male\",null,\"female\",\"male\",\"male\",\"female\",\"male\",\"female\",\"female\",\"male\",\"female\",\"male\",\"male\",\"female\",\"female\",\"female\",\"female\",\"female\",\"female\",\"male\",\"female\",\"female\",\"female\",\"female\",\"male\",\"male\",\"male\",\"female\",\"male\",\"male\",\"female\",\"female\",\"male\",\"male\",\"male\",\"male\",\"female\",null,\"male\",\"male\",\"female\",\"male\",\"female\",\"female\",\"male\",\"female\",\"male\",\"male\",\"male\",\"male\",\"male\",\"male\",\"male\",\"female\",\"female\",\"female\",\"female\",\"male\",\"female\",\"female\",\"female\",\"male\",\"male\",\"male\",\"male\",\"female\",\"male\",\"male\",\"female\",\"male\",\"female\",\"female\",\"female\",\"female\",\"female\",\"female\",\"female\",\"female\",\"female\",\"female\",\"female\",\"female\",\"female\",\"male\",\"female\",\"male\",\"female\",\"male\",\"female\",\"male\",\"female\",\"female\",\"female\",\"male\",\"male\",\"female\",\"male\",\"male\",\"male\",\"female\",\"male\",\"female\",\"male\",\"female\",\"male\",\"female\",\"male\",\"male\",\"female\",\"female\",\"male\",\"male\",\"female\",\"male\",null,\"male\",\"female\",\"female\",\"male\",\"male\",\"male\",\"male\",\"female\",\"male\",\"female\",\"female\",\"male\",\"male\",\"female\",\"male\",\"male\",\"female\",\"male\",\"female\",\"female\",\"female\",\"female\",\"female\",\"male\",\"male\",\"female\",\"female\",\"male\",\"female\",\"female\",\"male\",\"male\",\"female\",\"male\",\"male\",\"female\",\"female\",\"male\",\"female\",\"female\",\"female\",\"female\",\"male\",\"male\",\"female\",\"female\",\"male\",\"male\",\"female\",\"male\",\"female\",\"male\",\"male\",\"male\",\"female\",\"male\",\"male\",\"female\",\"male\",\"female\",\"female\",null,\"female\",\"female\",\"male\",\"male\",\"female\",\"female\",\"female\",\"male\",\"female\",null,\"female\",\"female\",\"male\",\"male\",\"female\",\"male\",\"male\",\"female\",\"male\",\"female\",\"male\",\"male\",\"female\",\"male\",\"male\",\"female\",\"female\",\"female\",\"male\",\"male\",\"male\",\"female\",null,null,\"male\",\"male\",\"male\",\"female\",\"female\",null,\"male\",\"male\",\"male\",null,\"male\",\"female\",\"female\",\"male\",\"female\",null,\"female\",\"male\",\"female\",\"female\",\"female\",\"female\",\"female\",\"female\",\"male\",\"male\",\"female\",\"male\",\"female\",\"male\",\"male\",\"male\",\"male\",\"female\",\"male\",\"female\",null],\"shape\":[2000],\"dtype\":\"object\",\"order\":\"little\"}],[\"age\",{\"type\":\"ndarray\",\"array\":{\"type\":\"bytes\",\"data\":\"AAAAAACAREAAAAAAAIBOQAAAAAAAgEBAAAAAAACATkAAAAAAAIBAQAAAAAAAADhAAAAAAAAAO0AAAAAAAEBSQAAAAAAAADtAAAAAAAAAPUAAAAAAAGBqQAAAAAAAADlAAAAAAAAANkAAAAAAAABDQAAAAAAA4GtAAAAAAAAAPkAAAAAAAABPQAAAAAAAADtAAAAAAACATEAAAAAAAIBGQAAAAAAAgEtAAAAAAACAaUAAAAAAAABKQAAAAAAAAENAAAAAAAAAQUAAAAAAAIBGQAAAAAAAwFBAAAAAAAAAU8AAAAAAAIBEQAAAAAAAADpAAAAAAAAATEAAAAAAAMBRQAAAAAAAgEJAAAAAAAAAWMAAAAAAAABRQAAAAAAAAEtAAAAAAAAAPkAAAAAAAAAxQAAAAAAAAE1AAAAAAACAREAAAAAAAAA4QAAAAAAAgENAAAAAAAAATUAAAAAAAIBEQAAAAAAAgEhAAAAAAADAU8AAAAAAAABPQAAAAAAAADNAAAAAAACAREAAAAAAAAA7QAAAAAAAADVAAAAAAACAQ0AAAAAAAAAwQAAAAAAAAEdAAAAAAAAASUAAAAAAAAA3QAAAAAAAgE5AAAAAAACASUAAAAAAAABGQAAAAAAAADdAAAAAAAAAR0AAAAAAAABOQAAAAAAAwFBAAAAAAAAAMkAAAAAAAABQQAAAAAAA4GtAAAAAAAAAO0AAAAAAAIBQQAAAAAAAgEVAAAAAAACARkAAAAAAAGBrQAAAAAAAwFBAAAAAAAAAUEAAAAAAAAA8QAAAAAAAAFBAAAAAAAAALkAAAAAAAIBOQAAAAAAAgFFAAAAAAAAATUAAAAAAAIBGQAAAAAAAgEZAAAAAAAAARkAAAAAAAAA7QAAAAAAAADFAAAAAAACARkAAAAAAAAA7QAAAAAAAAD1AAAAAAABAUUAAAAAAAMBXwAAAAAAAADxAAAAAAABAUEAAAAAAAABJQAAAAAAAgFTAAAAAAACAR0AAAAAAAIBGQAAAAAAAADxAAAAAAACASEAAAAAAAABGQAAAAAAAAE9AAAAAAACAR0AAAAAAAIBPQAAAAAAAQFJAAAAAAACATUAAAAAAAABGQAAAAAAAwFBAAAAAAAAAPkAAAAAAAIBCQAAAAAAAgEVAAAAAAAAAV8AAAAAAAAA8QAAAAAAAQFJAAAAAAAAASEAAAAAAAMBQQAAAAAAAAGxAAAAAAAAAOkAAAAAAAIBJQAAAAAAAgEJAAAAAAACAUEAAAAAAAMBRQAAAAAAAIGpAAAAAAACARUAAAAAAAABqQAAAAAAAgEZAAAAAAAAAQUAAAAAAAIBFQAAAAAAAgFJAAAAAAACARkAAAAAAAEBQQAAAAAAAADxAAAAAAABAUkAAAAAAAABOQAAAAAAAgE5AAAAAAAAATUAAAAAAAAA+QAAAAAAAADtAAAAAAACAQUAAAAAAAABIQAAAAAAAgFFAAAAAAAAAOkAAAAAAAABCQAAAAAAAgEtAAAAAAAAALkAAAAAAAIBAQAAAAAAAAD1AAAAAAABAUkAAAAAAAABKQAAAAAAAAEFAAAAAAADAUEAAAAAAAIBOQAAAAAAAAFFAAAAAAACAUkAAAAAAAIBMQAAAAAAAAEdAAAAAAAAAQEAAAAAAAIBRQAAAAAAAgERAAAAAAAAAUUAAAAAAAAA7QAAAAAAAgFPAAAAAAACASkAAAAAAAIBSQAAAAAAAgENAAAAAAACAQUAAAAAAAABPQAAAAAAAgEZAAAAAAABAVcAAAAAAAABNQAAAAAAAAEVAAAAAAACARUAAAAAAAIBBQAAAAAAAADxAAAAAAACAQ0AAAAAAAAAuQAAAAAAAAENAAAAAAACARkAAAAAAAEBRQAAAAAAAgEZAAAAAAACARkAAAAAAAABFQAAAAAAAgE9AAAAAAACARkAAAAAAAIBGQAAAAAAAgEdAAAAAAABAUEAAAAAAAIBJQAAAAAAAAEVAAAAAAACAUkAAAAAAAIBFQAAAAAAAAD1AAAAAAACAUkAAAAAAAEBTwAAAAAAAAEdAAAAAAAAAM0AAAAAAAIBOQAAAAAAAoGpAAAAAAADAUEAAAAAAAABIQAAAAAAAgEZAAAAAAAAAT0AAAAAAAAA1QAAAAAAAAEJAAAAAAAAATkAAAAAAAIBGQAAAAAAAAEpAAAAAAACAR0AAAAAAAIBHQAAAAAAAgERAAAAAAAAAVMAAAAAAAEBSQAAAAAAAAEBAAAAAAAAATUAAAAAAAAAxQAAAAAAAADNAAAAAAADAUEAAAAAAAAAuQAAAAAAAAEVAAAAAAABAUUAAAAAAAABAQAAAAAAAAENAAAAAAACASEAAAAAAAAAwQAAAAAAAAE9AAAAAAAAANUAAAAAAAIBBQAAAAAAAIGpAAAAAAACAUEAAAAAAAABJQAAAAAAAQFBAAAAAAAAAOUAAAAAAAABEQAAAAAAAAEFAAAAAAADAUEAAAAAAAEBQQAAAAAAAAEJAAAAAAACAR0AAAAAAAIBCQAAAAAAAADJAAAAAAAAANEAAAAAAAEBQQAAAAAAAAEdAAAAAAACAUkAAAAAAAIBNQAAAAAAAAFJAAAAAAACASUAAAAAAAAA1QAAAAAAAgEJAAAAAAABAVMAAAAAAAAA5QAAAAAAAAEBAAAAAAADAUEAAAAAAAABFQAAAAAAAADFAAAAAAAAAOEAAAAAAAEBUwAAAAAAAgE5AAAAAAADAUEAAAAAAAEBSQAAAAAAAYGpAAAAAAACAQ0AAAAAAAIBEQAAAAAAAgEBAAAAAAACARkAAAAAAAMBQQAAAAAAAwFBAAAAAAACARkAAAAAAAABRQAAAAAAAAEZAAAAAAAAAMUAAAAAAAABIQAAAAAAAAD5AAAAAAAAAQkAAAAAAAAAuQAAAAAAAAGpAAAAAAACASUAAAAAAAMBrQAAAAAAAAERAAAAAAACAR0AAAAAAAIBHQAAAAAAAAEJAAAAAAAAAa0AAAAAAAAAwQAAAAAAAAENAAAAAAAAALkAAAAAAAAA9QAAAAAAAgElAAAAAAACAQUAAAAAAAABKQAAAAAAAgE9AAAAAAAAAQUAAAAAAAIBQQAAAAAAAgE1AAAAAAAAAQUAAAAAAAAA+QAAAAAAAgEdAAAAAAACAUEAAAAAAAEBSQAAAAAAAADJAAAAAAAAAPkAAAAAAAABHQAAAAAAAgE1AAAAAAACAS0AAAAAAAIBVwAAAAAAAgFFAAAAAAACASkAAAAAAAMBQQAAAAAAAAEBAAAAAAACAS0AAAAAAAMBVwAAAAAAAAEdAAAAAAACATEAAAAAAAABFQAAAAAAAADZAAAAAAAAAS0AAAAAAAIBVwAAAAAAAQFXAAAAAAAAARUAAAAAAAIBMQAAAAAAAgENAAAAAAAAAP0AAAAAAAIBGQAAAAAAAgElAAAAAAAAAT0AAAAAAAIBIQAAAAAAAAEpAAAAAAAAARkAAAAAAAAA5QAAAAAAAAE9AAAAAAACARkAAAAAAAIBGQAAAAAAAAEBAAAAAAAAAUUAAAAAAAMBRQAAAAAAAADJAAAAAAABAakAAAAAAAABIQAAAAAAAgE1AAAAAAABAUUAAAAAAAABRQAAAAAAAQFFAAAAAAAAAM0AAAAAAAIBIQAAAAAAAgEhAAAAAAACARkAAAAAAAIBIQAAAAAAAgExAAAAAAACATUAAAAAAAAAxQAAAAAAAAC5AAAAAAACARkAAAAAAAIBAQAAAAAAAgEFAAAAAAACARkAAAAAAAIBSQAAAAAAAgFbAAAAAAADAa0AAAAAAAABPQAAAAAAAAE5AAAAAAACATUAAAAAAAABDQAAAAAAAADBAAAAAAACASEAAAAAAAABCQAAAAAAAwFXAAAAAAACARkAAAAAAAABQQAAAAAAAgFFAAAAAAAAAO0AAAAAAAIBLQAAAAAAAAERAAAAAAAAAQUAAAAAAAABSQAAAAAAAAFBAAAAAAAAAN0AAAAAAAABGQAAAAAAAwFFAAAAAAAAAUUAAAAAAAIBGQAAAAAAAAD1AAAAAAAAAR0AAAAAAAIBPQAAAAAAAADNAAAAAAACARkAAAAAAAAA6QAAAAAAAADRAAAAAAABAakAAAAAAAIBSQAAAAAAAAEFAAAAAAAAATUAAAAAAAEBQQAAAAAAAgE5AAAAAAAAAQEAAAAAAAEBSQAAAAAAAgEJAAAAAAAAAS0AAAAAAAAA5QAAAAAAAgEZAAAAAAAAATkAAAAAAAAAxQAAAAAAAgFFAAAAAAAAANkAAAAAAAABMQAAAAAAAwFBAAAAAAAAAMkAAAAAAAABNQAAAAAAAgE1AAAAAAACAQUAAAAAAAAAzQAAAAAAAgGlAAAAAAACARkAAAAAAAAAsQAAAAAAAgENAAAAAAAAARkAAAAAAAMBQQAAAAAAAAE5AAAAAAAAAQkAAAAAAAIBGQAAAAAAAAE5AAAAAAACAT0AAAAAAAABDQAAAAAAAgEZAAAAAAACARUAAAAAAAAA6QAAAAAAAgEtAAAAAAACAUkAAAAAAAAA+QAAAAAAAAEZAAAAAAAAARUAAAAAAAABFQAAAAAAAAD9AAAAAAAAAQkAAAAAAAIBJQAAAAAAAQFBAAAAAAAAAMEAAAAAAAABBQAAAAAAA4GtAAAAAAAAAQ0AAAAAAAAAzQAAAAAAAAD9AAAAAAAAATUAAAAAAAIBVwAAAAAAAgFJAAAAAAACAUUAAAAAAAABDQAAAAAAAADRAAAAAAAAASkAAAAAAAABGQAAAAAAAAEdAAAAAAAAAT0AAAAAAAAA2QAAAAAAAwFfAAAAAAACARkAAAAAAAABBQAAAAAAAAEpAAAAAAACga0AAAAAAAIBHQAAAAAAAADdAAAAAAACAQ0AAAAAAAIBSQAAAAAAAgEZAAAAAAAAAR0AAAAAAAEBRQAAAAAAAADtAAAAAAACAREAAAAAAAIBpQAAAAAAAAE5AAAAAAACAQEAAAAAAAEBQQAAAAAAAADVAAAAAAACARkAAAAAAAIBAQAAAAAAAADNAAAAAAAAAPUAAAAAAAIBAQAAAAAAAAFfAAAAAAAAALkAAAAAAAABJQAAAAAAAAEBAAAAAAAAAOEAAAAAAAAA9QAAAAAAAgENAAAAAAACASkAAAAAAAAA/QAAAAAAAAEdAAAAAAAAAMUAAAAAAAAA/QAAAAAAAAEhAAAAAAACAR0AAAAAAAIBLQAAAAAAAADxAAAAAAACARkAAAAAAAIBGQAAAAAAAAExAAAAAAACARkAAAAAAAIBXwAAAAAAAAE1AAAAAAACAQEAAAAAAAEBrQAAAAAAAgExAAAAAAACATUAAAAAAAABJQAAAAAAAQFXAAAAAAAAAQ0AAAAAAAABHQAAAAAAAAEtAAAAAAACAREAAAAAAAIBPQAAAAAAAgEBAAAAAAACATEAAAAAAAIBLQAAAAAAAADhAAAAAAAAAT0AAAAAAAIBEQAAAAAAAAEJAAAAAAACAU8AAAAAAAIBFQAAAAAAAADlAAAAAAAAARkAAAAAAAAAwQAAAAAAAgEVAAAAAAADAU8AAAAAAAABQQAAAAAAAAEFAAAAAAACAS0AAAAAAAIBSQAAAAAAAAFJAAAAAAAAAPkAAAAAAAABLQAAAAAAAgEhAAAAAAACATkAAAAAAAIBQQAAAAAAAwFTAAAAAAACAUkAAAAAAAAAxQAAAAAAAADlAAAAAAADAUUAAAAAAAIBKQAAAAAAAgEVAAAAAAAAARUAAAAAAAIBQQAAAAAAAADNAAAAAAACAS0AAAAAAAABQQAAAAAAAADFAAAAAAAAAO0AAAAAAAAA2QAAAAAAAgFFAAAAAAAAATEAAAAAAAEBQQAAAAAAAgEZAAAAAAABAUkAAAAAAAABDQAAAAAAAgEpAAAAAAAAANkAAAAAAAMBRQAAAAAAAQFJAAAAAAABAUEAAAAAAAAAzQAAAAAAAgExAAAAAAAAAM0AAAAAAAIBDQAAAAAAAwFBAAAAAAAAAN0AAAAAAAAAuQAAAAAAAAEpAAAAAAAAASUAAAAAAAAA9QAAAAAAAADhAAAAAAAAAQUAAAAAAAIBKQAAAAAAAADxAAAAAAAAAOEAAAAAAAAAzQAAAAAAAAE5AAAAAAABAUUAAAAAAAIBSQAAAAAAAAFBAAAAAAACAQkAAAAAAAIBPQAAAAAAAgEpAAAAAAAAAPkAAAAAAAIBRQAAAAAAAAE1AAAAAAACATkAAAAAAAIBHQAAAAAAAQFJAAAAAAAAAOEAAAAAAAAAuQAAAAAAAgENAAAAAAAAAMEAAAAAAAIBFQAAAAAAAgENAAAAAAABAUUAAAAAAAAAsQAAAAAAAAFBAAAAAAAAAOUAAAAAAAIBSQAAAAAAAADVAAAAAAAAAQ0AAAAAAAIBGQAAAAAAAgEZAAAAAAACAR0AAAAAAAIBGQAAAAAAAADNAAAAAAACATkAAAAAAAIBHQAAAAAAAADBAAAAAAAAAS0AAAAAAAABNQAAAAAAAgEFAAAAAAAAATEAAAAAAAABAQAAAAAAAADxAAAAAAAAAUkAAAAAAAABQQAAAAAAAAENAAAAAAAAAQ0AAAAAAAIBTwAAAAAAAADlAAAAAAAAAVcAAAAAAAMBRQAAAAAAAgEhAAAAAAACAQkAAAAAAAABUwAAAAAAAADtAAAAAAADAUUAAAAAAAABRQAAAAAAAgEFAAAAAAAAAPkAAAAAAAABPQAAAAAAAAEVAAAAAAACAVMAAAAAAAABNQAAAAAAAADlAAAAAAACAUkAAAAAAAEBSQAAAAAAAgEtAAAAAAAAATUAAAAAAAABQQAAAAAAAgE1AAAAAAAAARkAAAAAAAIBKQAAAAAAAwFBAAAAAAAAAQUAAAAAAAAA9QAAAAAAAAElAAAAAAACAQEAAAAAAAAA0QAAAAAAAgEBAAAAAAADAUUAAAAAAAEBRQAAAAAAAgFFAAAAAAACAT0AAAAAAAAA6QAAAAAAAgEJAAAAAAAAAUUAAAAAAAIBPQAAAAAAAgExAAAAAAAAARkAAAAAAAIBCQAAAAAAAAE9AAAAAAAAANUAAAAAAAAA1QAAAAAAAADdAAAAAAAAARkAAAAAAAIBMQAAAAAAAADRAAAAAAAAAT0AAAAAAAABJQAAAAAAAAC5AAAAAAACARUAAAAAAAAAuQAAAAAAAADlAAAAAAACAR0AAAAAAAAA5QAAAAAAAgFTAAAAAAADAUUAAAAAAAKBpQAAAAAAAgEZAAAAAAAAAS0AAAAAAAIBBQAAAAAAAADhAAAAAAAAAPUAAAAAAAIBGQAAAAAAAgEFAAAAAAAAANkAAAAAAAIBDQAAAAAAAADJAAAAAAAAATUAAAAAAAAAzQAAAAAAAAEtAAAAAAAAALkAAAAAAAABJQAAAAAAAAFJAAAAAAADAUUAAAAAAAIBGQAAAAAAAADVAAAAAAABAUkAAAAAAAAA4QAAAAAAAAEhAAAAAAAAANkAAAAAAAABKQAAAAAAAIGtAAAAAAAAAPkAAAAAAAABQQAAAAAAAgEJAAAAAAAAAT0AAAAAAAIBGQAAAAAAAgEJAAAAAAACAQEAAAAAAAEBVwAAAAAAAgEZAAAAAAAAAM0AAAAAAAABPQAAAAAAAAE1AAAAAAACASkAAAAAAAIBDQAAAAAAAADFAAAAAAAAAQUAAAAAAAEBVwAAAAAAAAEJAAAAAAAAATUAAAAAAAABBQAAAAAAAAEFAAAAAAAAAQ0AAAAAAAABGQAAAAAAAwFFAAAAAAAAAR0AAAAAAAIBOQAAAAAAAAD9AAAAAAAAAO0AAAAAAAABPQAAAAAAAAEZAAAAAAAAAR0AAAAAAAABJQAAAAAAAgElAAAAAAAAAMkAAAAAAAABCQAAAAAAAADhAAAAAAADgaUAAAAAAAAA/QAAAAAAAQFFAAAAAAAAARkAAAAAAAABFQAAAAAAAgEZAAAAAAAAATkAAAAAAAOBqQAAAAAAAgEpAAAAAAAAAT0AAAAAAAABIQAAAAAAAAD9AAAAAAAAANUAAAAAAAAA5QAAAAAAAAEhAAAAAAACAS0AAAAAAAABBQAAAAAAAAEtAAAAAAAAAUkAAAAAAAABRQAAAAAAAoGlAAAAAAABAUkAAAAAAAABBQAAAAAAAgERAAAAAAACARkAAAAAAAAA1QAAAAAAAgFJAAAAAAAAANUAAAAAAAIBCQAAAAAAAgE5AAAAAAAAANEAAAAAAAEBUwAAAAAAAgEZAAAAAAACAUUAAAAAAAABCQAAAAAAAQFBAAAAAAACAV8AAAAAAAAA2QAAAAAAAQFJAAAAAAACAUUAAAAAAAIBQQAAAAAAAgEdAAAAAAACAREAAAAAAAMBUwAAAAAAAwFbAAAAAAAAAMUAAAAAAAAA6QAAAAAAAgElAAAAAAACATkAAAAAAAIBMQAAAAAAAADRAAAAAAAAAOEAAAAAAAIBCQAAAAAAAoGpAAAAAAAAARkAAAAAAAABAQAAAAAAAADJAAAAAAAAANEAAAAAAAAAxQAAAAAAAAFFAAAAAAADAU8AAAAAAAIBSQAAAAAAAwFTAAAAAAACAR0AAAAAAAAA2QAAAAAAAAExAAAAAAAAALkAAAAAAAAAyQAAAAAAAADVAAAAAAAAAPkAAAAAAAABNQAAAAAAAwGlAAAAAAAAATUAAAAAAAIBMQAAAAAAAACxAAAAAAAAAMUAAAAAAAAAwQAAAAAAAgE1AAAAAAACAREAAAAAAAABIQAAAAAAAAEZAAAAAAAAAQ0AAAAAAAAAuQAAAAAAAgENAAAAAAACARkAAAAAAAIBDQAAAAAAAgEdAAAAAAAAAQUAAAAAAAABOQAAAAAAAADFAAAAAAACAUUAAAAAAAEBQQAAAAAAAIGpAAAAAAAAANUAAAAAAACBqQAAAAAAAAEhAAAAAAACARkAAAAAAAABHQAAAAAAAADdAAAAAAAAALEAAAAAAAMBpQAAAAAAAADxAAAAAAAAAOkAAAAAAAIBGQAAAAAAAgElAAAAAAAAATkAAAAAAAAAuQAAAAAAAAFXAAAAAAAAANkAAAAAAAMBQQAAAAAAAgExAAAAAAAAAREAAAAAAAIBQQAAAAAAAgE9AAAAAAAAAT0AAAAAAAEBQQAAAAAAAgFPAAAAAAAAASUAAAAAAAGBqQAAAAAAAADtAAAAAAACARkAAAAAAAAA4QAAAAAAAAEZAAAAAAAAAUkAAAAAAAIBIQAAAAAAAIGtAAAAAAACAQUAAAAAAAIBMQAAAAAAAgEZAAAAAAAAAMEAAAAAAAMBXwAAAAAAAAD5AAAAAAAAAUkAAAAAAAABJQAAAAAAAAEhAAAAAAACASEAAAAAAAABIQAAAAAAAADlAAAAAAADAU8AAAAAAAABLQAAAAAAAgElAAAAAAAAAM0AAAAAAAAA5QAAAAAAAADZAAAAAAADgaUAAAAAAAIBJQAAAAAAAAENAAAAAAAAAQkAAAAAAAIBQQAAAAAAAAD1AAAAAAAAASUAAAAAAAABMQAAAAAAAgEBAAAAAAAAASEAAAAAAAABLQAAAAAAAAE9AAAAAAAAAUkAAAAAAAIBHQAAAAAAAgE5AAAAAAAAAOEAAAAAAAIBFQAAAAAAAADpAAAAAAAAAPkAAAAAAAIBNQAAAAAAAgEZAAAAAAACATEAAAAAAAIBCQAAAAAAAwFPAAAAAAAAAMEAAAAAAAIBGQAAAAAAAgENAAAAAAAAAOEAAAAAAAAA6QAAAAAAAgFFAAAAAAACAQ0AAAAAAAEBrQAAAAAAAwFFAAAAAAAAAUUAAAAAAAIBAQAAAAAAAgEBAAAAAAACAQUAAAAAAAABSQAAAAAAAADBAAAAAAAAAP0AAAAAAAMBQQAAAAAAAAEVAAAAAAABAUEAAAAAAAIBWwAAAAAAAAFjAAAAAAACASUAAAAAAAABQQAAAAAAAgE5AAAAAAACATEAAAAAAAABNQAAAAAAAADRAAAAAAAAAPUAAAAAAAAAwQAAAAAAAQFFAAAAAAAAAOkAAAAAAAIBGQAAAAAAAwFFAAAAAAACARkAAAAAAAEBQQAAAAAAAwFfAAAAAAAAAbEAAAAAAAABLQAAAAAAAAExAAAAAAAAAVcAAAAAAAIBEQAAAAAAAQFJAAAAAAAAAUUAAAAAAAABSQAAAAAAAAEFAAAAAAACAQ0AAAAAAAIBAQAAAAAAAQFPAAAAAAAAga0AAAAAAAAAzQAAAAAAAAGpAAAAAAAAAQUAAAAAAAABAQAAAAAAAAEZAAAAAAAAAOEAAAAAAAABLQAAAAAAAQFFAAAAAAAAAOEAAAAAAAIBSQAAAAAAAgEZAAAAAAAAAREAAAAAAAAA+QAAAAAAAAEdAAAAAAADgaUAAAAAAAABEQAAAAAAAwFBAAAAAAADgaUAAAAAAAIBMQAAAAAAAAEdAAAAAAACASEAAAAAAAIBCQAAAAAAAAGxAAAAAAAAAN0AAAAAAAEBQQAAAAAAAgE9AAAAAAACARUAAAAAAAABJQAAAAAAAgFJAAAAAAAAAP0AAAAAAAAAzQAAAAAAAgEZAAAAAAACATEAAAAAAAIBKQAAAAAAAAEdAAAAAAACga0AAAAAAAIBNQAAAAAAAgEtAAAAAAACASUAAAAAAAAA5QAAAAAAAADNAAAAAAAAATEAAAAAAAABGQAAAAAAAAFBAAAAAAACASEAAAAAAAIBBQAAAAAAAAEFAAAAAAAAAQEAAAAAAAIBGQAAAAAAAAC5AAAAAAAAASEAAAAAAAAAwQAAAAAAAADhAAAAAAAAAM0AAAAAAAIBNQAAAAAAAgEZAAAAAAACAUUAAAAAAAAA7QAAAAAAAAFJAAAAAAAAAVcAAAAAAAAA7QAAAAAAAQFFAAAAAAAAAQUAAAAAAAIBGQAAAAAAAADdAAAAAAAAATEAAAAAAAIBHQAAAAAAAwFPAAAAAAAAALkAAAAAAAABFQAAAAAAAAEVAAAAAAAAAMkAAAAAAAIBKQAAAAAAAAE1AAAAAAAAAMkAAAAAAAEBQQAAAAAAAAD1AAAAAAACATkAAAAAAAAA9QAAAAAAAgERAAAAAAAAANUAAAAAAAAA/QAAAAAAAAEBAAAAAAAAAUUAAAAAAAAA6QAAAAAAAADBAAAAAAACAQUAAAAAAAABFQAAAAAAAADRAAAAAAAAASkAAAAAAAABUwAAAAAAAADpAAAAAAACATEAAAAAAAAA7QAAAAAAAADJAAAAAAAAASUAAAAAAAIBTwAAAAAAAADhAAAAAAACATEAAAAAAAIBAQAAAAAAAAEdAAAAAAAAATUAAAAAAAABJQAAAAAAAwFXAAAAAAABAUEAAAAAAAIBBQAAAAAAAAExAAAAAAAAAUEAAAAAAAABAQAAAAAAAADRAAAAAAAAANkAAAAAAAOBqQAAAAAAAgExAAAAAAAAATkAAAAAAAEBqQAAAAAAAAElAAAAAAACAUkAAAAAAAIBGQAAAAAAAADFAAAAAAAAAMUAAAAAAAEBSQAAAAAAAYGtAAAAAAACAT0AAAAAAAAA7QAAAAAAAgEdAAAAAAAAAM0AAAAAAAAA/QAAAAAAAgFBAAAAAAAAASEAAAAAAAIBMQAAAAAAAgEZAAAAAAAAAN0AAAAAAAABRQAAAAAAAAE5AAAAAAACARUAAAAAAAAA3QAAAAAAAQFBAAAAAAAAAQ0AAAAAAAIBPQAAAAAAAgEBAAAAAAAAAS0AAAAAAAIBIQAAAAAAAQFBAAAAAAACASkAAAAAAAABJQAAAAAAAAEdAAAAAAAAAUEAAAAAAAEBqQAAAAAAAAFfAAAAAAAAARUAAAAAAAIBDQAAAAAAAgEZAAAAAAAAARUAAAAAAAIBMQAAAAAAAgFfAAAAAAABgakAAAAAAAIBDQAAAAAAAAEZAAAAAAAAANUAAAAAAAABAQAAAAAAAAEJAAAAAAAAATkAAAAAAAAAyQAAAAAAAADVAAAAAAAAAR0AAAAAAAIBHQAAAAAAAgGpAAAAAAACARUAAAAAAAABOQAAAAAAAAEdAAAAAAACARkAAAAAAAABJQAAAAAAAAC5AAAAAAAAAVcAAAAAAAIBNQAAAAAAAADxAAAAAAAAANkAAAAAAAAAuQAAAAAAAADxAAAAAAAAAQ0AAAAAAAABSQAAAAAAAAE9AAAAAAACARkAAAAAAAIBAQAAAAAAAwFBAAAAAAAAAMUAAAAAAAABAQAAAAAAAAEhAAAAAAAAASEAAAAAAAAAwQAAAAAAAAE1AAAAAAACARkAAAAAAAIBGQAAAAAAAgE1AAAAAAAAATUAAAAAAAABCQAAAAAAAADNAAAAAAAAAN0AAAAAAAIBPQAAAAAAAAEZAAAAAAAAANEAAAAAAAABAQAAAAAAAAFFAAAAAAAAAT0AAAAAAAIBBQAAAAAAAwFTAAAAAAAAANEAAAAAAAABRQAAAAAAAAC5AAAAAAAAATEAAAAAAAABHQAAAAAAAgFJAAAAAAAAARkAAAAAAAAAzQAAAAAAAgE5AAAAAAAAAM0AAAAAAAIBGQAAAAAAAAENAAAAAAACAQ0AAAAAAAABqQAAAAAAAgEBAAAAAAAAAM0AAAAAAAAAyQAAAAAAAADtAAAAAAACARkAAAAAAAIBJQAAAAAAAADlAAAAAAAAAMkAAAAAAAAA2QAAAAAAAwFFAAAAAAAAASkAAAAAAAAA7QAAAAAAAgFBAAAAAAABAa0AAAAAAAIBEQAAAAAAAgFFAAAAAAADAUUAAAAAAAEBSQAAAAAAAgEtAAAAAAACASEAAAAAAAAA2QAAAAAAAADNAAAAAAAAAPEAAAAAAAABAQAAAAAAAgEZAAAAAAAAAQUAAAAAAAAA/QAAAAAAAgElAAAAAAAAAP0AAAAAAAEBQQAAAAAAAAE1AAAAAAACARkAAAAAAAIBSQAAAAAAAADhAAAAAAAAASkAAAAAAAIBGQAAAAAAAgE9AAAAAAACARkAAAAAAAMBXwAAAAAAAAElAAAAAAAAAN0AAAAAAAAA0QAAAAAAAAEJAAAAAAAAAT0AAAAAAAABIQAAAAAAAAD5AAAAAAACAakAAAAAAAIBQQAAAAAAAAExAAAAAAAAALkAAAAAAAIBrQAAAAAAAAEJAAAAAAADAUUAAAAAAAABQQAAAAAAAgEJAAAAAAACAQEAAAAAAAAA5QAAAAAAAAE5AAAAAAAAAP0AAAAAAAABAQAAAAAAAADFAAAAAAADgaUAAAAAAAABBQAAAAAAAYGtAAAAAAAAAS0AAAAAAAABGQAAAAAAAAE5AAAAAAAAATkAAAAAAAABGQAAAAAAAADdAAAAAAACARkAAAAAAAAAyQAAAAAAAADFAAAAAAAAAUEAAAAAAAMBVwAAAAAAAgElAAAAAAAAAQEAAAAAAAIBOQAAAAAAAADhAAAAAAAAAN0AAAAAAAIBHQAAAAAAAADJAAAAAAAAAOEAAAAAAAABRQAAAAAAAAEJAAAAAAAAAN0AAAAAAAAA9QAAAAAAAgFBAAAAAAACARUAAAAAAAIBKQAAAAAAAgEZAAAAAAAAASEAAAAAAAAA7QAAAAAAAgERAAAAAAAAAS0AAAAAAAEBqQAAAAAAAAEdAAAAAAAAAPkAAAAAAAIBLQAAAAAAAgEpAAAAAAAAATEAAAAAAAABRQAAAAAAAADJAAAAAAAAANEAAAAAAAMBRQAAAAAAAADVAAAAAAAAAMUAAAAAAAABEQAAAAAAAADxAAAAAAAAAP0AAAAAAAIBKQAAAAAAAAEhAAAAAAACARUAAAAAAAABPQAAAAAAAAEVAAAAAAAAAP0AAAAAAAIBQQAAAAAAAgEZAAAAAAADAVMAAAAAAAIBQQAAAAAAAADxAAAAAAACARkAAAAAAAIBJQAAAAAAAgEZAAAAAAAAARUAAAAAAAAAyQAAAAAAAAD5AAAAAAACAUUAAAAAAAABRQAAAAAAAgEZAAAAAAACAS0AAAAAAAAAxQAAAAAAAgEFAAAAAAAAATUAAAAAAAABQQAAAAAAAwFBAAAAAAAAAMEAAAAAAAAAxQAAAAAAAQFBAAAAAAAAAQkAAAAAAACBrQAAAAAAAoGpAAAAAAACASEAAAAAAAABLQAAAAAAAAD5AAAAAAAAAOkAAAAAAAABGQAAAAAAAgEJAAAAAAAAAPkAAAAAAAABEQAAAAAAAAExAAAAAAACARkAAAAAAAABPQAAAAAAAgFFAAAAAAAAAREAAAAAAAABBQAAAAAAAAEFAAAAAAADAV8AAAAAAAIBJQAAAAAAAgEhAAAAAAABAUUAAAAAAAABqQAAAAAAAgEtAAAAAAAAAbEAAAAAAAIBHQAAAAAAAAEtAAAAAAAAAQ0AAAAAAAABKQAAAAAAAADNAAAAAAACAQEAAAAAAAIBGQAAAAAAAAElAAAAAAAAgakAAAAAAAEBRQAAAAAAAgFTAAAAAAACAUkAAAAAAAAA4QAAAAAAAQGpAAAAAAACASEAAAAAAAIBNQAAAAAAAADRAAAAAAADAaUAAAAAAAAA/QAAAAAAAQGpAAAAAAAAAP0AAAAAAAABRQAAAAAAAgE1AAAAAAAAAa0AAAAAAAABGQAAAAAAAAFJAAAAAAAAAUkAAAAAAAAA6QAAAAAAAAEFAAAAAAACAakAAAAAAAAA2QAAAAAAAQFJAAAAAAACAVsAAAAAAAIBLQAAAAAAAAD9AAAAAAAAAVsAAAAAAAABCQAAAAAAAAEFAAAAAAABAVMAAAAAAAIBGQAAAAAAAYGtAAAAAAAAASkAAAAAAAAA+QAAAAAAAgE5AAAAAAACAUEAAAAAAAIBKQAAAAAAAwFBAAAAAAAAAPEAAAAAAAABHQAAAAAAAgEZAAAAAAAAAQUAAAAAAAAA4QAAAAAAAQFBAAAAAAACAUUAAAAAAAAAzQAAAAAAAgEZAAAAAAAAAMUAAAAAAAIBQQAAAAAAAAEhAAAAAAACAaUAAAAAAAAA8QAAAAAAAADpAAAAAAADAUEAAAAAAAIBqQAAAAAAAAFbAAAAAAABAUUAAAAAAAABAQAAAAAAAgEJAAAAAAADAVsAAAAAAAIBXwAAAAAAAAEpAAAAAAAAAPUAAAAAAAABTwAAAAAAAQFFAAAAAAACARkAAAAAAAABKQAAAAAAAgEFAAAAAAACATkAAAAAAAIBFQAAAAAAAgElAAAAAAAAARkAAAAAAAABNQAAAAAAAAEhAAAAAAACAQkAAAAAAAAA7QAAAAAAAwFBAAAAAAAAAQkAAAAAAACBrQAAAAAAAgENAAAAAAAAAQkAAAAAAAABPQAAAAAAAADFAAAAAAAAANUAAAAAAAAAuQAAAAAAAADRAAAAAAAAAMEAAAAAAAIBPQAAAAAAAgE5AAAAAAADga0AAAAAAAAAwQAAAAAAAAExAAAAAAADAVsAAAAAAAAA4QAAAAAAAgEZAAAAAAAAAP0AAAAAAAIBIQAAAAAAAADJAAAAAAAAAOEAAAAAAAABCQAAAAAAAAEtAAAAAAAAAQUAAAAAAAABIQAAAAAAAgERAAAAAAAAATkAAAAAAAIBLQAAAAAAAADZAAAAAAAAASkAAAAAAAIBGQAAAAAAAAE5AAAAAAACAR0AAAAAAAMBRQAAAAAAAAFBAAAAAAAAAP0AAAAAAAAA7QAAAAAAAgEZAAAAAAAAARkAAAAAAAAA5QAAAAAAAwGpAAAAAAAAANkAAAAAAAAAsQAAAAAAAgEZAAAAAAACAREAAAAAAAIBAQAAAAAAAAE5AAAAAAAAALEAAAAAAAIBLQAAAAAAAgElAAAAAAACASkAAAAAAAABIQAAAAAAAAFFAAAAAAACATUAAAAAAAAAyQAAAAAAAgE5AAAAAAACAQUAAAAAAAIBGQAAAAAAAAD1AAAAAAACAQUAAAAAAAABAQAAAAAAAgEpAAAAAAAAATUAAAAAAAIBKQAAAAAAAADRAAAAAAAAAP0AAAAAAAABGQAAAAAAAADxAAAAAAADAUEAAAAAAAIBGQAAAAAAAQFJAAAAAAAAARUAAAAAAAIBDQAAAAAAAAFJAAAAAAACAS0AAAAAAAAA8QAAAAAAAAEBAAAAAAACASUAAAAAAAABDQAAAAAAAgEhAAAAAAAAAOEAAAAAAAMBRQAAAAAAAADxAAAAAAACARkAAAAAAAABKQAAAAAAAADdAAAAAAAAATUAAAAAAAAA/QAAAAAAAgEZAAAAAAAAAO0AAAAAAAABHQAAAAAAAAD9AAAAAAACASUAAAAAAAAA0QAAAAAAAIGtAAAAAAAAAMkAAAAAAAAA9QAAAAAAAgEZAAAAAAAAAMUAAAAAAAIBGQAAAAAAAgEtAAAAAAAAAM0AAAAAAAAA7QAAAAAAAgEZAAAAAAACga0AAAAAAAABLQAAAAAAAAERAAAAAAAAAREAAAAAAAIBPQAAAAAAAAGpAAAAAAAAAQ0AAAAAAAABSQAAAAAAAgExAAAAAAADAVsAAAAAAAIBFQAAAAAAAgElAAAAAAAAAM0AAAAAAAIBDQAAAAAAAAFJAAAAAAAAATkAAAAAAAIBQQAAAAAAAgEFAAAAAAACATEAAAAAAAIBPQAAAAAAAoGlAAAAAAACARkAAAAAAAIBSQAAAAAAA4GtAAAAAAACAUkAAAAAAAAAyQAAAAAAAADVAAAAAAAAASUAAAAAAAABqQAAAAAAAgElAAAAAAABAUUAAAAAAAAA5QAAAAAAAgEVAAAAAAADAUUAAAAAAAIBPQAAAAAAAAE1AAAAAAAAAT0AAAAAAAIBHQAAAAAAAgExAAAAAAAAAVcAAAAAAAIBPQAAAAAAAAD1AAAAAAAAANEAAAAAAAABBQAAAAAAAAEZAAAAAAAAAM0AAAAAAAIBLQAAAAAAAADVAAAAAAACAQkAAAAAAAABHQAAAAAAAADlAAAAAAACgaUAAAAAAAABOQAAAAAAAQFJAAAAAAAAAT0AAAAAAAABDQAAAAAAAgElAAAAAAACARkAAAAAAAIBDQAAAAAAAgEdAAAAAAAAASEAAAAAAAMBqQAAAAAAAAEBAAAAAAAAAM0AAAAAAAAAuQAAAAAAAQFbAAAAAAADAakAAAAAAAIBNQAAAAAAAADFAAAAAAAAASkAAAAAAAABRQAAAAAAAADhAAAAAAACAQEAAAAAAAIBQQAAAAAAAADhAAAAAAAAAN0AAAAAAAABGQAAAAAAAAFfAAAAAAAAALkAAAAAAAIBOQAAAAAAAAEdAAAAAAAAAREAAAAAAAABMQAAAAAAAQFBAAAAAAACAREAAAAAAAIBPQAAAAAAAAEZAAAAAAAAAREAAAAAAAABJQAAAAAAAAExAAAAAAACga0AAAAAAAIBJQAAAAAAAgEZAAAAAAABAUkAAAAAAAABJQAAAAAAAgE5AAAAAAABAVcAAAAAAAIBGQAAAAAAAAEFAAAAAAAAATEAAAAAAAABBQAAAAAAAgEZAAAAAAAAAMEAAAAAAAEBRQAAAAAAAgEpAAAAAAAAALkAAAAAAAABNQAAAAAAAAFfAAAAAAAAANEAAAAAAAIBCQAAAAAAAAEZAAAAAAABAUEAAAAAAAIBJQAAAAAAAADJAAAAAAACAT0AAAAAAAIBFQAAAAAAAADpAAAAAAABAUUAAAAAAAABMQAAAAAAAgE9AAAAAAABAUkAAAAAAAIBSQAAAAAAAADRAAAAAAABAUEAAAAAAAIBIQAAAAAAAwFBAAAAAAACAS0AAAAAAAABXwAAAAAAAgEZAAAAAAACAakAAAAAAAABRQAAAAAAAgExAAAAAAAAAMUAAAAAAAAA5QAAAAAAAADdAAAAAAACAREAAAAAAAIBMQAAAAAAAgEtAAAAAAACAQ0AAAAAAAIBLQAAAAAAAgEpAAAAAAACAQUAAAAAAAAAxQAAAAAAAAEFAAAAAAACASkAAAAAAAABNQAAAAAAAgENAAAAAAACATEAAAAAAAABQQAAAAAAAADhAAAAAAAAAOEAAAAAAAIBEQAAAAAAAADdAAAAAAABAVcAAAAAAAAA1QAAAAAAAAEVAAAAAAAAAOkAAAAAAAABVwAAAAAAAAE5AAAAAAACAUEAAAAAAAEBQQAAAAAAAAFBAAAAAAAAAN0AAAAAAAIBGQAAAAAAAgEpAAAAAAAAAPEAAAAAAAABGQAAAAAAAgEZAAAAAAACAQ0AAAAAAAABHQAAAAAAAAEtAAAAAAACAVMAAAAAAAAA1QAAAAAAAYGpAAAAAAACAR0AAAAAAAABNQAAAAAAAAEZAAAAAAABga0AAAAAAAAAxQAAAAAAAgExAAAAAAAAAT0AAAAAAAEBSQAAAAAAAgENAAAAAAACAUUAAAAAAAIBNQAAAAAAAgENAAAAAAACARkAAAAAAAAA4QAAAAAAAgElAAAAAAACATUAAAAAAAABKQAAAAAAAAEtAAAAAAACARkAAAAAAAAA4QAAAAAAAQFXAAAAAAABAVcAAAAAAAIBKQAAAAAAAgEpAAAAAAACAU8AAAAAAAABWwAAAAAAAgExAAAAAAAAASEAAAAAAAABMQAAAAAAAwFBAAAAAAAAAQUAAAAAAAAA1QAAAAAAAgExAAAAAAACATkAAAAAAAABCQAAAAAAAgFJAAAAAAAAAQ0AAAAAAAAA7QAAAAAAAAE1AAAAAAACAR0AAAAAAAIBCQAAAAAAAAEZAAAAAAAAAMEAAAAAAAIBGQAAAAAAAADVAAAAAAAAAREAAAAAAAABPQAAAAAAAgEZAAAAAAACASEAAAAAAAABMQAAAAAAAADlAAAAAAACARkAAAAAAAMBqQAAAAAAAAEZAAAAAAAAAPUAAAAAAAAA6QAAAAAAAgEdAAAAAAAAAMkAAAAAAAABOQAAAAAAAADFAAAAAAAAAT0AAAAAAAABVwAAAAAAAgEZAAAAAAAAAOUAAAAAAAABSQAAAAAAAAEhAAAAAAACATEAAAAAAAABQQAAAAAAAgElAAAAAAAAARUAAAAAAAIBGQAAAAAAAgEpAAAAAAAAANkAAAAAAAAAuQAAAAAAAgEZAAAAAAAAATUAAAAAAAIBGQAAAAAAAgElAAAAAAACAQkAAAAAAAAA6QAAAAAAAgERAAAAAAACAQUAAAAAAAIBGQAAAAAAAADFAAAAAAACAUkAAAAAAAABOQAAAAAAAAFbAAAAAAAAAQkAAAAAAAAA1QAAAAAAAAEtAAAAAAAAAT0AAAAAAAABIQAAAAAAAgElAAAAAAAAAP0AAAAAAAABGQAAAAAAAAEpAAAAAAACATEAAAAAAAABRQAAAAAAAgENAAAAAAACARkAAAAAAAIBNQAAAAAAA4GtAAAAAAAAAUEAAAAAAAMBQQAAAAAAAADlAAAAAAACAS0AAAAAAAIBFQAAAAAAAAFBAAAAAAAAAMEAAAAAAAIBBQAAAAAAAAExAAAAAAADAUUAAAAAAAAAwQAAAAAAAAENAAAAAAACATkAAAAAAAAAsQAAAAAAAAEpAAAAAAAAAUkAAAAAAAIBRQAAAAAAAQFTAAAAAAABAa0AAAAAAAABRQAAAAAAAgElAAAAAAACASkAAAAAAAABDQAAAAAAAgEZAAAAAAACAS0AAAAAAAIBIQAAAAAAAAFBAAAAAAAAATkAAAAAAAABLQAAAAAAAADRAAAAAAACAQ0AAAAAAAAA4QAAAAAAAAERAAAAAAACAUEAAAAAAAIBPQAAAAAAAgFJAAAAAAAAAUEAAAAAAAAA/QAAAAAAAgEBAAAAAAAAAREAAAAAAAIBAQAAAAAAAADNAAAAAAACARUAAAAAAAABMQAAAAAAAAEpAAAAAAAAAOEAAAAAAAIBqQAAAAAAAADlAAAAAAAAAR0AAAAAAAIBAQAAAAAAAgEZAAAAAAAAAUUAAAAAAAAA+QAAAAAAAgEZAAAAAAACAQUAAAAAAAIBPQAAAAAAAADpAAAAAAAAARkAAAAAAAABNQAAAAAAAAFBAAAAAAAAAP0AAAAAAAOBrQAAAAAAAAEdAAAAAAAAAM0AAAAAAAIBCQAAAAAAAgEdAAAAAAAAATEAAAAAAAIBLQAAAAAAAAE9AAAAAAACATEAAAAAAAABBQAAAAAAAAEpAAAAAAAAAPkAAAAAAAABNQAAAAAAAgEtAAAAAAADAVMAAAAAAAABNQAAAAAAAwFfAAAAAAAAAQkAAAAAAAABEQAAAAAAAwFBAAAAAAACAUUAAAAAAAAAyQAAAAAAAAD9AAAAAAAAAMUAAAAAAAEBXwAAAAAAAgEZAAAAAAAAAQ0AAAAAAAIBRQAAAAAAAAC5AAAAAAAAASEAAAAAAAIBKQAAAAAAAAFFAAAAAAAAAMEAAAAAAAIBGQAAAAAAAAEFAAAAAAAAAMUAAAAAAAIBSQAAAAAAAgEJAAAAAAACAT0AAAAAAAAA7QAAAAAAAAEJAAAAAAAAAQkAAAAAAAABRQAAAAAAAgFJAAAAAAABAUEAAAAAAAAAwQAAAAAAAwFBAAAAAAACAUUAAAAAAAAA4QAAAAAAAgEBAAAAAAAAga0AAAAAAAIBFQAAAAAAAAE1AAAAAAAAAS0AAAAAAAAAwQAAAAAAAAD9AAAAAAAAAOUAAAAAAAIBEQAAAAAAAgFFAAAAAAADAUEAAAAAAAIBGQAAAAAAAgEZAAAAAAACARkAAAAAAAAA9QAAAAAAAQFJAAAAAAACATUAAAAAAAABEQAAAAAAAQFBAAAAAAACAQUAAAAAAAAA5QAAAAAAAAFBAAAAAAAAAUUAAAAAAAABNQAAAAAAAADxAAAAAAACATUAAAAAAAAA+QAAAAAAAADRAAAAAAAAAR0AAAAAAAAA6QAAAAAAAAEhAAAAAAABAVcAAAAAAAIBAQAAAAAAAAD1AAAAAAAAAR0AAAAAAAAAuQAAAAAAAAEJAAAAAAAAAPUAAAAAAAIBQQAAAAAAAgENAAAAAAAAANkAAAAAAAAA8QAAAAAAAgEZAAAAAAACASEAAAAAAAABKQAAAAAAAADRAAAAAAABAUEAAAAAAAIBGQAAAAAAAQFFAAAAAAACARUAAAAAAAIBQQAAAAAAAADdAAAAAAACAQUAAAAAAAAA0QAAAAAAAADRAAAAAAAAAT0AAAAAAAAA3QAAAAAAAgEhAAAAAAAAATUAAAAAAAAAyQAAAAAAAAEhAAAAAAAAANkAAAAAAAIBCQAAAAAAAgE9AAAAAAAAAPkAAAAAAAIBKQAAAAAAAwFfAAAAAAAAAQ0AAAAAAAABIQAAAAAAAgEpAAAAAAACAQkAAAAAAAABPQAAAAAAAADlAAAAAAAAASUAAAAAAAIBGQAAAAAAAAENAAAAAAACARkAAAAAAAKBpQAAAAAAAQFXAAAAAAAAAQkAAAAAAAIBPQAAAAAAAAEBAAAAAAAAAQ0AAAAAAAABFQA==\"},\"shape\":[2000],\"dtype\":\"float64\",\"order\":\"little\"}],[\"title\",{\"type\":\"ndarray\",\"array\":[\"Navy Medicine\",\"International Accounting/Financial Reporting Standards Guide 2009\",\"Aircraft Propulsion And Gas Turbine Engines\",\"Report Of The Committee On Energy And Natural Resources To The Committee On The Budget, United States Senate, Pursuant To Section 301(C) Of The Congressional Budget And Impoundment Control Act Of 1974\",\"Atlanta Journal-Record Of Medicine\",\"Advertising Management\",\"Earth Resources\",\"Earth Resources\",\"The National Debt, And How To Pay It: Or, The Financial Condition Of The Nation Considered, Etc. [By J. Mcewen.]\",\"Engineering Mechanics\",\"International Accounting/Financial Reporting Standards Guide 2009\",\"The Journal Of Psychological Medicine And Mental Pathology\",\"A New And Vastly Improved Edition Of The Industrial Resources Of Wisconsin\",\"Start Your Engines\",\"Fluid Mechanics\",\"The Institutes Of Medicine\",\"Moral Engines\",\"Infernal Devices (Mortal Engines, Book 3)\",\"International Accounting/Financial Reporting Standards Guide 2009\",\"Financial Structure And Economic Growth\",\"New Technologies For Emission Control In Marine Diesel Engines\",\"Reality In Advertising\",\"The Mirror Makers\",\"Mechanics Of Machinery: Friction And Its Application\",\"Advertising And Sales Promotion\",\"International Banking And Financial Centers\",\"Minnesota Medicine\",\"Component Design For Highly Pressure Charged Diesel Engines\",\"Popular Mechanics\",\"Social Communication In Advertising\",\"Google Earth Engine Applications\",\"Fracture Mechanics\",\"Journal Of Sociologic Medicine\",\"Engineering Mechanics\",\"Foreign Publications For Advertising American Goods\",\"The Basics Of Finance\",\"Engines\",\"Journal Of Practical Medicine\",\"Financial Structure And Economic Growth\",\"Modern Electric Railway Practice: Power Stations, Steam And Gas Engines, Generators, And Switchboards\",\"The Profit And Loss Account Of Modern Medicine, And Other Papers\",\"Montana\",\"Geostatistics For Natural Resources Evaluation\",\"Advertising Management\",\"Indian Financial System 5e\",\"Hand-Book Of Modern Steam Fire-Engines\",\"Medicine In Modern Times\",\"Medicine\",\"Control Of Advertising On Interstate Highways\",\"Natural Resources Law Newsletter\",\"Mechanics, Hydrostatics, Pneumatics, Optics\",\"Handbook On California'S Natural Resources\",\"Blood Engines\",\"Directory Of Northern Library Resources\",\"A Manual Of Family Medicine For India\",\"The Commercial & Financial Chronicle And Hunt'S Merchants' Magazine\",\"Minnesota Medicine\",\"Ogilvy On Advertising\",\"Report Of The City Comptroller, Exhibiting The Receipts, Expenditures, And Financial Condition Of The City Of Milwaukee, For The Year ...\",\"Control Of Advertising On Interstate Highways\",\"Michigan Manufacturer & Financial Record\",\"The Mirror Makers\",\"Financial Services 5e\",\"Social Communication In Advertising\",\"The Devil'S Grin\",\"Technical Report - South Carolina Marine Resources Division\",\"A Collection Of Problems In Illustration Of The Principles Of Theoretical Mechanics\",\"Annual Report Of The General Society Of Mechanics And Tradesmen Of The City Of New York\",\"Sex And Gender In Acute Care Medicine\",\"The Mirror Makers\",\"The Profit And Loss Account Of Modern Medicine, And Other Papers\",\"Reports Submitted To The Council On Library Resources\",\"A New And Vastly Improved Edition Of The Industrial Resources Of Wisconsin\",\"Mechanics, Molecular Physics And Heat\",\"Montana\",\"Effects Of Financial Globalization On Developing Countries: Some Empirical Evidence\",\"Speeches, Addresses And Letters On Industrial And Financial Questions. To Which Is Added An Introduction, Together With Copious Notes, Etc\",\"Physico-Clinical Medicine\",\"Core Clinical Medicine\",\"Theory Of Financial Decision Making\",\"Medicine\",\"Water Resources Paper\",\"The Retrospect Of Practical Medicine And Surgery\",\"Breakthrough Advertising\",\"Directory Of Japanese Technical Resources In The United States\",\"Financial Management Information Package\",\"Speeches, Addresses And Letters On Industrial And Financial Questions. To Which Is Added An Introduction, Together With Copious Notes, Etc\",\"Advertising Of Alcoholic Beverages. H.R. 4627\",\"Financial Accountability In Nepal\",\"Speeches, Addresses And Letters On Industrial And Financial Questions. To Which Is Added An Introduction, Together With Copious Notes, Etc\",\"Financial Structure And Economic Growth\",\"Popular Mechanics\",\"Replies To Questionnaires On Aircraft Engine Production Costs And Profits\",\"International Accounting/Financial Reporting Standards Guide 2009\",\"A Manual Of Family Medicine For India\",\"Advertising Your Small Business\",\"Modern Medicine\",\"Elementary Mechanics\",\"Immigration Services\",\"Reports Submitted To The Council On Library Resources\",\"Financial Structure And Economic Development\",\"Development Of Non-Bank Financial Institutions And Capital Markets In European Union Accession Countries\",\"Control Of Advertising On Interstate Highways\",\"Modern Electric Railway Practice: Power Stations, Steam And Gas Engines, Generators, And Switchboards\",\"Ingenious Mechanicks\",\"Medicine\",\"Medicine In Modern Times\",\"Montana\",\"Control Of Advertising On Interstate Highways\",\"International Banking And Financial Centers\",\"Anachronist\",\"The Laws Of Medicine\",\"Effects Of Information Technology On Financial Services Systems\",\"Popular Mechanics\",\"International Banking And Financial Centers\",\"A B C Of The Steam Engine\",\"Traditional Use Of Plant Resources By Bankariya Ethnic Group In Makawanpur District, Central Nepal\",\"Organizational Success Through Effective Human Resources Management\",\"Analytic Cyclopedia Of Practical Medicine\",\"Engines Of Creation\",\"Industrial Resources, Kentucky: Radcliff & Vine Grove\",\"Advertising 2.0\",\"Directory Of Japanese Technical Resources In The United States\",\"Effects Of Information Technology On Financial Services Systems\",\"An Epitome Of The American Eclectic Practice Of Medicine, Surgery, Obstetrics, Diseases Of Women And Children, Materia Medica And Pharmacy\",\"Geology And Water Resources Of The Goose Creek Basin\",\"Journal Of Practical Medicine\",\"Financial Annual Of Japan\",\"Theory Of Financial Decision Making\",\"Advertising Outdoors\",\"The Commercial & Financial Chronicle And Hunt'S Merchants' Magazine\",\"Minnesota Medicine\",\"English Mechanics And The World Of Science\",\"The Principles Of Elementary Mechanics\",\"Financial Management Agencies Face Many Challenges In Meeting The Goals Of The Federal Financial Management Improvement Act\",\"The Institutes Of Medicine\",\"Handbook On California'S Natural Resources\",\"Advertising To The American Woman, 1900-1999\",\"Report Of The Committee On Energy And Natural Resources To The Committee On The Budget, United States Senate, Pursuant To Section 301(C) Of The Congressional Budget And Impoundment Control Act Of 1974\",\"Financial Management Agencies Face Many Challenges In Meeting The Goals Of The Federal Financial Management Improvement Act\",\"Internal Medicine, Today And Tomorrow\",\"A History Of Mechanics\",\"Recommendation Engines\",\"A B C Of The Steam Engine\",\"A New And Vastly Improved Edition Of The Industrial Resources Of Wisconsin\",\"Start Your Engines\",\"The Institutes Of Medicine\",\"American Folk Medicine\",\"International Accounting/Financial Reporting Standards Guide 2009\",\"Montana\",\"Elements Of Analytical Mechanics\",\"Organizational Success Through Effective Human Resources Management\",\"Advertising To Children In China\",\"Fracture Mechanics\",\"Internal Medicine, Today And Tomorrow\",\"Planning Our Resources\",\"Report Of The Committee On Energy And Natural Resources To The Committee On The Budget, United States Senate, Pursuant To Section 301(C) Of The Congressional Budget And Impoundment Control Act Of 1974\",\"Medicine\",\"Mechanics, Molecular Physics And Heat\",\"Annual Resources Report\",\"Social Communication In Advertising\",\"Advertising Your Small Business\",\"Water Resources Paper\",\"Report On The Trade And Resources Of The Central Provinces\",\"Water Resources Data\",\"Principles Of Fluid Mechanics And Fluid Machines (Second Edition)\",\"The Canadian Financial System\",\"Marine Diesel Engines\",\"The Retrospect Of Practical Medicine And Surgery\",\"Mechanics, Hydrostatics, Pneumatics, Optics\",\"Mechanics' And Engineers' Pocketbook Of Tables\",\"The Mirror Makers\",\"Old Dominion Journal Of Medicine And Surgery\",\"Humor In Advertising\",\"Old Dominion Journal Of Medicine And Surgery\",\"Medicine In Modern Times\",\"Organizational Success Through Effective Human Resources Management\",\"Immigration Services\",\"The Basics Of Finance\",\"Natural-Bonded Molding Sand Resources Of Illinois\",\"The Monthly Cyclop\\u00e6dia Of Practical Medicine. V.1-21, V.22, No. 1-5, Aug. 1887-Apr. 1908\",\"Montana\",\"Annual Report Of The General Society Of Mechanics And Tradesmen Of The City Of New York\",\"Natural And Energy Resources\",\"Advertising For Dummies\",\"Google Earth Engine Applications\",\"Advertising And Sales Promotion\",\"Development Of Non-Bank Financial Institutions And Capital Markets In European Union Accession Countries\",\"Financial Management Agencies Face Many Challenges In Meeting The Goals Of The Federal Financial Management Improvement Act\",\"Report On The Trade And Resources Of The Central Provinces\",\"Financial Services 5e\",\"Geostatistics For Natural Resources Evaluation\",\"Advertising To Children\",\"Medicine In Modern Times\",\"Some Vocational Resources And Needs Of A Rural Community As Determined By The Location Of Special Groups\",\"Natural-Bonded Molding Sand Resources Of Illinois\",\"A Manual Of The Practice Of Medicine\",\"Mechanics, Molecular Physics And Heat\",\"Corliss-Engines And Allied Steam-Motors Working With And Without Automatic Variable Expansion-Gear\",\"The Monthly Cyclop\\u00e6dia Of Practical Medicine. V.1-21, V.22, No. 1-5, Aug. 1887-Apr. 1908\",\"New York State Journal Of Medicine\",\"Analytic Cyclopedia Of Practical Medicine\",\"International Banking And Financial Centers\",\"Minnesota Medicine\",\"Medicine In Modern Times\",\"Domestic Medicine; Or, Plain Instructions In The Art Of Preserving And Restoring Health By Simple And Efficient Means\",\"Popular Mechanics\",\"Emotions, Advertising And Consumer Choice\",\"Mortal Engines\",\"Consolidated Financial Reporting\",\"Organizational Success Through Effective Human Resources Management\",\"Defense Health Care Triservice Strategy Needed To Justify Medical Resources For Readiness And Peacetime Care : Report To Congressional Requesters.\",\"Water Resources Data\",\"A Manual Of Family Medicine For India\",\"Internal Medicine, Today And Tomorrow\",\"U.S. Securities, Government Finance, Economic And Financial Conditions\",\"The Canadian Financial System\",\"Advertising To Children\",\"Highlights Of Natural Resources Management\",\"Popular Mechanics\",\"A Manual Of The Practice Of Medicine\",\"Earth Resources\",\"Journal Of Sociologic Medicine\",\"New York State Journal Of Medicine\",\"Popular Mechanics\",\"Organizational Success Through Effective Human Resources Management\",\"The Retrospect Of Practical Medicine And Surgery\",\"Navy Medicine\",\"The Retrospect Of Practical Medicine And Surgery\",\"How To Build And Modify Gm Ls-Series Engines\",\"The Psychology Of Advertising\",\"Associative Engines\",\"International Banking And Financial Centers\",\"Tractor And Gas Engine Review\",\"The Advertising Concept Book\",\"Old Dominion Journal Of Medicine And Surgery\",\"Mechanics, Molecular Physics And Heat\",\"Report Of The Committee On Energy And Natural Resources To The Committee On The Budget, United States Senate, Pursuant To Section 301(C) Of The Congressional Budget And Impoundment Control Act Of 1974\",\"A Collection Of Problems In Illustration Of The Principles Of Theoretical Mechanics\",\"Proceedings Of The Financial Management Conference\",\"Web Advertising\",\"Natural Resources Law Newsletter\",\"How To Advertise\",\"Defense Health Care Triservice Strategy Needed To Justify Medical Resources For Readiness And Peacetime Care : Report To Congressional Requesters.\",\"The Principles Of Elementary Mechanics\",\"Effects Of Financial Globalization On Developing Countries: Some Empirical Evidence\",\"The Steam Engine\",\"Ogilvy On Advertising\",\"An Epitome Of The American Eclectic Practice Of Medicine, Surgery, Obstetrics, Diseases Of Women And Children, Materia Medica And Pharmacy\",\"The Devil'S Grin\",\"Associative Engines\",\"Introduction To Health Care Economics & Financial Management\",\"Popular Mechanics\",\"The Principles Of Elementary Mechanics\",\"Traditional Use Of Plant Resources By Bankariya Ethnic Group In Makawanpur District, Central Nepal\",\"Web Advertising\",\"Introduction To Health Care Economics & Financial Management\",\"Dynamics Of International Advertising\",\"The Principles Of Elementary Mechanics\",\"Core Clinical Medicine\",\"Navy Medicine\",\"The Big Book Of Engines (Thomas & Friends)\",\"Defense Health Care Triservice Strategy Needed To Justify Medical Resources For Readiness And Peacetime Care : Report To Congressional Requesters.\",\"The Profit And Loss Account Of Modern Medicine, And Other Papers\",\"Journal Of Sociologic Medicine\",\"Elementary Mechanics\",\"Popular Mechanics\",\"Water Resources Data\",\"Aircraft Propulsion And Gas Turbine Engines\",\"Mechanics' Magazine\",\"Financial Management For Pharmacists\",\"Financial Management\",\"Google Earth Engine Applications\",\"Moral Engines\",\"Breakthrough Advertising\",\"Geostatistics For Natural Resources Evaluation\",\"Financial Management For Pharmacists\",\"The Retrospect Of Medicine\",\"The Profit And Loss Account Of Modern Medicine, And Other Papers\",\"Natural Resources Law Newsletter\",\"Lessons In Elementary Mechanics\",\"Financial Annual Of Japan\",\"Effects Of Financial Globalization On Developing Countries: Some Empirical Evidence\",\"The Resources And Attractions Of Utah\",\"Mortal Engines\",\"Domestic Medicine; Or, Plain Instructions In The Art Of Preserving And Restoring Health By Simple And Efficient Means\",\"Annual Report Of The General Society Of Mechanics And Tradesmen Of The City Of New York\",\"Minnesota Medicine\",\"Hcci And Cai Engines For The Automotive Industry\",\"Fundamentals Of Financial Management\",\"The Commercial & Financial Chronicle ...\",\"Dynamics Of International Advertising\",\"Google Earth Engine Applications\",\"Financial Annual Of Japan\",\"Advertising To The American Woman, 1900-1999\",\"International Accounting/Financial Reporting Standards Guide 2009\",\"Civil Aircraft And Aircraft Engines\",\"Popular Mechanics\",\"Negative Political Advertising\",\"Natural Resources Of The United States\",\"Report Of The Federal Trade Commission On Distribution Methods And Costs: Advertising As A Factor In Distribution\",\"Mortal Engines\",\"Water Resources Paper\",\"Internal Combustion Engines\",\"Popular Mechanics\",\"Medicine And Surgery\",\"The Principles Of Elementary Mechanics\",\"A Manual Of Family Medicine For India\",\"Proceedings Of The Financial Management Conference\",\"Financial Management, 2e\",\"Water Resources Data\",\"Defense Health Care Triservice Strategy Needed To Justify Medical Resources For Readiness And Peacetime Care : Report To Congressional Requesters.\",\"Modern Medicine\",\"The Monthly Cyclop\\u00e6dia Of Practical Medicine. V.1-21, V.22, No. 1-5, Aug. 1887-Apr. 1908\",\"Principles Of Fluid Mechanics And Fluid Machines (Second Edition)\",\"The Retrospect Of Practical Medicine And Surgery\",\"Profitable Advertising\",\"Planning Our Resources\",\"Social Communication In Advertising\",\"Planning Our Resources\",\"American Almanac And Treasury Of Facts Statistical, Financial And Political\",\"Selected Water Resources Abstracts\",\"Financial Services 5e\",\"Recommendation Engines\",\"Corliss-Engines And Allied Steam-Motors Working With And Without Automatic Variable Expansion-Gear\",\"Modern Medicine\",\"Advertising Management\",\"Popular Mechanics\",\"Introduction To Health Care Economics & Financial Management\",\"Appleton'S Dictionary Of Machines, Mechanics, Engine-Work, And Engineering\",\"Modern Electric Railway Practice: Power Stations, Steam And Gas Engines, Generators, And Switchboards\",\"Geostatistics For Natural Resources Evaluation\",\"Popular Mechanics\",\"Advertising Your Small Business\",\"Natural And Energy Resources\",\"Annual Resources Report\",\"Advertising And Sales Promotion\",\"Directory Of Japanese Technical Resources In The United States\",\"Speeches, Addresses And Letters On Industrial And Financial Questions. To Which Is Added An Introduction, Together With Copious Notes, Etc\",\"Resources And Opportunities Of Montana\",\"International Record Of Medicine And General Practice Clinics\",\"The National Debt, And How To Pay It: Or, The Financial Condition Of The Nation Considered, Etc. [By J. Mcewen.]\",\"The Retrospect Of Medicine\",\"Lessons In Elementary Mechanics\",\"Internal Combustion Engines\",\"Mortal Engines\",\"Medicine\",\"Analytic Cyclopedia Of Practical Medicine\",\"The Advertising Concept Book\",\"Advertising Your Small Business\",\"Introduction To Health Care Economics & Financial Management\",\"Google Earth Engine Applications\",\"Popular Mechanics\",\"Appleton'S Dictionary Of Machines, Mechanics, Engine-Work, And Engineering\",\"Internal Combustion Engines\",\"Journal Of Sociologic Medicine\",\"Recommendation Engines\",\"Internal Medicine, Today And Tomorrow\",\"Elements Of Mechanics\",\"Advertising The American Dream\",\"English Mechanics And The World Of Science\",\"Financial Annual Of Japan\",\"Exercises For The Applied Mechanics Laboratory\",\"Water Resources Data\",\"Medicine\",\"Advertising Of Alcoholic Beverages. H.R. 4627\",\"Popular Mechanics\",\"The Big Book Of Engines (Thomas & Friends)\",\"A Manual Of Family Medicine For India\",\"Defense Health Care Triservice Strategy Needed To Justify Medical Resources For Readiness And Peacetime Care : Report To Congressional Requesters.\",\"Popular Mechanics\",\"New Technologies For Emission Control In Marine Diesel Engines\",\"Technical Report - South Carolina Marine Resources Division\",\"Engines Of Creation\",\"The Journal Of Experimental Medicine\",\"The Advertising Concept Book\",\"Engines\",\"Development Of Non-Bank Financial Institutions And Capital Markets In European Union Accession Countries\",\"Associative Engines\",\"Advertising\",\"Monthly Report On Federal Water Resources Investigations And Construction Projects\",\"The Elements Of Mechanics\",\"The Canadian Financial System\",\"Blood Engines\",\"Traditional Use Of Plant Resources By Bankariya Ethnic Group In Makawanpur District, Central Nepal\",\"Water Resources Paper\",\"Journal Of Sociologic Medicine\",\"The St. Louis Courier Of Medicine\",\"Financial Structure And Economic Development\",\"The Steam Engine\",\"Proceedings Of The Financial Management Conference\",\"The Journal Of Experimental Medicine\",\"Technical Report - South Carolina Marine Resources Division\",\"Fundamentals Of Financial Management\",\"North Atlantic Regional Water Resources Study Appendix A ... [To Appendix V]\",\"Beyond Advertising\",\"Physico-Clinical Medicine\",\"Natural Resources Law Newsletter\",\"Financial Management, 2e\",\"Directory Of Japanese Technical Resources In The United States\",\"Dynamics Of International Advertising\",\"Advertising The American Dream\",\"Earth Resources\",\"Mechanics\",\"Directory Of Northern Library Resources\",\"The Journal Of Experimental Medicine\",\"American Folk Medicine\",\"Financial Management Agencies Face Many Challenges In Meeting The Goals Of The Federal Financial Management Improvement Act\",\"The Advertising Concept Book\",\"Tractor And Gas Engine Review\",\"New Technologies For Emission Control In Marine Diesel Engines\",\"The Canadian Financial System\",\"Financial Management\",\"Natural Resources Law Newsletter\",\"Report Of The Federal Trade Commission On Distribution Methods And Costs: Advertising As A Factor In Distribution\",\"Financial Structure And Economic Development\",\"The Principles Of Elementary Mechanics\",\"Infernal Devices (Mortal Engines, Book 3)\",\"Directory Of Japanese Technical Resources In The United States\",\"Financial Annual Of Japan\",\"Emotions, Advertising And Consumer Choice\",\"U.S. Securities, Government Finance, Economic And Financial Conditions\",\"A New And Vastly Improved Edition Of The Industrial Resources Of Wisconsin\",\"Modern Electric Railway Practice: Power Stations, Steam And Gas Engines, Generators, And Switchboards\",\"Natural Resources Of The United States\",\"Advertising In India\",\"Advertising & Selling Magazine\",\"Water Resources Paper\",\"The Behavioral Sciences And Preventive Medicine Opportunities And Dilemmas\",\"Profitable Advertising\",\"Advertising To Children In China\",\"Ogilvy On Advertising\",\"Department Publications - State Of California, Dept. Of Water Resources\",\"The Elementary Principles Of Mechanics: Kinetics. 1895\",\"A B C Of The Steam Engine\",\"Water Resources Management Iv\",\"Water Resources Activities In The United States\",\"Highlights Of Natural Resources Management\",\"Old Dominion Journal Of Medicine And Surgery\",\"Planning Our Resources\",\"Advertising Management\",\"The Behavioral Sciences And Preventive Medicine Opportunities And Dilemmas\",\"Advertising To The American Woman, 1900-1999\",\"The Commercial And Financial Chronicle\",\"Popular Mechanics\",\"An Epitome Of The American Eclectic Practice Of Medicine, Surgery, Obstetrics, Diseases Of Women And Children, Materia Medica And Pharmacy\",\"Exercises For The Applied Mechanics Laboratory\",\"Introduction To Health Care Economics & Financial Management\",\"Library Of Advertising\",\"Engineering Mechanics\",\"Mechanics, Hydrostatics, Pneumatics, Optics\",\"A Collection Of Problems In Illustration Of The Principles Of Theoretical Mechanics\",\"Medicine In Modern Times\",\"Mechanics, Molecular Physics And Heat\",\"Indian Financial System 5e\",\"Moral Engines\",\"Foreign Publications For Advertising American Goods\",\"Popular Mechanics\",\"Domestic Medicine; Or, Plain Instructions In The Art Of Preserving And Restoring Health By Simple And Efficient Means\",\"The Profit And Loss Account Of Modern Medicine, And Other Papers\",\"Report Of The City Comptroller, Exhibiting The Receipts, Expenditures, And Financial Condition Of The City Of Milwaukee, For The Year ...\",\"The Retrospect Of Medicine\",\"A B C Of The Steam Engine\",\"Mortal Engines\",\"Elements Of Mechanics\",\"National Library Of Medicine Classification\",\"Banking Regulation Of Uk And Us Financial Markets\",\"Domestic Medicine; Or, Plain Instructions In The Art Of Preserving And Restoring Health By Simple And Efficient Means\",\"Consolidated Financial Reporting\",\"Dynamics Of International Advertising\",\"Tractor And Gas Engine Review\",\"The Commercial & Financial Chronicle And Hunt'S Merchants' Magazine\",\"The Mirror Makers\",\"The Psychology Of Advertising\",\"Popular Mechanics\",\"A B C Of The Steam Engine\",\"Financial Institutions Act, 1973\",\"Financial Management Information Package\",\"Planning Our Resources\",\"Journal Of Practical Medicine\",\"Water Resources Management Iv\",\"Popular Mechanics\",\"Modern Electric Railway Practice: Power Stations, Steam And Gas Engines, Generators, And Switchboards\",\"Moral Engines\",\"Popular Mechanics\",\"Technical Report - South Carolina Marine Resources Division\",\"Popular Mechanics\",\"Popular Mechanics\",\"Popular Mechanics\",\"Water Resources Data\",\"Advertising And Sales Promotion\",\"Financial Structure And Economic Growth\",\"Financial Annual Of Japan\",\"Selected Water Resources Abstracts\",\"Mechanics\",\"Financial Accounting: A Dynamic Approach\",\"Technical Report - South Carolina Marine Resources Division\",\"Banking Regulation Of Uk And Us Financial Markets\",\"An Epitome Of The American Eclectic Practice Of Medicine, Surgery, Obstetrics, Diseases Of Women And Children, Materia Medica And Pharmacy\",\"The Principles Of Elementary Mechanics\",\"Appleton'S Dictionary Of Machines, Mechanics, Engine-Work, And Engineering\",\"Water Resources Management Iv\",\"New York State Journal Of Medicine\",\"Popular Mechanics\",\"Popular Mechanics\",\"Introduction To Health Care Economics & Financial Management\",\"Indian Financial System 5e\",\"The Devil'S Grin\",\"Water Resources Activities In The United States\",\"Engine Of Impact\",\"Mechanics' Magazine\",\"Popular Mechanics\",\"Control Of Advertising On Interstate Highways\",\"Geology And Water Resources Of The Goose Creek Basin\",\"Indian Financial System 5e\",\"Advertising To The American Woman, 1900-1999\",\"Political And Commercial Control Of The Mineral Resources Of The World\",\"International Banking And Financial Centers\",\"Report Of The Federal Trade Commission On Distribution Methods And Costs: Advertising As A Factor In Distribution\",\"Fundamentals Of Financial Management\",\"Mechanics\",\"Popular Mechanics\",\"Theory Of Financial Decision Making\",\"Popular Mechanics\",\"A Manual Of Family Medicine For India\",\"Popular Mechanics\",\"Journal Of Sociologic Medicine\",\"Anachronist\",\"How To Advertise\",\"North Atlantic Regional Water Resources Study Appendix A ... [To Appendix V]\",\"Blood Engines\",\"The American Journal Of Clinical Medicine\",\"The Institutes Of Medicine\",\"Report Of The City Comptroller, Exhibiting The Receipts, Expenditures, And Financial Condition Of The City Of Milwaukee, For The Year ...\",\"Natural Resources Law Newsletter\",\"Monthly Report On Federal Water Resources Investigations And Construction Projects\",\"Emotions, Advertising And Consumer Choice\",\"Medicine\",\"Popular Mechanics\",\"American Almanac And Treasury Of Facts Statistical, Financial And Political\",\"Progressive Medicine\",\"Financial Structure And Economic Growth\",\"The Big Book Of Engines (Thomas & Friends)\",\"Water Resources Activities In The United States\",\"Replies To Questionnaires On Aircraft Engine Production Costs And Profits\",\"A B C Of The Steam Engine\",\"National Library Of Medicine Classification\",\"The New England Journal Of Medicine\",\"The Principles Of Elementary Mechanics\",\"Engine Of Impact\",\"Automotive Engine Performance\",\"How To Advertise\",\"Mechanics, Molecular Physics And Heat\",\"The Laws Of Medicine\",\"Humor In Advertising\",\"Popular Mechanics\",\"Report Of The Federal Trade Commission On Distribution Methods And Costs: Advertising As A Factor In Distribution\",\"How To Advertise\",\"Proceedings Of The Society For Experimental Biology And Medicine\",\"Component Design For Highly Pressure Charged Diesel Engines\",\"Geostatistics For Natural Resources Evaluation\",\"Financial Management Information Package\",\"Elements Of Mechanics\",\"Natural Resources Law Newsletter\",\"Advertising Your Small Business\",\"Montana\",\"Engines Of Anxiety\",\"Control Of Gas-Turbine And Ramjet Engines\",\"A Manual Of Family Medicine For India\",\"Progressive Medicine\",\"Advertising Outdoors\",\"The Elements Of Mechanics\",\"A B C Of The Steam Engine\",\"Mortal Engines\",\"Medicine\",\"Fluid Mechanics\",\"Advertising To Children In China\",\"The Elements Of Mechanics\",\"Library Of Advertising\",\"Component Design For Highly Pressure Charged Diesel Engines\",\"Financial Management Information Package\",\"Replies To Questionnaires On Aircraft Engine Production Costs And Profits\",\"Advertising Management\",\"Banking Regulation Of Uk And Us Financial Markets\",\"Internal Combustion Engines\",\"Advertising To The American Woman, 1900-1999\",\"Marine Diesel Engines\",\"Medicine In Modern Times\",\"Geostatistics For Natural Resources Evaluation\",\"The Elementary Principles Of Mechanics: Kinetics. 1895\",\"Montana\",\"Aircraft Propulsion And Gas Turbine Engines\",\"Industrial Resources, Kentucky: Radcliff & Vine Grove\",\"Principles Of Fluid Mechanics And Fluid Machines (Second Edition)\",\"Automotive Engine Performance\",\"Old Dominion Journal Of Medicine And Surgery\",\"Proceedings Of The Financial Management Conference\",\"Water Resources Paper\",\"Mortal Engines\",\"Monthly Report On Federal Water Resources Investigations And Construction Projects\",\"The Retrospect Of Practical Medicine And Surgery\",\"Water Resources Paper\",\"Old Dominion Journal Of Medicine And Surgery\",\"The Journal Of Experimental Medicine\",\"Journal Of Sociologic Medicine\",\"Medicine\",\"Elements Of Mechanics\",\"Reports Submitted To The Council On Library Resources\",\"The Devil'S Grin\",\"Popular Mechanics\",\"Engineering Mechanics\",\"Financial Management, 2e\",\"Modern Electric Railway Practice: Power Stations, Steam And Gas Engines, Generators, And Switchboards\",\"Natural And Energy Resources\",\"The Mirror Makers\",\"Advertising And Sales Promotion\",\"Proceedings Of The Financial Management Conference\",\"The Psychology Of Advertising\",\"Report Of The Committee On Energy And Natural Resources To The Committee On The Budget, United States Senate, Pursuant To Section 301(C) Of The Congressional Budget And Impoundment Control Act Of 1974\",\"Directory Of Northern Library Resources\",\"Financial Management\",\"The New England Journal Of Medicine\",\"Organizational Success Through Effective Human Resources Management\",\"Banking Regulation Of Uk And Us Financial Markets\",\"Proceedings Of The Financial Management Conference\",\"Financial Management For Pharmacists\",\"Natural Resources Law Newsletter\",\"Mechanics' Magazine\",\"Engines Of Anxiety\",\"Journal Of Sociologic Medicine\",\"Library Of Advertising\",\"Advertising Of Alcoholic Beverages. H.R. 4627\",\"Heavy Oil As Fuel For Internal-Combustion Engines\",\"Engines Of Anxiety\",\"Financial Structure And Economic Growth\",\"Financial Management Agencies Face Many Challenges In Meeting The Goals Of The Federal Financial Management Improvement Act\",\"Engines Of Anxiety\",\"Montana\",\"Popular Mechanics\",\"Journal Of Sociologic Medicine\",\"Progressive Medicine\",\"Sex And Gender In Acute Care Medicine\",\"Financial Structure And Economic Growth\",\"Component Design For Highly Pressure Charged Diesel Engines\",\"Humor In Advertising\",\"Emotions, Advertising And Consumer Choice\",\"Medicine\",\"Popular Mechanics\",\"Popular Mechanics\",\"The Profit And Loss Account Of Modern Medicine, And Other Papers\",\"The New England Journal Of Medicine\",\"Development Of Non-Bank Financial Institutions And Capital Markets In European Union Accession Countries\",\"Mechanics Of Machinery: Friction And Its Application\",\"Advertising & Selling Magazine\",\"The Basics Of Finance\",\"Natural-Bonded Molding Sand Resources Of Illinois\",\"The Canadian Financial System\",\"The Profit And Loss Account Of Modern Medicine, And Other Papers\",\"Financial Structure And Economic Development\",\"Immigration Services\",\"Tractor And Gas Engine Review\",\"Engineering Mechanics\",\"Navy Medicine\",\"Mechanics Of Machinery: Friction And Its Application\",\"Engines Of Anxiety\",\"International Banking And Financial Centers\",\"Dynamics Of International Advertising\",\"Reports Submitted To The Council On Library Resources\",\"Associative Engines\",\"U.S. Securities, Government Finance, Economic And Financial Conditions\",\"Advertising & Selling Magazine\",\"The Commercial And Financial Chronicle\",\"Functional Analysis In Mechanics\",\"Highlights Of Natural Resources Management\",\"Effects Of Financial Globalization On Developing Countries: Some Empirical Evidence\",\"Annual Report Of The Board Of Registration In Medicine\",\"The St. Louis Courier Of Medicine\",\"Advertising 2.0\",\"Sex And Gender In Acute Care Medicine\",\"How To Advertise\",\"Traditional Use Of Plant Resources By Bankariya Ethnic Group In Makawanpur District, Central Nepal\",\"A Collection Of Problems In Illustration Of The Principles Of Theoretical Mechanics\",\"Popular Mechanics\",\"Geology And Water Resources Of The Goose Creek Basin\",\"Fracture Mechanics\",\"Water Resources Paper\",\"Directory Of Northern Library Resources\",\"Development Of Non-Bank Financial Institutions And Capital Markets In European Union Accession Countries\",\"Atlanta Journal-Record Of Medicine\",\"How To Build And Modify Gm Ls-Series Engines\",\"The Canadian Financial System\",\"How To Build And Modify Gm Ls-Series Engines\",\"The Retrospect Of Practical Medicine And Surgery\",\"Advertising Management\",\"The Mirror Makers\",\"Control Of Advertising On Interstate Highways\",\"Advertising To Children\",\"A Manual Of The Practice Of Medicine\",\"Advertising Management\",\"Mechanics\",\"Navy Medicine\",\"A Catechism Of The Steam Engine\",\"Financial Accounting: A Dynamic Approach\",\"The Financial Bulletin\",\"Mechanics Of Machinery: Friction And Its Application\",\"Control Of Gas-Turbine And Ramjet Engines\",\"Technical Report - South Carolina Marine Resources Division\",\"Aircraft Propulsion And Gas Turbine Engines\",\"The Basics Of Finance\",\"Functional Analysis In Mechanics\",\"Geology And Water Resources Of The Goose Creek Basin\",\"Geology And Water Resources Of The Goose Creek Basin\",\"Hand-Book Of Modern Steam Fire-Engines\",\"A New And Vastly Improved Edition Of The Industrial Resources Of Wisconsin\",\"Popular Mechanics\",\"Defense Health Care Triservice Strategy Needed To Justify Medical Resources For Readiness And Peacetime Care : Report To Congressional Requesters.\",\"Beyond Advertising\",\"The Psychology Of Advertising\",\"Proceedings Of The Financial Management Conference\",\"Advertising Of Alcoholic Beverages. H.R. 4627\",\"The New England Journal Of Medicine\",\"Handbook On California'S Natural Resources\",\"New York State Journal Of Medicine\",\"Web Advertising\",\"Effects Of Financial Globalization On Developing Countries: Some Empirical Evidence\",\"Applied Mechanics\",\"Marine Diesel Engines\",\"Advertising To Children\",\"The Behavioral Sciences And Preventive Medicine Opportunities And Dilemmas\",\"Aircraft Propulsion And Gas Turbine Engines\",\"The Basics Of Finance\",\"Montana\",\"A Catechism Of The Steam Engine\",\"Medicine\",\"Geostatistics For Natural Resources Evaluation\",\"How To Advertise\",\"Internal Combustion Engines\",\"Organizational Success Through Effective Human Resources Management\",\"Wiley Cpa Exam Review 2011, Financial Accounting And Reporting\",\"The New England Journal Of Medicine\",\"An Epitome Of The American Eclectic Practice Of Medicine, Surgery, Obstetrics, Diseases Of Women And Children, Materia Medica And Pharmacy\",\"Technical Report - South Carolina Marine Resources Division\",\"The New England Journal Of Medicine\",\"Speeches, Addresses And Letters On Industrial And Financial Questions. To Which Is Added An Introduction, Together With Copious Notes, Etc\",\"Humor In Advertising\",\"Fracture Mechanics\",\"Marine Diesel Engines\",\"A B C Of The Steam Engine\",\"Principles Of Fluid Mechanics And Fluid Machines (Second Edition)\",\"Control Of Gas-Turbine And Ramjet Engines\",\"Mechanics' Magazine\",\"Advertising And The Public Interest\",\"Water Resources Activities In The United States\",\"Html5 Game Engines\",\"The Commercial & Financial Chronicle ...\",\"The Behavioral Sciences And Preventive Medicine Opportunities And Dilemmas\",\"The Principles Of Elementary Mechanics\",\"Appleton'S Dictionary Of Machines, Mechanics, Engine-Work, And Engineering\",\"Medicine\",\"Advertising Management\",\"The Commercial & Financial Chronicle ...\",\"Old Dominion Journal Of Medicine And Surgery\",\"Exercises For The Applied Mechanics Laboratory\",\"Advertising\",\"Department Publications - State Of California, Dept. Of Water Resources\",\"Popular Mechanics\",\"Mechanics\",\"Annual Resources Report\",\"Natural And Energy Resources\",\"Natural Resources Law Newsletter\",\"Journal Of Sociologic Medicine\",\"Mechanics' Magazine\",\"Advertising And Sales Promotion\",\"Financial Management\",\"Modern Medicine\",\"The Commercial & Financial Chronicle ...\",\"Michigan Manufacturer & Financial Record\",\"Advertising Management\",\"Mechanics Of Engineering ...\",\"Annual Report Of The Board Of Registration In Medicine\",\"National Library Of Medicine Classification\",\"The New England Journal Of Medicine\",\"Journal Of Sociologic Medicine\",\"English Mechanics And The World Of Science\",\"Popular Mechanics\",\"Defense Health Care Triservice Strategy Needed To Justify Medical Resources For Readiness And Peacetime Care : Report To Congressional Requesters.\",\"Lessons In Elementary Mechanics\",\"Advertising For Dummies\",\"Appleton'S Dictionary Of Machines, Mechanics, Engine-Work, And Engineering\",\"Wiley Cpa Exam Review 2011, Financial Accounting And Reporting\",\"North Atlantic Regional Water Resources Study Appendix A ... [To Appendix V]\",\"Financial Accountability In Nepal\",\"Google Earth Engine Applications\",\"Component Design For Highly Pressure Charged Diesel Engines\",\"American Folk Medicine\",\"The Retrospect Of Practical Medicine And Surgery\",\"Popular Mechanics\",\"Medicine\",\"Biennial Report Of The Department Of Water Resources\",\"Natural And Energy Resources\",\"Mechanics Of Machinery: Friction And Its Application\",\"Ingenious Mechanicks\",\"Medicine And Surgery\",\"Biennial Report Of The Department Of Water Resources\",\"The American Journal Of Clinical Medicine\",\"Planning Our Resources\",\"Annual Resources Report\",\"The Psychology Of Advertising\",\"The Elements Of Mechanics\",\"The American Journal Of Clinical Medicine\",\"Mortal Engines\",\"Financial Management\",\"Financial Inclusion\",\"Control Of Gas-Turbine And Ramjet Engines\",\"Corliss-Engines And Allied Steam-Motors Working With And Without Automatic Variable Expansion-Gear\",\"Planning Our Resources\",\"Engines Of Creation\",\"Civil Aircraft And Aircraft Engines\",\"Hand-Book Of Modern Steam Fire-Engines\",\"Handbook On California'S Natural Resources\",\"Water Resources Management Iv\",\"Banking Regulation Of Uk And Us Financial Markets\",\"Google Earth Engine Applications\",\"Engines Of Creation\",\"Medicine In Modern Times\",\"Natural Resources Of The United States\",\"Journal Of Practical Medicine\",\"The American Journal Of Clinical Medicine\",\"Advertising Management\",\"The Retrospect Of Medicine\",\"Introduction To Health Care Economics & Financial Management\",\"Corliss-Engines And Allied Steam-Motors Working With And Without Automatic Variable Expansion-Gear\",\"The John H. Chafee Coastal Barrier Resources System\",\"Foreign Publications For Advertising American Goods\",\"Resources And Opportunities Of Montana\",\"Replies To Questionnaires On Aircraft Engine Production Costs And Profits\",\"Mortal Engines\",\"Control Of Advertising On Interstate Highways\",\"Moral Engines\",\"A New And Vastly Improved Edition Of The Industrial Resources Of Wisconsin\",\"Advertising Management\",\"Financial Services 5e\",\"Development Of Non-Bank Financial Institutions And Capital Markets In European Union Accession Countries\",\"Natural And Energy Resources\",\"Replies To Questionnaires On Aircraft Engine Production Costs And Profits\",\"Financial Management Information Package\",\"New York State Journal Of Medicine\",\"Advertising Your Small Business\",\"A B C Of The Steam Engine\",\"Ingenious Mechanicks\",\"Engines\",\"Resources And Opportunities Of Montana\",\"Popular Mechanics\",\"Proceedings Of The Society For Experimental Biology And Medicine\",\"Modern Medicine\",\"Financial Management For Pharmacists\",\"Mortal Engines\",\"Financial Management Information Package\",\"Functional Analysis In Mechanics\",\"The Steam Engine\",\"Political And Commercial Control Of The Mineral Resources Of The World\",\"The Canadian Financial System\",\"Negative Political Advertising\",\"Advertising To The American Woman, 1900-1999\",\"The National Debt, And How To Pay It: Or, The Financial Condition Of The Nation Considered, Etc. [By J. Mcewen.]\",\"Corliss-Engines And Allied Steam-Motors Working With And Without Automatic Variable Expansion-Gear\",\"Natural-Bonded Molding Sand Resources Of Illinois\",\"Invisible Engines\",\"New Technologies For Emission Control In Marine Diesel Engines\",\"Automotive Engine Performance\",\"Medicine\",\"Invisible Engines\",\"Humor In Advertising\",\"Aircraft Propulsion And Gas Turbine Engines\",\"Engines\",\"Mechanics, Molecular Physics And Heat\",\"Theory Of Financial Decision Making\",\"Popular Mechanics\",\"The St. Louis Courier Of Medicine\",\"Mechanics' Magazine\",\"Engines Of Creation\",\"New Technologies For Emission Control In Marine Diesel Engines\",\"Profitable Advertising\",\"Advertising 2.0\",\"Infernal Devices (Mortal Engines, Book 3)\",\"Social Communication In Advertising\",\"Google Earth Engine Applications\",\"Natural And Energy Resources\",\"Medicine\",\"The Journal Of Experimental Medicine\",\"American Folk Medicine\",\"International Accounting/Financial Reporting Standards Guide 2009\",\"Infernal Devices (Mortal Engines, Book 3)\",\"Banking Regulation Of Uk And Us Financial Markets\",\"Engines Of Redemption\",\"Technical Report - South Carolina Marine Resources Division\",\"Medicine\",\"Marine Diesel Engines\",\"North Atlantic Regional Water Resources Study Appendix A ... [To Appendix V]\",\"Heavy Oil As Fuel For Internal-Combustion Engines\",\"Dynamics Of International Advertising\",\"The Big Book Of Engines (Thomas & Friends)\",\"Engines Of Redemption\",\"Technical Report - South Carolina Marine Resources Division\",\"Journal Of Practical Medicine\",\"Advertising\",\"Annual Resources Report\",\"Medicine\",\"Negative Political Advertising\",\"Report On The Trade And Resources Of The Central Provinces\",\"Mortal Engines\",\"Aircraft Propulsion And Gas Turbine Engines\",\"The Big Book Of Engines (Thomas & Friends)\",\"Library Of Advertising\",\"Elements Of Mechanics\",\"Dynamics Of International Advertising\",\"Advertising To Children In China\",\"Natural And Energy Resources\",\"The Advertising Concept Book\",\"Replies To Questionnaires On Aircraft Engine Production Costs And Profits\",\"Financial Management, 2e\",\"Defense Health Care Triservice Strategy Needed To Justify Medical Resources For Readiness And Peacetime Care : Report To Congressional Requesters.\",\"Advertising And Popular Culture\",\"Advertising And The Public Interest\",\"Marine Diesel Engines\",\"Proceedings Of The Financial Management Conference\",\"American Folk Medicine\",\"Financial Management Information Package\",\"A History Of Mechanics\",\"Advertising & Selling Magazine\",\"Hcci And Cai Engines For The Automotive Industry\",\"Planning Our Resources\",\"Foreign Publications For Advertising American Goods\",\"Sex And Gender In Acute Care Medicine\",\"Report Of The City Comptroller, Exhibiting The Receipts, Expenditures, And Financial Condition Of The City Of Milwaukee, For The Year ...\",\"The St. Louis Courier Of Medicine\",\"Selected Water Resources Abstracts\",\"Water Resources Data\",\"Hand-Book Of Modern Steam Fire-Engines\",\"Analytic Cyclopedia Of Practical Medicine\",\"The Elements Of Mechanics\",\"Financial Annual Of Japan\",\"Consolidated Financial Reporting\",\"Financial Management, 2e\",\"Development Of Non-Bank Financial Institutions And Capital Markets In European Union Accession Countries\",\"Hcci And Cai Engines For The Automotive Industry\",\"Advertising And Popular Culture\",\"Effects Of Financial Globalization On Developing Countries: Some Empirical Evidence\",\"Political And Commercial Control Of The Mineral Resources Of The World\",\"Replies To Questionnaires On Aircraft Engine Production Costs And Profits\",\"The Principles Of Elementary Mechanics\",\"Control Of Advertising On Interstate Highways\",\"Proceedings Of The Financial Management Conference\",\"The Elements Of Mechanics\",\"A Manual Of The Practice Of Medicine\",\"The Elements Of Mechanics\",\"North Atlantic Regional Water Resources Study Appendix A ... [To Appendix V]\",\"English Mechanics And The World Of Science\",\"Engines Of Redemption\",\"Financial Institutions Act, 1973\",\"Html5 Game Engines\",\"Financial Services 5e\",\"Medicine In Modern Times\",\"The Financial Bulletin\",\"U.S. Securities, Government Finance, Economic And Financial Conditions\",\"Fracture Mechanics\",\"Medicine\",\"Elements Of Mechanics\",\"Advertising To Children\",\"Beyond Advertising\",\"Wiley Cpa Exam Review 2011, Financial Accounting And Reporting\",\"The Basics Of Finance\",\"Geostatistics For Natural Resources Evaluation\",\"Popular Mechanics\",\"Analytic Cyclopedia Of Practical Medicine\",\"American Almanac And Treasury Of Facts Statistical, Financial And Political\",\"Core Clinical Medicine\",\"The National Debt, And How To Pay It: Or, The Financial Condition Of The Nation Considered, Etc. [By J. Mcewen.]\",\"Fundamentals Of Financial Management\",\"Industrial Resources, Kentucky: Radcliff & Vine Grove\",\"Technical Report - South Carolina Marine Resources Division\",\"A History Of Mechanics\",\"Financial Management Agencies Face Many Challenges In Meeting The Goals Of The Federal Financial Management Improvement Act\",\"The Monthly Cyclop\\u00e6dia Of Practical Medicine. V.1-21, V.22, No. 1-5, Aug. 1887-Apr. 1908\",\"Advertising Management\",\"The Elementary Principles Of Mechanics: Kinetics. 1895\",\"Medicine\",\"Directory Of Japanese Technical Resources In The United States\",\"Atlanta Journal-Record Of Medicine\",\"National Library Of Medicine Classification\",\"Financial Management Information Package\",\"The National Debt, And How To Pay It: Or, The Financial Condition Of The Nation Considered, Etc. [By J. Mcewen.]\",\"Progressive Medicine\",\"Geostatistics For Natural Resources Evaluation\",\"Advertising To Children\",\"Fracture Mechanics\",\"International Banking And Financial Centers\",\"Progressive Medicine\",\"Engines Of Redemption\",\"Mortal Engines\",\"Advertising Of Alcoholic Beverages. H.R. 4627\",\"Dual-Fuel Diesel Engines\",\"Report Of The Committee On Energy And Natural Resources To The Committee On The Budget, United States Senate, Pursuant To Section 301(C) Of The Congressional Budget And Impoundment Control Act Of 1974\",\"Popular Mechanics\",\"Aircraft Propulsion And Gas Turbine Engines\",\"Negative Political Advertising\",\"Popular Mechanics\",\"Financial Annual Of Japan\",\"Marine Diesel Engines\",\"The Steam Engine\",\"Organizational Success Through Effective Human Resources Management\",\"Water Resources Activities In The United States\",\"Transient Control Of Gasoline Engines\",\"Financial Management, 2e\",\"Hcci And Cai Engines For The Automotive Industry\",\"Popular Mechanics\",\"The Psychology Of Advertising\",\"Some Vocational Resources And Needs Of A Rural Community As Determined By The Location Of Special Groups\",\"A Catechism Of The Steam Engine\",\"Negative Political Advertising\",\"The Retrospect Of Practical Medicine And Surgery\",\"Financial Management, 2e\",\"An Epitome Of The American Eclectic Practice Of Medicine, Surgery, Obstetrics, Diseases Of Women And Children, Materia Medica And Pharmacy\",\"Financial Structure And Economic Growth\",\"Mechanics, Molecular Physics And Heat\",\"A Manual Of The Practice Of Medicine\",\"Aircraft Propulsion And Gas Turbine Engines\",\"Negative Political Advertising\",\"Water Resources Data\",\"Ogilvy On Advertising\",\"Water Resources Data\",\"Elementary Mechanics\",\"Mechanics' Magazine\",\"Mechanics, Hydrostatics, Pneumatics, Optics\",\"Water Resources Management Iv\",\"Journal Of Sociologic Medicine\",\"Corliss-Engines And Allied Steam-Motors Working With And Without Automatic Variable Expansion-Gear\",\"Game Mechanics\",\"Water Resources Data\",\"Industrial Resources, Kentucky: Radcliff & Vine Grove\",\"Atlanta Journal-Record Of Medicine\",\"Natural Resources Law Newsletter\",\"Start Your Engines\",\"Dual-Fuel Diesel Engines\",\"Elementary Mechanics\",\"Advertising 2.0\",\"The Resources And Attractions Of Utah\",\"The St. Louis Courier Of Medicine\",\"Advertising Management\",\"Speeches, Addresses And Letters On Industrial And Financial Questions. To Which Is Added An Introduction, Together With Copious Notes, Etc\",\"Domestic Medicine; Or, Plain Instructions In The Art Of Preserving And Restoring Health By Simple And Efficient Means\",\"Effects Of Information Technology On Financial Services Systems\",\"Lessons In Elementary Mechanics\",\"The Laws Of Medicine\",\"Development Of Non-Bank Financial Institutions And Capital Markets In European Union Accession Countries\",\"The Journal Of Experimental Medicine\",\"Report Of The City Comptroller, Exhibiting The Receipts, Expenditures, And Financial Condition Of The City Of Milwaukee, For The Year ...\",\"Fundamentals Of Financial Management\",\"Start Your Engines\",\"Engine Of Impact\",\"Financial Management, 2e\",\"Old Dominion Journal Of Medicine And Surgery\",\"Elements Of Mechanics\",\"Monthly Report On Federal Water Resources Investigations And Construction Projects\",\"Directory Of Japanese Technical Resources In The United States\",\"Financial Management\",\"Planning Our Resources\",\"Some Vocational Resources And Needs Of A Rural Community As Determined By The Location Of Special Groups\",\"Report Of The Committee On Energy And Natural Resources To The Committee On The Budget, United States Senate, Pursuant To Section 301(C) Of The Congressional Budget And Impoundment Control Act Of 1974\",\"Planning Our Resources\",\"Advertising And Sales Promotion\",\"The Devil'S Grin\",\"Medicine And Surgery\",\"Elementary Mechanics\",\"Water Resources Paper\",\"Wiley Cpa Exam Review 2011, Financial Accounting And Reporting\",\"Popular Mechanics\",\"Report On The Trade And Resources Of The Central Provinces\",\"Report Of The Committee On Energy And Natural Resources To The Committee On The Budget, United States Senate, Pursuant To Section 301(C) Of The Congressional Budget And Impoundment Control Act Of 1974\",\"Core Clinical Medicine\",\"Blood Engines\",\"Mechanics' And Engineers' Pocketbook Of Tables\",\"Development Of Non-Bank Financial Institutions And Capital Markets In European Union Accession Countries\",\"Michigan Manufacturer & Financial Record\",\"Component Design For Highly Pressure Charged Diesel Engines\",\"The New England Journal Of Medicine\",\"A History Of Mechanics\",\"Financial Management\",\"Directory Of Japanese Technical Resources In The United States\",\"Mechanics Of Machinery: Friction And Its Application\",\"The New England Journal Of Medicine\",\"Popular Mechanics\",\"Google Earth Engine Applications\",\"Directory Of Japanese Technical Resources In The United States\",\"Mechanics' And Engineers' Pocketbook Of Tables\",\"Popular Mechanics\",\"Water Resources Data\",\"Financial Inclusion\",\"Navy Medicine\",\"American Almanac And Treasury Of Facts Statistical, Financial And Political\",\"Foreign Publications For Advertising American Goods\",\"The Devil'S Grin\",\"Old Dominion Journal Of Medicine And Surgery\",\"Annual Report Of The Board Of Registration In Medicine\",\"Financial Institutions Act, 1973\",\"Functional Analysis In Mechanics\",\"A B C Of The Steam Engine\",\"Proceedings Of The Society For Experimental Biology And Medicine\",\"Some Vocational Resources And Needs Of A Rural Community As Determined By The Location Of Special Groups\",\"Humor In Advertising\",\"New York State Journal Of Medicine\",\"Medicine\",\"Heavy Oil As Fuel For Internal-Combustion Engines\",\"Water Resources Data\",\"Transient Control Of Gasoline Engines\",\"Mechanics' Magazine\",\"Financial Management\",\"How To Advertise\",\"Beyond Advertising\",\"Water Resources Data\",\"Mechanics Of Machinery: Friction And Its Application\",\"Medicine And Surgery\",\"Financial Inclusion\",\"Academic Search Engines\",\"Internal Medicine, Today And Tomorrow\",\"Lessons In Elementary Mechanics\",\"The Commercial & Financial Chronicle ...\",\"Applied Mechanics\",\"Advertising Your Small Business\",\"Water Resources Paper\",\"Industrial Resources, Kentucky: Radcliff & Vine Grove\",\"Mechanics, Hydrostatics, Pneumatics, Optics\",\"Start Your Engines\",\"Advertising And Popular Culture\",\"Negative Political Advertising\",\"The New England Journal Of Medicine\",\"Geology And Water Resources Of The Goose Creek Basin\",\"Heavy Oil As Fuel For Internal-Combustion Engines\",\"Technical Report - South Carolina Marine Resources Division\",\"Report Of The City Comptroller, Exhibiting The Receipts, Expenditures, And Financial Condition Of The City Of Milwaukee, For The Year ...\",\"Directory Of Japanese Technical Resources In The United States\",\"Social Communication In Advertising\",\"Game Mechanics\",\"Advertising & Selling Magazine\",\"Popular Mechanics\",\"Sex And Gender In Acute Care Medicine\",\"Advertising Management\",\"Speeches, Addresses And Letters On Industrial And Financial Questions. To Which Is Added An Introduction, Together With Copious Notes, Etc\",\"Control Of Advertising On Interstate Highways\",\"Engines Of Creation\",\"Infernal Devices (Mortal Engines, Book 3)\",\"Infernal Devices (Mortal Engines, Book 3)\",\"Traditional Use Of Plant Resources By Bankariya Ethnic Group In Makawanpur District, Central Nepal\",\"Html5 Game Engines\",\"Mechanics, Hydrostatics, Pneumatics, Optics\",\"Biennial Report Of The Department Of Water Resources\",\"The Big Book Of Engines (Thomas & Friends)\",\"Game Mechanics\",\"English Mechanics And The World Of Science\",\"Domestic Medicine; Or, Plain Instructions In The Art Of Preserving And Restoring Health By Simple And Efficient Means\",\"Earth Resources\",\"Blood Engines\",\"Natural And Energy Resources\",\"The Commercial And Financial Chronicle\",\"Engineering Mechanics\",\"The Psychology Of Advertising\",\"A Manual Of The Practice Of Medicine\",\"Anachronist\",\"Recommendation Engines\",\"Advertising 2.0\",\"Elements Of Analytical Mechanics\",\"Old Dominion Journal Of Medicine And Surgery\",\"Social Communication In Advertising\",\"Financial Annual Of Japan\",\"Lessons In Elementary Mechanics\",\"Financial Structure And Economic Development\",\"Organizational Success Through Effective Human Resources Management\",\"The Retrospect Of Medicine\",\"Popular Mechanics\",\"Annual Report Of The General Society Of Mechanics And Tradesmen Of The City Of New York\",\"Elements Of Analytical Mechanics\",\"Annual Report Of The Board Of Registration In Medicine\",\"Applied Mechanics\",\"Proceedings Of The Financial Management Conference\",\"Medicine\",\"Handbook On California'S Natural Resources\",\"Engineering Mechanics\",\"Journal Of Practical Medicine\",\"Mechanics, Hydrostatics, Pneumatics, Optics\",\"The Institutes Of Medicine\",\"Popular Mechanics\",\"Proceedings Of The Financial Management Conference\",\"Advertising And Sales Promotion\",\"Elementary Mechanics\",\"Journal Of Practical Medicine\",\"Engines Of Creation\",\"Advertising Management\",\"The Retrospect Of Medicine\",\"Dynamics Of International Advertising\",\"Geostatistics For Natural Resources Evaluation\",\"Internal Combustion Engines\",\"The Principles Of Elementary Mechanics\",\"Report Of The Federal Trade Commission On Distribution Methods And Costs: Advertising As A Factor In Distribution\",\"Old Dominion Journal Of Medicine And Surgery\",\"Applied Mechanics\",\"Advertising To The American Woman, 1900-1999\",\"How To Advertise\",\"Water Resources Paper\",\"Report Of The City Comptroller, Exhibiting The Receipts, Expenditures, And Financial Condition Of The City Of Milwaukee, For The Year ...\",\"Immigration Services\",\"Resources And Opportunities Of Montana\",\"Ogilvy On Advertising\",\"Wiley Cpa Exam Review 2011, Financial Accounting And Reporting\",\"Automotive Engine Performance\",\"Internal Combustion Engines\",\"Hand-Book Of Modern Steam Fire-Engines\",\"The Behavioral Sciences And Preventive Medicine Opportunities And Dilemmas\",\"Start Your Engines\",\"A New And Vastly Improved Edition Of The Industrial Resources Of Wisconsin\",\"Elementary Mechanics\",\"The Monthly Cyclop\\u00e6dia Of Practical Medicine. V.1-21, V.22, No. 1-5, Aug. 1887-Apr. 1908\",\"Water Resources Paper\",\"North Atlantic Regional Water Resources Study Appendix A ... [To Appendix V]\",\"Applied Mechanics\",\"Emotions, Advertising And Consumer Choice\",\"The Mirror Makers\",\"Speeches, Addresses And Letters On Industrial And Financial Questions. To Which Is Added An Introduction, Together With Copious Notes, Etc\",\"Beyond Advertising\",\"North Atlantic Regional Water Resources Study Appendix A ... [To Appendix V]\",\"Advertising 2.0\",\"The Laws Of Medicine\",\"Michigan Manufacturer & Financial Record\",\"Internal Medicine, Today And Tomorrow\",\"International Record Of Medicine And General Practice Clinics\",\"North Atlantic Regional Water Resources Study Appendix A ... [To Appendix V]\",\"Popular Mechanics\",\"Humor In Advertising\",\"Breakthrough Advertising\",\"Internal Medicine, Today And Tomorrow\",\"The Financial Bulletin\",\"Html5 Game Engines\",\"The Principles Of Elementary Mechanics\",\"Technical Report - South Carolina Marine Resources Division\",\"Financial Annual Of Japan\",\"New Technologies For Emission Control In Marine Diesel Engines\",\"Game Mechanics\",\"Advertising Management\",\"Modern Electric Railway Practice: Power Stations, Steam And Gas Engines, Generators, And Switchboards\",\"Reports Submitted To The Council On Library Resources\",\"Selected Water Resources Abstracts\",\"International Banking And Financial Centers\",\"Resources And Opportunities Of Montana\",\"Moral Engines\",\"Water Resources Data\",\"Heavy Oil As Fuel For Internal-Combustion Engines\",\"Highlights Of Natural Resources Management\",\"U.S. Securities, Government Finance, Economic And Financial Conditions\",\"International Banking And Financial Centers\",\"Directory Of Northern Library Resources\",\"Engines Of Anxiety\",\"Corliss-Engines And Allied Steam-Motors Working With And Without Automatic Variable Expansion-Gear\",\"Humor In Advertising\",\"Journal Of Practical Medicine\",\"Financial Annual Of Japan\",\"Financial Accountability In Nepal\",\"Internal Medicine, Today And Tomorrow\",\"Highlights Of Natural Resources Management\",\"Geostatistics For Natural Resources Evaluation\",\"Advertising Management\",\"Atlanta Journal-Record Of Medicine\",\"Financial Services, 2e\",\"Effects Of Financial Globalization On Developing Countries: Some Empirical Evidence\",\"The New England Journal Of Medicine\",\"Mechanics Of Machinery: Friction And Its Application\",\"Report Of The Committee On Energy And Natural Resources To The Committee On The Budget, United States Senate, Pursuant To Section 301(C) Of The Congressional Budget And Impoundment Control Act Of 1974\",\"Engines Of Creation\",\"Profitable Advertising\",\"Advertising Management\",\"Effects Of Information Technology On Financial Services Systems\",\"Old Dominion Journal Of Medicine And Surgery\",\"Infernal Devices (Mortal Engines, Book 3)\",\"The Resources And Attractions Of Utah\",\"Invisible Engines\",\"Atlanta Journal-Record Of Medicine\",\"Elements Of Mechanics\",\"Annual Report Of The Board Of Registration In Medicine\",\"The Commercial & Financial Chronicle ...\",\"Medicine In Modern Times\",\"American Folk Medicine\",\"Earth Resources\",\"Advertising And The Public Interest\",\"Mechanics Of Machinery: Friction And Its Application\",\"Effects Of Information Technology On Financial Services Systems\",\"Industrial Resources, Kentucky: Radcliff & Vine Grove\",\"The Big Book Of Engines (Thomas & Friends)\",\"The Mirror Makers\",\"The Psychology Of Advertising\",\"U.S. Securities, Government Finance, Economic And Financial Conditions\",\"Game Mechanics\",\"Advertising Your Small Business\",\"Html5 Game Engines\",\"Development Of Non-Bank Financial Institutions And Capital Markets In European Union Accession Countries\",\"Web Advertising\",\"The Mirror Makers\",\"Blood Engines\",\"The American Journal Of Clinical Medicine\",\"Fluid Mechanics\",\"Popular Mechanics\",\"Profitable Advertising\",\"Sex And Gender In Acute Care Medicine\",\"Mechanics Of Engineering ...\",\"Financial Management\",\"The Institutes Of Medicine\",\"Modern Medicine\",\"Earth Resources\",\"The Laws Of Medicine\",\"How To Build And Modify Gm Ls-Series Engines\",\"Effects Of Financial Globalization On Developing Countries: Some Empirical Evidence\",\"Technical Report - South Carolina Marine Resources Division\",\"Medicine In Modern Times\",\"Medicine\",\"English Mechanics And The World Of Science\",\"Analytic Cyclopedia Of Practical Medicine\",\"Medicine\",\"Financial Management, 2e\",\"The Retrospect Of Practical Medicine And Surgery\",\"Effects Of Financial Globalization On Developing Countries: Some Empirical Evidence\",\"Breakthrough Advertising\",\"Financial Management Agencies Face Many Challenges In Meeting The Goals Of The Federal Financial Management Improvement Act\",\"Corliss-Engines And Allied Steam-Motors Working With And Without Automatic Variable Expansion-Gear\",\"The John H. Chafee Coastal Barrier Resources System\",\"Exercises For The Applied Mechanics Laboratory\",\"Advertising And Sales Promotion\",\"Recommendation Engines\",\"Report On The Trade And Resources Of The Central Provinces\",\"Emotions, Advertising And Consumer Choice\",\"International Record Of Medicine And General Practice Clinics\",\"Web Advertising\",\"American Folk Medicine\",\"Principles Of Fluid Mechanics And Fluid Machines (Second Edition)\",\"Breakthrough Advertising\",\"Advertising And The Public Interest\",\"Financial Institutions Act, 1973\",\"International Record Of Medicine And General Practice Clinics\",\"Navy Medicine\",\"Directory Of Northern Library Resources\",\"The Journal Of Psychological Medicine And Mental Pathology\",\"Advertising For Dummies\",\"Financial Structure And Economic Development\",\"Natural Resources Of The United States\",\"Financial Accounting: A Dynamic Approach\",\"Anachronist\",\"The Institutes Of Medicine\",\"Analytic Cyclopedia Of Practical Medicine\",\"Medicine\",\"Development Of Non-Bank Financial Institutions And Capital Markets In European Union Accession Countries\",\"Emotions, Advertising And Consumer Choice\",\"Corliss-Engines And Allied Steam-Motors Working With And Without Automatic Variable Expansion-Gear\",\"Old Dominion Journal Of Medicine And Surgery\",\"Earth Resources\",\"The Basics Of Finance\",\"The Financial Bulletin\",\"Ogilvy On Advertising\",\"Popular Mechanics\",\"Financial Services, 2e\",\"Advertising Outdoors\",\"The Institutes Of Medicine\",\"Mortal Engines\",\"Anachronist\",\"Aircraft Propulsion And Gas Turbine Engines\",\"The Canadian Financial System\",\"Exercises For The Applied Mechanics Laboratory\",\"Foreign Publications For Advertising American Goods\",\"Financial Services, 2e\",\"Directory Of Northern Library Resources\",\"Automotive Engine Performance\",\"Html5 Game Engines\",\"Popular Mechanics\",\"Financial Structure And Economic Growth\",\"Natural And Energy Resources\",\"Associative Engines\",\"U.S. Securities, Government Finance, Economic And Financial Conditions\",\"Engine Of Impact\",\"Geology And Water Resources Of The Goose Creek Basin\",\"Principles Of Fluid Mechanics And Fluid Machines (Second Edition)\",\"Mechanics, Molecular Physics And Heat\",\"Directory Of Northern Library Resources\",\"The Commercial & Financial Chronicle ...\",\"An Epitome Of The American Eclectic Practice Of Medicine, Surgery, Obstetrics, Diseases Of Women And Children, Materia Medica And Pharmacy\",\"Mechanics' Magazine\",\"The Mirror Makers\",\"Development Of Non-Bank Financial Institutions And Capital Markets In European Union Accession Countries\",\"The Commercial And Financial Chronicle\",\"Heavy Oil As Fuel For Internal-Combustion Engines\",\"Advertising & Selling Magazine\",\"Humor In Advertising\",\"Engines\",\"Automotive Engine Performance\",\"Elementary Mechanics\",\"Financial Institutions Act, 1973\",\"The St. Louis Courier Of Medicine\",\"Medicine\",\"Michigan Manufacturer & Financial Record\",\"The Elements Of Mechanics\",\"Advertising And Sales Promotion\",\"Dual-Fuel Diesel Engines\",\"The American Journal Of Clinical Medicine\",\"The Profit And Loss Account Of Modern Medicine, And Other Papers\",\"Internal Combustion Engines\",\"Banking Regulation Of Uk And Us Financial Markets\",\"The Retrospect Of Practical Medicine And Surgery\",\"The Basics Of Finance\",\"Engineering Mechanics\",\"Popular Mechanics\",\"Navy Medicine\",\"Michigan Manufacturer & Financial Record\",\"Academic Search Engines\",\"Technical Report - South Carolina Marine Resources Division\",\"Financial Structure And Economic Growth\",\"Financial Management For Pharmacists\",\"Biennial Report Of The Department Of Water Resources\",\"Recommendation Engines\",\"Domestic Medicine; Or, Plain Instructions In The Art Of Preserving And Restoring Health By Simple And Efficient Means\",\"Moral Engines\",\"Component Design For Highly Pressure Charged Diesel Engines\",\"Ogilvy On Advertising\",\"Control Of Gas-Turbine And Ramjet Engines\",\"Financial Accounting: A Dynamic Approach\",\"Modern Electric Railway Practice: Power Stations, Steam And Gas Engines, Generators, And Switchboards\",\"International Banking And Financial Centers\",\"Mechanics\",\"The Retrospect Of Practical Medicine And Surgery\",\"Reality In Advertising\",\"The Journal Of Experimental Medicine\",\"The Profit And Loss Account Of Modern Medicine, And Other Papers\",\"Dynamics Of International Advertising\",\"Natural-Bonded Molding Sand Resources Of Illinois\",\"A New And Vastly Improved Edition Of The Industrial Resources Of Wisconsin\",\"Advertising The American Dream\",\"A New And Vastly Improved Edition Of The Industrial Resources Of Wisconsin\",\"Water Resources Management Iv\",\"Advertising And Sales Promotion\",\"Financial Management Information Package\",\"Dynamics Of International Advertising\",\"North Atlantic Regional Water Resources Study Appendix A ... [To Appendix V]\",\"Google Earth Engine Applications\",\"Engines Of Creation\",\"Popular Mechanics\",\"Breakthrough Advertising\",\"Water Resources Management Iv\",\"The Basics Of Finance\",\"Popular Mechanics\",\"Financial Management, 2e\",\"Marine Diesel Engines\",\"Natural-Bonded Molding Sand Resources Of Illinois\",\"Reality In Advertising\",\"Water Resources Management Iv\",\"Annual Resources Report\",\"Modern Electric Railway Practice: Power Stations, Steam And Gas Engines, Generators, And Switchboards\",\"Wiley Cpa Exam Review 2011, Financial Accounting And Reporting\",\"Engineering Mechanics\",\"The Psychology Of Advertising\",\"Advertising Your Small Business\",\"Advertising Outdoors\",\"Ogilvy On Advertising\",\"Ingenious Mechanicks\",\"U.S. Securities, Government Finance, Economic And Financial Conditions\",\"Financial Management Agencies Face Many Challenges In Meeting The Goals Of The Federal Financial Management Improvement Act\",\"Advertising Of Alcoholic Beverages. H.R. 4627\",\"The Journal Of Psychological Medicine And Mental Pathology\",\"Some Vocational Resources And Needs Of A Rural Community As Determined By The Location Of Special Groups\",\"Academic Search Engines\",\"Negative Political Advertising\",\"Popular Mechanics\",\"Biennial Report Of The Department Of Water Resources\",\"Monthly Report On Federal Water Resources Investigations And Construction Projects\",\"Internal Medicine, Today And Tomorrow\",\"Invisible Engines\",\"Financial Management For Pharmacists\",\"Indian Financial System 5e\",\"American Almanac And Treasury Of Facts Statistical, Financial And Political\",\"Appleton'S Dictionary Of Machines, Mechanics, Engine-Work, And Engineering\",\"Hand-Book Of Modern Steam Fire-Engines\",\"Advertising For Dummies\",\"The Basics Of Finance\",\"Old Dominion Journal Of Medicine And Surgery\",\"Theory Of Financial Decision Making\",\"The Psychology Of Advertising\",\"Effects Of Financial Globalization On Developing Countries: Some Empirical Evidence\",\"Atlanta Journal-Record Of Medicine\",\"Hcci And Cai Engines For The Automotive Industry\",\"Natural-Bonded Molding Sand Resources Of Illinois\",\"Geology And Water Resources Of The Goose Creek Basin\",\"Mechanics\",\"Advertising And The Public Interest\",\"Internal Combustion Engines\",\"A New And Vastly Improved Edition Of The Industrial Resources Of Wisconsin\",\"Dynamics Of International Advertising\",\"Navy Medicine\",\"Anachronist\",\"Library Of Advertising\",\"Consolidated Financial Reporting\",\"Start Your Engines\",\"Advertising And The Public Interest\",\"Anachronist\",\"The Commercial & Financial Chronicle And Hunt'S Merchants' Magazine\",\"Fundamentals Of Financial Management\",\"Medicine In Modern Times\",\"Hand-Book Of Modern Steam Fire-Engines\",\"Financial Institutions Act, 1973\",\"Some Vocational Resources And Needs Of A Rural Community As Determined By The Location Of Special Groups\",\"Hand-Book Of Modern Steam Fire-Engines\",\"The Institutes Of Medicine\",\"The Profit And Loss Account Of Modern Medicine, And Other Papers\",\"Foreign Publications For Advertising American Goods\",\"Modern Electric Railway Practice: Power Stations, Steam And Gas Engines, Generators, And Switchboards\",\"Mechanics Of Engineering ...\",\"Montana\",\"Advertising Of Alcoholic Beverages. H.R. 4627\",\"Advertising To Children In China\",\"Report On The Trade And Resources Of The Central Provinces\",\"Financial Management, 2e\",\"The Institutes Of Medicine\",\"Technical Report - South Carolina Marine Resources Division\",\"Organizational Success Through Effective Human Resources Management\",\"Fundamentals Of Financial Management\",\"An Epitome Of The American Eclectic Practice Of Medicine, Surgery, Obstetrics, Diseases Of Women And Children, Materia Medica And Pharmacy\",\"Advertising Management\",\"North Atlantic Regional Water Resources Study Appendix A ... [To Appendix V]\",\"Consolidated Financial Reporting\",\"Directory Of Northern Library Resources\",\"International Record Of Medicine And General Practice Clinics\",\"Planning Our Resources\",\"A Manual Of The Practice Of Medicine\",\"Resources And Opportunities Of Montana\",\"Ogilvy On Advertising\",\"The Laws Of Medicine\",\"Financial Structure And Economic Growth\",\"Advertising\",\"The Psychology Of Advertising\",\"The Canadian Financial System\",\"Fluid Mechanics\",\"Anachronist\",\"Report Of The Federal Trade Commission On Distribution Methods And Costs: Advertising As A Factor In Distribution\",\"Minnesota Medicine\",\"Water Resources Paper\",\"Mortal Engines\",\"Proceedings Of The Financial Management Conference\",\"Mechanics Of Machinery: Friction And Its Application\",\"Associative Engines\",\"Appleton'S Dictionary Of Machines, Mechanics, Engine-Work, And Engineering\",\"Popular Mechanics\",\"Advertising And Sales Promotion\",\"The Resources And Attractions Of Utah\",\"Advertising Your Small Business\",\"The New England Journal Of Medicine\",\"Advertising Outdoors\",\"Mechanics\",\"Traditional Use Of Plant Resources By Bankariya Ethnic Group In Makawanpur District, Central Nepal\",\"Emotions, Advertising And Consumer Choice\",\"Engine Of Impact\",\"Financial Services, 2e\",\"Medicine\",\"Foreign Publications For Advertising American Goods\",\"International Accounting/Financial Reporting Standards Guide 2009\",\"Advertising\",\"Elements Of Analytical Mechanics\",\"Principles Of Fluid Mechanics And Fluid Machines (Second Edition)\",\"Recommendation Engines\",\"Water Resources Paper\",\"Negative Political Advertising\",\"Beyond Advertising\",\"Proceedings Of The Financial Management Conference\",\"Advertising And Sales Promotion\",\"Advertising\",\"Medicine\",\"Blood Engines\",\"Montana\",\"Resources And Opportunities Of Montana\",\"Physico-Clinical Medicine\",\"Mechanics\",\"Annual Report Of The General Society Of Mechanics And Tradesmen Of The City Of New York\",\"Indian Financial System 5e\",\"Advertising To The American Woman, 1900-1999\",\"Advertising To Children\",\"Water Resources Paper\",\"Old Dominion Journal Of Medicine And Surgery\",\"Hcci And Cai Engines For The Automotive Industry\",\"Automotive Engine Performance\",\"Advertising\",\"Popular Mechanics\",\"Advertising Management\",\"Natural Resources Of The United States\",\"Mechanics' Magazine\",\"Popular Mechanics\",\"Financial Management Information Package\",\"Exercises For The Applied Mechanics Laboratory\",\"Functional Analysis In Mechanics\",\"Navy Medicine\",\"Medicine\",\"Elements Of Analytical Mechanics\",\"Elements Of Analytical Mechanics\",\"Mechanics' And Engineers' Pocketbook Of Tables\",\"Advertising 2.0\",\"Natural And Energy Resources\",\"Invisible Engines\",\"Reality In Advertising\",\"Fundamentals Of Financial Management\",\"Applied Mechanics\",\"Aircraft Propulsion And Gas Turbine Engines\",\"Domestic Medicine; Or, Plain Instructions In The Art Of Preserving And Restoring Health By Simple And Efficient Means\",\"Internal Combustion Engines\",\"Advertising And The Public Interest\",\"Social Communication In Advertising\",\"Financial Structure And Economic Growth\",\"Natural And Energy Resources\",\"Journal Of Sociologic Medicine\",\"Automotive Engine Performance\",\"Fluid Mechanics\",\"Proceedings Of The Society For Experimental Biology And Medicine\",\"How To Build And Modify Gm Ls-Series Engines\",\"Humor In Advertising\",\"Financial Structure And Economic Development\",\"Geostatistics For Natural Resources Evaluation\",\"Start Your Engines\",\"Immigration Services\",\"Hand-Book Of Modern Steam Fire-Engines\",\"American Almanac And Treasury Of Facts Statistical, Financial And Political\",\"Component Design For Highly Pressure Charged Diesel Engines\",\"Biennial Report Of The Department Of Water Resources\",\"Indian Financial System 5e\",\"The American Journal Of Clinical Medicine\",\"Report Of The Federal Trade Commission On Distribution Methods And Costs: Advertising As A Factor In Distribution\",\"Reports Submitted To The Council On Library Resources\",\"Control Of Advertising On Interstate Highways\",\"Advertising For Dummies\",\"Fracture Mechanics\",\"Consolidated Financial Reporting\",\"Proceedings Of The Society For Experimental Biology And Medicine\",\"Html5 Game Engines\",\"A Collection Of Problems In Illustration Of The Principles Of Theoretical Mechanics\",\"Hand-Book Of Modern Steam Fire-Engines\",\"Start Your Engines\",\"Popular Mechanics\",\"Automotive Engine Performance\",\"Advertising Of Alcoholic Beverages. H.R. 4627\",\"Heavy Oil As Fuel For Internal-Combustion Engines\",\"The Behavioral Sciences And Preventive Medicine Opportunities And Dilemmas\",\"Speeches, Addresses And Letters On Industrial And Financial Questions. To Which Is Added An Introduction, Together With Copious Notes, Etc\",\"The Basics Of Finance\",\"North Atlantic Regional Water Resources Study Appendix A ... [To Appendix V]\",\"Negative Political Advertising\",\"Effects Of Financial Globalization On Developing Countries: Some Empirical Evidence\",\"Foreign Publications For Advertising American Goods\",\"The Elementary Principles Of Mechanics: Kinetics. 1895\",\"The Elements Of Mechanics\",\"International Banking And Financial Centers\",\"New Technologies For Emission Control In Marine Diesel Engines\",\"American Almanac And Treasury Of Facts Statistical, Financial And Political\",\"Elements Of Analytical Mechanics\",\"Directory Of Northern Library Resources\",\"Advertising And The Public Interest\",\"Popular Mechanics\",\"A Manual Of The Practice Of Medicine\",\"Montana\",\"Heavy Oil As Fuel For Internal-Combustion Engines\",\"Mechanics\",\"The Profit And Loss Account Of Modern Medicine, And Other Papers\",\"The Mirror Makers\",\"Natural-Bonded Molding Sand Resources Of Illinois\",\"Financial Management Information Package\",\"Mechanics Of Engineering ...\",\"Water Resources Management Iv\",\"The Journal Of Psychological Medicine And Mental Pathology\",\"Google Earth Engine Applications\",\"Theory Of Financial Decision Making\",\"A History Of Mechanics\",\"The Mirror Makers\",\"Speeches, Addresses And Letters On Industrial And Financial Questions. To Which Is Added An Introduction, Together With Copious Notes, Etc\",\"Geostatistics For Natural Resources Evaluation\",\"Organizational Success Through Effective Human Resources Management\",\"Recommendation Engines\",\"Financial Accountability In Nepal\",\"The Canadian Financial System\",\"Advertising And Sales Promotion\",\"Elements Of Mechanics\",\"The St. Louis Courier Of Medicine\",\"A Catechism Of The Steam Engine\",\"Financial Structure And Economic Development\",\"U.S. Securities, Government Finance, Economic And Financial Conditions\",\"Dual-Fuel Diesel Engines\",\"Geology And Water Resources Of The Goose Creek Basin\",\"Popular Mechanics\",\"Advertising Management\",\"Water Resources Data\",\"Mechanics, Hydrostatics, Pneumatics, Optics\",\"Advertising And Sales Promotion\",\"Exercises For The Applied Mechanics Laboratory\",\"Civil Aircraft And Aircraft Engines\",\"Internal Medicine, Today And Tomorrow\",\"Defense Health Care Triservice Strategy Needed To Justify Medical Resources For Readiness And Peacetime Care : Report To Congressional Requesters.\",\"Advertising To The American Woman, 1900-1999\",\"Consolidated Financial Reporting\",\"Civil Aircraft And Aircraft Engines\",\"Sex And Gender In Acute Care Medicine\",\"Core Clinical Medicine\",\"Automotive Engine Performance\",\"The American Journal Of Clinical Medicine\",\"Advertising Outdoors\",\"International Record Of Medicine And General Practice Clinics\",\"Directory Of Northern Library Resources\",\"Transient Control Of Gasoline Engines\",\"Control Of Advertising On Interstate Highways\",\"Organizational Success Through Effective Human Resources Management\",\"Popular Mechanics\",\"Html5 Game Engines\",\"The National Debt, And How To Pay It: Or, The Financial Condition Of The Nation Considered, Etc. [By J. Mcewen.]\",\"Domestic Medicine; Or, Plain Instructions In The Art Of Preserving And Restoring Health By Simple And Efficient Means\",\"Effects Of Information Technology On Financial Services Systems\",\"Library Of Advertising\",\"Anachronist\",\"Geology And Water Resources Of The Goose Creek Basin\",\"Consolidated Financial Reporting\",\"Atlanta Journal-Record Of Medicine\",\"The Retrospect Of Medicine\",\"Earth Resources\",\"Engineering Mechanics\",\"The Behavioral Sciences And Preventive Medicine Opportunities And Dilemmas\",\"Domestic Medicine; Or, Plain Instructions In The Art Of Preserving And Restoring Health By Simple And Efficient Means\",\"Financial Management Agencies Face Many Challenges In Meeting The Goals Of The Federal Financial Management Improvement Act\",\"U.S. Securities, Government Finance, Economic And Financial Conditions\",\"Annual Report Of The General Society Of Mechanics And Tradesmen Of The City Of New York\",\"Social Communication In Advertising\",\"Annual Report Of The Board Of Registration In Medicine\",\"Reports Submitted To The Council On Library Resources\",\"Water Resources Management Iv\",\"The Retrospect Of Medicine\",\"Sex And Gender In Acute Care Medicine\",\"Advertising Your Small Business\",\"Financial Structure And Economic Growth\",\"Analytic Cyclopedia Of Practical Medicine\",\"International Banking And Financial Centers\",\"Directory Of Japanese Technical Resources In The United States\",\"Aircraft Propulsion And Gas Turbine Engines\",\"The Commercial & Financial Chronicle And Hunt'S Merchants' Magazine\",\"Foreign Publications For Advertising American Goods\",\"Financial Annual Of Japan\",\"Financial Management, 2e\",\"Effects Of Financial Globalization On Developing Countries: Some Empirical Evidence\",\"The Elements Of Mechanics\",\"Fracture Mechanics\",\"Department Publications - State Of California, Dept. Of Water Resources\",\"International Accounting/Financial Reporting Standards Guide 2009\",\"Theory Of Financial Decision Making\",\"Wiley Cpa Exam Review 2011, Financial Accounting And Reporting\",\"International Record Of Medicine And General Practice Clinics\",\"Reports Submitted To The Council On Library Resources\",\"Advertising And The Public Interest\",\"Game Mechanics\",\"Mechanics, Hydrostatics, Pneumatics, Optics\",\"Advertising To The American Woman, 1900-1999\",\"Water Resources Data\",\"Marine Diesel Engines\",\"The Financial Bulletin\",\"Natural Resources Law Newsletter\",\"Old Dominion Journal Of Medicine And Surgery\",\"The Elementary Principles Of Mechanics: Kinetics. 1895\",\"Advertising Management\",\"Advertising To The American Woman, 1900-1999\",\"The Journal Of Psychological Medicine And Mental Pathology\",\"Web Advertising\",\"Corliss-Engines And Allied Steam-Motors Working With And Without Automatic Variable Expansion-Gear\",\"Planning Our Resources\",\"Geostatistics For Natural Resources Evaluation\",\"Popular Mechanics\",\"Advertising\",\"The Behavioral Sciences And Preventive Medicine Opportunities And Dilemmas\",\"A Collection Of Problems In Illustration Of The Principles Of Theoretical Mechanics\",\"The Retrospect Of Practical Medicine And Surgery\",\"Advertising And The Public Interest\",\"Civil Aircraft And Aircraft Engines\",\"Earth Resources\",\"Elementary Mechanics\",\"Fracture Mechanics\",\"Marine Diesel Engines\",\"Negative Political Advertising\",\"Defense Health Care Triservice Strategy Needed To Justify Medical Resources For Readiness And Peacetime Care : Report To Congressional Requesters.\",\"American Folk Medicine\",\"The Big Book Of Engines (Thomas & Friends)\",\"Advertising For Dummies\",\"A History Of Mechanics\",\"Fluid Mechanics\",\"Popular Mechanics\",\"Department Publications - State Of California, Dept. Of Water Resources\",\"Negative Political Advertising\",\"The St. Louis Courier Of Medicine\",\"Speeches, Addresses And Letters On Industrial And Financial Questions. To Which Is Added An Introduction, Together With Copious Notes, Etc\",\"Immigration Services\",\"How To Build And Modify Gm Ls-Series Engines\",\"Fundamentals Of Financial Management\",\"Heavy Oil As Fuel For Internal-Combustion Engines\",\"Annual Resources Report\",\"The Commercial & Financial Chronicle And Hunt'S Merchants' Magazine\",\"Engine Of Impact\",\"Mortal Engines\",\"Analytic Cyclopedia Of Practical Medicine\",\"Civil Aircraft And Aircraft Engines\",\"Replies To Questionnaires On Aircraft Engine Production Costs And Profits\",\"Monthly Report On Federal Water Resources Investigations And Construction Projects\",\"The Financial Bulletin\",\"Ingenious Mechanicks\",\"American Almanac And Treasury Of Facts Statistical, Financial And Political\",\"Proceedings Of The Society For Experimental Biology And Medicine\",\"Corliss-Engines And Allied Steam-Motors Working With And Without Automatic Variable Expansion-Gear\",\"Water Resources Activities In The United States\",\"Mortal Engines\",\"Traditional Use Of Plant Resources By Bankariya Ethnic Group In Makawanpur District, Central Nepal\",\"The Elements Of Mechanics\",\"Indian Financial System 5e\",\"Aircraft Propulsion And Gas Turbine Engines\",\"Mechanics Of Machinery: Friction And Its Application\",\"Effects Of Financial Globalization On Developing Countries: Some Empirical Evidence\",\"Internal Medicine, Today And Tomorrow\",\"Appleton'S Dictionary Of Machines, Mechanics, Engine-Work, And Engineering\",\"Advertising Management\",\"Advertising 2.0\",\"Social Communication In Advertising\",\"Advertising\",\"The American Journal Of Clinical Medicine\",\"Tractor And Gas Engine Review\",\"Medicine\",\"The Profit And Loss Account Of Modern Medicine, And Other Papers\",\"Geostatistics For Natural Resources Evaluation\",\"English Mechanics And The World Of Science\",\"Advertising And Sales Promotion\",\"Ogilvy On Advertising\",\"Water Resources Paper\",\"Speeches, Addresses And Letters On Industrial And Financial Questions. To Which Is Added An Introduction, Together With Copious Notes, Etc\",\"The Journal Of Psychological Medicine And Mental Pathology\",\"Resources And Opportunities Of Montana\",\"Effects Of Information Technology On Financial Services Systems\",\"U.S. Securities, Government Finance, Economic And Financial Conditions\",\"Development Of Non-Bank Financial Institutions And Capital Markets In European Union Accession Countries\",\"Earth Resources\",\"Water Resources Management Iv\",\"Heavy Oil As Fuel For Internal-Combustion Engines\",\"How To Build And Modify Gm Ls-Series Engines\",\"The Devil'S Grin\",\"Infernal Devices (Mortal Engines, Book 3)\",\"Financial Management\",\"Financial Management\",\"An Epitome Of The American Eclectic Practice Of Medicine, Surgery, Obstetrics, Diseases Of Women And Children, Materia Medica And Pharmacy\",\"Engine Of Impact\",\"Advertising The American Dream\",\"Popular Mechanics\",\"Profitable Advertising\",\"Advertising For Dummies\",\"New York State Journal Of Medicine\",\"Replies To Questionnaires On Aircraft Engine Production Costs And Profits\",\"Natural Resources Law Newsletter\",\"Mechanics, Molecular Physics And Heat\",\"Fundamentals Of Financial Management\",\"Popular Mechanics\",\"Modern Medicine\",\"A Catechism Of The Steam Engine\",\"Foreign Publications For Advertising American Goods\",\"Physico-Clinical Medicine\",\"Financial Inclusion\",\"Ogilvy On Advertising\",\"Report On The Trade And Resources Of The Central Provinces\",\"Water Resources Data\",\"Banking Regulation Of Uk And Us Financial Markets\",\"Breakthrough Advertising\",\"The Journal Of Experimental Medicine\",\"Advertising Management\",\"Financial Management For Pharmacists\",\"Marine Diesel Engines\",\"English Mechanics And The World Of Science\",\"Advertising The American Dream\",\"Popular Mechanics\",\"Academic Search Engines\",\"A Collection Of Problems In Illustration Of The Principles Of Theoretical Mechanics\",\"Engine Of Impact\",\"Advertising To Children In China\",\"Annual Report Of The General Society Of Mechanics And Tradesmen Of The City Of New York\",\"Directory Of Northern Library Resources\",\"National Library Of Medicine Classification\",\"Old Dominion Journal Of Medicine And Surgery\",\"Resources And Opportunities Of Montana\",\"Water Resources Paper\",\"Report Of The Federal Trade Commission On Distribution Methods And Costs: Advertising As A Factor In Distribution\",\"Navy Medicine\",\"Organizational Success Through Effective Human Resources Management\",\"Advertising To The American Woman, 1900-1999\",\"Engines Of Redemption\",\"Advertising The American Dream\",\"Advertising To Children\",\"Ogilvy On Advertising\",\"Navy Medicine\",\"How To Advertise\",\"The Laws Of Medicine\",\"Popular Mechanics\",\"Mechanics' Magazine\",\"The John H. Chafee Coastal Barrier Resources System\",\"Natural Resources Of The United States\",\"Elements Of Mechanics\",\"Applied Mechanics\",\"Progressive Medicine\",\"How To Advertise\",\"Heavy Oil As Fuel For Internal-Combustion Engines\",\"Mechanics' And Engineers' Pocketbook Of Tables\",\"Montana\",\"Traditional Use Of Plant Resources By Bankariya Ethnic Group In Makawanpur District, Central Nepal\",\"Internal Medicine, Today And Tomorrow\",\"Advertising Of Alcoholic Beverages. H.R. 4627\",\"Handbook On California'S Natural Resources\",\"The New England Journal Of Medicine\",\"The Journal Of Experimental Medicine\",\"Annual Resources Report\",\"Emotions, Advertising And Consumer Choice\",\"Replies To Questionnaires On Aircraft Engine Production Costs And Profits\",\"Advertising To Children\",\"Aircraft Propulsion And Gas Turbine Engines\",\"Mortal Engines\",\"Report On The Trade And Resources Of The Central Provinces\",\"Banking Regulation Of Uk And Us Financial Markets\",\"Popular Mechanics\",\"Popular Mechanics\",\"Advertising Management\",\"The Big Book Of Engines (Thomas & Friends)\",\"Analytic Cyclopedia Of Practical Medicine\",\"Invisible Engines\",\"Medicine And Surgery\",\"Analytic Cyclopedia Of Practical Medicine\",\"Internal Combustion Engines\",\"Advertising And Popular Culture\",\"The Laws Of Medicine\",\"Associative Engines\",\"Analytic Cyclopedia Of Practical Medicine\",\"Component Design For Highly Pressure Charged Diesel Engines\",\"A New And Vastly Improved Edition Of The Industrial Resources Of Wisconsin\",\"Department Publications - State Of California, Dept. Of Water Resources\",\"The Advertising Concept Book\",\"Ingenious Mechanicks\",\"Financial Management, 2e\",\"Profitable Advertising\",\"The Financial Bulletin\",\"A Catechism Of The Steam Engine\",\"Emotions, Advertising And Consumer Choice\",\"Marine Diesel Engines\",\"Geostatistics For Natural Resources Evaluation\",\"Ingenious Mechanicks\",\"Selected Water Resources Abstracts\",\"A Manual Of Family Medicine For India\",\"Effects Of Information Technology On Financial Services Systems\",\"Corliss-Engines And Allied Steam-Motors Working With And Without Automatic Variable Expansion-Gear\",\"The Principles Of Elementary Mechanics\",\"Advertising And Popular Culture\",\"Indian Financial System 5e\",\"Control Of Gas-Turbine And Ramjet Engines\",\"North Atlantic Regional Water Resources Study Appendix A ... [To Appendix V]\",\"Report On The Trade And Resources Of The Central Provinces\",\"The Mirror Makers\",\"Advertising And The Public Interest\",\"Engine Of Impact\",\"Traditional Use Of Plant Resources By Bankariya Ethnic Group In Makawanpur District, Central Nepal\",\"Emotions, Advertising And Consumer Choice\",\"Financial Management, 2e\",\"Popular Mechanics\",\"Old Dominion Journal Of Medicine And Surgery\",\"Principles Of Fluid Mechanics And Fluid Machines (Second Edition)\",\"A History Of Mechanics\",\"Mechanics, Hydrostatics, Pneumatics, Optics\",\"Academic Search Engines\",\"Industrial Resources, Kentucky: Radcliff & Vine Grove\",\"Minnesota Medicine\",\"Domestic Medicine; Or, Plain Instructions In The Art Of Preserving And Restoring Health By Simple And Efficient Means\",\"The Psychology Of Advertising\",\"Game Mechanics\",\"Anachronist\",\"Financial Management Information Package\",\"A B C Of The Steam Engine\",\"Popular Mechanics\",\"Annual Report Of The Board Of Registration In Medicine\",\"Effects Of Financial Globalization On Developing Countries: Some Empirical Evidence\",\"How To Build And Modify Gm Ls-Series Engines\",\"Monthly Report On Federal Water Resources Investigations And Construction Projects\",\"Immigration Services\",\"Control Of Advertising On Interstate Highways\",\"Report Of The Federal Trade Commission On Distribution Methods And Costs: Advertising As A Factor In Distribution\",\"Advertising And The Public Interest\",\"Biennial Report Of The Department Of Water Resources\",\"Mechanics, Hydrostatics, Pneumatics, Optics\",\"Advertising Of Alcoholic Beverages. H.R. 4627\",\"Advertising Management\",\"Mechanics\",\"Selected Water Resources Abstracts\",\"Blood Engines\",\"Core Clinical Medicine\",\"The Mirror Makers\"],\"shape\":[2000],\"dtype\":\"object\",\"order\":\"little\"}],[\"price\",{\"type\":\"ndarray\",\"array\":{\"type\":\"bytes\",\"data\":\"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\"},\"shape\":[2000],\"dtype\":\"float32\",\"order\":\"little\"}],[\"book_returned\",{\"type\":\"ndarray\",\"array\":{\"type\":\"bytes\",\"data\":\"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\"},\"shape\":[2000],\"dtype\":\"int32\",\"order\":\"little\"}]]}}},\"view\":{\"type\":\"object\",\"name\":\"CDSView\",\"id\":\"p3267\",\"attributes\":{\"filter\":{\"type\":\"object\",\"name\":\"AllIndices\",\"id\":\"p3268\"}}},\"columns\":[{\"type\":\"object\",\"name\":\"TableColumn\",\"id\":\"p3235\",\"attributes\":{\"field\":\"name\",\"title\":\"name\",\"formatter\":{\"type\":\"object\",\"name\":\"StringFormatter\",\"id\":\"p3233\"},\"editor\":{\"type\":\"object\",\"name\":\"StringEditor\",\"id\":\"p3234\"}}},{\"type\":\"object\",\"name\":\"TableColumn\",\"id\":\"p3240\",\"attributes\":{\"field\":\"gender\",\"title\":\"gender\",\"formatter\":{\"type\":\"object\",\"name\":\"StringFormatter\",\"id\":\"p3238\"},\"editor\":{\"type\":\"object\",\"name\":\"StringEditor\",\"id\":\"p3239\"}}},{\"type\":\"object\",\"name\":\"TableColumn\",\"id\":\"p3245\",\"attributes\":{\"field\":\"age\",\"title\":\"age\",\"formatter\":{\"type\":\"object\",\"name\":\"NumberFormatter\",\"id\":\"p3243\",\"attributes\":{\"format\":\"0,0.0[00000]\"}},\"editor\":{\"type\":\"object\",\"name\":\"NumberEditor\",\"id\":\"p3244\"}}},{\"type\":\"object\",\"name\":\"TableColumn\",\"id\":\"p3250\",\"attributes\":{\"field\":\"title\",\"title\":\"title\",\"formatter\":{\"type\":\"object\",\"name\":\"StringFormatter\",\"id\":\"p3248\"},\"editor\":{\"type\":\"object\",\"name\":\"StringEditor\",\"id\":\"p3249\"}}},{\"type\":\"object\",\"name\":\"TableColumn\",\"id\":\"p3255\",\"attributes\":{\"field\":\"price\",\"title\":\"price\",\"formatter\":{\"type\":\"object\",\"name\":\"NumberFormatter\",\"id\":\"p3253\",\"attributes\":{\"format\":\"0,0.0[00000]\"}},\"editor\":{\"type\":\"object\",\"name\":\"NumberEditor\",\"id\":\"p3254\"}}},{\"type\":\"object\",\"name\":\"TableColumn\",\"id\":\"p3260\",\"attributes\":{\"field\":\"book_returned\",\"title\":\"book_returned\",\"formatter\":{\"type\":\"object\",\"name\":\"NumberFormatter\",\"id\":\"p3258\"},\"editor\":{\"type\":\"object\",\"name\":\"IntEditor\",\"id\":\"p3259\"}}}],\"reorderable\":false}},{\"type\":\"object\",\"name\":\"Spacer\",\"id\":\"p3270\",\"attributes\":{\"name\":\"HSpacer04545\",\"stylesheets\":[\"\\n:host(.pn-loading):before, .pn-loading:before {\\n  background-color: #c3c3c3;\\n  mask-size: auto calc(min(50%, 400px));\\n  -webkit-mask-size: auto calc(min(50%, 400px));\\n}\",{\"id\":\"p3228\"},{\"id\":\"p3226\"},{\"id\":\"p3227\"}],\"margin\":0,\"sizing_mode\":\"stretch_width\",\"align\":\"start\"}}]}}],\"defs\":[{\"type\":\"model\",\"name\":\"ReactiveHTML1\"},{\"type\":\"model\",\"name\":\"FlexBox1\",\"properties\":[{\"name\":\"align_content\",\"kind\":\"Any\",\"default\":\"flex-start\"},{\"name\":\"align_items\",\"kind\":\"Any\",\"default\":\"flex-start\"},{\"name\":\"flex_direction\",\"kind\":\"Any\",\"default\":\"row\"},{\"name\":\"flex_wrap\",\"kind\":\"Any\",\"default\":\"wrap\"},{\"name\":\"gap\",\"kind\":\"Any\",\"default\":\"\"},{\"name\":\"justify_content\",\"kind\":\"Any\",\"default\":\"flex-start\"}]},{\"type\":\"model\",\"name\":\"FloatPanel1\",\"properties\":[{\"name\":\"config\",\"kind\":\"Any\",\"default\":{\"type\":\"map\"}},{\"name\":\"contained\",\"kind\":\"Any\",\"default\":true},{\"name\":\"position\",\"kind\":\"Any\",\"default\":\"right-top\"},{\"name\":\"offsetx\",\"kind\":\"Any\",\"default\":null},{\"name\":\"offsety\",\"kind\":\"Any\",\"default\":null},{\"name\":\"theme\",\"kind\":\"Any\",\"default\":\"primary\"},{\"name\":\"status\",\"kind\":\"Any\",\"default\":\"normalized\"}]},{\"type\":\"model\",\"name\":\"GridStack1\",\"properties\":[{\"name\":\"mode\",\"kind\":\"Any\",\"default\":\"warn\"},{\"name\":\"ncols\",\"kind\":\"Any\",\"default\":null},{\"name\":\"nrows\",\"kind\":\"Any\",\"default\":null},{\"name\":\"allow_resize\",\"kind\":\"Any\",\"default\":true},{\"name\":\"allow_drag\",\"kind\":\"Any\",\"default\":true},{\"name\":\"state\",\"kind\":\"Any\",\"default\":[]}]},{\"type\":\"model\",\"name\":\"drag1\",\"properties\":[{\"name\":\"slider_width\",\"kind\":\"Any\",\"default\":5},{\"name\":\"slider_color\",\"kind\":\"Any\",\"default\":\"black\"},{\"name\":\"value\",\"kind\":\"Any\",\"default\":50}]},{\"type\":\"model\",\"name\":\"click1\",\"properties\":[{\"name\":\"terminal_output\",\"kind\":\"Any\",\"default\":\"\"},{\"name\":\"debug_name\",\"kind\":\"Any\",\"default\":\"\"},{\"name\":\"clears\",\"kind\":\"Any\",\"default\":0}]},{\"type\":\"model\",\"name\":\"FastWrapper1\",\"properties\":[{\"name\":\"object\",\"kind\":\"Any\",\"default\":null},{\"name\":\"style\",\"kind\":\"Any\",\"default\":null}]},{\"type\":\"model\",\"name\":\"NotificationAreaBase1\",\"properties\":[{\"name\":\"js_events\",\"kind\":\"Any\",\"default\":{\"type\":\"map\"}},{\"name\":\"position\",\"kind\":\"Any\",\"default\":\"bottom-right\"},{\"name\":\"_clear\",\"kind\":\"Any\",\"default\":0}]},{\"type\":\"model\",\"name\":\"NotificationArea1\",\"properties\":[{\"name\":\"js_events\",\"kind\":\"Any\",\"default\":{\"type\":\"map\"}},{\"name\":\"notifications\",\"kind\":\"Any\",\"default\":[]},{\"name\":\"position\",\"kind\":\"Any\",\"default\":\"bottom-right\"},{\"name\":\"_clear\",\"kind\":\"Any\",\"default\":0},{\"name\":\"types\",\"kind\":\"Any\",\"default\":[{\"type\":\"map\",\"entries\":[[\"type\",\"warning\"],[\"background\",\"#ffc107\"],[\"icon\",{\"type\":\"map\",\"entries\":[[\"className\",\"fas fa-exclamation-triangle\"],[\"tagName\",\"i\"],[\"color\",\"white\"]]}]]},{\"type\":\"map\",\"entries\":[[\"type\",\"info\"],[\"background\",\"#007bff\"],[\"icon\",{\"type\":\"map\",\"entries\":[[\"className\",\"fas fa-info-circle\"],[\"tagName\",\"i\"],[\"color\",\"white\"]]}]]}]}]},{\"type\":\"model\",\"name\":\"Notification\",\"properties\":[{\"name\":\"background\",\"kind\":\"Any\",\"default\":null},{\"name\":\"duration\",\"kind\":\"Any\",\"default\":3000},{\"name\":\"icon\",\"kind\":\"Any\",\"default\":null},{\"name\":\"message\",\"kind\":\"Any\",\"default\":\"\"},{\"name\":\"notification_type\",\"kind\":\"Any\",\"default\":null},{\"name\":\"_destroyed\",\"kind\":\"Any\",\"default\":false}]},{\"type\":\"model\",\"name\":\"TemplateActions1\",\"properties\":[{\"name\":\"open_modal\",\"kind\":\"Any\",\"default\":0},{\"name\":\"close_modal\",\"kind\":\"Any\",\"default\":0}]},{\"type\":\"model\",\"name\":\"BootstrapTemplateActions1\",\"properties\":[{\"name\":\"open_modal\",\"kind\":\"Any\",\"default\":0},{\"name\":\"close_modal\",\"kind\":\"Any\",\"default\":0}]},{\"type\":\"model\",\"name\":\"TemplateEditor1\",\"properties\":[{\"name\":\"layout\",\"kind\":\"Any\",\"default\":[]}]},{\"type\":\"model\",\"name\":\"MaterialTemplateActions1\",\"properties\":[{\"name\":\"open_modal\",\"kind\":\"Any\",\"default\":0},{\"name\":\"close_modal\",\"kind\":\"Any\",\"default\":0}]},{\"type\":\"model\",\"name\":\"ReactiveESM1\"},{\"type\":\"model\",\"name\":\"JSComponent1\"},{\"type\":\"model\",\"name\":\"ReactComponent1\"},{\"type\":\"model\",\"name\":\"AnyWidgetComponent1\"},{\"type\":\"model\",\"name\":\"request_value1\",\"properties\":[{\"name\":\"fill\",\"kind\":\"Any\",\"default\":\"none\"},{\"name\":\"_synced\",\"kind\":\"Any\",\"default\":null},{\"name\":\"_request_sync\",\"kind\":\"Any\",\"default\":0}]}]}};\n",
       "  var render_items = [{\"docid\":\"d6e74cbe-f60c-4955-aeb0-710244406984\",\"roots\":{\"p3225\":\"fd80ddf5-6b4d-4d0a-89cf-29305328d0c5\"},\"root_ids\":[\"p3225\"]}];\n",
       "  var docs = Object.values(docs_json)\n",
       "  if (!docs) {\n",
       "    return\n",
       "  }\n",
       "  const py_version = docs[0].version.replace('rc', '-rc.').replace('.dev', '-dev.')\n",
       "  async function embed_document(root) {\n",
       "    var Bokeh = get_bokeh(root)\n",
       "    await Bokeh.embed.embed_items_notebook(docs_json, render_items);\n",
       "    for (const render_item of render_items) {\n",
       "      for (const root_id of render_item.root_ids) {\n",
       "\tconst id_el = document.getElementById(root_id)\n",
       "\tif (id_el.children.length && id_el.children[0].hasAttribute('data-root-id')) {\n",
       "\t  const root_el = id_el.children[0]\n",
       "\t  root_el.id = root_el.id + '-rendered'\n",
       "\t  for (const child of root_el.children) {\n",
       "            // Ensure JupyterLab does not capture keyboard shortcuts\n",
       "            // see: https://jupyterlab.readthedocs.io/en/4.1.x/extension/notebook.html#keyboard-interaction-model\n",
       "\t    child.setAttribute('data-lm-suppress-shortcuts', 'true')\n",
       "\t  }\n",
       "\t}\n",
       "      }\n",
       "    }\n",
       "  }\n",
       "  function get_bokeh(root) {\n",
       "    if (root.Bokeh === undefined) {\n",
       "      return null\n",
       "    } else if (root.Bokeh.version !== py_version) {\n",
       "      if (root.Bokeh.versions === undefined || !root.Bokeh.versions.has(py_version)) {\n",
       "\treturn null\n",
       "      }\n",
       "      return root.Bokeh.versions.get(py_version);\n",
       "    } else if (root.Bokeh.version === py_version) {\n",
       "      return root.Bokeh\n",
       "    }\n",
       "    return null\n",
       "  }\n",
       "  function is_loaded(root) {\n",
       "    var Bokeh = get_bokeh(root)\n",
       "    return (Bokeh != null && Bokeh.Panel !== undefined)\n",
       "  }\n",
       "  if (is_loaded(root)) {\n",
       "    embed_document(root);\n",
       "  } else {\n",
       "    var attempts = 0;\n",
       "    var timer = setInterval(function(root) {\n",
       "      if (is_loaded(root)) {\n",
       "        clearInterval(timer);\n",
       "        embed_document(root);\n",
       "      } else if (document.readyState == \"complete\") {\n",
       "        attempts++;\n",
       "        if (attempts > 200) {\n",
       "          clearInterval(timer);\n",
       "\t  var Bokeh = get_bokeh(root)\n",
       "\t  if (Bokeh == null || Bokeh.Panel == null) {\n",
       "            console.warn(\"Panel: ERROR: Unable to run Panel code because Bokeh or Panel library is missing\");\n",
       "\t  } else {\n",
       "\t    console.warn(\"Panel: WARNING: Attempting to render but not all required libraries could be resolved.\")\n",
       "\t    embed_document(root)\n",
       "\t  }\n",
       "        }\n",
       "      }\n",
       "    }, 25, root)\n",
       "  }\n",
       "})(window);</script>"
      ],
      "text/plain": [
       ":Table   [name,gender,age,title,price,book_returned]"
      ]
     },
     "execution_count": 134,
     "metadata": {
      "application/vnd.holoviews_exec.v0+json": {
       "id": "p3225"
      }
     },
     "output_type": "execute_result"
    }
   ],
   "source": [
    "sub_library_df = library_df.select(\n",
    "    [\n",
    "        \"patron_id\",\n",
    "        \"name\",\n",
    "        \"gender\",\n",
    "        \"education\",\n",
    "        \"occupation\",\n",
    "        \"age\",\n",
    "        \"age_category\",\n",
    "        \"days_holding_book\",\n",
    "        \"title\",\n",
    "        \"published_year\",\n",
    "        \"categories\",\n",
    "        \"price\",\n",
    "        \"pages\",\n",
    "        \"book_returned\",\n",
    "    ]\n",
    ")\n",
    "sub_library_df.hvplot.table(\n",
    "    columns=[\"name\", \"gender\", \"age\", \"title\", \"price\", \"book_returned\"],\n",
    "    sortable=True,\n",
    "    selectable=True,\n",
    ")"
   ]
  },
  {
   "cell_type": "code",
   "execution_count": 123,
   "id": "b9b4ff02-1d86-4839-9cef-c88f9315ec4f",
   "metadata": {},
   "outputs": [
    {
     "data": {
      "text/html": [
       "<div><style>\n",
       ".dataframe > thead > tr,\n",
       ".dataframe > tbody > tr {\n",
       "  text-align: right;\n",
       "  white-space: pre-wrap;\n",
       "}\n",
       "</style>\n",
       "<small>shape: (6, 7)</small><table border=\"1\" class=\"dataframe\"><thead><tr><th>gender</th><th>book_returned</th><th>gender_returning_book</th><th>median_reader_age</th><th>median_book_price</th><th>median_days_renting</th><th>mean_book_pages</th></tr><tr><td>str</td><td>i32</td><td>u32</td><td>f64</td><td>f32</td><td>f64</td><td>f64</td></tr></thead><tbody><tr><td>&quot;male&quot;</td><td>1</td><td>603</td><td>45.0</td><td>301.0</td><td>16.0</td><td>579.278607</td></tr><tr><td>&quot;male&quot;</td><td>0</td><td>203</td><td>45.0</td><td>349.0</td><td>32029.0</td><td>622.837438</td></tr><tr><td>&quot;female&quot;</td><td>0</td><td>188</td><td>45.0</td><td>332.0</td><td>31983.0</td><td>616.382979</td></tr><tr><td>&quot;female&quot;</td><td>1</td><td>586</td><td>45.0</td><td>297.0</td><td>16.0</td><td>582.049488</td></tr><tr><td>&quot;female&quot;</td><td>-1</td><td>158</td><td>46.5</td><td>286.0</td><td>-32866.5</td><td>572.506329</td></tr><tr><td>&quot;male&quot;</td><td>-1</td><td>161</td><td>45.0</td><td>321.0</td><td>-32774.0</td><td>610.10559</td></tr></tbody></table></div>"
      ],
      "text/plain": [
       "shape: (6, 7)\n",
       "┌────────┬──────────────┬──────────────┬──────────────┬──────────────┬──────────────┬──────────────┐\n",
       "│ gender ┆ book_returne ┆ gender_retur ┆ median_reade ┆ median_book_ ┆ median_days_ ┆ mean_book_pa │\n",
       "│ ---    ┆ d            ┆ ning_book    ┆ r_age        ┆ price        ┆ renting      ┆ ges          │\n",
       "│ str    ┆ ---          ┆ ---          ┆ ---          ┆ ---          ┆ ---          ┆ ---          │\n",
       "│        ┆ i32          ┆ u32          ┆ f64          ┆ f32          ┆ f64          ┆ f64          │\n",
       "╞════════╪══════════════╪══════════════╪══════════════╪══════════════╪══════════════╪══════════════╡\n",
       "│ male   ┆ 1            ┆ 603          ┆ 45.0         ┆ 301.0        ┆ 16.0         ┆ 579.278607   │\n",
       "│ male   ┆ 0            ┆ 203          ┆ 45.0         ┆ 349.0        ┆ 32029.0      ┆ 622.837438   │\n",
       "│ female ┆ 0            ┆ 188          ┆ 45.0         ┆ 332.0        ┆ 31983.0      ┆ 616.382979   │\n",
       "│ female ┆ 1            ┆ 586          ┆ 45.0         ┆ 297.0        ┆ 16.0         ┆ 582.049488   │\n",
       "│ female ┆ -1           ┆ 158          ┆ 46.5         ┆ 286.0        ┆ -32866.5     ┆ 572.506329   │\n",
       "│ male   ┆ -1           ┆ 161          ┆ 45.0         ┆ 321.0        ┆ -32774.0     ┆ 610.10559    │\n",
       "└────────┴──────────────┴──────────────┴──────────────┴──────────────┴──────────────┴──────────────┘"
      ]
     },
     "execution_count": 123,
     "metadata": {},
     "output_type": "execute_result"
    }
   ],
   "source": [
    "customer_agg_df = sub_library_df.group_by(\"gender\", \"book_returned\").agg(\n",
    "    gender_returning_book=pl.count(\"gender\"),\n",
    "    median_reader_age=pl.median(\"age\"),\n",
    "    median_book_price=pl.median(\"price\"),\n",
    "    median_days_renting=pl.median(\"days_holding_book\"),\n",
    "    mean_book_pages=pl.mean(\"pages\"),\n",
    ")\n",
    "customer_agg_df = customer_agg_df.drop_nulls()\n",
    "customer_agg_df"
   ]
  },
  {
   "cell_type": "markdown",
   "id": "e5d4ca22-5fb2-4221-99c3-77bef289a266",
   "metadata": {},
   "source": [
    "Looking at the aggregations in the reference to the customers gender, we can see: \n",
    "1) The number of pages doesn't affect renting that much. People hold books with more pages longer however\n",
    "2) Same can be said for the price of the books, higher the price tends not to return the book\n",
    "3) Looking at the same labels and the numbers of renters, their ratio, it looks even."
   ]
  },
  {
   "cell_type": "markdown",
   "id": "e8b63a6a-fc57-4d44-9fac-d488c594ed43",
   "metadata": {},
   "source": [
    "### Potential features in relation to the label"
   ]
  },
  {
   "cell_type": "code",
   "execution_count": 124,
   "id": "5e3ef86d-bce5-4c8f-98a2-5e69924398e7",
   "metadata": {},
   "outputs": [
    {
     "data": {},
     "metadata": {},
     "output_type": "display_data"
    },
    {
     "data": {
      "application/vnd.holoviews_exec.v0+json": "",
      "text/html": [
       "<div id='p3081'>\n",
       "  <div id=\"c0cb75c1-3c21-499e-98c7-6bdb496a6485\" data-root-id=\"p3081\" style=\"display: contents;\"></div>\n",
       "</div>\n",
       "<script type=\"application/javascript\">(function(root) {\n",
       "  var docs_json = {\"438436ce-a449-4e08-abf6-c9cf82e6cdab\":{\"version\":\"3.6.0\",\"title\":\"Bokeh Application\",\"roots\":[{\"type\":\"object\",\"name\":\"Row\",\"id\":\"p3081\",\"attributes\":{\"name\":\"Row04316\",\"tags\":[\"embedded\"],\"stylesheets\":[\"\\n:host(.pn-loading):before, .pn-loading:before {\\n  background-color: #c3c3c3;\\n  mask-size: auto calc(min(50%, 400px));\\n  -webkit-mask-size: auto calc(min(50%, 400px));\\n}\",{\"type\":\"object\",\"name\":\"ImportedStyleSheet\",\"id\":\"p3084\",\"attributes\":{\"url\":\"https://cdn.holoviz.org/panel/1.5.3/dist/css/loading.css\"}},{\"type\":\"object\",\"name\":\"ImportedStyleSheet\",\"id\":\"p3113\",\"attributes\":{\"url\":\"https://cdn.holoviz.org/panel/1.5.3/dist/css/listpanel.css\"}},{\"type\":\"object\",\"name\":\"ImportedStyleSheet\",\"id\":\"p3082\",\"attributes\":{\"url\":\"https://cdn.holoviz.org/panel/1.5.3/dist/bundled/theme/default.css\"}},{\"type\":\"object\",\"name\":\"ImportedStyleSheet\",\"id\":\"p3083\",\"attributes\":{\"url\":\"https://cdn.holoviz.org/panel/1.5.3/dist/bundled/theme/native.css\"}}],\"min_width\":700,\"margin\":0,\"sizing_mode\":\"stretch_width\",\"align\":\"start\",\"children\":[{\"type\":\"object\",\"name\":\"Spacer\",\"id\":\"p3085\",\"attributes\":{\"name\":\"HSpacer04323\",\"stylesheets\":[\"\\n:host(.pn-loading):before, .pn-loading:before {\\n  background-color: #c3c3c3;\\n  mask-size: auto calc(min(50%, 400px));\\n  -webkit-mask-size: auto calc(min(50%, 400px));\\n}\",{\"id\":\"p3084\"},{\"id\":\"p3082\"},{\"id\":\"p3083\"}],\"margin\":0,\"sizing_mode\":\"stretch_width\",\"align\":\"start\"}},{\"type\":\"object\",\"name\":\"DataTable\",\"id\":\"p3104\",\"attributes\":{\"width\":700,\"height\":300,\"source\":{\"type\":\"object\",\"name\":\"ColumnDataSource\",\"id\":\"p3086\",\"attributes\":{\"selected\":{\"type\":\"object\",\"name\":\"Selection\",\"id\":\"p3087\",\"attributes\":{\"indices\":[],\"line_indices\":[]}},\"selection_policy\":{\"type\":\"object\",\"name\":\"UnionRenderers\",\"id\":\"p3088\"},\"data\":{\"type\":\"map\",\"entries\":[[\"education\",{\"type\":\"ndarray\",\"array\":[\"College\",\"Others\",\"College\",\"High School\",\"Graduate Degree\",\"Graduate Degree\",\"High School\",\"Others\"],\"shape\":[8],\"dtype\":\"object\",\"order\":\"little\"}],[\"book_returned\",{\"type\":\"ndarray\",\"array\":{\"type\":\"bytes\",\"data\":\"AAAAAAAAAAABAAAAAAAAAAAAAAABAAAAAQAAAAEAAAA=\"},\"shape\":[8],\"dtype\":\"int32\",\"order\":\"little\"}],[\"returning_book\",{\"type\":\"ndarray\",\"array\":{\"type\":\"bytes\",\"data\":\"YwAAAF4AAAAhAQAAWgAAAGAAAAAUAQAATwEAAC0BAAA=\"},\"shape\":[8],\"dtype\":\"uint32\",\"order\":\"little\"}]]}}},\"view\":{\"type\":\"object\",\"name\":\"CDSView\",\"id\":\"p3108\",\"attributes\":{\"filter\":{\"type\":\"object\",\"name\":\"AllIndices\",\"id\":\"p3109\"}}},\"columns\":[{\"type\":\"object\",\"name\":\"TableColumn\",\"id\":\"p3091\",\"attributes\":{\"field\":\"education\",\"title\":\"education\",\"formatter\":{\"type\":\"object\",\"name\":\"StringFormatter\",\"id\":\"p3089\"},\"editor\":{\"type\":\"object\",\"name\":\"StringEditor\",\"id\":\"p3090\"}}},{\"type\":\"object\",\"name\":\"TableColumn\",\"id\":\"p3096\",\"attributes\":{\"field\":\"book_returned\",\"title\":\"book_returned\",\"formatter\":{\"type\":\"object\",\"name\":\"NumberFormatter\",\"id\":\"p3094\"},\"editor\":{\"type\":\"object\",\"name\":\"IntEditor\",\"id\":\"p3095\"}}},{\"type\":\"object\",\"name\":\"TableColumn\",\"id\":\"p3101\",\"attributes\":{\"field\":\"returning_book\",\"title\":\"returning_book\",\"formatter\":{\"type\":\"object\",\"name\":\"StringFormatter\",\"id\":\"p3099\"},\"editor\":{\"type\":\"object\",\"name\":\"StringEditor\",\"id\":\"p3100\"}}}],\"reorderable\":false}},{\"type\":\"object\",\"name\":\"Spacer\",\"id\":\"p3111\",\"attributes\":{\"name\":\"HSpacer04324\",\"stylesheets\":[\"\\n:host(.pn-loading):before, .pn-loading:before {\\n  background-color: #c3c3c3;\\n  mask-size: auto calc(min(50%, 400px));\\n  -webkit-mask-size: auto calc(min(50%, 400px));\\n}\",{\"id\":\"p3084\"},{\"id\":\"p3082\"},{\"id\":\"p3083\"}],\"margin\":0,\"sizing_mode\":\"stretch_width\",\"align\":\"start\"}}]}}],\"defs\":[{\"type\":\"model\",\"name\":\"ReactiveHTML1\"},{\"type\":\"model\",\"name\":\"FlexBox1\",\"properties\":[{\"name\":\"align_content\",\"kind\":\"Any\",\"default\":\"flex-start\"},{\"name\":\"align_items\",\"kind\":\"Any\",\"default\":\"flex-start\"},{\"name\":\"flex_direction\",\"kind\":\"Any\",\"default\":\"row\"},{\"name\":\"flex_wrap\",\"kind\":\"Any\",\"default\":\"wrap\"},{\"name\":\"gap\",\"kind\":\"Any\",\"default\":\"\"},{\"name\":\"justify_content\",\"kind\":\"Any\",\"default\":\"flex-start\"}]},{\"type\":\"model\",\"name\":\"FloatPanel1\",\"properties\":[{\"name\":\"config\",\"kind\":\"Any\",\"default\":{\"type\":\"map\"}},{\"name\":\"contained\",\"kind\":\"Any\",\"default\":true},{\"name\":\"position\",\"kind\":\"Any\",\"default\":\"right-top\"},{\"name\":\"offsetx\",\"kind\":\"Any\",\"default\":null},{\"name\":\"offsety\",\"kind\":\"Any\",\"default\":null},{\"name\":\"theme\",\"kind\":\"Any\",\"default\":\"primary\"},{\"name\":\"status\",\"kind\":\"Any\",\"default\":\"normalized\"}]},{\"type\":\"model\",\"name\":\"GridStack1\",\"properties\":[{\"name\":\"mode\",\"kind\":\"Any\",\"default\":\"warn\"},{\"name\":\"ncols\",\"kind\":\"Any\",\"default\":null},{\"name\":\"nrows\",\"kind\":\"Any\",\"default\":null},{\"name\":\"allow_resize\",\"kind\":\"Any\",\"default\":true},{\"name\":\"allow_drag\",\"kind\":\"Any\",\"default\":true},{\"name\":\"state\",\"kind\":\"Any\",\"default\":[]}]},{\"type\":\"model\",\"name\":\"drag1\",\"properties\":[{\"name\":\"slider_width\",\"kind\":\"Any\",\"default\":5},{\"name\":\"slider_color\",\"kind\":\"Any\",\"default\":\"black\"},{\"name\":\"value\",\"kind\":\"Any\",\"default\":50}]},{\"type\":\"model\",\"name\":\"click1\",\"properties\":[{\"name\":\"terminal_output\",\"kind\":\"Any\",\"default\":\"\"},{\"name\":\"debug_name\",\"kind\":\"Any\",\"default\":\"\"},{\"name\":\"clears\",\"kind\":\"Any\",\"default\":0}]},{\"type\":\"model\",\"name\":\"FastWrapper1\",\"properties\":[{\"name\":\"object\",\"kind\":\"Any\",\"default\":null},{\"name\":\"style\",\"kind\":\"Any\",\"default\":null}]},{\"type\":\"model\",\"name\":\"NotificationAreaBase1\",\"properties\":[{\"name\":\"js_events\",\"kind\":\"Any\",\"default\":{\"type\":\"map\"}},{\"name\":\"position\",\"kind\":\"Any\",\"default\":\"bottom-right\"},{\"name\":\"_clear\",\"kind\":\"Any\",\"default\":0}]},{\"type\":\"model\",\"name\":\"NotificationArea1\",\"properties\":[{\"name\":\"js_events\",\"kind\":\"Any\",\"default\":{\"type\":\"map\"}},{\"name\":\"notifications\",\"kind\":\"Any\",\"default\":[]},{\"name\":\"position\",\"kind\":\"Any\",\"default\":\"bottom-right\"},{\"name\":\"_clear\",\"kind\":\"Any\",\"default\":0},{\"name\":\"types\",\"kind\":\"Any\",\"default\":[{\"type\":\"map\",\"entries\":[[\"type\",\"warning\"],[\"background\",\"#ffc107\"],[\"icon\",{\"type\":\"map\",\"entries\":[[\"className\",\"fas fa-exclamation-triangle\"],[\"tagName\",\"i\"],[\"color\",\"white\"]]}]]},{\"type\":\"map\",\"entries\":[[\"type\",\"info\"],[\"background\",\"#007bff\"],[\"icon\",{\"type\":\"map\",\"entries\":[[\"className\",\"fas fa-info-circle\"],[\"tagName\",\"i\"],[\"color\",\"white\"]]}]]}]}]},{\"type\":\"model\",\"name\":\"Notification\",\"properties\":[{\"name\":\"background\",\"kind\":\"Any\",\"default\":null},{\"name\":\"duration\",\"kind\":\"Any\",\"default\":3000},{\"name\":\"icon\",\"kind\":\"Any\",\"default\":null},{\"name\":\"message\",\"kind\":\"Any\",\"default\":\"\"},{\"name\":\"notification_type\",\"kind\":\"Any\",\"default\":null},{\"name\":\"_destroyed\",\"kind\":\"Any\",\"default\":false}]},{\"type\":\"model\",\"name\":\"TemplateActions1\",\"properties\":[{\"name\":\"open_modal\",\"kind\":\"Any\",\"default\":0},{\"name\":\"close_modal\",\"kind\":\"Any\",\"default\":0}]},{\"type\":\"model\",\"name\":\"BootstrapTemplateActions1\",\"properties\":[{\"name\":\"open_modal\",\"kind\":\"Any\",\"default\":0},{\"name\":\"close_modal\",\"kind\":\"Any\",\"default\":0}]},{\"type\":\"model\",\"name\":\"TemplateEditor1\",\"properties\":[{\"name\":\"layout\",\"kind\":\"Any\",\"default\":[]}]},{\"type\":\"model\",\"name\":\"MaterialTemplateActions1\",\"properties\":[{\"name\":\"open_modal\",\"kind\":\"Any\",\"default\":0},{\"name\":\"close_modal\",\"kind\":\"Any\",\"default\":0}]},{\"type\":\"model\",\"name\":\"ReactiveESM1\"},{\"type\":\"model\",\"name\":\"JSComponent1\"},{\"type\":\"model\",\"name\":\"ReactComponent1\"},{\"type\":\"model\",\"name\":\"AnyWidgetComponent1\"},{\"type\":\"model\",\"name\":\"request_value1\",\"properties\":[{\"name\":\"fill\",\"kind\":\"Any\",\"default\":\"none\"},{\"name\":\"_synced\",\"kind\":\"Any\",\"default\":null},{\"name\":\"_request_sync\",\"kind\":\"Any\",\"default\":0}]}]}};\n",
       "  var render_items = [{\"docid\":\"438436ce-a449-4e08-abf6-c9cf82e6cdab\",\"roots\":{\"p3081\":\"c0cb75c1-3c21-499e-98c7-6bdb496a6485\"},\"root_ids\":[\"p3081\"]}];\n",
       "  var docs = Object.values(docs_json)\n",
       "  if (!docs) {\n",
       "    return\n",
       "  }\n",
       "  const py_version = docs[0].version.replace('rc', '-rc.').replace('.dev', '-dev.')\n",
       "  async function embed_document(root) {\n",
       "    var Bokeh = get_bokeh(root)\n",
       "    await Bokeh.embed.embed_items_notebook(docs_json, render_items);\n",
       "    for (const render_item of render_items) {\n",
       "      for (const root_id of render_item.root_ids) {\n",
       "\tconst id_el = document.getElementById(root_id)\n",
       "\tif (id_el.children.length && id_el.children[0].hasAttribute('data-root-id')) {\n",
       "\t  const root_el = id_el.children[0]\n",
       "\t  root_el.id = root_el.id + '-rendered'\n",
       "\t  for (const child of root_el.children) {\n",
       "            // Ensure JupyterLab does not capture keyboard shortcuts\n",
       "            // see: https://jupyterlab.readthedocs.io/en/4.1.x/extension/notebook.html#keyboard-interaction-model\n",
       "\t    child.setAttribute('data-lm-suppress-shortcuts', 'true')\n",
       "\t  }\n",
       "\t}\n",
       "      }\n",
       "    }\n",
       "  }\n",
       "  function get_bokeh(root) {\n",
       "    if (root.Bokeh === undefined) {\n",
       "      return null\n",
       "    } else if (root.Bokeh.version !== py_version) {\n",
       "      if (root.Bokeh.versions === undefined || !root.Bokeh.versions.has(py_version)) {\n",
       "\treturn null\n",
       "      }\n",
       "      return root.Bokeh.versions.get(py_version);\n",
       "    } else if (root.Bokeh.version === py_version) {\n",
       "      return root.Bokeh\n",
       "    }\n",
       "    return null\n",
       "  }\n",
       "  function is_loaded(root) {\n",
       "    var Bokeh = get_bokeh(root)\n",
       "    return (Bokeh != null && Bokeh.Panel !== undefined)\n",
       "  }\n",
       "  if (is_loaded(root)) {\n",
       "    embed_document(root);\n",
       "  } else {\n",
       "    var attempts = 0;\n",
       "    var timer = setInterval(function(root) {\n",
       "      if (is_loaded(root)) {\n",
       "        clearInterval(timer);\n",
       "        embed_document(root);\n",
       "      } else if (document.readyState == \"complete\") {\n",
       "        attempts++;\n",
       "        if (attempts > 200) {\n",
       "          clearInterval(timer);\n",
       "\t  var Bokeh = get_bokeh(root)\n",
       "\t  if (Bokeh == null || Bokeh.Panel == null) {\n",
       "            console.warn(\"Panel: ERROR: Unable to run Panel code because Bokeh or Panel library is missing\");\n",
       "\t  } else {\n",
       "\t    console.warn(\"Panel: WARNING: Attempting to render but not all required libraries could be resolved.\")\n",
       "\t    embed_document(root)\n",
       "\t  }\n",
       "        }\n",
       "      }\n",
       "    }, 25, root)\n",
       "  }\n",
       "})(window);</script>"
      ],
      "text/plain": [
       ":Table   [education,book_returned,returning_book]"
      ]
     },
     "execution_count": 124,
     "metadata": {
      "application/vnd.holoviews_exec.v0+json": {
       "id": "p3081"
      }
     },
     "output_type": "execute_result"
    }
   ],
   "source": [
    "education_agg_df = sub_library_df.group_by(\"education\", \"book_returned\").agg(\n",
    "    returning_book=pl.count(\"education\")\n",
    ")\n",
    "education_agg_df = education_agg_df.drop_nulls()\n",
    "\n",
    "education_agg_df = education_agg_df.filter(pl.col(\"book_returned\") != -1)\n",
    "\n",
    "education_agg_df.hvplot.table(\n",
    "    columns=[\"education\", \"book_returned\", \"returning_book\"],\n",
    "    sortable=True,\n",
    "    selectable=True,\n",
    ")"
   ]
  },
  {
   "cell_type": "code",
   "execution_count": 125,
   "id": "5c865417-5050-4d47-913a-543e645712fa",
   "metadata": {},
   "outputs": [
    {
     "data": {},
     "metadata": {},
     "output_type": "display_data"
    },
    {
     "data": {
      "application/vnd.holoviews_exec.v0+json": "",
      "text/html": [
       "<div id='p3117'>\n",
       "  <div id=\"ccd8234e-1fb7-4f13-8554-52f7cc74dfc9\" data-root-id=\"p3117\" style=\"display: contents;\"></div>\n",
       "</div>\n",
       "<script type=\"application/javascript\">(function(root) {\n",
       "  var docs_json = {\"f37ee32f-df89-4ec9-8d24-aa06de9e137c\":{\"version\":\"3.6.0\",\"title\":\"Bokeh Application\",\"roots\":[{\"type\":\"object\",\"name\":\"Row\",\"id\":\"p3117\",\"attributes\":{\"name\":\"Row04369\",\"tags\":[\"embedded\"],\"stylesheets\":[\"\\n:host(.pn-loading):before, .pn-loading:before {\\n  background-color: #c3c3c3;\\n  mask-size: auto calc(min(50%, 400px));\\n  -webkit-mask-size: auto calc(min(50%, 400px));\\n}\",{\"type\":\"object\",\"name\":\"ImportedStyleSheet\",\"id\":\"p3120\",\"attributes\":{\"url\":\"https://cdn.holoviz.org/panel/1.5.3/dist/css/loading.css\"}},{\"type\":\"object\",\"name\":\"ImportedStyleSheet\",\"id\":\"p3149\",\"attributes\":{\"url\":\"https://cdn.holoviz.org/panel/1.5.3/dist/css/listpanel.css\"}},{\"type\":\"object\",\"name\":\"ImportedStyleSheet\",\"id\":\"p3118\",\"attributes\":{\"url\":\"https://cdn.holoviz.org/panel/1.5.3/dist/bundled/theme/default.css\"}},{\"type\":\"object\",\"name\":\"ImportedStyleSheet\",\"id\":\"p3119\",\"attributes\":{\"url\":\"https://cdn.holoviz.org/panel/1.5.3/dist/bundled/theme/native.css\"}}],\"min_width\":700,\"margin\":0,\"sizing_mode\":\"stretch_width\",\"align\":\"start\",\"children\":[{\"type\":\"object\",\"name\":\"Spacer\",\"id\":\"p3121\",\"attributes\":{\"name\":\"HSpacer04376\",\"stylesheets\":[\"\\n:host(.pn-loading):before, .pn-loading:before {\\n  background-color: #c3c3c3;\\n  mask-size: auto calc(min(50%, 400px));\\n  -webkit-mask-size: auto calc(min(50%, 400px));\\n}\",{\"id\":\"p3120\"},{\"id\":\"p3118\"},{\"id\":\"p3119\"}],\"margin\":0,\"sizing_mode\":\"stretch_width\",\"align\":\"start\"}},{\"type\":\"object\",\"name\":\"DataTable\",\"id\":\"p3140\",\"attributes\":{\"width\":700,\"height\":300,\"source\":{\"type\":\"object\",\"name\":\"ColumnDataSource\",\"id\":\"p3122\",\"attributes\":{\"selected\":{\"type\":\"object\",\"name\":\"Selection\",\"id\":\"p3123\",\"attributes\":{\"indices\":[],\"line_indices\":[]}},\"selection_policy\":{\"type\":\"object\",\"name\":\"UnionRenderers\",\"id\":\"p3124\"},\"data\":{\"type\":\"map\",\"entries\":[[\"occupation\",{\"type\":\"ndarray\",\"array\":[\"Sales\",\"Education & Health\",\"Admin & Support\",\"Admin & Support\",\"Others\",\"Others\",\"Blue Collar\",\"Education & Health\",\"Sales\",\"Tech\",\"Blue Collar\",\"Tech\",\"Business & Finance\",\"Business & Finance\"],\"shape\":[14],\"dtype\":\"object\",\"order\":\"little\"}],[\"book_returned\",{\"type\":\"ndarray\",\"array\":{\"type\":\"bytes\",\"data\":\"AQAAAAEAAAAAAAAAAQAAAAEAAAAAAAAAAQAAAAAAAAAAAAAAAAAAAAAAAAABAAAAAAAAAAEAAAA=\"},\"shape\":[14],\"dtype\":\"int32\",\"order\":\"little\"}],[\"returning_book\",{\"type\":\"ndarray\",\"array\":{\"type\":\"bytes\",\"data\":\"mgAAALUAAABDAAAAtwAAAKgAAAAzAAAApQAAADQAAAA6AAAANwAAADUAAACmAAAAMgAAAKQAAAA=\"},\"shape\":[14],\"dtype\":\"uint32\",\"order\":\"little\"}]]}}},\"view\":{\"type\":\"object\",\"name\":\"CDSView\",\"id\":\"p3144\",\"attributes\":{\"filter\":{\"type\":\"object\",\"name\":\"AllIndices\",\"id\":\"p3145\"}}},\"columns\":[{\"type\":\"object\",\"name\":\"TableColumn\",\"id\":\"p3127\",\"attributes\":{\"field\":\"occupation\",\"title\":\"occupation\",\"formatter\":{\"type\":\"object\",\"name\":\"StringFormatter\",\"id\":\"p3125\"},\"editor\":{\"type\":\"object\",\"name\":\"StringEditor\",\"id\":\"p3126\"}}},{\"type\":\"object\",\"name\":\"TableColumn\",\"id\":\"p3132\",\"attributes\":{\"field\":\"book_returned\",\"title\":\"book_returned\",\"formatter\":{\"type\":\"object\",\"name\":\"NumberFormatter\",\"id\":\"p3130\"},\"editor\":{\"type\":\"object\",\"name\":\"IntEditor\",\"id\":\"p3131\"}}},{\"type\":\"object\",\"name\":\"TableColumn\",\"id\":\"p3137\",\"attributes\":{\"field\":\"returning_book\",\"title\":\"returning_book\",\"formatter\":{\"type\":\"object\",\"name\":\"StringFormatter\",\"id\":\"p3135\"},\"editor\":{\"type\":\"object\",\"name\":\"StringEditor\",\"id\":\"p3136\"}}}],\"reorderable\":false}},{\"type\":\"object\",\"name\":\"Spacer\",\"id\":\"p3147\",\"attributes\":{\"name\":\"HSpacer04377\",\"stylesheets\":[\"\\n:host(.pn-loading):before, .pn-loading:before {\\n  background-color: #c3c3c3;\\n  mask-size: auto calc(min(50%, 400px));\\n  -webkit-mask-size: auto calc(min(50%, 400px));\\n}\",{\"id\":\"p3120\"},{\"id\":\"p3118\"},{\"id\":\"p3119\"}],\"margin\":0,\"sizing_mode\":\"stretch_width\",\"align\":\"start\"}}]}}],\"defs\":[{\"type\":\"model\",\"name\":\"ReactiveHTML1\"},{\"type\":\"model\",\"name\":\"FlexBox1\",\"properties\":[{\"name\":\"align_content\",\"kind\":\"Any\",\"default\":\"flex-start\"},{\"name\":\"align_items\",\"kind\":\"Any\",\"default\":\"flex-start\"},{\"name\":\"flex_direction\",\"kind\":\"Any\",\"default\":\"row\"},{\"name\":\"flex_wrap\",\"kind\":\"Any\",\"default\":\"wrap\"},{\"name\":\"gap\",\"kind\":\"Any\",\"default\":\"\"},{\"name\":\"justify_content\",\"kind\":\"Any\",\"default\":\"flex-start\"}]},{\"type\":\"model\",\"name\":\"FloatPanel1\",\"properties\":[{\"name\":\"config\",\"kind\":\"Any\",\"default\":{\"type\":\"map\"}},{\"name\":\"contained\",\"kind\":\"Any\",\"default\":true},{\"name\":\"position\",\"kind\":\"Any\",\"default\":\"right-top\"},{\"name\":\"offsetx\",\"kind\":\"Any\",\"default\":null},{\"name\":\"offsety\",\"kind\":\"Any\",\"default\":null},{\"name\":\"theme\",\"kind\":\"Any\",\"default\":\"primary\"},{\"name\":\"status\",\"kind\":\"Any\",\"default\":\"normalized\"}]},{\"type\":\"model\",\"name\":\"GridStack1\",\"properties\":[{\"name\":\"mode\",\"kind\":\"Any\",\"default\":\"warn\"},{\"name\":\"ncols\",\"kind\":\"Any\",\"default\":null},{\"name\":\"nrows\",\"kind\":\"Any\",\"default\":null},{\"name\":\"allow_resize\",\"kind\":\"Any\",\"default\":true},{\"name\":\"allow_drag\",\"kind\":\"Any\",\"default\":true},{\"name\":\"state\",\"kind\":\"Any\",\"default\":[]}]},{\"type\":\"model\",\"name\":\"drag1\",\"properties\":[{\"name\":\"slider_width\",\"kind\":\"Any\",\"default\":5},{\"name\":\"slider_color\",\"kind\":\"Any\",\"default\":\"black\"},{\"name\":\"value\",\"kind\":\"Any\",\"default\":50}]},{\"type\":\"model\",\"name\":\"click1\",\"properties\":[{\"name\":\"terminal_output\",\"kind\":\"Any\",\"default\":\"\"},{\"name\":\"debug_name\",\"kind\":\"Any\",\"default\":\"\"},{\"name\":\"clears\",\"kind\":\"Any\",\"default\":0}]},{\"type\":\"model\",\"name\":\"FastWrapper1\",\"properties\":[{\"name\":\"object\",\"kind\":\"Any\",\"default\":null},{\"name\":\"style\",\"kind\":\"Any\",\"default\":null}]},{\"type\":\"model\",\"name\":\"NotificationAreaBase1\",\"properties\":[{\"name\":\"js_events\",\"kind\":\"Any\",\"default\":{\"type\":\"map\"}},{\"name\":\"position\",\"kind\":\"Any\",\"default\":\"bottom-right\"},{\"name\":\"_clear\",\"kind\":\"Any\",\"default\":0}]},{\"type\":\"model\",\"name\":\"NotificationArea1\",\"properties\":[{\"name\":\"js_events\",\"kind\":\"Any\",\"default\":{\"type\":\"map\"}},{\"name\":\"notifications\",\"kind\":\"Any\",\"default\":[]},{\"name\":\"position\",\"kind\":\"Any\",\"default\":\"bottom-right\"},{\"name\":\"_clear\",\"kind\":\"Any\",\"default\":0},{\"name\":\"types\",\"kind\":\"Any\",\"default\":[{\"type\":\"map\",\"entries\":[[\"type\",\"warning\"],[\"background\",\"#ffc107\"],[\"icon\",{\"type\":\"map\",\"entries\":[[\"className\",\"fas fa-exclamation-triangle\"],[\"tagName\",\"i\"],[\"color\",\"white\"]]}]]},{\"type\":\"map\",\"entries\":[[\"type\",\"info\"],[\"background\",\"#007bff\"],[\"icon\",{\"type\":\"map\",\"entries\":[[\"className\",\"fas fa-info-circle\"],[\"tagName\",\"i\"],[\"color\",\"white\"]]}]]}]}]},{\"type\":\"model\",\"name\":\"Notification\",\"properties\":[{\"name\":\"background\",\"kind\":\"Any\",\"default\":null},{\"name\":\"duration\",\"kind\":\"Any\",\"default\":3000},{\"name\":\"icon\",\"kind\":\"Any\",\"default\":null},{\"name\":\"message\",\"kind\":\"Any\",\"default\":\"\"},{\"name\":\"notification_type\",\"kind\":\"Any\",\"default\":null},{\"name\":\"_destroyed\",\"kind\":\"Any\",\"default\":false}]},{\"type\":\"model\",\"name\":\"TemplateActions1\",\"properties\":[{\"name\":\"open_modal\",\"kind\":\"Any\",\"default\":0},{\"name\":\"close_modal\",\"kind\":\"Any\",\"default\":0}]},{\"type\":\"model\",\"name\":\"BootstrapTemplateActions1\",\"properties\":[{\"name\":\"open_modal\",\"kind\":\"Any\",\"default\":0},{\"name\":\"close_modal\",\"kind\":\"Any\",\"default\":0}]},{\"type\":\"model\",\"name\":\"TemplateEditor1\",\"properties\":[{\"name\":\"layout\",\"kind\":\"Any\",\"default\":[]}]},{\"type\":\"model\",\"name\":\"MaterialTemplateActions1\",\"properties\":[{\"name\":\"open_modal\",\"kind\":\"Any\",\"default\":0},{\"name\":\"close_modal\",\"kind\":\"Any\",\"default\":0}]},{\"type\":\"model\",\"name\":\"ReactiveESM1\"},{\"type\":\"model\",\"name\":\"JSComponent1\"},{\"type\":\"model\",\"name\":\"ReactComponent1\"},{\"type\":\"model\",\"name\":\"AnyWidgetComponent1\"},{\"type\":\"model\",\"name\":\"request_value1\",\"properties\":[{\"name\":\"fill\",\"kind\":\"Any\",\"default\":\"none\"},{\"name\":\"_synced\",\"kind\":\"Any\",\"default\":null},{\"name\":\"_request_sync\",\"kind\":\"Any\",\"default\":0}]}]}};\n",
       "  var render_items = [{\"docid\":\"f37ee32f-df89-4ec9-8d24-aa06de9e137c\",\"roots\":{\"p3117\":\"ccd8234e-1fb7-4f13-8554-52f7cc74dfc9\"},\"root_ids\":[\"p3117\"]}];\n",
       "  var docs = Object.values(docs_json)\n",
       "  if (!docs) {\n",
       "    return\n",
       "  }\n",
       "  const py_version = docs[0].version.replace('rc', '-rc.').replace('.dev', '-dev.')\n",
       "  async function embed_document(root) {\n",
       "    var Bokeh = get_bokeh(root)\n",
       "    await Bokeh.embed.embed_items_notebook(docs_json, render_items);\n",
       "    for (const render_item of render_items) {\n",
       "      for (const root_id of render_item.root_ids) {\n",
       "\tconst id_el = document.getElementById(root_id)\n",
       "\tif (id_el.children.length && id_el.children[0].hasAttribute('data-root-id')) {\n",
       "\t  const root_el = id_el.children[0]\n",
       "\t  root_el.id = root_el.id + '-rendered'\n",
       "\t  for (const child of root_el.children) {\n",
       "            // Ensure JupyterLab does not capture keyboard shortcuts\n",
       "            // see: https://jupyterlab.readthedocs.io/en/4.1.x/extension/notebook.html#keyboard-interaction-model\n",
       "\t    child.setAttribute('data-lm-suppress-shortcuts', 'true')\n",
       "\t  }\n",
       "\t}\n",
       "      }\n",
       "    }\n",
       "  }\n",
       "  function get_bokeh(root) {\n",
       "    if (root.Bokeh === undefined) {\n",
       "      return null\n",
       "    } else if (root.Bokeh.version !== py_version) {\n",
       "      if (root.Bokeh.versions === undefined || !root.Bokeh.versions.has(py_version)) {\n",
       "\treturn null\n",
       "      }\n",
       "      return root.Bokeh.versions.get(py_version);\n",
       "    } else if (root.Bokeh.version === py_version) {\n",
       "      return root.Bokeh\n",
       "    }\n",
       "    return null\n",
       "  }\n",
       "  function is_loaded(root) {\n",
       "    var Bokeh = get_bokeh(root)\n",
       "    return (Bokeh != null && Bokeh.Panel !== undefined)\n",
       "  }\n",
       "  if (is_loaded(root)) {\n",
       "    embed_document(root);\n",
       "  } else {\n",
       "    var attempts = 0;\n",
       "    var timer = setInterval(function(root) {\n",
       "      if (is_loaded(root)) {\n",
       "        clearInterval(timer);\n",
       "        embed_document(root);\n",
       "      } else if (document.readyState == \"complete\") {\n",
       "        attempts++;\n",
       "        if (attempts > 200) {\n",
       "          clearInterval(timer);\n",
       "\t  var Bokeh = get_bokeh(root)\n",
       "\t  if (Bokeh == null || Bokeh.Panel == null) {\n",
       "            console.warn(\"Panel: ERROR: Unable to run Panel code because Bokeh or Panel library is missing\");\n",
       "\t  } else {\n",
       "\t    console.warn(\"Panel: WARNING: Attempting to render but not all required libraries could be resolved.\")\n",
       "\t    embed_document(root)\n",
       "\t  }\n",
       "        }\n",
       "      }\n",
       "    }, 25, root)\n",
       "  }\n",
       "})(window);</script>"
      ],
      "text/plain": [
       ":Table   [occupation,book_returned,returning_book]"
      ]
     },
     "execution_count": 125,
     "metadata": {
      "application/vnd.holoviews_exec.v0+json": {
       "id": "p3117"
      }
     },
     "output_type": "execute_result"
    }
   ],
   "source": [
    "occupation_agg_df = sub_library_df.group_by(\"occupation\", \"book_returned\").agg(\n",
    "    returning_book=pl.count(\"occupation\")\n",
    ")\n",
    "occupation_agg_df = occupation_agg_df.drop_nulls()\n",
    "\n",
    "occupation_agg_df = occupation_agg_df.filter(pl.col(\"book_returned\") != -1)\n",
    "\n",
    "occupation_agg_df.hvplot.table(\n",
    "    columns=[\"occupation\", \"book_returned\", \"returning_book\"],\n",
    "    sortable=True,\n",
    "    selectable=True,\n",
    ")"
   ]
  },
  {
   "cell_type": "code",
   "execution_count": 126,
   "id": "50b7b532-25e7-4856-b2a2-591ca47c70ca",
   "metadata": {},
   "outputs": [
    {
     "data": {},
     "metadata": {},
     "output_type": "display_data"
    },
    {
     "data": {
      "application/vnd.holoviews_exec.v0+json": "",
      "text/html": [
       "<div id='p3153'>\n",
       "  <div id=\"b586972c-0566-4858-a67e-3491cccf57a5\" data-root-id=\"p3153\" style=\"display: contents;\"></div>\n",
       "</div>\n",
       "<script type=\"application/javascript\">(function(root) {\n",
       "  var docs_json = {\"ba269612-c200-4af5-b1e6-6b90324d01b6\":{\"version\":\"3.6.0\",\"title\":\"Bokeh Application\",\"roots\":[{\"type\":\"object\",\"name\":\"Row\",\"id\":\"p3153\",\"attributes\":{\"name\":\"Row04422\",\"tags\":[\"embedded\"],\"stylesheets\":[\"\\n:host(.pn-loading):before, .pn-loading:before {\\n  background-color: #c3c3c3;\\n  mask-size: auto calc(min(50%, 400px));\\n  -webkit-mask-size: auto calc(min(50%, 400px));\\n}\",{\"type\":\"object\",\"name\":\"ImportedStyleSheet\",\"id\":\"p3156\",\"attributes\":{\"url\":\"https://cdn.holoviz.org/panel/1.5.3/dist/css/loading.css\"}},{\"type\":\"object\",\"name\":\"ImportedStyleSheet\",\"id\":\"p3185\",\"attributes\":{\"url\":\"https://cdn.holoviz.org/panel/1.5.3/dist/css/listpanel.css\"}},{\"type\":\"object\",\"name\":\"ImportedStyleSheet\",\"id\":\"p3154\",\"attributes\":{\"url\":\"https://cdn.holoviz.org/panel/1.5.3/dist/bundled/theme/default.css\"}},{\"type\":\"object\",\"name\":\"ImportedStyleSheet\",\"id\":\"p3155\",\"attributes\":{\"url\":\"https://cdn.holoviz.org/panel/1.5.3/dist/bundled/theme/native.css\"}}],\"min_width\":700,\"margin\":0,\"sizing_mode\":\"stretch_width\",\"align\":\"start\",\"children\":[{\"type\":\"object\",\"name\":\"Spacer\",\"id\":\"p3157\",\"attributes\":{\"name\":\"HSpacer04429\",\"stylesheets\":[\"\\n:host(.pn-loading):before, .pn-loading:before {\\n  background-color: #c3c3c3;\\n  mask-size: auto calc(min(50%, 400px));\\n  -webkit-mask-size: auto calc(min(50%, 400px));\\n}\",{\"id\":\"p3156\"},{\"id\":\"p3154\"},{\"id\":\"p3155\"}],\"margin\":0,\"sizing_mode\":\"stretch_width\",\"align\":\"start\"}},{\"type\":\"object\",\"name\":\"DataTable\",\"id\":\"p3176\",\"attributes\":{\"width\":700,\"height\":300,\"source\":{\"type\":\"object\",\"name\":\"ColumnDataSource\",\"id\":\"p3158\",\"attributes\":{\"selected\":{\"type\":\"object\",\"name\":\"Selection\",\"id\":\"p3159\",\"attributes\":{\"indices\":[],\"line_indices\":[]}},\"selection_policy\":{\"type\":\"object\",\"name\":\"UnionRenderers\",\"id\":\"p3160\"},\"data\":{\"type\":\"map\",\"entries\":[[\"age_category\",{\"type\":\"ndarray\",\"array\":[\"Adult\",\"Middle-Age\",\"Old\",\"Young\",\"Adult\",\"Middle-Age\",\"Old\",\"Young\"],\"shape\":[8],\"dtype\":\"object\",\"order\":\"little\"}],[\"book_returned\",{\"type\":\"ndarray\",\"array\":{\"type\":\"bytes\",\"data\":\"AQAAAAEAAAAAAAAAAAAAAAAAAAAAAAAAAQAAAAEAAAA=\"},\"shape\":[8],\"dtype\":\"int32\",\"order\":\"little\"}],[\"returning_book\",{\"type\":\"ndarray\",\"array\":{\"type\":\"bytes\",\"data\":\"dgEAAKQBAABaAAAALAAAAGEAAACNAAAAAgEAAFUAAAA=\"},\"shape\":[8],\"dtype\":\"uint32\",\"order\":\"little\"}]]}}},\"view\":{\"type\":\"object\",\"name\":\"CDSView\",\"id\":\"p3180\",\"attributes\":{\"filter\":{\"type\":\"object\",\"name\":\"AllIndices\",\"id\":\"p3181\"}}},\"columns\":[{\"type\":\"object\",\"name\":\"TableColumn\",\"id\":\"p3163\",\"attributes\":{\"field\":\"age_category\",\"title\":\"age_category\",\"formatter\":{\"type\":\"object\",\"name\":\"StringFormatter\",\"id\":\"p3161\"},\"editor\":{\"type\":\"object\",\"name\":\"StringEditor\",\"id\":\"p3162\"}}},{\"type\":\"object\",\"name\":\"TableColumn\",\"id\":\"p3168\",\"attributes\":{\"field\":\"book_returned\",\"title\":\"book_returned\",\"formatter\":{\"type\":\"object\",\"name\":\"NumberFormatter\",\"id\":\"p3166\"},\"editor\":{\"type\":\"object\",\"name\":\"IntEditor\",\"id\":\"p3167\"}}},{\"type\":\"object\",\"name\":\"TableColumn\",\"id\":\"p3173\",\"attributes\":{\"field\":\"returning_book\",\"title\":\"returning_book\",\"formatter\":{\"type\":\"object\",\"name\":\"StringFormatter\",\"id\":\"p3171\"},\"editor\":{\"type\":\"object\",\"name\":\"StringEditor\",\"id\":\"p3172\"}}}],\"reorderable\":false}},{\"type\":\"object\",\"name\":\"Spacer\",\"id\":\"p3183\",\"attributes\":{\"name\":\"HSpacer04430\",\"stylesheets\":[\"\\n:host(.pn-loading):before, .pn-loading:before {\\n  background-color: #c3c3c3;\\n  mask-size: auto calc(min(50%, 400px));\\n  -webkit-mask-size: auto calc(min(50%, 400px));\\n}\",{\"id\":\"p3156\"},{\"id\":\"p3154\"},{\"id\":\"p3155\"}],\"margin\":0,\"sizing_mode\":\"stretch_width\",\"align\":\"start\"}}]}}],\"defs\":[{\"type\":\"model\",\"name\":\"ReactiveHTML1\"},{\"type\":\"model\",\"name\":\"FlexBox1\",\"properties\":[{\"name\":\"align_content\",\"kind\":\"Any\",\"default\":\"flex-start\"},{\"name\":\"align_items\",\"kind\":\"Any\",\"default\":\"flex-start\"},{\"name\":\"flex_direction\",\"kind\":\"Any\",\"default\":\"row\"},{\"name\":\"flex_wrap\",\"kind\":\"Any\",\"default\":\"wrap\"},{\"name\":\"gap\",\"kind\":\"Any\",\"default\":\"\"},{\"name\":\"justify_content\",\"kind\":\"Any\",\"default\":\"flex-start\"}]},{\"type\":\"model\",\"name\":\"FloatPanel1\",\"properties\":[{\"name\":\"config\",\"kind\":\"Any\",\"default\":{\"type\":\"map\"}},{\"name\":\"contained\",\"kind\":\"Any\",\"default\":true},{\"name\":\"position\",\"kind\":\"Any\",\"default\":\"right-top\"},{\"name\":\"offsetx\",\"kind\":\"Any\",\"default\":null},{\"name\":\"offsety\",\"kind\":\"Any\",\"default\":null},{\"name\":\"theme\",\"kind\":\"Any\",\"default\":\"primary\"},{\"name\":\"status\",\"kind\":\"Any\",\"default\":\"normalized\"}]},{\"type\":\"model\",\"name\":\"GridStack1\",\"properties\":[{\"name\":\"mode\",\"kind\":\"Any\",\"default\":\"warn\"},{\"name\":\"ncols\",\"kind\":\"Any\",\"default\":null},{\"name\":\"nrows\",\"kind\":\"Any\",\"default\":null},{\"name\":\"allow_resize\",\"kind\":\"Any\",\"default\":true},{\"name\":\"allow_drag\",\"kind\":\"Any\",\"default\":true},{\"name\":\"state\",\"kind\":\"Any\",\"default\":[]}]},{\"type\":\"model\",\"name\":\"drag1\",\"properties\":[{\"name\":\"slider_width\",\"kind\":\"Any\",\"default\":5},{\"name\":\"slider_color\",\"kind\":\"Any\",\"default\":\"black\"},{\"name\":\"value\",\"kind\":\"Any\",\"default\":50}]},{\"type\":\"model\",\"name\":\"click1\",\"properties\":[{\"name\":\"terminal_output\",\"kind\":\"Any\",\"default\":\"\"},{\"name\":\"debug_name\",\"kind\":\"Any\",\"default\":\"\"},{\"name\":\"clears\",\"kind\":\"Any\",\"default\":0}]},{\"type\":\"model\",\"name\":\"FastWrapper1\",\"properties\":[{\"name\":\"object\",\"kind\":\"Any\",\"default\":null},{\"name\":\"style\",\"kind\":\"Any\",\"default\":null}]},{\"type\":\"model\",\"name\":\"NotificationAreaBase1\",\"properties\":[{\"name\":\"js_events\",\"kind\":\"Any\",\"default\":{\"type\":\"map\"}},{\"name\":\"position\",\"kind\":\"Any\",\"default\":\"bottom-right\"},{\"name\":\"_clear\",\"kind\":\"Any\",\"default\":0}]},{\"type\":\"model\",\"name\":\"NotificationArea1\",\"properties\":[{\"name\":\"js_events\",\"kind\":\"Any\",\"default\":{\"type\":\"map\"}},{\"name\":\"notifications\",\"kind\":\"Any\",\"default\":[]},{\"name\":\"position\",\"kind\":\"Any\",\"default\":\"bottom-right\"},{\"name\":\"_clear\",\"kind\":\"Any\",\"default\":0},{\"name\":\"types\",\"kind\":\"Any\",\"default\":[{\"type\":\"map\",\"entries\":[[\"type\",\"warning\"],[\"background\",\"#ffc107\"],[\"icon\",{\"type\":\"map\",\"entries\":[[\"className\",\"fas fa-exclamation-triangle\"],[\"tagName\",\"i\"],[\"color\",\"white\"]]}]]},{\"type\":\"map\",\"entries\":[[\"type\",\"info\"],[\"background\",\"#007bff\"],[\"icon\",{\"type\":\"map\",\"entries\":[[\"className\",\"fas fa-info-circle\"],[\"tagName\",\"i\"],[\"color\",\"white\"]]}]]}]}]},{\"type\":\"model\",\"name\":\"Notification\",\"properties\":[{\"name\":\"background\",\"kind\":\"Any\",\"default\":null},{\"name\":\"duration\",\"kind\":\"Any\",\"default\":3000},{\"name\":\"icon\",\"kind\":\"Any\",\"default\":null},{\"name\":\"message\",\"kind\":\"Any\",\"default\":\"\"},{\"name\":\"notification_type\",\"kind\":\"Any\",\"default\":null},{\"name\":\"_destroyed\",\"kind\":\"Any\",\"default\":false}]},{\"type\":\"model\",\"name\":\"TemplateActions1\",\"properties\":[{\"name\":\"open_modal\",\"kind\":\"Any\",\"default\":0},{\"name\":\"close_modal\",\"kind\":\"Any\",\"default\":0}]},{\"type\":\"model\",\"name\":\"BootstrapTemplateActions1\",\"properties\":[{\"name\":\"open_modal\",\"kind\":\"Any\",\"default\":0},{\"name\":\"close_modal\",\"kind\":\"Any\",\"default\":0}]},{\"type\":\"model\",\"name\":\"TemplateEditor1\",\"properties\":[{\"name\":\"layout\",\"kind\":\"Any\",\"default\":[]}]},{\"type\":\"model\",\"name\":\"MaterialTemplateActions1\",\"properties\":[{\"name\":\"open_modal\",\"kind\":\"Any\",\"default\":0},{\"name\":\"close_modal\",\"kind\":\"Any\",\"default\":0}]},{\"type\":\"model\",\"name\":\"ReactiveESM1\"},{\"type\":\"model\",\"name\":\"JSComponent1\"},{\"type\":\"model\",\"name\":\"ReactComponent1\"},{\"type\":\"model\",\"name\":\"AnyWidgetComponent1\"},{\"type\":\"model\",\"name\":\"request_value1\",\"properties\":[{\"name\":\"fill\",\"kind\":\"Any\",\"default\":\"none\"},{\"name\":\"_synced\",\"kind\":\"Any\",\"default\":null},{\"name\":\"_request_sync\",\"kind\":\"Any\",\"default\":0}]}]}};\n",
       "  var render_items = [{\"docid\":\"ba269612-c200-4af5-b1e6-6b90324d01b6\",\"roots\":{\"p3153\":\"b586972c-0566-4858-a67e-3491cccf57a5\"},\"root_ids\":[\"p3153\"]}];\n",
       "  var docs = Object.values(docs_json)\n",
       "  if (!docs) {\n",
       "    return\n",
       "  }\n",
       "  const py_version = docs[0].version.replace('rc', '-rc.').replace('.dev', '-dev.')\n",
       "  async function embed_document(root) {\n",
       "    var Bokeh = get_bokeh(root)\n",
       "    await Bokeh.embed.embed_items_notebook(docs_json, render_items);\n",
       "    for (const render_item of render_items) {\n",
       "      for (const root_id of render_item.root_ids) {\n",
       "\tconst id_el = document.getElementById(root_id)\n",
       "\tif (id_el.children.length && id_el.children[0].hasAttribute('data-root-id')) {\n",
       "\t  const root_el = id_el.children[0]\n",
       "\t  root_el.id = root_el.id + '-rendered'\n",
       "\t  for (const child of root_el.children) {\n",
       "            // Ensure JupyterLab does not capture keyboard shortcuts\n",
       "            // see: https://jupyterlab.readthedocs.io/en/4.1.x/extension/notebook.html#keyboard-interaction-model\n",
       "\t    child.setAttribute('data-lm-suppress-shortcuts', 'true')\n",
       "\t  }\n",
       "\t}\n",
       "      }\n",
       "    }\n",
       "  }\n",
       "  function get_bokeh(root) {\n",
       "    if (root.Bokeh === undefined) {\n",
       "      return null\n",
       "    } else if (root.Bokeh.version !== py_version) {\n",
       "      if (root.Bokeh.versions === undefined || !root.Bokeh.versions.has(py_version)) {\n",
       "\treturn null\n",
       "      }\n",
       "      return root.Bokeh.versions.get(py_version);\n",
       "    } else if (root.Bokeh.version === py_version) {\n",
       "      return root.Bokeh\n",
       "    }\n",
       "    return null\n",
       "  }\n",
       "  function is_loaded(root) {\n",
       "    var Bokeh = get_bokeh(root)\n",
       "    return (Bokeh != null && Bokeh.Panel !== undefined)\n",
       "  }\n",
       "  if (is_loaded(root)) {\n",
       "    embed_document(root);\n",
       "  } else {\n",
       "    var attempts = 0;\n",
       "    var timer = setInterval(function(root) {\n",
       "      if (is_loaded(root)) {\n",
       "        clearInterval(timer);\n",
       "        embed_document(root);\n",
       "      } else if (document.readyState == \"complete\") {\n",
       "        attempts++;\n",
       "        if (attempts > 200) {\n",
       "          clearInterval(timer);\n",
       "\t  var Bokeh = get_bokeh(root)\n",
       "\t  if (Bokeh == null || Bokeh.Panel == null) {\n",
       "            console.warn(\"Panel: ERROR: Unable to run Panel code because Bokeh or Panel library is missing\");\n",
       "\t  } else {\n",
       "\t    console.warn(\"Panel: WARNING: Attempting to render but not all required libraries could be resolved.\")\n",
       "\t    embed_document(root)\n",
       "\t  }\n",
       "        }\n",
       "      }\n",
       "    }, 25, root)\n",
       "  }\n",
       "})(window);</script>"
      ],
      "text/plain": [
       ":Table   [age_category,book_returned,returning_book]"
      ]
     },
     "execution_count": 126,
     "metadata": {
      "application/vnd.holoviews_exec.v0+json": {
       "id": "p3153"
      }
     },
     "output_type": "execute_result"
    }
   ],
   "source": [
    "age_agg_df = sub_library_df.group_by(\"age_category\", \"book_returned\").agg(\n",
    "    returning_book=pl.count(\"age_category\")\n",
    ")\n",
    "age_agg_df = age_agg_df.drop_nulls()\n",
    "\n",
    "age_agg_df = age_agg_df.filter(pl.col(\"book_returned\") != -1)\n",
    "age_agg_df = age_agg_df.filter(pl.col(\"age_category\") != \"Undefined\")\n",
    "\n",
    "age_agg_df.hvplot.table(\n",
    "    columns=[\"age_category\", \"book_returned\", \"returning_book\"],\n",
    "    sortable=True,\n",
    "    selectable=True,\n",
    ")"
   ]
  },
  {
   "cell_type": "markdown",
   "id": "aab46e77-20d7-4b48-880d-f27b3dcd46f6",
   "metadata": {},
   "source": [
    "Analyzing potential features such as education, occupation, age category with the label and without invalid data shows similar story, ~30% of the feature (by count) doesn't return book on time and this is the same for all features. \n",
    "There is no anomalies such as that one group is more dominant than the other.\n",
    "\n",
    "This can mean that all feature will have the same improtance in determining the label, or none at all."
   ]
  },
  {
   "cell_type": "markdown",
   "id": "f01d7cb3-dafc-4675-8dae-be01130354c0",
   "metadata": {},
   "source": [
    "Interesting feature can be book `categories`, but because of the type (list of strings) and its nature (multi label) it can be more complex to analyze it. Intuitively, it can impact the prediction of the label (some categories may be more popular then the other) but I don't see it."
   ]
  },
  {
   "cell_type": "code",
   "execution_count": 127,
   "id": "1c336be0-7aca-4cfb-9108-d1ba7aab8815",
   "metadata": {},
   "outputs": [
    {
     "data": {},
     "metadata": {},
     "output_type": "display_data"
    },
    {
     "data": {
      "application/vnd.holoviews_exec.v0+json": "",
      "text/html": [
       "<div id='p3189'>\n",
       "  <div id=\"bf5cb7f7-769f-48c4-92c6-69cf913852ce\" data-root-id=\"p3189\" style=\"display: contents;\"></div>\n",
       "</div>\n",
       "<script type=\"application/javascript\">(function(root) {\n",
       "  var docs_json = {\"d2699bfc-b02d-47c4-a7f2-12286e1d9c7a\":{\"version\":\"3.6.0\",\"title\":\"Bokeh Application\",\"roots\":[{\"type\":\"object\",\"name\":\"Row\",\"id\":\"p3189\",\"attributes\":{\"name\":\"Row04475\",\"tags\":[\"embedded\"],\"stylesheets\":[\"\\n:host(.pn-loading):before, .pn-loading:before {\\n  background-color: #c3c3c3;\\n  mask-size: auto calc(min(50%, 400px));\\n  -webkit-mask-size: auto calc(min(50%, 400px));\\n}\",{\"type\":\"object\",\"name\":\"ImportedStyleSheet\",\"id\":\"p3192\",\"attributes\":{\"url\":\"https://cdn.holoviz.org/panel/1.5.3/dist/css/loading.css\"}},{\"type\":\"object\",\"name\":\"ImportedStyleSheet\",\"id\":\"p3221\",\"attributes\":{\"url\":\"https://cdn.holoviz.org/panel/1.5.3/dist/css/listpanel.css\"}},{\"type\":\"object\",\"name\":\"ImportedStyleSheet\",\"id\":\"p3190\",\"attributes\":{\"url\":\"https://cdn.holoviz.org/panel/1.5.3/dist/bundled/theme/default.css\"}},{\"type\":\"object\",\"name\":\"ImportedStyleSheet\",\"id\":\"p3191\",\"attributes\":{\"url\":\"https://cdn.holoviz.org/panel/1.5.3/dist/bundled/theme/native.css\"}}],\"min_width\":700,\"margin\":0,\"sizing_mode\":\"stretch_width\",\"align\":\"start\",\"children\":[{\"type\":\"object\",\"name\":\"Spacer\",\"id\":\"p3193\",\"attributes\":{\"name\":\"HSpacer04482\",\"stylesheets\":[\"\\n:host(.pn-loading):before, .pn-loading:before {\\n  background-color: #c3c3c3;\\n  mask-size: auto calc(min(50%, 400px));\\n  -webkit-mask-size: auto calc(min(50%, 400px));\\n}\",{\"id\":\"p3192\"},{\"id\":\"p3190\"},{\"id\":\"p3191\"}],\"margin\":0,\"sizing_mode\":\"stretch_width\",\"align\":\"start\"}},{\"type\":\"object\",\"name\":\"DataTable\",\"id\":\"p3212\",\"attributes\":{\"width\":700,\"height\":300,\"source\":{\"type\":\"object\",\"name\":\"ColumnDataSource\",\"id\":\"p3194\",\"attributes\":{\"selected\":{\"type\":\"object\",\"name\":\"Selection\",\"id\":\"p3195\",\"attributes\":{\"indices\":[],\"line_indices\":[]}},\"selection_policy\":{\"type\":\"object\",\"name\":\"UnionRenderers\",\"id\":\"p3196\"},\"data\":{\"type\":\"map\",\"entries\":[[\"categories\",{\"type\":\"ndarray\",\"array\":[\"Financial services industry\",\"Desarrollo economico\",\"Art\",\"History\",\"Banking law\",\"Agriculture\",\"Fire engines\",\"Hydrology\",\"Electronic books\",\"Gases\",\"Banks and banking\",\"Advertising\",\"Astronautics in earth sciences\",\"Water-supply\",\"Advertising\",\"Technology & Engineering\",\"Medical\",\"Sand\",\"United States\",\"Montana\",\"Medicine\",\"Banking law\",\"Central Provinces (India)\",\"Kentucky\",\"Bacteriology\",\"Internal medicine\",\"Corliss steam-engine\",\"Fiction\",\"Medicine\",\"Corporations\",\"Technology\",\"Capital market\",\"Finance\",\"Steam-engines\",\"Finance\",\"Industries\",\"Airplanes\",\"Juvenile Fiction\",\"Biology\",\"Internal combustion engines\",\"United States\",\"Political Science\",\"Industrial arts\",\"Business enterprises\",\"Aircraft industry\",\"Mathematics\",\"Art\",\"Industries\",\"Business & Economics\",\"Utah\",\"Corporations\",\"Desarrollo economico\",\"Gases\",\"Marine diesel motors\",\"Water-supply\",\"Science\",\"Mechanics\",\"Geology\",\"Barrier islands\",\"Natural resources\",\"Marine resources\",\"Engineering\",\"Stream measurements\",\"Engineering\",\"Social Science\",\"Airplanes\",\"Aircraft engine industry\",\"Geology\",\"Physicians\",\"Medical\",\"Utah\",\"Computers\",\"Biology\",\"Science\",\"Juvenile Nonfiction\",\"Kentucky\",\"Emigration and immigration\",\"Nature\",\"Conservation of natural resources\",\"Fire engines\",\"Aircraft engine industry\",\"Information storage and retrieval systems\",\"Computers\",\"Psychology\",\"Marine resources\",\"Business & Economics\",\"Mechanical engineering\",\"Sports & Recreation\",\"Nature\",\"Mechanics\",\"Accounting\",\"Bacteriology\",\"Libraries\",\"Juvenile Fiction\",\"Aircraft industry\",\"Transportation\",\"Financial services industry\",\"Water resources development\",\"Technology\",\"Social Science\",\"Government publications\",\"Fiction\",\"Diesel engines\",\"Historical Card\",\"Astronautics in earth sciences\",\"Classification\",\"Financial institutions\",\"Psychology\",\"Administrative agencies\",\"Electric railroads\",\"Transportation\",\"Sand\",\"Hydrology\",\"Information storage and retrieval systems\",\"Water resources development\",\"Agricultural education\",\"History\",\"Administrative agencies\",\"Technology & Engineering\",\"Agriculture\",\"Government publications\",\"Philosophy\",\"Environmental law\",\"Natural resources\",\"Business enterprises\",\"Stream measurements\",\"Agricultural education\",\"Political Science\",\"Language Arts & Disciplines\",\"Historical Card\",\"Classification\",\"Emigration and immigration\",\"Montana\",\"Financial institutions\",\"Sports & Recreation\",\"Environmental law\",\"Electric railroads\",\"Industrial arts\",\"Corliss steam-engine\",\"Accounting\",\"Language Arts & Disciplines\",\"Conservation of natural resources\",\"Marine diesel motors\",\"Steam-engines\",\"Mines and mineral resources\",\"Internal combustion engines\",\"Philosophy\",\"Banks and banking\"],\"shape\":[148,1],\"dtype\":\"object\",\"order\":\"little\"}],[\"book_returned\",{\"type\":\"ndarray\",\"array\":{\"type\":\"bytes\",\"data\":\"AAAAAAEAAAAAAAAAAAAAAAAAAAABAAAAAQAAAAAAAAABAAAAAQAAAAAAAAABAAAAAQAAAAEAAAAAAAAAAAAAAAEAAAABAAAAAAAAAAEAAAABAAAAAQAAAAEAAAABAAAAAAAAAAEAAAAAAAAAAAAAAAAAAAABAAAAAQAAAAEAAAAAAAAAAAAAAAEAAAAAAAAAAAAAAAAAAAAAAAAAAQAAAAEAAAAAAAAAAQAAAAAAAAABAAAAAQAAAAEAAAABAAAAAAAAAAAAAAAAAAAAAAAAAAAAAAAAAAAAAAAAAAAAAAABAAAAAQAAAAEAAAABAAAAAQAAAAEAAAABAAAAAAAAAAEAAAABAAAAAQAAAAAAAAABAAAAAAAAAAEAAAABAAAAAQAAAAEAAAABAAAAAAAAAAAAAAAAAAAAAAAAAAAAAAAAAAAAAQAAAAAAAAABAAAAAAAAAAEAAAABAAAAAQAAAAEAAAAAAAAAAQAAAAEAAAABAAAAAQAAAAAAAAAAAAAAAQAAAAAAAAAAAAAAAAAAAAEAAAABAAAAAQAAAAEAAAAAAAAAAQAAAAEAAAAAAAAAAAAAAAAAAAABAAAAAAAAAAEAAAAAAAAAAQAAAAAAAAABAAAAAQAAAAEAAAAAAAAAAAAAAAEAAAAAAAAAAAAAAAEAAAAAAAAAAQAAAAEAAAAAAAAAAAAAAAAAAAABAAAAAAAAAAAAAAAAAAAAAQAAAAEAAAAAAAAAAQAAAAAAAAABAAAAAQAAAAEAAAABAAAAAQAAAAAAAAAAAAAAAQAAAA==\"},\"shape\":[148],\"dtype\":\"int32\",\"order\":\"little\"}],[\"returning_book\",{\"type\":\"ndarray\",\"array\":{\"type\":\"bytes\",\"data\":\"AgAAAAQAAAAEAAAAAQAAAAMAAAACAAAABAAAAAIAAAAIAAAACAAAAAQAAABFAAAABwAAAAYAAAAXAAAABwAAABsAAAAEAAAABAAAAAkAAABgAAAAAQAAAAcAAAAEAAAAAgAAAAsAAAADAAAAAgAAABYAAAAKAAAACQAAAAwAAAAFAAAAAQAAABUAAAADAAAAAQAAAAMAAAABAAAACQAAAAsAAAABAAAABQAAAAMAAAAFAAAAAgAAAAUAAAAPAAAAOAAAAAIAAAAEAAAAAgAAAAIAAAAEAAAAAwAAAA8AAAAYAAAABgAAAAMAAAAEAAAADQAAAAQAAAALAAAABAAAABIAAAAEAAAABQAAAAQAAAAHAAAADAAAAAEAAAAJAAAABAAAADsAAAAFAAAAAQAAAAQAAAAGAAAAAwAAAAMAAAABAAAAAgAAAAQAAAAMAAAAAgAAAKAAAAAIAAAABQAAAAoAAAAHAAAAAQAAAAQAAAAJAAAACwAAAAQAAAAFAAAAAQAAAAYAAAAEAAAABAAAAA8AAAAPAAAACAAAAAgAAAABAAAAAwAAAAMAAAAEAAAAAgAAAAEAAAALAAAAAQAAAAYAAAADAAAAHAAAAAIAAAACAAAACQAAAB4AAAAGAAAABQAAAAEAAAADAAAABAAAAAMAAAABAAAAAwAAAAwAAAACAAAAAQAAAAEAAAADAAAAAQAAAAQAAAACAAAACAAAAAcAAAADAAAABwAAAAEAAAAEAAAACAAAAAgAAAAOAAAACgAAAAQAAAADAAAADQAAAA==\"},\"shape\":[148],\"dtype\":\"uint32\",\"order\":\"little\"}]]}}},\"view\":{\"type\":\"object\",\"name\":\"CDSView\",\"id\":\"p3216\",\"attributes\":{\"filter\":{\"type\":\"object\",\"name\":\"AllIndices\",\"id\":\"p3217\"}}},\"columns\":[{\"type\":\"object\",\"name\":\"TableColumn\",\"id\":\"p3199\",\"attributes\":{\"field\":\"categories\",\"title\":\"categories\",\"formatter\":{\"type\":\"object\",\"name\":\"StringFormatter\",\"id\":\"p3197\"},\"editor\":{\"type\":\"object\",\"name\":\"StringEditor\",\"id\":\"p3198\"}}},{\"type\":\"object\",\"name\":\"TableColumn\",\"id\":\"p3204\",\"attributes\":{\"field\":\"book_returned\",\"title\":\"book_returned\",\"formatter\":{\"type\":\"object\",\"name\":\"NumberFormatter\",\"id\":\"p3202\"},\"editor\":{\"type\":\"object\",\"name\":\"IntEditor\",\"id\":\"p3203\"}}},{\"type\":\"object\",\"name\":\"TableColumn\",\"id\":\"p3209\",\"attributes\":{\"field\":\"returning_book\",\"title\":\"returning_book\",\"formatter\":{\"type\":\"object\",\"name\":\"StringFormatter\",\"id\":\"p3207\"},\"editor\":{\"type\":\"object\",\"name\":\"StringEditor\",\"id\":\"p3208\"}}}],\"reorderable\":false}},{\"type\":\"object\",\"name\":\"Spacer\",\"id\":\"p3219\",\"attributes\":{\"name\":\"HSpacer04483\",\"stylesheets\":[\"\\n:host(.pn-loading):before, .pn-loading:before {\\n  background-color: #c3c3c3;\\n  mask-size: auto calc(min(50%, 400px));\\n  -webkit-mask-size: auto calc(min(50%, 400px));\\n}\",{\"id\":\"p3192\"},{\"id\":\"p3190\"},{\"id\":\"p3191\"}],\"margin\":0,\"sizing_mode\":\"stretch_width\",\"align\":\"start\"}}]}}],\"defs\":[{\"type\":\"model\",\"name\":\"ReactiveHTML1\"},{\"type\":\"model\",\"name\":\"FlexBox1\",\"properties\":[{\"name\":\"align_content\",\"kind\":\"Any\",\"default\":\"flex-start\"},{\"name\":\"align_items\",\"kind\":\"Any\",\"default\":\"flex-start\"},{\"name\":\"flex_direction\",\"kind\":\"Any\",\"default\":\"row\"},{\"name\":\"flex_wrap\",\"kind\":\"Any\",\"default\":\"wrap\"},{\"name\":\"gap\",\"kind\":\"Any\",\"default\":\"\"},{\"name\":\"justify_content\",\"kind\":\"Any\",\"default\":\"flex-start\"}]},{\"type\":\"model\",\"name\":\"FloatPanel1\",\"properties\":[{\"name\":\"config\",\"kind\":\"Any\",\"default\":{\"type\":\"map\"}},{\"name\":\"contained\",\"kind\":\"Any\",\"default\":true},{\"name\":\"position\",\"kind\":\"Any\",\"default\":\"right-top\"},{\"name\":\"offsetx\",\"kind\":\"Any\",\"default\":null},{\"name\":\"offsety\",\"kind\":\"Any\",\"default\":null},{\"name\":\"theme\",\"kind\":\"Any\",\"default\":\"primary\"},{\"name\":\"status\",\"kind\":\"Any\",\"default\":\"normalized\"}]},{\"type\":\"model\",\"name\":\"GridStack1\",\"properties\":[{\"name\":\"mode\",\"kind\":\"Any\",\"default\":\"warn\"},{\"name\":\"ncols\",\"kind\":\"Any\",\"default\":null},{\"name\":\"nrows\",\"kind\":\"Any\",\"default\":null},{\"name\":\"allow_resize\",\"kind\":\"Any\",\"default\":true},{\"name\":\"allow_drag\",\"kind\":\"Any\",\"default\":true},{\"name\":\"state\",\"kind\":\"Any\",\"default\":[]}]},{\"type\":\"model\",\"name\":\"drag1\",\"properties\":[{\"name\":\"slider_width\",\"kind\":\"Any\",\"default\":5},{\"name\":\"slider_color\",\"kind\":\"Any\",\"default\":\"black\"},{\"name\":\"value\",\"kind\":\"Any\",\"default\":50}]},{\"type\":\"model\",\"name\":\"click1\",\"properties\":[{\"name\":\"terminal_output\",\"kind\":\"Any\",\"default\":\"\"},{\"name\":\"debug_name\",\"kind\":\"Any\",\"default\":\"\"},{\"name\":\"clears\",\"kind\":\"Any\",\"default\":0}]},{\"type\":\"model\",\"name\":\"FastWrapper1\",\"properties\":[{\"name\":\"object\",\"kind\":\"Any\",\"default\":null},{\"name\":\"style\",\"kind\":\"Any\",\"default\":null}]},{\"type\":\"model\",\"name\":\"NotificationAreaBase1\",\"properties\":[{\"name\":\"js_events\",\"kind\":\"Any\",\"default\":{\"type\":\"map\"}},{\"name\":\"position\",\"kind\":\"Any\",\"default\":\"bottom-right\"},{\"name\":\"_clear\",\"kind\":\"Any\",\"default\":0}]},{\"type\":\"model\",\"name\":\"NotificationArea1\",\"properties\":[{\"name\":\"js_events\",\"kind\":\"Any\",\"default\":{\"type\":\"map\"}},{\"name\":\"notifications\",\"kind\":\"Any\",\"default\":[]},{\"name\":\"position\",\"kind\":\"Any\",\"default\":\"bottom-right\"},{\"name\":\"_clear\",\"kind\":\"Any\",\"default\":0},{\"name\":\"types\",\"kind\":\"Any\",\"default\":[{\"type\":\"map\",\"entries\":[[\"type\",\"warning\"],[\"background\",\"#ffc107\"],[\"icon\",{\"type\":\"map\",\"entries\":[[\"className\",\"fas fa-exclamation-triangle\"],[\"tagName\",\"i\"],[\"color\",\"white\"]]}]]},{\"type\":\"map\",\"entries\":[[\"type\",\"info\"],[\"background\",\"#007bff\"],[\"icon\",{\"type\":\"map\",\"entries\":[[\"className\",\"fas fa-info-circle\"],[\"tagName\",\"i\"],[\"color\",\"white\"]]}]]}]}]},{\"type\":\"model\",\"name\":\"Notification\",\"properties\":[{\"name\":\"background\",\"kind\":\"Any\",\"default\":null},{\"name\":\"duration\",\"kind\":\"Any\",\"default\":3000},{\"name\":\"icon\",\"kind\":\"Any\",\"default\":null},{\"name\":\"message\",\"kind\":\"Any\",\"default\":\"\"},{\"name\":\"notification_type\",\"kind\":\"Any\",\"default\":null},{\"name\":\"_destroyed\",\"kind\":\"Any\",\"default\":false}]},{\"type\":\"model\",\"name\":\"TemplateActions1\",\"properties\":[{\"name\":\"open_modal\",\"kind\":\"Any\",\"default\":0},{\"name\":\"close_modal\",\"kind\":\"Any\",\"default\":0}]},{\"type\":\"model\",\"name\":\"BootstrapTemplateActions1\",\"properties\":[{\"name\":\"open_modal\",\"kind\":\"Any\",\"default\":0},{\"name\":\"close_modal\",\"kind\":\"Any\",\"default\":0}]},{\"type\":\"model\",\"name\":\"TemplateEditor1\",\"properties\":[{\"name\":\"layout\",\"kind\":\"Any\",\"default\":[]}]},{\"type\":\"model\",\"name\":\"MaterialTemplateActions1\",\"properties\":[{\"name\":\"open_modal\",\"kind\":\"Any\",\"default\":0},{\"name\":\"close_modal\",\"kind\":\"Any\",\"default\":0}]},{\"type\":\"model\",\"name\":\"ReactiveESM1\"},{\"type\":\"model\",\"name\":\"JSComponent1\"},{\"type\":\"model\",\"name\":\"ReactComponent1\"},{\"type\":\"model\",\"name\":\"AnyWidgetComponent1\"},{\"type\":\"model\",\"name\":\"request_value1\",\"properties\":[{\"name\":\"fill\",\"kind\":\"Any\",\"default\":\"none\"},{\"name\":\"_synced\",\"kind\":\"Any\",\"default\":null},{\"name\":\"_request_sync\",\"kind\":\"Any\",\"default\":0}]}]}};\n",
       "  var render_items = [{\"docid\":\"d2699bfc-b02d-47c4-a7f2-12286e1d9c7a\",\"roots\":{\"p3189\":\"bf5cb7f7-769f-48c4-92c6-69cf913852ce\"},\"root_ids\":[\"p3189\"]}];\n",
       "  var docs = Object.values(docs_json)\n",
       "  if (!docs) {\n",
       "    return\n",
       "  }\n",
       "  const py_version = docs[0].version.replace('rc', '-rc.').replace('.dev', '-dev.')\n",
       "  async function embed_document(root) {\n",
       "    var Bokeh = get_bokeh(root)\n",
       "    await Bokeh.embed.embed_items_notebook(docs_json, render_items);\n",
       "    for (const render_item of render_items) {\n",
       "      for (const root_id of render_item.root_ids) {\n",
       "\tconst id_el = document.getElementById(root_id)\n",
       "\tif (id_el.children.length && id_el.children[0].hasAttribute('data-root-id')) {\n",
       "\t  const root_el = id_el.children[0]\n",
       "\t  root_el.id = root_el.id + '-rendered'\n",
       "\t  for (const child of root_el.children) {\n",
       "            // Ensure JupyterLab does not capture keyboard shortcuts\n",
       "            // see: https://jupyterlab.readthedocs.io/en/4.1.x/extension/notebook.html#keyboard-interaction-model\n",
       "\t    child.setAttribute('data-lm-suppress-shortcuts', 'true')\n",
       "\t  }\n",
       "\t}\n",
       "      }\n",
       "    }\n",
       "  }\n",
       "  function get_bokeh(root) {\n",
       "    if (root.Bokeh === undefined) {\n",
       "      return null\n",
       "    } else if (root.Bokeh.version !== py_version) {\n",
       "      if (root.Bokeh.versions === undefined || !root.Bokeh.versions.has(py_version)) {\n",
       "\treturn null\n",
       "      }\n",
       "      return root.Bokeh.versions.get(py_version);\n",
       "    } else if (root.Bokeh.version === py_version) {\n",
       "      return root.Bokeh\n",
       "    }\n",
       "    return null\n",
       "  }\n",
       "  function is_loaded(root) {\n",
       "    var Bokeh = get_bokeh(root)\n",
       "    return (Bokeh != null && Bokeh.Panel !== undefined)\n",
       "  }\n",
       "  if (is_loaded(root)) {\n",
       "    embed_document(root);\n",
       "  } else {\n",
       "    var attempts = 0;\n",
       "    var timer = setInterval(function(root) {\n",
       "      if (is_loaded(root)) {\n",
       "        clearInterval(timer);\n",
       "        embed_document(root);\n",
       "      } else if (document.readyState == \"complete\") {\n",
       "        attempts++;\n",
       "        if (attempts > 200) {\n",
       "          clearInterval(timer);\n",
       "\t  var Bokeh = get_bokeh(root)\n",
       "\t  if (Bokeh == null || Bokeh.Panel == null) {\n",
       "            console.warn(\"Panel: ERROR: Unable to run Panel code because Bokeh or Panel library is missing\");\n",
       "\t  } else {\n",
       "\t    console.warn(\"Panel: WARNING: Attempting to render but not all required libraries could be resolved.\")\n",
       "\t    embed_document(root)\n",
       "\t  }\n",
       "        }\n",
       "      }\n",
       "    }, 25, root)\n",
       "  }\n",
       "})(window);</script>"
      ],
      "text/plain": [
       ":Table   [categories,book_returned,returning_book]"
      ]
     },
     "execution_count": 127,
     "metadata": {
      "application/vnd.holoviews_exec.v0+json": {
       "id": "p3189"
      }
     },
     "output_type": "execute_result"
    }
   ],
   "source": [
    "c_df = sub_library_df.group_by(\"categories\", \"book_returned\").agg(\n",
    "    returning_book=pl.count(\"categories\")\n",
    ")\n",
    "c_df = c_df.drop_nulls()\n",
    "\n",
    "c_df = c_df.filter(pl.col(\"book_returned\") != -1)\n",
    "\n",
    "c_df.hvplot.table(\n",
    "    columns=[\"categories\", \"book_returned\", \"returning_book\"],\n",
    "    sortable=True,\n",
    "    selectable=True,\n",
    ")"
   ]
  },
  {
   "cell_type": "markdown",
   "id": "60ee7554-b9b6-47de-96c4-c14cf78cf3d7",
   "metadata": {},
   "source": [
    "There are too many categories (147) and they apply the same principle and distribution ~ 70%:30% for returned and non-returned books."
   ]
  },
  {
   "cell_type": "markdown",
   "id": "9ca80f15-6de9-4539-b158-d3ba3301712b",
   "metadata": {},
   "source": [
    "### Finalizing dataset"
   ]
  },
  {
   "cell_type": "markdown",
   "id": "952718cd-eed3-4b60-a044-13382d8fd6da",
   "metadata": {},
   "source": [
    "After the feature analysis, final selection of the features is made. \n",
    "\n",
    "Features should be tested for correlation against the label. Another point to make is the labels are analyzed uniformly, without information about the libraries. Some libraries may have bigger issues than the others. "
   ]
  },
  {
   "cell_type": "code",
   "execution_count": 136,
   "id": "52893d54-db71-4f88-895b-a66e71ebf637",
   "metadata": {},
   "outputs": [],
   "source": [
    "dataset_df = library_df.select(\n",
    "    [\n",
    "        \"patron_id\",\n",
    "        \"id\",\n",
    "        \"name\",\n",
    "        \"gender\",\n",
    "        \"education\",\n",
    "        \"occupation\",\n",
    "        \"age_category\",\n",
    "        \"price\",\n",
    "        \"pages\",\n",
    "        \"book_returned\",\n",
    "    ]\n",
    ").rename({\"patron_id\": \"customer_id\", \"id\": \"book_id\", \"book_returned\": \"label\"})"
   ]
  },
  {
   "cell_type": "code",
   "execution_count": 140,
   "id": "b13ca3a1-ff27-421e-800b-f8ec570e952b",
   "metadata": {},
   "outputs": [
    {
     "name": "stdout",
     "output_type": "stream",
     "text": [
      "Dataset length before 'null' drops: 2000\n",
      "\n",
      "Dataset length after 'null' drops: 1700\n",
      "\n"
     ]
    }
   ],
   "source": [
    "print(f\"Dataset length before 'null' drops: {len(dataset_df)}\\n\")\n",
    "\n",
    "dataset_df = dataset_df.drop_nulls()\n",
    "\n",
    "print(f\"Dataset length after 'null' drops: {len(dataset_df)}\\n\")"
   ]
  },
  {
   "cell_type": "code",
   "execution_count": 150,
   "id": "74e896e8-62cb-4798-8555-e4adb6974142",
   "metadata": {},
   "outputs": [],
   "source": [
    "dataset_df = (\n",
    "    dataset_df.with_columns(\n",
    "        pl.col(\"gender\").cast(pl.Categorical).to_physical().alias(\"gender\")\n",
    "    )\n",
    "    .with_columns(\n",
    "        pl.col(\"education\").cast(pl.Categorical).to_physical().alias(\"education\")\n",
    "    )\n",
    "    .with_columns(\n",
    "        pl.col(\"occupation\").cast(pl.Categorical).to_physical().alias(\"occupation\")\n",
    "    )\n",
    "    .with_columns(\n",
    "        pl.col(\"age_category\").cast(pl.Categorical).to_physical().alias(\"age_category\")\n",
    "    )\n",
    ")"
   ]
  },
  {
   "cell_type": "code",
   "execution_count": 154,
   "id": "c3a2a13b-27e1-4c6d-a40f-b05c9a1cb00f",
   "metadata": {},
   "outputs": [],
   "source": [
    "dataset_df = dataset_df.with_columns(\n",
    "    ((pl.col(\"price\") - pl.col(\"price\").mean()) / pl.col(\"price\").std()).alias(\n",
    "        \"price_standardized\"\n",
    "    )\n",
    ")"
   ]
  },
  {
   "cell_type": "code",
   "execution_count": 155,
   "id": "589aa25d-543c-4993-ba99-8e066a4cc3ff",
   "metadata": {},
   "outputs": [],
   "source": [
    "dataset_df = dataset_df.with_columns(\n",
    "    ((pl.col(\"pages\") - pl.col(\"pages\").mean()) / pl.col(\"pages\").std()).alias(\n",
    "        \"pages_standardized\"\n",
    "    )\n",
    ")"
   ]
  },
  {
   "cell_type": "code",
   "execution_count": 156,
   "id": "8b61caff-188d-478e-9650-1af0cbb5458a",
   "metadata": {},
   "outputs": [],
   "source": [
    "# filter invalid labels\n",
    "dataset_df = dataset_df.filter(pl.col(\"label\") != -1)"
   ]
  },
  {
   "cell_type": "markdown",
   "id": "a3d5c095-c315-436d-95cd-9d6829dede51",
   "metadata": {},
   "source": [
    "#### Dataset visualized"
   ]
  },
  {
   "cell_type": "code",
   "execution_count": 159,
   "id": "1e4160d1-bd6e-44a7-b538-1eb3f9f15618",
   "metadata": {},
   "outputs": [
    {
     "data": {},
     "metadata": {},
     "output_type": "display_data"
    },
    {
     "data": {
      "application/vnd.holoviews_exec.v0+json": "",
      "text/html": [
       "<div id='p3338'>\n",
       "  <div id=\"bafd8f95-42cc-44ae-8fdc-370623ed7158\" data-root-id=\"p3338\" style=\"display: contents;\"></div>\n",
       "</div>\n",
       "<script type=\"application/javascript\">(function(root) {\n",
       "  var docs_json = {\"36bbece7-dd9a-4c71-b5aa-6f2434d7d9fe\":{\"version\":\"3.6.0\",\"title\":\"Bokeh Application\",\"roots\":[{\"type\":\"object\",\"name\":\"Row\",\"id\":\"p3338\",\"attributes\":{\"name\":\"Row04670\",\"tags\":[\"embedded\"],\"stylesheets\":[\"\\n:host(.pn-loading):before, .pn-loading:before {\\n  background-color: #c3c3c3;\\n  mask-size: auto calc(min(50%, 400px));\\n  -webkit-mask-size: auto calc(min(50%, 400px));\\n}\",{\"type\":\"object\",\"name\":\"ImportedStyleSheet\",\"id\":\"p3341\",\"attributes\":{\"url\":\"https://cdn.holoviz.org/panel/1.5.3/dist/css/loading.css\"}},{\"type\":\"object\",\"name\":\"ImportedStyleSheet\",\"id\":\"p3390\",\"attributes\":{\"url\":\"https://cdn.holoviz.org/panel/1.5.3/dist/css/listpanel.css\"}},{\"type\":\"object\",\"name\":\"ImportedStyleSheet\",\"id\":\"p3339\",\"attributes\":{\"url\":\"https://cdn.holoviz.org/panel/1.5.3/dist/bundled/theme/default.css\"}},{\"type\":\"object\",\"name\":\"ImportedStyleSheet\",\"id\":\"p3340\",\"attributes\":{\"url\":\"https://cdn.holoviz.org/panel/1.5.3/dist/bundled/theme/native.css\"}}],\"min_width\":700,\"margin\":0,\"sizing_mode\":\"stretch_width\",\"align\":\"start\",\"children\":[{\"type\":\"object\",\"name\":\"Spacer\",\"id\":\"p3342\",\"attributes\":{\"name\":\"HSpacer04677\",\"stylesheets\":[\"\\n:host(.pn-loading):before, .pn-loading:before {\\n  background-color: #c3c3c3;\\n  mask-size: auto calc(min(50%, 400px));\\n  -webkit-mask-size: auto calc(min(50%, 400px));\\n}\",{\"id\":\"p3341\"},{\"id\":\"p3339\"},{\"id\":\"p3340\"}],\"margin\":0,\"sizing_mode\":\"stretch_width\",\"align\":\"start\"}},{\"type\":\"object\",\"name\":\"DataTable\",\"id\":\"p3381\",\"attributes\":{\"width\":700,\"height\":300,\"source\":{\"type\":\"object\",\"name\":\"ColumnDataSource\",\"id\":\"p3343\",\"attributes\":{\"selected\":{\"type\":\"object\",\"name\":\"Selection\",\"id\":\"p3344\",\"attributes\":{\"indices\":[],\"line_indices\":[]}},\"selection_policy\":{\"type\":\"object\",\"name\":\"UnionRenderers\",\"id\":\"p3345\"},\"data\":{\"type\":\"map\",\"entries\":[[\"gender\",{\"type\":\"ndarray\",\"array\":{\"type\":\"bytes\",\"data\":\"AAAAAAAAAAAAAAAAAQAAAAEAAAABAAAAAAAAAAAAAAAAAAAAAQAAAAEAAAABAAAAAQAAAAEAAAAAAAAAAQAAAAAAAAABAAAAAQAAAAAAAAAAAAAAAAAAAAEAAAABAAAAAAAAAAEAAAAAAAAAAAAAAAEAAAAAAAAAAAAAAAAAAAAAAAAAAQAAAAEAAAAAAAAAAQAAAAEAAAABAAAAAAAAAAEAAAAAAAAAAQAAAAAAAAAAAAAAAQAAAAAAAAAAAAAAAAAAAAAAAAAAAAAAAAAAAAEAAAABAAAAAAAAAAAAAAAAAAAAAAAAAAEAAAAAAAAAAAAAAAAAAAAAAAAAAAAAAAAAAAAAAAAAAQAAAAAAAAAAAAAAAAAAAAAAAAAAAAAAAAAAAAEAAAAAAAAAAAAAAAAAAAABAAAAAQAAAAAAAAABAAAAAQAAAAAAAAAAAAAAAAAAAAEAAAABAAAAAQAAAAEAAAAAAAAAAQAAAAAAAAABAAAAAQAAAAEAAAABAAAAAQAAAAEAAAAAAAAAAQAAAAAAAAABAAAAAQAAAAAAAAABAAAAAQAAAAEAAAAAAAAAAQAAAAEAAAABAAAAAQAAAAAAAAABAAAAAQAAAAEAAAAAAAAAAQAAAAAAAAAAAAAAAQAAAAAAAAABAAAAAAAAAAAAAAAAAAAAAAAAAAAAAAABAAAAAAAAAAAAAAABAAAAAAAAAAAAAAABAAAAAQAAAAEAAAAAAAAAAAAAAAEAAAAAAAAAAQAAAAAAAAAAAAAAAQAAAAAAAAABAAAAAAAAAAAAAAAAAAAAAAAAAAEAAAABAAAAAAAAAAAAAAAAAAAAAAAAAAEAAAABAAAAAAAAAAAAAAAAAAAAAQAAAAEAAAABAAAAAQAAAAEAAAAAAAAAAQAAAAEAAAABAAAAAAAAAAAAAAAAAAAAAQAAAAAAAAABAAAAAQAAAAEAAAAAAAAAAQAAAAEAAAAAAAAAAAAAAAAAAAABAAAAAQAAAAAAAAAAAAAAAQAAAAAAAAABAAAAAAAAAAEAAAAAAAAAAQAAAAEAAAABAAAAAAAAAAEAAAABAAAAAAAAAAAAAAABAAAAAQAAAAAAAAABAAAAAAAAAAAAAAABAAAAAQAAAAAAAAABAAAAAAAAAAAAAAABAAAAAQAAAAEAAAABAAAAAAAAAAEAAAABAAAAAQAAAAEAAAAAAAAAAAAAAAAAAAAAAAAAAQAAAAAAAAABAAAAAQAAAAAAAAABAAAAAQAAAAEAAAABAAAAAQAAAAEAAAAAAAAAAAAAAAEAAAABAAAAAAAAAAAAAAAAAAAAAQAAAAAAAAABAAAAAAAAAAAAAAAAAAAAAAAAAAEAAAABAAAAAAAAAAAAAAAAAAAAAQAAAAEAAAAAAAAAAQAAAAAAAAAAAAAAAAAAAAEAAAABAAAAAAAAAAAAAAAAAAAAAQAAAAEAAAABAAAAAAAAAAAAAAAAAAAAAQAAAAAAAAABAAAAAAAAAAEAAAAAAAAAAQAAAAEAAAABAAAAAQAAAAAAAAABAAAAAAAAAAEAAAABAAAAAAAAAAAAAAABAAAAAAAAAAEAAAAAAAAAAQAAAAAAAAAAAAAAAAAAAAEAAAAAAAAAAQAAAAAAAAABAAAAAAAAAAEAAAABAAAAAQAAAAAAAAABAAAAAQAAAAAAAAABAAAAAAAAAAAAAAAAAAAAAAAAAAEAAAABAAAAAQAAAAEAAAABAAAAAQAAAAEAAAABAAAAAAAAAAEAAAABAAAAAQAAAAEAAAABAAAAAQAAAAEAAAAAAAAAAQAAAAAAAAAAAAAAAQAAAAAAAAABAAAAAQAAAAEAAAABAAAAAQAAAAAAAAABAAAAAAAAAAAAAAAAAAAAAQAAAAEAAAABAAAAAAAAAAEAAAAAAAAAAQAAAAEAAAABAAAAAQAAAAEAAAAAAAAAAAAAAAAAAAAAAAAAAAAAAAEAAAAAAAAAAAAAAAAAAAABAAAAAAAAAAAAAAABAAAAAAAAAAEAAAABAAAAAQAAAAEAAAABAAAAAQAAAAAAAAABAAAAAAAAAAAAAAABAAAAAQAAAAAAAAABAAAAAAAAAAAAAAAAAAAAAAAAAAAAAAAAAAAAAAAAAAAAAAAAAAAAAQAAAAAAAAABAAAAAAAAAAAAAAABAAAAAAAAAAEAAAABAAAAAAAAAAEAAAABAAAAAQAAAAAAAAABAAAAAQAAAAEAAAAAAAAAAQAAAAEAAAAAAAAAAQAAAAEAAAAAAAAAAAAAAAAAAAAAAAAAAQAAAAEAAAABAAAAAAAAAAEAAAAAAAAAAQAAAAEAAAAAAAAAAAAAAAAAAAABAAAAAQAAAAEAAAABAAAAAAAAAAEAAAAAAAAAAAAAAAAAAAABAAAAAQAAAAAAAAABAAAAAQAAAAAAAAAAAAAAAAAAAAEAAAAAAAAAAAAAAAAAAAAAAAAAAQAAAAEAAAABAAAAAQAAAAAAAAAAAAAAAAAAAAAAAAABAAAAAQAAAAEAAAAAAAAAAQAAAAAAAAAAAAAAAAAAAAAAAAAAAAAAAAAAAAAAAAAAAAAAAAAAAAEAAAABAAAAAAAAAAEAAAAAAAAAAAAAAAEAAAABAAAAAQAAAAEAAAABAAAAAAAAAAEAAAABAAAAAAAAAAAAAAABAAAAAAAAAAAAAAABAAAAAQAAAAEAAAABAAAAAQAAAAAAAAABAAAAAQAAAAAAAAAAAAAAAQAAAAEAAAAAAAAAAAAAAAAAAAAAAAAAAQAAAAAAAAAAAAAAAAAAAAAAAAAAAAAAAAAAAAAAAAABAAAAAQAAAAAAAAABAAAAAQAAAAAAAAABAAAAAQAAAAEAAAAAAAAAAQAAAAAAAAABAAAAAAAAAAEAAAAAAAAAAQAAAAAAAAAAAAAAAAAAAAEAAAABAAAAAQAAAAAAAAABAAAAAQAAAAAAAAABAAAAAAAAAAEAAAAAAAAAAQAAAAEAAAABAAAAAAAAAAEAAAAAAAAAAQAAAAAAAAAAAAAAAAAAAAEAAAAAAAAAAAAAAAEAAAABAAAAAQAAAAAAAAAAAAAAAAAAAAEAAAABAAAAAQAAAAEAAAAAAAAAAQAAAAEAAAAAAAAAAQAAAAEAAAABAAAAAAAAAAAAAAAAAAAAAQAAAAAAAAABAAAAAAAAAAEAAAAAAAAAAAAAAAEAAAAAAAAAAAAAAAAAAAAAAAAAAQAAAAEAAAABAAAAAQAAAAEAAAABAAAAAQAAAAEAAAABAAAAAQAAAAAAAAABAAAAAAAAAAEAAAAAAAAAAAAAAAEAAAABAAAAAQAAAAEAAAABAAAAAQAAAAAAAAAAAAAAAAAAAAEAAAAAAAAAAQAAAAEAAAABAAAAAAAAAAAAAAAAAAAAAAAAAAAAAAABAAAAAAAAAAEAAAAAAAAAAAAAAAEAAAAAAAAAAQAAAAAAAAABAAAAAQAAAAEAAAAAAAAAAAAAAAEAAAABAAAAAAAAAAEAAAABAAAAAAAAAAAAAAAAAAAAAQAAAAEAAAABAAAAAAAAAAEAAAAAAAAAAQAAAAAAAAAAAAAAAAAAAAEAAAABAAAAAQAAAAAAAAAAAAAAAQAAAAEAAAABAAAAAAAAAAEAAAAAAAAAAQAAAAEAAAABAAAAAQAAAAAAAAABAAAAAAAAAAAAAAAAAAAAAQAAAAEAAAAAAAAAAAAAAAAAAAABAAAAAAAAAAEAAAABAAAAAAAAAAAAAAAAAAAAAQAAAAEAAAAAAAAAAQAAAAEAAAABAAAAAAAAAAEAAAABAAAAAAAAAAAAAAABAAAAAQAAAAEAAAABAAAAAQAAAAAAAAAAAAAAAAAAAAEAAAABAAAAAAAAAAEAAAABAAAAAQAAAAAAAAABAAAAAQAAAAEAAAABAAAAAAAAAAEAAAAAAAAAAAAAAAEAAAABAAAAAQAAAAEAAAABAAAAAQAAAAEAAAAAAAAAAQAAAAAAAAABAAAAAQAAAAEAAAAAAAAAAAAAAAEAAAABAAAAAQAAAAEAAAAAAAAAAQAAAAEAAAAAAAAAAQAAAAEAAAABAAAAAQAAAAEAAAAAAAAAAQAAAAAAAAABAAAAAAAAAAEAAAAAAAAAAQAAAAAAAAAAAAAAAQAAAAAAAAAAAAAAAAAAAAAAAAABAAAAAQAAAAEAAAABAAAAAAAAAAAAAAAAAAAAAAAAAAAAAAAAAAAAAQAAAAEAAAAAAAAAAAAAAAEAAAAAAAAAAAAAAAAAAAAAAAAAAQAAAAEAAAABAAAAAQAAAAAAAAABAAAAAQAAAAEAAAABAAAAAAAAAAAAAAABAAAAAAAAAAAAAAABAAAAAAAAAAAAAAABAAAAAQAAAAAAAAAAAAAAAQAAAAAAAAABAAAAAAAAAAEAAAAAAAAAAQAAAAAAAAAAAAAAAQAAAAEAAAAAAAAAAQAAAAAAAAAAAAAAAAAAAAAAAAABAAAAAAAAAAEAAAABAAAAAQAAAAAAAAABAAAAAAAAAAAAAAABAAAAAAAAAAEAAAAAAAAAAQAAAAAAAAABAAAAAAAAAAAAAAAAAAAAAAAAAAEAAAAAAAAAAQAAAAEAAAABAAAAAQAAAAAAAAABAAAAAAAAAAAAAAABAAAAAQAAAAAAAAABAAAAAQAAAAAAAAAAAAAAAAAAAAEAAAABAAAAAAAAAAAAAAAAAAAAAQAAAAAAAAABAAAAAAAAAAAAAAAAAAAAAQAAAAEAAAABAAAAAAAAAAEAAAAAAAAAAAAAAAEAAAABAAAAAAAAAAEAAAAAAAAAAQAAAAEAAAAAAAAAAQAAAAEAAAAAAAAAAQAAAAEAAAABAAAAAAAAAAAAAAAAAAAAAQAAAAEAAAAAAAAAAQAAAAEAAAABAAAAAAAAAAEAAAABAAAAAAAAAAEAAAABAAAAAQAAAAEAAAABAAAAAQAAAAAAAAABAAAAAAAAAAEAAAAAAAAAAQAAAAEAAAAAAAAAAQAAAAEAAAABAAAAAQAAAAEAAAABAAAAAAAAAAEAAAABAAAAAQAAAAEAAAABAAAAAQAAAAAAAAABAAAAAQAAAAAAAAABAAAAAAAAAAAAAAABAAAAAAAAAAEAAAAAAAAAAQAAAAEAAAABAAAAAAAAAAEAAAABAAAAAQAAAAEAAAABAAAAAAAAAAAAAAABAAAAAQAAAAEAAAAAAAAAAAAAAAAAAAAAAAAAAQAAAAEAAAABAAAAAQAAAAAAAAABAAAAAQAAAAAAAAABAAAAAAAAAAEAAAAAAAAAAQAAAAAAAAAAAAAAAAAAAAAAAAABAAAAAQAAAAAAAAAAAAAAAQAAAAAAAAAAAAAAAAAAAAAAAAAAAAAAAQAAAAAAAAAAAAAAAQAAAAAAAAAAAAAAAAAAAAEAAAABAAAAAAAAAAEAAAAAAAAAAQAAAAEAAAABAAAAAQAAAAAAAAAAAAAAAAAAAAAAAAABAAAAAAAAAAAAAAABAAAAAQAAAAAAAAAAAAAAAQAAAAEAAAAAAAAAAAAAAAAAAAABAAAAAQAAAAAAAAAAAAAAAQAAAAAAAAAAAAAAAQAAAAEAAAABAAAAAAAAAAAAAAAAAAAAAQAAAAAAAAABAAAAAAAAAAEAAAAAAAAAAQAAAAAAAAABAAAAAQAAAAEAAAAAAAAAAAAAAAAAAAABAAAAAQAAAAEAAAABAAAAAQAAAAEAAAABAAAAAAAAAAAAAAABAAAAAQAAAAEAAAABAAAAAQAAAAAAAAABAAAAAQAAAAEAAAAAAAAAAQAAAAEAAAAAAAAAAQAAAAAAAAABAAAAAQAAAAEAAAABAAAAAQAAAAAAAAABAAAAAAAAAAAAAAAAAAAAAQAAAAEAAAABAAAAAQAAAAEAAAAAAAAAAAAAAAEAAAABAAAAAQAAAAAAAAAAAAAAAAAAAAAAAAAAAAAAAQAAAAEAAAABAAAAAQAAAAAAAAAAAAAAAAAAAAAAAAABAAAAAAAAAAEAAAAAAAAAAQAAAAEAAAABAAAAAQAAAAAAAAABAAAAAQAAAAAAAAAAAAAAAAAAAAAAAAAAAAAAAQAAAAEAAAAAAAAAAQAAAAAAAAABAAAAAQAAAAAAAAABAAAAAAAAAAAAAAAAAAAAAAAAAAAAAAABAAAAAAAAAAAAAAAAAAAAAAAAAAAAAAAAAAAAAAAAAAAAAAAAAAAAAQAAAAAAAAABAAAAAAAAAAEAAAABAAAAAQAAAAAAAAABAAAAAQAAAAAAAAABAAAAAAAAAAEAAAABAAAAAQAAAAEAAAABAAAAAQAAAAAAAAAAAAAAAAAAAAEAAAAAAAAAAAAAAAEAAAABAAAAAQAAAAAAAAAAAAAAAAAAAAEAAAAAAAAAAAAAAAEAAAABAAAAAAAAAAAAAAAAAAAAAQAAAAAAAAAAAAAAAAAAAAAAAAABAAAAAAAAAAAAAAAAAAAAAAAAAAEAAAABAAAAAAAAAAEAAAAAAAAAAQAAAAAAAAAAAAAAAQAAAAEAAAAAAAAAAAAAAAAAAAAAAAAAAQAAAAEAAAABAAAAAQAAAAEAAAABAAAAAQAAAAAAAAAAAAAAAAAAAAAAAAAAAAAAAQAAAAEAAAABAAAAAQAAAAEAAAABAAAAAAAAAAEAAAAAAAAAAQAAAAAAAAABAAAAAAAAAAEAAAAAAAAAAAAAAAAAAAAAAAAAAAAAAAEAAAAAAAAAAAAAAAEAAAABAAAAAQAAAAAAAAABAAAAAQAAAAAAAAABAAAAAQAAAAEAAAAAAAAAAQAAAAEAAAAAAAAAAAAAAAAAAAABAAAAAQAAAAEAAAABAAAAAQAAAAEAAAAAAAAAAAAAAAAAAAAAAAAAAQAAAAAAAAAAAAAAAAAAAAEAAAABAAAAAQAAAAAAAAABAAAAAAAAAAAAAAAAAAAAAAAAAAAAAAAAAAAAAAAAAAAAAAAAAAAAAAAAAAAAAAABAAAAAAAAAAEAAAAAAAAAAAAAAAEAAAAAAAAAAAAAAAAAAAABAAAAAQAAAAEAAAABAAAAAQAAAAAAAAABAAAAAAAAAAEAAAAAAAAAAQAAAAAAAAABAAAAAQAAAAAAAAABAAAAAQAAAAEAAAABAAAAAAAAAAAAAAABAAAAAQAAAAEAAAAAAAAAAQAAAAAAAAAAAAAAAAAAAAEAAAABAAAAAAAAAAAAAAAAAAAAAAAAAAEAAAABAAAAAAAAAAAAAAAAAAAAAAAAAAAAAAABAAAAAQAAAAAAAAABAAAAAQAAAAEAAAAAAAAAAQAAAAEAAAAAAAAAAQAAAAEAAAAAAAAAAQAAAAAAAAAAAAAAAAAAAAAAAAABAAAAAQAAAAAAAAAAAAAAAQAAAAAAAAAAAAAAAAAAAAAAAAABAAAAAAAAAAEAAAAAAAAAAQAAAAEAAAAAAAAAAAAAAAAAAAABAAAAAAAAAAEAAAABAAAAAQAAAAAAAAAAAAAAAQAAAAEAAAABAAAAAAAAAAEAAAAAAAAAAAAAAAEAAAAAAAAAAAAAAAAAAAAAAAAAAAAAAAAAAAABAAAAAQAAAAAAAAABAAAAAQAAAAEAAAAAAAAA\"},\"shape\":[1413],\"dtype\":\"uint32\",\"order\":\"little\"}],[\"education\",{\"type\":\"ndarray\",\"array\":{\"type\":\"bytes\",\"data\":\"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\"},\"shape\":[1413],\"dtype\":\"uint32\",\"order\":\"little\"}],[\"occupation\",{\"type\":\"ndarray\",\"array\":{\"type\":\"bytes\",\"data\":\"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\"},\"shape\":[1413],\"dtype\":\"uint32\",\"order\":\"little\"}],[\"age_category\",{\"type\":\"ndarray\",\"array\":{\"type\":\"bytes\",\"data\":\"AAAAAAEAAAACAAAAAQAAAAIAAAACAAAAAgAAAAMAAAACAAAAAgAAAAMAAAACAAAAAAAAAAAAAAAAAAAAAgAAAAAAAAADAAAAAAAAAAIAAAAAAAAAAQAAAAIAAAADAAAAAAAAAAIAAAAEAAAAAAAAAAIAAAACAAAAAAAAAAAAAAAAAAAAAwAAAAQAAAAAAAAAAgAAAAIAAAACAAAABAAAAAAAAAACAAAAAQAAAAAAAAAAAAAAAQAAAAEAAAAEAAAAAQAAAAMAAAACAAAAAQAAAAAAAAAAAAAAAwAAAAIAAAABAAAABAAAAAEAAAABAAAAAAAAAAAAAAAAAAAAAgAAAAAAAAACAAAAAQAAAAIAAAABAAAAAAAAAAAAAAAAAAAAAAAAAAEAAAAAAAAAAQAAAAAAAAABAAAAAgAAAAIAAAAAAAAAAQAAAAMAAAACAAAAAAAAAAIAAAABAAAAAwAAAAAAAAAAAAAAAgAAAAAAAAABAAAAAAAAAAIAAAABAAAAAgAAAAIAAAAAAAAAAQAAAAIAAAAAAAAAAgAAAAAAAAACAAAAAQAAAAEAAAABAAAAAQAAAAAAAAAAAAAAAgAAAAEAAAACAAAAAAAAAAEAAAACAAAAAgAAAAEAAAAAAAAAAAAAAAAAAAACAAAABAAAAAAAAAABAAAAAAAAAAAAAAAAAAAAAAAAAAEAAAAAAAAAAAAAAAIAAAABAAAAAwAAAAAAAAABAAAAAAAAAAAAAAABAAAAAgAAAAAAAAAAAAAAAAAAAAMAAAABAAAAAgAAAAAAAAAEAAAABAAAAAEAAAACAAAAAQAAAAIAAAACAAAAAQAAAAAAAAABAAAAAgAAAAAAAAABAAAAAQAAAAAAAAACAAAABAAAAAEAAAAAAAAAAQAAAAAAAAABAAAAAAAAAAIAAAACAAAAAwAAAAIAAAACAAAAAQAAAAAAAAAEAAAAAgAAAAMAAAABAAAAAQAAAAEAAAADAAAAAAAAAAIAAAAAAAAAAQAAAAAAAAABAAAAAAAAAAAAAAACAAAAAAAAAAAAAAACAAAAAgAAAAQAAAAAAAAAAgAAAAAAAAABAAAAAgAAAAAAAAACAAAAAgAAAAAAAAABAAAAAgAAAAAAAAAAAAAAAwAAAAEAAAAAAAAAAQAAAAIAAAADAAAAAAAAAAAAAAACAAAAAAAAAAMAAAADAAAAAAAAAAAAAAACAAAAAgAAAAAAAAABAAAAAAAAAAAAAAACAAAAAQAAAAAAAAAAAAAAAgAAAAEAAAADAAAAAAAAAAEAAAABAAAAAQAAAAQAAAAAAAAABAAAAAQAAAAAAAAAAgAAAAMAAAABAAAAAAAAAAQAAAAAAAAAAgAAAAAAAAABAAAAAQAAAAIAAAAAAAAAAAAAAAIAAAABAAAAAQAAAAIAAAABAAAAAQAAAAAAAAAAAAAAAQAAAAQAAAAAAAAAAgAAAAMAAAABAAAAAgAAAAEAAAABAAAAAgAAAAEAAAACAAAAAAAAAAIAAAAAAAAAAQAAAAEAAAACAAAAAAAAAAEAAAAEAAAAAAAAAAAAAAACAAAABAAAAAMAAAACAAAAAAAAAAEAAAABAAAAAgAAAAAAAAABAAAAAgAAAAAAAAAAAAAAAAAAAAIAAAAAAAAAAAAAAAEAAAAEAAAAAwAAAAIAAAAEAAAAAgAAAAAAAAABAAAAAgAAAAAAAAAAAAAAAQAAAAIAAAADAAAAAAAAAAIAAAAAAAAAAwAAAAIAAAACAAAAAQAAAAAAAAAAAAAAAQAAAAAAAAADAAAAAQAAAAIAAAABAAAAAAAAAAIAAAACAAAAAgAAAAMAAAAEAAAAAAAAAAIAAAACAAAAAAAAAAIAAAAAAAAABAAAAAAAAAACAAAAAAAAAAAAAAAAAAAAAwAAAAIAAAAAAAAAAAAAAAEAAAAAAAAAAAAAAAIAAAABAAAAAAAAAAIAAAADAAAAAAAAAAIAAAAAAAAABAAAAAAAAAACAAAAAAAAAAEAAAABAAAAAgAAAAAAAAABAAAAAwAAAAEAAAAEAAAAAgAAAAEAAAAAAAAAAAAAAAAAAAABAAAABAAAAAAAAAABAAAABAAAAAIAAAACAAAAAQAAAAAAAAABAAAAAAAAAAAAAAACAAAAAQAAAAQAAAAAAAAABAAAAAIAAAABAAAAAgAAAAAAAAACAAAAAgAAAAIAAAAEAAAAAQAAAAEAAAACAAAAAQAAAAAAAAACAAAAAQAAAAEAAAAAAAAAAQAAAAIAAAAEAAAAAgAAAAQAAAACAAAAAQAAAAQAAAABAAAAAgAAAAEAAAAAAAAAAAAAAAAAAAAEAAAAAQAAAAAAAAAEAAAAAAAAAAAAAAACAAAAAAAAAAIAAAACAAAAAQAAAAIAAAACAAAAAgAAAAAAAAADAAAAAgAAAAEAAAABAAAAAgAAAAIAAAABAAAAAAAAAAMAAAAAAAAAAgAAAAEAAAABAAAAAAAAAAAAAAAAAAAAAAAAAAEAAAACAAAAAgAAAAAAAAACAAAAAgAAAAEAAAABAAAAAgAAAAEAAAAAAAAAAAAAAAIAAAACAAAAAgAAAAAAAAABAAAAAAAAAAQAAAAAAAAABAAAAAIAAAACAAAAAwAAAAEAAAADAAAAAgAAAAIAAAAAAAAAAAAAAAQAAAAAAAAAAAAAAAEAAAABAAAAAAAAAAEAAAACAAAAAAAAAAIAAAAAAAAAAwAAAAIAAAACAAAAAAAAAAIAAAAAAAAABAAAAAEAAAAAAAAAAAAAAAIAAAAEAAAAAwAAAAIAAAAAAAAAAgAAAAIAAAACAAAAAAAAAAEAAAAAAAAAAQAAAAIAAAABAAAAAAAAAAAAAAAAAAAABAAAAAIAAAADAAAAAQAAAAAAAAAAAAAAAwAAAAAAAAABAAAAAAAAAAIAAAACAAAAAgAAAAAAAAACAAAAAAAAAAEAAAABAAAAAwAAAAAAAAACAAAAAQAAAAIAAAACAAAAAgAAAAAAAAABAAAAAgAAAAIAAAABAAAAAQAAAAAAAAAAAAAAAwAAAAIAAAAAAAAAAAAAAAIAAAACAAAAAwAAAAAAAAACAAAAAgAAAAEAAAADAAAAAQAAAAMAAAAAAAAAAgAAAAAAAAAEAAAABAAAAAIAAAAAAAAAAAAAAAAAAAAEAAAABAAAAAAAAAAAAAAAAAAAAAAAAAACAAAAAAAAAAIAAAAAAAAAAQAAAAQAAAABAAAAAQAAAAMAAAACAAAAAwAAAAAAAAAAAAAAAAAAAAIAAAAEAAAAAwAAAAIAAAAAAAAAAAAAAAQAAAADAAAAAQAAAAAAAAAAAAAAAQAAAAEAAAABAAAAAwAAAAAAAAADAAAAAgAAAAAAAAACAAAAAQAAAAAAAAACAAAAAAAAAAMAAAACAAAAAQAAAAAAAAAAAAAAAAAAAAIAAAADAAAAAAAAAAQAAAACAAAAAgAAAAAAAAACAAAAAgAAAAIAAAAAAAAAAgAAAAEAAAABAAAAAAAAAAEAAAACAAAAAgAAAAIAAAAAAAAAAgAAAAIAAAACAAAAAgAAAAEAAAABAAAAAgAAAAIAAAACAAAAAQAAAAQAAAACAAAAAQAAAAEAAAADAAAAAwAAAAAAAAABAAAAAQAAAAIAAAACAAAABAAAAAIAAAAAAAAAAQAAAAMAAAADAAAAAAAAAAAAAAADAAAAAQAAAAEAAAABAAAAAgAAAAIAAAADAAAAAwAAAAIAAAACAAAAAAAAAAIAAAABAAAAAAAAAAAAAAAAAAAAAwAAAAAAAAADAAAAAAAAAAMAAAACAAAAAQAAAAAAAAAAAAAAAQAAAAQAAAAAAAAAAAAAAAAAAAADAAAAAAAAAAAAAAAAAAAAAgAAAAAAAAAAAAAAAAAAAAIAAAAAAAAAAAAAAAIAAAAEAAAAAAAAAAAAAAACAAAAAQAAAAMAAAACAAAAAQAAAAIAAAACAAAAAAAAAAMAAAAEAAAAAAAAAAQAAAAEAAAAAQAAAAEAAAACAAAAAgAAAAIAAAABAAAABAAAAAIAAAADAAAAAgAAAAIAAAAEAAAAAwAAAAAAAAAAAAAAAAAAAAMAAAACAAAAAAAAAAEAAAACAAAAAgAAAAAAAAABAAAAAwAAAAAAAAAEAAAABAAAAAEAAAADAAAAAQAAAAIAAAAEAAAAAgAAAAAAAAAAAAAAAgAAAAEAAAABAAAAAAAAAAEAAAACAAAAAgAAAAAAAAAAAAAAAAAAAAEAAAADAAAAAwAAAAAAAAAAAAAAAAAAAAMAAAADAAAAAgAAAAAAAAACAAAAAgAAAAEAAAAEAAAAAgAAAAAAAAADAAAAAAAAAAMAAAAAAAAAAgAAAAIAAAACAAAAAQAAAAIAAAABAAAABAAAAAAAAAAAAAAABAAAAAAAAAAAAAAAAAAAAAAAAAAEAAAAAQAAAAAAAAACAAAAAgAAAAEAAAABAAAAAgAAAAMAAAACAAAAAQAAAAQAAAABAAAABAAAAAAAAAACAAAAAwAAAAIAAAAEAAAAAgAAAAAAAAACAAAABAAAAAEAAAAAAAAAAQAAAAMAAAAAAAAAAQAAAAEAAAABAAAAAAAAAAAAAAAEAAAAAgAAAAIAAAAAAAAAAgAAAAAAAAACAAAAAQAAAAEAAAACAAAAAAAAAAAAAAABAAAAAAAAAAEAAAACAAAAAwAAAAEAAAAAAAAAAwAAAAEAAAACAAAAAgAAAAEAAAACAAAAAwAAAAIAAAADAAAAAAAAAAAAAAABAAAAAQAAAAAAAAAAAAAABAAAAAEAAAADAAAAAAAAAAIAAAACAAAAAAAAAAQAAAACAAAAAgAAAAEAAAAAAAAAAAAAAAAAAAACAAAAAAAAAAAAAAAAAAAAAgAAAAEAAAAEAAAAAgAAAAEAAAACAAAABAAAAAIAAAACAAAAAAAAAAAAAAAAAAAAAQAAAAIAAAABAAAAAwAAAAEAAAACAAAAAAAAAAAAAAAEAAAAAgAAAAEAAAABAAAAAAAAAAQAAAACAAAAAAAAAAEAAAAEAAAAAgAAAAAAAAAAAAAAAgAAAAIAAAAAAAAAAAAAAAEAAAABAAAAAAAAAAIAAAADAAAAAQAAAAMAAAADAAAAAAAAAAIAAAAAAAAAAgAAAAAAAAADAAAAAQAAAAMAAAACAAAAAAAAAAIAAAADAAAAAgAAAAMAAAABAAAAAwAAAAEAAAABAAAAAgAAAAIAAAACAAAAAQAAAAMAAAACAAAAAwAAAAIAAAACAAAAAgAAAAEAAAABAAAAAAAAAAEAAAACAAAAAAAAAAAAAAACAAAAAQAAAAEAAAAEAAAABAAAAAEAAAACAAAAAgAAAAMAAAACAAAAAwAAAAIAAAADAAAAAQAAAAEAAAAAAAAAAAAAAAAAAAACAAAAAQAAAAEAAAAEAAAAAgAAAAQAAAACAAAABAAAAAEAAAABAAAAAwAAAAQAAAADAAAAAgAAAAAAAAACAAAAAAAAAAQAAAACAAAAAgAAAAAAAAACAAAAAAAAAAEAAAAAAAAAAgAAAAAAAAAAAAAAAQAAAAAAAAABAAAAAQAAAAIAAAAAAAAAAgAAAAMAAAAEAAAAAAAAAAEAAAAEAAAAAAAAAAAAAAABAAAAAAAAAAAAAAACAAAAAgAAAAIAAAAAAAAAAAAAAAAAAAACAAAAAQAAAAAAAAACAAAAAAAAAAIAAAACAAAAAQAAAAIAAAAAAAAAAAAAAAAAAAACAAAAAAAAAAIAAAADAAAABAAAAAIAAAAAAAAABAAAAAAAAAACAAAAAAAAAAMAAAAAAAAAAAAAAAAAAAACAAAAAQAAAAAAAAADAAAAAAAAAAQAAAABAAAAAQAAAAIAAAABAAAAAAAAAAEAAAADAAAAAQAAAAIAAAAAAAAAAwAAAAAAAAABAAAAAgAAAAAAAAABAAAAAQAAAAAAAAAAAAAAAAAAAAMAAAACAAAABAAAAAIAAAACAAAAAAAAAAIAAAABAAAAAgAAAAAAAAACAAAAAwAAAAIAAAAEAAAABAAAAAMAAAADAAAABAAAAAIAAAACAAAAAgAAAAQAAAABAAAAAAAAAAAAAAABAAAAAAAAAAAAAAAAAAAAAwAAAAEAAAABAAAAAwAAAAAAAAACAAAAAAAAAAIAAAAAAAAABAAAAAEAAAAAAAAAAAAAAAIAAAAAAAAAAQAAAAEAAAABAAAAAQAAAAAAAAADAAAAAAAAAAMAAAABAAAAAAAAAAIAAAACAAAAAAAAAAAAAAACAAAAAAAAAAIAAAAEAAAAAgAAAAAAAAAAAAAAAQAAAAIAAAACAAAAAAAAAAIAAAACAAAAAAAAAAIAAAADAAAAAQAAAAEAAAABAAAAAAAAAAAAAAACAAAAAAAAAAAAAAACAAAAAwAAAAIAAAADAAAAAAAAAAAAAAADAAAAAAAAAAIAAAACAAAAAAAAAAAAAAAAAAAAAAAAAAAAAAAAAAAAAgAAAAMAAAADAAAAAAAAAAAAAAADAAAAAwAAAAAAAAABAAAAAgAAAAIAAAACAAAAAQAAAAIAAAACAAAAAAAAAAIAAAAEAAAAAgAAAAEAAAAAAAAAAgAAAAAAAAAAAAAAAgAAAAIAAAAEAAAAAQAAAAEAAAADAAAAAAAAAAIAAAABAAAAAAAAAAEAAAAAAAAAAAAAAAIAAAAEAAAAAAAAAAAAAAAAAAAAAAAAAAIAAAACAAAAAAAAAAQAAAABAAAAAwAAAAIAAAABAAAAAAAAAAIAAAAAAAAAAAAAAAAAAAACAAAAAAAAAAAAAAADAAAAAQAAAAEAAAACAAAAAAAAAAAAAAABAAAABAAAAAAAAAABAAAABAAAAAAAAAABAAAAAQAAAAMAAAADAAAAAQAAAAAAAAAAAAAAAAAAAAAAAAABAAAAAQAAAAAAAAACAAAAAgAAAAIAAAAAAAAAAQAAAAEAAAABAAAAAgAAAAIAAAAAAAAAAgAAAAAAAAAAAAAAAAAAAAIAAAADAAAAAgAAAAAAAAACAAAAAAAAAAEAAAACAAAAAAAAAAIAAAACAAAAAAAAAAAAAAAAAAAAAgAAAAAAAAACAAAAAAAAAAMAAAADAAAAAgAAAAEAAAAEAAAAAgAAAAQAAAADAAAAAAAAAAIAAAAEAAAAAAAAAAAAAAABAAAABAAAAAEAAAACAAAAAgAAAAIAAAABAAAAAQAAAAQAAAABAAAAAQAAAAIAAAADAAAAAAAAAAAAAAAEAAAAAgAAAAIAAAAAAAAAAQAAAAEAAAAAAAAAAAAAAAIAAAABAAAAAAAAAAEAAAACAAAAAgAAAAEAAAACAAAAAgAAAAAAAAADAAAAAgAAAAIAAAAEAAAAAgAAAAIAAAABAAAAAgAAAAIAAAAAAAAAAAAAAAAAAAABAAAAAAAAAAEAAAACAAAAAgAAAAIAAAABAAAABAAAAAAAAAACAAAAAQAAAAIAAAAAAAAAAwAAAAIAAAAAAAAAAAAAAAIAAAABAAAAAgAAAAAAAAAAAAAAAwAAAAIAAAABAAAA\"},\"shape\":[1413],\"dtype\":\"uint32\",\"order\":\"little\"}],[\"price_normalized\",{\"type\":\"ndarray\",\"array\":{\"type\":\"bytes\",\"data\":\"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\"},\"shape\":[1413],\"dtype\":\"float32\",\"order\":\"little\"}],[\"pages_normalized\",{\"type\":\"ndarray\",\"array\":{\"type\":\"bytes\",\"data\":\"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\"},\"shape\":[1413],\"dtype\":\"float64\",\"order\":\"little\"}],[\"label\",{\"type\":\"ndarray\",\"array\":{\"type\":\"bytes\",\"data\":\"AQAAAAEAAAABAAAAAQAAAAEAAAABAAAAAQAAAAEAAAABAAAAAAAAAAEAAAABAAAAAQAAAAAAAAABAAAAAAAAAAEAAAABAAAAAQAAAAEAAAAAAAAAAQAAAAEAAAAAAAAAAQAAAAEAAAABAAAAAQAAAAEAAAABAAAAAQAAAAAAAAABAAAAAAAAAAEAAAABAAAAAQAAAAEAAAAAAAAAAQAAAAEAAAABAAAAAQAAAAEAAAABAAAAAQAAAAEAAAABAAAAAQAAAAEAAAABAAAAAAAAAAEAAAABAAAAAQAAAAEAAAAAAAAAAQAAAAEAAAABAAAAAQAAAAEAAAAAAAAAAQAAAAAAAAABAAAAAQAAAAEAAAAAAAAAAAAAAAEAAAABAAAAAAAAAAEAAAAAAAAAAQAAAAEAAAABAAAAAQAAAAEAAAABAAAAAAAAAAEAAAABAAAAAQAAAAEAAAAAAAAAAQAAAAEAAAABAAAAAQAAAAEAAAABAAAAAQAAAAAAAAAAAAAAAQAAAAAAAAABAAAAAQAAAAEAAAABAAAAAQAAAAEAAAABAAAAAAAAAAAAAAABAAAAAAAAAAAAAAAAAAAAAQAAAAEAAAAAAAAAAQAAAAEAAAABAAAAAAAAAAEAAAABAAAAAQAAAAAAAAABAAAAAQAAAAEAAAABAAAAAQAAAAAAAAABAAAAAQAAAAAAAAABAAAAAQAAAAEAAAABAAAAAAAAAAEAAAABAAAAAAAAAAEAAAABAAAAAQAAAAAAAAAAAAAAAQAAAAEAAAABAAAAAAAAAAAAAAABAAAAAAAAAAEAAAAAAAAAAQAAAAEAAAABAAAAAQAAAAEAAAABAAAAAQAAAAAAAAABAAAAAAAAAAEAAAABAAAAAQAAAAAAAAABAAAAAQAAAAAAAAAAAAAAAQAAAAEAAAABAAAAAQAAAAEAAAABAAAAAQAAAAAAAAABAAAAAQAAAAEAAAABAAAAAQAAAAEAAAABAAAAAQAAAAAAAAABAAAAAQAAAAAAAAABAAAAAQAAAAAAAAABAAAAAAAAAAEAAAABAAAAAQAAAAEAAAABAAAAAQAAAAEAAAABAAAAAAAAAAAAAAABAAAAAQAAAAAAAAAAAAAAAQAAAAEAAAABAAAAAQAAAAEAAAAAAAAAAAAAAAEAAAABAAAAAQAAAAEAAAABAAAAAAAAAAEAAAABAAAAAQAAAAEAAAABAAAAAQAAAAEAAAABAAAAAQAAAAEAAAABAAAAAQAAAAEAAAABAAAAAQAAAAEAAAABAAAAAAAAAAAAAAABAAAAAAAAAAAAAAABAAAAAQAAAAEAAAABAAAAAAAAAAEAAAABAAAAAQAAAAEAAAAAAAAAAQAAAAEAAAABAAAAAQAAAAAAAAABAAAAAQAAAAEAAAAAAAAAAQAAAAEAAAABAAAAAQAAAAEAAAABAAAAAQAAAAAAAAABAAAAAQAAAAEAAAABAAAAAQAAAAEAAAABAAAAAQAAAAEAAAABAAAAAQAAAAAAAAABAAAAAAAAAAEAAAAAAAAAAAAAAAEAAAAAAAAAAQAAAAEAAAABAAAAAQAAAAEAAAABAAAAAQAAAAEAAAABAAAAAQAAAAEAAAABAAAAAQAAAAEAAAABAAAAAQAAAAEAAAABAAAAAAAAAAAAAAABAAAAAQAAAAEAAAABAAAAAQAAAAAAAAABAAAAAQAAAAAAAAABAAAAAQAAAAEAAAAAAAAAAAAAAAEAAAABAAAAAQAAAAAAAAABAAAAAQAAAAAAAAABAAAAAQAAAAEAAAABAAAAAQAAAAEAAAABAAAAAQAAAAAAAAABAAAAAQAAAAEAAAABAAAAAQAAAAAAAAABAAAAAQAAAAAAAAABAAAAAQAAAAEAAAABAAAAAQAAAAAAAAABAAAAAQAAAAAAAAABAAAAAAAAAAEAAAABAAAAAQAAAAEAAAABAAAAAAAAAAEAAAABAAAAAAAAAAEAAAAAAAAAAQAAAAAAAAABAAAAAQAAAAAAAAABAAAAAQAAAAAAAAABAAAAAQAAAAAAAAABAAAAAQAAAAEAAAABAAAAAAAAAAEAAAABAAAAAAAAAAEAAAABAAAAAAAAAAEAAAABAAAAAQAAAAEAAAABAAAAAQAAAAEAAAABAAAAAQAAAAEAAAABAAAAAQAAAAEAAAABAAAAAQAAAAEAAAABAAAAAQAAAAEAAAAAAAAAAAAAAAEAAAABAAAAAQAAAAEAAAABAAAAAQAAAAAAAAABAAAAAQAAAAAAAAAAAAAAAQAAAAAAAAABAAAAAQAAAAEAAAAAAAAAAQAAAAAAAAABAAAAAQAAAAEAAAABAAAAAQAAAAAAAAABAAAAAQAAAAEAAAAAAAAAAAAAAAEAAAAAAAAAAQAAAAAAAAABAAAAAQAAAAAAAAABAAAAAQAAAAEAAAAAAAAAAQAAAAAAAAABAAAAAAAAAAEAAAABAAAAAAAAAAEAAAAAAAAAAQAAAAAAAAABAAAAAQAAAAEAAAABAAAAAQAAAAEAAAABAAAAAQAAAAEAAAABAAAAAQAAAAEAAAABAAAAAQAAAAAAAAABAAAAAQAAAAEAAAAAAAAAAQAAAAEAAAABAAAAAQAAAAAAAAABAAAAAQAAAAEAAAABAAAAAQAAAAEAAAABAAAAAQAAAAEAAAAAAAAAAAAAAAEAAAAAAAAAAQAAAAEAAAAAAAAAAQAAAAEAAAABAAAAAAAAAAAAAAAAAAAAAAAAAAEAAAAAAAAAAQAAAAAAAAABAAAAAAAAAAEAAAAAAAAAAQAAAAAAAAABAAAAAQAAAAEAAAABAAAAAQAAAAEAAAABAAAAAQAAAAEAAAABAAAAAQAAAAEAAAABAAAAAAAAAAEAAAAAAAAAAQAAAAEAAAABAAAAAQAAAAEAAAABAAAAAQAAAAAAAAABAAAAAQAAAAEAAAABAAAAAQAAAAEAAAABAAAAAQAAAAEAAAAAAAAAAAAAAAEAAAABAAAAAQAAAAEAAAABAAAAAAAAAAEAAAABAAAAAQAAAAEAAAAAAAAAAQAAAAEAAAABAAAAAAAAAAEAAAABAAAAAQAAAAEAAAABAAAAAQAAAAAAAAAAAAAAAQAAAAEAAAABAAAAAAAAAAEAAAAAAAAAAQAAAAEAAAABAAAAAQAAAAAAAAABAAAAAAAAAAAAAAABAAAAAAAAAAEAAAABAAAAAQAAAAEAAAABAAAAAAAAAAEAAAABAAAAAQAAAAEAAAABAAAAAQAAAAEAAAAAAAAAAAAAAAEAAAABAAAAAAAAAAAAAAABAAAAAQAAAAEAAAAAAAAAAQAAAAAAAAABAAAAAAAAAAAAAAABAAAAAQAAAAEAAAABAAAAAQAAAAEAAAABAAAAAQAAAAEAAAAAAAAAAQAAAAAAAAABAAAAAQAAAAAAAAABAAAAAAAAAAEAAAABAAAAAQAAAAEAAAABAAAAAQAAAAEAAAABAAAAAQAAAAEAAAABAAAAAAAAAAEAAAABAAAAAQAAAAEAAAABAAAAAAAAAAEAAAAAAAAAAQAAAAEAAAAAAAAAAQAAAAAAAAABAAAAAQAAAAEAAAABAAAAAAAAAAEAAAABAAAAAQAAAAEAAAABAAAAAQAAAAEAAAABAAAAAQAAAAEAAAABAAAAAAAAAAEAAAABAAAAAQAAAAAAAAABAAAAAQAAAAEAAAAAAAAAAQAAAAEAAAABAAAAAQAAAAEAAAAAAAAAAQAAAAAAAAABAAAAAQAAAAEAAAABAAAAAQAAAAEAAAAAAAAAAAAAAAEAAAABAAAAAQAAAAEAAAABAAAAAAAAAAAAAAAAAAAAAQAAAAEAAAABAAAAAQAAAAEAAAAAAAAAAQAAAAAAAAABAAAAAQAAAAEAAAABAAAAAQAAAAEAAAABAAAAAQAAAAAAAAAAAAAAAQAAAAEAAAABAAAAAQAAAAEAAAAAAAAAAQAAAAEAAAABAAAAAQAAAAEAAAABAAAAAAAAAAAAAAAAAAAAAQAAAAAAAAABAAAAAAAAAAEAAAABAAAAAQAAAAAAAAABAAAAAAAAAAEAAAAAAAAAAAAAAAAAAAABAAAAAQAAAAEAAAABAAAAAQAAAAAAAAABAAAAAQAAAAEAAAABAAAAAAAAAAAAAAABAAAAAQAAAAEAAAABAAAAAQAAAAEAAAABAAAAAQAAAAAAAAABAAAAAQAAAAAAAAABAAAAAQAAAAAAAAABAAAAAQAAAAEAAAABAAAAAQAAAAEAAAAAAAAAAQAAAAEAAAABAAAAAAAAAAAAAAABAAAAAQAAAAEAAAABAAAAAQAAAAEAAAABAAAAAQAAAAEAAAAAAAAAAQAAAAAAAAABAAAAAQAAAAEAAAABAAAAAAAAAAEAAAABAAAAAQAAAAEAAAABAAAAAQAAAAEAAAABAAAAAAAAAAAAAAABAAAAAAAAAAEAAAABAAAAAQAAAAEAAAABAAAAAQAAAAEAAAABAAAAAQAAAAEAAAABAAAAAQAAAAAAAAABAAAAAQAAAAEAAAAAAAAAAQAAAAEAAAABAAAAAAAAAAEAAAAAAAAAAQAAAAEAAAABAAAAAQAAAAEAAAAAAAAAAAAAAAAAAAABAAAAAQAAAAEAAAABAAAAAQAAAAAAAAAAAAAAAQAAAAEAAAABAAAAAAAAAAAAAAABAAAAAQAAAAEAAAABAAAAAAAAAAEAAAABAAAAAQAAAAEAAAAAAAAAAQAAAAEAAAABAAAAAQAAAAEAAAABAAAAAQAAAAEAAAABAAAAAQAAAAEAAAAAAAAAAQAAAAAAAAAAAAAAAQAAAAEAAAABAAAAAQAAAAAAAAABAAAAAQAAAAEAAAABAAAAAQAAAAEAAAABAAAAAQAAAAEAAAABAAAAAQAAAAAAAAABAAAAAAAAAAAAAAABAAAAAQAAAAEAAAABAAAAAQAAAAEAAAABAAAAAQAAAAAAAAABAAAAAQAAAAEAAAABAAAAAQAAAAEAAAAAAAAAAQAAAAAAAAABAAAAAAAAAAEAAAABAAAAAQAAAAAAAAAAAAAAAQAAAAEAAAABAAAAAQAAAAEAAAABAAAAAQAAAAEAAAABAAAAAQAAAAEAAAAAAAAAAQAAAAEAAAABAAAAAAAAAAEAAAAAAAAAAQAAAAAAAAABAAAAAAAAAAEAAAABAAAAAQAAAAEAAAAAAAAAAQAAAAEAAAABAAAAAQAAAAAAAAABAAAAAQAAAAEAAAABAAAAAQAAAAEAAAAAAAAAAQAAAAEAAAABAAAAAQAAAAEAAAAAAAAAAAAAAAAAAAABAAAAAQAAAAEAAAAAAAAAAQAAAAAAAAABAAAAAQAAAAEAAAABAAAAAQAAAAEAAAABAAAAAQAAAAEAAAABAAAAAQAAAAAAAAABAAAAAQAAAAEAAAABAAAAAQAAAAAAAAABAAAAAQAAAAEAAAABAAAAAAAAAAEAAAABAAAAAQAAAAAAAAABAAAAAQAAAAEAAAABAAAAAQAAAAEAAAABAAAAAQAAAAEAAAAAAAAAAQAAAAEAAAAAAAAAAQAAAAEAAAAAAAAAAQAAAAAAAAAAAAAAAQAAAAEAAAABAAAAAQAAAAEAAAAAAAAAAAAAAAEAAAABAAAAAQAAAAAAAAABAAAAAQAAAAEAAAABAAAAAAAAAAAAAAABAAAAAAAAAAEAAAABAAAAAQAAAAEAAAABAAAAAQAAAAEAAAABAAAAAQAAAAAAAAABAAAAAQAAAAEAAAABAAAAAAAAAAEAAAABAAAAAQAAAAEAAAABAAAAAAAAAAAAAAABAAAAAQAAAAEAAAABAAAAAQAAAAEAAAAAAAAAAQAAAAEAAAABAAAAAQAAAAAAAAAAAAAAAQAAAAEAAAABAAAAAQAAAAAAAAAAAAAAAQAAAAEAAAABAAAAAAAAAAEAAAABAAAAAQAAAAEAAAABAAAAAAAAAAEAAAABAAAAAQAAAAEAAAABAAAAAAAAAAEAAAABAAAAAQAAAAAAAAABAAAAAQAAAAEAAAABAAAAAAAAAAEAAAAAAAAAAQAAAAEAAAABAAAAAQAAAAEAAAABAAAAAQAAAAEAAAAAAAAAAQAAAAEAAAAAAAAAAQAAAAAAAAAAAAAAAQAAAAEAAAAAAAAAAQAAAAAAAAABAAAAAQAAAAEAAAABAAAAAQAAAAEAAAABAAAAAQAAAAEAAAABAAAAAQAAAAEAAAABAAAAAAAAAAEAAAABAAAAAQAAAAAAAAABAAAAAQAAAAEAAAABAAAAAAAAAAEAAAABAAAAAAAAAAAAAAABAAAAAAAAAAEAAAABAAAAAAAAAAEAAAABAAAAAQAAAAAAAAABAAAAAQAAAAEAAAAAAAAAAQAAAAEAAAABAAAAAAAAAAEAAAAAAAAAAAAAAAEAAAABAAAAAQAAAAAAAAABAAAAAQAAAAAAAAAAAAAAAQAAAAAAAAABAAAAAQAAAAAAAAABAAAAAAAAAAEAAAABAAAAAQAAAAEAAAABAAAAAQAAAAEAAAABAAAAAAAAAAEAAAABAAAAAAAAAAAAAAABAAAAAQAAAAAAAAABAAAAAAAAAAEAAAABAAAAAAAAAAEAAAABAAAAAQAAAAEAAAABAAAAAAAAAAEAAAABAAAAAQAAAAAAAAAAAAAAAQAAAAEAAAABAAAAAQAAAAEAAAABAAAAAQAAAAAAAAAAAAAAAQAAAAEAAAABAAAAAQAAAAEAAAABAAAAAAAAAAAAAAAAAAAAAQAAAAEAAAAAAAAAAQAAAAEAAAABAAAAAAAAAAEAAAABAAAAAAAAAAEAAAAAAAAAAQAAAAAAAAABAAAAAQAAAAEAAAAAAAAAAQAAAAEAAAABAAAAAQAAAAEAAAABAAAAAQAAAAEAAAABAAAAAQAAAAEAAAABAAAAAQAAAAAAAAABAAAAAQAAAAEAAAABAAAAAQAAAAEAAAAAAAAAAQAAAAEAAAABAAAAAQAAAAAAAAABAAAAAAAAAAAAAAAAAAAAAAAAAAEAAAABAAAAAQAAAAEAAAABAAAAAAAAAAEAAAAAAAAAAQAAAAEAAAABAAAAAQAAAAAAAAABAAAAAQAAAAEAAAAAAAAAAQAAAAEAAAABAAAAAAAAAAEAAAAAAAAAAAAAAAAAAAABAAAAAQAAAAAAAAABAAAAAQAAAAEAAAABAAAAAAAAAAEAAAABAAAAAQAAAAEAAAABAAAAAAAAAAEAAAABAAAAAQAAAAEAAAABAAAAAQAAAAEAAAABAAAAAQAAAAEAAAABAAAAAQAAAAEAAAABAAAAAQAAAAEAAAABAAAAAQAAAAAAAAABAAAAAQAAAAAAAAABAAAAAQAAAAEAAAABAAAAAQAAAAEAAAABAAAAAQAAAAEAAAABAAAAAAAAAAEAAAABAAAAAQAAAAAAAAAAAAAAAQAAAAEAAAABAAAAAQAAAAEAAAABAAAAAAAAAAEAAAABAAAAAQAAAAEAAAABAAAAAQAAAAEAAAABAAAAAQAAAAEAAAAAAAAAAQAAAAEAAAABAAAAAAAAAAEAAAABAAAA\"},\"shape\":[1413],\"dtype\":\"int32\",\"order\":\"little\"}]]}}},\"view\":{\"type\":\"object\",\"name\":\"CDSView\",\"id\":\"p3385\",\"attributes\":{\"filter\":{\"type\":\"object\",\"name\":\"AllIndices\",\"id\":\"p3386\"}}},\"columns\":[{\"type\":\"object\",\"name\":\"TableColumn\",\"id\":\"p3348\",\"attributes\":{\"field\":\"gender\",\"title\":\"gender\",\"formatter\":{\"type\":\"object\",\"name\":\"StringFormatter\",\"id\":\"p3346\"},\"editor\":{\"type\":\"object\",\"name\":\"StringEditor\",\"id\":\"p3347\"}}},{\"type\":\"object\",\"name\":\"TableColumn\",\"id\":\"p3353\",\"attributes\":{\"field\":\"education\",\"title\":\"education\",\"formatter\":{\"type\":\"object\",\"name\":\"StringFormatter\",\"id\":\"p3351\"},\"editor\":{\"type\":\"object\",\"name\":\"StringEditor\",\"id\":\"p3352\"}}},{\"type\":\"object\",\"name\":\"TableColumn\",\"id\":\"p3358\",\"attributes\":{\"field\":\"occupation\",\"title\":\"occupation\",\"formatter\":{\"type\":\"object\",\"name\":\"StringFormatter\",\"id\":\"p3356\"},\"editor\":{\"type\":\"object\",\"name\":\"StringEditor\",\"id\":\"p3357\"}}},{\"type\":\"object\",\"name\":\"TableColumn\",\"id\":\"p3363\",\"attributes\":{\"field\":\"age_category\",\"title\":\"age_category\",\"formatter\":{\"type\":\"object\",\"name\":\"StringFormatter\",\"id\":\"p3361\"},\"editor\":{\"type\":\"object\",\"name\":\"StringEditor\",\"id\":\"p3362\"}}},{\"type\":\"object\",\"name\":\"TableColumn\",\"id\":\"p3368\",\"attributes\":{\"field\":\"price_normalized\",\"title\":\"price_normalized\",\"formatter\":{\"type\":\"object\",\"name\":\"NumberFormatter\",\"id\":\"p3366\",\"attributes\":{\"format\":\"0,0.0[00000]\"}},\"editor\":{\"type\":\"object\",\"name\":\"NumberEditor\",\"id\":\"p3367\"}}},{\"type\":\"object\",\"name\":\"TableColumn\",\"id\":\"p3373\",\"attributes\":{\"field\":\"pages_normalized\",\"title\":\"pages_normalized\",\"formatter\":{\"type\":\"object\",\"name\":\"NumberFormatter\",\"id\":\"p3371\",\"attributes\":{\"format\":\"0,0.0[00000]\"}},\"editor\":{\"type\":\"object\",\"name\":\"NumberEditor\",\"id\":\"p3372\"}}},{\"type\":\"object\",\"name\":\"TableColumn\",\"id\":\"p3378\",\"attributes\":{\"field\":\"label\",\"title\":\"label\",\"formatter\":{\"type\":\"object\",\"name\":\"NumberFormatter\",\"id\":\"p3376\"},\"editor\":{\"type\":\"object\",\"name\":\"IntEditor\",\"id\":\"p3377\"}}}],\"reorderable\":false}},{\"type\":\"object\",\"name\":\"Spacer\",\"id\":\"p3388\",\"attributes\":{\"name\":\"HSpacer04678\",\"stylesheets\":[\"\\n:host(.pn-loading):before, .pn-loading:before {\\n  background-color: #c3c3c3;\\n  mask-size: auto calc(min(50%, 400px));\\n  -webkit-mask-size: auto calc(min(50%, 400px));\\n}\",{\"id\":\"p3341\"},{\"id\":\"p3339\"},{\"id\":\"p3340\"}],\"margin\":0,\"sizing_mode\":\"stretch_width\",\"align\":\"start\"}}]}}],\"defs\":[{\"type\":\"model\",\"name\":\"ReactiveHTML1\"},{\"type\":\"model\",\"name\":\"FlexBox1\",\"properties\":[{\"name\":\"align_content\",\"kind\":\"Any\",\"default\":\"flex-start\"},{\"name\":\"align_items\",\"kind\":\"Any\",\"default\":\"flex-start\"},{\"name\":\"flex_direction\",\"kind\":\"Any\",\"default\":\"row\"},{\"name\":\"flex_wrap\",\"kind\":\"Any\",\"default\":\"wrap\"},{\"name\":\"gap\",\"kind\":\"Any\",\"default\":\"\"},{\"name\":\"justify_content\",\"kind\":\"Any\",\"default\":\"flex-start\"}]},{\"type\":\"model\",\"name\":\"FloatPanel1\",\"properties\":[{\"name\":\"config\",\"kind\":\"Any\",\"default\":{\"type\":\"map\"}},{\"name\":\"contained\",\"kind\":\"Any\",\"default\":true},{\"name\":\"position\",\"kind\":\"Any\",\"default\":\"right-top\"},{\"name\":\"offsetx\",\"kind\":\"Any\",\"default\":null},{\"name\":\"offsety\",\"kind\":\"Any\",\"default\":null},{\"name\":\"theme\",\"kind\":\"Any\",\"default\":\"primary\"},{\"name\":\"status\",\"kind\":\"Any\",\"default\":\"normalized\"}]},{\"type\":\"model\",\"name\":\"GridStack1\",\"properties\":[{\"name\":\"mode\",\"kind\":\"Any\",\"default\":\"warn\"},{\"name\":\"ncols\",\"kind\":\"Any\",\"default\":null},{\"name\":\"nrows\",\"kind\":\"Any\",\"default\":null},{\"name\":\"allow_resize\",\"kind\":\"Any\",\"default\":true},{\"name\":\"allow_drag\",\"kind\":\"Any\",\"default\":true},{\"name\":\"state\",\"kind\":\"Any\",\"default\":[]}]},{\"type\":\"model\",\"name\":\"drag1\",\"properties\":[{\"name\":\"slider_width\",\"kind\":\"Any\",\"default\":5},{\"name\":\"slider_color\",\"kind\":\"Any\",\"default\":\"black\"},{\"name\":\"value\",\"kind\":\"Any\",\"default\":50}]},{\"type\":\"model\",\"name\":\"click1\",\"properties\":[{\"name\":\"terminal_output\",\"kind\":\"Any\",\"default\":\"\"},{\"name\":\"debug_name\",\"kind\":\"Any\",\"default\":\"\"},{\"name\":\"clears\",\"kind\":\"Any\",\"default\":0}]},{\"type\":\"model\",\"name\":\"FastWrapper1\",\"properties\":[{\"name\":\"object\",\"kind\":\"Any\",\"default\":null},{\"name\":\"style\",\"kind\":\"Any\",\"default\":null}]},{\"type\":\"model\",\"name\":\"NotificationAreaBase1\",\"properties\":[{\"name\":\"js_events\",\"kind\":\"Any\",\"default\":{\"type\":\"map\"}},{\"name\":\"position\",\"kind\":\"Any\",\"default\":\"bottom-right\"},{\"name\":\"_clear\",\"kind\":\"Any\",\"default\":0}]},{\"type\":\"model\",\"name\":\"NotificationArea1\",\"properties\":[{\"name\":\"js_events\",\"kind\":\"Any\",\"default\":{\"type\":\"map\"}},{\"name\":\"notifications\",\"kind\":\"Any\",\"default\":[]},{\"name\":\"position\",\"kind\":\"Any\",\"default\":\"bottom-right\"},{\"name\":\"_clear\",\"kind\":\"Any\",\"default\":0},{\"name\":\"types\",\"kind\":\"Any\",\"default\":[{\"type\":\"map\",\"entries\":[[\"type\",\"warning\"],[\"background\",\"#ffc107\"],[\"icon\",{\"type\":\"map\",\"entries\":[[\"className\",\"fas fa-exclamation-triangle\"],[\"tagName\",\"i\"],[\"color\",\"white\"]]}]]},{\"type\":\"map\",\"entries\":[[\"type\",\"info\"],[\"background\",\"#007bff\"],[\"icon\",{\"type\":\"map\",\"entries\":[[\"className\",\"fas fa-info-circle\"],[\"tagName\",\"i\"],[\"color\",\"white\"]]}]]}]}]},{\"type\":\"model\",\"name\":\"Notification\",\"properties\":[{\"name\":\"background\",\"kind\":\"Any\",\"default\":null},{\"name\":\"duration\",\"kind\":\"Any\",\"default\":3000},{\"name\":\"icon\",\"kind\":\"Any\",\"default\":null},{\"name\":\"message\",\"kind\":\"Any\",\"default\":\"\"},{\"name\":\"notification_type\",\"kind\":\"Any\",\"default\":null},{\"name\":\"_destroyed\",\"kind\":\"Any\",\"default\":false}]},{\"type\":\"model\",\"name\":\"TemplateActions1\",\"properties\":[{\"name\":\"open_modal\",\"kind\":\"Any\",\"default\":0},{\"name\":\"close_modal\",\"kind\":\"Any\",\"default\":0}]},{\"type\":\"model\",\"name\":\"BootstrapTemplateActions1\",\"properties\":[{\"name\":\"open_modal\",\"kind\":\"Any\",\"default\":0},{\"name\":\"close_modal\",\"kind\":\"Any\",\"default\":0}]},{\"type\":\"model\",\"name\":\"TemplateEditor1\",\"properties\":[{\"name\":\"layout\",\"kind\":\"Any\",\"default\":[]}]},{\"type\":\"model\",\"name\":\"MaterialTemplateActions1\",\"properties\":[{\"name\":\"open_modal\",\"kind\":\"Any\",\"default\":0},{\"name\":\"close_modal\",\"kind\":\"Any\",\"default\":0}]},{\"type\":\"model\",\"name\":\"ReactiveESM1\"},{\"type\":\"model\",\"name\":\"JSComponent1\"},{\"type\":\"model\",\"name\":\"ReactComponent1\"},{\"type\":\"model\",\"name\":\"AnyWidgetComponent1\"},{\"type\":\"model\",\"name\":\"request_value1\",\"properties\":[{\"name\":\"fill\",\"kind\":\"Any\",\"default\":\"none\"},{\"name\":\"_synced\",\"kind\":\"Any\",\"default\":null},{\"name\":\"_request_sync\",\"kind\":\"Any\",\"default\":0}]}]}};\n",
       "  var render_items = [{\"docid\":\"36bbece7-dd9a-4c71-b5aa-6f2434d7d9fe\",\"roots\":{\"p3338\":\"bafd8f95-42cc-44ae-8fdc-370623ed7158\"},\"root_ids\":[\"p3338\"]}];\n",
       "  var docs = Object.values(docs_json)\n",
       "  if (!docs) {\n",
       "    return\n",
       "  }\n",
       "  const py_version = docs[0].version.replace('rc', '-rc.').replace('.dev', '-dev.')\n",
       "  async function embed_document(root) {\n",
       "    var Bokeh = get_bokeh(root)\n",
       "    await Bokeh.embed.embed_items_notebook(docs_json, render_items);\n",
       "    for (const render_item of render_items) {\n",
       "      for (const root_id of render_item.root_ids) {\n",
       "\tconst id_el = document.getElementById(root_id)\n",
       "\tif (id_el.children.length && id_el.children[0].hasAttribute('data-root-id')) {\n",
       "\t  const root_el = id_el.children[0]\n",
       "\t  root_el.id = root_el.id + '-rendered'\n",
       "\t  for (const child of root_el.children) {\n",
       "            // Ensure JupyterLab does not capture keyboard shortcuts\n",
       "            // see: https://jupyterlab.readthedocs.io/en/4.1.x/extension/notebook.html#keyboard-interaction-model\n",
       "\t    child.setAttribute('data-lm-suppress-shortcuts', 'true')\n",
       "\t  }\n",
       "\t}\n",
       "      }\n",
       "    }\n",
       "  }\n",
       "  function get_bokeh(root) {\n",
       "    if (root.Bokeh === undefined) {\n",
       "      return null\n",
       "    } else if (root.Bokeh.version !== py_version) {\n",
       "      if (root.Bokeh.versions === undefined || !root.Bokeh.versions.has(py_version)) {\n",
       "\treturn null\n",
       "      }\n",
       "      return root.Bokeh.versions.get(py_version);\n",
       "    } else if (root.Bokeh.version === py_version) {\n",
       "      return root.Bokeh\n",
       "    }\n",
       "    return null\n",
       "  }\n",
       "  function is_loaded(root) {\n",
       "    var Bokeh = get_bokeh(root)\n",
       "    return (Bokeh != null && Bokeh.Panel !== undefined)\n",
       "  }\n",
       "  if (is_loaded(root)) {\n",
       "    embed_document(root);\n",
       "  } else {\n",
       "    var attempts = 0;\n",
       "    var timer = setInterval(function(root) {\n",
       "      if (is_loaded(root)) {\n",
       "        clearInterval(timer);\n",
       "        embed_document(root);\n",
       "      } else if (document.readyState == \"complete\") {\n",
       "        attempts++;\n",
       "        if (attempts > 200) {\n",
       "          clearInterval(timer);\n",
       "\t  var Bokeh = get_bokeh(root)\n",
       "\t  if (Bokeh == null || Bokeh.Panel == null) {\n",
       "            console.warn(\"Panel: ERROR: Unable to run Panel code because Bokeh or Panel library is missing\");\n",
       "\t  } else {\n",
       "\t    console.warn(\"Panel: WARNING: Attempting to render but not all required libraries could be resolved.\")\n",
       "\t    embed_document(root)\n",
       "\t  }\n",
       "        }\n",
       "      }\n",
       "    }, 25, root)\n",
       "  }\n",
       "})(window);</script>"
      ],
      "text/plain": [
       ":Table   [gender,education,occupation,age_category,price_normalized,pages_normalized,label]"
      ]
     },
     "execution_count": 159,
     "metadata": {
      "application/vnd.holoviews_exec.v0+json": {
       "id": "p3338"
      }
     },
     "output_type": "execute_result"
    }
   ],
   "source": [
    "dataset_df.hvplot.table(\n",
    "    columns=[\n",
    "        \"gender\",\n",
    "        \"education\",\n",
    "        \"occupation\",\n",
    "        \"age_category\",\n",
    "        \"price_standardized\",\n",
    "        \"pages_standardized\",\n",
    "        \"label\",\n",
    "    ],\n",
    "    sortable=True,\n",
    "    selectable=True,\n",
    ")"
   ]
  },
  {
   "cell_type": "markdown",
   "id": "78f857d7-a218-4032-b600-e004e1abcfaf",
   "metadata": {},
   "source": [
    "## Library EDA commentary"
   ]
  },
  {
   "cell_type": "markdown",
   "id": "381b6113-b260-4934-9afd-e9ed6fc75cae",
   "metadata": {},
   "source": [
    "The goal of exploratory analysis is to provide insights and explain relationships between entities that are involved in the business process. By applying descriptive statistics techniques potential features are explored. \n",
    "\n",
    "## Motive \n",
    "\n",
    "The main motive or the business problem that drives the analysis is the late return of rented books from the libraries. Data exploration should provide an answer to whether this business problem can be translated into a statistical problem and whether can we mitigate it by collecting statistical data.\n",
    "\n",
    "## Overall conclusion\n",
    "\n",
    "The main entities that are presented and have enough information are `customers` and `books`. Information about libraries is not included in the analysis. The problem is presented uniformly and not by a particular library. \n",
    "After data cleaning (removing special characters, filling in missing values, standardizing formats, etc.) basic analysis is performed. For example, distribution of book pages and prices, and distribution of customer information such as gender, education, age group, etc. all concerning the label (is the book returned on time or not). \n",
    "\n",
    "The features are built that can potentially predict whether customers will return books on time or not.\n",
    "Looking at the labels, there is a 70/30 ratio between positive and negative labels showing class imbalance (which makes training a model more difficult). This can be solved by using sampling techniques or weighting classes (or both).\n",
    "\n",
    "There are no outstanding indicators in the data, for example, one particular feature stands out and shows that it is dominant for the outcome and the resulting label.\n",
    "\n",
    "## The answers to the task\n",
    "\n",
    "1) Building a model that can predict the likelihood of a late return of any book at the checkout time?\n",
    "\n",
    "I would suggest the business (library) center their problem around the customers and explain that we can try to build a predictive model that can tell whether the customer will return a book or not based on their renting history. Having the checkout data, as well as the customer and book data, this is possible. Of course, this should be viewed as an experiment, as we can't know if the model results will satisfy the business requirements.\n",
    "\n",
    "2) Are there any factors that are connected with the late returns?\n",
    "\n",
    "Based on data analysis there are no dominant signs that some particular feature is connected with late returns. Books data shows that pricier books with more pages tend to be returned late with no specific user group returning books late (based on education, age group, etc.)\n",
    "\n",
    "3) What would you recommend the library to do to mitigate the results you find?\n",
    "\n",
    "30% of the books are returned late. Building a statistical model that can predict (on a satisfactory level) whether the customer will return a book is a good start. \n",
    "Even without the model, the library should have more insight and utilize the data collected to potentially build reports or dashboards, tracking the most popular books, number of rents per book, customer with the most rents, or similar **KPIs** which will help them get to the right business decision faster and with more confidence (backed by data).\n",
    "\n",
    "4) How would you present your findings to get a buy-in?\n",
    "\n",
    "The presentation can be in the form of a notebook or even better, in the form of a PowerPoint presentation. The notebooks are a mix of code, diagrams, and text which might not sit well with non-technical personnel.  \n",
    "We should start with the description of the business problem, and how it affects the library business (they're losing money probably) and continue with a section that describes the findings in the data.\n",
    "Throughout the presentation, we should aim to use non-technical terms and try to be concise and precise. \n",
    "When talking about building a model, set expectations and try to find out what is the minimal performance level that solves (or starts to) the already mentioned business problem. We shouldn't aim to build a model that has 95% accuracy (or some other metrics) performance, we should aim to build something that has impact on the business and that may be a model with weaker performance.  \n",
    "The key takeaway is **managing expectations** which can be hard."
   ]
  }
 ],
 "metadata": {
  "kernelspec": {
   "display_name": "Python 3 (ipykernel)",
   "language": "python",
   "name": "python3"
  },
  "language_info": {
   "codemirror_mode": {
    "name": "ipython",
    "version": 3
   },
   "file_extension": ".py",
   "mimetype": "text/x-python",
   "name": "python",
   "nbconvert_exporter": "python",
   "pygments_lexer": "ipython3",
   "version": "3.11.6"
  }
 },
 "nbformat": 4,
 "nbformat_minor": 5
}
