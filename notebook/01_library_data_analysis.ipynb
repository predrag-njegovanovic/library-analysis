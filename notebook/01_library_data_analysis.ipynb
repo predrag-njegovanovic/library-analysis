{
 "cells": [
  {
   "cell_type": "markdown",
   "id": "8f44287b-377f-4542-b8c0-853b15df3d7e",
   "metadata": {},
   "source": [
    "## Library Data Analysis\n",
    "\n",
    "Data analysis covered in this notebook aims to prove the answers and solutions to the business problems libraries face, books being checked out and returned late. \n",
    "\n",
    "The analysis will discover connections between entities engaged in this business transaction, customer, books, and libraries, by looking into their respective relationships. \n",
    "This part of the process is called EDA (Exploratory Data Analysis) and if successful, it is going to yield features that are the most descriptive of the problem and these features will help us build a predictive model.\n",
    "\n",
    "The main idea is that the model will be able to help libraries elevate their businesses. \n",
    "\n",
    "This notebook\n",
    "1. Loads the data\n",
    "2. (Potentially) Adds additional columns to existing data (providing insight)\n",
    "3. Detects and visualizes the features\n",
    "4. Explains how these features can help mitigate the risks libraries are facing"
   ]
  },
  {
   "cell_type": "code",
   "execution_count": 1,
   "id": "fbdab765-df63-4296-9855-27c029451b6e",
   "metadata": {},
   "outputs": [
    {
     "name": "stdout",
     "output_type": "stream",
     "text": [
      "%opts magic unavailable (pyparsing cannot be imported)\n",
      "%compositor magic unavailable (pyparsing cannot be imported)\n"
     ]
    },
    {
     "data": {
      "text/html": [
       "<script type=\"esms-options\">{\"shimMode\": true}</script><style>*[data-root-id],\n",
       "*[data-root-id] > * {\n",
       "  box-sizing: border-box;\n",
       "  font-family: var(--jp-ui-font-family);\n",
       "  font-size: var(--jp-ui-font-size1);\n",
       "  color: var(--vscode-editor-foreground, var(--jp-ui-font-color1));\n",
       "}\n",
       "\n",
       "/* Override VSCode background color */\n",
       ".cell-output-ipywidget-background:has(\n",
       "    > .cell-output-ipywidget-background > .lm-Widget > *[data-root-id]\n",
       "  ),\n",
       ".cell-output-ipywidget-background:has(> .lm-Widget > *[data-root-id]) {\n",
       "  background-color: transparent !important;\n",
       "}\n",
       "</style>"
      ]
     },
     "metadata": {},
     "output_type": "display_data"
    },
    {
     "data": {
      "application/javascript": [
       "(function(root) {\n",
       "  function now() {\n",
       "    return new Date();\n",
       "  }\n",
       "\n",
       "  const force = true;\n",
       "  const py_version = '3.6.0'.replace('rc', '-rc.').replace('.dev', '-dev.');\n",
       "  const reloading = false;\n",
       "  const Bokeh = root.Bokeh;\n",
       "\n",
       "  // Set a timeout for this load but only if we are not already initializing\n",
       "  if (typeof (root._bokeh_timeout) === \"undefined\" || (force || !root._bokeh_is_initializing)) {\n",
       "    root._bokeh_timeout = Date.now() + 5000;\n",
       "    root._bokeh_failed_load = false;\n",
       "  }\n",
       "\n",
       "  function run_callbacks() {\n",
       "    try {\n",
       "      root._bokeh_onload_callbacks.forEach(function(callback) {\n",
       "        if (callback != null)\n",
       "          callback();\n",
       "      });\n",
       "    } finally {\n",
       "      delete root._bokeh_onload_callbacks;\n",
       "    }\n",
       "    console.debug(\"Bokeh: all callbacks have finished\");\n",
       "  }\n",
       "\n",
       "  function load_libs(css_urls, js_urls, js_modules, js_exports, callback) {\n",
       "    if (css_urls == null) css_urls = [];\n",
       "    if (js_urls == null) js_urls = [];\n",
       "    if (js_modules == null) js_modules = [];\n",
       "    if (js_exports == null) js_exports = {};\n",
       "\n",
       "    root._bokeh_onload_callbacks.push(callback);\n",
       "\n",
       "    if (root._bokeh_is_loading > 0) {\n",
       "      // Don't load bokeh if it is still initializing\n",
       "      console.debug(\"Bokeh: BokehJS is being loaded, scheduling callback at\", now());\n",
       "      return null;\n",
       "    } else if (js_urls.length === 0 && js_modules.length === 0 && Object.keys(js_exports).length === 0) {\n",
       "      // There is nothing to load\n",
       "      run_callbacks();\n",
       "      return null;\n",
       "    }\n",
       "\n",
       "    function on_load() {\n",
       "      root._bokeh_is_loading--;\n",
       "      if (root._bokeh_is_loading === 0) {\n",
       "        console.debug(\"Bokeh: all BokehJS libraries/stylesheets loaded\");\n",
       "        run_callbacks()\n",
       "      }\n",
       "    }\n",
       "    window._bokeh_on_load = on_load\n",
       "\n",
       "    function on_error(e) {\n",
       "      const src_el = e.srcElement\n",
       "      console.error(\"failed to load \" + (src_el.href || src_el.src));\n",
       "    }\n",
       "\n",
       "    const skip = [];\n",
       "    if (window.requirejs) {\n",
       "      window.requirejs.config({'packages': {}, 'paths': {}, 'shim': {}});\n",
       "      root._bokeh_is_loading = css_urls.length + 0;\n",
       "    } else {\n",
       "      root._bokeh_is_loading = css_urls.length + js_urls.length + js_modules.length + Object.keys(js_exports).length;\n",
       "    }\n",
       "\n",
       "    const existing_stylesheets = []\n",
       "    const links = document.getElementsByTagName('link')\n",
       "    for (let i = 0; i < links.length; i++) {\n",
       "      const link = links[i]\n",
       "      if (link.href != null) {\n",
       "        existing_stylesheets.push(link.href)\n",
       "      }\n",
       "    }\n",
       "    for (let i = 0; i < css_urls.length; i++) {\n",
       "      const url = css_urls[i];\n",
       "      const escaped = encodeURI(url)\n",
       "      if (existing_stylesheets.indexOf(escaped) !== -1) {\n",
       "        on_load()\n",
       "        continue;\n",
       "      }\n",
       "      const element = document.createElement(\"link\");\n",
       "      element.onload = on_load;\n",
       "      element.onerror = on_error;\n",
       "      element.rel = \"stylesheet\";\n",
       "      element.type = \"text/css\";\n",
       "      element.href = url;\n",
       "      console.debug(\"Bokeh: injecting link tag for BokehJS stylesheet: \", url);\n",
       "      document.body.appendChild(element);\n",
       "    }    var existing_scripts = []\n",
       "    const scripts = document.getElementsByTagName('script')\n",
       "    for (let i = 0; i < scripts.length; i++) {\n",
       "      var script = scripts[i]\n",
       "      if (script.src != null) {\n",
       "        existing_scripts.push(script.src)\n",
       "      }\n",
       "    }\n",
       "    for (let i = 0; i < js_urls.length; i++) {\n",
       "      const url = js_urls[i];\n",
       "      const escaped = encodeURI(url)\n",
       "      if (skip.indexOf(escaped) !== -1 || existing_scripts.indexOf(escaped) !== -1) {\n",
       "        if (!window.requirejs) {\n",
       "          on_load();\n",
       "        }\n",
       "        continue;\n",
       "      }\n",
       "      const element = document.createElement('script');\n",
       "      element.onload = on_load;\n",
       "      element.onerror = on_error;\n",
       "      element.async = false;\n",
       "      element.src = url;\n",
       "      console.debug(\"Bokeh: injecting script tag for BokehJS library: \", url);\n",
       "      document.head.appendChild(element);\n",
       "    }\n",
       "    for (let i = 0; i < js_modules.length; i++) {\n",
       "      const url = js_modules[i];\n",
       "      const escaped = encodeURI(url)\n",
       "      if (skip.indexOf(escaped) !== -1 || existing_scripts.indexOf(escaped) !== -1) {\n",
       "        if (!window.requirejs) {\n",
       "          on_load();\n",
       "        }\n",
       "        continue;\n",
       "      }\n",
       "      var element = document.createElement('script');\n",
       "      element.onload = on_load;\n",
       "      element.onerror = on_error;\n",
       "      element.async = false;\n",
       "      element.src = url;\n",
       "      element.type = \"module\";\n",
       "      console.debug(\"Bokeh: injecting script tag for BokehJS library: \", url);\n",
       "      document.head.appendChild(element);\n",
       "    }\n",
       "    for (const name in js_exports) {\n",
       "      const url = js_exports[name];\n",
       "      const escaped = encodeURI(url)\n",
       "      if (skip.indexOf(escaped) >= 0 || root[name] != null) {\n",
       "        if (!window.requirejs) {\n",
       "          on_load();\n",
       "        }\n",
       "        continue;\n",
       "      }\n",
       "      var element = document.createElement('script');\n",
       "      element.onerror = on_error;\n",
       "      element.async = false;\n",
       "      element.type = \"module\";\n",
       "      console.debug(\"Bokeh: injecting script tag for BokehJS library: \", url);\n",
       "      element.textContent = `\n",
       "      import ${name} from \"${url}\"\n",
       "      window.${name} = ${name}\n",
       "      window._bokeh_on_load()\n",
       "      `\n",
       "      document.head.appendChild(element);\n",
       "    }\n",
       "    if (!js_urls.length && !js_modules.length) {\n",
       "      on_load()\n",
       "    }\n",
       "  };\n",
       "\n",
       "  function inject_raw_css(css) {\n",
       "    const element = document.createElement(\"style\");\n",
       "    element.appendChild(document.createTextNode(css));\n",
       "    document.body.appendChild(element);\n",
       "  }\n",
       "\n",
       "  const js_urls = [\"https://cdn.holoviz.org/panel/1.5.3/dist/bundled/reactiveesm/es-module-shims@^1.10.0/dist/es-module-shims.min.js\", \"https://cdn.bokeh.org/bokeh/release/bokeh-3.6.0.min.js\", \"https://cdn.bokeh.org/bokeh/release/bokeh-gl-3.6.0.min.js\", \"https://cdn.bokeh.org/bokeh/release/bokeh-widgets-3.6.0.min.js\", \"https://cdn.bokeh.org/bokeh/release/bokeh-tables-3.6.0.min.js\", \"https://cdn.holoviz.org/panel/1.5.3/dist/panel.min.js\"];\n",
       "  const js_modules = [];\n",
       "  const js_exports = {};\n",
       "  const css_urls = [];\n",
       "  const inline_js = [    function(Bokeh) {\n",
       "      Bokeh.set_log_level(\"info\");\n",
       "    },\n",
       "function(Bokeh) {} // ensure no trailing comma for IE\n",
       "  ];\n",
       "\n",
       "  function run_inline_js() {\n",
       "    if ((root.Bokeh !== undefined) || (force === true)) {\n",
       "      for (let i = 0; i < inline_js.length; i++) {\n",
       "        try {\n",
       "          inline_js[i].call(root, root.Bokeh);\n",
       "        } catch(e) {\n",
       "          if (!reloading) {\n",
       "            throw e;\n",
       "          }\n",
       "        }\n",
       "      }\n",
       "      // Cache old bokeh versions\n",
       "      if (Bokeh != undefined && !reloading) {\n",
       "        var NewBokeh = root.Bokeh;\n",
       "        if (Bokeh.versions === undefined) {\n",
       "          Bokeh.versions = new Map();\n",
       "        }\n",
       "        if (NewBokeh.version !== Bokeh.version) {\n",
       "          Bokeh.versions.set(NewBokeh.version, NewBokeh)\n",
       "        }\n",
       "        root.Bokeh = Bokeh;\n",
       "      }\n",
       "    } else if (Date.now() < root._bokeh_timeout) {\n",
       "      setTimeout(run_inline_js, 100);\n",
       "    } else if (!root._bokeh_failed_load) {\n",
       "      console.log(\"Bokeh: BokehJS failed to load within specified timeout.\");\n",
       "      root._bokeh_failed_load = true;\n",
       "    }\n",
       "    root._bokeh_is_initializing = false\n",
       "  }\n",
       "\n",
       "  function load_or_wait() {\n",
       "    // Implement a backoff loop that tries to ensure we do not load multiple\n",
       "    // versions of Bokeh and its dependencies at the same time.\n",
       "    // In recent versions we use the root._bokeh_is_initializing flag\n",
       "    // to determine whether there is an ongoing attempt to initialize\n",
       "    // bokeh, however for backward compatibility we also try to ensure\n",
       "    // that we do not start loading a newer (Panel>=1.0 and Bokeh>3) version\n",
       "    // before older versions are fully initialized.\n",
       "    if (root._bokeh_is_initializing && Date.now() > root._bokeh_timeout) {\n",
       "      // If the timeout and bokeh was not successfully loaded we reset\n",
       "      // everything and try loading again\n",
       "      root._bokeh_timeout = Date.now() + 5000;\n",
       "      root._bokeh_is_initializing = false;\n",
       "      root._bokeh_onload_callbacks = undefined;\n",
       "      root._bokeh_is_loading = 0\n",
       "      console.log(\"Bokeh: BokehJS was loaded multiple times but one version failed to initialize.\");\n",
       "      load_or_wait();\n",
       "    } else if (root._bokeh_is_initializing || (typeof root._bokeh_is_initializing === \"undefined\" && root._bokeh_onload_callbacks !== undefined)) {\n",
       "      setTimeout(load_or_wait, 100);\n",
       "    } else {\n",
       "      root._bokeh_is_initializing = true\n",
       "      root._bokeh_onload_callbacks = []\n",
       "      const bokeh_loaded = root.Bokeh != null && (root.Bokeh.version === py_version || (root.Bokeh.versions !== undefined && root.Bokeh.versions.has(py_version)));\n",
       "      if (!reloading && !bokeh_loaded) {\n",
       "        if (root.Bokeh) {\n",
       "          root.Bokeh = undefined;\n",
       "        }\n",
       "        console.debug(\"Bokeh: BokehJS not loaded, scheduling load and callback at\", now());\n",
       "      }\n",
       "      load_libs(css_urls, js_urls, js_modules, js_exports, function() {\n",
       "        console.debug(\"Bokeh: BokehJS plotting callback run at\", now());\n",
       "        run_inline_js();\n",
       "      });\n",
       "    }\n",
       "  }\n",
       "  // Give older versions of the autoload script a head-start to ensure\n",
       "  // they initialize before we start loading newer version.\n",
       "  setTimeout(load_or_wait, 100)\n",
       "}(window));"
      ],
      "application/vnd.holoviews_load.v0+json": "(function(root) {\n  function now() {\n    return new Date();\n  }\n\n  const force = true;\n  const py_version = '3.6.0'.replace('rc', '-rc.').replace('.dev', '-dev.');\n  const reloading = false;\n  const Bokeh = root.Bokeh;\n\n  // Set a timeout for this load but only if we are not already initializing\n  if (typeof (root._bokeh_timeout) === \"undefined\" || (force || !root._bokeh_is_initializing)) {\n    root._bokeh_timeout = Date.now() + 5000;\n    root._bokeh_failed_load = false;\n  }\n\n  function run_callbacks() {\n    try {\n      root._bokeh_onload_callbacks.forEach(function(callback) {\n        if (callback != null)\n          callback();\n      });\n    } finally {\n      delete root._bokeh_onload_callbacks;\n    }\n    console.debug(\"Bokeh: all callbacks have finished\");\n  }\n\n  function load_libs(css_urls, js_urls, js_modules, js_exports, callback) {\n    if (css_urls == null) css_urls = [];\n    if (js_urls == null) js_urls = [];\n    if (js_modules == null) js_modules = [];\n    if (js_exports == null) js_exports = {};\n\n    root._bokeh_onload_callbacks.push(callback);\n\n    if (root._bokeh_is_loading > 0) {\n      // Don't load bokeh if it is still initializing\n      console.debug(\"Bokeh: BokehJS is being loaded, scheduling callback at\", now());\n      return null;\n    } else if (js_urls.length === 0 && js_modules.length === 0 && Object.keys(js_exports).length === 0) {\n      // There is nothing to load\n      run_callbacks();\n      return null;\n    }\n\n    function on_load() {\n      root._bokeh_is_loading--;\n      if (root._bokeh_is_loading === 0) {\n        console.debug(\"Bokeh: all BokehJS libraries/stylesheets loaded\");\n        run_callbacks()\n      }\n    }\n    window._bokeh_on_load = on_load\n\n    function on_error(e) {\n      const src_el = e.srcElement\n      console.error(\"failed to load \" + (src_el.href || src_el.src));\n    }\n\n    const skip = [];\n    if (window.requirejs) {\n      window.requirejs.config({'packages': {}, 'paths': {}, 'shim': {}});\n      root._bokeh_is_loading = css_urls.length + 0;\n    } else {\n      root._bokeh_is_loading = css_urls.length + js_urls.length + js_modules.length + Object.keys(js_exports).length;\n    }\n\n    const existing_stylesheets = []\n    const links = document.getElementsByTagName('link')\n    for (let i = 0; i < links.length; i++) {\n      const link = links[i]\n      if (link.href != null) {\n        existing_stylesheets.push(link.href)\n      }\n    }\n    for (let i = 0; i < css_urls.length; i++) {\n      const url = css_urls[i];\n      const escaped = encodeURI(url)\n      if (existing_stylesheets.indexOf(escaped) !== -1) {\n        on_load()\n        continue;\n      }\n      const element = document.createElement(\"link\");\n      element.onload = on_load;\n      element.onerror = on_error;\n      element.rel = \"stylesheet\";\n      element.type = \"text/css\";\n      element.href = url;\n      console.debug(\"Bokeh: injecting link tag for BokehJS stylesheet: \", url);\n      document.body.appendChild(element);\n    }    var existing_scripts = []\n    const scripts = document.getElementsByTagName('script')\n    for (let i = 0; i < scripts.length; i++) {\n      var script = scripts[i]\n      if (script.src != null) {\n        existing_scripts.push(script.src)\n      }\n    }\n    for (let i = 0; i < js_urls.length; i++) {\n      const url = js_urls[i];\n      const escaped = encodeURI(url)\n      if (skip.indexOf(escaped) !== -1 || existing_scripts.indexOf(escaped) !== -1) {\n        if (!window.requirejs) {\n          on_load();\n        }\n        continue;\n      }\n      const element = document.createElement('script');\n      element.onload = on_load;\n      element.onerror = on_error;\n      element.async = false;\n      element.src = url;\n      console.debug(\"Bokeh: injecting script tag for BokehJS library: \", url);\n      document.head.appendChild(element);\n    }\n    for (let i = 0; i < js_modules.length; i++) {\n      const url = js_modules[i];\n      const escaped = encodeURI(url)\n      if (skip.indexOf(escaped) !== -1 || existing_scripts.indexOf(escaped) !== -1) {\n        if (!window.requirejs) {\n          on_load();\n        }\n        continue;\n      }\n      var element = document.createElement('script');\n      element.onload = on_load;\n      element.onerror = on_error;\n      element.async = false;\n      element.src = url;\n      element.type = \"module\";\n      console.debug(\"Bokeh: injecting script tag for BokehJS library: \", url);\n      document.head.appendChild(element);\n    }\n    for (const name in js_exports) {\n      const url = js_exports[name];\n      const escaped = encodeURI(url)\n      if (skip.indexOf(escaped) >= 0 || root[name] != null) {\n        if (!window.requirejs) {\n          on_load();\n        }\n        continue;\n      }\n      var element = document.createElement('script');\n      element.onerror = on_error;\n      element.async = false;\n      element.type = \"module\";\n      console.debug(\"Bokeh: injecting script tag for BokehJS library: \", url);\n      element.textContent = `\n      import ${name} from \"${url}\"\n      window.${name} = ${name}\n      window._bokeh_on_load()\n      `\n      document.head.appendChild(element);\n    }\n    if (!js_urls.length && !js_modules.length) {\n      on_load()\n    }\n  };\n\n  function inject_raw_css(css) {\n    const element = document.createElement(\"style\");\n    element.appendChild(document.createTextNode(css));\n    document.body.appendChild(element);\n  }\n\n  const js_urls = [\"https://cdn.holoviz.org/panel/1.5.3/dist/bundled/reactiveesm/es-module-shims@^1.10.0/dist/es-module-shims.min.js\", \"https://cdn.bokeh.org/bokeh/release/bokeh-3.6.0.min.js\", \"https://cdn.bokeh.org/bokeh/release/bokeh-gl-3.6.0.min.js\", \"https://cdn.bokeh.org/bokeh/release/bokeh-widgets-3.6.0.min.js\", \"https://cdn.bokeh.org/bokeh/release/bokeh-tables-3.6.0.min.js\", \"https://cdn.holoviz.org/panel/1.5.3/dist/panel.min.js\"];\n  const js_modules = [];\n  const js_exports = {};\n  const css_urls = [];\n  const inline_js = [    function(Bokeh) {\n      Bokeh.set_log_level(\"info\");\n    },\nfunction(Bokeh) {} // ensure no trailing comma for IE\n  ];\n\n  function run_inline_js() {\n    if ((root.Bokeh !== undefined) || (force === true)) {\n      for (let i = 0; i < inline_js.length; i++) {\n        try {\n          inline_js[i].call(root, root.Bokeh);\n        } catch(e) {\n          if (!reloading) {\n            throw e;\n          }\n        }\n      }\n      // Cache old bokeh versions\n      if (Bokeh != undefined && !reloading) {\n        var NewBokeh = root.Bokeh;\n        if (Bokeh.versions === undefined) {\n          Bokeh.versions = new Map();\n        }\n        if (NewBokeh.version !== Bokeh.version) {\n          Bokeh.versions.set(NewBokeh.version, NewBokeh)\n        }\n        root.Bokeh = Bokeh;\n      }\n    } else if (Date.now() < root._bokeh_timeout) {\n      setTimeout(run_inline_js, 100);\n    } else if (!root._bokeh_failed_load) {\n      console.log(\"Bokeh: BokehJS failed to load within specified timeout.\");\n      root._bokeh_failed_load = true;\n    }\n    root._bokeh_is_initializing = false\n  }\n\n  function load_or_wait() {\n    // Implement a backoff loop that tries to ensure we do not load multiple\n    // versions of Bokeh and its dependencies at the same time.\n    // In recent versions we use the root._bokeh_is_initializing flag\n    // to determine whether there is an ongoing attempt to initialize\n    // bokeh, however for backward compatibility we also try to ensure\n    // that we do not start loading a newer (Panel>=1.0 and Bokeh>3) version\n    // before older versions are fully initialized.\n    if (root._bokeh_is_initializing && Date.now() > root._bokeh_timeout) {\n      // If the timeout and bokeh was not successfully loaded we reset\n      // everything and try loading again\n      root._bokeh_timeout = Date.now() + 5000;\n      root._bokeh_is_initializing = false;\n      root._bokeh_onload_callbacks = undefined;\n      root._bokeh_is_loading = 0\n      console.log(\"Bokeh: BokehJS was loaded multiple times but one version failed to initialize.\");\n      load_or_wait();\n    } else if (root._bokeh_is_initializing || (typeof root._bokeh_is_initializing === \"undefined\" && root._bokeh_onload_callbacks !== undefined)) {\n      setTimeout(load_or_wait, 100);\n    } else {\n      root._bokeh_is_initializing = true\n      root._bokeh_onload_callbacks = []\n      const bokeh_loaded = root.Bokeh != null && (root.Bokeh.version === py_version || (root.Bokeh.versions !== undefined && root.Bokeh.versions.has(py_version)));\n      if (!reloading && !bokeh_loaded) {\n        if (root.Bokeh) {\n          root.Bokeh = undefined;\n        }\n        console.debug(\"Bokeh: BokehJS not loaded, scheduling load and callback at\", now());\n      }\n      load_libs(css_urls, js_urls, js_modules, js_exports, function() {\n        console.debug(\"Bokeh: BokehJS plotting callback run at\", now());\n        run_inline_js();\n      });\n    }\n  }\n  // Give older versions of the autoload script a head-start to ensure\n  // they initialize before we start loading newer version.\n  setTimeout(load_or_wait, 100)\n}(window));"
     },
     "metadata": {},
     "output_type": "display_data"
    },
    {
     "data": {
      "application/javascript": [
       "\n",
       "if ((window.PyViz === undefined) || (window.PyViz instanceof HTMLElement)) {\n",
       "  window.PyViz = {comms: {}, comm_status:{}, kernels:{}, receivers: {}, plot_index: []}\n",
       "}\n",
       "\n",
       "\n",
       "    function JupyterCommManager() {\n",
       "    }\n",
       "\n",
       "    JupyterCommManager.prototype.register_target = function(plot_id, comm_id, msg_handler) {\n",
       "      if (window.comm_manager || ((window.Jupyter !== undefined) && (Jupyter.notebook.kernel != null))) {\n",
       "        var comm_manager = window.comm_manager || Jupyter.notebook.kernel.comm_manager;\n",
       "        comm_manager.register_target(comm_id, function(comm) {\n",
       "          comm.on_msg(msg_handler);\n",
       "        });\n",
       "      } else if ((plot_id in window.PyViz.kernels) && (window.PyViz.kernels[plot_id])) {\n",
       "        window.PyViz.kernels[plot_id].registerCommTarget(comm_id, function(comm) {\n",
       "          comm.onMsg = msg_handler;\n",
       "        });\n",
       "      } else if (typeof google != 'undefined' && google.colab.kernel != null) {\n",
       "        google.colab.kernel.comms.registerTarget(comm_id, (comm) => {\n",
       "          var messages = comm.messages[Symbol.asyncIterator]();\n",
       "          function processIteratorResult(result) {\n",
       "            var message = result.value;\n",
       "            console.log(message)\n",
       "            var content = {data: message.data, comm_id};\n",
       "            var buffers = []\n",
       "            for (var buffer of message.buffers || []) {\n",
       "              buffers.push(new DataView(buffer))\n",
       "            }\n",
       "            var metadata = message.metadata || {};\n",
       "            var msg = {content, buffers, metadata}\n",
       "            msg_handler(msg);\n",
       "            return messages.next().then(processIteratorResult);\n",
       "          }\n",
       "          return messages.next().then(processIteratorResult);\n",
       "        })\n",
       "      }\n",
       "    }\n",
       "\n",
       "    JupyterCommManager.prototype.get_client_comm = function(plot_id, comm_id, msg_handler) {\n",
       "      if (comm_id in window.PyViz.comms) {\n",
       "        return window.PyViz.comms[comm_id];\n",
       "      } else if (window.comm_manager || ((window.Jupyter !== undefined) && (Jupyter.notebook.kernel != null))) {\n",
       "        var comm_manager = window.comm_manager || Jupyter.notebook.kernel.comm_manager;\n",
       "        var comm = comm_manager.new_comm(comm_id, {}, {}, {}, comm_id);\n",
       "        if (msg_handler) {\n",
       "          comm.on_msg(msg_handler);\n",
       "        }\n",
       "      } else if ((plot_id in window.PyViz.kernels) && (window.PyViz.kernels[plot_id])) {\n",
       "        var comm = window.PyViz.kernels[plot_id].connectToComm(comm_id);\n",
       "        comm.open();\n",
       "        if (msg_handler) {\n",
       "          comm.onMsg = msg_handler;\n",
       "        }\n",
       "      } else if (typeof google != 'undefined' && google.colab.kernel != null) {\n",
       "        var comm_promise = google.colab.kernel.comms.open(comm_id)\n",
       "        comm_promise.then((comm) => {\n",
       "          window.PyViz.comms[comm_id] = comm;\n",
       "          if (msg_handler) {\n",
       "            var messages = comm.messages[Symbol.asyncIterator]();\n",
       "            function processIteratorResult(result) {\n",
       "              var message = result.value;\n",
       "              var content = {data: message.data};\n",
       "              var metadata = message.metadata || {comm_id};\n",
       "              var msg = {content, metadata}\n",
       "              msg_handler(msg);\n",
       "              return messages.next().then(processIteratorResult);\n",
       "            }\n",
       "            return messages.next().then(processIteratorResult);\n",
       "          }\n",
       "        }) \n",
       "        var sendClosure = (data, metadata, buffers, disposeOnDone) => {\n",
       "          return comm_promise.then((comm) => {\n",
       "            comm.send(data, metadata, buffers, disposeOnDone);\n",
       "          });\n",
       "        };\n",
       "        var comm = {\n",
       "          send: sendClosure\n",
       "        };\n",
       "      }\n",
       "      window.PyViz.comms[comm_id] = comm;\n",
       "      return comm;\n",
       "    }\n",
       "    window.PyViz.comm_manager = new JupyterCommManager();\n",
       "    \n",
       "\n",
       "\n",
       "var JS_MIME_TYPE = 'application/javascript';\n",
       "var HTML_MIME_TYPE = 'text/html';\n",
       "var EXEC_MIME_TYPE = 'application/vnd.holoviews_exec.v0+json';\n",
       "var CLASS_NAME = 'output';\n",
       "\n",
       "/**\n",
       " * Render data to the DOM node\n",
       " */\n",
       "function render(props, node) {\n",
       "  var div = document.createElement(\"div\");\n",
       "  var script = document.createElement(\"script\");\n",
       "  node.appendChild(div);\n",
       "  node.appendChild(script);\n",
       "}\n",
       "\n",
       "/**\n",
       " * Handle when a new output is added\n",
       " */\n",
       "function handle_add_output(event, handle) {\n",
       "  var output_area = handle.output_area;\n",
       "  var output = handle.output;\n",
       "  if ((output.data == undefined) || (!output.data.hasOwnProperty(EXEC_MIME_TYPE))) {\n",
       "    return\n",
       "  }\n",
       "  var id = output.metadata[EXEC_MIME_TYPE][\"id\"];\n",
       "  var toinsert = output_area.element.find(\".\" + CLASS_NAME.split(' ')[0]);\n",
       "  if (id !== undefined) {\n",
       "    var nchildren = toinsert.length;\n",
       "    var html_node = toinsert[nchildren-1].children[0];\n",
       "    html_node.innerHTML = output.data[HTML_MIME_TYPE];\n",
       "    var scripts = [];\n",
       "    var nodelist = html_node.querySelectorAll(\"script\");\n",
       "    for (var i in nodelist) {\n",
       "      if (nodelist.hasOwnProperty(i)) {\n",
       "        scripts.push(nodelist[i])\n",
       "      }\n",
       "    }\n",
       "\n",
       "    scripts.forEach( function (oldScript) {\n",
       "      var newScript = document.createElement(\"script\");\n",
       "      var attrs = [];\n",
       "      var nodemap = oldScript.attributes;\n",
       "      for (var j in nodemap) {\n",
       "        if (nodemap.hasOwnProperty(j)) {\n",
       "          attrs.push(nodemap[j])\n",
       "        }\n",
       "      }\n",
       "      attrs.forEach(function(attr) { newScript.setAttribute(attr.name, attr.value) });\n",
       "      newScript.appendChild(document.createTextNode(oldScript.innerHTML));\n",
       "      oldScript.parentNode.replaceChild(newScript, oldScript);\n",
       "    });\n",
       "    if (JS_MIME_TYPE in output.data) {\n",
       "      toinsert[nchildren-1].children[1].textContent = output.data[JS_MIME_TYPE];\n",
       "    }\n",
       "    output_area._hv_plot_id = id;\n",
       "    if ((window.Bokeh !== undefined) && (id in Bokeh.index)) {\n",
       "      window.PyViz.plot_index[id] = Bokeh.index[id];\n",
       "    } else {\n",
       "      window.PyViz.plot_index[id] = null;\n",
       "    }\n",
       "  } else if (output.metadata[EXEC_MIME_TYPE][\"server_id\"] !== undefined) {\n",
       "    var bk_div = document.createElement(\"div\");\n",
       "    bk_div.innerHTML = output.data[HTML_MIME_TYPE];\n",
       "    var script_attrs = bk_div.children[0].attributes;\n",
       "    for (var i = 0; i < script_attrs.length; i++) {\n",
       "      toinsert[toinsert.length - 1].childNodes[1].setAttribute(script_attrs[i].name, script_attrs[i].value);\n",
       "    }\n",
       "    // store reference to server id on output_area\n",
       "    output_area._bokeh_server_id = output.metadata[EXEC_MIME_TYPE][\"server_id\"];\n",
       "  }\n",
       "}\n",
       "\n",
       "/**\n",
       " * Handle when an output is cleared or removed\n",
       " */\n",
       "function handle_clear_output(event, handle) {\n",
       "  var id = handle.cell.output_area._hv_plot_id;\n",
       "  var server_id = handle.cell.output_area._bokeh_server_id;\n",
       "  if (((id === undefined) || !(id in PyViz.plot_index)) && (server_id !== undefined)) { return; }\n",
       "  var comm = window.PyViz.comm_manager.get_client_comm(\"hv-extension-comm\", \"hv-extension-comm\", function () {});\n",
       "  if (server_id !== null) {\n",
       "    comm.send({event_type: 'server_delete', 'id': server_id});\n",
       "    return;\n",
       "  } else if (comm !== null) {\n",
       "    comm.send({event_type: 'delete', 'id': id});\n",
       "  }\n",
       "  delete PyViz.plot_index[id];\n",
       "  if ((window.Bokeh !== undefined) & (id in window.Bokeh.index)) {\n",
       "    var doc = window.Bokeh.index[id].model.document\n",
       "    doc.clear();\n",
       "    const i = window.Bokeh.documents.indexOf(doc);\n",
       "    if (i > -1) {\n",
       "      window.Bokeh.documents.splice(i, 1);\n",
       "    }\n",
       "  }\n",
       "}\n",
       "\n",
       "/**\n",
       " * Handle kernel restart event\n",
       " */\n",
       "function handle_kernel_cleanup(event, handle) {\n",
       "  delete PyViz.comms[\"hv-extension-comm\"];\n",
       "  window.PyViz.plot_index = {}\n",
       "}\n",
       "\n",
       "/**\n",
       " * Handle update_display_data messages\n",
       " */\n",
       "function handle_update_output(event, handle) {\n",
       "  handle_clear_output(event, {cell: {output_area: handle.output_area}})\n",
       "  handle_add_output(event, handle)\n",
       "}\n",
       "\n",
       "function register_renderer(events, OutputArea) {\n",
       "  function append_mime(data, metadata, element) {\n",
       "    // create a DOM node to render to\n",
       "    var toinsert = this.create_output_subarea(\n",
       "    metadata,\n",
       "    CLASS_NAME,\n",
       "    EXEC_MIME_TYPE\n",
       "    );\n",
       "    this.keyboard_manager.register_events(toinsert);\n",
       "    // Render to node\n",
       "    var props = {data: data, metadata: metadata[EXEC_MIME_TYPE]};\n",
       "    render(props, toinsert[0]);\n",
       "    element.append(toinsert);\n",
       "    return toinsert\n",
       "  }\n",
       "\n",
       "  events.on('output_added.OutputArea', handle_add_output);\n",
       "  events.on('output_updated.OutputArea', handle_update_output);\n",
       "  events.on('clear_output.CodeCell', handle_clear_output);\n",
       "  events.on('delete.Cell', handle_clear_output);\n",
       "  events.on('kernel_ready.Kernel', handle_kernel_cleanup);\n",
       "\n",
       "  OutputArea.prototype.register_mime_type(EXEC_MIME_TYPE, append_mime, {\n",
       "    safe: true,\n",
       "    index: 0\n",
       "  });\n",
       "}\n",
       "\n",
       "if (window.Jupyter !== undefined) {\n",
       "  try {\n",
       "    var events = require('base/js/events');\n",
       "    var OutputArea = require('notebook/js/outputarea').OutputArea;\n",
       "    if (OutputArea.prototype.mime_types().indexOf(EXEC_MIME_TYPE) == -1) {\n",
       "      register_renderer(events, OutputArea);\n",
       "    }\n",
       "  } catch(err) {\n",
       "  }\n",
       "}\n"
      ],
      "application/vnd.holoviews_load.v0+json": "\nif ((window.PyViz === undefined) || (window.PyViz instanceof HTMLElement)) {\n  window.PyViz = {comms: {}, comm_status:{}, kernels:{}, receivers: {}, plot_index: []}\n}\n\n\n    function JupyterCommManager() {\n    }\n\n    JupyterCommManager.prototype.register_target = function(plot_id, comm_id, msg_handler) {\n      if (window.comm_manager || ((window.Jupyter !== undefined) && (Jupyter.notebook.kernel != null))) {\n        var comm_manager = window.comm_manager || Jupyter.notebook.kernel.comm_manager;\n        comm_manager.register_target(comm_id, function(comm) {\n          comm.on_msg(msg_handler);\n        });\n      } else if ((plot_id in window.PyViz.kernels) && (window.PyViz.kernels[plot_id])) {\n        window.PyViz.kernels[plot_id].registerCommTarget(comm_id, function(comm) {\n          comm.onMsg = msg_handler;\n        });\n      } else if (typeof google != 'undefined' && google.colab.kernel != null) {\n        google.colab.kernel.comms.registerTarget(comm_id, (comm) => {\n          var messages = comm.messages[Symbol.asyncIterator]();\n          function processIteratorResult(result) {\n            var message = result.value;\n            console.log(message)\n            var content = {data: message.data, comm_id};\n            var buffers = []\n            for (var buffer of message.buffers || []) {\n              buffers.push(new DataView(buffer))\n            }\n            var metadata = message.metadata || {};\n            var msg = {content, buffers, metadata}\n            msg_handler(msg);\n            return messages.next().then(processIteratorResult);\n          }\n          return messages.next().then(processIteratorResult);\n        })\n      }\n    }\n\n    JupyterCommManager.prototype.get_client_comm = function(plot_id, comm_id, msg_handler) {\n      if (comm_id in window.PyViz.comms) {\n        return window.PyViz.comms[comm_id];\n      } else if (window.comm_manager || ((window.Jupyter !== undefined) && (Jupyter.notebook.kernel != null))) {\n        var comm_manager = window.comm_manager || Jupyter.notebook.kernel.comm_manager;\n        var comm = comm_manager.new_comm(comm_id, {}, {}, {}, comm_id);\n        if (msg_handler) {\n          comm.on_msg(msg_handler);\n        }\n      } else if ((plot_id in window.PyViz.kernels) && (window.PyViz.kernels[plot_id])) {\n        var comm = window.PyViz.kernels[plot_id].connectToComm(comm_id);\n        comm.open();\n        if (msg_handler) {\n          comm.onMsg = msg_handler;\n        }\n      } else if (typeof google != 'undefined' && google.colab.kernel != null) {\n        var comm_promise = google.colab.kernel.comms.open(comm_id)\n        comm_promise.then((comm) => {\n          window.PyViz.comms[comm_id] = comm;\n          if (msg_handler) {\n            var messages = comm.messages[Symbol.asyncIterator]();\n            function processIteratorResult(result) {\n              var message = result.value;\n              var content = {data: message.data};\n              var metadata = message.metadata || {comm_id};\n              var msg = {content, metadata}\n              msg_handler(msg);\n              return messages.next().then(processIteratorResult);\n            }\n            return messages.next().then(processIteratorResult);\n          }\n        }) \n        var sendClosure = (data, metadata, buffers, disposeOnDone) => {\n          return comm_promise.then((comm) => {\n            comm.send(data, metadata, buffers, disposeOnDone);\n          });\n        };\n        var comm = {\n          send: sendClosure\n        };\n      }\n      window.PyViz.comms[comm_id] = comm;\n      return comm;\n    }\n    window.PyViz.comm_manager = new JupyterCommManager();\n    \n\n\nvar JS_MIME_TYPE = 'application/javascript';\nvar HTML_MIME_TYPE = 'text/html';\nvar EXEC_MIME_TYPE = 'application/vnd.holoviews_exec.v0+json';\nvar CLASS_NAME = 'output';\n\n/**\n * Render data to the DOM node\n */\nfunction render(props, node) {\n  var div = document.createElement(\"div\");\n  var script = document.createElement(\"script\");\n  node.appendChild(div);\n  node.appendChild(script);\n}\n\n/**\n * Handle when a new output is added\n */\nfunction handle_add_output(event, handle) {\n  var output_area = handle.output_area;\n  var output = handle.output;\n  if ((output.data == undefined) || (!output.data.hasOwnProperty(EXEC_MIME_TYPE))) {\n    return\n  }\n  var id = output.metadata[EXEC_MIME_TYPE][\"id\"];\n  var toinsert = output_area.element.find(\".\" + CLASS_NAME.split(' ')[0]);\n  if (id !== undefined) {\n    var nchildren = toinsert.length;\n    var html_node = toinsert[nchildren-1].children[0];\n    html_node.innerHTML = output.data[HTML_MIME_TYPE];\n    var scripts = [];\n    var nodelist = html_node.querySelectorAll(\"script\");\n    for (var i in nodelist) {\n      if (nodelist.hasOwnProperty(i)) {\n        scripts.push(nodelist[i])\n      }\n    }\n\n    scripts.forEach( function (oldScript) {\n      var newScript = document.createElement(\"script\");\n      var attrs = [];\n      var nodemap = oldScript.attributes;\n      for (var j in nodemap) {\n        if (nodemap.hasOwnProperty(j)) {\n          attrs.push(nodemap[j])\n        }\n      }\n      attrs.forEach(function(attr) { newScript.setAttribute(attr.name, attr.value) });\n      newScript.appendChild(document.createTextNode(oldScript.innerHTML));\n      oldScript.parentNode.replaceChild(newScript, oldScript);\n    });\n    if (JS_MIME_TYPE in output.data) {\n      toinsert[nchildren-1].children[1].textContent = output.data[JS_MIME_TYPE];\n    }\n    output_area._hv_plot_id = id;\n    if ((window.Bokeh !== undefined) && (id in Bokeh.index)) {\n      window.PyViz.plot_index[id] = Bokeh.index[id];\n    } else {\n      window.PyViz.plot_index[id] = null;\n    }\n  } else if (output.metadata[EXEC_MIME_TYPE][\"server_id\"] !== undefined) {\n    var bk_div = document.createElement(\"div\");\n    bk_div.innerHTML = output.data[HTML_MIME_TYPE];\n    var script_attrs = bk_div.children[0].attributes;\n    for (var i = 0; i < script_attrs.length; i++) {\n      toinsert[toinsert.length - 1].childNodes[1].setAttribute(script_attrs[i].name, script_attrs[i].value);\n    }\n    // store reference to server id on output_area\n    output_area._bokeh_server_id = output.metadata[EXEC_MIME_TYPE][\"server_id\"];\n  }\n}\n\n/**\n * Handle when an output is cleared or removed\n */\nfunction handle_clear_output(event, handle) {\n  var id = handle.cell.output_area._hv_plot_id;\n  var server_id = handle.cell.output_area._bokeh_server_id;\n  if (((id === undefined) || !(id in PyViz.plot_index)) && (server_id !== undefined)) { return; }\n  var comm = window.PyViz.comm_manager.get_client_comm(\"hv-extension-comm\", \"hv-extension-comm\", function () {});\n  if (server_id !== null) {\n    comm.send({event_type: 'server_delete', 'id': server_id});\n    return;\n  } else if (comm !== null) {\n    comm.send({event_type: 'delete', 'id': id});\n  }\n  delete PyViz.plot_index[id];\n  if ((window.Bokeh !== undefined) & (id in window.Bokeh.index)) {\n    var doc = window.Bokeh.index[id].model.document\n    doc.clear();\n    const i = window.Bokeh.documents.indexOf(doc);\n    if (i > -1) {\n      window.Bokeh.documents.splice(i, 1);\n    }\n  }\n}\n\n/**\n * Handle kernel restart event\n */\nfunction handle_kernel_cleanup(event, handle) {\n  delete PyViz.comms[\"hv-extension-comm\"];\n  window.PyViz.plot_index = {}\n}\n\n/**\n * Handle update_display_data messages\n */\nfunction handle_update_output(event, handle) {\n  handle_clear_output(event, {cell: {output_area: handle.output_area}})\n  handle_add_output(event, handle)\n}\n\nfunction register_renderer(events, OutputArea) {\n  function append_mime(data, metadata, element) {\n    // create a DOM node to render to\n    var toinsert = this.create_output_subarea(\n    metadata,\n    CLASS_NAME,\n    EXEC_MIME_TYPE\n    );\n    this.keyboard_manager.register_events(toinsert);\n    // Render to node\n    var props = {data: data, metadata: metadata[EXEC_MIME_TYPE]};\n    render(props, toinsert[0]);\n    element.append(toinsert);\n    return toinsert\n  }\n\n  events.on('output_added.OutputArea', handle_add_output);\n  events.on('output_updated.OutputArea', handle_update_output);\n  events.on('clear_output.CodeCell', handle_clear_output);\n  events.on('delete.Cell', handle_clear_output);\n  events.on('kernel_ready.Kernel', handle_kernel_cleanup);\n\n  OutputArea.prototype.register_mime_type(EXEC_MIME_TYPE, append_mime, {\n    safe: true,\n    index: 0\n  });\n}\n\nif (window.Jupyter !== undefined) {\n  try {\n    var events = require('base/js/events');\n    var OutputArea = require('notebook/js/outputarea').OutputArea;\n    if (OutputArea.prototype.mime_types().indexOf(EXEC_MIME_TYPE) == -1) {\n      register_renderer(events, OutputArea);\n    }\n  } catch(err) {\n  }\n}\n"
     },
     "metadata": {},
     "output_type": "display_data"
    },
    {
     "data": {
      "application/vnd.holoviews_exec.v0+json": "",
      "text/html": [
       "<div id='p1002'>\n",
       "  <div id=\"e2c3ecf8-4503-48bf-a2c0-ed8b2863ea66\" data-root-id=\"p1002\" style=\"display: contents;\"></div>\n",
       "</div>\n",
       "<script type=\"application/javascript\">(function(root) {\n",
       "  var docs_json = {\"210d3604-afa6-435c-b109-4d858cc4f3bd\":{\"version\":\"3.6.0\",\"title\":\"Bokeh Application\",\"roots\":[{\"type\":\"object\",\"name\":\"panel.models.browser.BrowserInfo\",\"id\":\"p1002\"},{\"type\":\"object\",\"name\":\"panel.models.comm_manager.CommManager\",\"id\":\"p1003\",\"attributes\":{\"plot_id\":\"p1002\",\"comm_id\":\"c8ca4d3728a44d6aa6f26aad91717213\",\"client_comm_id\":\"a7f5bc7467044897b789a161bf65a1e8\"}}],\"defs\":[{\"type\":\"model\",\"name\":\"ReactiveHTML1\"},{\"type\":\"model\",\"name\":\"FlexBox1\",\"properties\":[{\"name\":\"align_content\",\"kind\":\"Any\",\"default\":\"flex-start\"},{\"name\":\"align_items\",\"kind\":\"Any\",\"default\":\"flex-start\"},{\"name\":\"flex_direction\",\"kind\":\"Any\",\"default\":\"row\"},{\"name\":\"flex_wrap\",\"kind\":\"Any\",\"default\":\"wrap\"},{\"name\":\"gap\",\"kind\":\"Any\",\"default\":\"\"},{\"name\":\"justify_content\",\"kind\":\"Any\",\"default\":\"flex-start\"}]},{\"type\":\"model\",\"name\":\"FloatPanel1\",\"properties\":[{\"name\":\"config\",\"kind\":\"Any\",\"default\":{\"type\":\"map\"}},{\"name\":\"contained\",\"kind\":\"Any\",\"default\":true},{\"name\":\"position\",\"kind\":\"Any\",\"default\":\"right-top\"},{\"name\":\"offsetx\",\"kind\":\"Any\",\"default\":null},{\"name\":\"offsety\",\"kind\":\"Any\",\"default\":null},{\"name\":\"theme\",\"kind\":\"Any\",\"default\":\"primary\"},{\"name\":\"status\",\"kind\":\"Any\",\"default\":\"normalized\"}]},{\"type\":\"model\",\"name\":\"GridStack1\",\"properties\":[{\"name\":\"mode\",\"kind\":\"Any\",\"default\":\"warn\"},{\"name\":\"ncols\",\"kind\":\"Any\",\"default\":null},{\"name\":\"nrows\",\"kind\":\"Any\",\"default\":null},{\"name\":\"allow_resize\",\"kind\":\"Any\",\"default\":true},{\"name\":\"allow_drag\",\"kind\":\"Any\",\"default\":true},{\"name\":\"state\",\"kind\":\"Any\",\"default\":[]}]},{\"type\":\"model\",\"name\":\"drag1\",\"properties\":[{\"name\":\"slider_width\",\"kind\":\"Any\",\"default\":5},{\"name\":\"slider_color\",\"kind\":\"Any\",\"default\":\"black\"},{\"name\":\"value\",\"kind\":\"Any\",\"default\":50}]},{\"type\":\"model\",\"name\":\"click1\",\"properties\":[{\"name\":\"terminal_output\",\"kind\":\"Any\",\"default\":\"\"},{\"name\":\"debug_name\",\"kind\":\"Any\",\"default\":\"\"},{\"name\":\"clears\",\"kind\":\"Any\",\"default\":0}]},{\"type\":\"model\",\"name\":\"FastWrapper1\",\"properties\":[{\"name\":\"object\",\"kind\":\"Any\",\"default\":null},{\"name\":\"style\",\"kind\":\"Any\",\"default\":null}]},{\"type\":\"model\",\"name\":\"NotificationAreaBase1\",\"properties\":[{\"name\":\"js_events\",\"kind\":\"Any\",\"default\":{\"type\":\"map\"}},{\"name\":\"position\",\"kind\":\"Any\",\"default\":\"bottom-right\"},{\"name\":\"_clear\",\"kind\":\"Any\",\"default\":0}]},{\"type\":\"model\",\"name\":\"NotificationArea1\",\"properties\":[{\"name\":\"js_events\",\"kind\":\"Any\",\"default\":{\"type\":\"map\"}},{\"name\":\"notifications\",\"kind\":\"Any\",\"default\":[]},{\"name\":\"position\",\"kind\":\"Any\",\"default\":\"bottom-right\"},{\"name\":\"_clear\",\"kind\":\"Any\",\"default\":0},{\"name\":\"types\",\"kind\":\"Any\",\"default\":[{\"type\":\"map\",\"entries\":[[\"type\",\"warning\"],[\"background\",\"#ffc107\"],[\"icon\",{\"type\":\"map\",\"entries\":[[\"className\",\"fas fa-exclamation-triangle\"],[\"tagName\",\"i\"],[\"color\",\"white\"]]}]]},{\"type\":\"map\",\"entries\":[[\"type\",\"info\"],[\"background\",\"#007bff\"],[\"icon\",{\"type\":\"map\",\"entries\":[[\"className\",\"fas fa-info-circle\"],[\"tagName\",\"i\"],[\"color\",\"white\"]]}]]}]}]},{\"type\":\"model\",\"name\":\"Notification\",\"properties\":[{\"name\":\"background\",\"kind\":\"Any\",\"default\":null},{\"name\":\"duration\",\"kind\":\"Any\",\"default\":3000},{\"name\":\"icon\",\"kind\":\"Any\",\"default\":null},{\"name\":\"message\",\"kind\":\"Any\",\"default\":\"\"},{\"name\":\"notification_type\",\"kind\":\"Any\",\"default\":null},{\"name\":\"_destroyed\",\"kind\":\"Any\",\"default\":false}]},{\"type\":\"model\",\"name\":\"TemplateActions1\",\"properties\":[{\"name\":\"open_modal\",\"kind\":\"Any\",\"default\":0},{\"name\":\"close_modal\",\"kind\":\"Any\",\"default\":0}]},{\"type\":\"model\",\"name\":\"BootstrapTemplateActions1\",\"properties\":[{\"name\":\"open_modal\",\"kind\":\"Any\",\"default\":0},{\"name\":\"close_modal\",\"kind\":\"Any\",\"default\":0}]},{\"type\":\"model\",\"name\":\"TemplateEditor1\",\"properties\":[{\"name\":\"layout\",\"kind\":\"Any\",\"default\":[]}]},{\"type\":\"model\",\"name\":\"MaterialTemplateActions1\",\"properties\":[{\"name\":\"open_modal\",\"kind\":\"Any\",\"default\":0},{\"name\":\"close_modal\",\"kind\":\"Any\",\"default\":0}]},{\"type\":\"model\",\"name\":\"ReactiveESM1\"},{\"type\":\"model\",\"name\":\"JSComponent1\"},{\"type\":\"model\",\"name\":\"ReactComponent1\"},{\"type\":\"model\",\"name\":\"AnyWidgetComponent1\"},{\"type\":\"model\",\"name\":\"request_value1\",\"properties\":[{\"name\":\"fill\",\"kind\":\"Any\",\"default\":\"none\"},{\"name\":\"_synced\",\"kind\":\"Any\",\"default\":null},{\"name\":\"_request_sync\",\"kind\":\"Any\",\"default\":0}]}]}};\n",
       "  var render_items = [{\"docid\":\"210d3604-afa6-435c-b109-4d858cc4f3bd\",\"roots\":{\"p1002\":\"e2c3ecf8-4503-48bf-a2c0-ed8b2863ea66\"},\"root_ids\":[\"p1002\"]}];\n",
       "  var docs = Object.values(docs_json)\n",
       "  if (!docs) {\n",
       "    return\n",
       "  }\n",
       "  const py_version = docs[0].version.replace('rc', '-rc.').replace('.dev', '-dev.')\n",
       "  async function embed_document(root) {\n",
       "    var Bokeh = get_bokeh(root)\n",
       "    await Bokeh.embed.embed_items_notebook(docs_json, render_items);\n",
       "    for (const render_item of render_items) {\n",
       "      for (const root_id of render_item.root_ids) {\n",
       "\tconst id_el = document.getElementById(root_id)\n",
       "\tif (id_el.children.length && id_el.children[0].hasAttribute('data-root-id')) {\n",
       "\t  const root_el = id_el.children[0]\n",
       "\t  root_el.id = root_el.id + '-rendered'\n",
       "\t  for (const child of root_el.children) {\n",
       "            // Ensure JupyterLab does not capture keyboard shortcuts\n",
       "            // see: https://jupyterlab.readthedocs.io/en/4.1.x/extension/notebook.html#keyboard-interaction-model\n",
       "\t    child.setAttribute('data-lm-suppress-shortcuts', 'true')\n",
       "\t  }\n",
       "\t}\n",
       "      }\n",
       "    }\n",
       "  }\n",
       "  function get_bokeh(root) {\n",
       "    if (root.Bokeh === undefined) {\n",
       "      return null\n",
       "    } else if (root.Bokeh.version !== py_version) {\n",
       "      if (root.Bokeh.versions === undefined || !root.Bokeh.versions.has(py_version)) {\n",
       "\treturn null\n",
       "      }\n",
       "      return root.Bokeh.versions.get(py_version);\n",
       "    } else if (root.Bokeh.version === py_version) {\n",
       "      return root.Bokeh\n",
       "    }\n",
       "    return null\n",
       "  }\n",
       "  function is_loaded(root) {\n",
       "    var Bokeh = get_bokeh(root)\n",
       "    return (Bokeh != null && Bokeh.Panel !== undefined)\n",
       "  }\n",
       "  if (is_loaded(root)) {\n",
       "    embed_document(root);\n",
       "  } else {\n",
       "    var attempts = 0;\n",
       "    var timer = setInterval(function(root) {\n",
       "      if (is_loaded(root)) {\n",
       "        clearInterval(timer);\n",
       "        embed_document(root);\n",
       "      } else if (document.readyState == \"complete\") {\n",
       "        attempts++;\n",
       "        if (attempts > 200) {\n",
       "          clearInterval(timer);\n",
       "\t  var Bokeh = get_bokeh(root)\n",
       "\t  if (Bokeh == null || Bokeh.Panel == null) {\n",
       "            console.warn(\"Panel: ERROR: Unable to run Panel code because Bokeh or Panel library is missing\");\n",
       "\t  } else {\n",
       "\t    console.warn(\"Panel: WARNING: Attempting to render but not all required libraries could be resolved.\")\n",
       "\t    embed_document(root)\n",
       "\t  }\n",
       "        }\n",
       "      }\n",
       "    }, 25, root)\n",
       "  }\n",
       "})(window);</script>"
      ]
     },
     "metadata": {
      "application/vnd.holoviews_exec.v0+json": {
       "id": "p1002"
      }
     },
     "output_type": "display_data"
    }
   ],
   "source": [
    "from datetime import datetime, timezone\n",
    "from pathlib import Path\n",
    "\n",
    "import hvplot.polars\n",
    "import polars as pl"
   ]
  },
  {
   "cell_type": "code",
   "execution_count": 2,
   "id": "f046bbbb-0787-44a8-abbf-2b394ec5e92d",
   "metadata": {},
   "outputs": [],
   "source": [
    "RETURN_LIMIT = 28"
   ]
  },
  {
   "cell_type": "markdown",
   "id": "303d6ace-dd8d-4097-8f66-38aea8875963",
   "metadata": {},
   "source": [
    "### Paths and tables\n",
    "\n",
    "Defines paths and load tables showcasing some data points."
   ]
  },
  {
   "cell_type": "code",
   "execution_count": 3,
   "id": "65549e03-d126-4042-9e5e-68f7a9e4bdd4",
   "metadata": {},
   "outputs": [],
   "source": [
    "ROOT_PATH = Path(__name__).absolute().parent.parent\n",
    "DATA_PATH = ROOT_PATH / \"data\"\n",
    "\n",
    "TABLE_PATH = DATA_PATH / \"storage\" / \"silver\""
   ]
  },
  {
   "cell_type": "markdown",
   "id": "2aa64b3a-609d-43d6-8414-d15b68c9189e",
   "metadata": {},
   "source": [
    "The available datasets are small, so we can load them into memory with the `read_parquet` function. If circumstances were different, we would use `LazyFrame` with lazy evaluation (with better optimizations for operations down the road).\n",
    "\n",
    "Data is loaded from the \"silver\" layer or the layer that has clean data ready for the analysis. "
   ]
  },
  {
   "cell_type": "markdown",
   "id": "64f7bce4-7e2f-4f92-b5af-08ffa6924495",
   "metadata": {},
   "source": [
    "### Books table"
   ]
  },
  {
   "cell_type": "code",
   "execution_count": 4,
   "id": "bddf7142-d04b-46d8-998c-d75beb5952c6",
   "metadata": {},
   "outputs": [
    {
     "data": {
      "text/html": [
       "<div><style>\n",
       ".dataframe > thead > tr,\n",
       ".dataframe > tbody > tr {\n",
       "  text-align: right;\n",
       "  white-space: pre-wrap;\n",
       "}\n",
       "</style>\n",
       "<small>shape: (1, 9)</small><table border=\"1\" class=\"dataframe\"><thead><tr><th>id</th><th>title</th><th>authors</th><th>publisher</th><th>published_date</th><th>categories</th><th>price</th><th>pages</th><th>published_year</th></tr><tr><td>str</td><td>str</td><td>list[str]</td><td>str</td><td>str</td><td>list[str]</td><td>f32</td><td>i32</td><td>i32</td></tr></thead><tbody><tr><td>&quot;_C3JCwAAQBAJ&quot;</td><td>&quot;Engines Of Anxiety&quot;</td><td>[&quot;Wendy Nelson Espeland&quot;]</td><td>&quot;Russell Sage Foundation&quot;</td><td>&quot;2016-05-09&quot;</td><td>[&quot;Social Science&quot;]</td><td>39.0</td><td>382</td><td>2016</td></tr></tbody></table></div>"
      ],
      "text/plain": [
       "shape: (1, 9)\n",
       "┌─────────────┬────────────┬────────────┬────────────┬───┬────────────┬───────┬───────┬────────────┐\n",
       "│ id          ┆ title      ┆ authors    ┆ publisher  ┆ … ┆ categories ┆ price ┆ pages ┆ published_ │\n",
       "│ ---         ┆ ---        ┆ ---        ┆ ---        ┆   ┆ ---        ┆ ---   ┆ ---   ┆ year       │\n",
       "│ str         ┆ str        ┆ list[str]  ┆ str        ┆   ┆ list[str]  ┆ f32   ┆ i32   ┆ ---        │\n",
       "│             ┆            ┆            ┆            ┆   ┆            ┆       ┆       ┆ i32        │\n",
       "╞═════════════╪════════════╪════════════╪════════════╪═══╪════════════╪═══════╪═══════╪════════════╡\n",
       "│ _C3JCwAAQBA ┆ Engines Of ┆ [\"Wendy    ┆ Russell    ┆ … ┆ [\"Social   ┆ 39.0  ┆ 382   ┆ 2016       │\n",
       "│ J           ┆ Anxiety    ┆ Nelson     ┆ Sage       ┆   ┆ Science\"]  ┆       ┆       ┆            │\n",
       "│             ┆            ┆ Espeland\"] ┆ Foundation ┆   ┆            ┆       ┆       ┆            │\n",
       "└─────────────┴────────────┴────────────┴────────────┴───┴────────────┴───────┴───────┴────────────┘"
      ]
     },
     "execution_count": 4,
     "metadata": {},
     "output_type": "execute_result"
    }
   ],
   "source": [
    "# books\n",
    "\n",
    "books_path = TABLE_PATH / \"books.parquet\"\n",
    "books_df = pl.read_parquet(source=books_path)\n",
    "\n",
    "books_df.head(1)"
   ]
  },
  {
   "cell_type": "code",
   "execution_count": 5,
   "id": "e7f0eaac-dd7a-47e1-885b-c79e05772b7f",
   "metadata": {},
   "outputs": [
    {
     "name": "stdout",
     "output_type": "stream",
     "text": [
      "Nulls in books columns:\n",
      "\n",
      "{'id': 0, 'title': 0, 'authors': 73, 'publisher': 146, 'published_date': 2, 'categories': 51, 'price': 2, 'pages': 0, 'published_year': 2}\n"
     ]
    }
   ],
   "source": [
    "print(\"Nulls in books columns:\\n\")\n",
    "\n",
    "book_nulls = books_df.select(pl.all().is_null().sum()).to_dicts()[0]\n",
    "print(book_nulls)"
   ]
  },
  {
   "cell_type": "markdown",
   "id": "c6cf2455-44c0-416f-a160-2647cc64d01d",
   "metadata": {},
   "source": [
    "### Customers table"
   ]
  },
  {
   "cell_type": "code",
   "execution_count": 6,
   "id": "c552dfee-452d-4f5c-acd0-b38f7621cf82",
   "metadata": {},
   "outputs": [
    {
     "data": {
      "text/html": [
       "<div><style>\n",
       ".dataframe > thead > tr,\n",
       ".dataframe > tbody > tr {\n",
       "  text-align: right;\n",
       "  white-space: pre-wrap;\n",
       "}\n",
       "</style>\n",
       "<small>shape: (1, 10)</small><table border=\"1\" class=\"dataframe\"><thead><tr><th>id</th><th>name</th><th>street_address</th><th>city</th><th>state</th><th>zipcode</th><th>birth_date</th><th>gender</th><th>education</th><th>occupation</th></tr><tr><td>str</td><td>str</td><td>str</td><td>str</td><td>str</td><td>i32</td><td>date</td><td>str</td><td>str</td><td>str</td></tr></thead><tbody><tr><td>&quot;564a19483a1b1379899f9d89e4b286…</td><td>&quot;Carol Stanfill&quot;</td><td>&quot;2926 Ne 9th Ave&quot;</td><td>&quot;Portland&quot;</td><td>&quot;Oregon&quot;</td><td>97212</td><td>1960-04-22</td><td>&quot;female&quot;</td><td>&quot;College&quot;</td><td>&quot;Others&quot;</td></tr></tbody></table></div>"
      ],
      "text/plain": [
       "shape: (1, 10)\n",
       "┌────────────┬────────────┬────────────┬──────────┬───┬───────────┬────────┬───────────┬───────────┐\n",
       "│ id         ┆ name       ┆ street_add ┆ city     ┆ … ┆ birth_dat ┆ gender ┆ education ┆ occupatio │\n",
       "│ ---        ┆ ---        ┆ ress       ┆ ---      ┆   ┆ e         ┆ ---    ┆ ---       ┆ n         │\n",
       "│ str        ┆ str        ┆ ---        ┆ str      ┆   ┆ ---       ┆ str    ┆ str       ┆ ---       │\n",
       "│            ┆            ┆ str        ┆          ┆   ┆ date      ┆        ┆           ┆ str       │\n",
       "╞════════════╪════════════╪════════════╪══════════╪═══╪═══════════╪════════╪═══════════╪═══════════╡\n",
       "│ 564a19483a ┆ Carol      ┆ 2926 Ne    ┆ Portland ┆ … ┆ 1960-04-2 ┆ female ┆ College   ┆ Others    │\n",
       "│ 1b1379899f ┆ Stanfill   ┆ 9th Ave    ┆          ┆   ┆ 2         ┆        ┆           ┆           │\n",
       "│ 9d89e4b286 ┆            ┆            ┆          ┆   ┆           ┆        ┆           ┆           │\n",
       "│ …          ┆            ┆            ┆          ┆   ┆           ┆        ┆           ┆           │\n",
       "└────────────┴────────────┴────────────┴──────────┴───┴───────────┴────────┴───────────┴───────────┘"
      ]
     },
     "execution_count": 6,
     "metadata": {},
     "output_type": "execute_result"
    }
   ],
   "source": [
    "# customers\n",
    "\n",
    "customers_path = TABLE_PATH / \"customers.parquet\"\n",
    "customers_df = pl.read_parquet(source=customers_path)\n",
    "\n",
    "customers_df.head(1)"
   ]
  },
  {
   "cell_type": "code",
   "execution_count": 7,
   "id": "31be4cb3-f159-4b35-8d9f-068a8eb8bd52",
   "metadata": {},
   "outputs": [
    {
     "name": "stdout",
     "output_type": "stream",
     "text": [
      "Number of customers: 2000\n"
     ]
    }
   ],
   "source": [
    "print(f\"Number of customers: {len(customers_df)}\")"
   ]
  },
  {
   "cell_type": "code",
   "execution_count": 8,
   "id": "c4540b86-89cf-4812-b0bf-6126f5957ca4",
   "metadata": {},
   "outputs": [
    {
     "name": "stdout",
     "output_type": "stream",
     "text": [
      "Nulls in customer columns:\n",
      "\n",
      "{'id': 0, 'name': 0, 'street_address': 0, 'city': 94, 'state': 102, 'zipcode': 1, 'birth_date': 107, 'gender': 101, 'education': 104, 'occupation': 107}\n"
     ]
    }
   ],
   "source": [
    "print(\"Nulls in customer columns:\\n\")\n",
    "\n",
    "customer_nulls = customers_df.select(pl.all().is_null().sum()).to_dicts()[0]\n",
    "print(customer_nulls)"
   ]
  },
  {
   "cell_type": "markdown",
   "id": "db103801-d5bc-47ae-941f-166a00ad7c8a",
   "metadata": {},
   "source": [
    "10% of the customers have null values for some of their attributes. \n",
    "\n",
    "One way to solve the issue is to drop rows with null values and the other is to try and mitigate the problem by replacing null values with median values. A good candidate is the `age` column. Other is `gender` where we can guess the gender but that's error-prone."
   ]
  },
  {
   "cell_type": "code",
   "execution_count": 9,
   "id": "47f01c9e-7982-4b09-bcee-af0884ee93a5",
   "metadata": {},
   "outputs": [],
   "source": [
    "# Fill null values\n",
    "books_df = books_df.with_columns(\n",
    "    pl.col(\"price\").fill_null(pl.col(\"price\").median()).alias(\"price\")\n",
    ")"
   ]
  },
  {
   "cell_type": "markdown",
   "id": "21ab285a-0fc3-4994-8a39-d7900a52a658",
   "metadata": {},
   "source": [
    "### Libraries table"
   ]
  },
  {
   "cell_type": "code",
   "execution_count": 10,
   "id": "56aca292-7aef-4305-a1a9-b38a3ba42962",
   "metadata": {},
   "outputs": [
    {
     "data": {
      "text/html": [
       "<div><style>\n",
       ".dataframe > thead > tr,\n",
       ".dataframe > tbody > tr {\n",
       "  text-align: right;\n",
       "  white-space: pre-wrap;\n",
       "}\n",
       "</style>\n",
       "<small>shape: (1, 6)</small><table border=\"1\" class=\"dataframe\"><thead><tr><th>id</th><th>name</th><th>street_address</th><th>city</th><th>region</th><th>postal_code</th></tr><tr><td>str</td><td>str</td><td>str</td><td>str</td><td>str</td><td>str</td></tr></thead><tbody><tr><td>&quot;227-222@5xc-jww-btv&quot;</td><td>&quot;Multnomah County Library Hills…</td><td>&quot;1525 Sw Sunset Blvd&quot;</td><td>&quot;Portland&quot;</td><td>&quot;OR&quot;</td><td>&quot;97239&quot;</td></tr></tbody></table></div>"
      ],
      "text/plain": [
       "shape: (1, 6)\n",
       "┌─────────────────────┬──────────────────┬────────────────┬──────────┬────────┬─────────────┐\n",
       "│ id                  ┆ name             ┆ street_address ┆ city     ┆ region ┆ postal_code │\n",
       "│ ---                 ┆ ---              ┆ ---            ┆ ---      ┆ ---    ┆ ---         │\n",
       "│ str                 ┆ str              ┆ str            ┆ str      ┆ str    ┆ str         │\n",
       "╞═════════════════════╪══════════════════╪════════════════╪══════════╪════════╪═════════════╡\n",
       "│ 227-222@5xc-jww-btv ┆ Multnomah County ┆ 1525 Sw Sunset ┆ Portland ┆ OR     ┆ 97239       │\n",
       "│                     ┆ Library Hills…   ┆ Blvd           ┆          ┆        ┆             │\n",
       "└─────────────────────┴──────────────────┴────────────────┴──────────┴────────┴─────────────┘"
      ]
     },
     "execution_count": 10,
     "metadata": {},
     "output_type": "execute_result"
    }
   ],
   "source": [
    "# libraries\n",
    "\n",
    "libraries_path = TABLE_PATH / \"libraries.parquet\"\n",
    "libraries_df = pl.read_parquet(source=libraries_path)\n",
    "\n",
    "libraries_df.head(1)"
   ]
  },
  {
   "cell_type": "markdown",
   "id": "e2eecc0c-3982-4987-a493-a987b08852fc",
   "metadata": {},
   "source": [
    "### Checkouts table"
   ]
  },
  {
   "cell_type": "code",
   "execution_count": 11,
   "id": "68afafff-5372-47d1-a3f0-eb091bd07a22",
   "metadata": {},
   "outputs": [
    {
     "data": {
      "text/html": [
       "<div><style>\n",
       ".dataframe > thead > tr,\n",
       ".dataframe > tbody > tr {\n",
       "  text-align: right;\n",
       "  white-space: pre-wrap;\n",
       "}\n",
       "</style>\n",
       "<small>shape: (1, 5)</small><table border=\"1\" class=\"dataframe\"><thead><tr><th>id</th><th>patron_id</th><th>library_id</th><th>date_checkout</th><th>date_returned</th></tr><tr><td>str</td><td>str</td><td>str</td><td>date</td><td>date</td></tr></thead><tbody><tr><td>&quot;1Mc0AQAAMAAJ&quot;</td><td>&quot;f073be688f2016dc22f318b7113e06…</td><td>&quot;226-222@5xc-jxj-7yv&quot;</td><td>2018-05-09</td><td>2018-05-24</td></tr></tbody></table></div>"
      ],
      "text/plain": [
       "shape: (1, 5)\n",
       "┌──────────────┬─────────────────────────────┬─────────────────────┬───────────────┬───────────────┐\n",
       "│ id           ┆ patron_id                   ┆ library_id          ┆ date_checkout ┆ date_returned │\n",
       "│ ---          ┆ ---                         ┆ ---                 ┆ ---           ┆ ---           │\n",
       "│ str          ┆ str                         ┆ str                 ┆ date          ┆ date          │\n",
       "╞══════════════╪═════════════════════════════╪═════════════════════╪═══════════════╪═══════════════╡\n",
       "│ 1Mc0AQAAMAAJ ┆ f073be688f2016dc22f318b7113 ┆ 226-222@5xc-jxj-7yv ┆ 2018-05-09    ┆ 2018-05-24    │\n",
       "│              ┆ e06…                        ┆                     ┆               ┆               │\n",
       "└──────────────┴─────────────────────────────┴─────────────────────┴───────────────┴───────────────┘"
      ]
     },
     "execution_count": 11,
     "metadata": {},
     "output_type": "execute_result"
    }
   ],
   "source": [
    "# checkouts\n",
    "\n",
    "checkouts_path = TABLE_PATH / \"checkouts.parquet\"\n",
    "checkouts_df = pl.read_parquet(source=checkouts_path)\n",
    "\n",
    "checkouts_df.head(1)"
   ]
  },
  {
   "cell_type": "markdown",
   "id": "bf0c3df1-2fb1-48bf-a06f-011b8e9ffee5",
   "metadata": {},
   "source": [
    "### Taking a look at the tables\n",
    "\n",
    "Looking at the tables, there are candidates for some additional columns that may help with the analysis and are potential candidates for features. \n",
    "For example, the `customers` table has the field `birth_date`. Creating age categories (Young, Adults, Middle-Aged Adults, and Old) can give additional insight into who rents books.\n",
    "\n",
    "Also, the `checkouts` table has columns `date_checkout` and `date_returned,` which is going to be our label."
   ]
  },
  {
   "cell_type": "code",
   "execution_count": 12,
   "id": "d0dc1c20-cfa3-4146-84ad-ee01c2531a3d",
   "metadata": {},
   "outputs": [],
   "source": [
    "customers_df = customers_df.with_columns(\n",
    "    ((datetime.now(timezone.utc).date() - pl.col(\"birth_date\")).dt.total_days() / 365)\n",
    "    .floor()\n",
    "    .cast(pl.Int32)\n",
    "    .alias(\"age\")\n",
    ")"
   ]
  },
  {
   "cell_type": "code",
   "execution_count": 13,
   "id": "fb8d828a-ad89-432e-8255-ca63a76337df",
   "metadata": {},
   "outputs": [],
   "source": [
    "customers_df = customers_df.with_columns(\n",
    "    pl.when((3 <= pl.col(\"age\")) & (pl.col(\"age\") <= 19))\n",
    "    .then(pl.lit(\"Young\"))\n",
    "    .when((20 <= pl.col(\"age\")) & (pl.col(\"age\") <= 39))\n",
    "    .then(pl.lit(\"Adult\"))\n",
    "    .when((40 <= pl.col(\"age\")) & (pl.col(\"age\") <= 59))\n",
    "    .then(pl.lit(\"Middle-Age\"))\n",
    "    .when((60 <= pl.col(\"age\")) & (pl.col(\"age\") <= 99))\n",
    "    .then(pl.lit(\"Old\"))\n",
    "    .otherwise(pl.lit(\"Undefined\"))\n",
    "    .alias(\"age_category\")\n",
    ")"
   ]
  },
  {
   "cell_type": "code",
   "execution_count": 14,
   "id": "22f6585e-78f8-4ca2-8485-0c708b006764",
   "metadata": {},
   "outputs": [
    {
     "data": {
      "text/html": [
       "<div><style>\n",
       ".dataframe > thead > tr,\n",
       ".dataframe > tbody > tr {\n",
       "  text-align: right;\n",
       "  white-space: pre-wrap;\n",
       "}\n",
       "</style>\n",
       "<small>shape: (3, 2)</small><table border=\"1\" class=\"dataframe\"><thead><tr><th>age</th><th>age_category</th></tr><tr><td>i32</td><td>str</td></tr></thead><tbody><tr><td>64</td><td>&quot;Old&quot;</td></tr><tr><td>71</td><td>&quot;Old&quot;</td></tr><tr><td>19</td><td>&quot;Young&quot;</td></tr></tbody></table></div>"
      ],
      "text/plain": [
       "shape: (3, 2)\n",
       "┌─────┬──────────────┐\n",
       "│ age ┆ age_category │\n",
       "│ --- ┆ ---          │\n",
       "│ i32 ┆ str          │\n",
       "╞═════╪══════════════╡\n",
       "│ 64  ┆ Old          │\n",
       "│ 71  ┆ Old          │\n",
       "│ 19  ┆ Young        │\n",
       "└─────┴──────────────┘"
      ]
     },
     "execution_count": 14,
     "metadata": {},
     "output_type": "execute_result"
    }
   ],
   "source": [
    "customers_df.head(3)[\"age\", \"age_category\"]"
   ]
  },
  {
   "cell_type": "code",
   "execution_count": 15,
   "id": "d538de58-f980-4c9d-b030-1a9efcd5cd4f",
   "metadata": {},
   "outputs": [],
   "source": [
    "# Fill null values\n",
    "customers_df = customers_df.with_columns(\n",
    "    pl.col(\"age\").fill_null(pl.col(\"age\").median()).alias(\"age\")\n",
    ")"
   ]
  },
  {
   "cell_type": "markdown",
   "id": "61f5ed13-64d9-40cb-8536-3699c3ab1b51",
   "metadata": {},
   "source": [
    "### Label calculation\n",
    "\n",
    "Labels can be calculated by subsctracting `date_returned` and `date_checkout`. Limit for the book return is 28 days. \n",
    "\n",
    "Return date has to be higher than checkout date. If return date is `None` that means customer didn't returned book yet."
   ]
  },
  {
   "cell_type": "code",
   "execution_count": 16,
   "id": "239ecad4-f53a-4e99-996c-9061bfba77b4",
   "metadata": {},
   "outputs": [],
   "source": [
    "checkouts_df = checkouts_df.with_columns(\n",
    "    pl.col(\"date_returned\")\n",
    "    .sub(pl.col(\"date_checkout\"))\n",
    "    .dt.total_days()\n",
    "    .cast(pl.Int32)\n",
    "    .alias(\"days_holding_book\")\n",
    ")\n",
    "\n",
    "checkouts_df = checkouts_df.with_columns(\n",
    "    pl.when(\n",
    "        (pl.col(\"days_holding_book\") <= RETURN_LIMIT)\n",
    "        & (pl.col(\"days_holding_book\") >= 0)\n",
    "    )\n",
    "    .then(pl.lit(1))\n",
    "    .when(pl.col(\"days_holding_book\") > RETURN_LIMIT)\n",
    "    .then(pl.lit(0))\n",
    "    .when(pl.col(\"date_returned\").is_null())\n",
    "    .then(pl.lit(0))\n",
    "    .when(pl.col(\"days_holding_book\") < 0)\n",
    "    .then(pl.lit(-1))\n",
    "    .otherwise(pl.lit(-1))\n",
    "    .alias(\"book_returned\")\n",
    ")"
   ]
  },
  {
   "cell_type": "markdown",
   "id": "c79c3620-28d6-4379-a938-06fa99aa776f",
   "metadata": {},
   "source": [
    "If there are values that are negative values in column `days_holding_book` number `-1` marks them as unvalid. "
   ]
  },
  {
   "cell_type": "code",
   "execution_count": 17,
   "id": "e03b8b5b-ec12-470a-886c-ec60a2cd606c",
   "metadata": {},
   "outputs": [
    {
     "data": {
      "text/html": [
       "<div><style>\n",
       ".dataframe > thead > tr,\n",
       ".dataframe > tbody > tr {\n",
       "  text-align: right;\n",
       "  white-space: pre-wrap;\n",
       "}\n",
       "</style>\n",
       "<small>shape: (2, 7)</small><table border=\"1\" class=\"dataframe\"><thead><tr><th>id</th><th>patron_id</th><th>library_id</th><th>date_checkout</th><th>date_returned</th><th>days_holding_book</th><th>book_returned</th></tr><tr><td>str</td><td>str</td><td>str</td><td>date</td><td>date</td><td>i32</td><td>i32</td></tr></thead><tbody><tr><td>&quot;1Mc0AQAAMAAJ&quot;</td><td>&quot;f073be688f2016dc22f318b7113e06…</td><td>&quot;226-222@5xc-jxj-7yv&quot;</td><td>2018-05-09</td><td>2018-05-24</td><td>15</td><td>1</td></tr><tr><td>&quot;sBmIDwAAQBAJ&quot;</td><td>&quot;bad6c410ae2a8b7a069f4f6398f576…</td><td>&quot;226-222@5xc-jxj-7yv&quot;</td><td>2018-07-06</td><td>2018-08-01</td><td>26</td><td>1</td></tr></tbody></table></div>"
      ],
      "text/plain": [
       "shape: (2, 7)\n",
       "┌──────────────┬─────────────┬─────────────┬─────────────┬─────────────┬─────────────┬─────────────┐\n",
       "│ id           ┆ patron_id   ┆ library_id  ┆ date_checko ┆ date_return ┆ days_holdin ┆ book_return │\n",
       "│ ---          ┆ ---         ┆ ---         ┆ ut          ┆ ed          ┆ g_book      ┆ ed          │\n",
       "│ str          ┆ str         ┆ str         ┆ ---         ┆ ---         ┆ ---         ┆ ---         │\n",
       "│              ┆             ┆             ┆ date        ┆ date        ┆ i32         ┆ i32         │\n",
       "╞══════════════╪═════════════╪═════════════╪═════════════╪═════════════╪═════════════╪═════════════╡\n",
       "│ 1Mc0AQAAMAAJ ┆ f073be688f2 ┆ 226-222@5xc ┆ 2018-05-09  ┆ 2018-05-24  ┆ 15          ┆ 1           │\n",
       "│              ┆ 016dc22f318 ┆ -jxj-7yv    ┆             ┆             ┆             ┆             │\n",
       "│              ┆ b7113e06…   ┆             ┆             ┆             ┆             ┆             │\n",
       "│ sBmIDwAAQBAJ ┆ bad6c410ae2 ┆ 226-222@5xc ┆ 2018-07-06  ┆ 2018-08-01  ┆ 26          ┆ 1           │\n",
       "│              ┆ a8b7a069f4f ┆ -jxj-7yv    ┆             ┆             ┆             ┆             │\n",
       "│              ┆ 6398f576…   ┆             ┆             ┆             ┆             ┆             │\n",
       "└──────────────┴─────────────┴─────────────┴─────────────┴─────────────┴─────────────┴─────────────┘"
      ]
     },
     "execution_count": 17,
     "metadata": {},
     "output_type": "execute_result"
    }
   ],
   "source": [
    "checkouts_df.head(2)"
   ]
  },
  {
   "cell_type": "markdown",
   "id": "f26a8c93-53a9-446e-afb2-f8581d354bdd",
   "metadata": {},
   "source": [
    "### Entity analysis\n",
    "Analysis of customers and book entities\n",
    "TODO: Add more description"
   ]
  },
  {
   "cell_type": "code",
   "execution_count": 18,
   "id": "4fce9533-dc59-414f-8282-8bee5f7de774",
   "metadata": {},
   "outputs": [
    {
     "data": {},
     "metadata": {},
     "output_type": "display_data"
    },
    {
     "data": {
      "application/vnd.holoviews_exec.v0+json": "",
      "text/html": [
       "<div id='p1004'>\n",
       "  <div id=\"ebb60055-169f-4eef-9241-76baaf028ffa\" data-root-id=\"p1004\" style=\"display: contents;\"></div>\n",
       "</div>\n",
       "<script type=\"application/javascript\">(function(root) {\n",
       "  var docs_json = {\"c5c75591-901f-47a5-b066-e5421f6d1a11\":{\"version\":\"3.6.0\",\"title\":\"Bokeh Application\",\"roots\":[{\"type\":\"object\",\"name\":\"Row\",\"id\":\"p1004\",\"attributes\":{\"name\":\"Row00919\",\"tags\":[\"embedded\"],\"stylesheets\":[\"\\n:host(.pn-loading):before, .pn-loading:before {\\n  background-color: #c3c3c3;\\n  mask-size: auto calc(min(50%, 400px));\\n  -webkit-mask-size: auto calc(min(50%, 400px));\\n}\",{\"type\":\"object\",\"name\":\"ImportedStyleSheet\",\"id\":\"p1007\",\"attributes\":{\"url\":\"https://cdn.holoviz.org/panel/1.5.3/dist/css/loading.css\"}},{\"type\":\"object\",\"name\":\"ImportedStyleSheet\",\"id\":\"p1065\",\"attributes\":{\"url\":\"https://cdn.holoviz.org/panel/1.5.3/dist/css/listpanel.css\"}},{\"type\":\"object\",\"name\":\"ImportedStyleSheet\",\"id\":\"p1005\",\"attributes\":{\"url\":\"https://cdn.holoviz.org/panel/1.5.3/dist/bundled/theme/default.css\"}},{\"type\":\"object\",\"name\":\"ImportedStyleSheet\",\"id\":\"p1006\",\"attributes\":{\"url\":\"https://cdn.holoviz.org/panel/1.5.3/dist/bundled/theme/native.css\"}}],\"min_width\":700,\"margin\":0,\"sizing_mode\":\"stretch_width\",\"align\":\"start\",\"children\":[{\"type\":\"object\",\"name\":\"Spacer\",\"id\":\"p1008\",\"attributes\":{\"name\":\"HSpacer00926\",\"stylesheets\":[\"\\n:host(.pn-loading):before, .pn-loading:before {\\n  background-color: #c3c3c3;\\n  mask-size: auto calc(min(50%, 400px));\\n  -webkit-mask-size: auto calc(min(50%, 400px));\\n}\",{\"id\":\"p1007\"},{\"id\":\"p1005\"},{\"id\":\"p1006\"}],\"margin\":0,\"sizing_mode\":\"stretch_width\",\"align\":\"start\"}},{\"type\":\"object\",\"name\":\"Figure\",\"id\":\"p1016\",\"attributes\":{\"width\":700,\"height\":300,\"margin\":[5,10],\"sizing_mode\":\"fixed\",\"align\":\"start\",\"x_range\":{\"type\":\"object\",\"name\":\"FactorRange\",\"id\":\"p1009\",\"attributes\":{\"tags\":[[[\"Gender\",null]],[]],\"factors\":[\"male\",\"female\"]}},\"y_range\":{\"type\":\"object\",\"name\":\"Range1d\",\"id\":\"p1010\",\"attributes\":{\"tags\":[[[\"Number of customers\",null]],{\"type\":\"map\",\"entries\":[[\"invert_yaxis\",false],[\"autorange\",false]]}],\"end\":970.5,\"reset_start\":0.0,\"reset_end\":970.5}},\"x_scale\":{\"type\":\"object\",\"name\":\"CategoricalScale\",\"id\":\"p1026\"},\"y_scale\":{\"type\":\"object\",\"name\":\"LinearScale\",\"id\":\"p1027\"},\"title\":{\"type\":\"object\",\"name\":\"Title\",\"id\":\"p1019\",\"attributes\":{\"text\":\"Library customers gender\",\"text_color\":\"black\",\"text_font_size\":\"12pt\"}},\"renderers\":[{\"type\":\"object\",\"name\":\"GlyphRenderer\",\"id\":\"p1058\",\"attributes\":{\"data_source\":{\"type\":\"object\",\"name\":\"ColumnDataSource\",\"id\":\"p1049\",\"attributes\":{\"selected\":{\"type\":\"object\",\"name\":\"Selection\",\"id\":\"p1050\",\"attributes\":{\"indices\":[],\"line_indices\":[]}},\"selection_policy\":{\"type\":\"object\",\"name\":\"UnionRenderers\",\"id\":\"p1051\"},\"data\":{\"type\":\"map\",\"entries\":[[\"Gender\",[\"male\",\"female\"]],[\"Number_of_customers\",{\"type\":\"ndarray\",\"array\":{\"type\":\"bytes\",\"data\":\"xwMAAKQDAAA=\"},\"shape\":[2],\"dtype\":\"uint32\",\"order\":\"little\"}]]}}},\"view\":{\"type\":\"object\",\"name\":\"CDSView\",\"id\":\"p1059\",\"attributes\":{\"filter\":{\"type\":\"object\",\"name\":\"AllIndices\",\"id\":\"p1060\"}}},\"glyph\":{\"type\":\"object\",\"name\":\"VBar\",\"id\":\"p1055\",\"attributes\":{\"tags\":[\"apply_ranges\"],\"x\":{\"type\":\"field\",\"field\":\"Gender\"},\"width\":{\"type\":\"value\",\"value\":0.8},\"top\":{\"type\":\"field\",\"field\":\"Number_of_customers\"},\"fill_color\":{\"type\":\"value\",\"value\":\"#30a2da\"},\"hatch_color\":{\"type\":\"value\",\"value\":\"#30a2da\"}}},\"selection_glyph\":{\"type\":\"object\",\"name\":\"VBar\",\"id\":\"p1061\",\"attributes\":{\"tags\":[\"apply_ranges\"],\"x\":{\"type\":\"field\",\"field\":\"Gender\"},\"width\":{\"type\":\"value\",\"value\":0.8},\"bottom\":{\"type\":\"value\",\"value\":0},\"top\":{\"type\":\"field\",\"field\":\"Number_of_customers\"},\"line_color\":{\"type\":\"value\",\"value\":\"black\"},\"line_alpha\":{\"type\":\"value\",\"value\":1.0},\"line_width\":{\"type\":\"value\",\"value\":1},\"line_join\":{\"type\":\"value\",\"value\":\"bevel\"},\"line_cap\":{\"type\":\"value\",\"value\":\"butt\"},\"line_dash\":{\"type\":\"value\",\"value\":[]},\"line_dash_offset\":{\"type\":\"value\",\"value\":0},\"fill_color\":{\"type\":\"value\",\"value\":\"#30a2da\"},\"fill_alpha\":{\"type\":\"value\",\"value\":1.0},\"hatch_color\":{\"type\":\"value\",\"value\":\"#30a2da\"},\"hatch_alpha\":{\"type\":\"value\",\"value\":1.0},\"hatch_scale\":{\"type\":\"value\",\"value\":12.0},\"hatch_pattern\":{\"type\":\"value\",\"value\":null},\"hatch_weight\":{\"type\":\"value\",\"value\":1.0}}},\"nonselection_glyph\":{\"type\":\"object\",\"name\":\"VBar\",\"id\":\"p1056\",\"attributes\":{\"tags\":[\"apply_ranges\"],\"x\":{\"type\":\"field\",\"field\":\"Gender\"},\"width\":{\"type\":\"value\",\"value\":0.8},\"top\":{\"type\":\"field\",\"field\":\"Number_of_customers\"},\"line_alpha\":{\"type\":\"value\",\"value\":0.1},\"fill_color\":{\"type\":\"value\",\"value\":\"#30a2da\"},\"fill_alpha\":{\"type\":\"value\",\"value\":0.1},\"hatch_color\":{\"type\":\"value\",\"value\":\"#30a2da\"},\"hatch_alpha\":{\"type\":\"value\",\"value\":0.1}}},\"muted_glyph\":{\"type\":\"object\",\"name\":\"VBar\",\"id\":\"p1057\",\"attributes\":{\"tags\":[\"apply_ranges\"],\"x\":{\"type\":\"field\",\"field\":\"Gender\"},\"width\":{\"type\":\"value\",\"value\":0.8},\"top\":{\"type\":\"field\",\"field\":\"Number_of_customers\"},\"line_alpha\":{\"type\":\"value\",\"value\":0.2},\"fill_color\":{\"type\":\"value\",\"value\":\"#30a2da\"},\"fill_alpha\":{\"type\":\"value\",\"value\":0.2},\"hatch_color\":{\"type\":\"value\",\"value\":\"#30a2da\"},\"hatch_alpha\":{\"type\":\"value\",\"value\":0.2}}}}}],\"toolbar\":{\"type\":\"object\",\"name\":\"Toolbar\",\"id\":\"p1025\",\"attributes\":{\"tools\":[{\"type\":\"object\",\"name\":\"WheelZoomTool\",\"id\":\"p1014\",\"attributes\":{\"tags\":[\"hv_created\"],\"renderers\":\"auto\",\"zoom_together\":\"none\"}},{\"type\":\"object\",\"name\":\"HoverTool\",\"id\":\"p1015\",\"attributes\":{\"tags\":[\"hv_created\"],\"renderers\":[{\"id\":\"p1058\"}],\"tooltips\":[[\"Gender\",\"@{Gender}\"],[\"Number of customers\",\"@{Number_of_customers}\"]]}},{\"type\":\"object\",\"name\":\"SaveTool\",\"id\":\"p1038\"},{\"type\":\"object\",\"name\":\"PanTool\",\"id\":\"p1039\"},{\"type\":\"object\",\"name\":\"BoxZoomTool\",\"id\":\"p1040\",\"attributes\":{\"overlay\":{\"type\":\"object\",\"name\":\"BoxAnnotation\",\"id\":\"p1041\",\"attributes\":{\"syncable\":false,\"line_color\":\"black\",\"line_alpha\":1.0,\"line_width\":2,\"line_dash\":[4,4],\"fill_color\":\"lightgrey\",\"fill_alpha\":0.5,\"level\":\"overlay\",\"visible\":false,\"left\":{\"type\":\"number\",\"value\":\"nan\"},\"right\":{\"type\":\"number\",\"value\":\"nan\"},\"top\":{\"type\":\"number\",\"value\":\"nan\"},\"bottom\":{\"type\":\"number\",\"value\":\"nan\"},\"left_units\":\"canvas\",\"right_units\":\"canvas\",\"top_units\":\"canvas\",\"bottom_units\":\"canvas\",\"handles\":{\"type\":\"object\",\"name\":\"BoxInteractionHandles\",\"id\":\"p1047\",\"attributes\":{\"all\":{\"type\":\"object\",\"name\":\"AreaVisuals\",\"id\":\"p1046\",\"attributes\":{\"fill_color\":\"white\",\"hover_fill_color\":\"lightgray\"}}}}}}}},{\"type\":\"object\",\"name\":\"ResetTool\",\"id\":\"p1048\"}],\"active_drag\":{\"id\":\"p1039\"},\"active_scroll\":{\"id\":\"p1014\"}}},\"left\":[{\"type\":\"object\",\"name\":\"LinearAxis\",\"id\":\"p1033\",\"attributes\":{\"ticker\":{\"type\":\"object\",\"name\":\"BasicTicker\",\"id\":\"p1034\",\"attributes\":{\"mantissas\":[1,2,5]}},\"formatter\":{\"type\":\"object\",\"name\":\"BasicTickFormatter\",\"id\":\"p1035\"},\"axis_label\":\"Number of customers\",\"major_label_policy\":{\"type\":\"object\",\"name\":\"AllLabels\",\"id\":\"p1036\"}}}],\"below\":[{\"type\":\"object\",\"name\":\"CategoricalAxis\",\"id\":\"p1028\",\"attributes\":{\"ticker\":{\"type\":\"object\",\"name\":\"CategoricalTicker\",\"id\":\"p1029\"},\"formatter\":{\"type\":\"object\",\"name\":\"CategoricalTickFormatter\",\"id\":\"p1030\"},\"axis_label\":\"Gender\",\"major_label_orientation\":1.5707963267948966,\"major_label_policy\":{\"type\":\"object\",\"name\":\"AllLabels\",\"id\":\"p1031\"}}}],\"center\":[{\"type\":\"object\",\"name\":\"Grid\",\"id\":\"p1032\",\"attributes\":{\"axis\":{\"id\":\"p1028\"},\"grid_line_color\":null}},{\"type\":\"object\",\"name\":\"Grid\",\"id\":\"p1037\",\"attributes\":{\"dimension\":1,\"axis\":{\"id\":\"p1033\"},\"grid_line_color\":null}}],\"min_border_top\":10,\"min_border_bottom\":10,\"min_border_left\":10,\"min_border_right\":10,\"output_backend\":\"webgl\"}},{\"type\":\"object\",\"name\":\"Spacer\",\"id\":\"p1063\",\"attributes\":{\"name\":\"HSpacer00927\",\"stylesheets\":[\"\\n:host(.pn-loading):before, .pn-loading:before {\\n  background-color: #c3c3c3;\\n  mask-size: auto calc(min(50%, 400px));\\n  -webkit-mask-size: auto calc(min(50%, 400px));\\n}\",{\"id\":\"p1007\"},{\"id\":\"p1005\"},{\"id\":\"p1006\"}],\"margin\":0,\"sizing_mode\":\"stretch_width\",\"align\":\"start\"}}]}}],\"defs\":[{\"type\":\"model\",\"name\":\"ReactiveHTML1\"},{\"type\":\"model\",\"name\":\"FlexBox1\",\"properties\":[{\"name\":\"align_content\",\"kind\":\"Any\",\"default\":\"flex-start\"},{\"name\":\"align_items\",\"kind\":\"Any\",\"default\":\"flex-start\"},{\"name\":\"flex_direction\",\"kind\":\"Any\",\"default\":\"row\"},{\"name\":\"flex_wrap\",\"kind\":\"Any\",\"default\":\"wrap\"},{\"name\":\"gap\",\"kind\":\"Any\",\"default\":\"\"},{\"name\":\"justify_content\",\"kind\":\"Any\",\"default\":\"flex-start\"}]},{\"type\":\"model\",\"name\":\"FloatPanel1\",\"properties\":[{\"name\":\"config\",\"kind\":\"Any\",\"default\":{\"type\":\"map\"}},{\"name\":\"contained\",\"kind\":\"Any\",\"default\":true},{\"name\":\"position\",\"kind\":\"Any\",\"default\":\"right-top\"},{\"name\":\"offsetx\",\"kind\":\"Any\",\"default\":null},{\"name\":\"offsety\",\"kind\":\"Any\",\"default\":null},{\"name\":\"theme\",\"kind\":\"Any\",\"default\":\"primary\"},{\"name\":\"status\",\"kind\":\"Any\",\"default\":\"normalized\"}]},{\"type\":\"model\",\"name\":\"GridStack1\",\"properties\":[{\"name\":\"mode\",\"kind\":\"Any\",\"default\":\"warn\"},{\"name\":\"ncols\",\"kind\":\"Any\",\"default\":null},{\"name\":\"nrows\",\"kind\":\"Any\",\"default\":null},{\"name\":\"allow_resize\",\"kind\":\"Any\",\"default\":true},{\"name\":\"allow_drag\",\"kind\":\"Any\",\"default\":true},{\"name\":\"state\",\"kind\":\"Any\",\"default\":[]}]},{\"type\":\"model\",\"name\":\"drag1\",\"properties\":[{\"name\":\"slider_width\",\"kind\":\"Any\",\"default\":5},{\"name\":\"slider_color\",\"kind\":\"Any\",\"default\":\"black\"},{\"name\":\"value\",\"kind\":\"Any\",\"default\":50}]},{\"type\":\"model\",\"name\":\"click1\",\"properties\":[{\"name\":\"terminal_output\",\"kind\":\"Any\",\"default\":\"\"},{\"name\":\"debug_name\",\"kind\":\"Any\",\"default\":\"\"},{\"name\":\"clears\",\"kind\":\"Any\",\"default\":0}]},{\"type\":\"model\",\"name\":\"FastWrapper1\",\"properties\":[{\"name\":\"object\",\"kind\":\"Any\",\"default\":null},{\"name\":\"style\",\"kind\":\"Any\",\"default\":null}]},{\"type\":\"model\",\"name\":\"NotificationAreaBase1\",\"properties\":[{\"name\":\"js_events\",\"kind\":\"Any\",\"default\":{\"type\":\"map\"}},{\"name\":\"position\",\"kind\":\"Any\",\"default\":\"bottom-right\"},{\"name\":\"_clear\",\"kind\":\"Any\",\"default\":0}]},{\"type\":\"model\",\"name\":\"NotificationArea1\",\"properties\":[{\"name\":\"js_events\",\"kind\":\"Any\",\"default\":{\"type\":\"map\"}},{\"name\":\"notifications\",\"kind\":\"Any\",\"default\":[]},{\"name\":\"position\",\"kind\":\"Any\",\"default\":\"bottom-right\"},{\"name\":\"_clear\",\"kind\":\"Any\",\"default\":0},{\"name\":\"types\",\"kind\":\"Any\",\"default\":[{\"type\":\"map\",\"entries\":[[\"type\",\"warning\"],[\"background\",\"#ffc107\"],[\"icon\",{\"type\":\"map\",\"entries\":[[\"className\",\"fas fa-exclamation-triangle\"],[\"tagName\",\"i\"],[\"color\",\"white\"]]}]]},{\"type\":\"map\",\"entries\":[[\"type\",\"info\"],[\"background\",\"#007bff\"],[\"icon\",{\"type\":\"map\",\"entries\":[[\"className\",\"fas fa-info-circle\"],[\"tagName\",\"i\"],[\"color\",\"white\"]]}]]}]}]},{\"type\":\"model\",\"name\":\"Notification\",\"properties\":[{\"name\":\"background\",\"kind\":\"Any\",\"default\":null},{\"name\":\"duration\",\"kind\":\"Any\",\"default\":3000},{\"name\":\"icon\",\"kind\":\"Any\",\"default\":null},{\"name\":\"message\",\"kind\":\"Any\",\"default\":\"\"},{\"name\":\"notification_type\",\"kind\":\"Any\",\"default\":null},{\"name\":\"_destroyed\",\"kind\":\"Any\",\"default\":false}]},{\"type\":\"model\",\"name\":\"TemplateActions1\",\"properties\":[{\"name\":\"open_modal\",\"kind\":\"Any\",\"default\":0},{\"name\":\"close_modal\",\"kind\":\"Any\",\"default\":0}]},{\"type\":\"model\",\"name\":\"BootstrapTemplateActions1\",\"properties\":[{\"name\":\"open_modal\",\"kind\":\"Any\",\"default\":0},{\"name\":\"close_modal\",\"kind\":\"Any\",\"default\":0}]},{\"type\":\"model\",\"name\":\"TemplateEditor1\",\"properties\":[{\"name\":\"layout\",\"kind\":\"Any\",\"default\":[]}]},{\"type\":\"model\",\"name\":\"MaterialTemplateActions1\",\"properties\":[{\"name\":\"open_modal\",\"kind\":\"Any\",\"default\":0},{\"name\":\"close_modal\",\"kind\":\"Any\",\"default\":0}]},{\"type\":\"model\",\"name\":\"ReactiveESM1\"},{\"type\":\"model\",\"name\":\"JSComponent1\"},{\"type\":\"model\",\"name\":\"ReactComponent1\"},{\"type\":\"model\",\"name\":\"AnyWidgetComponent1\"},{\"type\":\"model\",\"name\":\"request_value1\",\"properties\":[{\"name\":\"fill\",\"kind\":\"Any\",\"default\":\"none\"},{\"name\":\"_synced\",\"kind\":\"Any\",\"default\":null},{\"name\":\"_request_sync\",\"kind\":\"Any\",\"default\":0}]}]}};\n",
       "  var render_items = [{\"docid\":\"c5c75591-901f-47a5-b066-e5421f6d1a11\",\"roots\":{\"p1004\":\"ebb60055-169f-4eef-9241-76baaf028ffa\"},\"root_ids\":[\"p1004\"]}];\n",
       "  var docs = Object.values(docs_json)\n",
       "  if (!docs) {\n",
       "    return\n",
       "  }\n",
       "  const py_version = docs[0].version.replace('rc', '-rc.').replace('.dev', '-dev.')\n",
       "  async function embed_document(root) {\n",
       "    var Bokeh = get_bokeh(root)\n",
       "    await Bokeh.embed.embed_items_notebook(docs_json, render_items);\n",
       "    for (const render_item of render_items) {\n",
       "      for (const root_id of render_item.root_ids) {\n",
       "\tconst id_el = document.getElementById(root_id)\n",
       "\tif (id_el.children.length && id_el.children[0].hasAttribute('data-root-id')) {\n",
       "\t  const root_el = id_el.children[0]\n",
       "\t  root_el.id = root_el.id + '-rendered'\n",
       "\t  for (const child of root_el.children) {\n",
       "            // Ensure JupyterLab does not capture keyboard shortcuts\n",
       "            // see: https://jupyterlab.readthedocs.io/en/4.1.x/extension/notebook.html#keyboard-interaction-model\n",
       "\t    child.setAttribute('data-lm-suppress-shortcuts', 'true')\n",
       "\t  }\n",
       "\t}\n",
       "      }\n",
       "    }\n",
       "  }\n",
       "  function get_bokeh(root) {\n",
       "    if (root.Bokeh === undefined) {\n",
       "      return null\n",
       "    } else if (root.Bokeh.version !== py_version) {\n",
       "      if (root.Bokeh.versions === undefined || !root.Bokeh.versions.has(py_version)) {\n",
       "\treturn null\n",
       "      }\n",
       "      return root.Bokeh.versions.get(py_version);\n",
       "    } else if (root.Bokeh.version === py_version) {\n",
       "      return root.Bokeh\n",
       "    }\n",
       "    return null\n",
       "  }\n",
       "  function is_loaded(root) {\n",
       "    var Bokeh = get_bokeh(root)\n",
       "    return (Bokeh != null && Bokeh.Panel !== undefined)\n",
       "  }\n",
       "  if (is_loaded(root)) {\n",
       "    embed_document(root);\n",
       "  } else {\n",
       "    var attempts = 0;\n",
       "    var timer = setInterval(function(root) {\n",
       "      if (is_loaded(root)) {\n",
       "        clearInterval(timer);\n",
       "        embed_document(root);\n",
       "      } else if (document.readyState == \"complete\") {\n",
       "        attempts++;\n",
       "        if (attempts > 200) {\n",
       "          clearInterval(timer);\n",
       "\t  var Bokeh = get_bokeh(root)\n",
       "\t  if (Bokeh == null || Bokeh.Panel == null) {\n",
       "            console.warn(\"Panel: ERROR: Unable to run Panel code because Bokeh or Panel library is missing\");\n",
       "\t  } else {\n",
       "\t    console.warn(\"Panel: WARNING: Attempting to render but not all required libraries could be resolved.\")\n",
       "\t    embed_document(root)\n",
       "\t  }\n",
       "        }\n",
       "      }\n",
       "    }, 25, root)\n",
       "  }\n",
       "})(window);</script>"
      ],
      "text/plain": [
       ":Bars   [Gender]   (Number of customers)"
      ]
     },
     "execution_count": 18,
     "metadata": {
      "application/vnd.holoviews_exec.v0+json": {
       "id": "p1004"
      }
     },
     "output_type": "execute_result"
    }
   ],
   "source": [
    "gender_df = customers_df.group_by(pl.col(\"gender\")).len()\n",
    "gender_df = gender_df.drop_nulls().rename(\n",
    "    {\"gender\": \"Gender\", \"len\": \"Number of customers\"}\n",
    ")\n",
    "gender_df.hvplot.bar(\n",
    "    x=\"Gender\", y=\"Number of customers\", rot=90, title=\"Library customers gender\"\n",
    ")"
   ]
  },
  {
   "cell_type": "code",
   "execution_count": 19,
   "id": "fda5bc21-36ce-46c7-a2c6-ce5b48f7a82f",
   "metadata": {},
   "outputs": [
    {
     "data": {},
     "metadata": {},
     "output_type": "display_data"
    },
    {
     "data": {
      "application/vnd.holoviews_exec.v0+json": "",
      "text/html": [
       "<div id='p1068'>\n",
       "  <div id=\"c02f8a5a-7ba3-4a36-84f4-e3c33a83143a\" data-root-id=\"p1068\" style=\"display: contents;\"></div>\n",
       "</div>\n",
       "<script type=\"application/javascript\">(function(root) {\n",
       "  var docs_json = {\"520493a5-ef51-442b-849b-09e75e37803e\":{\"version\":\"3.6.0\",\"title\":\"Bokeh Application\",\"roots\":[{\"type\":\"object\",\"name\":\"Row\",\"id\":\"p1068\",\"attributes\":{\"name\":\"Row01006\",\"tags\":[\"embedded\"],\"stylesheets\":[\"\\n:host(.pn-loading):before, .pn-loading:before {\\n  background-color: #c3c3c3;\\n  mask-size: auto calc(min(50%, 400px));\\n  -webkit-mask-size: auto calc(min(50%, 400px));\\n}\",{\"type\":\"object\",\"name\":\"ImportedStyleSheet\",\"id\":\"p1071\",\"attributes\":{\"url\":\"https://cdn.holoviz.org/panel/1.5.3/dist/css/loading.css\"}},{\"type\":\"object\",\"name\":\"ImportedStyleSheet\",\"id\":\"p1129\",\"attributes\":{\"url\":\"https://cdn.holoviz.org/panel/1.5.3/dist/css/listpanel.css\"}},{\"type\":\"object\",\"name\":\"ImportedStyleSheet\",\"id\":\"p1069\",\"attributes\":{\"url\":\"https://cdn.holoviz.org/panel/1.5.3/dist/bundled/theme/default.css\"}},{\"type\":\"object\",\"name\":\"ImportedStyleSheet\",\"id\":\"p1070\",\"attributes\":{\"url\":\"https://cdn.holoviz.org/panel/1.5.3/dist/bundled/theme/native.css\"}}],\"min_width\":700,\"margin\":0,\"sizing_mode\":\"stretch_width\",\"align\":\"start\",\"children\":[{\"type\":\"object\",\"name\":\"Spacer\",\"id\":\"p1072\",\"attributes\":{\"name\":\"HSpacer01013\",\"stylesheets\":[\"\\n:host(.pn-loading):before, .pn-loading:before {\\n  background-color: #c3c3c3;\\n  mask-size: auto calc(min(50%, 400px));\\n  -webkit-mask-size: auto calc(min(50%, 400px));\\n}\",{\"id\":\"p1071\"},{\"id\":\"p1069\"},{\"id\":\"p1070\"}],\"margin\":0,\"sizing_mode\":\"stretch_width\",\"align\":\"start\"}},{\"type\":\"object\",\"name\":\"Figure\",\"id\":\"p1080\",\"attributes\":{\"width\":700,\"height\":300,\"margin\":[5,10],\"sizing_mode\":\"fixed\",\"align\":\"start\",\"x_range\":{\"type\":\"object\",\"name\":\"FactorRange\",\"id\":\"p1073\",\"attributes\":{\"tags\":[[[\"Education\",null]],[]],\"factors\":[\"Graduate Degree\",\"College\",\"Others\",\"High School\"]}},\"y_range\":{\"type\":\"object\",\"name\":\"Range1d\",\"id\":\"p1074\",\"attributes\":{\"tags\":[[[\"Number of customers\",null]],{\"type\":\"map\",\"entries\":[[\"invert_yaxis\",false],[\"autorange\",false]]}],\"end\":511.3,\"reset_start\":0.0,\"reset_end\":511.3}},\"x_scale\":{\"type\":\"object\",\"name\":\"CategoricalScale\",\"id\":\"p1090\"},\"y_scale\":{\"type\":\"object\",\"name\":\"LinearScale\",\"id\":\"p1091\"},\"title\":{\"type\":\"object\",\"name\":\"Title\",\"id\":\"p1083\",\"attributes\":{\"text\":\"Library customer education\",\"text_color\":\"black\",\"text_font_size\":\"12pt\"}},\"renderers\":[{\"type\":\"object\",\"name\":\"GlyphRenderer\",\"id\":\"p1122\",\"attributes\":{\"data_source\":{\"type\":\"object\",\"name\":\"ColumnDataSource\",\"id\":\"p1113\",\"attributes\":{\"selected\":{\"type\":\"object\",\"name\":\"Selection\",\"id\":\"p1114\",\"attributes\":{\"indices\":[],\"line_indices\":[]}},\"selection_policy\":{\"type\":\"object\",\"name\":\"UnionRenderers\",\"id\":\"p1115\"},\"data\":{\"type\":\"map\",\"entries\":[[\"Education\",[\"Graduate Degree\",\"College\",\"Others\",\"High School\"]],[\"Number_of_customers\",{\"type\":\"ndarray\",\"array\":{\"type\":\"bytes\",\"data\":\"xQEAAM0BAADcAQAA+gEAAA==\"},\"shape\":[4],\"dtype\":\"uint32\",\"order\":\"little\"}]]}}},\"view\":{\"type\":\"object\",\"name\":\"CDSView\",\"id\":\"p1123\",\"attributes\":{\"filter\":{\"type\":\"object\",\"name\":\"AllIndices\",\"id\":\"p1124\"}}},\"glyph\":{\"type\":\"object\",\"name\":\"VBar\",\"id\":\"p1119\",\"attributes\":{\"tags\":[\"apply_ranges\"],\"x\":{\"type\":\"field\",\"field\":\"Education\"},\"width\":{\"type\":\"value\",\"value\":0.8},\"top\":{\"type\":\"field\",\"field\":\"Number_of_customers\"},\"fill_color\":{\"type\":\"value\",\"value\":\"teal\"},\"hatch_color\":{\"type\":\"value\",\"value\":\"teal\"}}},\"selection_glyph\":{\"type\":\"object\",\"name\":\"VBar\",\"id\":\"p1125\",\"attributes\":{\"tags\":[\"apply_ranges\"],\"x\":{\"type\":\"field\",\"field\":\"Education\"},\"width\":{\"type\":\"value\",\"value\":0.8},\"bottom\":{\"type\":\"value\",\"value\":0},\"top\":{\"type\":\"field\",\"field\":\"Number_of_customers\"},\"line_color\":{\"type\":\"value\",\"value\":\"black\"},\"line_alpha\":{\"type\":\"value\",\"value\":1.0},\"line_width\":{\"type\":\"value\",\"value\":1},\"line_join\":{\"type\":\"value\",\"value\":\"bevel\"},\"line_cap\":{\"type\":\"value\",\"value\":\"butt\"},\"line_dash\":{\"type\":\"value\",\"value\":[]},\"line_dash_offset\":{\"type\":\"value\",\"value\":0},\"fill_color\":{\"type\":\"value\",\"value\":\"teal\"},\"fill_alpha\":{\"type\":\"value\",\"value\":1.0},\"hatch_color\":{\"type\":\"value\",\"value\":\"teal\"},\"hatch_alpha\":{\"type\":\"value\",\"value\":1.0},\"hatch_scale\":{\"type\":\"value\",\"value\":12.0},\"hatch_pattern\":{\"type\":\"value\",\"value\":null},\"hatch_weight\":{\"type\":\"value\",\"value\":1.0}}},\"nonselection_glyph\":{\"type\":\"object\",\"name\":\"VBar\",\"id\":\"p1120\",\"attributes\":{\"tags\":[\"apply_ranges\"],\"x\":{\"type\":\"field\",\"field\":\"Education\"},\"width\":{\"type\":\"value\",\"value\":0.8},\"top\":{\"type\":\"field\",\"field\":\"Number_of_customers\"},\"line_alpha\":{\"type\":\"value\",\"value\":0.1},\"fill_color\":{\"type\":\"value\",\"value\":\"teal\"},\"fill_alpha\":{\"type\":\"value\",\"value\":0.1},\"hatch_color\":{\"type\":\"value\",\"value\":\"teal\"},\"hatch_alpha\":{\"type\":\"value\",\"value\":0.1}}},\"muted_glyph\":{\"type\":\"object\",\"name\":\"VBar\",\"id\":\"p1121\",\"attributes\":{\"tags\":[\"apply_ranges\"],\"x\":{\"type\":\"field\",\"field\":\"Education\"},\"width\":{\"type\":\"value\",\"value\":0.8},\"top\":{\"type\":\"field\",\"field\":\"Number_of_customers\"},\"line_alpha\":{\"type\":\"value\",\"value\":0.2},\"fill_color\":{\"type\":\"value\",\"value\":\"teal\"},\"fill_alpha\":{\"type\":\"value\",\"value\":0.2},\"hatch_color\":{\"type\":\"value\",\"value\":\"teal\"},\"hatch_alpha\":{\"type\":\"value\",\"value\":0.2}}}}}],\"toolbar\":{\"type\":\"object\",\"name\":\"Toolbar\",\"id\":\"p1089\",\"attributes\":{\"tools\":[{\"type\":\"object\",\"name\":\"WheelZoomTool\",\"id\":\"p1078\",\"attributes\":{\"tags\":[\"hv_created\"],\"renderers\":\"auto\",\"zoom_together\":\"none\"}},{\"type\":\"object\",\"name\":\"HoverTool\",\"id\":\"p1079\",\"attributes\":{\"tags\":[\"hv_created\"],\"renderers\":[{\"id\":\"p1122\"}],\"tooltips\":[[\"Education\",\"@{Education}\"],[\"Number of customers\",\"@{Number_of_customers}\"]]}},{\"type\":\"object\",\"name\":\"SaveTool\",\"id\":\"p1102\"},{\"type\":\"object\",\"name\":\"PanTool\",\"id\":\"p1103\"},{\"type\":\"object\",\"name\":\"BoxZoomTool\",\"id\":\"p1104\",\"attributes\":{\"overlay\":{\"type\":\"object\",\"name\":\"BoxAnnotation\",\"id\":\"p1105\",\"attributes\":{\"syncable\":false,\"line_color\":\"black\",\"line_alpha\":1.0,\"line_width\":2,\"line_dash\":[4,4],\"fill_color\":\"lightgrey\",\"fill_alpha\":0.5,\"level\":\"overlay\",\"visible\":false,\"left\":{\"type\":\"number\",\"value\":\"nan\"},\"right\":{\"type\":\"number\",\"value\":\"nan\"},\"top\":{\"type\":\"number\",\"value\":\"nan\"},\"bottom\":{\"type\":\"number\",\"value\":\"nan\"},\"left_units\":\"canvas\",\"right_units\":\"canvas\",\"top_units\":\"canvas\",\"bottom_units\":\"canvas\",\"handles\":{\"type\":\"object\",\"name\":\"BoxInteractionHandles\",\"id\":\"p1111\",\"attributes\":{\"all\":{\"type\":\"object\",\"name\":\"AreaVisuals\",\"id\":\"p1110\",\"attributes\":{\"fill_color\":\"white\",\"hover_fill_color\":\"lightgray\"}}}}}}}},{\"type\":\"object\",\"name\":\"ResetTool\",\"id\":\"p1112\"}],\"active_drag\":{\"id\":\"p1103\"},\"active_scroll\":{\"id\":\"p1078\"}}},\"left\":[{\"type\":\"object\",\"name\":\"LinearAxis\",\"id\":\"p1097\",\"attributes\":{\"ticker\":{\"type\":\"object\",\"name\":\"BasicTicker\",\"id\":\"p1098\",\"attributes\":{\"mantissas\":[1,2,5]}},\"formatter\":{\"type\":\"object\",\"name\":\"BasicTickFormatter\",\"id\":\"p1099\"},\"axis_label\":\"Number of customers\",\"major_label_policy\":{\"type\":\"object\",\"name\":\"AllLabels\",\"id\":\"p1100\"}}}],\"below\":[{\"type\":\"object\",\"name\":\"CategoricalAxis\",\"id\":\"p1092\",\"attributes\":{\"ticker\":{\"type\":\"object\",\"name\":\"CategoricalTicker\",\"id\":\"p1093\"},\"formatter\":{\"type\":\"object\",\"name\":\"CategoricalTickFormatter\",\"id\":\"p1094\"},\"axis_label\":\"Education\",\"major_label_orientation\":1.5707963267948966,\"major_label_policy\":{\"type\":\"object\",\"name\":\"AllLabels\",\"id\":\"p1095\"}}}],\"center\":[{\"type\":\"object\",\"name\":\"Grid\",\"id\":\"p1096\",\"attributes\":{\"axis\":{\"id\":\"p1092\"},\"grid_line_color\":null}},{\"type\":\"object\",\"name\":\"Grid\",\"id\":\"p1101\",\"attributes\":{\"dimension\":1,\"axis\":{\"id\":\"p1097\"},\"grid_line_color\":null}}],\"min_border_top\":10,\"min_border_bottom\":10,\"min_border_left\":10,\"min_border_right\":10,\"output_backend\":\"webgl\"}},{\"type\":\"object\",\"name\":\"Spacer\",\"id\":\"p1127\",\"attributes\":{\"name\":\"HSpacer01014\",\"stylesheets\":[\"\\n:host(.pn-loading):before, .pn-loading:before {\\n  background-color: #c3c3c3;\\n  mask-size: auto calc(min(50%, 400px));\\n  -webkit-mask-size: auto calc(min(50%, 400px));\\n}\",{\"id\":\"p1071\"},{\"id\":\"p1069\"},{\"id\":\"p1070\"}],\"margin\":0,\"sizing_mode\":\"stretch_width\",\"align\":\"start\"}}]}}],\"defs\":[{\"type\":\"model\",\"name\":\"ReactiveHTML1\"},{\"type\":\"model\",\"name\":\"FlexBox1\",\"properties\":[{\"name\":\"align_content\",\"kind\":\"Any\",\"default\":\"flex-start\"},{\"name\":\"align_items\",\"kind\":\"Any\",\"default\":\"flex-start\"},{\"name\":\"flex_direction\",\"kind\":\"Any\",\"default\":\"row\"},{\"name\":\"flex_wrap\",\"kind\":\"Any\",\"default\":\"wrap\"},{\"name\":\"gap\",\"kind\":\"Any\",\"default\":\"\"},{\"name\":\"justify_content\",\"kind\":\"Any\",\"default\":\"flex-start\"}]},{\"type\":\"model\",\"name\":\"FloatPanel1\",\"properties\":[{\"name\":\"config\",\"kind\":\"Any\",\"default\":{\"type\":\"map\"}},{\"name\":\"contained\",\"kind\":\"Any\",\"default\":true},{\"name\":\"position\",\"kind\":\"Any\",\"default\":\"right-top\"},{\"name\":\"offsetx\",\"kind\":\"Any\",\"default\":null},{\"name\":\"offsety\",\"kind\":\"Any\",\"default\":null},{\"name\":\"theme\",\"kind\":\"Any\",\"default\":\"primary\"},{\"name\":\"status\",\"kind\":\"Any\",\"default\":\"normalized\"}]},{\"type\":\"model\",\"name\":\"GridStack1\",\"properties\":[{\"name\":\"mode\",\"kind\":\"Any\",\"default\":\"warn\"},{\"name\":\"ncols\",\"kind\":\"Any\",\"default\":null},{\"name\":\"nrows\",\"kind\":\"Any\",\"default\":null},{\"name\":\"allow_resize\",\"kind\":\"Any\",\"default\":true},{\"name\":\"allow_drag\",\"kind\":\"Any\",\"default\":true},{\"name\":\"state\",\"kind\":\"Any\",\"default\":[]}]},{\"type\":\"model\",\"name\":\"drag1\",\"properties\":[{\"name\":\"slider_width\",\"kind\":\"Any\",\"default\":5},{\"name\":\"slider_color\",\"kind\":\"Any\",\"default\":\"black\"},{\"name\":\"value\",\"kind\":\"Any\",\"default\":50}]},{\"type\":\"model\",\"name\":\"click1\",\"properties\":[{\"name\":\"terminal_output\",\"kind\":\"Any\",\"default\":\"\"},{\"name\":\"debug_name\",\"kind\":\"Any\",\"default\":\"\"},{\"name\":\"clears\",\"kind\":\"Any\",\"default\":0}]},{\"type\":\"model\",\"name\":\"FastWrapper1\",\"properties\":[{\"name\":\"object\",\"kind\":\"Any\",\"default\":null},{\"name\":\"style\",\"kind\":\"Any\",\"default\":null}]},{\"type\":\"model\",\"name\":\"NotificationAreaBase1\",\"properties\":[{\"name\":\"js_events\",\"kind\":\"Any\",\"default\":{\"type\":\"map\"}},{\"name\":\"position\",\"kind\":\"Any\",\"default\":\"bottom-right\"},{\"name\":\"_clear\",\"kind\":\"Any\",\"default\":0}]},{\"type\":\"model\",\"name\":\"NotificationArea1\",\"properties\":[{\"name\":\"js_events\",\"kind\":\"Any\",\"default\":{\"type\":\"map\"}},{\"name\":\"notifications\",\"kind\":\"Any\",\"default\":[]},{\"name\":\"position\",\"kind\":\"Any\",\"default\":\"bottom-right\"},{\"name\":\"_clear\",\"kind\":\"Any\",\"default\":0},{\"name\":\"types\",\"kind\":\"Any\",\"default\":[{\"type\":\"map\",\"entries\":[[\"type\",\"warning\"],[\"background\",\"#ffc107\"],[\"icon\",{\"type\":\"map\",\"entries\":[[\"className\",\"fas fa-exclamation-triangle\"],[\"tagName\",\"i\"],[\"color\",\"white\"]]}]]},{\"type\":\"map\",\"entries\":[[\"type\",\"info\"],[\"background\",\"#007bff\"],[\"icon\",{\"type\":\"map\",\"entries\":[[\"className\",\"fas fa-info-circle\"],[\"tagName\",\"i\"],[\"color\",\"white\"]]}]]}]}]},{\"type\":\"model\",\"name\":\"Notification\",\"properties\":[{\"name\":\"background\",\"kind\":\"Any\",\"default\":null},{\"name\":\"duration\",\"kind\":\"Any\",\"default\":3000},{\"name\":\"icon\",\"kind\":\"Any\",\"default\":null},{\"name\":\"message\",\"kind\":\"Any\",\"default\":\"\"},{\"name\":\"notification_type\",\"kind\":\"Any\",\"default\":null},{\"name\":\"_destroyed\",\"kind\":\"Any\",\"default\":false}]},{\"type\":\"model\",\"name\":\"TemplateActions1\",\"properties\":[{\"name\":\"open_modal\",\"kind\":\"Any\",\"default\":0},{\"name\":\"close_modal\",\"kind\":\"Any\",\"default\":0}]},{\"type\":\"model\",\"name\":\"BootstrapTemplateActions1\",\"properties\":[{\"name\":\"open_modal\",\"kind\":\"Any\",\"default\":0},{\"name\":\"close_modal\",\"kind\":\"Any\",\"default\":0}]},{\"type\":\"model\",\"name\":\"TemplateEditor1\",\"properties\":[{\"name\":\"layout\",\"kind\":\"Any\",\"default\":[]}]},{\"type\":\"model\",\"name\":\"MaterialTemplateActions1\",\"properties\":[{\"name\":\"open_modal\",\"kind\":\"Any\",\"default\":0},{\"name\":\"close_modal\",\"kind\":\"Any\",\"default\":0}]},{\"type\":\"model\",\"name\":\"ReactiveESM1\"},{\"type\":\"model\",\"name\":\"JSComponent1\"},{\"type\":\"model\",\"name\":\"ReactComponent1\"},{\"type\":\"model\",\"name\":\"AnyWidgetComponent1\"},{\"type\":\"model\",\"name\":\"request_value1\",\"properties\":[{\"name\":\"fill\",\"kind\":\"Any\",\"default\":\"none\"},{\"name\":\"_synced\",\"kind\":\"Any\",\"default\":null},{\"name\":\"_request_sync\",\"kind\":\"Any\",\"default\":0}]}]}};\n",
       "  var render_items = [{\"docid\":\"520493a5-ef51-442b-849b-09e75e37803e\",\"roots\":{\"p1068\":\"c02f8a5a-7ba3-4a36-84f4-e3c33a83143a\"},\"root_ids\":[\"p1068\"]}];\n",
       "  var docs = Object.values(docs_json)\n",
       "  if (!docs) {\n",
       "    return\n",
       "  }\n",
       "  const py_version = docs[0].version.replace('rc', '-rc.').replace('.dev', '-dev.')\n",
       "  async function embed_document(root) {\n",
       "    var Bokeh = get_bokeh(root)\n",
       "    await Bokeh.embed.embed_items_notebook(docs_json, render_items);\n",
       "    for (const render_item of render_items) {\n",
       "      for (const root_id of render_item.root_ids) {\n",
       "\tconst id_el = document.getElementById(root_id)\n",
       "\tif (id_el.children.length && id_el.children[0].hasAttribute('data-root-id')) {\n",
       "\t  const root_el = id_el.children[0]\n",
       "\t  root_el.id = root_el.id + '-rendered'\n",
       "\t  for (const child of root_el.children) {\n",
       "            // Ensure JupyterLab does not capture keyboard shortcuts\n",
       "            // see: https://jupyterlab.readthedocs.io/en/4.1.x/extension/notebook.html#keyboard-interaction-model\n",
       "\t    child.setAttribute('data-lm-suppress-shortcuts', 'true')\n",
       "\t  }\n",
       "\t}\n",
       "      }\n",
       "    }\n",
       "  }\n",
       "  function get_bokeh(root) {\n",
       "    if (root.Bokeh === undefined) {\n",
       "      return null\n",
       "    } else if (root.Bokeh.version !== py_version) {\n",
       "      if (root.Bokeh.versions === undefined || !root.Bokeh.versions.has(py_version)) {\n",
       "\treturn null\n",
       "      }\n",
       "      return root.Bokeh.versions.get(py_version);\n",
       "    } else if (root.Bokeh.version === py_version) {\n",
       "      return root.Bokeh\n",
       "    }\n",
       "    return null\n",
       "  }\n",
       "  function is_loaded(root) {\n",
       "    var Bokeh = get_bokeh(root)\n",
       "    return (Bokeh != null && Bokeh.Panel !== undefined)\n",
       "  }\n",
       "  if (is_loaded(root)) {\n",
       "    embed_document(root);\n",
       "  } else {\n",
       "    var attempts = 0;\n",
       "    var timer = setInterval(function(root) {\n",
       "      if (is_loaded(root)) {\n",
       "        clearInterval(timer);\n",
       "        embed_document(root);\n",
       "      } else if (document.readyState == \"complete\") {\n",
       "        attempts++;\n",
       "        if (attempts > 200) {\n",
       "          clearInterval(timer);\n",
       "\t  var Bokeh = get_bokeh(root)\n",
       "\t  if (Bokeh == null || Bokeh.Panel == null) {\n",
       "            console.warn(\"Panel: ERROR: Unable to run Panel code because Bokeh or Panel library is missing\");\n",
       "\t  } else {\n",
       "\t    console.warn(\"Panel: WARNING: Attempting to render but not all required libraries could be resolved.\")\n",
       "\t    embed_document(root)\n",
       "\t  }\n",
       "        }\n",
       "      }\n",
       "    }, 25, root)\n",
       "  }\n",
       "})(window);</script>"
      ],
      "text/plain": [
       ":Bars   [Education]   (Number of customers)"
      ]
     },
     "execution_count": 19,
     "metadata": {
      "application/vnd.holoviews_exec.v0+json": {
       "id": "p1068"
      }
     },
     "output_type": "execute_result"
    }
   ],
   "source": [
    "education_df = customers_df.group_by(pl.col(\"education\")).len()\n",
    "education_df = education_df.drop_nulls().rename(\n",
    "    {\"education\": \"Education\", \"len\": \"Number of customers\"}\n",
    ")\n",
    "education_df.hvplot.bar(\n",
    "    x=\"Education\",\n",
    "    y=\"Number of customers\",\n",
    "    rot=90,\n",
    "    color=\"teal\",\n",
    "    title=\"Library customer education\",\n",
    ")"
   ]
  },
  {
   "cell_type": "code",
   "execution_count": 20,
   "id": "52105909-4bfa-4f04-b49f-4dff05657f96",
   "metadata": {},
   "outputs": [
    {
     "data": {},
     "metadata": {},
     "output_type": "display_data"
    },
    {
     "data": {
      "application/vnd.holoviews_exec.v0+json": "",
      "text/html": [
       "<div id='p1132'>\n",
       "  <div id=\"c2f039c3-ddaa-45a1-9587-45d836583ec3\" data-root-id=\"p1132\" style=\"display: contents;\"></div>\n",
       "</div>\n",
       "<script type=\"application/javascript\">(function(root) {\n",
       "  var docs_json = {\"2e4c2dde-2969-4af1-8499-19d9c7d648c0\":{\"version\":\"3.6.0\",\"title\":\"Bokeh Application\",\"roots\":[{\"type\":\"object\",\"name\":\"Row\",\"id\":\"p1132\",\"attributes\":{\"name\":\"Row01093\",\"tags\":[\"embedded\"],\"stylesheets\":[\"\\n:host(.pn-loading):before, .pn-loading:before {\\n  background-color: #c3c3c3;\\n  mask-size: auto calc(min(50%, 400px));\\n  -webkit-mask-size: auto calc(min(50%, 400px));\\n}\",{\"type\":\"object\",\"name\":\"ImportedStyleSheet\",\"id\":\"p1135\",\"attributes\":{\"url\":\"https://cdn.holoviz.org/panel/1.5.3/dist/css/loading.css\"}},{\"type\":\"object\",\"name\":\"ImportedStyleSheet\",\"id\":\"p1193\",\"attributes\":{\"url\":\"https://cdn.holoviz.org/panel/1.5.3/dist/css/listpanel.css\"}},{\"type\":\"object\",\"name\":\"ImportedStyleSheet\",\"id\":\"p1133\",\"attributes\":{\"url\":\"https://cdn.holoviz.org/panel/1.5.3/dist/bundled/theme/default.css\"}},{\"type\":\"object\",\"name\":\"ImportedStyleSheet\",\"id\":\"p1134\",\"attributes\":{\"url\":\"https://cdn.holoviz.org/panel/1.5.3/dist/bundled/theme/native.css\"}}],\"min_width\":700,\"margin\":0,\"sizing_mode\":\"stretch_width\",\"align\":\"start\",\"children\":[{\"type\":\"object\",\"name\":\"Spacer\",\"id\":\"p1136\",\"attributes\":{\"name\":\"HSpacer01100\",\"stylesheets\":[\"\\n:host(.pn-loading):before, .pn-loading:before {\\n  background-color: #c3c3c3;\\n  mask-size: auto calc(min(50%, 400px));\\n  -webkit-mask-size: auto calc(min(50%, 400px));\\n}\",{\"id\":\"p1135\"},{\"id\":\"p1133\"},{\"id\":\"p1134\"}],\"margin\":0,\"sizing_mode\":\"stretch_width\",\"align\":\"start\"}},{\"type\":\"object\",\"name\":\"Figure\",\"id\":\"p1144\",\"attributes\":{\"width\":700,\"height\":300,\"margin\":[5,10],\"sizing_mode\":\"fixed\",\"align\":\"start\",\"x_range\":{\"type\":\"object\",\"name\":\"FactorRange\",\"id\":\"p1137\",\"attributes\":{\"tags\":[[[\"Occupation\",null]],[]],\"factors\":[\"Business & Finance\",\"Others\",\"Admin & Support\",\"Education & Health\",\"Blue Collar\",\"Sales\",\"Tech\"]}},\"y_range\":{\"type\":\"object\",\"name\":\"Range1d\",\"id\":\"p1138\",\"attributes\":{\"tags\":[[[\"Number of customers\",null]],{\"type\":\"map\",\"entries\":[[\"invert_yaxis\",false],[\"autorange\",false]]}],\"end\":305.2,\"reset_start\":0.0,\"reset_end\":305.2}},\"x_scale\":{\"type\":\"object\",\"name\":\"CategoricalScale\",\"id\":\"p1154\"},\"y_scale\":{\"type\":\"object\",\"name\":\"LinearScale\",\"id\":\"p1155\"},\"title\":{\"type\":\"object\",\"name\":\"Title\",\"id\":\"p1147\",\"attributes\":{\"text\":\"Library customer occupation\",\"text_color\":\"black\",\"text_font_size\":\"12pt\"}},\"renderers\":[{\"type\":\"object\",\"name\":\"GlyphRenderer\",\"id\":\"p1186\",\"attributes\":{\"data_source\":{\"type\":\"object\",\"name\":\"ColumnDataSource\",\"id\":\"p1177\",\"attributes\":{\"selected\":{\"type\":\"object\",\"name\":\"Selection\",\"id\":\"p1178\",\"attributes\":{\"indices\":[],\"line_indices\":[]}},\"selection_policy\":{\"type\":\"object\",\"name\":\"UnionRenderers\",\"id\":\"p1179\"},\"data\":{\"type\":\"map\",\"entries\":[[\"Occupation\",[\"Business & Finance\",\"Others\",\"Admin & Support\",\"Education & Health\",\"Blue Collar\",\"Sales\",\"Tech\"]],[\"Number_of_customers\",{\"type\":\"ndarray\",\"array\":{\"type\":\"bytes\",\"data\":\"AwEAAA0BAAAtAQAAEwEAAAkBAAAFAQAABwEAAA==\"},\"shape\":[7],\"dtype\":\"uint32\",\"order\":\"little\"}]]}}},\"view\":{\"type\":\"object\",\"name\":\"CDSView\",\"id\":\"p1187\",\"attributes\":{\"filter\":{\"type\":\"object\",\"name\":\"AllIndices\",\"id\":\"p1188\"}}},\"glyph\":{\"type\":\"object\",\"name\":\"VBar\",\"id\":\"p1183\",\"attributes\":{\"tags\":[\"apply_ranges\"],\"x\":{\"type\":\"field\",\"field\":\"Occupation\"},\"width\":{\"type\":\"value\",\"value\":0.8},\"top\":{\"type\":\"field\",\"field\":\"Number_of_customers\"},\"fill_color\":{\"type\":\"value\",\"value\":\"orange\"},\"hatch_color\":{\"type\":\"value\",\"value\":\"orange\"}}},\"selection_glyph\":{\"type\":\"object\",\"name\":\"VBar\",\"id\":\"p1189\",\"attributes\":{\"tags\":[\"apply_ranges\"],\"x\":{\"type\":\"field\",\"field\":\"Occupation\"},\"width\":{\"type\":\"value\",\"value\":0.8},\"bottom\":{\"type\":\"value\",\"value\":0},\"top\":{\"type\":\"field\",\"field\":\"Number_of_customers\"},\"line_color\":{\"type\":\"value\",\"value\":\"black\"},\"line_alpha\":{\"type\":\"value\",\"value\":1.0},\"line_width\":{\"type\":\"value\",\"value\":1},\"line_join\":{\"type\":\"value\",\"value\":\"bevel\"},\"line_cap\":{\"type\":\"value\",\"value\":\"butt\"},\"line_dash\":{\"type\":\"value\",\"value\":[]},\"line_dash_offset\":{\"type\":\"value\",\"value\":0},\"fill_color\":{\"type\":\"value\",\"value\":\"orange\"},\"fill_alpha\":{\"type\":\"value\",\"value\":1.0},\"hatch_color\":{\"type\":\"value\",\"value\":\"orange\"},\"hatch_alpha\":{\"type\":\"value\",\"value\":1.0},\"hatch_scale\":{\"type\":\"value\",\"value\":12.0},\"hatch_pattern\":{\"type\":\"value\",\"value\":null},\"hatch_weight\":{\"type\":\"value\",\"value\":1.0}}},\"nonselection_glyph\":{\"type\":\"object\",\"name\":\"VBar\",\"id\":\"p1184\",\"attributes\":{\"tags\":[\"apply_ranges\"],\"x\":{\"type\":\"field\",\"field\":\"Occupation\"},\"width\":{\"type\":\"value\",\"value\":0.8},\"top\":{\"type\":\"field\",\"field\":\"Number_of_customers\"},\"line_alpha\":{\"type\":\"value\",\"value\":0.1},\"fill_color\":{\"type\":\"value\",\"value\":\"orange\"},\"fill_alpha\":{\"type\":\"value\",\"value\":0.1},\"hatch_color\":{\"type\":\"value\",\"value\":\"orange\"},\"hatch_alpha\":{\"type\":\"value\",\"value\":0.1}}},\"muted_glyph\":{\"type\":\"object\",\"name\":\"VBar\",\"id\":\"p1185\",\"attributes\":{\"tags\":[\"apply_ranges\"],\"x\":{\"type\":\"field\",\"field\":\"Occupation\"},\"width\":{\"type\":\"value\",\"value\":0.8},\"top\":{\"type\":\"field\",\"field\":\"Number_of_customers\"},\"line_alpha\":{\"type\":\"value\",\"value\":0.2},\"fill_color\":{\"type\":\"value\",\"value\":\"orange\"},\"fill_alpha\":{\"type\":\"value\",\"value\":0.2},\"hatch_color\":{\"type\":\"value\",\"value\":\"orange\"},\"hatch_alpha\":{\"type\":\"value\",\"value\":0.2}}}}}],\"toolbar\":{\"type\":\"object\",\"name\":\"Toolbar\",\"id\":\"p1153\",\"attributes\":{\"tools\":[{\"type\":\"object\",\"name\":\"WheelZoomTool\",\"id\":\"p1142\",\"attributes\":{\"tags\":[\"hv_created\"],\"renderers\":\"auto\",\"zoom_together\":\"none\"}},{\"type\":\"object\",\"name\":\"HoverTool\",\"id\":\"p1143\",\"attributes\":{\"tags\":[\"hv_created\"],\"renderers\":[{\"id\":\"p1186\"}],\"tooltips\":[[\"Occupation\",\"@{Occupation}\"],[\"Number of customers\",\"@{Number_of_customers}\"]]}},{\"type\":\"object\",\"name\":\"SaveTool\",\"id\":\"p1166\"},{\"type\":\"object\",\"name\":\"PanTool\",\"id\":\"p1167\"},{\"type\":\"object\",\"name\":\"BoxZoomTool\",\"id\":\"p1168\",\"attributes\":{\"overlay\":{\"type\":\"object\",\"name\":\"BoxAnnotation\",\"id\":\"p1169\",\"attributes\":{\"syncable\":false,\"line_color\":\"black\",\"line_alpha\":1.0,\"line_width\":2,\"line_dash\":[4,4],\"fill_color\":\"lightgrey\",\"fill_alpha\":0.5,\"level\":\"overlay\",\"visible\":false,\"left\":{\"type\":\"number\",\"value\":\"nan\"},\"right\":{\"type\":\"number\",\"value\":\"nan\"},\"top\":{\"type\":\"number\",\"value\":\"nan\"},\"bottom\":{\"type\":\"number\",\"value\":\"nan\"},\"left_units\":\"canvas\",\"right_units\":\"canvas\",\"top_units\":\"canvas\",\"bottom_units\":\"canvas\",\"handles\":{\"type\":\"object\",\"name\":\"BoxInteractionHandles\",\"id\":\"p1175\",\"attributes\":{\"all\":{\"type\":\"object\",\"name\":\"AreaVisuals\",\"id\":\"p1174\",\"attributes\":{\"fill_color\":\"white\",\"hover_fill_color\":\"lightgray\"}}}}}}}},{\"type\":\"object\",\"name\":\"ResetTool\",\"id\":\"p1176\"}],\"active_drag\":{\"id\":\"p1167\"},\"active_scroll\":{\"id\":\"p1142\"}}},\"left\":[{\"type\":\"object\",\"name\":\"LinearAxis\",\"id\":\"p1161\",\"attributes\":{\"ticker\":{\"type\":\"object\",\"name\":\"BasicTicker\",\"id\":\"p1162\",\"attributes\":{\"mantissas\":[1,2,5]}},\"formatter\":{\"type\":\"object\",\"name\":\"BasicTickFormatter\",\"id\":\"p1163\"},\"axis_label\":\"Number of customers\",\"major_label_policy\":{\"type\":\"object\",\"name\":\"AllLabels\",\"id\":\"p1164\"}}}],\"below\":[{\"type\":\"object\",\"name\":\"CategoricalAxis\",\"id\":\"p1156\",\"attributes\":{\"ticker\":{\"type\":\"object\",\"name\":\"CategoricalTicker\",\"id\":\"p1157\"},\"formatter\":{\"type\":\"object\",\"name\":\"CategoricalTickFormatter\",\"id\":\"p1158\"},\"axis_label\":\"Occupation\",\"major_label_orientation\":1.5707963267948966,\"major_label_policy\":{\"type\":\"object\",\"name\":\"AllLabels\",\"id\":\"p1159\"}}}],\"center\":[{\"type\":\"object\",\"name\":\"Grid\",\"id\":\"p1160\",\"attributes\":{\"axis\":{\"id\":\"p1156\"},\"grid_line_color\":null}},{\"type\":\"object\",\"name\":\"Grid\",\"id\":\"p1165\",\"attributes\":{\"dimension\":1,\"axis\":{\"id\":\"p1161\"},\"grid_line_color\":null}}],\"min_border_top\":10,\"min_border_bottom\":10,\"min_border_left\":10,\"min_border_right\":10,\"output_backend\":\"webgl\"}},{\"type\":\"object\",\"name\":\"Spacer\",\"id\":\"p1191\",\"attributes\":{\"name\":\"HSpacer01101\",\"stylesheets\":[\"\\n:host(.pn-loading):before, .pn-loading:before {\\n  background-color: #c3c3c3;\\n  mask-size: auto calc(min(50%, 400px));\\n  -webkit-mask-size: auto calc(min(50%, 400px));\\n}\",{\"id\":\"p1135\"},{\"id\":\"p1133\"},{\"id\":\"p1134\"}],\"margin\":0,\"sizing_mode\":\"stretch_width\",\"align\":\"start\"}}]}}],\"defs\":[{\"type\":\"model\",\"name\":\"ReactiveHTML1\"},{\"type\":\"model\",\"name\":\"FlexBox1\",\"properties\":[{\"name\":\"align_content\",\"kind\":\"Any\",\"default\":\"flex-start\"},{\"name\":\"align_items\",\"kind\":\"Any\",\"default\":\"flex-start\"},{\"name\":\"flex_direction\",\"kind\":\"Any\",\"default\":\"row\"},{\"name\":\"flex_wrap\",\"kind\":\"Any\",\"default\":\"wrap\"},{\"name\":\"gap\",\"kind\":\"Any\",\"default\":\"\"},{\"name\":\"justify_content\",\"kind\":\"Any\",\"default\":\"flex-start\"}]},{\"type\":\"model\",\"name\":\"FloatPanel1\",\"properties\":[{\"name\":\"config\",\"kind\":\"Any\",\"default\":{\"type\":\"map\"}},{\"name\":\"contained\",\"kind\":\"Any\",\"default\":true},{\"name\":\"position\",\"kind\":\"Any\",\"default\":\"right-top\"},{\"name\":\"offsetx\",\"kind\":\"Any\",\"default\":null},{\"name\":\"offsety\",\"kind\":\"Any\",\"default\":null},{\"name\":\"theme\",\"kind\":\"Any\",\"default\":\"primary\"},{\"name\":\"status\",\"kind\":\"Any\",\"default\":\"normalized\"}]},{\"type\":\"model\",\"name\":\"GridStack1\",\"properties\":[{\"name\":\"mode\",\"kind\":\"Any\",\"default\":\"warn\"},{\"name\":\"ncols\",\"kind\":\"Any\",\"default\":null},{\"name\":\"nrows\",\"kind\":\"Any\",\"default\":null},{\"name\":\"allow_resize\",\"kind\":\"Any\",\"default\":true},{\"name\":\"allow_drag\",\"kind\":\"Any\",\"default\":true},{\"name\":\"state\",\"kind\":\"Any\",\"default\":[]}]},{\"type\":\"model\",\"name\":\"drag1\",\"properties\":[{\"name\":\"slider_width\",\"kind\":\"Any\",\"default\":5},{\"name\":\"slider_color\",\"kind\":\"Any\",\"default\":\"black\"},{\"name\":\"value\",\"kind\":\"Any\",\"default\":50}]},{\"type\":\"model\",\"name\":\"click1\",\"properties\":[{\"name\":\"terminal_output\",\"kind\":\"Any\",\"default\":\"\"},{\"name\":\"debug_name\",\"kind\":\"Any\",\"default\":\"\"},{\"name\":\"clears\",\"kind\":\"Any\",\"default\":0}]},{\"type\":\"model\",\"name\":\"FastWrapper1\",\"properties\":[{\"name\":\"object\",\"kind\":\"Any\",\"default\":null},{\"name\":\"style\",\"kind\":\"Any\",\"default\":null}]},{\"type\":\"model\",\"name\":\"NotificationAreaBase1\",\"properties\":[{\"name\":\"js_events\",\"kind\":\"Any\",\"default\":{\"type\":\"map\"}},{\"name\":\"position\",\"kind\":\"Any\",\"default\":\"bottom-right\"},{\"name\":\"_clear\",\"kind\":\"Any\",\"default\":0}]},{\"type\":\"model\",\"name\":\"NotificationArea1\",\"properties\":[{\"name\":\"js_events\",\"kind\":\"Any\",\"default\":{\"type\":\"map\"}},{\"name\":\"notifications\",\"kind\":\"Any\",\"default\":[]},{\"name\":\"position\",\"kind\":\"Any\",\"default\":\"bottom-right\"},{\"name\":\"_clear\",\"kind\":\"Any\",\"default\":0},{\"name\":\"types\",\"kind\":\"Any\",\"default\":[{\"type\":\"map\",\"entries\":[[\"type\",\"warning\"],[\"background\",\"#ffc107\"],[\"icon\",{\"type\":\"map\",\"entries\":[[\"className\",\"fas fa-exclamation-triangle\"],[\"tagName\",\"i\"],[\"color\",\"white\"]]}]]},{\"type\":\"map\",\"entries\":[[\"type\",\"info\"],[\"background\",\"#007bff\"],[\"icon\",{\"type\":\"map\",\"entries\":[[\"className\",\"fas fa-info-circle\"],[\"tagName\",\"i\"],[\"color\",\"white\"]]}]]}]}]},{\"type\":\"model\",\"name\":\"Notification\",\"properties\":[{\"name\":\"background\",\"kind\":\"Any\",\"default\":null},{\"name\":\"duration\",\"kind\":\"Any\",\"default\":3000},{\"name\":\"icon\",\"kind\":\"Any\",\"default\":null},{\"name\":\"message\",\"kind\":\"Any\",\"default\":\"\"},{\"name\":\"notification_type\",\"kind\":\"Any\",\"default\":null},{\"name\":\"_destroyed\",\"kind\":\"Any\",\"default\":false}]},{\"type\":\"model\",\"name\":\"TemplateActions1\",\"properties\":[{\"name\":\"open_modal\",\"kind\":\"Any\",\"default\":0},{\"name\":\"close_modal\",\"kind\":\"Any\",\"default\":0}]},{\"type\":\"model\",\"name\":\"BootstrapTemplateActions1\",\"properties\":[{\"name\":\"open_modal\",\"kind\":\"Any\",\"default\":0},{\"name\":\"close_modal\",\"kind\":\"Any\",\"default\":0}]},{\"type\":\"model\",\"name\":\"TemplateEditor1\",\"properties\":[{\"name\":\"layout\",\"kind\":\"Any\",\"default\":[]}]},{\"type\":\"model\",\"name\":\"MaterialTemplateActions1\",\"properties\":[{\"name\":\"open_modal\",\"kind\":\"Any\",\"default\":0},{\"name\":\"close_modal\",\"kind\":\"Any\",\"default\":0}]},{\"type\":\"model\",\"name\":\"ReactiveESM1\"},{\"type\":\"model\",\"name\":\"JSComponent1\"},{\"type\":\"model\",\"name\":\"ReactComponent1\"},{\"type\":\"model\",\"name\":\"AnyWidgetComponent1\"},{\"type\":\"model\",\"name\":\"request_value1\",\"properties\":[{\"name\":\"fill\",\"kind\":\"Any\",\"default\":\"none\"},{\"name\":\"_synced\",\"kind\":\"Any\",\"default\":null},{\"name\":\"_request_sync\",\"kind\":\"Any\",\"default\":0}]}]}};\n",
       "  var render_items = [{\"docid\":\"2e4c2dde-2969-4af1-8499-19d9c7d648c0\",\"roots\":{\"p1132\":\"c2f039c3-ddaa-45a1-9587-45d836583ec3\"},\"root_ids\":[\"p1132\"]}];\n",
       "  var docs = Object.values(docs_json)\n",
       "  if (!docs) {\n",
       "    return\n",
       "  }\n",
       "  const py_version = docs[0].version.replace('rc', '-rc.').replace('.dev', '-dev.')\n",
       "  async function embed_document(root) {\n",
       "    var Bokeh = get_bokeh(root)\n",
       "    await Bokeh.embed.embed_items_notebook(docs_json, render_items);\n",
       "    for (const render_item of render_items) {\n",
       "      for (const root_id of render_item.root_ids) {\n",
       "\tconst id_el = document.getElementById(root_id)\n",
       "\tif (id_el.children.length && id_el.children[0].hasAttribute('data-root-id')) {\n",
       "\t  const root_el = id_el.children[0]\n",
       "\t  root_el.id = root_el.id + '-rendered'\n",
       "\t  for (const child of root_el.children) {\n",
       "            // Ensure JupyterLab does not capture keyboard shortcuts\n",
       "            // see: https://jupyterlab.readthedocs.io/en/4.1.x/extension/notebook.html#keyboard-interaction-model\n",
       "\t    child.setAttribute('data-lm-suppress-shortcuts', 'true')\n",
       "\t  }\n",
       "\t}\n",
       "      }\n",
       "    }\n",
       "  }\n",
       "  function get_bokeh(root) {\n",
       "    if (root.Bokeh === undefined) {\n",
       "      return null\n",
       "    } else if (root.Bokeh.version !== py_version) {\n",
       "      if (root.Bokeh.versions === undefined || !root.Bokeh.versions.has(py_version)) {\n",
       "\treturn null\n",
       "      }\n",
       "      return root.Bokeh.versions.get(py_version);\n",
       "    } else if (root.Bokeh.version === py_version) {\n",
       "      return root.Bokeh\n",
       "    }\n",
       "    return null\n",
       "  }\n",
       "  function is_loaded(root) {\n",
       "    var Bokeh = get_bokeh(root)\n",
       "    return (Bokeh != null && Bokeh.Panel !== undefined)\n",
       "  }\n",
       "  if (is_loaded(root)) {\n",
       "    embed_document(root);\n",
       "  } else {\n",
       "    var attempts = 0;\n",
       "    var timer = setInterval(function(root) {\n",
       "      if (is_loaded(root)) {\n",
       "        clearInterval(timer);\n",
       "        embed_document(root);\n",
       "      } else if (document.readyState == \"complete\") {\n",
       "        attempts++;\n",
       "        if (attempts > 200) {\n",
       "          clearInterval(timer);\n",
       "\t  var Bokeh = get_bokeh(root)\n",
       "\t  if (Bokeh == null || Bokeh.Panel == null) {\n",
       "            console.warn(\"Panel: ERROR: Unable to run Panel code because Bokeh or Panel library is missing\");\n",
       "\t  } else {\n",
       "\t    console.warn(\"Panel: WARNING: Attempting to render but not all required libraries could be resolved.\")\n",
       "\t    embed_document(root)\n",
       "\t  }\n",
       "        }\n",
       "      }\n",
       "    }, 25, root)\n",
       "  }\n",
       "})(window);</script>"
      ],
      "text/plain": [
       ":Bars   [Occupation]   (Number of customers)"
      ]
     },
     "execution_count": 20,
     "metadata": {
      "application/vnd.holoviews_exec.v0+json": {
       "id": "p1132"
      }
     },
     "output_type": "execute_result"
    }
   ],
   "source": [
    "occupation_df = customers_df.group_by(pl.col(\"occupation\")).len()\n",
    "occupation_df = occupation_df.drop_nulls().rename(\n",
    "    {\"occupation\": \"Occupation\", \"len\": \"Number of customers\"}\n",
    ")\n",
    "occupation_df.hvplot.bar(\n",
    "    x=\"Occupation\",\n",
    "    y=\"Number of customers\",\n",
    "    rot=90,\n",
    "    color=\"orange\",\n",
    "    title=\"Library customer occupation\",\n",
    ")"
   ]
  },
  {
   "cell_type": "code",
   "execution_count": 21,
   "id": "db7bca16-be53-45b0-b3f8-a6e045a21ff4",
   "metadata": {},
   "outputs": [
    {
     "data": {},
     "metadata": {},
     "output_type": "display_data"
    },
    {
     "data": {
      "application/vnd.holoviews_exec.v0+json": "",
      "text/html": [
       "<div id='p1196'>\n",
       "  <div id=\"c0450032-e600-47d5-9467-5d85431b1d68\" data-root-id=\"p1196\" style=\"display: contents;\"></div>\n",
       "</div>\n",
       "<script type=\"application/javascript\">(function(root) {\n",
       "  var docs_json = {\"aca2301d-8ff3-4c15-b7f8-2e1284f7f023\":{\"version\":\"3.6.0\",\"title\":\"Bokeh Application\",\"roots\":[{\"type\":\"object\",\"name\":\"Row\",\"id\":\"p1196\",\"attributes\":{\"name\":\"Row01180\",\"tags\":[\"embedded\"],\"stylesheets\":[\"\\n:host(.pn-loading):before, .pn-loading:before {\\n  background-color: #c3c3c3;\\n  mask-size: auto calc(min(50%, 400px));\\n  -webkit-mask-size: auto calc(min(50%, 400px));\\n}\",{\"type\":\"object\",\"name\":\"ImportedStyleSheet\",\"id\":\"p1199\",\"attributes\":{\"url\":\"https://cdn.holoviz.org/panel/1.5.3/dist/css/loading.css\"}},{\"type\":\"object\",\"name\":\"ImportedStyleSheet\",\"id\":\"p1257\",\"attributes\":{\"url\":\"https://cdn.holoviz.org/panel/1.5.3/dist/css/listpanel.css\"}},{\"type\":\"object\",\"name\":\"ImportedStyleSheet\",\"id\":\"p1197\",\"attributes\":{\"url\":\"https://cdn.holoviz.org/panel/1.5.3/dist/bundled/theme/default.css\"}},{\"type\":\"object\",\"name\":\"ImportedStyleSheet\",\"id\":\"p1198\",\"attributes\":{\"url\":\"https://cdn.holoviz.org/panel/1.5.3/dist/bundled/theme/native.css\"}}],\"min_width\":700,\"margin\":0,\"sizing_mode\":\"stretch_width\",\"align\":\"start\",\"children\":[{\"type\":\"object\",\"name\":\"Spacer\",\"id\":\"p1200\",\"attributes\":{\"name\":\"HSpacer01187\",\"stylesheets\":[\"\\n:host(.pn-loading):before, .pn-loading:before {\\n  background-color: #c3c3c3;\\n  mask-size: auto calc(min(50%, 400px));\\n  -webkit-mask-size: auto calc(min(50%, 400px));\\n}\",{\"id\":\"p1199\"},{\"id\":\"p1197\"},{\"id\":\"p1198\"}],\"margin\":0,\"sizing_mode\":\"stretch_width\",\"align\":\"start\"}},{\"type\":\"object\",\"name\":\"Figure\",\"id\":\"p1208\",\"attributes\":{\"width\":700,\"height\":300,\"margin\":[5,10],\"sizing_mode\":\"fixed\",\"align\":\"start\",\"x_range\":{\"type\":\"object\",\"name\":\"FactorRange\",\"id\":\"p1201\",\"attributes\":{\"tags\":[[[\"Age Category\",null]],[]],\"factors\":[\"Adult\",\"Old\",\"Young\",\"Middle-Age\"]}},\"y_range\":{\"type\":\"object\",\"name\":\"Range1d\",\"id\":\"p1202\",\"attributes\":{\"tags\":[[[\"Number of customers\",null]],{\"type\":\"map\",\"entries\":[[\"invert_yaxis\",false],[\"autorange\",false]]}],\"end\":619.0,\"reset_start\":0.0,\"reset_end\":619.0}},\"x_scale\":{\"type\":\"object\",\"name\":\"CategoricalScale\",\"id\":\"p1218\"},\"y_scale\":{\"type\":\"object\",\"name\":\"LinearScale\",\"id\":\"p1219\"},\"title\":{\"type\":\"object\",\"name\":\"Title\",\"id\":\"p1211\",\"attributes\":{\"text\":\"Library customer age group\",\"text_color\":\"black\",\"text_font_size\":\"12pt\"}},\"renderers\":[{\"type\":\"object\",\"name\":\"GlyphRenderer\",\"id\":\"p1250\",\"attributes\":{\"data_source\":{\"type\":\"object\",\"name\":\"ColumnDataSource\",\"id\":\"p1241\",\"attributes\":{\"selected\":{\"type\":\"object\",\"name\":\"Selection\",\"id\":\"p1242\",\"attributes\":{\"indices\":[],\"line_indices\":[]}},\"selection_policy\":{\"type\":\"object\",\"name\":\"UnionRenderers\",\"id\":\"p1243\"},\"data\":{\"type\":\"map\",\"entries\":[[\"Age_Category\",[\"Adult\",\"Old\",\"Young\",\"Middle-Age\"]],[\"Number_of_customers\",{\"type\":\"ndarray\",\"array\":{\"type\":\"bytes\",\"data\":\"MAIAAJ0BAACdAAAAQQIAAA==\"},\"shape\":[4],\"dtype\":\"uint32\",\"order\":\"little\"}]]}}},\"view\":{\"type\":\"object\",\"name\":\"CDSView\",\"id\":\"p1251\",\"attributes\":{\"filter\":{\"type\":\"object\",\"name\":\"AllIndices\",\"id\":\"p1252\"}}},\"glyph\":{\"type\":\"object\",\"name\":\"VBar\",\"id\":\"p1247\",\"attributes\":{\"tags\":[\"apply_ranges\"],\"x\":{\"type\":\"field\",\"field\":\"Age_Category\"},\"width\":{\"type\":\"value\",\"value\":0.8},\"top\":{\"type\":\"field\",\"field\":\"Number_of_customers\"},\"fill_color\":{\"type\":\"value\",\"value\":\"purple\"},\"hatch_color\":{\"type\":\"value\",\"value\":\"purple\"}}},\"selection_glyph\":{\"type\":\"object\",\"name\":\"VBar\",\"id\":\"p1253\",\"attributes\":{\"tags\":[\"apply_ranges\"],\"x\":{\"type\":\"field\",\"field\":\"Age_Category\"},\"width\":{\"type\":\"value\",\"value\":0.8},\"bottom\":{\"type\":\"value\",\"value\":0},\"top\":{\"type\":\"field\",\"field\":\"Number_of_customers\"},\"line_color\":{\"type\":\"value\",\"value\":\"black\"},\"line_alpha\":{\"type\":\"value\",\"value\":1.0},\"line_width\":{\"type\":\"value\",\"value\":1},\"line_join\":{\"type\":\"value\",\"value\":\"bevel\"},\"line_cap\":{\"type\":\"value\",\"value\":\"butt\"},\"line_dash\":{\"type\":\"value\",\"value\":[]},\"line_dash_offset\":{\"type\":\"value\",\"value\":0},\"fill_color\":{\"type\":\"value\",\"value\":\"purple\"},\"fill_alpha\":{\"type\":\"value\",\"value\":1.0},\"hatch_color\":{\"type\":\"value\",\"value\":\"purple\"},\"hatch_alpha\":{\"type\":\"value\",\"value\":1.0},\"hatch_scale\":{\"type\":\"value\",\"value\":12.0},\"hatch_pattern\":{\"type\":\"value\",\"value\":null},\"hatch_weight\":{\"type\":\"value\",\"value\":1.0}}},\"nonselection_glyph\":{\"type\":\"object\",\"name\":\"VBar\",\"id\":\"p1248\",\"attributes\":{\"tags\":[\"apply_ranges\"],\"x\":{\"type\":\"field\",\"field\":\"Age_Category\"},\"width\":{\"type\":\"value\",\"value\":0.8},\"top\":{\"type\":\"field\",\"field\":\"Number_of_customers\"},\"line_alpha\":{\"type\":\"value\",\"value\":0.1},\"fill_color\":{\"type\":\"value\",\"value\":\"purple\"},\"fill_alpha\":{\"type\":\"value\",\"value\":0.1},\"hatch_color\":{\"type\":\"value\",\"value\":\"purple\"},\"hatch_alpha\":{\"type\":\"value\",\"value\":0.1}}},\"muted_glyph\":{\"type\":\"object\",\"name\":\"VBar\",\"id\":\"p1249\",\"attributes\":{\"tags\":[\"apply_ranges\"],\"x\":{\"type\":\"field\",\"field\":\"Age_Category\"},\"width\":{\"type\":\"value\",\"value\":0.8},\"top\":{\"type\":\"field\",\"field\":\"Number_of_customers\"},\"line_alpha\":{\"type\":\"value\",\"value\":0.2},\"fill_color\":{\"type\":\"value\",\"value\":\"purple\"},\"fill_alpha\":{\"type\":\"value\",\"value\":0.2},\"hatch_color\":{\"type\":\"value\",\"value\":\"purple\"},\"hatch_alpha\":{\"type\":\"value\",\"value\":0.2}}}}}],\"toolbar\":{\"type\":\"object\",\"name\":\"Toolbar\",\"id\":\"p1217\",\"attributes\":{\"tools\":[{\"type\":\"object\",\"name\":\"WheelZoomTool\",\"id\":\"p1206\",\"attributes\":{\"tags\":[\"hv_created\"],\"renderers\":\"auto\",\"zoom_together\":\"none\"}},{\"type\":\"object\",\"name\":\"HoverTool\",\"id\":\"p1207\",\"attributes\":{\"tags\":[\"hv_created\"],\"renderers\":[{\"id\":\"p1250\"}],\"tooltips\":[[\"Age Category\",\"@{Age_Category}\"],[\"Number of customers\",\"@{Number_of_customers}\"]]}},{\"type\":\"object\",\"name\":\"SaveTool\",\"id\":\"p1230\"},{\"type\":\"object\",\"name\":\"PanTool\",\"id\":\"p1231\"},{\"type\":\"object\",\"name\":\"BoxZoomTool\",\"id\":\"p1232\",\"attributes\":{\"overlay\":{\"type\":\"object\",\"name\":\"BoxAnnotation\",\"id\":\"p1233\",\"attributes\":{\"syncable\":false,\"line_color\":\"black\",\"line_alpha\":1.0,\"line_width\":2,\"line_dash\":[4,4],\"fill_color\":\"lightgrey\",\"fill_alpha\":0.5,\"level\":\"overlay\",\"visible\":false,\"left\":{\"type\":\"number\",\"value\":\"nan\"},\"right\":{\"type\":\"number\",\"value\":\"nan\"},\"top\":{\"type\":\"number\",\"value\":\"nan\"},\"bottom\":{\"type\":\"number\",\"value\":\"nan\"},\"left_units\":\"canvas\",\"right_units\":\"canvas\",\"top_units\":\"canvas\",\"bottom_units\":\"canvas\",\"handles\":{\"type\":\"object\",\"name\":\"BoxInteractionHandles\",\"id\":\"p1239\",\"attributes\":{\"all\":{\"type\":\"object\",\"name\":\"AreaVisuals\",\"id\":\"p1238\",\"attributes\":{\"fill_color\":\"white\",\"hover_fill_color\":\"lightgray\"}}}}}}}},{\"type\":\"object\",\"name\":\"ResetTool\",\"id\":\"p1240\"}],\"active_drag\":{\"id\":\"p1231\"},\"active_scroll\":{\"id\":\"p1206\"}}},\"left\":[{\"type\":\"object\",\"name\":\"LinearAxis\",\"id\":\"p1225\",\"attributes\":{\"ticker\":{\"type\":\"object\",\"name\":\"BasicTicker\",\"id\":\"p1226\",\"attributes\":{\"mantissas\":[1,2,5]}},\"formatter\":{\"type\":\"object\",\"name\":\"BasicTickFormatter\",\"id\":\"p1227\"},\"axis_label\":\"Number of customers\",\"major_label_policy\":{\"type\":\"object\",\"name\":\"AllLabels\",\"id\":\"p1228\"}}}],\"below\":[{\"type\":\"object\",\"name\":\"CategoricalAxis\",\"id\":\"p1220\",\"attributes\":{\"ticker\":{\"type\":\"object\",\"name\":\"CategoricalTicker\",\"id\":\"p1221\"},\"formatter\":{\"type\":\"object\",\"name\":\"CategoricalTickFormatter\",\"id\":\"p1222\"},\"axis_label\":\"Age Category\",\"major_label_orientation\":1.5707963267948966,\"major_label_policy\":{\"type\":\"object\",\"name\":\"AllLabels\",\"id\":\"p1223\"}}}],\"center\":[{\"type\":\"object\",\"name\":\"Grid\",\"id\":\"p1224\",\"attributes\":{\"axis\":{\"id\":\"p1220\"},\"grid_line_color\":null}},{\"type\":\"object\",\"name\":\"Grid\",\"id\":\"p1229\",\"attributes\":{\"dimension\":1,\"axis\":{\"id\":\"p1225\"},\"grid_line_color\":null}}],\"min_border_top\":10,\"min_border_bottom\":10,\"min_border_left\":10,\"min_border_right\":10,\"output_backend\":\"webgl\"}},{\"type\":\"object\",\"name\":\"Spacer\",\"id\":\"p1255\",\"attributes\":{\"name\":\"HSpacer01188\",\"stylesheets\":[\"\\n:host(.pn-loading):before, .pn-loading:before {\\n  background-color: #c3c3c3;\\n  mask-size: auto calc(min(50%, 400px));\\n  -webkit-mask-size: auto calc(min(50%, 400px));\\n}\",{\"id\":\"p1199\"},{\"id\":\"p1197\"},{\"id\":\"p1198\"}],\"margin\":0,\"sizing_mode\":\"stretch_width\",\"align\":\"start\"}}]}}],\"defs\":[{\"type\":\"model\",\"name\":\"ReactiveHTML1\"},{\"type\":\"model\",\"name\":\"FlexBox1\",\"properties\":[{\"name\":\"align_content\",\"kind\":\"Any\",\"default\":\"flex-start\"},{\"name\":\"align_items\",\"kind\":\"Any\",\"default\":\"flex-start\"},{\"name\":\"flex_direction\",\"kind\":\"Any\",\"default\":\"row\"},{\"name\":\"flex_wrap\",\"kind\":\"Any\",\"default\":\"wrap\"},{\"name\":\"gap\",\"kind\":\"Any\",\"default\":\"\"},{\"name\":\"justify_content\",\"kind\":\"Any\",\"default\":\"flex-start\"}]},{\"type\":\"model\",\"name\":\"FloatPanel1\",\"properties\":[{\"name\":\"config\",\"kind\":\"Any\",\"default\":{\"type\":\"map\"}},{\"name\":\"contained\",\"kind\":\"Any\",\"default\":true},{\"name\":\"position\",\"kind\":\"Any\",\"default\":\"right-top\"},{\"name\":\"offsetx\",\"kind\":\"Any\",\"default\":null},{\"name\":\"offsety\",\"kind\":\"Any\",\"default\":null},{\"name\":\"theme\",\"kind\":\"Any\",\"default\":\"primary\"},{\"name\":\"status\",\"kind\":\"Any\",\"default\":\"normalized\"}]},{\"type\":\"model\",\"name\":\"GridStack1\",\"properties\":[{\"name\":\"mode\",\"kind\":\"Any\",\"default\":\"warn\"},{\"name\":\"ncols\",\"kind\":\"Any\",\"default\":null},{\"name\":\"nrows\",\"kind\":\"Any\",\"default\":null},{\"name\":\"allow_resize\",\"kind\":\"Any\",\"default\":true},{\"name\":\"allow_drag\",\"kind\":\"Any\",\"default\":true},{\"name\":\"state\",\"kind\":\"Any\",\"default\":[]}]},{\"type\":\"model\",\"name\":\"drag1\",\"properties\":[{\"name\":\"slider_width\",\"kind\":\"Any\",\"default\":5},{\"name\":\"slider_color\",\"kind\":\"Any\",\"default\":\"black\"},{\"name\":\"value\",\"kind\":\"Any\",\"default\":50}]},{\"type\":\"model\",\"name\":\"click1\",\"properties\":[{\"name\":\"terminal_output\",\"kind\":\"Any\",\"default\":\"\"},{\"name\":\"debug_name\",\"kind\":\"Any\",\"default\":\"\"},{\"name\":\"clears\",\"kind\":\"Any\",\"default\":0}]},{\"type\":\"model\",\"name\":\"FastWrapper1\",\"properties\":[{\"name\":\"object\",\"kind\":\"Any\",\"default\":null},{\"name\":\"style\",\"kind\":\"Any\",\"default\":null}]},{\"type\":\"model\",\"name\":\"NotificationAreaBase1\",\"properties\":[{\"name\":\"js_events\",\"kind\":\"Any\",\"default\":{\"type\":\"map\"}},{\"name\":\"position\",\"kind\":\"Any\",\"default\":\"bottom-right\"},{\"name\":\"_clear\",\"kind\":\"Any\",\"default\":0}]},{\"type\":\"model\",\"name\":\"NotificationArea1\",\"properties\":[{\"name\":\"js_events\",\"kind\":\"Any\",\"default\":{\"type\":\"map\"}},{\"name\":\"notifications\",\"kind\":\"Any\",\"default\":[]},{\"name\":\"position\",\"kind\":\"Any\",\"default\":\"bottom-right\"},{\"name\":\"_clear\",\"kind\":\"Any\",\"default\":0},{\"name\":\"types\",\"kind\":\"Any\",\"default\":[{\"type\":\"map\",\"entries\":[[\"type\",\"warning\"],[\"background\",\"#ffc107\"],[\"icon\",{\"type\":\"map\",\"entries\":[[\"className\",\"fas fa-exclamation-triangle\"],[\"tagName\",\"i\"],[\"color\",\"white\"]]}]]},{\"type\":\"map\",\"entries\":[[\"type\",\"info\"],[\"background\",\"#007bff\"],[\"icon\",{\"type\":\"map\",\"entries\":[[\"className\",\"fas fa-info-circle\"],[\"tagName\",\"i\"],[\"color\",\"white\"]]}]]}]}]},{\"type\":\"model\",\"name\":\"Notification\",\"properties\":[{\"name\":\"background\",\"kind\":\"Any\",\"default\":null},{\"name\":\"duration\",\"kind\":\"Any\",\"default\":3000},{\"name\":\"icon\",\"kind\":\"Any\",\"default\":null},{\"name\":\"message\",\"kind\":\"Any\",\"default\":\"\"},{\"name\":\"notification_type\",\"kind\":\"Any\",\"default\":null},{\"name\":\"_destroyed\",\"kind\":\"Any\",\"default\":false}]},{\"type\":\"model\",\"name\":\"TemplateActions1\",\"properties\":[{\"name\":\"open_modal\",\"kind\":\"Any\",\"default\":0},{\"name\":\"close_modal\",\"kind\":\"Any\",\"default\":0}]},{\"type\":\"model\",\"name\":\"BootstrapTemplateActions1\",\"properties\":[{\"name\":\"open_modal\",\"kind\":\"Any\",\"default\":0},{\"name\":\"close_modal\",\"kind\":\"Any\",\"default\":0}]},{\"type\":\"model\",\"name\":\"TemplateEditor1\",\"properties\":[{\"name\":\"layout\",\"kind\":\"Any\",\"default\":[]}]},{\"type\":\"model\",\"name\":\"MaterialTemplateActions1\",\"properties\":[{\"name\":\"open_modal\",\"kind\":\"Any\",\"default\":0},{\"name\":\"close_modal\",\"kind\":\"Any\",\"default\":0}]},{\"type\":\"model\",\"name\":\"ReactiveESM1\"},{\"type\":\"model\",\"name\":\"JSComponent1\"},{\"type\":\"model\",\"name\":\"ReactComponent1\"},{\"type\":\"model\",\"name\":\"AnyWidgetComponent1\"},{\"type\":\"model\",\"name\":\"request_value1\",\"properties\":[{\"name\":\"fill\",\"kind\":\"Any\",\"default\":\"none\"},{\"name\":\"_synced\",\"kind\":\"Any\",\"default\":null},{\"name\":\"_request_sync\",\"kind\":\"Any\",\"default\":0}]}]}};\n",
       "  var render_items = [{\"docid\":\"aca2301d-8ff3-4c15-b7f8-2e1284f7f023\",\"roots\":{\"p1196\":\"c0450032-e600-47d5-9467-5d85431b1d68\"},\"root_ids\":[\"p1196\"]}];\n",
       "  var docs = Object.values(docs_json)\n",
       "  if (!docs) {\n",
       "    return\n",
       "  }\n",
       "  const py_version = docs[0].version.replace('rc', '-rc.').replace('.dev', '-dev.')\n",
       "  async function embed_document(root) {\n",
       "    var Bokeh = get_bokeh(root)\n",
       "    await Bokeh.embed.embed_items_notebook(docs_json, render_items);\n",
       "    for (const render_item of render_items) {\n",
       "      for (const root_id of render_item.root_ids) {\n",
       "\tconst id_el = document.getElementById(root_id)\n",
       "\tif (id_el.children.length && id_el.children[0].hasAttribute('data-root-id')) {\n",
       "\t  const root_el = id_el.children[0]\n",
       "\t  root_el.id = root_el.id + '-rendered'\n",
       "\t  for (const child of root_el.children) {\n",
       "            // Ensure JupyterLab does not capture keyboard shortcuts\n",
       "            // see: https://jupyterlab.readthedocs.io/en/4.1.x/extension/notebook.html#keyboard-interaction-model\n",
       "\t    child.setAttribute('data-lm-suppress-shortcuts', 'true')\n",
       "\t  }\n",
       "\t}\n",
       "      }\n",
       "    }\n",
       "  }\n",
       "  function get_bokeh(root) {\n",
       "    if (root.Bokeh === undefined) {\n",
       "      return null\n",
       "    } else if (root.Bokeh.version !== py_version) {\n",
       "      if (root.Bokeh.versions === undefined || !root.Bokeh.versions.has(py_version)) {\n",
       "\treturn null\n",
       "      }\n",
       "      return root.Bokeh.versions.get(py_version);\n",
       "    } else if (root.Bokeh.version === py_version) {\n",
       "      return root.Bokeh\n",
       "    }\n",
       "    return null\n",
       "  }\n",
       "  function is_loaded(root) {\n",
       "    var Bokeh = get_bokeh(root)\n",
       "    return (Bokeh != null && Bokeh.Panel !== undefined)\n",
       "  }\n",
       "  if (is_loaded(root)) {\n",
       "    embed_document(root);\n",
       "  } else {\n",
       "    var attempts = 0;\n",
       "    var timer = setInterval(function(root) {\n",
       "      if (is_loaded(root)) {\n",
       "        clearInterval(timer);\n",
       "        embed_document(root);\n",
       "      } else if (document.readyState == \"complete\") {\n",
       "        attempts++;\n",
       "        if (attempts > 200) {\n",
       "          clearInterval(timer);\n",
       "\t  var Bokeh = get_bokeh(root)\n",
       "\t  if (Bokeh == null || Bokeh.Panel == null) {\n",
       "            console.warn(\"Panel: ERROR: Unable to run Panel code because Bokeh or Panel library is missing\");\n",
       "\t  } else {\n",
       "\t    console.warn(\"Panel: WARNING: Attempting to render but not all required libraries could be resolved.\")\n",
       "\t    embed_document(root)\n",
       "\t  }\n",
       "        }\n",
       "      }\n",
       "    }, 25, root)\n",
       "  }\n",
       "})(window);</script>"
      ],
      "text/plain": [
       ":Bars   [Age Category]   (Number of customers)"
      ]
     },
     "execution_count": 21,
     "metadata": {
      "application/vnd.holoviews_exec.v0+json": {
       "id": "p1196"
      }
     },
     "output_type": "execute_result"
    }
   ],
   "source": [
    "age_df = customers_df.group_by(pl.col(\"age_category\")).len()\n",
    "age_df = age_df.drop_nulls().rename(\n",
    "    {\"age_category\": \"Age Category\", \"len\": \"Number of customers\"}\n",
    ")\n",
    "age_df = age_df.filter(pl.col(\"Age Category\") != \"Undefined\")\n",
    "age_df.hvplot.bar(\n",
    "    x=\"Age Category\",\n",
    "    y=\"Number of customers\",\n",
    "    rot=90,\n",
    "    color=\"purple\",\n",
    "    title=\"Library customer age group\",\n",
    ")"
   ]
  },
  {
   "cell_type": "markdown",
   "id": "6d5a7b47-b5a1-4b13-a3db-f193d2ff1312",
   "metadata": {},
   "source": [
    "By analyzing categorical columns of customers we can conclude that:\n",
    "1) Looking at the gender there are almost even number of male and female customers. 10% of the data are `nulls` or unknown values.\n",
    "2) Education seems to be equally distributed among customers\n",
    "3) The same applies to the occupation\n",
    "4) By looking at the age group there are dominantly adult renters while young are around 10%.\n",
    "\n",
    "It can be interesting to see which of these groups are late to return the books or if there is even a connection."
   ]
  },
  {
   "cell_type": "code",
   "execution_count": 22,
   "id": "46c22b69-be81-428e-ab4a-3f3e5a8cdccb",
   "metadata": {},
   "outputs": [
    {
     "data": {},
     "metadata": {},
     "output_type": "display_data"
    },
    {
     "data": {
      "application/vnd.holoviews_exec.v0+json": "",
      "text/html": [
       "<div id='p1260'>\n",
       "  <div id=\"d02738c7-74b0-4eb8-afe8-d468333873d1\" data-root-id=\"p1260\" style=\"display: contents;\"></div>\n",
       "</div>\n",
       "<script type=\"application/javascript\">(function(root) {\n",
       "  var docs_json = {\"26108de2-c4de-4e7c-a7d6-b0dc56043600\":{\"version\":\"3.6.0\",\"title\":\"Bokeh Application\",\"roots\":[{\"type\":\"object\",\"name\":\"Row\",\"id\":\"p1260\",\"attributes\":{\"name\":\"Row01276\",\"tags\":[\"embedded\"],\"stylesheets\":[\"\\n:host(.pn-loading):before, .pn-loading:before {\\n  background-color: #c3c3c3;\\n  mask-size: auto calc(min(50%, 400px));\\n  -webkit-mask-size: auto calc(min(50%, 400px));\\n}\",{\"type\":\"object\",\"name\":\"ImportedStyleSheet\",\"id\":\"p1263\",\"attributes\":{\"url\":\"https://cdn.holoviz.org/panel/1.5.3/dist/css/loading.css\"}},{\"type\":\"object\",\"name\":\"ImportedStyleSheet\",\"id\":\"p1321\",\"attributes\":{\"url\":\"https://cdn.holoviz.org/panel/1.5.3/dist/css/listpanel.css\"}},{\"type\":\"object\",\"name\":\"ImportedStyleSheet\",\"id\":\"p1261\",\"attributes\":{\"url\":\"https://cdn.holoviz.org/panel/1.5.3/dist/bundled/theme/default.css\"}},{\"type\":\"object\",\"name\":\"ImportedStyleSheet\",\"id\":\"p1262\",\"attributes\":{\"url\":\"https://cdn.holoviz.org/panel/1.5.3/dist/bundled/theme/native.css\"}}],\"min_width\":700,\"margin\":0,\"sizing_mode\":\"stretch_width\",\"align\":\"start\",\"children\":[{\"type\":\"object\",\"name\":\"Spacer\",\"id\":\"p1264\",\"attributes\":{\"name\":\"HSpacer01283\",\"stylesheets\":[\"\\n:host(.pn-loading):before, .pn-loading:before {\\n  background-color: #c3c3c3;\\n  mask-size: auto calc(min(50%, 400px));\\n  -webkit-mask-size: auto calc(min(50%, 400px));\\n}\",{\"id\":\"p1263\"},{\"id\":\"p1261\"},{\"id\":\"p1262\"}],\"margin\":0,\"sizing_mode\":\"stretch_width\",\"align\":\"start\"}},{\"type\":\"object\",\"name\":\"Figure\",\"id\":\"p1272\",\"attributes\":{\"width\":700,\"height\":300,\"margin\":[5,10],\"sizing_mode\":\"fixed\",\"align\":\"start\",\"x_range\":{\"type\":\"object\",\"name\":\"Range1d\",\"id\":\"p1265\",\"attributes\":{\"tags\":[[[\"pages\",null]],[]],\"start\":-99.28571428571428,\"end\":1149.2857142857142,\"reset_start\":-99.28571428571428,\"reset_end\":1149.2857142857142}},\"y_range\":{\"type\":\"object\",\"name\":\"Range1d\",\"id\":\"p1266\",\"attributes\":{\"tags\":[[[\"Count\",null]],{\"type\":\"map\",\"entries\":[[\"invert_yaxis\",false],[\"autorange\",false]]}],\"end\":19.8,\"reset_start\":0.0,\"reset_end\":19.8}},\"x_scale\":{\"type\":\"object\",\"name\":\"LinearScale\",\"id\":\"p1282\"},\"y_scale\":{\"type\":\"object\",\"name\":\"LinearScale\",\"id\":\"p1283\"},\"title\":{\"type\":\"object\",\"name\":\"Title\",\"id\":\"p1275\",\"attributes\":{\"text\":\"Book pages distribution\",\"text_color\":\"black\",\"text_font_size\":\"12pt\"}},\"renderers\":[{\"type\":\"object\",\"name\":\"GlyphRenderer\",\"id\":\"p1314\",\"attributes\":{\"data_source\":{\"type\":\"object\",\"name\":\"ColumnDataSource\",\"id\":\"p1305\",\"attributes\":{\"selected\":{\"type\":\"object\",\"name\":\"Selection\",\"id\":\"p1306\",\"attributes\":{\"indices\":[],\"line_indices\":[]}},\"selection_policy\":{\"type\":\"object\",\"name\":\"UnionRenderers\",\"id\":\"p1307\"},\"data\":{\"type\":\"map\",\"entries\":[[\"top\",{\"type\":\"ndarray\",\"array\":{\"type\":\"bytes\",\"data\":\"AAAAAAAAAAAAAAAAAAAAAAAAAAAAAAAAAAAAAAEAAAAAAAAAAAAAAAEAAAAAAAAAAQAAAAAAAAACAAAAAQAAAAgAAAAGAAAACgAAAAgAAAAKAAAABQAAAAcAAAALAAAADAAAABIAAAAMAAAACwAAAA8AAAALAAAACwAAAA4AAAAGAAAAEAAAAAgAAAAFAAAABwAAAAUAAAACAAAABAAAAAIAAAADAAAABQAAAAAAAAABAAAAAAAAAAAAAAAAAAAAAAAAAAAAAAA=\"},\"shape\":[50],\"dtype\":\"int32\",\"order\":\"little\"}],[\"left\",{\"type\":\"ndarray\",\"array\":{\"type\":\"bytes\",\"data\":\"AAAAAAAAScAAAAAAAAA7wAAAAAAAABDAAAAAAAAAM0AAAAAAAABFQAAAAAAAQFBAAAAAAAAAVkAAAAAAAMBbQAAAAAAAwGBAAAAAAACgY0AAAAAAAIBmQAAAAAAAYGlAAAAAAABAbEAAAAAAACBvQAAAAAAAAHFAAAAAAABwckAAAAAAAOBzQAAAAAAAUHVAAAAAAADAdkAAAAAAADB4QAAAAAAAoHlAAAAAAAAQe0AAAAAAAIB8QAAAAAAA8H1AAAAAAABgf0AAAAAAAGiAQAAAAAAAIIFAAAAAAADYgUAAAAAAAJCCQAAAAAAASINAAAAAAAAAhEAAAAAAALiEQAAAAAAAcIVAAAAAAAAohkAAAAAAAOCGQAAAAAAAmIdAAAAAAABQiEAAAAAAAAiJQAAAAAAAwIlAAAAAAAB4ikAAAAAAADCLQAAAAAAA6ItAAAAAAACgjEAAAAAAAFiNQAAAAAAAEI5AAAAAAADIjkAAAAAAAICPQAAAAAAAHJBAAAAAAAB4kEAAAAAAANSQQA==\"},\"shape\":[50],\"dtype\":\"float64\",\"order\":\"little\"}],[\"right\",{\"type\":\"ndarray\",\"array\":{\"type\":\"bytes\",\"data\":\"AAAAAAAAO8AAAAAAAAAQwAAAAAAAADNAAAAAAAAARUAAAAAAAEBQQAAAAAAAAFZAAAAAAADAW0AAAAAAAMBgQAAAAAAAoGNAAAAAAACAZkAAAAAAAGBpQAAAAAAAQGxAAAAAAAAgb0AAAAAAAABxQAAAAAAAcHJAAAAAAADgc0AAAAAAAFB1QAAAAAAAwHZAAAAAAAAweEAAAAAAAKB5QAAAAAAAEHtAAAAAAACAfEAAAAAAAPB9QAAAAAAAYH9AAAAAAABogEAAAAAAACCBQAAAAAAA2IFAAAAAAACQgkAAAAAAAEiDQAAAAAAAAIRAAAAAAAC4hEAAAAAAAHCFQAAAAAAAKIZAAAAAAADghkAAAAAAAJiHQAAAAAAAUIhAAAAAAAAIiUAAAAAAAMCJQAAAAAAAeIpAAAAAAAAwi0AAAAAAAOiLQAAAAAAAoIxAAAAAAABYjUAAAAAAABCOQAAAAAAAyI5AAAAAAACAj0AAAAAAAByQQAAAAAAAeJBAAAAAAADUkEAAAAAAADCRQA==\"},\"shape\":[50],\"dtype\":\"float64\",\"order\":\"little\"}],[\"pages\",{\"type\":\"ndarray\",\"array\":{\"type\":\"bytes\",\"data\":\"AAAAAABAQ8AAAAAAAAAvwAAAAAAAAB5AAAAAAACAPkAAAAAAAMBKQAAAAAAAIFNAAAAAAADgWEAAAAAAAKBeQAAAAAAAMGJAAAAAAAAQZUAAAAAAAPBnQAAAAAAA0GpAAAAAAACwbUAAAAAAAEhwQAAAAAAAuHFAAAAAAAAoc0AAAAAAAJh0QAAAAAAACHZAAAAAAAB4d0AAAAAAAOh4QAAAAAAAWHpAAAAAAADIe0AAAAAAADh9QAAAAAAAqH5AAAAAAAAMgEAAAAAAAMSAQAAAAAAAfIFAAAAAAAA0gkAAAAAAAOyCQAAAAAAApINAAAAAAABchEAAAAAAABSFQAAAAAAAzIVAAAAAAACEhkAAAAAAADyHQAAAAAAA9IdAAAAAAACsiEAAAAAAAGSJQAAAAAAAHIpAAAAAAADUikAAAAAAAIyLQAAAAAAARIxAAAAAAAD8jEAAAAAAALSNQAAAAAAAbI5AAAAAAAAkj0AAAAAAANyPQAAAAAAASpBAAAAAAACmkEAAAAAAAAKRQA==\"},\"shape\":[50],\"dtype\":\"float64\",\"order\":\"little\"}],[\"pages_count\",{\"type\":\"ndarray\",\"array\":{\"type\":\"bytes\",\"data\":\"AAAAAAAAAAAAAAAAAAAAAAAAAAAAAAAAAAAAAAEAAAAAAAAAAAAAAAEAAAAAAAAAAQAAAAAAAAACAAAAAQAAAAgAAAAGAAAACgAAAAgAAAAKAAAABQAAAAcAAAALAAAADAAAABIAAAAMAAAACwAAAA8AAAALAAAACwAAAA4AAAAGAAAAEAAAAAgAAAAFAAAABwAAAAUAAAACAAAABAAAAAIAAAADAAAABQAAAAAAAAABAAAAAAAAAAAAAAAAAAAAAAAAAAAAAAA=\"},\"shape\":[50],\"dtype\":\"int32\",\"order\":\"little\"}]]}}},\"view\":{\"type\":\"object\",\"name\":\"CDSView\",\"id\":\"p1315\",\"attributes\":{\"filter\":{\"type\":\"object\",\"name\":\"AllIndices\",\"id\":\"p1316\"}}},\"glyph\":{\"type\":\"object\",\"name\":\"Quad\",\"id\":\"p1311\",\"attributes\":{\"tags\":[\"apply_ranges\"],\"left\":{\"type\":\"field\",\"field\":\"left\"},\"right\":{\"type\":\"field\",\"field\":\"right\"},\"bottom\":{\"type\":\"value\",\"value\":0},\"top\":{\"type\":\"field\",\"field\":\"top\"},\"fill_color\":{\"type\":\"value\",\"value\":\"#30a2da\"},\"hatch_color\":{\"type\":\"value\",\"value\":\"#30a2da\"}}},\"selection_glyph\":{\"type\":\"object\",\"name\":\"Quad\",\"id\":\"p1317\",\"attributes\":{\"tags\":[\"apply_ranges\"],\"left\":{\"type\":\"field\",\"field\":\"left\"},\"right\":{\"type\":\"field\",\"field\":\"right\"},\"bottom\":{\"type\":\"value\",\"value\":0},\"top\":{\"type\":\"field\",\"field\":\"top\"},\"line_color\":{\"type\":\"value\",\"value\":\"black\"},\"line_alpha\":{\"type\":\"value\",\"value\":1.0},\"line_width\":{\"type\":\"value\",\"value\":1},\"line_join\":{\"type\":\"value\",\"value\":\"bevel\"},\"line_cap\":{\"type\":\"value\",\"value\":\"butt\"},\"line_dash\":{\"type\":\"value\",\"value\":[]},\"line_dash_offset\":{\"type\":\"value\",\"value\":0},\"fill_color\":{\"type\":\"value\",\"value\":\"#30a2da\"},\"fill_alpha\":{\"type\":\"value\",\"value\":1.0},\"hatch_color\":{\"type\":\"value\",\"value\":\"#30a2da\"},\"hatch_alpha\":{\"type\":\"value\",\"value\":1.0},\"hatch_scale\":{\"type\":\"value\",\"value\":12.0},\"hatch_pattern\":{\"type\":\"value\",\"value\":null},\"hatch_weight\":{\"type\":\"value\",\"value\":1.0}}},\"nonselection_glyph\":{\"type\":\"object\",\"name\":\"Quad\",\"id\":\"p1312\",\"attributes\":{\"tags\":[\"apply_ranges\"],\"left\":{\"type\":\"field\",\"field\":\"left\"},\"right\":{\"type\":\"field\",\"field\":\"right\"},\"bottom\":{\"type\":\"value\",\"value\":0},\"top\":{\"type\":\"field\",\"field\":\"top\"},\"line_alpha\":{\"type\":\"value\",\"value\":0.1},\"fill_color\":{\"type\":\"value\",\"value\":\"#30a2da\"},\"fill_alpha\":{\"type\":\"value\",\"value\":0.1},\"hatch_color\":{\"type\":\"value\",\"value\":\"#30a2da\"},\"hatch_alpha\":{\"type\":\"value\",\"value\":0.1}}},\"muted_glyph\":{\"type\":\"object\",\"name\":\"Quad\",\"id\":\"p1313\",\"attributes\":{\"tags\":[\"apply_ranges\"],\"left\":{\"type\":\"field\",\"field\":\"left\"},\"right\":{\"type\":\"field\",\"field\":\"right\"},\"bottom\":{\"type\":\"value\",\"value\":0},\"top\":{\"type\":\"field\",\"field\":\"top\"},\"line_alpha\":{\"type\":\"value\",\"value\":0.2},\"fill_color\":{\"type\":\"value\",\"value\":\"#30a2da\"},\"fill_alpha\":{\"type\":\"value\",\"value\":0.2},\"hatch_color\":{\"type\":\"value\",\"value\":\"#30a2da\"},\"hatch_alpha\":{\"type\":\"value\",\"value\":0.2}}}}}],\"toolbar\":{\"type\":\"object\",\"name\":\"Toolbar\",\"id\":\"p1281\",\"attributes\":{\"tools\":[{\"type\":\"object\",\"name\":\"WheelZoomTool\",\"id\":\"p1270\",\"attributes\":{\"tags\":[\"hv_created\"],\"renderers\":\"auto\",\"zoom_together\":\"none\"}},{\"type\":\"object\",\"name\":\"HoverTool\",\"id\":\"p1271\",\"attributes\":{\"tags\":[\"hv_created\"],\"renderers\":[{\"id\":\"p1314\"}],\"tooltips\":[[\"pages\",\"@{pages}\"],[\"Count\",\"@{pages_count}\"]]}},{\"type\":\"object\",\"name\":\"SaveTool\",\"id\":\"p1294\"},{\"type\":\"object\",\"name\":\"PanTool\",\"id\":\"p1295\"},{\"type\":\"object\",\"name\":\"BoxZoomTool\",\"id\":\"p1296\",\"attributes\":{\"overlay\":{\"type\":\"object\",\"name\":\"BoxAnnotation\",\"id\":\"p1297\",\"attributes\":{\"syncable\":false,\"line_color\":\"black\",\"line_alpha\":1.0,\"line_width\":2,\"line_dash\":[4,4],\"fill_color\":\"lightgrey\",\"fill_alpha\":0.5,\"level\":\"overlay\",\"visible\":false,\"left\":{\"type\":\"number\",\"value\":\"nan\"},\"right\":{\"type\":\"number\",\"value\":\"nan\"},\"top\":{\"type\":\"number\",\"value\":\"nan\"},\"bottom\":{\"type\":\"number\",\"value\":\"nan\"},\"left_units\":\"canvas\",\"right_units\":\"canvas\",\"top_units\":\"canvas\",\"bottom_units\":\"canvas\",\"handles\":{\"type\":\"object\",\"name\":\"BoxInteractionHandles\",\"id\":\"p1303\",\"attributes\":{\"all\":{\"type\":\"object\",\"name\":\"AreaVisuals\",\"id\":\"p1302\",\"attributes\":{\"fill_color\":\"white\",\"hover_fill_color\":\"lightgray\"}}}}}}}},{\"type\":\"object\",\"name\":\"ResetTool\",\"id\":\"p1304\"}],\"active_drag\":{\"id\":\"p1295\"},\"active_scroll\":{\"id\":\"p1270\"}}},\"left\":[{\"type\":\"object\",\"name\":\"LinearAxis\",\"id\":\"p1289\",\"attributes\":{\"ticker\":{\"type\":\"object\",\"name\":\"BasicTicker\",\"id\":\"p1290\",\"attributes\":{\"mantissas\":[1,2,5]}},\"formatter\":{\"type\":\"object\",\"name\":\"BasicTickFormatter\",\"id\":\"p1291\"},\"axis_label\":\"\",\"major_label_policy\":{\"type\":\"object\",\"name\":\"AllLabels\",\"id\":\"p1292\"}}}],\"below\":[{\"type\":\"object\",\"name\":\"LinearAxis\",\"id\":\"p1284\",\"attributes\":{\"ticker\":{\"type\":\"object\",\"name\":\"BasicTicker\",\"id\":\"p1285\",\"attributes\":{\"mantissas\":[1,2,5]}},\"formatter\":{\"type\":\"object\",\"name\":\"BasicTickFormatter\",\"id\":\"p1286\"},\"axis_label\":\"pages\",\"major_label_policy\":{\"type\":\"object\",\"name\":\"AllLabels\",\"id\":\"p1287\"}}}],\"center\":[{\"type\":\"object\",\"name\":\"Grid\",\"id\":\"p1288\",\"attributes\":{\"axis\":{\"id\":\"p1284\"},\"grid_line_color\":null}},{\"type\":\"object\",\"name\":\"Grid\",\"id\":\"p1293\",\"attributes\":{\"dimension\":1,\"axis\":{\"id\":\"p1289\"},\"grid_line_color\":null}}],\"min_border_top\":10,\"min_border_bottom\":10,\"min_border_left\":10,\"min_border_right\":10,\"output_backend\":\"webgl\"}},{\"type\":\"object\",\"name\":\"Spacer\",\"id\":\"p1319\",\"attributes\":{\"name\":\"HSpacer01284\",\"stylesheets\":[\"\\n:host(.pn-loading):before, .pn-loading:before {\\n  background-color: #c3c3c3;\\n  mask-size: auto calc(min(50%, 400px));\\n  -webkit-mask-size: auto calc(min(50%, 400px));\\n}\",{\"id\":\"p1263\"},{\"id\":\"p1261\"},{\"id\":\"p1262\"}],\"margin\":0,\"sizing_mode\":\"stretch_width\",\"align\":\"start\"}}]}}],\"defs\":[{\"type\":\"model\",\"name\":\"ReactiveHTML1\"},{\"type\":\"model\",\"name\":\"FlexBox1\",\"properties\":[{\"name\":\"align_content\",\"kind\":\"Any\",\"default\":\"flex-start\"},{\"name\":\"align_items\",\"kind\":\"Any\",\"default\":\"flex-start\"},{\"name\":\"flex_direction\",\"kind\":\"Any\",\"default\":\"row\"},{\"name\":\"flex_wrap\",\"kind\":\"Any\",\"default\":\"wrap\"},{\"name\":\"gap\",\"kind\":\"Any\",\"default\":\"\"},{\"name\":\"justify_content\",\"kind\":\"Any\",\"default\":\"flex-start\"}]},{\"type\":\"model\",\"name\":\"FloatPanel1\",\"properties\":[{\"name\":\"config\",\"kind\":\"Any\",\"default\":{\"type\":\"map\"}},{\"name\":\"contained\",\"kind\":\"Any\",\"default\":true},{\"name\":\"position\",\"kind\":\"Any\",\"default\":\"right-top\"},{\"name\":\"offsetx\",\"kind\":\"Any\",\"default\":null},{\"name\":\"offsety\",\"kind\":\"Any\",\"default\":null},{\"name\":\"theme\",\"kind\":\"Any\",\"default\":\"primary\"},{\"name\":\"status\",\"kind\":\"Any\",\"default\":\"normalized\"}]},{\"type\":\"model\",\"name\":\"GridStack1\",\"properties\":[{\"name\":\"mode\",\"kind\":\"Any\",\"default\":\"warn\"},{\"name\":\"ncols\",\"kind\":\"Any\",\"default\":null},{\"name\":\"nrows\",\"kind\":\"Any\",\"default\":null},{\"name\":\"allow_resize\",\"kind\":\"Any\",\"default\":true},{\"name\":\"allow_drag\",\"kind\":\"Any\",\"default\":true},{\"name\":\"state\",\"kind\":\"Any\",\"default\":[]}]},{\"type\":\"model\",\"name\":\"drag1\",\"properties\":[{\"name\":\"slider_width\",\"kind\":\"Any\",\"default\":5},{\"name\":\"slider_color\",\"kind\":\"Any\",\"default\":\"black\"},{\"name\":\"value\",\"kind\":\"Any\",\"default\":50}]},{\"type\":\"model\",\"name\":\"click1\",\"properties\":[{\"name\":\"terminal_output\",\"kind\":\"Any\",\"default\":\"\"},{\"name\":\"debug_name\",\"kind\":\"Any\",\"default\":\"\"},{\"name\":\"clears\",\"kind\":\"Any\",\"default\":0}]},{\"type\":\"model\",\"name\":\"FastWrapper1\",\"properties\":[{\"name\":\"object\",\"kind\":\"Any\",\"default\":null},{\"name\":\"style\",\"kind\":\"Any\",\"default\":null}]},{\"type\":\"model\",\"name\":\"NotificationAreaBase1\",\"properties\":[{\"name\":\"js_events\",\"kind\":\"Any\",\"default\":{\"type\":\"map\"}},{\"name\":\"position\",\"kind\":\"Any\",\"default\":\"bottom-right\"},{\"name\":\"_clear\",\"kind\":\"Any\",\"default\":0}]},{\"type\":\"model\",\"name\":\"NotificationArea1\",\"properties\":[{\"name\":\"js_events\",\"kind\":\"Any\",\"default\":{\"type\":\"map\"}},{\"name\":\"notifications\",\"kind\":\"Any\",\"default\":[]},{\"name\":\"position\",\"kind\":\"Any\",\"default\":\"bottom-right\"},{\"name\":\"_clear\",\"kind\":\"Any\",\"default\":0},{\"name\":\"types\",\"kind\":\"Any\",\"default\":[{\"type\":\"map\",\"entries\":[[\"type\",\"warning\"],[\"background\",\"#ffc107\"],[\"icon\",{\"type\":\"map\",\"entries\":[[\"className\",\"fas fa-exclamation-triangle\"],[\"tagName\",\"i\"],[\"color\",\"white\"]]}]]},{\"type\":\"map\",\"entries\":[[\"type\",\"info\"],[\"background\",\"#007bff\"],[\"icon\",{\"type\":\"map\",\"entries\":[[\"className\",\"fas fa-info-circle\"],[\"tagName\",\"i\"],[\"color\",\"white\"]]}]]}]}]},{\"type\":\"model\",\"name\":\"Notification\",\"properties\":[{\"name\":\"background\",\"kind\":\"Any\",\"default\":null},{\"name\":\"duration\",\"kind\":\"Any\",\"default\":3000},{\"name\":\"icon\",\"kind\":\"Any\",\"default\":null},{\"name\":\"message\",\"kind\":\"Any\",\"default\":\"\"},{\"name\":\"notification_type\",\"kind\":\"Any\",\"default\":null},{\"name\":\"_destroyed\",\"kind\":\"Any\",\"default\":false}]},{\"type\":\"model\",\"name\":\"TemplateActions1\",\"properties\":[{\"name\":\"open_modal\",\"kind\":\"Any\",\"default\":0},{\"name\":\"close_modal\",\"kind\":\"Any\",\"default\":0}]},{\"type\":\"model\",\"name\":\"BootstrapTemplateActions1\",\"properties\":[{\"name\":\"open_modal\",\"kind\":\"Any\",\"default\":0},{\"name\":\"close_modal\",\"kind\":\"Any\",\"default\":0}]},{\"type\":\"model\",\"name\":\"TemplateEditor1\",\"properties\":[{\"name\":\"layout\",\"kind\":\"Any\",\"default\":[]}]},{\"type\":\"model\",\"name\":\"MaterialTemplateActions1\",\"properties\":[{\"name\":\"open_modal\",\"kind\":\"Any\",\"default\":0},{\"name\":\"close_modal\",\"kind\":\"Any\",\"default\":0}]},{\"type\":\"model\",\"name\":\"ReactiveESM1\"},{\"type\":\"model\",\"name\":\"JSComponent1\"},{\"type\":\"model\",\"name\":\"ReactComponent1\"},{\"type\":\"model\",\"name\":\"AnyWidgetComponent1\"},{\"type\":\"model\",\"name\":\"request_value1\",\"properties\":[{\"name\":\"fill\",\"kind\":\"Any\",\"default\":\"none\"},{\"name\":\"_synced\",\"kind\":\"Any\",\"default\":null},{\"name\":\"_request_sync\",\"kind\":\"Any\",\"default\":0}]}]}};\n",
       "  var render_items = [{\"docid\":\"26108de2-c4de-4e7c-a7d6-b0dc56043600\",\"roots\":{\"p1260\":\"d02738c7-74b0-4eb8-afe8-d468333873d1\"},\"root_ids\":[\"p1260\"]}];\n",
       "  var docs = Object.values(docs_json)\n",
       "  if (!docs) {\n",
       "    return\n",
       "  }\n",
       "  const py_version = docs[0].version.replace('rc', '-rc.').replace('.dev', '-dev.')\n",
       "  async function embed_document(root) {\n",
       "    var Bokeh = get_bokeh(root)\n",
       "    await Bokeh.embed.embed_items_notebook(docs_json, render_items);\n",
       "    for (const render_item of render_items) {\n",
       "      for (const root_id of render_item.root_ids) {\n",
       "\tconst id_el = document.getElementById(root_id)\n",
       "\tif (id_el.children.length && id_el.children[0].hasAttribute('data-root-id')) {\n",
       "\t  const root_el = id_el.children[0]\n",
       "\t  root_el.id = root_el.id + '-rendered'\n",
       "\t  for (const child of root_el.children) {\n",
       "            // Ensure JupyterLab does not capture keyboard shortcuts\n",
       "            // see: https://jupyterlab.readthedocs.io/en/4.1.x/extension/notebook.html#keyboard-interaction-model\n",
       "\t    child.setAttribute('data-lm-suppress-shortcuts', 'true')\n",
       "\t  }\n",
       "\t}\n",
       "      }\n",
       "    }\n",
       "  }\n",
       "  function get_bokeh(root) {\n",
       "    if (root.Bokeh === undefined) {\n",
       "      return null\n",
       "    } else if (root.Bokeh.version !== py_version) {\n",
       "      if (root.Bokeh.versions === undefined || !root.Bokeh.versions.has(py_version)) {\n",
       "\treturn null\n",
       "      }\n",
       "      return root.Bokeh.versions.get(py_version);\n",
       "    } else if (root.Bokeh.version === py_version) {\n",
       "      return root.Bokeh\n",
       "    }\n",
       "    return null\n",
       "  }\n",
       "  function is_loaded(root) {\n",
       "    var Bokeh = get_bokeh(root)\n",
       "    return (Bokeh != null && Bokeh.Panel !== undefined)\n",
       "  }\n",
       "  if (is_loaded(root)) {\n",
       "    embed_document(root);\n",
       "  } else {\n",
       "    var attempts = 0;\n",
       "    var timer = setInterval(function(root) {\n",
       "      if (is_loaded(root)) {\n",
       "        clearInterval(timer);\n",
       "        embed_document(root);\n",
       "      } else if (document.readyState == \"complete\") {\n",
       "        attempts++;\n",
       "        if (attempts > 200) {\n",
       "          clearInterval(timer);\n",
       "\t  var Bokeh = get_bokeh(root)\n",
       "\t  if (Bokeh == null || Bokeh.Panel == null) {\n",
       "            console.warn(\"Panel: ERROR: Unable to run Panel code because Bokeh or Panel library is missing\");\n",
       "\t  } else {\n",
       "\t    console.warn(\"Panel: WARNING: Attempting to render but not all required libraries could be resolved.\")\n",
       "\t    embed_document(root)\n",
       "\t  }\n",
       "        }\n",
       "      }\n",
       "    }, 25, root)\n",
       "  }\n",
       "})(window);</script>"
      ],
      "text/plain": [
       ":Histogram   [pages]   (Count)"
      ]
     },
     "execution_count": 22,
     "metadata": {
      "application/vnd.holoviews_exec.v0+json": {
       "id": "p1260"
      }
     },
     "output_type": "execute_result"
    }
   ],
   "source": [
    "books_df.hvplot.hist(\n",
    "    y=\"pages\", bins=50, bin_range=(-50, 1100), title=\"Book pages distribution\"\n",
    ")"
   ]
  },
  {
   "cell_type": "code",
   "execution_count": 23,
   "id": "ef8eccd4-2a42-40c4-9cfc-db2ea8c26af5",
   "metadata": {},
   "outputs": [
    {
     "data": {},
     "metadata": {},
     "output_type": "display_data"
    },
    {
     "data": {
      "application/vnd.holoviews_exec.v0+json": "",
      "text/html": [
       "<div id='p1328'>\n",
       "  <div id=\"df1886bd-f729-40f0-be25-f1a7424ae0f6\" data-root-id=\"p1328\" style=\"display: contents;\"></div>\n",
       "</div>\n",
       "<script type=\"application/javascript\">(function(root) {\n",
       "  var docs_json = {\"4927d377-8536-453e-9b65-c30ae687bd13\":{\"version\":\"3.6.0\",\"title\":\"Bokeh Application\",\"roots\":[{\"type\":\"object\",\"name\":\"Row\",\"id\":\"p1328\",\"attributes\":{\"name\":\"Row01372\",\"tags\":[\"embedded\"],\"stylesheets\":[\"\\n:host(.pn-loading):before, .pn-loading:before {\\n  background-color: #c3c3c3;\\n  mask-size: auto calc(min(50%, 400px));\\n  -webkit-mask-size: auto calc(min(50%, 400px));\\n}\",{\"type\":\"object\",\"name\":\"ImportedStyleSheet\",\"id\":\"p1331\",\"attributes\":{\"url\":\"https://cdn.holoviz.org/panel/1.5.3/dist/css/loading.css\"}},{\"type\":\"object\",\"name\":\"ImportedStyleSheet\",\"id\":\"p1389\",\"attributes\":{\"url\":\"https://cdn.holoviz.org/panel/1.5.3/dist/css/listpanel.css\"}},{\"type\":\"object\",\"name\":\"ImportedStyleSheet\",\"id\":\"p1329\",\"attributes\":{\"url\":\"https://cdn.holoviz.org/panel/1.5.3/dist/bundled/theme/default.css\"}},{\"type\":\"object\",\"name\":\"ImportedStyleSheet\",\"id\":\"p1330\",\"attributes\":{\"url\":\"https://cdn.holoviz.org/panel/1.5.3/dist/bundled/theme/native.css\"}}],\"min_width\":700,\"margin\":0,\"sizing_mode\":\"stretch_width\",\"align\":\"start\",\"children\":[{\"type\":\"object\",\"name\":\"Spacer\",\"id\":\"p1332\",\"attributes\":{\"name\":\"HSpacer01379\",\"stylesheets\":[\"\\n:host(.pn-loading):before, .pn-loading:before {\\n  background-color: #c3c3c3;\\n  mask-size: auto calc(min(50%, 400px));\\n  -webkit-mask-size: auto calc(min(50%, 400px));\\n}\",{\"id\":\"p1331\"},{\"id\":\"p1329\"},{\"id\":\"p1330\"}],\"margin\":0,\"sizing_mode\":\"stretch_width\",\"align\":\"start\"}},{\"type\":\"object\",\"name\":\"Figure\",\"id\":\"p1340\",\"attributes\":{\"width\":700,\"height\":300,\"margin\":[5,10],\"sizing_mode\":\"fixed\",\"align\":\"start\",\"x_range\":{\"type\":\"object\",\"name\":\"Range1d\",\"id\":\"p1333\",\"attributes\":{\"tags\":[[[\"price\",null]],[]],\"start\":-190.71428571428572,\"end\":840.7142857142857,\"reset_start\":-190.71428571428572,\"reset_end\":840.7142857142857}},\"y_range\":{\"type\":\"object\",\"name\":\"Range1d\",\"id\":\"p1334\",\"attributes\":{\"tags\":[[[\"Count\",null]],{\"type\":\"map\",\"entries\":[[\"invert_yaxis\",false],[\"autorange\",false]]}],\"end\":19.8,\"reset_start\":0.0,\"reset_end\":19.8}},\"x_scale\":{\"type\":\"object\",\"name\":\"LinearScale\",\"id\":\"p1350\"},\"y_scale\":{\"type\":\"object\",\"name\":\"LinearScale\",\"id\":\"p1351\"},\"title\":{\"type\":\"object\",\"name\":\"Title\",\"id\":\"p1343\",\"attributes\":{\"text\":\"Book prices distribution\",\"text_color\":\"black\",\"text_font_size\":\"12pt\"}},\"renderers\":[{\"type\":\"object\",\"name\":\"GlyphRenderer\",\"id\":\"p1382\",\"attributes\":{\"data_source\":{\"type\":\"object\",\"name\":\"ColumnDataSource\",\"id\":\"p1373\",\"attributes\":{\"selected\":{\"type\":\"object\",\"name\":\"Selection\",\"id\":\"p1374\",\"attributes\":{\"indices\":[],\"line_indices\":[]}},\"selection_policy\":{\"type\":\"object\",\"name\":\"UnionRenderers\",\"id\":\"p1375\"},\"data\":{\"type\":\"map\",\"entries\":[[\"top\",{\"type\":\"ndarray\",\"array\":{\"type\":\"bytes\",\"data\":\"AAAAAAAAAAAAAAAAAAAAAAAAAAAAAAAAAAAAAAAAAAAEAAAABgAAAAMAAAADAAAABQAAAAYAAAAIAAAADQAAAAQAAAAIAAAADgAAAAcAAAAFAAAABwAAABIAAAAKAAAAEAAAAAgAAAAQAAAACgAAAAsAAAAKAAAACgAAAAIAAAAEAAAABgAAAAIAAAAFAAAAAwAAAAUAAAAAAAAAAQAAAAIAAAABAAAABQAAAAAAAAAAAAAAAgAAAAAAAAAAAAAAAAAAAAAAAAA=\"},\"shape\":[50],\"dtype\":\"int32\",\"order\":\"little\"}],[\"left\",{\"type\":\"ndarray\",\"array\":{\"type\":\"bytes\",\"data\":\"AAAAAADAYsAAAAAAAGBgwAAAAAAAAFzAAAAAAABAV8AAAAAAAIBSwAAAAAAAgEvAAAAAAAAAQsAAAAAAAAAxwAAAAAAAAABAAAAAAAAANUAAAAAAAABEQAAAAAAAgE1AAAAAAACAU0AAAAAAAEBYQAAAAAAAAF1AAAAAAADgYEAAAAAAAEBjQAAAAAAAoGVAAAAAAAAAaEAAAAAAAGBqQAAAAAAAwGxAAAAAAAAgb0AAAAAAAMBwQAAAAAAA8HFAAAAAAAAgc0AAAAAAAFB0QAAAAAAAgHVAAAAAAACwdkAAAAAAAOB3QAAAAAAAEHlAAAAAAABAekAAAAAAAHB7QAAAAAAAoHxAAAAAAADQfUAAAAAAAAB/QAAAAAAAGIBAAAAAAACwgEAAAAAAAEiBQAAAAAAA4IFAAAAAAAB4gkAAAAAAABCDQAAAAAAAqINAAAAAAABAhEAAAAAAANiEQAAAAAAAcIVAAAAAAAAIhkAAAAAAAKCGQAAAAAAAOIdAAAAAAADQh0AAAAAAAGiIQA==\"},\"shape\":[50],\"dtype\":\"float64\",\"order\":\"little\"}],[\"right\",{\"type\":\"ndarray\",\"array\":{\"type\":\"bytes\",\"data\":\"AAAAAABgYMAAAAAAAABcwAAAAAAAQFfAAAAAAACAUsAAAAAAAIBLwAAAAAAAAELAAAAAAAAAMcAAAAAAAAAAQAAAAAAAADVAAAAAAAAAREAAAAAAAIBNQAAAAAAAgFNAAAAAAABAWEAAAAAAAABdQAAAAAAA4GBAAAAAAABAY0AAAAAAAKBlQAAAAAAAAGhAAAAAAABgakAAAAAAAMBsQAAAAAAAIG9AAAAAAADAcEAAAAAAAPBxQAAAAAAAIHNAAAAAAABQdEAAAAAAAIB1QAAAAAAAsHZAAAAAAADgd0AAAAAAABB5QAAAAAAAQHpAAAAAAABwe0AAAAAAAKB8QAAAAAAA0H1AAAAAAAAAf0AAAAAAABiAQAAAAAAAsIBAAAAAAABIgUAAAAAAAOCBQAAAAAAAeIJAAAAAAAAQg0AAAAAAAKiDQAAAAAAAQIRAAAAAAADYhEAAAAAAAHCFQAAAAAAACIZAAAAAAACghkAAAAAAADiHQAAAAAAA0IdAAAAAAABoiEAAAAAAAACJQA==\"},\"shape\":[50],\"dtype\":\"float64\",\"order\":\"little\"}],[\"price\",{\"type\":\"ndarray\",\"array\":{\"type\":\"bytes\",\"data\":\"AAAAAACQYcAAAAAAAGBewAAAAAAAoFnAAAAAAADgVMAAAAAAACBQwAAAAAAAwEbAAAAAAACAOsAAAAAAAAAewAAAAAAAACdAAAAAAACAPkAAAAAAAMBIQAAAAAAAIFFAAAAAAADgVUAAAAAAAKBaQAAAAAAAYF9AAAAAAAAQYkAAAAAAAHBkQAAAAAAA0GZAAAAAAAAwaUAAAAAAAJBrQAAAAAAA8G1AAAAAAAAocEAAAAAAAFhxQAAAAAAAiHJAAAAAAAC4c0AAAAAAAOh0QAAAAAAAGHZAAAAAAABId0AAAAAAAHh4QAAAAAAAqHlAAAAAAADYekAAAAAAAAh8QAAAAAAAOH1AAAAAAABofkAAAAAAAJh/QAAAAAAAZIBAAAAAAAD8gEAAAAAAAJSBQAAAAAAALIJAAAAAAADEgkAAAAAAAFyDQAAAAAAA9INAAAAAAACMhEAAAAAAACSFQAAAAAAAvIVAAAAAAABUhkAAAAAAAOyGQAAAAAAAhIdAAAAAAAAciEAAAAAAALSIQA==\"},\"shape\":[50],\"dtype\":\"float64\",\"order\":\"little\"}],[\"price_count\",{\"type\":\"ndarray\",\"array\":{\"type\":\"bytes\",\"data\":\"AAAAAAAAAAAAAAAAAAAAAAAAAAAAAAAAAAAAAAAAAAAEAAAABgAAAAMAAAADAAAABQAAAAYAAAAIAAAADQAAAAQAAAAIAAAADgAAAAcAAAAFAAAABwAAABIAAAAKAAAAEAAAAAgAAAAQAAAACgAAAAsAAAAKAAAACgAAAAIAAAAEAAAABgAAAAIAAAAFAAAAAwAAAAUAAAAAAAAAAQAAAAIAAAABAAAABQAAAAAAAAAAAAAAAgAAAAAAAAAAAAAAAAAAAAAAAAA=\"},\"shape\":[50],\"dtype\":\"int32\",\"order\":\"little\"}]]}}},\"view\":{\"type\":\"object\",\"name\":\"CDSView\",\"id\":\"p1383\",\"attributes\":{\"filter\":{\"type\":\"object\",\"name\":\"AllIndices\",\"id\":\"p1384\"}}},\"glyph\":{\"type\":\"object\",\"name\":\"Quad\",\"id\":\"p1379\",\"attributes\":{\"tags\":[\"apply_ranges\"],\"left\":{\"type\":\"field\",\"field\":\"left\"},\"right\":{\"type\":\"field\",\"field\":\"right\"},\"bottom\":{\"type\":\"value\",\"value\":0},\"top\":{\"type\":\"field\",\"field\":\"top\"},\"fill_color\":{\"type\":\"value\",\"value\":\"#30a2da\"},\"hatch_color\":{\"type\":\"value\",\"value\":\"#30a2da\"}}},\"selection_glyph\":{\"type\":\"object\",\"name\":\"Quad\",\"id\":\"p1385\",\"attributes\":{\"tags\":[\"apply_ranges\"],\"left\":{\"type\":\"field\",\"field\":\"left\"},\"right\":{\"type\":\"field\",\"field\":\"right\"},\"bottom\":{\"type\":\"value\",\"value\":0},\"top\":{\"type\":\"field\",\"field\":\"top\"},\"line_color\":{\"type\":\"value\",\"value\":\"black\"},\"line_alpha\":{\"type\":\"value\",\"value\":1.0},\"line_width\":{\"type\":\"value\",\"value\":1},\"line_join\":{\"type\":\"value\",\"value\":\"bevel\"},\"line_cap\":{\"type\":\"value\",\"value\":\"butt\"},\"line_dash\":{\"type\":\"value\",\"value\":[]},\"line_dash_offset\":{\"type\":\"value\",\"value\":0},\"fill_color\":{\"type\":\"value\",\"value\":\"#30a2da\"},\"fill_alpha\":{\"type\":\"value\",\"value\":1.0},\"hatch_color\":{\"type\":\"value\",\"value\":\"#30a2da\"},\"hatch_alpha\":{\"type\":\"value\",\"value\":1.0},\"hatch_scale\":{\"type\":\"value\",\"value\":12.0},\"hatch_pattern\":{\"type\":\"value\",\"value\":null},\"hatch_weight\":{\"type\":\"value\",\"value\":1.0}}},\"nonselection_glyph\":{\"type\":\"object\",\"name\":\"Quad\",\"id\":\"p1380\",\"attributes\":{\"tags\":[\"apply_ranges\"],\"left\":{\"type\":\"field\",\"field\":\"left\"},\"right\":{\"type\":\"field\",\"field\":\"right\"},\"bottom\":{\"type\":\"value\",\"value\":0},\"top\":{\"type\":\"field\",\"field\":\"top\"},\"line_alpha\":{\"type\":\"value\",\"value\":0.1},\"fill_color\":{\"type\":\"value\",\"value\":\"#30a2da\"},\"fill_alpha\":{\"type\":\"value\",\"value\":0.1},\"hatch_color\":{\"type\":\"value\",\"value\":\"#30a2da\"},\"hatch_alpha\":{\"type\":\"value\",\"value\":0.1}}},\"muted_glyph\":{\"type\":\"object\",\"name\":\"Quad\",\"id\":\"p1381\",\"attributes\":{\"tags\":[\"apply_ranges\"],\"left\":{\"type\":\"field\",\"field\":\"left\"},\"right\":{\"type\":\"field\",\"field\":\"right\"},\"bottom\":{\"type\":\"value\",\"value\":0},\"top\":{\"type\":\"field\",\"field\":\"top\"},\"line_alpha\":{\"type\":\"value\",\"value\":0.2},\"fill_color\":{\"type\":\"value\",\"value\":\"#30a2da\"},\"fill_alpha\":{\"type\":\"value\",\"value\":0.2},\"hatch_color\":{\"type\":\"value\",\"value\":\"#30a2da\"},\"hatch_alpha\":{\"type\":\"value\",\"value\":0.2}}}}}],\"toolbar\":{\"type\":\"object\",\"name\":\"Toolbar\",\"id\":\"p1349\",\"attributes\":{\"tools\":[{\"type\":\"object\",\"name\":\"WheelZoomTool\",\"id\":\"p1338\",\"attributes\":{\"tags\":[\"hv_created\"],\"renderers\":\"auto\",\"zoom_together\":\"none\"}},{\"type\":\"object\",\"name\":\"HoverTool\",\"id\":\"p1339\",\"attributes\":{\"tags\":[\"hv_created\"],\"renderers\":[{\"id\":\"p1382\"}],\"tooltips\":[[\"price\",\"@{price}\"],[\"Count\",\"@{price_count}\"]]}},{\"type\":\"object\",\"name\":\"SaveTool\",\"id\":\"p1362\"},{\"type\":\"object\",\"name\":\"PanTool\",\"id\":\"p1363\"},{\"type\":\"object\",\"name\":\"BoxZoomTool\",\"id\":\"p1364\",\"attributes\":{\"overlay\":{\"type\":\"object\",\"name\":\"BoxAnnotation\",\"id\":\"p1365\",\"attributes\":{\"syncable\":false,\"line_color\":\"black\",\"line_alpha\":1.0,\"line_width\":2,\"line_dash\":[4,4],\"fill_color\":\"lightgrey\",\"fill_alpha\":0.5,\"level\":\"overlay\",\"visible\":false,\"left\":{\"type\":\"number\",\"value\":\"nan\"},\"right\":{\"type\":\"number\",\"value\":\"nan\"},\"top\":{\"type\":\"number\",\"value\":\"nan\"},\"bottom\":{\"type\":\"number\",\"value\":\"nan\"},\"left_units\":\"canvas\",\"right_units\":\"canvas\",\"top_units\":\"canvas\",\"bottom_units\":\"canvas\",\"handles\":{\"type\":\"object\",\"name\":\"BoxInteractionHandles\",\"id\":\"p1371\",\"attributes\":{\"all\":{\"type\":\"object\",\"name\":\"AreaVisuals\",\"id\":\"p1370\",\"attributes\":{\"fill_color\":\"white\",\"hover_fill_color\":\"lightgray\"}}}}}}}},{\"type\":\"object\",\"name\":\"ResetTool\",\"id\":\"p1372\"}],\"active_drag\":{\"id\":\"p1363\"},\"active_scroll\":{\"id\":\"p1338\"}}},\"left\":[{\"type\":\"object\",\"name\":\"LinearAxis\",\"id\":\"p1357\",\"attributes\":{\"ticker\":{\"type\":\"object\",\"name\":\"BasicTicker\",\"id\":\"p1358\",\"attributes\":{\"mantissas\":[1,2,5]}},\"formatter\":{\"type\":\"object\",\"name\":\"BasicTickFormatter\",\"id\":\"p1359\"},\"axis_label\":\"\",\"major_label_policy\":{\"type\":\"object\",\"name\":\"AllLabels\",\"id\":\"p1360\"}}}],\"below\":[{\"type\":\"object\",\"name\":\"LinearAxis\",\"id\":\"p1352\",\"attributes\":{\"ticker\":{\"type\":\"object\",\"name\":\"BasicTicker\",\"id\":\"p1353\",\"attributes\":{\"mantissas\":[1,2,5]}},\"formatter\":{\"type\":\"object\",\"name\":\"BasicTickFormatter\",\"id\":\"p1354\"},\"axis_label\":\"price\",\"major_label_policy\":{\"type\":\"object\",\"name\":\"AllLabels\",\"id\":\"p1355\"}}}],\"center\":[{\"type\":\"object\",\"name\":\"Grid\",\"id\":\"p1356\",\"attributes\":{\"axis\":{\"id\":\"p1352\"},\"grid_line_color\":null}},{\"type\":\"object\",\"name\":\"Grid\",\"id\":\"p1361\",\"attributes\":{\"dimension\":1,\"axis\":{\"id\":\"p1357\"},\"grid_line_color\":null}}],\"min_border_top\":10,\"min_border_bottom\":10,\"min_border_left\":10,\"min_border_right\":10,\"output_backend\":\"webgl\"}},{\"type\":\"object\",\"name\":\"Spacer\",\"id\":\"p1387\",\"attributes\":{\"name\":\"HSpacer01380\",\"stylesheets\":[\"\\n:host(.pn-loading):before, .pn-loading:before {\\n  background-color: #c3c3c3;\\n  mask-size: auto calc(min(50%, 400px));\\n  -webkit-mask-size: auto calc(min(50%, 400px));\\n}\",{\"id\":\"p1331\"},{\"id\":\"p1329\"},{\"id\":\"p1330\"}],\"margin\":0,\"sizing_mode\":\"stretch_width\",\"align\":\"start\"}}]}}],\"defs\":[{\"type\":\"model\",\"name\":\"ReactiveHTML1\"},{\"type\":\"model\",\"name\":\"FlexBox1\",\"properties\":[{\"name\":\"align_content\",\"kind\":\"Any\",\"default\":\"flex-start\"},{\"name\":\"align_items\",\"kind\":\"Any\",\"default\":\"flex-start\"},{\"name\":\"flex_direction\",\"kind\":\"Any\",\"default\":\"row\"},{\"name\":\"flex_wrap\",\"kind\":\"Any\",\"default\":\"wrap\"},{\"name\":\"gap\",\"kind\":\"Any\",\"default\":\"\"},{\"name\":\"justify_content\",\"kind\":\"Any\",\"default\":\"flex-start\"}]},{\"type\":\"model\",\"name\":\"FloatPanel1\",\"properties\":[{\"name\":\"config\",\"kind\":\"Any\",\"default\":{\"type\":\"map\"}},{\"name\":\"contained\",\"kind\":\"Any\",\"default\":true},{\"name\":\"position\",\"kind\":\"Any\",\"default\":\"right-top\"},{\"name\":\"offsetx\",\"kind\":\"Any\",\"default\":null},{\"name\":\"offsety\",\"kind\":\"Any\",\"default\":null},{\"name\":\"theme\",\"kind\":\"Any\",\"default\":\"primary\"},{\"name\":\"status\",\"kind\":\"Any\",\"default\":\"normalized\"}]},{\"type\":\"model\",\"name\":\"GridStack1\",\"properties\":[{\"name\":\"mode\",\"kind\":\"Any\",\"default\":\"warn\"},{\"name\":\"ncols\",\"kind\":\"Any\",\"default\":null},{\"name\":\"nrows\",\"kind\":\"Any\",\"default\":null},{\"name\":\"allow_resize\",\"kind\":\"Any\",\"default\":true},{\"name\":\"allow_drag\",\"kind\":\"Any\",\"default\":true},{\"name\":\"state\",\"kind\":\"Any\",\"default\":[]}]},{\"type\":\"model\",\"name\":\"drag1\",\"properties\":[{\"name\":\"slider_width\",\"kind\":\"Any\",\"default\":5},{\"name\":\"slider_color\",\"kind\":\"Any\",\"default\":\"black\"},{\"name\":\"value\",\"kind\":\"Any\",\"default\":50}]},{\"type\":\"model\",\"name\":\"click1\",\"properties\":[{\"name\":\"terminal_output\",\"kind\":\"Any\",\"default\":\"\"},{\"name\":\"debug_name\",\"kind\":\"Any\",\"default\":\"\"},{\"name\":\"clears\",\"kind\":\"Any\",\"default\":0}]},{\"type\":\"model\",\"name\":\"FastWrapper1\",\"properties\":[{\"name\":\"object\",\"kind\":\"Any\",\"default\":null},{\"name\":\"style\",\"kind\":\"Any\",\"default\":null}]},{\"type\":\"model\",\"name\":\"NotificationAreaBase1\",\"properties\":[{\"name\":\"js_events\",\"kind\":\"Any\",\"default\":{\"type\":\"map\"}},{\"name\":\"position\",\"kind\":\"Any\",\"default\":\"bottom-right\"},{\"name\":\"_clear\",\"kind\":\"Any\",\"default\":0}]},{\"type\":\"model\",\"name\":\"NotificationArea1\",\"properties\":[{\"name\":\"js_events\",\"kind\":\"Any\",\"default\":{\"type\":\"map\"}},{\"name\":\"notifications\",\"kind\":\"Any\",\"default\":[]},{\"name\":\"position\",\"kind\":\"Any\",\"default\":\"bottom-right\"},{\"name\":\"_clear\",\"kind\":\"Any\",\"default\":0},{\"name\":\"types\",\"kind\":\"Any\",\"default\":[{\"type\":\"map\",\"entries\":[[\"type\",\"warning\"],[\"background\",\"#ffc107\"],[\"icon\",{\"type\":\"map\",\"entries\":[[\"className\",\"fas fa-exclamation-triangle\"],[\"tagName\",\"i\"],[\"color\",\"white\"]]}]]},{\"type\":\"map\",\"entries\":[[\"type\",\"info\"],[\"background\",\"#007bff\"],[\"icon\",{\"type\":\"map\",\"entries\":[[\"className\",\"fas fa-info-circle\"],[\"tagName\",\"i\"],[\"color\",\"white\"]]}]]}]}]},{\"type\":\"model\",\"name\":\"Notification\",\"properties\":[{\"name\":\"background\",\"kind\":\"Any\",\"default\":null},{\"name\":\"duration\",\"kind\":\"Any\",\"default\":3000},{\"name\":\"icon\",\"kind\":\"Any\",\"default\":null},{\"name\":\"message\",\"kind\":\"Any\",\"default\":\"\"},{\"name\":\"notification_type\",\"kind\":\"Any\",\"default\":null},{\"name\":\"_destroyed\",\"kind\":\"Any\",\"default\":false}]},{\"type\":\"model\",\"name\":\"TemplateActions1\",\"properties\":[{\"name\":\"open_modal\",\"kind\":\"Any\",\"default\":0},{\"name\":\"close_modal\",\"kind\":\"Any\",\"default\":0}]},{\"type\":\"model\",\"name\":\"BootstrapTemplateActions1\",\"properties\":[{\"name\":\"open_modal\",\"kind\":\"Any\",\"default\":0},{\"name\":\"close_modal\",\"kind\":\"Any\",\"default\":0}]},{\"type\":\"model\",\"name\":\"TemplateEditor1\",\"properties\":[{\"name\":\"layout\",\"kind\":\"Any\",\"default\":[]}]},{\"type\":\"model\",\"name\":\"MaterialTemplateActions1\",\"properties\":[{\"name\":\"open_modal\",\"kind\":\"Any\",\"default\":0},{\"name\":\"close_modal\",\"kind\":\"Any\",\"default\":0}]},{\"type\":\"model\",\"name\":\"ReactiveESM1\"},{\"type\":\"model\",\"name\":\"JSComponent1\"},{\"type\":\"model\",\"name\":\"ReactComponent1\"},{\"type\":\"model\",\"name\":\"AnyWidgetComponent1\"},{\"type\":\"model\",\"name\":\"request_value1\",\"properties\":[{\"name\":\"fill\",\"kind\":\"Any\",\"default\":\"none\"},{\"name\":\"_synced\",\"kind\":\"Any\",\"default\":null},{\"name\":\"_request_sync\",\"kind\":\"Any\",\"default\":0}]}]}};\n",
       "  var render_items = [{\"docid\":\"4927d377-8536-453e-9b65-c30ae687bd13\",\"roots\":{\"p1328\":\"df1886bd-f729-40f0-be25-f1a7424ae0f6\"},\"root_ids\":[\"p1328\"]}];\n",
       "  var docs = Object.values(docs_json)\n",
       "  if (!docs) {\n",
       "    return\n",
       "  }\n",
       "  const py_version = docs[0].version.replace('rc', '-rc.').replace('.dev', '-dev.')\n",
       "  async function embed_document(root) {\n",
       "    var Bokeh = get_bokeh(root)\n",
       "    await Bokeh.embed.embed_items_notebook(docs_json, render_items);\n",
       "    for (const render_item of render_items) {\n",
       "      for (const root_id of render_item.root_ids) {\n",
       "\tconst id_el = document.getElementById(root_id)\n",
       "\tif (id_el.children.length && id_el.children[0].hasAttribute('data-root-id')) {\n",
       "\t  const root_el = id_el.children[0]\n",
       "\t  root_el.id = root_el.id + '-rendered'\n",
       "\t  for (const child of root_el.children) {\n",
       "            // Ensure JupyterLab does not capture keyboard shortcuts\n",
       "            // see: https://jupyterlab.readthedocs.io/en/4.1.x/extension/notebook.html#keyboard-interaction-model\n",
       "\t    child.setAttribute('data-lm-suppress-shortcuts', 'true')\n",
       "\t  }\n",
       "\t}\n",
       "      }\n",
       "    }\n",
       "  }\n",
       "  function get_bokeh(root) {\n",
       "    if (root.Bokeh === undefined) {\n",
       "      return null\n",
       "    } else if (root.Bokeh.version !== py_version) {\n",
       "      if (root.Bokeh.versions === undefined || !root.Bokeh.versions.has(py_version)) {\n",
       "\treturn null\n",
       "      }\n",
       "      return root.Bokeh.versions.get(py_version);\n",
       "    } else if (root.Bokeh.version === py_version) {\n",
       "      return root.Bokeh\n",
       "    }\n",
       "    return null\n",
       "  }\n",
       "  function is_loaded(root) {\n",
       "    var Bokeh = get_bokeh(root)\n",
       "    return (Bokeh != null && Bokeh.Panel !== undefined)\n",
       "  }\n",
       "  if (is_loaded(root)) {\n",
       "    embed_document(root);\n",
       "  } else {\n",
       "    var attempts = 0;\n",
       "    var timer = setInterval(function(root) {\n",
       "      if (is_loaded(root)) {\n",
       "        clearInterval(timer);\n",
       "        embed_document(root);\n",
       "      } else if (document.readyState == \"complete\") {\n",
       "        attempts++;\n",
       "        if (attempts > 200) {\n",
       "          clearInterval(timer);\n",
       "\t  var Bokeh = get_bokeh(root)\n",
       "\t  if (Bokeh == null || Bokeh.Panel == null) {\n",
       "            console.warn(\"Panel: ERROR: Unable to run Panel code because Bokeh or Panel library is missing\");\n",
       "\t  } else {\n",
       "\t    console.warn(\"Panel: WARNING: Attempting to render but not all required libraries could be resolved.\")\n",
       "\t    embed_document(root)\n",
       "\t  }\n",
       "        }\n",
       "      }\n",
       "    }, 25, root)\n",
       "  }\n",
       "})(window);</script>"
      ],
      "text/plain": [
       ":Histogram   [price]   (Count)"
      ]
     },
     "execution_count": 23,
     "metadata": {
      "application/vnd.holoviews_exec.v0+json": {
       "id": "p1328"
      }
     },
     "output_type": "execute_result"
    }
   ],
   "source": [
    "books_df.hvplot.hist(\n",
    "    y=\"price\", bins=50, bin_range=(-150, 800), title=\"Book prices distribution\"\n",
    ")"
   ]
  },
  {
   "cell_type": "code",
   "execution_count": 24,
   "id": "a013f114-5dff-4afb-9563-f7cdb2f073a3",
   "metadata": {},
   "outputs": [
    {
     "data": {},
     "metadata": {},
     "output_type": "display_data"
    },
    {
     "data": {
      "application/vnd.holoviews_exec.v0+json": "",
      "text/html": [
       "<div id='p1396'>\n",
       "  <div id=\"bafc5a06-cba5-4ed7-8d8c-3f2eca00ce41\" data-root-id=\"p1396\" style=\"display: contents;\"></div>\n",
       "</div>\n",
       "<script type=\"application/javascript\">(function(root) {\n",
       "  var docs_json = {\"b733997b-358d-43a8-80d0-ad6df7e37220\":{\"version\":\"3.6.0\",\"title\":\"Bokeh Application\",\"roots\":[{\"type\":\"object\",\"name\":\"Row\",\"id\":\"p1396\",\"attributes\":{\"name\":\"Row01459\",\"tags\":[\"embedded\"],\"stylesheets\":[\"\\n:host(.pn-loading):before, .pn-loading:before {\\n  background-color: #c3c3c3;\\n  mask-size: auto calc(min(50%, 400px));\\n  -webkit-mask-size: auto calc(min(50%, 400px));\\n}\",{\"type\":\"object\",\"name\":\"ImportedStyleSheet\",\"id\":\"p1399\",\"attributes\":{\"url\":\"https://cdn.holoviz.org/panel/1.5.3/dist/css/loading.css\"}},{\"type\":\"object\",\"name\":\"ImportedStyleSheet\",\"id\":\"p1457\",\"attributes\":{\"url\":\"https://cdn.holoviz.org/panel/1.5.3/dist/css/listpanel.css\"}},{\"type\":\"object\",\"name\":\"ImportedStyleSheet\",\"id\":\"p1397\",\"attributes\":{\"url\":\"https://cdn.holoviz.org/panel/1.5.3/dist/bundled/theme/default.css\"}},{\"type\":\"object\",\"name\":\"ImportedStyleSheet\",\"id\":\"p1398\",\"attributes\":{\"url\":\"https://cdn.holoviz.org/panel/1.5.3/dist/bundled/theme/native.css\"}}],\"min_width\":700,\"margin\":0,\"sizing_mode\":\"stretch_width\",\"align\":\"start\",\"children\":[{\"type\":\"object\",\"name\":\"Spacer\",\"id\":\"p1400\",\"attributes\":{\"name\":\"HSpacer01466\",\"stylesheets\":[\"\\n:host(.pn-loading):before, .pn-loading:before {\\n  background-color: #c3c3c3;\\n  mask-size: auto calc(min(50%, 400px));\\n  -webkit-mask-size: auto calc(min(50%, 400px));\\n}\",{\"id\":\"p1399\"},{\"id\":\"p1397\"},{\"id\":\"p1398\"}],\"margin\":0,\"sizing_mode\":\"stretch_width\",\"align\":\"start\"}},{\"type\":\"object\",\"name\":\"Figure\",\"id\":\"p1408\",\"attributes\":{\"width\":700,\"height\":300,\"margin\":[5,10],\"sizing_mode\":\"fixed\",\"align\":\"start\",\"x_range\":{\"type\":\"object\",\"name\":\"Range1d\",\"id\":\"p1401\",\"attributes\":{\"tags\":[[[\"index\",null]],[]],\"start\":-3.3857142857142857,\"end\":82.38571428571429,\"reset_start\":-3.3857142857142857,\"reset_end\":82.38571428571429}},\"y_range\":{\"type\":\"object\",\"name\":\"Range1d\",\"id\":\"p1402\",\"attributes\":{\"tags\":[[[\"len\",null]],{\"type\":\"map\",\"entries\":[[\"invert_yaxis\",false],[\"autorange\",false]]}],\"end\":28.5,\"reset_start\":0.0,\"reset_end\":28.5}},\"x_scale\":{\"type\":\"object\",\"name\":\"LinearScale\",\"id\":\"p1418\"},\"y_scale\":{\"type\":\"object\",\"name\":\"LinearScale\",\"id\":\"p1419\"},\"title\":{\"type\":\"object\",\"name\":\"Title\",\"id\":\"p1411\",\"attributes\":{\"text\":\"Book categories distribution\",\"text_color\":\"black\",\"text_font_size\":\"12pt\"}},\"renderers\":[{\"type\":\"object\",\"name\":\"GlyphRenderer\",\"id\":\"p1450\",\"attributes\":{\"data_source\":{\"type\":\"object\",\"name\":\"ColumnDataSource\",\"id\":\"p1441\",\"attributes\":{\"selected\":{\"type\":\"object\",\"name\":\"Selection\",\"id\":\"p1442\",\"attributes\":{\"indices\":[],\"line_indices\":[]}},\"selection_policy\":{\"type\":\"object\",\"name\":\"UnionRenderers\",\"id\":\"p1443\"},\"data\":{\"type\":\"map\",\"entries\":[[\"index\",{\"type\":\"ndarray\",\"array\":{\"type\":\"bytes\",\"data\":\"AAAAAAEAAAACAAAAAwAAAAQAAAAFAAAABgAAAAcAAAAIAAAACQAAAAoAAAALAAAADAAAAA0AAAAOAAAADwAAABAAAAARAAAAEgAAABMAAAAUAAAAFQAAABYAAAAXAAAAGAAAABkAAAAaAAAAGwAAABwAAAAdAAAAHgAAAB8AAAAgAAAAIQAAACIAAAAjAAAAJAAAACUAAAAmAAAAJwAAACgAAAApAAAAKgAAACsAAAAsAAAALQAAAC4AAAAvAAAAMAAAADEAAAAyAAAAMwAAADQAAAA1AAAANgAAADcAAAA4AAAAOQAAADoAAAA7AAAAPAAAAD0AAAA+AAAAPwAAAEAAAABBAAAAQgAAAEMAAABEAAAARQAAAEYAAABHAAAASAAAAEkAAABKAAAASwAAAEwAAABNAAAATgAAAE8AAAA=\"},\"shape\":[80],\"dtype\":\"int32\",\"order\":\"little\"}],[\"len\",{\"type\":\"ndarray\",\"array\":{\"type\":\"bytes\",\"data\":\"BAAAAAEAAAABAAAAAQAAAAIAAAABAAAAAQAAAAEAAAABAAAAAQAAAAEAAAAaAAAAAgAAAAEAAAABAAAAAgAAAAIAAAABAAAAAQAAAAEAAAABAAAAAQAAAAIAAAABAAAAAQAAAAQAAAABAAAAAQAAAAEAAAABAAAAAQAAAAEAAAACAAAAAgAAAAMAAAABAAAAAQAAAAEAAAABAAAAAQAAAAEAAAAFAAAAAQAAAAEAAAAPAAAAAwAAAAYAAAABAAAABwAAAAEAAAABAAAAAQAAAAEAAAABAAAAAgAAAAEAAAACAAAAEAAAAAkAAAACAAAAAgAAAAEAAAACAAAAAgAAAAMAAAABAAAAAQAAAAMAAAABAAAAAgAAAAEAAAABAAAAAQAAAAIAAAACAAAAAQAAAAIAAAABAAAAAQAAAAIAAAA=\"},\"shape\":[80],\"dtype\":\"uint32\",\"order\":\"little\"}]]}}},\"view\":{\"type\":\"object\",\"name\":\"CDSView\",\"id\":\"p1451\",\"attributes\":{\"filter\":{\"type\":\"object\",\"name\":\"AllIndices\",\"id\":\"p1452\"}}},\"glyph\":{\"type\":\"object\",\"name\":\"VBar\",\"id\":\"p1447\",\"attributes\":{\"tags\":[\"apply_ranges\"],\"x\":{\"type\":\"field\",\"field\":\"index\"},\"width\":{\"type\":\"value\",\"value\":0.8},\"top\":{\"type\":\"field\",\"field\":\"len\"},\"fill_color\":{\"type\":\"value\",\"value\":\"#30a2da\"},\"hatch_color\":{\"type\":\"value\",\"value\":\"#30a2da\"}}},\"selection_glyph\":{\"type\":\"object\",\"name\":\"VBar\",\"id\":\"p1453\",\"attributes\":{\"tags\":[\"apply_ranges\"],\"x\":{\"type\":\"field\",\"field\":\"index\"},\"width\":{\"type\":\"value\",\"value\":0.8},\"bottom\":{\"type\":\"value\",\"value\":0},\"top\":{\"type\":\"field\",\"field\":\"len\"},\"line_color\":{\"type\":\"value\",\"value\":\"black\"},\"line_alpha\":{\"type\":\"value\",\"value\":1.0},\"line_width\":{\"type\":\"value\",\"value\":1},\"line_join\":{\"type\":\"value\",\"value\":\"bevel\"},\"line_cap\":{\"type\":\"value\",\"value\":\"butt\"},\"line_dash\":{\"type\":\"value\",\"value\":[]},\"line_dash_offset\":{\"type\":\"value\",\"value\":0},\"fill_color\":{\"type\":\"value\",\"value\":\"#30a2da\"},\"fill_alpha\":{\"type\":\"value\",\"value\":1.0},\"hatch_color\":{\"type\":\"value\",\"value\":\"#30a2da\"},\"hatch_alpha\":{\"type\":\"value\",\"value\":1.0},\"hatch_scale\":{\"type\":\"value\",\"value\":12.0},\"hatch_pattern\":{\"type\":\"value\",\"value\":null},\"hatch_weight\":{\"type\":\"value\",\"value\":1.0}}},\"nonselection_glyph\":{\"type\":\"object\",\"name\":\"VBar\",\"id\":\"p1448\",\"attributes\":{\"tags\":[\"apply_ranges\"],\"x\":{\"type\":\"field\",\"field\":\"index\"},\"width\":{\"type\":\"value\",\"value\":0.8},\"top\":{\"type\":\"field\",\"field\":\"len\"},\"line_alpha\":{\"type\":\"value\",\"value\":0.1},\"fill_color\":{\"type\":\"value\",\"value\":\"#30a2da\"},\"fill_alpha\":{\"type\":\"value\",\"value\":0.1},\"hatch_color\":{\"type\":\"value\",\"value\":\"#30a2da\"},\"hatch_alpha\":{\"type\":\"value\",\"value\":0.1}}},\"muted_glyph\":{\"type\":\"object\",\"name\":\"VBar\",\"id\":\"p1449\",\"attributes\":{\"tags\":[\"apply_ranges\"],\"x\":{\"type\":\"field\",\"field\":\"index\"},\"width\":{\"type\":\"value\",\"value\":0.8},\"top\":{\"type\":\"field\",\"field\":\"len\"},\"line_alpha\":{\"type\":\"value\",\"value\":0.2},\"fill_color\":{\"type\":\"value\",\"value\":\"#30a2da\"},\"fill_alpha\":{\"type\":\"value\",\"value\":0.2},\"hatch_color\":{\"type\":\"value\",\"value\":\"#30a2da\"},\"hatch_alpha\":{\"type\":\"value\",\"value\":0.2}}}}}],\"toolbar\":{\"type\":\"object\",\"name\":\"Toolbar\",\"id\":\"p1417\",\"attributes\":{\"tools\":[{\"type\":\"object\",\"name\":\"WheelZoomTool\",\"id\":\"p1406\",\"attributes\":{\"tags\":[\"hv_created\"],\"renderers\":\"auto\",\"zoom_together\":\"none\"}},{\"type\":\"object\",\"name\":\"HoverTool\",\"id\":\"p1407\",\"attributes\":{\"tags\":[\"hv_created\"],\"renderers\":[{\"id\":\"p1450\"}],\"tooltips\":[[\"index\",\"@{index}\"],[\"len\",\"@{len}\"]]}},{\"type\":\"object\",\"name\":\"SaveTool\",\"id\":\"p1430\"},{\"type\":\"object\",\"name\":\"PanTool\",\"id\":\"p1431\"},{\"type\":\"object\",\"name\":\"BoxZoomTool\",\"id\":\"p1432\",\"attributes\":{\"overlay\":{\"type\":\"object\",\"name\":\"BoxAnnotation\",\"id\":\"p1433\",\"attributes\":{\"syncable\":false,\"line_color\":\"black\",\"line_alpha\":1.0,\"line_width\":2,\"line_dash\":[4,4],\"fill_color\":\"lightgrey\",\"fill_alpha\":0.5,\"level\":\"overlay\",\"visible\":false,\"left\":{\"type\":\"number\",\"value\":\"nan\"},\"right\":{\"type\":\"number\",\"value\":\"nan\"},\"top\":{\"type\":\"number\",\"value\":\"nan\"},\"bottom\":{\"type\":\"number\",\"value\":\"nan\"},\"left_units\":\"canvas\",\"right_units\":\"canvas\",\"top_units\":\"canvas\",\"bottom_units\":\"canvas\",\"handles\":{\"type\":\"object\",\"name\":\"BoxInteractionHandles\",\"id\":\"p1439\",\"attributes\":{\"all\":{\"type\":\"object\",\"name\":\"AreaVisuals\",\"id\":\"p1438\",\"attributes\":{\"fill_color\":\"white\",\"hover_fill_color\":\"lightgray\"}}}}}}}},{\"type\":\"object\",\"name\":\"ResetTool\",\"id\":\"p1440\"}],\"active_drag\":{\"id\":\"p1431\"},\"active_scroll\":{\"id\":\"p1406\"}}},\"left\":[{\"type\":\"object\",\"name\":\"LinearAxis\",\"id\":\"p1425\",\"attributes\":{\"ticker\":{\"type\":\"object\",\"name\":\"BasicTicker\",\"id\":\"p1426\",\"attributes\":{\"mantissas\":[1,2,5]}},\"formatter\":{\"type\":\"object\",\"name\":\"BasicTickFormatter\",\"id\":\"p1427\"},\"axis_label\":\"len\",\"major_label_policy\":{\"type\":\"object\",\"name\":\"AllLabels\",\"id\":\"p1428\"}}}],\"below\":[{\"type\":\"object\",\"name\":\"LinearAxis\",\"id\":\"p1420\",\"attributes\":{\"ticker\":{\"type\":\"object\",\"name\":\"BasicTicker\",\"id\":\"p1421\",\"attributes\":{\"mantissas\":[1,2,5]}},\"formatter\":{\"type\":\"object\",\"name\":\"BasicTickFormatter\",\"id\":\"p1422\"},\"axis_label\":\"\",\"major_label_policy\":{\"type\":\"object\",\"name\":\"AllLabels\",\"id\":\"p1423\"}}}],\"center\":[{\"type\":\"object\",\"name\":\"Grid\",\"id\":\"p1424\",\"attributes\":{\"axis\":{\"id\":\"p1420\"},\"grid_line_color\":null}},{\"type\":\"object\",\"name\":\"Grid\",\"id\":\"p1429\",\"attributes\":{\"dimension\":1,\"axis\":{\"id\":\"p1425\"},\"grid_line_color\":null}}],\"min_border_top\":10,\"min_border_bottom\":10,\"min_border_left\":10,\"min_border_right\":10,\"output_backend\":\"webgl\"}},{\"type\":\"object\",\"name\":\"Spacer\",\"id\":\"p1455\",\"attributes\":{\"name\":\"HSpacer01467\",\"stylesheets\":[\"\\n:host(.pn-loading):before, .pn-loading:before {\\n  background-color: #c3c3c3;\\n  mask-size: auto calc(min(50%, 400px));\\n  -webkit-mask-size: auto calc(min(50%, 400px));\\n}\",{\"id\":\"p1399\"},{\"id\":\"p1397\"},{\"id\":\"p1398\"}],\"margin\":0,\"sizing_mode\":\"stretch_width\",\"align\":\"start\"}}]}}],\"defs\":[{\"type\":\"model\",\"name\":\"ReactiveHTML1\"},{\"type\":\"model\",\"name\":\"FlexBox1\",\"properties\":[{\"name\":\"align_content\",\"kind\":\"Any\",\"default\":\"flex-start\"},{\"name\":\"align_items\",\"kind\":\"Any\",\"default\":\"flex-start\"},{\"name\":\"flex_direction\",\"kind\":\"Any\",\"default\":\"row\"},{\"name\":\"flex_wrap\",\"kind\":\"Any\",\"default\":\"wrap\"},{\"name\":\"gap\",\"kind\":\"Any\",\"default\":\"\"},{\"name\":\"justify_content\",\"kind\":\"Any\",\"default\":\"flex-start\"}]},{\"type\":\"model\",\"name\":\"FloatPanel1\",\"properties\":[{\"name\":\"config\",\"kind\":\"Any\",\"default\":{\"type\":\"map\"}},{\"name\":\"contained\",\"kind\":\"Any\",\"default\":true},{\"name\":\"position\",\"kind\":\"Any\",\"default\":\"right-top\"},{\"name\":\"offsetx\",\"kind\":\"Any\",\"default\":null},{\"name\":\"offsety\",\"kind\":\"Any\",\"default\":null},{\"name\":\"theme\",\"kind\":\"Any\",\"default\":\"primary\"},{\"name\":\"status\",\"kind\":\"Any\",\"default\":\"normalized\"}]},{\"type\":\"model\",\"name\":\"GridStack1\",\"properties\":[{\"name\":\"mode\",\"kind\":\"Any\",\"default\":\"warn\"},{\"name\":\"ncols\",\"kind\":\"Any\",\"default\":null},{\"name\":\"nrows\",\"kind\":\"Any\",\"default\":null},{\"name\":\"allow_resize\",\"kind\":\"Any\",\"default\":true},{\"name\":\"allow_drag\",\"kind\":\"Any\",\"default\":true},{\"name\":\"state\",\"kind\":\"Any\",\"default\":[]}]},{\"type\":\"model\",\"name\":\"drag1\",\"properties\":[{\"name\":\"slider_width\",\"kind\":\"Any\",\"default\":5},{\"name\":\"slider_color\",\"kind\":\"Any\",\"default\":\"black\"},{\"name\":\"value\",\"kind\":\"Any\",\"default\":50}]},{\"type\":\"model\",\"name\":\"click1\",\"properties\":[{\"name\":\"terminal_output\",\"kind\":\"Any\",\"default\":\"\"},{\"name\":\"debug_name\",\"kind\":\"Any\",\"default\":\"\"},{\"name\":\"clears\",\"kind\":\"Any\",\"default\":0}]},{\"type\":\"model\",\"name\":\"FastWrapper1\",\"properties\":[{\"name\":\"object\",\"kind\":\"Any\",\"default\":null},{\"name\":\"style\",\"kind\":\"Any\",\"default\":null}]},{\"type\":\"model\",\"name\":\"NotificationAreaBase1\",\"properties\":[{\"name\":\"js_events\",\"kind\":\"Any\",\"default\":{\"type\":\"map\"}},{\"name\":\"position\",\"kind\":\"Any\",\"default\":\"bottom-right\"},{\"name\":\"_clear\",\"kind\":\"Any\",\"default\":0}]},{\"type\":\"model\",\"name\":\"NotificationArea1\",\"properties\":[{\"name\":\"js_events\",\"kind\":\"Any\",\"default\":{\"type\":\"map\"}},{\"name\":\"notifications\",\"kind\":\"Any\",\"default\":[]},{\"name\":\"position\",\"kind\":\"Any\",\"default\":\"bottom-right\"},{\"name\":\"_clear\",\"kind\":\"Any\",\"default\":0},{\"name\":\"types\",\"kind\":\"Any\",\"default\":[{\"type\":\"map\",\"entries\":[[\"type\",\"warning\"],[\"background\",\"#ffc107\"],[\"icon\",{\"type\":\"map\",\"entries\":[[\"className\",\"fas fa-exclamation-triangle\"],[\"tagName\",\"i\"],[\"color\",\"white\"]]}]]},{\"type\":\"map\",\"entries\":[[\"type\",\"info\"],[\"background\",\"#007bff\"],[\"icon\",{\"type\":\"map\",\"entries\":[[\"className\",\"fas fa-info-circle\"],[\"tagName\",\"i\"],[\"color\",\"white\"]]}]]}]}]},{\"type\":\"model\",\"name\":\"Notification\",\"properties\":[{\"name\":\"background\",\"kind\":\"Any\",\"default\":null},{\"name\":\"duration\",\"kind\":\"Any\",\"default\":3000},{\"name\":\"icon\",\"kind\":\"Any\",\"default\":null},{\"name\":\"message\",\"kind\":\"Any\",\"default\":\"\"},{\"name\":\"notification_type\",\"kind\":\"Any\",\"default\":null},{\"name\":\"_destroyed\",\"kind\":\"Any\",\"default\":false}]},{\"type\":\"model\",\"name\":\"TemplateActions1\",\"properties\":[{\"name\":\"open_modal\",\"kind\":\"Any\",\"default\":0},{\"name\":\"close_modal\",\"kind\":\"Any\",\"default\":0}]},{\"type\":\"model\",\"name\":\"BootstrapTemplateActions1\",\"properties\":[{\"name\":\"open_modal\",\"kind\":\"Any\",\"default\":0},{\"name\":\"close_modal\",\"kind\":\"Any\",\"default\":0}]},{\"type\":\"model\",\"name\":\"TemplateEditor1\",\"properties\":[{\"name\":\"layout\",\"kind\":\"Any\",\"default\":[]}]},{\"type\":\"model\",\"name\":\"MaterialTemplateActions1\",\"properties\":[{\"name\":\"open_modal\",\"kind\":\"Any\",\"default\":0},{\"name\":\"close_modal\",\"kind\":\"Any\",\"default\":0}]},{\"type\":\"model\",\"name\":\"ReactiveESM1\"},{\"type\":\"model\",\"name\":\"JSComponent1\"},{\"type\":\"model\",\"name\":\"ReactComponent1\"},{\"type\":\"model\",\"name\":\"AnyWidgetComponent1\"},{\"type\":\"model\",\"name\":\"request_value1\",\"properties\":[{\"name\":\"fill\",\"kind\":\"Any\",\"default\":\"none\"},{\"name\":\"_synced\",\"kind\":\"Any\",\"default\":null},{\"name\":\"_request_sync\",\"kind\":\"Any\",\"default\":0}]}]}};\n",
       "  var render_items = [{\"docid\":\"b733997b-358d-43a8-80d0-ad6df7e37220\",\"roots\":{\"p1396\":\"bafc5a06-cba5-4ed7-8d8c-3f2eca00ce41\"},\"root_ids\":[\"p1396\"]}];\n",
       "  var docs = Object.values(docs_json)\n",
       "  if (!docs) {\n",
       "    return\n",
       "  }\n",
       "  const py_version = docs[0].version.replace('rc', '-rc.').replace('.dev', '-dev.')\n",
       "  async function embed_document(root) {\n",
       "    var Bokeh = get_bokeh(root)\n",
       "    await Bokeh.embed.embed_items_notebook(docs_json, render_items);\n",
       "    for (const render_item of render_items) {\n",
       "      for (const root_id of render_item.root_ids) {\n",
       "\tconst id_el = document.getElementById(root_id)\n",
       "\tif (id_el.children.length && id_el.children[0].hasAttribute('data-root-id')) {\n",
       "\t  const root_el = id_el.children[0]\n",
       "\t  root_el.id = root_el.id + '-rendered'\n",
       "\t  for (const child of root_el.children) {\n",
       "            // Ensure JupyterLab does not capture keyboard shortcuts\n",
       "            // see: https://jupyterlab.readthedocs.io/en/4.1.x/extension/notebook.html#keyboard-interaction-model\n",
       "\t    child.setAttribute('data-lm-suppress-shortcuts', 'true')\n",
       "\t  }\n",
       "\t}\n",
       "      }\n",
       "    }\n",
       "  }\n",
       "  function get_bokeh(root) {\n",
       "    if (root.Bokeh === undefined) {\n",
       "      return null\n",
       "    } else if (root.Bokeh.version !== py_version) {\n",
       "      if (root.Bokeh.versions === undefined || !root.Bokeh.versions.has(py_version)) {\n",
       "\treturn null\n",
       "      }\n",
       "      return root.Bokeh.versions.get(py_version);\n",
       "    } else if (root.Bokeh.version === py_version) {\n",
       "      return root.Bokeh\n",
       "    }\n",
       "    return null\n",
       "  }\n",
       "  function is_loaded(root) {\n",
       "    var Bokeh = get_bokeh(root)\n",
       "    return (Bokeh != null && Bokeh.Panel !== undefined)\n",
       "  }\n",
       "  if (is_loaded(root)) {\n",
       "    embed_document(root);\n",
       "  } else {\n",
       "    var attempts = 0;\n",
       "    var timer = setInterval(function(root) {\n",
       "      if (is_loaded(root)) {\n",
       "        clearInterval(timer);\n",
       "        embed_document(root);\n",
       "      } else if (document.readyState == \"complete\") {\n",
       "        attempts++;\n",
       "        if (attempts > 200) {\n",
       "          clearInterval(timer);\n",
       "\t  var Bokeh = get_bokeh(root)\n",
       "\t  if (Bokeh == null || Bokeh.Panel == null) {\n",
       "            console.warn(\"Panel: ERROR: Unable to run Panel code because Bokeh or Panel library is missing\");\n",
       "\t  } else {\n",
       "\t    console.warn(\"Panel: WARNING: Attempting to render but not all required libraries could be resolved.\")\n",
       "\t    embed_document(root)\n",
       "\t  }\n",
       "        }\n",
       "      }\n",
       "    }, 25, root)\n",
       "  }\n",
       "})(window);</script>"
      ],
      "text/plain": [
       ":Bars   [index]   (len)"
      ]
     },
     "execution_count": 24,
     "metadata": {
      "application/vnd.holoviews_exec.v0+json": {
       "id": "p1396"
      }
     },
     "output_type": "execute_result"
    }
   ],
   "source": [
    "book_categories_df = books_df.group_by(pl.col(\"categories\")).len()\n",
    "book_categories_df = book_categories_df.drop_nulls()\n",
    "book_categories_df.hvplot.bar(title=\"Book categories distribution\")"
   ]
  },
  {
   "cell_type": "markdown",
   "id": "ad72c608-e510-49d2-be79-01157cac3121",
   "metadata": {},
   "source": [
    "There are three dominant categories of books while the rest are below 10 unit per category(ies)."
   ]
  },
  {
   "cell_type": "code",
   "execution_count": 25,
   "id": "cd71777c-ce61-4cb9-a14d-84ebf7fdbe37",
   "metadata": {},
   "outputs": [
    {
     "data": {},
     "metadata": {},
     "output_type": "display_data"
    },
    {
     "data": {
      "application/vnd.holoviews_exec.v0+json": "",
      "text/html": [
       "<div id='p1461'>\n",
       "  <div id=\"c9b6c161-2d64-44b0-9aba-52c78a0ab9a4\" data-root-id=\"p1461\" style=\"display: contents;\"></div>\n",
       "</div>\n",
       "<script type=\"application/javascript\">(function(root) {\n",
       "  var docs_json = {\"50212af5-e983-4f1b-8f57-ba300a36a32f\":{\"version\":\"3.6.0\",\"title\":\"Bokeh Application\",\"roots\":[{\"type\":\"object\",\"name\":\"Row\",\"id\":\"p1461\",\"attributes\":{\"name\":\"Row01554\",\"tags\":[\"embedded\"],\"stylesheets\":[\"\\n:host(.pn-loading):before, .pn-loading:before {\\n  background-color: #c3c3c3;\\n  mask-size: auto calc(min(50%, 400px));\\n  -webkit-mask-size: auto calc(min(50%, 400px));\\n}\",{\"type\":\"object\",\"name\":\"ImportedStyleSheet\",\"id\":\"p1464\",\"attributes\":{\"url\":\"https://cdn.holoviz.org/panel/1.5.3/dist/css/loading.css\"}},{\"type\":\"object\",\"name\":\"ImportedStyleSheet\",\"id\":\"p1522\",\"attributes\":{\"url\":\"https://cdn.holoviz.org/panel/1.5.3/dist/css/listpanel.css\"}},{\"type\":\"object\",\"name\":\"ImportedStyleSheet\",\"id\":\"p1462\",\"attributes\":{\"url\":\"https://cdn.holoviz.org/panel/1.5.3/dist/bundled/theme/default.css\"}},{\"type\":\"object\",\"name\":\"ImportedStyleSheet\",\"id\":\"p1463\",\"attributes\":{\"url\":\"https://cdn.holoviz.org/panel/1.5.3/dist/bundled/theme/native.css\"}}],\"min_width\":700,\"margin\":0,\"sizing_mode\":\"stretch_width\",\"align\":\"start\",\"children\":[{\"type\":\"object\",\"name\":\"Spacer\",\"id\":\"p1465\",\"attributes\":{\"name\":\"HSpacer01561\",\"stylesheets\":[\"\\n:host(.pn-loading):before, .pn-loading:before {\\n  background-color: #c3c3c3;\\n  mask-size: auto calc(min(50%, 400px));\\n  -webkit-mask-size: auto calc(min(50%, 400px));\\n}\",{\"id\":\"p1464\"},{\"id\":\"p1462\"},{\"id\":\"p1463\"}],\"margin\":0,\"sizing_mode\":\"stretch_width\",\"align\":\"start\"}},{\"type\":\"object\",\"name\":\"Figure\",\"id\":\"p1473\",\"attributes\":{\"width\":700,\"height\":300,\"margin\":[5,10],\"sizing_mode\":\"fixed\",\"align\":\"start\",\"x_range\":{\"type\":\"object\",\"name\":\"Range1d\",\"id\":\"p1466\",\"attributes\":{\"tags\":[[[\"published_year\",null]],[]],\"start\":1821.8142857142857,\"end\":2029.1857142857143,\"reset_start\":1821.8142857142857,\"reset_end\":2029.1857142857143}},\"y_range\":{\"type\":\"object\",\"name\":\"Range1d\",\"id\":\"p1467\",\"attributes\":{\"tags\":[[[\"Count\",null]],{\"type\":\"map\",\"entries\":[[\"invert_yaxis\",false],[\"autorange\",false]]}],\"end\":36.3,\"reset_start\":0.0,\"reset_end\":36.3}},\"x_scale\":{\"type\":\"object\",\"name\":\"LinearScale\",\"id\":\"p1483\"},\"y_scale\":{\"type\":\"object\",\"name\":\"LinearScale\",\"id\":\"p1484\"},\"title\":{\"type\":\"object\",\"name\":\"Title\",\"id\":\"p1476\",\"attributes\":{\"text\":\"Book publishing year distribution\",\"text_color\":\"black\",\"text_font_size\":\"12pt\"}},\"renderers\":[{\"type\":\"object\",\"name\":\"GlyphRenderer\",\"id\":\"p1515\",\"attributes\":{\"data_source\":{\"type\":\"object\",\"name\":\"ColumnDataSource\",\"id\":\"p1506\",\"attributes\":{\"selected\":{\"type\":\"object\",\"name\":\"Selection\",\"id\":\"p1507\",\"attributes\":{\"indices\":[],\"line_indices\":[]}},\"selection_policy\":{\"type\":\"object\",\"name\":\"UnionRenderers\",\"id\":\"p1508\"},\"data\":{\"type\":\"map\",\"entries\":[[\"top\",{\"type\":\"ndarray\",\"array\":{\"type\":\"bytes\",\"data\":\"AQAAAAAAAAAAAAAABgAAAAQAAAABAAAABAAAAAUAAAADAAAABwAAAAYAAAAMAAAACgAAAAsAAAAPAAAAAQAAAAIAAAADAAAAAQAAAAUAAAAFAAAABQAAAAYAAAAJAAAADgAAAAoAAAAHAAAAIQAAABoAAAAaAAAA\"},\"shape\":[30],\"dtype\":\"int32\",\"order\":\"little\"}],[\"left\",{\"type\":\"ndarray\",\"array\":{\"type\":\"bytes\",\"data\":\"AAAAAACYnEB3d3d3d7GcQO/u7u7uypxAZmZmZmbknEDe3d3d3f2cQFVVVVVVF51AzczMzMwwnUBEREREREqdQLy7u7u7Y51AMzMzMzN9nUCrqqqqqpadQCIiIiIisJ1AmpmZmZnJnUAREREREeOdQIiIiIiI/J1AAAAAAAAWnkB3d3d3dy+eQO/u7u7uSJ5AZmZmZmZinkDe3d3d3XueQFVVVVVVlZ5AzczMzMyunkBERERERMieQLy7u7u74Z5AMzMzMzP7nkCrqqqqqhSfQCIiIiIiLp9AmpmZmZlHn0AREREREWGfQIiIiIiIep9A\"},\"shape\":[30],\"dtype\":\"float64\",\"order\":\"little\"}],[\"right\",{\"type\":\"ndarray\",\"array\":{\"type\":\"bytes\",\"data\":\"d3d3d3exnEDv7u7u7sqcQGZmZmZm5JxA3t3d3d39nEBVVVVVVRedQM3MzMzMMJ1ARERERERKnUC8u7u7u2OdQDMzMzMzfZ1Aq6qqqqqWnUAiIiIiIrCdQJqZmZmZyZ1AERERERHjnUCIiIiIiPydQAAAAAAAFp5Ad3d3d3cvnkDv7u7u7kieQGZmZmZmYp5A3t3d3d17nkBVVVVVVZWeQM3MzMzMrp5ARERERETInkC8u7u7u+GeQDMzMzMz+55Aq6qqqqoUn0AiIiIiIi6fQJqZmZmZR59AERERERFhn0CIiIiIiHqfQAAAAAAAlJ9A\"},\"shape\":[30],\"dtype\":\"float64\",\"order\":\"little\"}],[\"published_year\",{\"type\":\"ndarray\",\"array\":{\"type\":\"bytes\",\"data\":\"vLu7u7uknEAzMzMzM76cQKqqqqqq15xAIiIiIiLxnECamZmZmQqdQBERERERJJ1AiIiIiIg9nUAAAAAAAFedQHh3d3d3cJ1A7+7u7u6JnUBmZmZmZqOdQN7d3d3dvJ1AVlVVVVXWnUDMzMzMzO+dQERERERECZ5AvLu7u7sinkAzMzMzMzyeQKqqqqqqVZ5AIiIiIiJvnkCamZmZmYieQBERERERop5AiIiIiIi7nkAAAAAAANWeQHh3d3d37p5A7+7u7u4Hn0BmZmZmZiGfQN7d3d3dOp9AVlVVVVVUn0DMzMzMzG2fQEREREREh59A\"},\"shape\":[30],\"dtype\":\"float64\",\"order\":\"little\"}],[\"published_year_count\",{\"type\":\"ndarray\",\"array\":{\"type\":\"bytes\",\"data\":\"AQAAAAAAAAAAAAAABgAAAAQAAAABAAAABAAAAAUAAAADAAAABwAAAAYAAAAMAAAACgAAAAsAAAAPAAAAAQAAAAIAAAADAAAAAQAAAAUAAAAFAAAABQAAAAYAAAAJAAAADgAAAAoAAAAHAAAAIQAAABoAAAAaAAAA\"},\"shape\":[30],\"dtype\":\"int32\",\"order\":\"little\"}]]}}},\"view\":{\"type\":\"object\",\"name\":\"CDSView\",\"id\":\"p1516\",\"attributes\":{\"filter\":{\"type\":\"object\",\"name\":\"AllIndices\",\"id\":\"p1517\"}}},\"glyph\":{\"type\":\"object\",\"name\":\"Quad\",\"id\":\"p1512\",\"attributes\":{\"tags\":[\"apply_ranges\"],\"left\":{\"type\":\"field\",\"field\":\"left\"},\"right\":{\"type\":\"field\",\"field\":\"right\"},\"bottom\":{\"type\":\"value\",\"value\":0},\"top\":{\"type\":\"field\",\"field\":\"top\"},\"fill_color\":{\"type\":\"value\",\"value\":\"#30a2da\"},\"hatch_color\":{\"type\":\"value\",\"value\":\"#30a2da\"}}},\"selection_glyph\":{\"type\":\"object\",\"name\":\"Quad\",\"id\":\"p1518\",\"attributes\":{\"tags\":[\"apply_ranges\"],\"left\":{\"type\":\"field\",\"field\":\"left\"},\"right\":{\"type\":\"field\",\"field\":\"right\"},\"bottom\":{\"type\":\"value\",\"value\":0},\"top\":{\"type\":\"field\",\"field\":\"top\"},\"line_color\":{\"type\":\"value\",\"value\":\"black\"},\"line_alpha\":{\"type\":\"value\",\"value\":1.0},\"line_width\":{\"type\":\"value\",\"value\":1},\"line_join\":{\"type\":\"value\",\"value\":\"bevel\"},\"line_cap\":{\"type\":\"value\",\"value\":\"butt\"},\"line_dash\":{\"type\":\"value\",\"value\":[]},\"line_dash_offset\":{\"type\":\"value\",\"value\":0},\"fill_color\":{\"type\":\"value\",\"value\":\"#30a2da\"},\"fill_alpha\":{\"type\":\"value\",\"value\":1.0},\"hatch_color\":{\"type\":\"value\",\"value\":\"#30a2da\"},\"hatch_alpha\":{\"type\":\"value\",\"value\":1.0},\"hatch_scale\":{\"type\":\"value\",\"value\":12.0},\"hatch_pattern\":{\"type\":\"value\",\"value\":null},\"hatch_weight\":{\"type\":\"value\",\"value\":1.0}}},\"nonselection_glyph\":{\"type\":\"object\",\"name\":\"Quad\",\"id\":\"p1513\",\"attributes\":{\"tags\":[\"apply_ranges\"],\"left\":{\"type\":\"field\",\"field\":\"left\"},\"right\":{\"type\":\"field\",\"field\":\"right\"},\"bottom\":{\"type\":\"value\",\"value\":0},\"top\":{\"type\":\"field\",\"field\":\"top\"},\"line_alpha\":{\"type\":\"value\",\"value\":0.1},\"fill_color\":{\"type\":\"value\",\"value\":\"#30a2da\"},\"fill_alpha\":{\"type\":\"value\",\"value\":0.1},\"hatch_color\":{\"type\":\"value\",\"value\":\"#30a2da\"},\"hatch_alpha\":{\"type\":\"value\",\"value\":0.1}}},\"muted_glyph\":{\"type\":\"object\",\"name\":\"Quad\",\"id\":\"p1514\",\"attributes\":{\"tags\":[\"apply_ranges\"],\"left\":{\"type\":\"field\",\"field\":\"left\"},\"right\":{\"type\":\"field\",\"field\":\"right\"},\"bottom\":{\"type\":\"value\",\"value\":0},\"top\":{\"type\":\"field\",\"field\":\"top\"},\"line_alpha\":{\"type\":\"value\",\"value\":0.2},\"fill_color\":{\"type\":\"value\",\"value\":\"#30a2da\"},\"fill_alpha\":{\"type\":\"value\",\"value\":0.2},\"hatch_color\":{\"type\":\"value\",\"value\":\"#30a2da\"},\"hatch_alpha\":{\"type\":\"value\",\"value\":0.2}}}}}],\"toolbar\":{\"type\":\"object\",\"name\":\"Toolbar\",\"id\":\"p1482\",\"attributes\":{\"tools\":[{\"type\":\"object\",\"name\":\"WheelZoomTool\",\"id\":\"p1471\",\"attributes\":{\"tags\":[\"hv_created\"],\"renderers\":\"auto\",\"zoom_together\":\"none\"}},{\"type\":\"object\",\"name\":\"HoverTool\",\"id\":\"p1472\",\"attributes\":{\"tags\":[\"hv_created\"],\"renderers\":[{\"id\":\"p1515\"}],\"tooltips\":[[\"published_year\",\"@{published_year}\"],[\"Count\",\"@{published_year_count}\"]]}},{\"type\":\"object\",\"name\":\"SaveTool\",\"id\":\"p1495\"},{\"type\":\"object\",\"name\":\"PanTool\",\"id\":\"p1496\"},{\"type\":\"object\",\"name\":\"BoxZoomTool\",\"id\":\"p1497\",\"attributes\":{\"overlay\":{\"type\":\"object\",\"name\":\"BoxAnnotation\",\"id\":\"p1498\",\"attributes\":{\"syncable\":false,\"line_color\":\"black\",\"line_alpha\":1.0,\"line_width\":2,\"line_dash\":[4,4],\"fill_color\":\"lightgrey\",\"fill_alpha\":0.5,\"level\":\"overlay\",\"visible\":false,\"left\":{\"type\":\"number\",\"value\":\"nan\"},\"right\":{\"type\":\"number\",\"value\":\"nan\"},\"top\":{\"type\":\"number\",\"value\":\"nan\"},\"bottom\":{\"type\":\"number\",\"value\":\"nan\"},\"left_units\":\"canvas\",\"right_units\":\"canvas\",\"top_units\":\"canvas\",\"bottom_units\":\"canvas\",\"handles\":{\"type\":\"object\",\"name\":\"BoxInteractionHandles\",\"id\":\"p1504\",\"attributes\":{\"all\":{\"type\":\"object\",\"name\":\"AreaVisuals\",\"id\":\"p1503\",\"attributes\":{\"fill_color\":\"white\",\"hover_fill_color\":\"lightgray\"}}}}}}}},{\"type\":\"object\",\"name\":\"ResetTool\",\"id\":\"p1505\"}],\"active_drag\":{\"id\":\"p1496\"},\"active_scroll\":{\"id\":\"p1471\"}}},\"left\":[{\"type\":\"object\",\"name\":\"LinearAxis\",\"id\":\"p1490\",\"attributes\":{\"ticker\":{\"type\":\"object\",\"name\":\"BasicTicker\",\"id\":\"p1491\",\"attributes\":{\"mantissas\":[1,2,5]}},\"formatter\":{\"type\":\"object\",\"name\":\"BasicTickFormatter\",\"id\":\"p1492\"},\"axis_label\":\"\",\"major_label_policy\":{\"type\":\"object\",\"name\":\"AllLabels\",\"id\":\"p1493\"}}}],\"below\":[{\"type\":\"object\",\"name\":\"LinearAxis\",\"id\":\"p1485\",\"attributes\":{\"ticker\":{\"type\":\"object\",\"name\":\"BasicTicker\",\"id\":\"p1486\",\"attributes\":{\"mantissas\":[1,2,5]}},\"formatter\":{\"type\":\"object\",\"name\":\"BasicTickFormatter\",\"id\":\"p1487\"},\"axis_label\":\"published_year\",\"major_label_policy\":{\"type\":\"object\",\"name\":\"AllLabels\",\"id\":\"p1488\"}}}],\"center\":[{\"type\":\"object\",\"name\":\"Grid\",\"id\":\"p1489\",\"attributes\":{\"axis\":{\"id\":\"p1485\"},\"grid_line_color\":null}},{\"type\":\"object\",\"name\":\"Grid\",\"id\":\"p1494\",\"attributes\":{\"dimension\":1,\"axis\":{\"id\":\"p1490\"},\"grid_line_color\":null}}],\"min_border_top\":10,\"min_border_bottom\":10,\"min_border_left\":10,\"min_border_right\":10,\"output_backend\":\"webgl\"}},{\"type\":\"object\",\"name\":\"Spacer\",\"id\":\"p1520\",\"attributes\":{\"name\":\"HSpacer01562\",\"stylesheets\":[\"\\n:host(.pn-loading):before, .pn-loading:before {\\n  background-color: #c3c3c3;\\n  mask-size: auto calc(min(50%, 400px));\\n  -webkit-mask-size: auto calc(min(50%, 400px));\\n}\",{\"id\":\"p1464\"},{\"id\":\"p1462\"},{\"id\":\"p1463\"}],\"margin\":0,\"sizing_mode\":\"stretch_width\",\"align\":\"start\"}}]}}],\"defs\":[{\"type\":\"model\",\"name\":\"ReactiveHTML1\"},{\"type\":\"model\",\"name\":\"FlexBox1\",\"properties\":[{\"name\":\"align_content\",\"kind\":\"Any\",\"default\":\"flex-start\"},{\"name\":\"align_items\",\"kind\":\"Any\",\"default\":\"flex-start\"},{\"name\":\"flex_direction\",\"kind\":\"Any\",\"default\":\"row\"},{\"name\":\"flex_wrap\",\"kind\":\"Any\",\"default\":\"wrap\"},{\"name\":\"gap\",\"kind\":\"Any\",\"default\":\"\"},{\"name\":\"justify_content\",\"kind\":\"Any\",\"default\":\"flex-start\"}]},{\"type\":\"model\",\"name\":\"FloatPanel1\",\"properties\":[{\"name\":\"config\",\"kind\":\"Any\",\"default\":{\"type\":\"map\"}},{\"name\":\"contained\",\"kind\":\"Any\",\"default\":true},{\"name\":\"position\",\"kind\":\"Any\",\"default\":\"right-top\"},{\"name\":\"offsetx\",\"kind\":\"Any\",\"default\":null},{\"name\":\"offsety\",\"kind\":\"Any\",\"default\":null},{\"name\":\"theme\",\"kind\":\"Any\",\"default\":\"primary\"},{\"name\":\"status\",\"kind\":\"Any\",\"default\":\"normalized\"}]},{\"type\":\"model\",\"name\":\"GridStack1\",\"properties\":[{\"name\":\"mode\",\"kind\":\"Any\",\"default\":\"warn\"},{\"name\":\"ncols\",\"kind\":\"Any\",\"default\":null},{\"name\":\"nrows\",\"kind\":\"Any\",\"default\":null},{\"name\":\"allow_resize\",\"kind\":\"Any\",\"default\":true},{\"name\":\"allow_drag\",\"kind\":\"Any\",\"default\":true},{\"name\":\"state\",\"kind\":\"Any\",\"default\":[]}]},{\"type\":\"model\",\"name\":\"drag1\",\"properties\":[{\"name\":\"slider_width\",\"kind\":\"Any\",\"default\":5},{\"name\":\"slider_color\",\"kind\":\"Any\",\"default\":\"black\"},{\"name\":\"value\",\"kind\":\"Any\",\"default\":50}]},{\"type\":\"model\",\"name\":\"click1\",\"properties\":[{\"name\":\"terminal_output\",\"kind\":\"Any\",\"default\":\"\"},{\"name\":\"debug_name\",\"kind\":\"Any\",\"default\":\"\"},{\"name\":\"clears\",\"kind\":\"Any\",\"default\":0}]},{\"type\":\"model\",\"name\":\"FastWrapper1\",\"properties\":[{\"name\":\"object\",\"kind\":\"Any\",\"default\":null},{\"name\":\"style\",\"kind\":\"Any\",\"default\":null}]},{\"type\":\"model\",\"name\":\"NotificationAreaBase1\",\"properties\":[{\"name\":\"js_events\",\"kind\":\"Any\",\"default\":{\"type\":\"map\"}},{\"name\":\"position\",\"kind\":\"Any\",\"default\":\"bottom-right\"},{\"name\":\"_clear\",\"kind\":\"Any\",\"default\":0}]},{\"type\":\"model\",\"name\":\"NotificationArea1\",\"properties\":[{\"name\":\"js_events\",\"kind\":\"Any\",\"default\":{\"type\":\"map\"}},{\"name\":\"notifications\",\"kind\":\"Any\",\"default\":[]},{\"name\":\"position\",\"kind\":\"Any\",\"default\":\"bottom-right\"},{\"name\":\"_clear\",\"kind\":\"Any\",\"default\":0},{\"name\":\"types\",\"kind\":\"Any\",\"default\":[{\"type\":\"map\",\"entries\":[[\"type\",\"warning\"],[\"background\",\"#ffc107\"],[\"icon\",{\"type\":\"map\",\"entries\":[[\"className\",\"fas fa-exclamation-triangle\"],[\"tagName\",\"i\"],[\"color\",\"white\"]]}]]},{\"type\":\"map\",\"entries\":[[\"type\",\"info\"],[\"background\",\"#007bff\"],[\"icon\",{\"type\":\"map\",\"entries\":[[\"className\",\"fas fa-info-circle\"],[\"tagName\",\"i\"],[\"color\",\"white\"]]}]]}]}]},{\"type\":\"model\",\"name\":\"Notification\",\"properties\":[{\"name\":\"background\",\"kind\":\"Any\",\"default\":null},{\"name\":\"duration\",\"kind\":\"Any\",\"default\":3000},{\"name\":\"icon\",\"kind\":\"Any\",\"default\":null},{\"name\":\"message\",\"kind\":\"Any\",\"default\":\"\"},{\"name\":\"notification_type\",\"kind\":\"Any\",\"default\":null},{\"name\":\"_destroyed\",\"kind\":\"Any\",\"default\":false}]},{\"type\":\"model\",\"name\":\"TemplateActions1\",\"properties\":[{\"name\":\"open_modal\",\"kind\":\"Any\",\"default\":0},{\"name\":\"close_modal\",\"kind\":\"Any\",\"default\":0}]},{\"type\":\"model\",\"name\":\"BootstrapTemplateActions1\",\"properties\":[{\"name\":\"open_modal\",\"kind\":\"Any\",\"default\":0},{\"name\":\"close_modal\",\"kind\":\"Any\",\"default\":0}]},{\"type\":\"model\",\"name\":\"TemplateEditor1\",\"properties\":[{\"name\":\"layout\",\"kind\":\"Any\",\"default\":[]}]},{\"type\":\"model\",\"name\":\"MaterialTemplateActions1\",\"properties\":[{\"name\":\"open_modal\",\"kind\":\"Any\",\"default\":0},{\"name\":\"close_modal\",\"kind\":\"Any\",\"default\":0}]},{\"type\":\"model\",\"name\":\"ReactiveESM1\"},{\"type\":\"model\",\"name\":\"JSComponent1\"},{\"type\":\"model\",\"name\":\"ReactComponent1\"},{\"type\":\"model\",\"name\":\"AnyWidgetComponent1\"},{\"type\":\"model\",\"name\":\"request_value1\",\"properties\":[{\"name\":\"fill\",\"kind\":\"Any\",\"default\":\"none\"},{\"name\":\"_synced\",\"kind\":\"Any\",\"default\":null},{\"name\":\"_request_sync\",\"kind\":\"Any\",\"default\":0}]}]}};\n",
       "  var render_items = [{\"docid\":\"50212af5-e983-4f1b-8f57-ba300a36a32f\",\"roots\":{\"p1461\":\"c9b6c161-2d64-44b0-9aba-52c78a0ab9a4\"},\"root_ids\":[\"p1461\"]}];\n",
       "  var docs = Object.values(docs_json)\n",
       "  if (!docs) {\n",
       "    return\n",
       "  }\n",
       "  const py_version = docs[0].version.replace('rc', '-rc.').replace('.dev', '-dev.')\n",
       "  async function embed_document(root) {\n",
       "    var Bokeh = get_bokeh(root)\n",
       "    await Bokeh.embed.embed_items_notebook(docs_json, render_items);\n",
       "    for (const render_item of render_items) {\n",
       "      for (const root_id of render_item.root_ids) {\n",
       "\tconst id_el = document.getElementById(root_id)\n",
       "\tif (id_el.children.length && id_el.children[0].hasAttribute('data-root-id')) {\n",
       "\t  const root_el = id_el.children[0]\n",
       "\t  root_el.id = root_el.id + '-rendered'\n",
       "\t  for (const child of root_el.children) {\n",
       "            // Ensure JupyterLab does not capture keyboard shortcuts\n",
       "            // see: https://jupyterlab.readthedocs.io/en/4.1.x/extension/notebook.html#keyboard-interaction-model\n",
       "\t    child.setAttribute('data-lm-suppress-shortcuts', 'true')\n",
       "\t  }\n",
       "\t}\n",
       "      }\n",
       "    }\n",
       "  }\n",
       "  function get_bokeh(root) {\n",
       "    if (root.Bokeh === undefined) {\n",
       "      return null\n",
       "    } else if (root.Bokeh.version !== py_version) {\n",
       "      if (root.Bokeh.versions === undefined || !root.Bokeh.versions.has(py_version)) {\n",
       "\treturn null\n",
       "      }\n",
       "      return root.Bokeh.versions.get(py_version);\n",
       "    } else if (root.Bokeh.version === py_version) {\n",
       "      return root.Bokeh\n",
       "    }\n",
       "    return null\n",
       "  }\n",
       "  function is_loaded(root) {\n",
       "    var Bokeh = get_bokeh(root)\n",
       "    return (Bokeh != null && Bokeh.Panel !== undefined)\n",
       "  }\n",
       "  if (is_loaded(root)) {\n",
       "    embed_document(root);\n",
       "  } else {\n",
       "    var attempts = 0;\n",
       "    var timer = setInterval(function(root) {\n",
       "      if (is_loaded(root)) {\n",
       "        clearInterval(timer);\n",
       "        embed_document(root);\n",
       "      } else if (document.readyState == \"complete\") {\n",
       "        attempts++;\n",
       "        if (attempts > 200) {\n",
       "          clearInterval(timer);\n",
       "\t  var Bokeh = get_bokeh(root)\n",
       "\t  if (Bokeh == null || Bokeh.Panel == null) {\n",
       "            console.warn(\"Panel: ERROR: Unable to run Panel code because Bokeh or Panel library is missing\");\n",
       "\t  } else {\n",
       "\t    console.warn(\"Panel: WARNING: Attempting to render but not all required libraries could be resolved.\")\n",
       "\t    embed_document(root)\n",
       "\t  }\n",
       "        }\n",
       "      }\n",
       "    }, 25, root)\n",
       "  }\n",
       "})(window);</script>"
      ],
      "text/plain": [
       ":Histogram   [published_year]   (Count)"
      ]
     },
     "execution_count": 25,
     "metadata": {
      "application/vnd.holoviews_exec.v0+json": {
       "id": "p1461"
      }
     },
     "output_type": "execute_result"
    }
   ],
   "source": [
    "books_df.hvplot.hist(\n",
    "    y=\"published_year\", bins=30, title=\"Book publishing year distribution\"\n",
    ")"
   ]
  },
  {
   "cell_type": "markdown",
   "id": "5cd0e8fd-89ac-4150-a18c-12376a29e110",
   "metadata": {},
   "source": [
    "Number of books published in the same year might not be relevent but we can what is rented the most (taking publishing year in account) and connect it to the customer data (age group, education etc.)"
   ]
  },
  {
   "cell_type": "code",
   "execution_count": 26,
   "id": "f0de82e4-71b7-462b-86d7-ec709cb770ea",
   "metadata": {},
   "outputs": [
    {
     "data": {},
     "metadata": {},
     "output_type": "display_data"
    },
    {
     "data": {
      "application/vnd.holoviews_exec.v0+json": "",
      "text/html": [
       "<div id='p1529'>\n",
       "  <div id=\"af99e540-297b-47e3-8260-fc82811fb5f3\" data-root-id=\"p1529\" style=\"display: contents;\"></div>\n",
       "</div>\n",
       "<script type=\"application/javascript\">(function(root) {\n",
       "  var docs_json = {\"7b2445eb-69db-48ad-98de-ca9d913a7515\":{\"version\":\"3.6.0\",\"title\":\"Bokeh Application\",\"roots\":[{\"type\":\"object\",\"name\":\"Row\",\"id\":\"p1529\",\"attributes\":{\"name\":\"Row01641\",\"tags\":[\"embedded\"],\"stylesheets\":[\"\\n:host(.pn-loading):before, .pn-loading:before {\\n  background-color: #c3c3c3;\\n  mask-size: auto calc(min(50%, 400px));\\n  -webkit-mask-size: auto calc(min(50%, 400px));\\n}\",{\"type\":\"object\",\"name\":\"ImportedStyleSheet\",\"id\":\"p1532\",\"attributes\":{\"url\":\"https://cdn.holoviz.org/panel/1.5.3/dist/css/loading.css\"}},{\"type\":\"object\",\"name\":\"ImportedStyleSheet\",\"id\":\"p1590\",\"attributes\":{\"url\":\"https://cdn.holoviz.org/panel/1.5.3/dist/css/listpanel.css\"}},{\"type\":\"object\",\"name\":\"ImportedStyleSheet\",\"id\":\"p1530\",\"attributes\":{\"url\":\"https://cdn.holoviz.org/panel/1.5.3/dist/bundled/theme/default.css\"}},{\"type\":\"object\",\"name\":\"ImportedStyleSheet\",\"id\":\"p1531\",\"attributes\":{\"url\":\"https://cdn.holoviz.org/panel/1.5.3/dist/bundled/theme/native.css\"}}],\"min_width\":700,\"margin\":0,\"sizing_mode\":\"stretch_width\",\"align\":\"start\",\"children\":[{\"type\":\"object\",\"name\":\"Spacer\",\"id\":\"p1533\",\"attributes\":{\"name\":\"HSpacer01648\",\"stylesheets\":[\"\\n:host(.pn-loading):before, .pn-loading:before {\\n  background-color: #c3c3c3;\\n  mask-size: auto calc(min(50%, 400px));\\n  -webkit-mask-size: auto calc(min(50%, 400px));\\n}\",{\"id\":\"p1532\"},{\"id\":\"p1530\"},{\"id\":\"p1531\"}],\"margin\":0,\"sizing_mode\":\"stretch_width\",\"align\":\"start\"}},{\"type\":\"object\",\"name\":\"Figure\",\"id\":\"p1541\",\"attributes\":{\"width\":700,\"height\":300,\"margin\":[5,10],\"sizing_mode\":\"fixed\",\"align\":\"start\",\"x_range\":{\"type\":\"object\",\"name\":\"Range1d\",\"id\":\"p1534\",\"attributes\":{\"tags\":[[[\"Book returned\",null]],[]],\"start\":-1.0857142857142856,\"end\":1.0857142857142856,\"reset_start\":-1.0857142857142856,\"reset_end\":1.0857142857142856}},\"y_range\":{\"type\":\"object\",\"name\":\"Range1d\",\"id\":\"p1535\",\"attributes\":{\"tags\":[[[\"Number of customers\",null]],{\"type\":\"map\",\"entries\":[[\"invert_yaxis\",false],[\"autorange\",false]]}],\"end\":1347.9,\"reset_start\":0.0,\"reset_end\":1347.9}},\"x_scale\":{\"type\":\"object\",\"name\":\"LinearScale\",\"id\":\"p1551\"},\"y_scale\":{\"type\":\"object\",\"name\":\"LinearScale\",\"id\":\"p1552\"},\"title\":{\"type\":\"object\",\"name\":\"Title\",\"id\":\"p1544\",\"attributes\":{\"text\":\"Customers returning/not returning books\",\"text_color\":\"black\",\"text_font_size\":\"12pt\"}},\"renderers\":[{\"type\":\"object\",\"name\":\"GlyphRenderer\",\"id\":\"p1583\",\"attributes\":{\"data_source\":{\"type\":\"object\",\"name\":\"ColumnDataSource\",\"id\":\"p1574\",\"attributes\":{\"selected\":{\"type\":\"object\",\"name\":\"Selection\",\"id\":\"p1575\",\"attributes\":{\"indices\":[],\"line_indices\":[]}},\"selection_policy\":{\"type\":\"object\",\"name\":\"UnionRenderers\",\"id\":\"p1576\"},\"data\":{\"type\":\"map\",\"entries\":[[\"Book_returned\",{\"type\":\"ndarray\",\"array\":{\"type\":\"bytes\",\"data\":\"AAAAAP////8BAAAA\"},\"shape\":[3],\"dtype\":\"int32\",\"order\":\"little\"}],[\"Number_of_customers\",{\"type\":\"ndarray\",\"array\":{\"type\":\"bytes\",\"data\":\"lwEAAFEBAADoBAAA\"},\"shape\":[3],\"dtype\":\"uint32\",\"order\":\"little\"}]]}}},\"view\":{\"type\":\"object\",\"name\":\"CDSView\",\"id\":\"p1584\",\"attributes\":{\"filter\":{\"type\":\"object\",\"name\":\"AllIndices\",\"id\":\"p1585\"}}},\"glyph\":{\"type\":\"object\",\"name\":\"VBar\",\"id\":\"p1580\",\"attributes\":{\"tags\":[\"apply_ranges\"],\"x\":{\"type\":\"field\",\"field\":\"Book_returned\"},\"width\":{\"type\":\"value\",\"value\":0.4},\"top\":{\"type\":\"field\",\"field\":\"Number_of_customers\"},\"fill_color\":{\"type\":\"value\",\"value\":\"purple\"},\"hatch_color\":{\"type\":\"value\",\"value\":\"purple\"}}},\"selection_glyph\":{\"type\":\"object\",\"name\":\"VBar\",\"id\":\"p1586\",\"attributes\":{\"tags\":[\"apply_ranges\"],\"x\":{\"type\":\"field\",\"field\":\"Book_returned\"},\"width\":{\"type\":\"value\",\"value\":0.4},\"bottom\":{\"type\":\"value\",\"value\":0},\"top\":{\"type\":\"field\",\"field\":\"Number_of_customers\"},\"line_color\":{\"type\":\"value\",\"value\":\"black\"},\"line_alpha\":{\"type\":\"value\",\"value\":1.0},\"line_width\":{\"type\":\"value\",\"value\":1},\"line_join\":{\"type\":\"value\",\"value\":\"bevel\"},\"line_cap\":{\"type\":\"value\",\"value\":\"butt\"},\"line_dash\":{\"type\":\"value\",\"value\":[]},\"line_dash_offset\":{\"type\":\"value\",\"value\":0},\"fill_color\":{\"type\":\"value\",\"value\":\"purple\"},\"fill_alpha\":{\"type\":\"value\",\"value\":1.0},\"hatch_color\":{\"type\":\"value\",\"value\":\"purple\"},\"hatch_alpha\":{\"type\":\"value\",\"value\":1.0},\"hatch_scale\":{\"type\":\"value\",\"value\":12.0},\"hatch_pattern\":{\"type\":\"value\",\"value\":null},\"hatch_weight\":{\"type\":\"value\",\"value\":1.0}}},\"nonselection_glyph\":{\"type\":\"object\",\"name\":\"VBar\",\"id\":\"p1581\",\"attributes\":{\"tags\":[\"apply_ranges\"],\"x\":{\"type\":\"field\",\"field\":\"Book_returned\"},\"width\":{\"type\":\"value\",\"value\":0.4},\"top\":{\"type\":\"field\",\"field\":\"Number_of_customers\"},\"line_alpha\":{\"type\":\"value\",\"value\":0.1},\"fill_color\":{\"type\":\"value\",\"value\":\"purple\"},\"fill_alpha\":{\"type\":\"value\",\"value\":0.1},\"hatch_color\":{\"type\":\"value\",\"value\":\"purple\"},\"hatch_alpha\":{\"type\":\"value\",\"value\":0.1}}},\"muted_glyph\":{\"type\":\"object\",\"name\":\"VBar\",\"id\":\"p1582\",\"attributes\":{\"tags\":[\"apply_ranges\"],\"x\":{\"type\":\"field\",\"field\":\"Book_returned\"},\"width\":{\"type\":\"value\",\"value\":0.4},\"top\":{\"type\":\"field\",\"field\":\"Number_of_customers\"},\"line_alpha\":{\"type\":\"value\",\"value\":0.2},\"fill_color\":{\"type\":\"value\",\"value\":\"purple\"},\"fill_alpha\":{\"type\":\"value\",\"value\":0.2},\"hatch_color\":{\"type\":\"value\",\"value\":\"purple\"},\"hatch_alpha\":{\"type\":\"value\",\"value\":0.2}}}}}],\"toolbar\":{\"type\":\"object\",\"name\":\"Toolbar\",\"id\":\"p1550\",\"attributes\":{\"tools\":[{\"type\":\"object\",\"name\":\"WheelZoomTool\",\"id\":\"p1539\",\"attributes\":{\"tags\":[\"hv_created\"],\"renderers\":\"auto\",\"zoom_together\":\"none\"}},{\"type\":\"object\",\"name\":\"HoverTool\",\"id\":\"p1540\",\"attributes\":{\"tags\":[\"hv_created\"],\"renderers\":[{\"id\":\"p1583\"}],\"tooltips\":[[\"Book returned\",\"@{Book_returned}\"],[\"Number of customers\",\"@{Number_of_customers}\"]]}},{\"type\":\"object\",\"name\":\"SaveTool\",\"id\":\"p1563\"},{\"type\":\"object\",\"name\":\"PanTool\",\"id\":\"p1564\"},{\"type\":\"object\",\"name\":\"BoxZoomTool\",\"id\":\"p1565\",\"attributes\":{\"overlay\":{\"type\":\"object\",\"name\":\"BoxAnnotation\",\"id\":\"p1566\",\"attributes\":{\"syncable\":false,\"line_color\":\"black\",\"line_alpha\":1.0,\"line_width\":2,\"line_dash\":[4,4],\"fill_color\":\"lightgrey\",\"fill_alpha\":0.5,\"level\":\"overlay\",\"visible\":false,\"left\":{\"type\":\"number\",\"value\":\"nan\"},\"right\":{\"type\":\"number\",\"value\":\"nan\"},\"top\":{\"type\":\"number\",\"value\":\"nan\"},\"bottom\":{\"type\":\"number\",\"value\":\"nan\"},\"left_units\":\"canvas\",\"right_units\":\"canvas\",\"top_units\":\"canvas\",\"bottom_units\":\"canvas\",\"handles\":{\"type\":\"object\",\"name\":\"BoxInteractionHandles\",\"id\":\"p1572\",\"attributes\":{\"all\":{\"type\":\"object\",\"name\":\"AreaVisuals\",\"id\":\"p1571\",\"attributes\":{\"fill_color\":\"white\",\"hover_fill_color\":\"lightgray\"}}}}}}}},{\"type\":\"object\",\"name\":\"ResetTool\",\"id\":\"p1573\"}],\"active_drag\":{\"id\":\"p1564\"},\"active_scroll\":{\"id\":\"p1539\"}}},\"left\":[{\"type\":\"object\",\"name\":\"LinearAxis\",\"id\":\"p1558\",\"attributes\":{\"ticker\":{\"type\":\"object\",\"name\":\"BasicTicker\",\"id\":\"p1559\",\"attributes\":{\"mantissas\":[1,2,5]}},\"formatter\":{\"type\":\"object\",\"name\":\"BasicTickFormatter\",\"id\":\"p1560\"},\"axis_label\":\"Number of customers\",\"major_label_policy\":{\"type\":\"object\",\"name\":\"AllLabels\",\"id\":\"p1561\"}}}],\"below\":[{\"type\":\"object\",\"name\":\"LinearAxis\",\"id\":\"p1553\",\"attributes\":{\"ticker\":{\"type\":\"object\",\"name\":\"BasicTicker\",\"id\":\"p1554\",\"attributes\":{\"mantissas\":[1,2,5]}},\"formatter\":{\"type\":\"object\",\"name\":\"BasicTickFormatter\",\"id\":\"p1555\"},\"axis_label\":\"Book returned\",\"major_label_orientation\":1.5707963267948966,\"major_label_policy\":{\"type\":\"object\",\"name\":\"AllLabels\",\"id\":\"p1556\"}}}],\"center\":[{\"type\":\"object\",\"name\":\"Grid\",\"id\":\"p1557\",\"attributes\":{\"axis\":{\"id\":\"p1553\"},\"grid_line_color\":null}},{\"type\":\"object\",\"name\":\"Grid\",\"id\":\"p1562\",\"attributes\":{\"dimension\":1,\"axis\":{\"id\":\"p1558\"},\"grid_line_color\":null}}],\"min_border_top\":10,\"min_border_bottom\":10,\"min_border_left\":10,\"min_border_right\":10,\"output_backend\":\"webgl\"}},{\"type\":\"object\",\"name\":\"Spacer\",\"id\":\"p1588\",\"attributes\":{\"name\":\"HSpacer01649\",\"stylesheets\":[\"\\n:host(.pn-loading):before, .pn-loading:before {\\n  background-color: #c3c3c3;\\n  mask-size: auto calc(min(50%, 400px));\\n  -webkit-mask-size: auto calc(min(50%, 400px));\\n}\",{\"id\":\"p1532\"},{\"id\":\"p1530\"},{\"id\":\"p1531\"}],\"margin\":0,\"sizing_mode\":\"stretch_width\",\"align\":\"start\"}}]}}],\"defs\":[{\"type\":\"model\",\"name\":\"ReactiveHTML1\"},{\"type\":\"model\",\"name\":\"FlexBox1\",\"properties\":[{\"name\":\"align_content\",\"kind\":\"Any\",\"default\":\"flex-start\"},{\"name\":\"align_items\",\"kind\":\"Any\",\"default\":\"flex-start\"},{\"name\":\"flex_direction\",\"kind\":\"Any\",\"default\":\"row\"},{\"name\":\"flex_wrap\",\"kind\":\"Any\",\"default\":\"wrap\"},{\"name\":\"gap\",\"kind\":\"Any\",\"default\":\"\"},{\"name\":\"justify_content\",\"kind\":\"Any\",\"default\":\"flex-start\"}]},{\"type\":\"model\",\"name\":\"FloatPanel1\",\"properties\":[{\"name\":\"config\",\"kind\":\"Any\",\"default\":{\"type\":\"map\"}},{\"name\":\"contained\",\"kind\":\"Any\",\"default\":true},{\"name\":\"position\",\"kind\":\"Any\",\"default\":\"right-top\"},{\"name\":\"offsetx\",\"kind\":\"Any\",\"default\":null},{\"name\":\"offsety\",\"kind\":\"Any\",\"default\":null},{\"name\":\"theme\",\"kind\":\"Any\",\"default\":\"primary\"},{\"name\":\"status\",\"kind\":\"Any\",\"default\":\"normalized\"}]},{\"type\":\"model\",\"name\":\"GridStack1\",\"properties\":[{\"name\":\"mode\",\"kind\":\"Any\",\"default\":\"warn\"},{\"name\":\"ncols\",\"kind\":\"Any\",\"default\":null},{\"name\":\"nrows\",\"kind\":\"Any\",\"default\":null},{\"name\":\"allow_resize\",\"kind\":\"Any\",\"default\":true},{\"name\":\"allow_drag\",\"kind\":\"Any\",\"default\":true},{\"name\":\"state\",\"kind\":\"Any\",\"default\":[]}]},{\"type\":\"model\",\"name\":\"drag1\",\"properties\":[{\"name\":\"slider_width\",\"kind\":\"Any\",\"default\":5},{\"name\":\"slider_color\",\"kind\":\"Any\",\"default\":\"black\"},{\"name\":\"value\",\"kind\":\"Any\",\"default\":50}]},{\"type\":\"model\",\"name\":\"click1\",\"properties\":[{\"name\":\"terminal_output\",\"kind\":\"Any\",\"default\":\"\"},{\"name\":\"debug_name\",\"kind\":\"Any\",\"default\":\"\"},{\"name\":\"clears\",\"kind\":\"Any\",\"default\":0}]},{\"type\":\"model\",\"name\":\"FastWrapper1\",\"properties\":[{\"name\":\"object\",\"kind\":\"Any\",\"default\":null},{\"name\":\"style\",\"kind\":\"Any\",\"default\":null}]},{\"type\":\"model\",\"name\":\"NotificationAreaBase1\",\"properties\":[{\"name\":\"js_events\",\"kind\":\"Any\",\"default\":{\"type\":\"map\"}},{\"name\":\"position\",\"kind\":\"Any\",\"default\":\"bottom-right\"},{\"name\":\"_clear\",\"kind\":\"Any\",\"default\":0}]},{\"type\":\"model\",\"name\":\"NotificationArea1\",\"properties\":[{\"name\":\"js_events\",\"kind\":\"Any\",\"default\":{\"type\":\"map\"}},{\"name\":\"notifications\",\"kind\":\"Any\",\"default\":[]},{\"name\":\"position\",\"kind\":\"Any\",\"default\":\"bottom-right\"},{\"name\":\"_clear\",\"kind\":\"Any\",\"default\":0},{\"name\":\"types\",\"kind\":\"Any\",\"default\":[{\"type\":\"map\",\"entries\":[[\"type\",\"warning\"],[\"background\",\"#ffc107\"],[\"icon\",{\"type\":\"map\",\"entries\":[[\"className\",\"fas fa-exclamation-triangle\"],[\"tagName\",\"i\"],[\"color\",\"white\"]]}]]},{\"type\":\"map\",\"entries\":[[\"type\",\"info\"],[\"background\",\"#007bff\"],[\"icon\",{\"type\":\"map\",\"entries\":[[\"className\",\"fas fa-info-circle\"],[\"tagName\",\"i\"],[\"color\",\"white\"]]}]]}]}]},{\"type\":\"model\",\"name\":\"Notification\",\"properties\":[{\"name\":\"background\",\"kind\":\"Any\",\"default\":null},{\"name\":\"duration\",\"kind\":\"Any\",\"default\":3000},{\"name\":\"icon\",\"kind\":\"Any\",\"default\":null},{\"name\":\"message\",\"kind\":\"Any\",\"default\":\"\"},{\"name\":\"notification_type\",\"kind\":\"Any\",\"default\":null},{\"name\":\"_destroyed\",\"kind\":\"Any\",\"default\":false}]},{\"type\":\"model\",\"name\":\"TemplateActions1\",\"properties\":[{\"name\":\"open_modal\",\"kind\":\"Any\",\"default\":0},{\"name\":\"close_modal\",\"kind\":\"Any\",\"default\":0}]},{\"type\":\"model\",\"name\":\"BootstrapTemplateActions1\",\"properties\":[{\"name\":\"open_modal\",\"kind\":\"Any\",\"default\":0},{\"name\":\"close_modal\",\"kind\":\"Any\",\"default\":0}]},{\"type\":\"model\",\"name\":\"TemplateEditor1\",\"properties\":[{\"name\":\"layout\",\"kind\":\"Any\",\"default\":[]}]},{\"type\":\"model\",\"name\":\"MaterialTemplateActions1\",\"properties\":[{\"name\":\"open_modal\",\"kind\":\"Any\",\"default\":0},{\"name\":\"close_modal\",\"kind\":\"Any\",\"default\":0}]},{\"type\":\"model\",\"name\":\"ReactiveESM1\"},{\"type\":\"model\",\"name\":\"JSComponent1\"},{\"type\":\"model\",\"name\":\"ReactComponent1\"},{\"type\":\"model\",\"name\":\"AnyWidgetComponent1\"},{\"type\":\"model\",\"name\":\"request_value1\",\"properties\":[{\"name\":\"fill\",\"kind\":\"Any\",\"default\":\"none\"},{\"name\":\"_synced\",\"kind\":\"Any\",\"default\":null},{\"name\":\"_request_sync\",\"kind\":\"Any\",\"default\":0}]}]}};\n",
       "  var render_items = [{\"docid\":\"7b2445eb-69db-48ad-98de-ca9d913a7515\",\"roots\":{\"p1529\":\"af99e540-297b-47e3-8260-fc82811fb5f3\"},\"root_ids\":[\"p1529\"]}];\n",
       "  var docs = Object.values(docs_json)\n",
       "  if (!docs) {\n",
       "    return\n",
       "  }\n",
       "  const py_version = docs[0].version.replace('rc', '-rc.').replace('.dev', '-dev.')\n",
       "  async function embed_document(root) {\n",
       "    var Bokeh = get_bokeh(root)\n",
       "    await Bokeh.embed.embed_items_notebook(docs_json, render_items);\n",
       "    for (const render_item of render_items) {\n",
       "      for (const root_id of render_item.root_ids) {\n",
       "\tconst id_el = document.getElementById(root_id)\n",
       "\tif (id_el.children.length && id_el.children[0].hasAttribute('data-root-id')) {\n",
       "\t  const root_el = id_el.children[0]\n",
       "\t  root_el.id = root_el.id + '-rendered'\n",
       "\t  for (const child of root_el.children) {\n",
       "            // Ensure JupyterLab does not capture keyboard shortcuts\n",
       "            // see: https://jupyterlab.readthedocs.io/en/4.1.x/extension/notebook.html#keyboard-interaction-model\n",
       "\t    child.setAttribute('data-lm-suppress-shortcuts', 'true')\n",
       "\t  }\n",
       "\t}\n",
       "      }\n",
       "    }\n",
       "  }\n",
       "  function get_bokeh(root) {\n",
       "    if (root.Bokeh === undefined) {\n",
       "      return null\n",
       "    } else if (root.Bokeh.version !== py_version) {\n",
       "      if (root.Bokeh.versions === undefined || !root.Bokeh.versions.has(py_version)) {\n",
       "\treturn null\n",
       "      }\n",
       "      return root.Bokeh.versions.get(py_version);\n",
       "    } else if (root.Bokeh.version === py_version) {\n",
       "      return root.Bokeh\n",
       "    }\n",
       "    return null\n",
       "  }\n",
       "  function is_loaded(root) {\n",
       "    var Bokeh = get_bokeh(root)\n",
       "    return (Bokeh != null && Bokeh.Panel !== undefined)\n",
       "  }\n",
       "  if (is_loaded(root)) {\n",
       "    embed_document(root);\n",
       "  } else {\n",
       "    var attempts = 0;\n",
       "    var timer = setInterval(function(root) {\n",
       "      if (is_loaded(root)) {\n",
       "        clearInterval(timer);\n",
       "        embed_document(root);\n",
       "      } else if (document.readyState == \"complete\") {\n",
       "        attempts++;\n",
       "        if (attempts > 200) {\n",
       "          clearInterval(timer);\n",
       "\t  var Bokeh = get_bokeh(root)\n",
       "\t  if (Bokeh == null || Bokeh.Panel == null) {\n",
       "            console.warn(\"Panel: ERROR: Unable to run Panel code because Bokeh or Panel library is missing\");\n",
       "\t  } else {\n",
       "\t    console.warn(\"Panel: WARNING: Attempting to render but not all required libraries could be resolved.\")\n",
       "\t    embed_document(root)\n",
       "\t  }\n",
       "        }\n",
       "      }\n",
       "    }, 25, root)\n",
       "  }\n",
       "})(window);</script>"
      ],
      "text/plain": [
       ":Bars   [Book returned]   (Number of customers)"
      ]
     },
     "execution_count": 26,
     "metadata": {
      "application/vnd.holoviews_exec.v0+json": {
       "id": "p1529"
      }
     },
     "output_type": "execute_result"
    }
   ],
   "source": [
    "book_returned_df = checkouts_df.group_by(\"book_returned\").len()\n",
    "book_returned_df = book_returned_df.drop_nulls().rename(\n",
    "    {\"book_returned\": \"Book returned\", \"len\": \"Number of customers\"}\n",
    ")\n",
    "book_returned_df.hvplot.bar(\n",
    "    x=\"Book returned\",\n",
    "    y=\"Number of customers\",\n",
    "    rot=90,\n",
    "    stacked=True,\n",
    "    color=\"purple\",\n",
    "    title=\"Customers returning/not returning books\",\n",
    ")"
   ]
  },
  {
   "cell_type": "markdown",
   "id": "39184d50-628d-41d6-8bd3-708be146f6a3",
   "metadata": {},
   "source": [
    "By analyzing data about books we see that: \n",
    "1. Number of book categories and their distribution in total number of books is not relevant, it's doesn't tell much. There are a couple of categories that are dominant.\n",
    "2. From publishing years we can see deficiency of books published between 1940. and 1960. year. These informations are not relevant for the problem we are trying to solve\n",
    "3. Both prices and number of pages are following normal distribution\n",
    "4. 20% does not return rented books on time\n",
    "5. 10% of rented books data is invalid\n",
    "\n",
    "Adding publisher column to the list of analyzed data doesn't accomplish anything and this column is not valuable as potential feature. \n",
    "Already from the `Customers returning/not returning books` bar plot we can see imbalance in number of positive and negative labels. Training predictive model is going to be harder. "
   ]
  },
  {
   "cell_type": "markdown",
   "id": "b77b0617-fdf9-489b-8bfb-e125d5d67447",
   "metadata": {},
   "source": [
    "### Connecting data together\n",
    "\n",
    "Joining customers and books data through checkouts will tell what type of customers and what types of books are returning late.\n",
    "Selected columns should be tested for correlation with the label. \n",
    "After correlation check, columns above the threshold can be used for training predictive model."
   ]
  },
  {
   "cell_type": "code",
   "execution_count": 27,
   "id": "eb44bb6c-ba60-46b6-8ff9-924d5e247e5c",
   "metadata": {},
   "outputs": [
    {
     "name": "stdout",
     "output_type": "stream",
     "text": [
      "Number of data points: 2000\n"
     ]
    }
   ],
   "source": [
    "customer_checkout_df = customers_df.rename({\"id\": \"patron_id\"}).join(\n",
    "    checkouts_df, on=\"patron_id\"\n",
    ")\n",
    "library_df = customer_checkout_df.join(books_df, on=\"id\", how=\"left\")\n",
    "\n",
    "print(f\"Number of data points: {len(library_df)}\")"
   ]
  },
  {
   "cell_type": "markdown",
   "id": "384b1eeb-374d-4289-b1ba-0b9c1937cb92",
   "metadata": {},
   "source": [
    "Number of data points fits the number of customers. "
   ]
  },
  {
   "cell_type": "markdown",
   "id": "c6cf1ab9-58f6-4f7a-b012-6d3f88f266ab",
   "metadata": {},
   "source": [
    "### Columns and the resulting table for analysis"
   ]
  },
  {
   "cell_type": "code",
   "execution_count": 28,
   "id": "8b796173-7280-4ede-a589-424f3d2b4766",
   "metadata": {},
   "outputs": [
    {
     "data": {
      "text/html": [
       "<div><style>\n",
       ".dataframe > thead > tr,\n",
       ".dataframe > tbody > tr {\n",
       "  text-align: right;\n",
       "  white-space: pre-wrap;\n",
       "}\n",
       "</style>\n",
       "<small>shape: (3, 26)</small><table border=\"1\" class=\"dataframe\"><thead><tr><th>patron_id</th><th>name</th><th>street_address</th><th>city</th><th>state</th><th>zipcode</th><th>birth_date</th><th>gender</th><th>education</th><th>occupation</th><th>age</th><th>age_category</th><th>id</th><th>library_id</th><th>date_checkout</th><th>date_returned</th><th>days_holding_book</th><th>book_returned</th><th>title</th><th>authors</th><th>publisher</th><th>published_date</th><th>categories</th><th>price</th><th>pages</th><th>published_year</th></tr><tr><td>str</td><td>str</td><td>str</td><td>str</td><td>str</td><td>i32</td><td>date</td><td>str</td><td>str</td><td>str</td><td>f64</td><td>str</td><td>str</td><td>str</td><td>date</td><td>date</td><td>i32</td><td>i32</td><td>str</td><td>list[str]</td><td>str</td><td>str</td><td>list[str]</td><td>f32</td><td>i32</td><td>i32</td></tr></thead><tbody><tr><td>&quot;f073be688f2016dc22f318b7113e06…</td><td>&quot;Jill Hamood&quot;</td><td>&quot;3036 Ne Everett St&quot;</td><td>&quot;Portland&quot;</td><td>&quot;Oregon&quot;</td><td>97232</td><td>1814-10-13</td><td>&quot;female&quot;</td><td>null</td><td>&quot;Blue Collar&quot;</td><td>210.0</td><td>&quot;Undefined&quot;</td><td>&quot;1Mc0AQAAMAAJ&quot;</td><td>&quot;226-222@5xc-jxj-7yv&quot;</td><td>2018-05-09</td><td>2018-05-24</td><td>15</td><td>1</td><td>&quot;The Institutes Of Medicine&quot;</td><td>[&quot;Martyn Paine&quot;]</td><td>null</td><td>&quot;1862&quot;</td><td>[&quot;Medicine&quot;]</td><td>119.0</td><td>600</td><td>1862</td></tr><tr><td>&quot;bad6c410ae2a8b7a069f4f6398f576…</td><td>&quot;Richard Rangaswamy&quot;</td><td>&quot;10344 Ne Skidmore St&quot;</td><td>&quot;Portland&quot;</td><td>&quot;Oregon&quot;</td><td>97220</td><td>2119-08-14</td><td>null</td><td>&quot;Others&quot;</td><td>&quot;Education &amp; Health&quot;</td><td>-95.0</td><td>&quot;Undefined&quot;</td><td>&quot;sBmIDwAAQBAJ&quot;</td><td>&quot;226-222@5xc-jxj-7yv&quot;</td><td>2018-07-06</td><td>2018-08-01</td><td>26</td><td>1</td><td>&quot;Automotive Engine Performance&quot;</td><td>[&quot;Nicholas Goodnight&quot;]</td><td>&quot;Jones &amp; Bartlett Learning&quot;</td><td>&quot;2019-02-22&quot;</td><td>[&quot;Transportation&quot;]</td><td>196.0</td><td>703</td><td>2019</td></tr><tr><td>&quot;20aea0583cd89cdcb437bf2eb40a38…</td><td>&quot;Robert Crespo&quot;</td><td>&quot;90 Nw Davis St&quot;</td><td>&quot;Portland&quot;</td><td>&quot;Oregon&quot;</td><td>97209</td><td>null</td><td>&quot;male&quot;</td><td>&quot;Graduate Degree&quot;</td><td>&quot;Others&quot;</td><td>45.0</td><td>&quot;Undefined&quot;</td><td>&quot;teQaAQAAMAAJ&quot;</td><td>&quot;222-222@5xc-jv5-nt9&quot;</td><td>null</td><td>2018-04-09</td><td>null</td><td>-1</td><td>&quot;Directory Of Northern Library …</td><td>null</td><td>null</td><td>&quot;1965&quot;</td><td>[&quot;Libraries&quot;]</td><td>101.0</td><td>372</td><td>1965</td></tr></tbody></table></div>"
      ],
      "text/plain": [
       "shape: (3, 26)\n",
       "┌─────────────┬─────────────┬─────────────┬──────────┬───┬────────────┬───────┬───────┬────────────┐\n",
       "│ patron_id   ┆ name        ┆ street_addr ┆ city     ┆ … ┆ categories ┆ price ┆ pages ┆ published_ │\n",
       "│ ---         ┆ ---         ┆ ess         ┆ ---      ┆   ┆ ---        ┆ ---   ┆ ---   ┆ year       │\n",
       "│ str         ┆ str         ┆ ---         ┆ str      ┆   ┆ list[str]  ┆ f32   ┆ i32   ┆ ---        │\n",
       "│             ┆             ┆ str         ┆          ┆   ┆            ┆       ┆       ┆ i32        │\n",
       "╞═════════════╪═════════════╪═════════════╪══════════╪═══╪════════════╪═══════╪═══════╪════════════╡\n",
       "│ f073be688f2 ┆ Jill Hamood ┆ 3036 Ne     ┆ Portland ┆ … ┆ [\"Medicine ┆ 119.0 ┆ 600   ┆ 1862       │\n",
       "│ 016dc22f318 ┆             ┆ Everett St  ┆          ┆   ┆ \"]         ┆       ┆       ┆            │\n",
       "│ b7113e06…   ┆             ┆             ┆          ┆   ┆            ┆       ┆       ┆            │\n",
       "│ bad6c410ae2 ┆ Richard     ┆ 10344 Ne    ┆ Portland ┆ … ┆ [\"Transpor ┆ 196.0 ┆ 703   ┆ 2019       │\n",
       "│ a8b7a069f4f ┆ Rangaswamy  ┆ Skidmore St ┆          ┆   ┆ tation\"]   ┆       ┆       ┆            │\n",
       "│ 6398f576…   ┆             ┆             ┆          ┆   ┆            ┆       ┆       ┆            │\n",
       "│ 20aea0583cd ┆ Robert      ┆ 90 Nw Davis ┆ Portland ┆ … ┆ [\"Librarie ┆ 101.0 ┆ 372   ┆ 1965       │\n",
       "│ 89cdcb437bf ┆ Crespo      ┆ St          ┆          ┆   ┆ s\"]        ┆       ┆       ┆            │\n",
       "│ 2eb40a38…   ┆             ┆             ┆          ┆   ┆            ┆       ┆       ┆            │\n",
       "└─────────────┴─────────────┴─────────────┴──────────┴───┴────────────┴───────┴───────┴────────────┘"
      ]
     },
     "execution_count": 28,
     "metadata": {},
     "output_type": "execute_result"
    }
   ],
   "source": [
    "library_df.head(3)"
   ]
  },
  {
   "cell_type": "markdown",
   "id": "ba941866-dd0b-451f-aacd-b1081be5b813",
   "metadata": {},
   "source": [
    "In the table above, we have sample data and all columns listed. This mini table represent joined data between customers, books and checkouts.\n",
    "By analyzing this dataframe one can check which customers returned books (or not), what kinds of books, their prices, pages, categories etc.\n",
    "We can add also information about libraries and check which library has to most problems about late returnings."
   ]
  },
  {
   "cell_type": "code",
   "execution_count": 29,
   "id": "c66a843f-bc27-47f7-9198-4bded9a2855e",
   "metadata": {},
   "outputs": [
    {
     "data": {},
     "metadata": {},
     "output_type": "display_data"
    },
    {
     "data": {
      "application/vnd.holoviews_exec.v0+json": "",
      "text/html": [
       "<div id='p1594'>\n",
       "  <div id=\"f91a8ccf-edc1-46b4-94c4-0fd48a8a430f\" data-root-id=\"p1594\" style=\"display: contents;\"></div>\n",
       "</div>\n",
       "<script type=\"application/javascript\">(function(root) {\n",
       "  var docs_json = {\"dc3944d3-d9dd-42c9-b8aa-104199c3b2a2\":{\"version\":\"3.6.0\",\"title\":\"Bokeh Application\",\"roots\":[{\"type\":\"object\",\"name\":\"Row\",\"id\":\"p1594\",\"attributes\":{\"name\":\"Row01794\",\"tags\":[\"embedded\"],\"stylesheets\":[\"\\n:host(.pn-loading):before, .pn-loading:before {\\n  background-color: #c3c3c3;\\n  mask-size: auto calc(min(50%, 400px));\\n  -webkit-mask-size: auto calc(min(50%, 400px));\\n}\",{\"type\":\"object\",\"name\":\"ImportedStyleSheet\",\"id\":\"p1597\",\"attributes\":{\"url\":\"https://cdn.holoviz.org/panel/1.5.3/dist/css/loading.css\"}},{\"type\":\"object\",\"name\":\"ImportedStyleSheet\",\"id\":\"p1641\",\"attributes\":{\"url\":\"https://cdn.holoviz.org/panel/1.5.3/dist/css/listpanel.css\"}},{\"type\":\"object\",\"name\":\"ImportedStyleSheet\",\"id\":\"p1595\",\"attributes\":{\"url\":\"https://cdn.holoviz.org/panel/1.5.3/dist/bundled/theme/default.css\"}},{\"type\":\"object\",\"name\":\"ImportedStyleSheet\",\"id\":\"p1596\",\"attributes\":{\"url\":\"https://cdn.holoviz.org/panel/1.5.3/dist/bundled/theme/native.css\"}}],\"min_width\":700,\"margin\":0,\"sizing_mode\":\"stretch_width\",\"align\":\"start\",\"children\":[{\"type\":\"object\",\"name\":\"Spacer\",\"id\":\"p1598\",\"attributes\":{\"name\":\"HSpacer01801\",\"stylesheets\":[\"\\n:host(.pn-loading):before, .pn-loading:before {\\n  background-color: #c3c3c3;\\n  mask-size: auto calc(min(50%, 400px));\\n  -webkit-mask-size: auto calc(min(50%, 400px));\\n}\",{\"id\":\"p1597\"},{\"id\":\"p1595\"},{\"id\":\"p1596\"}],\"margin\":0,\"sizing_mode\":\"stretch_width\",\"align\":\"start\"}},{\"type\":\"object\",\"name\":\"DataTable\",\"id\":\"p1632\",\"attributes\":{\"width\":700,\"height\":300,\"source\":{\"type\":\"object\",\"name\":\"ColumnDataSource\",\"id\":\"p1599\",\"attributes\":{\"selected\":{\"type\":\"object\",\"name\":\"Selection\",\"id\":\"p1600\",\"attributes\":{\"indices\":[],\"line_indices\":[]}},\"selection_policy\":{\"type\":\"object\",\"name\":\"UnionRenderers\",\"id\":\"p1601\"},\"data\":{\"type\":\"map\",\"entries\":[[\"name\",{\"type\":\"ndarray\",\"array\":[\"Jill Hamood\",\"Richard Rangaswamy\",\"Robert Crespo\",\"Charles Melcher\",\"Consuelo Ly\",\"Curtis Bliss\",\"Jason Barrett\",\"Patty Fewell\",\"Gabrielle Nelson\",\"Maurice Leach\",\"Shaunta Hyten\",\"Jacqueline Jimenez\",\"Aaron Belton\",\"Jane Bryan\",\"Stephanie Leno\",\"Rosina Lodge\",\"Ruth Marston\",\"Guillermina Clark\",\"Yvonne Norris\",\"David Lee\",\"Angelia Hernandez\",\"Michael Beno\",\"Shirley Pope\",\"Kenneth Mitchell\",\"Michael Barnes\",\"Laura Bell\",\"Rosie Gallegos\",\"James Wilde\",\"Raymond Levigne\",\"Ray Marks\",\"Tyrone Weiss\",\"William Mayfield\",\"Tyler Ward\",\"Edwin Gordon\",\"Efren Santiago\",\"Elizabeth Torrez\",\"Maxine Morrison\",\"Rena Reddick\",\"Jo Barnard\",\"Christina Gomez\",\"Marie Zaluski\",\"Karen Shepherd\",\"Chris Fleenor\",\"Priscilla Robinson\",\"Karl Lopez\",\"Jonathan Bonds\",\"Rogelio Richmann\",\"Saul Fischer\",\"Mildred Castro\",\"Billie Barnes\",\"Michelle Hollingsworth\",\"John Ryan\",\"Vivian Craig\",\"Donald Huff\",\"Amber Wesselman\",\"Adela Beard\",\"Joseph Sutter\",\"Jeannie Mock\",\"Matthew Kenline\",\"Karen Ward\",\"Jason Hiatt\",\"Robert Moretti\",\"Patricia Murillo\",\"Evelyn Keeler\",\"Earnest Bell\",\"John Rinehart\",\"Akiko Samson\",\"William Barton\",\"Annabel Horton\",\"Christy Vansteenburgh\",\"Michelle Happel\",\"Mary Forster\",\"Angela Jonas\",\"Lisa Caceres\",\"Timothy Race\",\"Joyce Stern\",\"Hope Zuckerman\",\"Laura Kuta\",\"Franklin Walters\",\"Paul Groat\",\"Joline Carraro\",\"Vernon Crowe\",\"Lloyd Roseman\",\"Clint Toombs\",\"Joseph Peatman\",\"Diana Mendez\",\"Connie Grant\",\"Shantay Murray\",\"Shannon Stapleton\",\"Rosa Pierson\",\"Theresa Choromanski\",\"James Sheldon\",\"Richard Steiner\",\"Erica Walters\",\"Jennifer Hamilton\",\"Dominique Hansen\",\"David Kessler\",\"Phillip Tate\",\"Twila Shryock\",\"Greg Whitcher\",\"Reba Marshall\",\"Ella Jackovich\",\"Donald Hoffman\",\"Alan Tucker\",\"Evelyn Burdette\",\"Jason Fischer\",\"Magen Harris\",\"James Wichman\",\"Kathy Mowery\",\"Keisha Flores\",\"Edward Singh\",\"Charles Baker\",\"Jean Valadez\",\"Jacob Moore\",\"Diane Perez\",\"Dennis Krajnik\",\"Gilbert Chapman\",\"Francisco Roraback\",\"Brent Jones\",\"Delois Taylor\",\"Patricia Gonzalez\",\"April Goodwin\",\"Donna Montemayor\",\"Bessie Medina\",\"Manuel Brooks\",\"Catherine Carter\",\"Herman Harris\",\"Sherie Craig\",\"Earnestine Bothe\",\"Amanda Cohen\",\"Betty May\",\"Polly Jacob\",\"Graig Stebbins\",\"Pei Gonzalez\",\"Richard Mckay\",\"Rachelle Miller\",\"Corey Trimble\",\"Homer Newman\",\"Jeffrey Privette\",\"Gary Armstrong\",\"Damian Shaul\",\"David Lugar\",\"Eric Berry\",\"Brent Withrow\",\"Timothy Brewer\",\"Edna Mccaig\",\"Angel Rodriguez\",\"Mathew Stahl\",\"Everett Jin\",\"John Pruit\",\"Erin Carter\",\"Vada Hendrickson\",\"Sean Munguia\",\"Melvin Jackson\",\"Antonio Collingwood\",\"Elizabeth Lugo\",\"Gary Barry\",\"Mary Morrow\",\"Shirley Rayas\",\"Pamela Patel\",\"Dorothy Bare\",\"Jose Brayman\",\"David Jesse\",\"Derek Bopp\",\"Tim Mongomery\",\"Michael Janak\",\"John Beringer\",\"Diane Sirman\",\"Norbert Tolley\",\"Jeffrey Montford\",\"Blake Short\",\"Phillip Delpozo\",\"Mary Murray\",\"Ralph Hernandez\",\"Michael Hall\",\"Katherine Heine\",\"Helen Jeffries\",\"Darrin Bedwell\",\"Elwanda Maravilla\",\"Jason Peters\",\"Betty Guzman\",\"Richard Mcclincy\",\"Dennis Cochard\",\"Christy Clements\",\"Valerie Foster\",\"Wendy Lozon\",\"Robert Sanchez\",\"Ronald Peterson\",\"Ethel Saylor\",\"Dennis Hayes\",\"Pedro Gardner\",\"Judie Morgan\",\"Shirley Carson\",\"Dawn Hensler\",\"Charles Knollenberg\",\"Frank O'Brien\",\"Elmer Klein\",\"Clementine Vannoy\",\"Nathan Janson\",\"Norberto Hargrave\",\"Kenneth Newell\",\"Ericka Fitzgerald\",\"Robert Mendoza\",\"Robert Steady\",\"Morris Mickey\",\"Darcey Elliott\",\"Jean Bradley\",\"Mary Bodine\",\"Dena Monterio\",\"Estrella Harris\",\"Kellie Daubert\",\"Anne Deans\",\"Kimberly Hollabaugh\",\"Benjamin Langley\",\"Cathy Won\",\"Phyllis Thomas\",\"Natividad Parker\",\"David Carey\",\"Zachary Bukowski\",\"Pamela Carlson\",\"Michael Nguyen\",\"Clyde Arterburn\",\"Keith Adams\",\"Patrick Butler\",\"Kimberly Leonard\",\"Micheal Macdonald\",\"Martin Shaffer\",\"Vasiliki Smith\",\"Tanya Garcia\",\"Stephen Butler\",\"Gina Madhani\",\"James Gage\",\"Michelle Hughes\",\"Ora Althoff\",\"Michael Phillips\",\"Jeffrey Fischer\",\"Lana Wiese\",\"John Fichter\",\"Jaime Stidham\",\"Barbie Smith\",\"James Ybarra\",\"Socorro Harner\",\"Kenneth Wright\",\"Marquita Obaid\",\"John Spaulding\",\"Maricela Swett\",\"Elizabeth Heath\",\"Ryan Bancroft\",\"Shirley Hartnett\",\"Melissa Evankovich\",\"Miguel Bueno\",\"Carl Fink\",\"Laurie Cortes\",\"William Stafford\",\"Joseph Addington\",\"Eric Mayo\",\"Chad Atwood\",\"Sam Harris\",\"Lois Christian\",\"John Folse\",\"Kevin Storey\",\"John Beattie\",\"Mary Lukic\",\"Jamie Darian\",\"Patrick Alder\",\"Kenneth Skaggs\",\"Andres Sullivan\",\"Joy Luke\",\"Sheila Phillips\",\"Darrel Yoshida\",\"John Soyars\",\"Carolyn Saunders\",\"Louise Merkel\",\"Maria Garrett\",\"Louis Morris\",\"Eleanor Coogan\",\"Duncan Cruz\",\"Wiley Turner\",\"Kristina Pedersen\",\"William Dobrinski\",\"Mary Waggoner\",\"Lillian Bobbitt\",\"Louie Resnick\",\"Marcelo Cartwright\",\"Gerald Johnstone\",\"Andrew Arther\",\"Carroll Johnson\",\"Rebecca Nelson\",\"Dena Taylor\",\"Larry Clark\",\"Dana Wadlington\",\"Donald Duran\",\"Dusty Ditzler\",\"Sara Williams\",\"Andrew Rodriguez\",\"John Dokken\",\"Virginia Watson\",\"Alexander Brooks\",\"Vanessa Hall\",\"Joseph Cortez\",\"Michael Colvert\",\"Steven Hawkins\",\"Shirley Mills\",\"Krystal Roles\",\"James Villacres\",\"Teri Mckinney\",\"Vincent Martinez\",\"Carolyn Weedman\",\"Tanya Scussel\",\"Glenda Owens\",\"Nicole Neuschwander\",\"Michael Saliba\",\"Marietta Bricker\",\"Esther Simone\",\"Opal Dennis\",\"Frank Coleman\",\"Morris Armstrong\",\"Richard Pabla\",\"Jason Jenkins\",\"Marie Hannon\",\"Charline Tannous\",\"Ruth Hoffman\",\"Bonnie Moore\",\"Carroll Sprague\",\"Jennifer Adkins\",\"Kenneth Chavez\",\"Paula Conway\",\"Veronika Newsom\",\"Juanita Hicks\",\"Bob Timmons\",\"Todd Overton\",\"Maria Grahl\",\"Craig Allen\",\"Marvin Gelles\",\"Perry Holliday\",\"Charles Greene\",\"Sarah Matthew\",\"Kendrick Cummings\",\"Casey Phillips\",\"Annette Corbett\",\"William Jung\",\"Pamela Thomas\",\"Robert Terry\",\"Hillary Mcdermott\",\"Helen Kozel\",\"Antonio Watts\",\"Helen Smith\",\"Hazel Balch\",\"Steven Brammer\",\"Pam Eckenrode\",\"Arlene Hill\",\"Yong Zur\",\"Ramon Julia\",\"Milagros Calderon\",\"Bill Dias\",\"Judy Pavlich\",\"Tresa Villiard\",\"Michael Anguiano\",\"Lois Larios\",\"Paul Klever\",\"Melissa Swink\",\"Thomas Nevills\",\"Mike Tuttle\",\"Joseph Guedes\",\"Natalie Hanes\",\"Delilah Greer\",\"Rebecca Lee\",\"Frank Hopper\",\"Carole Souza\",\"Shannon Corpron\",\"Andrea Szczepanski\",\"Robert Korpi\",\"Simon Hunt\",\"Kevin Rhoades\",\"Ramona Storey\",\"Shana Shin\",\"Brenda Jones\",\"Margarito Hernandez\",\"John O'Kelley\",\"Lauren Boney\",\"Margarita Lee\",\"Peter Watkins\",\"Norman Frazier\",\"Willie Berryman\",\"Lee Brown\",\"James Greenwell\",\"Mark Alemayehu\",\"Aaron Cadarette\",\"Steven Sims\",\"Gary Bailey\",\"Frederick O'Neal\",\"Karen Barstow\",\"Sally Keels\",\"Kirk White\",\"Matthew Watson\",\"Joseph Goodman\",\"Eric Fletcher\",\"Ben Yu\",\"Burton Royston\",\"Mark Sowada\",\"George Ware\",\"David Schultz\",\"John Nash\",\"Maggie Keen\",\"Lula Barber\",\"Jeff Gonzalez\",\"Ray Williams\",\"Johnnie Pingel\",\"Eleanor Dandrea\",\"Raymond Buchanan\",\"Donald Holmes\",\"Misty Segrest\",\"Luther Bennett\",\"Tena Nuzzo\",\"David Gadow\",\"Roxann Cooper\",\"Christopher Knoblauch\",\"Bryan Mack\",\"Michael Roller\",\"Ray Lawrenz\",\"Amy Anderson\",\"Patricia Colvin\",\"Michael Matthews\",\"Stacey Ray\",\"Cheryl Porter\",\"William Raines\",\"Edwardo Morford\",\"Charles Beall\",\"Kelly Castellanos\",\"Raymond Frelix\",\"Randall Proctor\",\"Henry Blankemeyer\",\"Brenda Price\",\"Leila Johnson\",\"Elsa Steffey\",\"Everette Ordaz\",\"Cindy Bejan\",\"Misty Mcdonald\",\"Joann Sutherland\",\"Mario Mclaughlin\",\"James Diller\",\"Linda Mahedy\",\"Maria Perkins\",\"Christina Galindo\",\"William Espino\",\"Peggy Parson\",\"Patricia Mether\",\"Enrique Gorman\",\"Cynthia Montez\",\"Joel Riordan\",\"Cora Dodge\",\"Glen Winslow\",\"Mary Maxim\",\"Mary Chrisman\",\"Alexander Smith\",\"James Croley\",\"Ronald Lydon\",\"Helen Harper\",\"Catherine Raines\",\"Karina Arendt\",\"Sung Mellor\",\"Anthony Vincent\",\"John Hubbard\",\"Gavin Bosley\",\"Steven Bartholomew\",\"Christine Courson\",\"Elizabeth Hilton\",\"Jeffery Wright\",\"Mary Teal\",\"Amanda Boyce\",\"Monica Carpenter\",\"Claire Billman\",\"Paul Starling\",\"David Barton\",\"Clementina Lukas\",\"Fred Hansen\",\"Celeste Willems\",\"Johnny Collier\",\"Edward Vidana\",\"Joey Rodriguez\",\"Peter Wolf\",\"Eva Olson\",\"David Radabaugh\",\"Charles Nichols\",\"James Lefevre\",\"Anthony Spicola\",\"Margaret Ranson\",\"Jessica Luu\",\"Frank Garcia\",\"Hai Eason\",\"Bernard Sampson\",\"See Lanzone\",\"Sandra Brilliant\",\"Kellie Foster\",\"Mark Jackson\",\"Julie Morgan\",\"William Stewart\",\"Joel Johnson\",\"Eric Aberle\",\"Adele Albright\",\"Jerry Speakman\",\"Maynard Mcdonald\",\"Helen Ingran\",\"Sally Cappo\",\"Edwardo Muma\",\"Linda Ramphal\",\"Shawn Buller\",\"Bonnie Davis\",\"Sharon Valentine\",\"Willie Youngberg\",\"Aaron Kennedy\",\"Jon Boyle\",\"Jennifer Evans\",\"Audrey Vick\",\"Jeffrey Hightower\",\"Carlos Carolan\",\"Ronnie Sims\",\"Robert Clark\",\"Dorothy Reyes\",\"Ola Mccallum\",\"Gregory Kong\",\"Donald Thomson\",\"Jeanie Green\",\"Richard Macaluso\",\"Ida Huffman\",\"Harold Dirks\",\"Joseph Park\",\"Hector Gibson\",\"Daniel Batchelor\",\"James Corona\",\"Michael Kubo\",\"Bobbi Simmons\",\"Christopher Bohland\",\"Lawrence Greer\",\"Barbara Atherton\",\"Paul Dodd\",\"Lorenzo Fulwider\",\"Susan Atiles\",\"Calvin Miletich\",\"Matthew Hennessy\",\"Carolyn Jimenez\",\"Kenneth Lee\",\"Gregory Rodriguez\",\"Richard Hill\",\"Jeff Priar\",\"Lorri Dollar\",\"Christopher Nelson\",\"Allen Donoho\",\"Maria Wooten\",\"Joseph Craft\",\"Walter Wilson\",\"Isabelle Briggs\",\"Matthew Poulos\",\"Joyce Coleman\",\"Ann Felts\",\"Lois Cannata\",\"John Lyford\",\"Tabitha Sturgill\",\"Anthony Mendoza\",\"Jesse Cannon\",\"Mildred Prosen\",\"Deborah Schlappi\",\"Anna Hyde\",\"Mary Shorb\",\"Earl Grier\",\"Anthony Simnitt\",\"Julia Jones\",\"Briana Wiggins\",\"Linda Healy\",\"Thomas Chumley\",\"Jason Brown\",\"Kelly Enquist\",\"Susan Brock\",\"Helen Parker\",\"Belle Porter\",\"Donald Villarreal\",\"Thomas Arevalo\",\"Marion Knieling\",\"Christopher Ruben\",\"Ronald Potts\",\"Bill Pratt\",\"David Taylor\",\"Kendall Jenkins\",\"Dianne Lowe\",\"Betty Hollister\",\"Paul Telfair\",\"Jerry O'Connor\",\"Richard Sizemore\",\"Anita Deboom\",\"William Rendon\",\"Ricky Bonn\",\"Amanda Voorhes\",\"Cortez Pioquinto\",\"Cody Johnson\",\"Lindsay Berry\",\"Karen Washington\",\"Leonard Iraheta\",\"Sandra Nguyen\",\"Melissa Huston\",\"Lani Alvarez\",\"Brenda Adams\",\"Mary Blankenship\",\"Margaret Sanches\",\"Aaron Bliss\",\"Donald Cannon\",\"Ronald Garber\",\"Marion Kitchen\",\"Margaret Eser\",\"Jeffrey Carmosino\",\"Lino Casillas\",\"Constance Abbazia\",\"Keith Looney\",\"Shirley Wood\",\"Abigail Ork\",\"Claudia Chimelis\",\"John Homolka\",\"Daniel Green\",\"Art Nicholas\",\"James Patti\",\"Anne Lee\",\"William Stephens\",\"Steven Carson\",\"Earl Gaona\",\"Tom Talarico\",\"Khalilah Hill\",\"Delores Borish\",\"Alan Lackey\",\"Margaret Tannahill\",\"Vicky Cardenas\",\"Etta Pickett\",\"Annie Johnson\",\"Song Merrill\",\"Shawn Vanhook\",\"Theodore Delacruz\",\"Raymond Neaves\",\"Ella Stepan\",\"Ralph Colwell\",\"Joseph Burnett\",\"Darryl Walser\",\"Mellissa Riley\",\"Gina Peckinpaugh\",\"Leon Foust\",\"Lisa Barreto\",\"Michael Oliphant\",\"Debra Mix\",\"Sean Gardiner\",\"Karen Murdock\",\"Freddie Peck\",\"Deborah Jordan\",\"Joyce Hogue\",\"Elisa Venn\",\"Ana Lee\",\"Kathryn Carter\",\"Phyllis Cameron\",\"Roberto Adler\",\"Bruce Spoto\",\"Joan Harbers\",\"Douglas Connor\",\"Frank Weatherspoon\",\"David Mckinney\",\"Timothy Nellis\",\"Shawn Roussell\",\"Gianna Tung\",\"David Swick\",\"Norberto O'Dell\",\"Emmett Lineberger\",\"William Lancaster\",\"Daniel Garcia\",\"Wanda Bravo\",\"Ronald Williams\",\"Lucille Rothman\",\"Alpha Wolfe\",\"Charles Keogan\",\"Edith Johna\",\"Jerry Salazar\",\"Gloria Heslop\",\"Anthony Harrison\",\"Ramona Wilcox\",\"Harry Raman\",\"Carol Hufford\",\"Laurie Higgin\",\"Lydia Nguyen\",\"Beverly Little\",\"Omar Mayen\",\"Fernando Washington\",\"Paul Kresta\",\"Willie Shearin\",\"Jo Burks\",\"Phyllis Carter\",\"Kathleen Loya\",\"Tiffany Barker\",\"Barbara Coccia\",\"Jose Pitts\",\"Louise Landon\",\"Ruthie Melton\",\"Richard Blomquist\",\"Lisa Newman\",\"Daniel Person\",\"Richard Jackson\",\"Jerry Mohammed\",\"Eric Lembke\",\"Tricia Rodrigues\",\"Thomas Porcaro\",\"Luke Smyth\",\"Linda Velazquez\",\"Margaret Marshall\",\"Jeanette Ford\",\"Willie Fairchild\",\"Robert Kruse\",\"Linda Saunderson\",\"Jessica Wagner\",\"Karl Davidson\",\"Ernesto Mitcham\",\"Linda Shaffer\",\"Ellen Osborne\",\"Jessica Laird\",\"Ronald Fiocco\",\"Ruby Whaley\",\"Brian Saunders\",\"Lisa Cheng\",\"Catherine Rammel\",\"Charles Sherwood\",\"Jill Quammen\",\"Kent Shellabarger\",\"James Sarver\",\"Clay Hinz\",\"Sue Durazo\",\"Kaylene Dunn\",\"Dustin Dibenedetto\",\"Lori Fergerson\",\"Christina Warren\",\"Raymond Larson\",\"James Blay\",\"Judith Greening\",\"Gene Weixel\",\"Celine Villagomez\",\"Sandra Flores\",\"James Blackburn\",\"Dorothy Kerr\",\"Ronald Cedillo\",\"Michael Thompson\",\"Jonathan Borst\",\"Walter Ryan\",\"Jean Tsosie\",\"Lynn King\",\"Nancy Herman\",\"Anthony Hanson\",\"Betty Mendoza\",\"James Gorham\",\"Mamie Topete\",\"Susan Pollick\",\"Susan Burnett\",\"Thomas Beck\",\"Leon Jadwin\",\"Fernando Rozelle\",\"Teresa Paulus\",\"John Martinez\",\"Jessie Carter\",\"Carol Martinez\",\"Adrienne Garcia\",\"Tracy Howell\",\"David Lopez\",\"Herminia Sperry\",\"Roxanne Buis\",\"Peter Cowling\",\"John Hood\",\"James Bateman\",\"Mamie Dalton\",\"Nola Runkle\",\"Eugenia Hawk\",\"Louise Mckinzie\",\"Catherine Dennison\",\"Lavonne Talamante\",\"Jose Olson\",\"Clara Lagos\",\"Daniel Shackelton\",\"Molly Warner\",\"Tracey Servant\",\"Shirley Maier\",\"Connie Bishop\",\"Michael Chung\",\"Betty Mann\",\"Gregory Eichenberger\",\"Eli Vitalone\",\"Lee Arriaga\",\"Tim Mccoy\",\"Patrick Smith\",\"Kristy Garcia\",\"Alan Cornelius\",\"Irma Orozco\",\"Tim Botsford\",\"Jacob Pardee\",\"Gary Erb\",\"Teresa Jenkins\",\"Robert Gunn\",\"Michael Ellick\",\"Joyce Crawford\",\"Jackie Collis\",\"Phyllis Hoppe\",\"Alex Davis\",\"Buddy Perez\",\"Jeanne Lewis\",\"Gary Lopez\",\"Mercedes Deniz\",\"Adam Randall\",\"Lionel Pritts\",\"Marguerite Mackie\",\"Patricia Defrancesco\",\"Theresa Kidd\",\"Gordon Connelly\",\"Christine Shapiro\",\"Cynthia Persaud\",\"Brent Durkin\",\"Lidia Marshall\",\"Merlin Vigil\",\"Thomas Snyder\",\"Hilda James\",\"Gwendolyn Hernandez\",\"Billie Ferreira\",\"Kristie Pitts\",\"Pauline Adamchick\",\"Vickie Pearson\",\"Caren Harrington\",\"Timothy Browder\",\"Charles Cannon\",\"Sean Gutierrez\",\"Daniel Wildenberg\",\"Hazel Curley\",\"Edward Biggs\",\"Elizabeth Smith\",\"Jamie Wilson\",\"Alberto Gonzalez\",\"Jackie Evans\",\"Donnie Burright\",\"Patricia Echelberger\",\"Paul Davenport\",\"Elmer Fowler\",\"Morris Elmore\",\"Ricardo Goeke\",\"Fred Castaneda\",\"Jeff Gaxiola\",\"Jonathan Barrett\",\"Sabrina Prawdzik\",\"Bobby Wiktorowski\",\"Ryan Peper\",\"Roberta Taylor\",\"Barbara Reppert\",\"Andrew Downs\",\"Lillian Duncan\",\"Willie Harris\",\"Richard Dews\",\"Danial Samples\",\"Joseph Taylor\",\"Willie Carpenter\",\"Sylvia King\",\"Cheryl Tate\",\"Max Nelson\",\"Benjamin Leonard\",\"Donna Spencer\",\"Edna Coffey\",\"Ben Ernst\",\"Scott Wyrick\",\"Cindy Scroggin\",\"Jeffery Mccleary\",\"Christina Austin\",\"Matthew Coniglio\",\"William Jackson\",\"Peggy Byrd\",\"Leonard Simmonds\",\"Patricia Schmidt\",\"Steven Ouradnik\",\"William Green\",\"Trina Stephens\",\"Edward Perriman\",\"Dorothy Hensley\",\"Tami Wieczorek\",\"Patricia Ussery\",\"William Carr\",\"Marjorie Medina\",\"Jose Jenkins\",\"Jean Millo\",\"Candace Raza\",\"George Howard\",\"Mike Hand\",\"Mary Vaniman\",\"Lorena Corneau\",\"Helen Seron\",\"John Burwick\",\"Jay Mann\",\"Charles Ellis\",\"Clara Reardon\",\"Joshua Lye\",\"Cherly Adams\",\"Sean Reinhold\",\"Eric Singh\",\"Glenn Russo\",\"John Almoney\",\"Anna Baran\",\"Scott Backensto\",\"Christopher Rison\",\"Christine Hermreck\",\"Ed Mcconnell\",\"Walter Morales\",\"Randy Payne\",\"Timothy Babcock\",\"Kenneth Scott\",\"Brian Lewis\",\"Marcus Jama\",\"Frances Erwin\",\"Jonathan Reed\",\"Jose Guidera\",\"Shane Dong\",\"Andrew Krug\",\"Deborah Topp\",\"Greg Todd\",\"Cathy Roldan\",\"Nigel Haynes\",\"Stephen Burguess\",\"Katie Henige\",\"Suzanne Martinez\",\"William Cage\",\"Bonnie Wood\",\"Tonya Mouse\",\"Harold Lamb\",\"Bobbie Davis\",\"Richard Aguirre\",\"Ezequiel Dortch\",\"Ingrid Little\",\"Linda Guzman\",\"Josephine Harris\",\"Brandy Espie\",\"Jennifer Palmerin\",\"Rebecca Stuenkel\",\"Joshua Isaacs\",\"Enid Johnson\",\"Vida Langford\",\"Robert Reyna\",\"Willie Vaughn\",\"Lynne Slone\",\"George Garcia\",\"Thomas Acquavella\",\"Stacy Dangelo\",\"Cassandra Ayers\",\"Kristina Diaz\",\"Elizabeth Mcleod\",\"Elizabeth Mcelrath\",\"Eric Smith\",\"Karen Tuazon\",\"John Hermanson\",\"Charles Goodno\",\"Sheena Pratt\",\"Genevieve Burke\",\"Virginia Gurley\",\"Vicki Barclay\",\"Jose Seligman\",\"Harold Finnicum\",\"Alexander Justice\",\"Michael Bennett\",\"Rose Hughes\",\"Vivian Hawkins\",\"Nelson Brenes\",\"Nathan Santos\",\"Raymond Macie\",\"Angela Hatfield\",\"Christa Istre\",\"Jennifer Lawson\",\"Millard Delmoral\",\"Jane Schiller\",\"Shirley Pollock\",\"Richard Finn\",\"Hollie Ingram\",\"Delila Ritchie\",\"Patricia Galbraith\",\"James Toner\",\"Joan Laberdee\",\"Marie Sanders\",\"Matthew Majszak\",\"James Locy\",\"George Brown\",\"Sherill Carter\",\"Rachel Norkett\",\"Jon Stewart\",\"Robert Andersen\",\"Elizebeth Lugo\",\"Rosario Gant\",\"Edward Ramirez\",\"Steven Hamilton\",\"John Labiosa\",\"Emma Foster\",\"Maria Gonzales\",\"James Currier\",\"James Castaneda\",\"Eveline Heck\",\"Orlando Kennedy\",\"Harvey Leininger\",\"Pauline Spurling\",\"Genevieve Little\",\"Stacey Barwick\",\"Andrew Ruth\",\"Polly Denning\",\"Sybil Bellamy\",\"David Christiansen\",\"Tony Haywood\",\"Beth Ferreira\",\"Linda Kitko\",\"Ashley Cruz\",\"Cora Evans\",\"Tommy Guidry\",\"Amanda Henson\",\"Mariann Peters\",\"Frank Harrell\",\"Paul Banta\",\"Irma Mcgruder\",\"Nicole Hart\",\"Timothy Bolton\",\"Emilia Tubolino\",\"Ella Wood\",\"Denise Cornman\",\"Annie Holland\",\"Tina Gould\",\"Susan Engel\",\"David Morrison\",\"Stacy Byrne\",\"Maria Perino\",\"Garrett Bailey\",\"Minnie Bigelow\",\"Keith Vanbeek\",\"Willie Rice\",\"Olga Auer\",\"Marcia Pope\",\"Brady Nelson\",\"Manuel Kellum\",\"Brenda Keiper\",\"Frank Gulbronson\",\"Juan Gates\",\"Grace Pronti\",\"Geraldine Behrens\",\"Jimmie Morris\",\"Mark Kwan\",\"Renee Decker\",\"Lawrence Montgomery\",\"Margaret Feuz\",\"John Renteria\",\"Kendrick Luciano\",\"Norma Whitley\",\"Joe Bingham\",\"Angle Taub\",\"Jason Puleo\",\"Barbara Albers\",\"Richard Thomas\",\"Walter Serrano\",\"James Viola\",\"Colette Beck\",\"Ruth Dickes\",\"Mary Foster\",\"William Burkhart\",\"Anthony Smalls\",\"Martha Heard\",\"Robert Hamilton\",\"Debra Parr\",\"Hae Brown\",\"Rachelle Osteen\",\"James Rhodes\",\"Audrey Orozco\",\"Salvatore Turk\",\"Diane Strickland\",\"Kassandra Santiago\",\"Danielle Long\",\"Consuelo Lundy\",\"James Silva\",\"Micah Wise\",\"Clifford Mendoza\",\"Alfred Eubanks\",\"Helen Villani\",\"Michael Duncan\",\"Willie Maes\",\"John Turner\",\"Joseph Briley\",\"Connie Meagher\",\"Donald Martin\",\"Hobert Trujillo\",\"Joann Quillin\",\"Hazel Nielsen\",\"Michael Wilfong\",\"Gary Pham\",\"Robert Ceja\",\"Ronald Henson\",\"Robert Lafon\",\"Alicia Wilt\",\"Royal Villegas\",\"Dennis Cybul\",\"Thomas Hughes\",\"Dorothy Garcia\",\"James Benda\",\"Carol Bueno\",\"Michael Rose\",\"James Oritz\",\"Irvin Ruiz\",\"Devin White\",\"Jason Major\",\"Cathi Marsh\",\"Linda Arnold\",\"Paul Loggins\",\"Vernice Lee\",\"Willie Bernal\",\"Terry Marks\",\"Lora Canal\",\"Frank Stoneking\",\"Susan Ryal\",\"Chance Howard\",\"Debra Criswell\",\"Cory Mitchell\",\"Elizabeth Estevez\",\"Edward Morales\",\"Jason Moyer\",\"Tami Wills\",\"Ramon Heydt\",\"Edna Boucher\",\"Debbie Martin\",\"Walter Brown\",\"Michelle Mitchell\",\"Ruth Rodriguez\",\"Christina Blevins\",\"Linda Runge\",\"William Delgadillo\",\"Robert Taylor\",\"Angela Dipaolo\",\"Janice Barrett\",\"Clarence Golden\",\"Lane Davis\",\"Mary Arakelian\",\"Heather Cornelius\",\"Christopher Vlietstra\",\"Fatima Kavanagh\",\"Edward Duran\",\"Suzanne Jones\",\"Katherine Calhoun\",\"John Laing\",\"Timothy Wright\",\"John Estes\",\"Edith Major\",\"Eric Hughes\",\"Derrick Elms\",\"Earl Brown\",\"Thomas Alvarez\",\"Abraham Massey\",\"John Mitchell\",\"Megan Renfro\",\"Virginia Chambers\",\"Shirley Beck\",\"Roy Porter\",\"William Vitela\",\"Mary Stanley\",\"Gary Stark\",\"Jane Clark\",\"Steven Fike\",\"Robert Jones\",\"Lawrence Munroe\",\"Eula Navarro\",\"Nickolas Knobel\",\"Ricardo Marotta\",\"James Williams\",\"James Thompson\",\"Thomas Muhammad\",\"Earl Fly\",\"Kathryn Dortch\",\"James Dunn\",\"Becky Toops\",\"Christie Willard\",\"Jennifer Nesbitt\",\"Violet Tournear\",\"Robert Hughes\",\"Dawn Christopher\",\"Alejandro Burrell\",\"Jay Skinner\",\"Ashly Hennen\",\"Alfredo Herman\",\"Mabel Mcnair\",\"George Doherty\",\"Philip Smith\",\"Jeffrey Cabriales\",\"Nannie Luce\",\"Mark Borges\",\"Mildred Dacus\",\"Lee Williams\",\"Hazel Dyle\",\"Jennifer Goodrich\",\"Rhonda Hirokawa\",\"Wayne Randolph\",\"Barbara Landers\",\"Marie Neves\",\"Michael Alex\",\"Beth Stanley\",\"Beatrice Rogers\",\"Lawrence Overstreet\",\"Henry Leonard\",\"Sharon Morris\",\"Kevin Fuentes\",\"Debra Velez\",\"William Guzman\",\"Sharon Jakubowski\",\"Rita Jackson\",\"David Aviles\",\"Mary Mcafee\",\"William Gleason\",\"William Green\",\"Stanley Spencer\",\"Ida Merrigan\",\"Martin Cunningham\",\"Wallace Layne\",\"Maura Packard\",\"Deborah Burleigh\",\"William Perez\",\"Thomas Day\",\"Ernestine Gooden\",\"Ida Winston\",\"John French\",\"Ernest Huggett\",\"Maria Morris\",\"Melissa Flores\",\"Ruth Singleton\",\"Douglas Johnson\",\"Wendy Gonzalez\",\"Stella Ramos\",\"Travis Hardy\",\"Jean Ziesman\",\"Joaquin Bosworth\",\"Angelica Gipson\",\"Daniel Kennedy\",\"Wilbur Mirabal\",\"Paul Loesch\",\"George Koehler\",\"Bernard Petron\",\"Lillie Scott\",\"Leona Cox\",\"Bernadine Reis\",\"Juan Contos\",\"Janice Staton\",\"Karen Jaco\",\"Troy Kowal\",\"Laquita Williams\",\"Jeanette Perez\",\"Rosemary Galloway\",\"William Cottrell\",\"Elizabeth Bornstein\",\"Ronald Meza\",\"Jennifer Engelhaupt\",\"James Williams\",\"John Jimenez\",\"Juanita Lara\",\"Tamra Brumit\",\"Sadie Islas\",\"Wenona Strause\",\"Sharon Ojala\",\"Damon Sweet\",\"Melvin Jimenez\",\"Jeffrey Snyder\",\"Grace Pena\",\"Cynthia Barnfield\",\"Karrie Currie\",\"Nathaniel Cardenas\",\"Timothy Meraz\",\"Gregory Oxendine\",\"Rhonda Westby\",\"Glenn Anaya\",\"Melvin Bole\",\"Tony Mckinney\",\"Carmella Meyer\",\"Pamela Clemente\",\"Rodney Arredondo\",\"Michael Huang\",\"Ryan Bui\",\"Brenda Askew\",\"William York\",\"Gerald Vasquez\",\"Gilbert Mcgee\",\"Lois Mattson\",\"Eddie Greer\",\"Shenna Nieto\",\"Betty Gilder\",\"Colby Gutierrez\",\"Lonnie Jackson\",\"Pamela Stigall\",\"Elaine Houser\",\"Juan Massie\",\"Mary Jones\",\"Benny Degroot\",\"Daisy Mendoza\",\"Susan Ahrenholz\",\"Linda Hernandez\",\"Eileen Hutchison\",\"Leanne Pratt\",\"Max Pennington\",\"Walter Madrigal\",\"Ernest Humble\",\"Wendy Wilson\",\"Stacy Fierro\",\"Joseph Martin\",\"Blanca Medley\",\"Evelyn Siragusa\",\"Vivian Mckey\",\"Deborah Holmes\",\"Nydia Scott\",\"Joseph Allen\",\"Tennie Mcdaniel\",\"Steve Huff\",\"John Koles\",\"Mary Riggs\",\"James Perez\",\"Christopher Ruiz\",\"Jessie Buckingham\",\"Miles Dzuris\",\"Paul Grubb\",\"William Fell\",\"David Fonseca\",\"Marcia Brown\",\"Donna Ladd\",\"Denise Fletcher\",\"Richard Donovan\",\"Curtis Sheets\",\"Emmanuel Mccauley\",\"Charles Stout\",\"Nancy Buchan\",\"Peter Phillipp\",\"Le Sanchez\",\"Clorinda Mcneil\",\"Brian Spears\",\"Tina Johnson\",\"Juan Meagher\",\"Aaron Rojewski\",\"Phillip Richardson\",\"Craig Ford\",\"Michael Gilmore\",\"Jose Lee\",\"Eva Holmes\",\"Yvette Gutierrez\",\"Morgan Hale\",\"Myron Herrera\",\"Eva Stone\",\"Kimberly Wilkerson\",\"Charlotte Maguire\",\"Clinton Southerland\",\"Raven Dryden\",\"Delia Case\",\"Gregg Green\",\"Gabriel Stratton\",\"John Hunter\",\"Kyle Hebenstreit\",\"Casey Barnes\",\"Heather Bayer\",\"Aileen Gillis\",\"Joseph Romero\",\"Anna Culbertson\",\"Stephen Ricks\",\"Mildred Wild\",\"Mary Lepow\",\"Jose Nasalroad\",\"Russell Cantin\",\"Doris Moreau\",\"Regina Mcleod\",\"Neil Chen\",\"Lora Dailey\",\"Brian Killough\",\"Karen Omary\",\"John Abram\",\"Scott Cavazos\",\"Jo James\",\"Ann Ybarra\",\"Chelsea Vernon\",\"June Walker\",\"Deirdre Eberling\",\"Robin Fisher\",\"Susie Meadows\",\"Cindy Wiggins\",\"Kacy Agan\",\"Arthur Freeman\",\"Norma Helzer\",\"Catherine Louis\",\"Nicholas Nicks\",\"Connie Neighbors\",\"Sabrina Bowers\",\"Mary Wegner\",\"David Cabrales\",\"Edna Kimling\",\"Jerome Baldwin\",\"Shannon Kidd\",\"Lillian Vazquez\",\"Jeanette Nelms\",\"Charles Foley\",\"Carol Slotterback\",\"Lisa Carson\",\"Mary Burton\",\"Edward Oftedahl\",\"Michelle Hollowell\",\"Hattie Fidler\",\"Jamie Vance\",\"James Richardson\",\"Vera Khem\",\"Daisy Sisco\",\"Roy Hendricks\",\"Jane Honaker\",\"Hans Diaz\",\"Raul Brewer\",\"Antonio Schulman\",\"Kyle Calabrese\",\"Laura Riley\",\"Carolyn Carranza\",\"Howard Mayeux\",\"Meghan Drinkwine\",\"Sandra Harder\",\"Lucy Carp\",\"Margaret Ramaswamy\",\"Doris Ford\",\"John Hayes\",\"James Morales\",\"Thomas Rapp\",\"Nicole Teague\",\"Lynn Wu\",\"Donna Keeven\",\"Elizabeth Martin\",\"Patsy Elman\",\"Andrew Deshong\",\"Petra Young\",\"Adam Currence\",\"Ralph Dennis\",\"Ida Stormont\",\"Shirley Shelley\",\"Elizabeth Smith\",\"Judith Thomas\",\"Robert Braun\",\"Diane Case\",\"Walter Love\",\"Tracy Martinez\",\"Franklin Marshall\",\"Cynthia Class\",\"Angela Cutts\",\"Nancy Wenger\",\"Fletcher Hess\",\"Darren Murphy\",\"Mikel Graham\",\"Frank Holloway\",\"Henry Ledford\",\"Lori Dipalo\",\"Jeremiah Tull\",\"Susan Ramsey\",\"Paul Stout\",\"Emma Switzler\",\"Adam Bodily\",\"Shelia Johnson\",\"Kelly Zamora\",\"John Gannon\",\"Carol Hess\",\"James Ziolkowski\",\"Lydia Fontanella\",\"Willie Riley\",\"Patricia Todaro\",\"Emma Jackson\",\"Enrique Mackey\",\"Rose Alexander\",\"Philip Boswell\",\"Lavern Mccullough\",\"Phillip Yeiser\",\"Robert Weber\",\"Beth Licata\",\"Connie Holloway\",\"Elizabeth Kirby\",\"Dominique Nam\",\"Mickey Haverland\",\"Jennifer Baca\",\"Russell Worsham\",\"Jessica Kearney\",\"William Davey\",\"Allan Kramp\",\"Roselee Holzem\",\"Maxine Stapleton\",\"Roberta Nemeth\",\"Alan Freeman\",\"Mary Stoker\",\"Kurt Snyder\",\"Richard Strole\",\"Alicia Smart\",\"Tammie Petty\",\"Maggie Southworth\",\"Leo Falvey\",\"Christopher Ruiz\",\"Marco Royals\",\"Judy Swartzell\",\"Roberta Pecori\",\"Soledad Wade\",\"Lynn Halfmann\",\"Ruby Vines\",\"Samuel Du\",\"Nancy Lopez\",\"Tammy Poma\",\"Eugene Lemberger\",\"Barbara Anderson\",\"Jacob Harold\",\"Joy Gladfelter\",\"Leonard Daniel\",\"Martha Teel\",\"Sherri Silby\",\"Douglass Lighten\",\"Bonita Tinsley\",\"Twyla Tucker\",\"Grover Williams\",\"Jay Crim\",\"Crystal Carter\",\"Steven Epple\",\"Deborah Snyder\",\"Carla Hanson\",\"Crystal Scardino\",\"Stacey Dorman\",\"Margaret Webster\",\"Lawrence Dobbs\",\"Frances Wortham\",\"Angelica Coy\",\"Rob Shen\",\"Stephanie Mathieu\",\"Pearl Stanhope\",\"Patricia Renteria\",\"Frank Jordan\",\"David Nguyen\",\"Beatrice Murphy\",\"Corinna Bauer\",\"Lorraine Anderson\",\"George Harris\",\"Randolph Henry\",\"Beatrice Magno\",\"Shawn Tierney\",\"Tom Godsey\",\"Sharon Grimm\",\"Robyn Webb\",\"Rosa Morgan\",\"James Williams\",\"Leo Davis\",\"Anthony Briss\",\"Richard Steer\",\"Carolyn Gonzalez\",\"Vince Farrell\",\"James Dollens\",\"Frances Gould\",\"Phyllis Montano\",\"Michael Ehrlich\",\"Stuart Do\",\"Rhonda Stout\",\"Luther Kennedy\",\"Mary Shirley\",\"Eric Esparza\",\"Cristin Downey\",\"Farrah Martinek\",\"Brian Morrow\",\"Rebecca Martin\",\"Rudolph Clayton\",\"Walter Ramones\",\"Allen Malone\",\"Carol Saldana\",\"Terry Sender\",\"Nicole Tuttle\",\"Evelyn Martin\",\"Linda Wilkes\",\"Stella Gehrt\",\"Marjorie Gross\",\"Tara Bellinger\",\"Barbra Hobbs\",\"Doris Lesher\",\"Jason Wratten\",\"Gonzalo Owens\",\"Christopher Soileau\",\"Harry Nelson\",\"Charles Guarin\",\"Cynthia Graham\",\"Ralph Roxas\",\"Edelmira Grant\",\"Barbara Elchert\",\"Tony Raulerson\",\"John Mounts\",\"Frank Martin\",\"Diane Kirchgessner\",\"Lewis Schools\",\"Melissa Hall\",\"Tiffany Barber\",\"Mary Gurley\",\"Jonathan Stogner\",\"Angela Splichal\",\"Christa Hargis\",\"Debbie Ball\",\"Bobby Hui\",\"Robert Love\",\"Marisol Miller\",\"Margie Hebert\",\"Eddie Brown\",\"Mark Chausse\",\"Kristy Young\",\"Sonny Pope\",\"Sue Wingert\",\"Linda Olivas\",\"Lori Woody\",\"Sara Gonzalez\",\"Lula Rios\",\"Frances Watts\",\"John Barrett\",\"Joyce Robbins\",\"Vincent Hahn\",\"Wendy Elias\",\"Sheila Ambrose\",\"Ernestine Pederson\",\"Charlene Harper\",\"Beverly Pham\",\"Scott Dawkins\",\"Sheri Lett\",\"Jose Franco\",\"Randy Mcgee\",\"Staci Brown\",\"Joyce Garza\",\"Ronald Aide\",\"George Ryan\",\"David Jarvis\",\"William Mccarthy\",\"Helen Brayshaw\",\"Kathy Myers\",\"Melissa Pham\",\"Patricia Lewis\",\"Dorothy Dineen\",\"Patricia Alamilla\",\"James Gerving\",\"Joe Pagan\",\"Sarah Ly\",\"Elvia Bateman\",\"Amanda Hedges\",\"Dexter Forrest\",\"Lucy Cain\",\"Jerri Shechter\",\"Brittany Jones\",\"Kristin Davis\",\"Irma Bobbitt\",\"Talia Wright\",\"Brenda Nino\",\"Anthony Porter\",\"Delores Holz\",\"Gail Santoro\",\"Laura Charbonneau\",\"Marion Cornett\",\"James Kelone\",\"Emery Ralph\",\"Willard Plant\",\"Travis Murphy\",\"Micheal Conley\",\"Kevin Sheler\",\"Joshua Smith\",\"Kendrick Mcclinton\",\"Shana Kimbrough\",\"Coleen Ortiz\",\"Ralph Parker\",\"Roy Craig\",\"Jerome Vincent\",\"Wanda Johnson\",\"Luke Malmquist\",\"Mary Melvin\",\"James Klein\",\"Carolyn English\",\"Donald Lemmon\",\"Lashonda Carle\",\"Teresa Dunkin\",\"Michael Simmons\",\"Curtis Smith\",\"Linda Dobson\",\"Gloria Wright\",\"Jacob Fishback\",\"Silvia Ehrenberg\",\"Robert Tyler\",\"Patricia Nasser\",\"Geneva Miner\",\"Cora Angeles\",\"Gary Rightmire\",\"Charles Russell\",\"Raymond Varney\",\"Jeri Watts\",\"Saul Falkenrath\",\"Karen Pingry\",\"Gloria Wells\",\"Herman Shadel\",\"Kathleen Gulli\",\"Jason Watts\",\"Elena Briesemeister\",\"Fermin Kornegay\",\"Chandra Meldrum\",\"Ollie Petti\",\"Rickey Gonzales\",\"Al Wright\",\"Josie Burnett\",\"Patricia Arredondo\",\"Elsie Munday\",\"Nickie Lenhart\",\"Kenneth Craig\",\"Gary Sullivan\",\"Millard Kelly\",\"Alice Hornbeck\",\"Ramon Johnson\",\"Margie Bustamante\",\"Claude Hendren\",\"David Liner\",\"Kristopher Jimenez\",\"Alaina Applewhite\",\"Donald Butler\",\"Thomas Bolton\",\"Keven Epps\",\"Rodney Charland\",\"Edna Mcmullen\",\"Judith Wilner\",\"Jack Jenkins\",\"Miguel Jones\",\"Georgia Mercer\",\"Thomas Mcdonnell\",\"Joseph King\",\"Marion Krause\",\"Mary Cochrell\",\"Shari Burkett\",\"Sean Soria\",\"Dennis Tamayo\",\"Robbi Baker\",\"Roseanne Hughes\",\"Kimberly Riggert\",\"Morton Turpin\",\"Darcy Masco\",\"William Gomez\",\"Dorothy Hole\",\"Dennis Newsom\",\"James Ore\",\"Alan Castle\",\"Daniel Cook\",\"Carol Stanfill\",\"Lorraine Ko\",\"Mike Collison\",\"Maria Ford\",\"Myrtle Mcdonald\",\"Calvin Giron\",\"Heath Simpson\",\"George Wingfield\",\"Audrey Gailor\",\"Paul Ledezma\",\"Joanne Hughes\",\"Bryan Dorceus\",\"Carl Henault\",\"Ladonna Lashley\",\"Elia Wiseman\",\"Keith Man\",\"Sara Johnson\",\"Nancy Harkless\",\"Renee Moreno\",\"Major Ahmad\",\"Shelley Augusta\",\"Dawn Preston\",\"Margaret Morgan\",\"Leticia Brinkley\",\"Elizabeth Soots\",\"Valarie Parker\",\"Delores Oles\",\"Thomas Silverstein\",\"Florence Rhoads\",\"Shiela Myers\",\"Michelle Blakely\",\"Carol Denis\",\"Scott Berrios\",\"Yuette Tallant\",\"Alice Whaley\",\"Virginia Robinson\",\"Ricky Husky\",\"Russell Hawkins\",\"Richard Witherspoon\",\"Ina Gibler\",\"Elizabeth Manning\",\"James Foret\",\"Kasie Rodriguez\",\"Deanna Gil\",\"Norman Siracusa\",\"Billy Smolek\",\"Frank Parker\",\"Kevin Weatherford\",\"Alexander Saper\",\"James Hoffman\",\"Richard Lichlyter\",\"Derrick Martinez\",\"John Dryer\",\"Michelle Carter\",\"Cheryl Wiercinski\",\"Joyce Gosewisch\",\"Melody Gallagher\",\"Eva Sommers\",\"Charles Bailey\",\"Terri Witthaus\",\"Steve Chappell\",\"Casey Beard\",\"John Speirs\",\"Paul Boone\",\"Larry Green\",\"Martin Hart\",\"Danny Mccandless\",\"Cathy June\",\"Mary Bell\",\"Jason Lindsley\",\"Brittney Kurup\",\"Diane Robinson\",\"Mike Roberts\",\"James Tabbert\",\"Daniel Doster\",\"Jeffrey Rowe\",\"Cynthia Rogers\",\"William Estes\",\"Constance O'Brien\",\"Christine Fitzgerald\",\"Rodney Rosales\",\"Jose Sikora\",\"Christina Robles\",\"Ashley Azevedo\",\"Stanley Grove\",\"Shad Snyder\",\"Linda New\",\"Florence Robinson\",\"Edward Mckie\",\"Colleen Rucker\",\"Roger Castle\",\"Gilbert Williams\",\"Portia Meder\",\"Lesa Cooper\",\"Michael Welsh\",\"Julie Bockman\",\"Jackie Johnson\",\"Shirley Stonehouse\",\"Yvonne Czarnecki\",\"Irene Taylor\",\"Freddy Ruff\",\"Jerry Mcclease\",\"Stephanie Coursey\",\"Jennifer Kimberlin\",\"Marcellus Ainsworth\",\"John Little\",\"Allen Tedder\",\"Luz Cooper\",\"Kristen Windon\",\"Yolanda Rosa\",\"April Belcher\",\"Kylee Anderson\",\"Angela Fogelsong\",\"Lewis Gills\",\"Carlyn Jones\",\"Robert Hobbs\",\"Bethany Roeder\",\"Donald Hall\",\"Laura Davis\",\"Louis Ponce\",\"Sharon Bowden\",\"Diana Zenk\",\"Scott Rivera\",\"Brian Ward\",\"Jeffrey Stevenson\",\"Sandra Franklin\",\"Mandie Monroe\",\"Lyndsey Welles\",\"Cindy Ramos\",\"Edward Rivera\",\"Richard Owens\",\"Sam Summers\",\"Lyle Hughes\",\"Leonor Blondheim\",\"Ivan Kolze\",\"Sarah Thrush\",\"Bess Vavrik\",\"Issac Roby\",\"John Sandoval\",\"Amelia Bush\",\"Darlene Gridley\",\"Beatrice Drees\",\"Gonzalo Cox\",\"Robert Saldana\",\"Sara Mullen\",\"Kyle Willson\",\"Lewis Price\",\"William Crites\",\"Kimberly Crawford\",\"Linda Tritt\",\"Jason Wisely\",\"Karl Stauner\",\"Susan Goodson\",\"Jimmy Helton\",\"Bertha Clyne\",\"Howard Jackson\",\"Daniel Lobosco\",\"Suzanne Sheehan\",\"Brandy Hughes\",\"Eddie Dodge\",\"William Price\",\"Barry Mccleskey\",\"Erin Rodriguez\",\"William Hickey\",\"Fred Wills\",\"Ricky Ramsey\",\"Crystal Hassey\",\"Donald Greene\",\"Arlene Novak\",\"Richard Poindexter\",\"Bobby Steenwyk\",\"Anthony Cary\",\"Connie Gonzales\",\"Joe Brickell\",\"Judy Kent\",\"William Barrera\",\"Jaye Venturelli\",\"Kelly Meza\",\"Harold Shourds\",\"Pearl Johnson\",\"Douglass Williamson\",\"Nicole Goshorn\",\"Richard Holmes\",\"Anne Emiliano\",\"John Rutledge\",\"Jimmy Donnell\",\"Kathleen Edelman\",\"Anne Wallace\",\"Richard Brinkley\",\"Jose Barker\",\"Delbert Constantino\",\"Lisa Tubbs\",\"Gail Livingston\",\"Thomas Wilson\",\"Timothy Parrilla\",\"Karen Martinez\",\"William Burrows\",\"Kelly Watson\",\"Jennifer Hernandez\",\"Lilly Thomas\",\"Randall Barks\",\"James Troyer\",\"Joan Walker\",\"Clara Mayfield\",\"Carolyn Zhao\",\"Christina Farling\",\"John Lerma\",\"Sandra Rosenthal\",\"Travis Eaglin\",\"James Gardner\",\"Robert Macaspac\",\"Charlie Mcelroy\",\"Ruth Coburn\",\"Kenneth Sanchez\",\"Albert Frederick\",\"Katherine Bax\",\"Victoria Reyes\",\"Matthew Hand\",\"Marcia Kennedy\",\"Ruth Gatterdam\",\"Jeffrey Matusz\",\"James Marini\",\"Thomas Honkala\",\"Edith Willingham\",\"John Dalson\",\"Shauna Ledesma\",\"Andrew Adkins\",\"Matthew Schmidt\",\"Daniel Khalifa\",\"Lashanda Lehmbeck\",\"Johnnie Hurt\",\"Debbie Correa\",\"Alexander Minnig\",\"Richard Short\",\"Andrew Thomas\",\"Michelle Renner\",\"Frederick Watson\",\"Bruce Brown\",\"Patrick Yeatman\",\"William Preston\",\"Joe Roberts\",\"Etta Schmidt\",\"Jason Braun\",\"Jayson Stout\",\"Donald Maestas\",\"William Watters\",\"Douglas Flores\",\"Eduardo Durica\",\"Corrine Thayer\",\"Hazel Whitson\",\"Jacqueline Dacko\",\"Katie Gori\",\"Frank Eutsler\",\"Charles Lyman\",\"Linda Carter\",\"Tarsha Deberry\",\"Dorothy Young\",\"Daniel Anderson\",\"James Orchard\",\"Rhonda Nagel\",\"Leon Treece\",\"Wilson Graciano\",\"Jimmy Hernandez\",\"Robert Richards\",\"Mara Martinez\",\"Jodi Smith\",\"Debra Stephens\",\"John Milkins\",\"Phuong Estle\",\"Deangelo Hayden\"],\"shape\":[2000],\"dtype\":\"object\",\"order\":\"little\"}],[\"gender\",{\"type\":\"ndarray\",\"array\":[\"female\",null,\"male\",\"male\",\"female\",\"male\",\"male\",\"female\",\"female\",\"male\",\"female\",\"female\",\"male\",\"female\",\"female\",\"female\",\"female\",\"female\",\"female\",\"male\",\"female\",\"male\",\"female\",\"male\",\"male\",\"female\",\"female\",\"male\",\"male\",\"male\",\"male\",\"male\",\"male\",\"male\",\"male\",\"female\",\"female\",\"female\",\"female\",null,null,\"female\",\"male\",\"female\",\"male\",\"male\",\"male\",\"male\",\"female\",null,\"female\",\"male\",\"female\",\"male\",\"female\",\"female\",\"male\",\"female\",\"male\",\"female\",\"male\",\"male\",\"female\",\"female\",\"male\",\"male\",\"female\",\"male\",\"female\",\"female\",\"female\",\"female\",\"female\",\"female\",\"male\",\"female\",\"female\",null,\"male\",\"male\",null,\"male\",\"male\",\"male\",\"male\",\"female\",\"female\",\"female\",\"male\",\"female\",\"female\",\"male\",\"male\",\"female\",\"female\",\"female\",\"male\",\"male\",\"female\",\"male\",\"female\",\"female\",\"male\",\"male\",\"female\",\"male\",\"female\",\"male\",\"female\",null,\"male\",\"male\",\"female\",\"male\",\"female\",\"male\",\"male\",\"male\",\"male\",\"female\",\"female\",\"female\",\"female\",\"female\",\"male\",\"female\",\"male\",\"female\",null,\"female\",\"female\",\"female\",\"male\",\"female\",\"male\",\"female\",\"male\",\"male\",\"male\",\"male\",\"male\",\"male\",\"male\",\"male\",\"male\",\"female\",\"male\",\"male\",\"male\",\"male\",\"male\",\"female\",\"male\",\"male\",\"male\",null,\"male\",\"female\",\"female\",\"female\",\"female\",\"male\",\"male\",\"male\",\"male\",\"male\",\"male\",\"female\",\"male\",\"male\",\"male\",\"male\",\"female\",\"male\",\"male\",\"female\",\"female\",\"male\",\"female\",\"male\",\"female\",\"male\",\"male\",\"female\",\"female\",\"female\",\"male\",\"male\",\"female\",\"male\",\"male\",\"female\",\"female\",\"female\",\"male\",\"male\",\"male\",\"female\",\"male\",\"male\",\"male\",\"female\",\"male\",\"male\",\"male\",\"female\",\"female\",\"female\",\"female\",\"female\",\"female\",\"female\",\"female\",\"male\",\"female\",\"female\",\"female\",\"male\",\"male\",\"female\",\"male\",\"male\",\"male\",\"male\",\"female\",\"male\",\"male\",\"female\",\"female\",\"male\",\"female\",\"male\",\"female\",\"female\",\"male\",\"male\",\"female\",\"male\",\"female\",\"female\",\"male\",\"female\",\"male\",\"female\",\"male\",\"female\",\"female\",\"male\",\"female\",\"female\",\"male\",\"male\",\"female\",\"male\",\"male\",\"male\",\"male\",\"male\",\"female\",\"male\",\"male\",null,\"female\",\"female\",\"male\",\"male\",\"male\",\"female\",\"female\",\"male\",\"male\",\"female\",\"female\",\"female\",null,\"female\",\"male\",\"male\",\"female\",\"male\",\"female\",\"female\",\"male\",\"male\",\"male\",\"male\",\"male\",\"female\",\"female\",\"male\",\"female\",null,\"male\",\"female\",\"male\",\"male\",\"female\",\"male\",\"female\",\"male\",\"male\",\"male\",\"female\",\"female\",null,\"female\",\"male\",\"female\",\"female\",\"female\",\"female\",\"male\",\"female\",\"female\",\"female\",\"male\",\"male\",\"male\",\"male\",\"female\",null,\"female\",\"female\",\"male\",\"female\",\"male\",\"female\",\"female\",\"female\",\"male\",\"male\",\"female\",\"male\",\"male\",\"male\",\"male\",\"female\",\"male\",\"female\",\"female\",\"male\",null,\"male\",\"female\",\"female\",\"male\",\"female\",\"female\",\"male\",\"female\",\"female\",\"male\",\"male\",\"female\",null,null,\"female\",\"male\",\"female\",\"male\",\"female\",\"male\",\"male\",\"male\",\"female\",\"female\",\"female\",\"male\",\"female\",\"female\",\"female\",\"male\",\"male\",\"male\",\"female\",\"female\",\"female\",\"male\",\"male\",\"female\",\"female\",\"male\",\"male\",\"male\",\"male\",\"male\",\"male\",\"male\",\"male\",\"male\",\"male\",\"female\",\"female\",\"male\",\"male\",\"male\",\"male\",\"male\",\"male\",\"male\",\"male\",\"male\",\"male\",\"female\",\"female\",\"male\",\"male\",\"male\",\"female\",\"male\",\"male\",\"female\",\"male\",\"female\",\"male\",\"female\",\"male\",\"male\",\"male\",\"male\",\"female\",\"female\",\"male\",\"female\",null,\"male\",\"male\",\"male\",\"female\",\"male\",\"male\",\"male\",\"female\",\"female\",\"female\",\"male\",\"female\",\"female\",\"female\",\"male\",\"male\",\"female\",\"female\",\"female\",\"male\",\"female\",\"female\",\"male\",\"female\",null,\"female\",\"male\",\"female\",\"female\",null,\"male\",\"male\",\"female\",\"female\",\"female\",\"female\",\"male\",\"male\",\"male\",\"male\",\"female\",\"female\",\"male\",\"female\",\"female\",\"female\",\"female\",\"female\",\"male\",\"female\",\"male\",\"female\",\"male\",\"male\",\"male\",\"male\",\"female\",\"male\",\"male\",\"male\",\"male\",\"female\",\"female\",\"male\",\"male\",\"male\",\"female\",\"female\",\"female\",\"male\",\"female\",\"male\",\"male\",\"male\",\"female\",\"male\",\"male\",\"female\",\"female\",\"male\",\"female\",\"male\",\"female\",\"female\",\"male\",\"male\",\"male\",\"female\",\"female\",\"male\",\"male\",\"male\",\"male\",\"female\",\"female\",\"male\",\"male\",\"female\",\"male\",\"female\",\"male\",\"male\",\"male\",\"male\",\"male\",\"male\",\"female\",null,\"male\",\"female\",\"male\",\"male\",\"female\",\"male\",\"male\",\"female\",\"male\",\"male\",\"male\",\"male\",\"female\",\"male\",\"male\",\"female\",\"male\",\"male\",\"female\",\"male\",\"female\",\"female\",\"female\",\"male\",\"female\",\"male\",\"male\",\"female\",\"female\",\"female\",\"female\",\"male\",\"female\",\"female\",\"female\",\"female\",\"male\",\"male\",\"female\",\"female\",\"female\",\"female\",\"male\",\"male\",\"female\",\"male\",\"male\",\"male\",\"male\",\"male\",\"female\",\"female\",\"male\",\"male\",\"male\",\"female\",\"male\",\"male\",\"female\",\"male\",\"male\",\"female\",\"female\",\"male\",\"female\",\"female\",\"female\",\"female\",\"female\",\"female\",\"male\",\"male\",\"male\",\"female\",\"female\",\"male\",\"male\",\"female\",\"male\",\"female\",\"female\",\"female\",\"male\",\"male\",\"male\",\"male\",\"female\",\"male\",\"male\",\"male\",\"male\",\"female\",\"female\",\"male\",\"female\",\"female\",\"female\",\"female\",\"female\",\"male\",\"male\",\"male\",\"female\",\"male\",\"male\",\"male\",null,\"female\",null,\"female\",\"male\",\"female\",\"male\",\"female\",\"male\",\"female\",\"female\",null,\"female\",\"female\",\"female\",\"male\",\"male\",\"female\",\"male\",null,\"male\",\"male\",\"male\",\"female\",\"male\",\"male\",\"male\",\"male\",\"male\",\"female\",\"male\",\"female\",\"female\",\"male\",null,\"male\",\"female\",\"male\",\"female\",\"male\",\"female\",\"female\",\"female\",\"female\",\"male\",\"male\",\"male\",\"female\",\"female\",\"female\",\"female\",\"female\",\"female\",\"male\",\"female\",\"female\",\"male\",null,null,\"male\",\"male\",\"male\",null,\"male\",\"male\",\"female\",\"female\",\"female\",null,\"male\",\"female\",\"female\",\"male\",\"male\",\"female\",null,\"female\",\"male\",\"female\",\"male\",\"female\",\"female\",\"male\",\"female\",\"male\",\"male\",\"male\",\"female\",null,\"male\",\"female\",\"female\",\"male\",\"male\",\"female\",\"male\",\"female\",\"female\",\"male\",\"female\",null,\"male\",\"male\",\"male\",\"female\",\"female\",\"female\",\"male\",\"female\",\"male\",\"female\",\"female\",\"female\",\"male\",\"male\",\"male\",\"female\",\"male\",\"male\",\"female\",\"female\",\"female\",\"male\",\"female\",\"female\",\"male\",\"male\",\"male\",\"female\",\"female\",\"female\",\"female\",\"female\",\"female\",\"male\",\"female\",\"male\",\"female\",\"male\",\"female\",\"female\",\"male\",\"female\",\"male\",\"male\",\"male\",\"male\",\"male\",\"female\",null,\"female\",\"male\",\"male\",\"male\",\"female\",\"male\",\"male\",\"female\",\"male\",\"female\",null,\"male\",\"female\",\"male\",null,\"male\",\"male\",null,\"female\",\"female\",\"male\",\"female\",\"female\",\"male\",\"female\",\"male\",\"male\",\"female\",\"female\",\"female\",\"female\",\"female\",\"female\",\"female\",\"male\",\"male\",\"male\",\"male\",\"female\",\"male\",\"female\",\"female\",\"male\",\"female\",\"male\",null,\"male\",\"male\",\"male\",\"male\",\"male\",\"male\",\"male\",\"female\",\"male\",\"female\",\"female\",\"female\",\"male\",\"female\",\"male\",\"male\",\"male\",\"male\",\"female\",\"female\",\"female\",\"male\",\"male\",\"female\",\"female\",\"male\",\"male\",\"female\",\"male\",\"female\",\"male\",\"male\",\"female\",\"male\",\"female\",\"male\",\"male\",\"female\",\"male\",\"female\",\"female\",\"female\",\"male\",\"female\",\"male\",\"female\",\"female\",null,\"male\",\"female\",null,\"female\",\"male\",\"male\",\"male\",\"female\",\"male\",\"female\",\"male\",\"male\",\"male\",\"male\",\"female\",\"male\",\"male\",\"female\",\"male\",\"male\",\"male\",\"male\",\"male\",\"male\",null,\"female\",\"male\",\"male\",\"male\",\"male\",\"female\",\"male\",\"female\",null,\"male\",\"female\",\"female\",\"male\",\"female\",\"female\",\"male\",\"female\",\"male\",\"male\",\"female\",\"female\",\"female\",\"female\",\"female\",\"female\",\"male\",\"female\",\"female\",\"male\",\"male\",\"female\",\"male\",\"male\",null,\"female\",\"female\",\"female\",\"female\",\"male\",\"female\",\"male\",\"male\",\"female\",\"female\",\"female\",\"female\",\"male\",\"male\",\"male\",\"male\",\"female\",\"female\",\"male\",\"male\",\"male\",\"female\",\"female\",\"female\",\"male\",\"female\",\"female\",\"male\",\"female\",\"female\",\"female\",\"male\",\"female\",\"female\",null,\"male\",\"male\",\"female\",\"female\",\"male\",\"male\",null,\"female\",\"male\",\"male\",\"male\",\"female\",\"female\",\"male\",\"male\",\"female\",\"male\",\"male\",\"female\",\"female\",\"female\",\"male\",\"female\",\"female\",\"male\",\"male\",\"female\",\"female\",\"female\",\"female\",\"male\",\"female\",\"female\",\"male\",\"male\",\"female\",\"female\",\"male\",null,null,\"female\",\"female\",\"female\",\"female\",\"male\",\"female\",\"female\",\"male\",\"female\",\"male\",\"male\",\"female\",\"female\",\"male\",\"male\",\"female\",\"male\",\"male\",\"female\",\"female\",\"female\",\"male\",\"female\",\"male\",\"female\",\"male\",\"male\",\"female\",\"male\",null,\"male\",null,null,\"male\",\"male\",\"female\",null,\"female\",\"male\",\"male\",\"female\",\"male\",\"female\",\"female\",\"female\",\"male\",null,\"male\",\"female\",\"female\",\"female\",\"female\",\"male\",\"male\",\"male\",\"male\",\"female\",\"male\",\"male\",\"male\",\"male\",\"female\",\"male\",\"male\",\"female\",\"female\",\"male\",\"male\",\"male\",\"male\",\"male\",\"female\",\"male\",\"male\",\"male\",\"female\",\"male\",\"female\",\"male\",\"male\",\"male\",\"male\",\"male\",\"female\",\"female\",\"male\",\"female\",\"male\",\"male\",\"female\",\"male\",\"female\",\"male\",\"female\",\"male\",\"female\",\"male\",\"male\",\"female\",\"male\",\"female\",\"female\",\"male\",\"female\",\"female\",\"female\",\"female\",\"male\",\"male\",null,\"female\",\"male\",\"female\",\"female\",\"female\",\"male\",\"female\",\"male\",\"female\",\"female\",\"male\",\"male\",\"male\",\"female\",\"male\",\"male\",\"male\",\"male\",\"male\",\"male\",\"female\",\"female\",\"female\",\"male\",\"male\",\"female\",\"male\",\"female\",\"male\",\"male\",\"male\",\"female\",\"male\",\"male\",\"male\",\"male\",\"male\",\"male\",\"female\",\"male\",\"female\",\"female\",\"female\",\"female\",\"male\",\"female\",null,\"male\",\"female\",\"male\",\"female\",\"male\",\"male\",null,\"female\",\"male\",\"female\",\"male\",\"female\",\"female\",\"female\",\"male\",\"female\",\"female\",\"male\",null,\"female\",\"male\",\"male\",\"female\",null,\"female\",\"male\",\"female\",\"female\",\"male\",\"female\",\"male\",\"male\",\"male\",\"female\",\"male\",\"male\",\"female\",\"female\",\"male\",\"male\",\"female\",\"female\",\"male\",\"male\",null,\"female\",\"female\",null,null,\"female\",\"male\",\"female\",\"male\",\"female\",\"male\",\"male\",\"male\",\"male\",\"male\",\"female\",\"female\",\"female\",\"male\",\"female\",\"female\",\"male\",\"female\",\"female\",\"female\",\"male\",\"female\",\"male\",\"female\",\"male\",\"male\",\"female\",\"female\",\"female\",\"female\",\"female\",\"male\",\"male\",\"male\",\"female\",\"female\",\"female\",\"male\",\"male\",\"male\",\"female\",\"male\",\"male\",\"male\",\"female\",\"female\",\"male\",\"male\",\"male\",\"female\",\"male\",\"male\",\"male\",\"female\",\"male\",\"female\",\"female\",\"male\",\"male\",\"female\",\"female\",\"male\",\"female\",\"male\",\"female\",\"female\",\"female\",\"female\",\"female\",\"male\",\"male\",\"male\",\"female\",\"female\",\"male\",\"female\",\"female\",\"female\",\"female\",\"female\",\"male\",\"female\",\"male\",\"male\",null,\"male\",\"male\",\"male\",\"male\",\"male\",\"male\",\"male\",\"female\",\"female\",\"female\",\"male\",\"male\",\"male\",\"male\",\"female\",null,\"female\",\"female\",\"male\",\"female\",\"male\",\"male\",\"male\",\"male\",\"male\",null,null,\"female\",\"male\",\"male\",\"female\",\"female\",\"female\",\"male\",\"female\",\"female\",\"male\",\"male\",\"male\",\"male\",\"male\",\"female\",\"female\",\"male\",null,\"male\",\"female\",\"female\",\"male\",\"male\",\"female\",\"female\",\"male\",\"female\",\"male\",\"female\",\"male\",\"male\",\"female\",\"female\",\"female\",\"female\",\"female\",\"female\",\"female\",\"female\",\"female\",\"male\",\"female\",\"female\",\"male\",\"female\",\"female\",\"female\",\"male\",null,\"male\",\"female\",\"female\",\"female\",\"male\",\"female\",\"female\",\"female\",\"male\",\"female\",\"female\",\"male\",\"male\",\"female\",\"female\",\"male\",\"female\",\"male\",\"male\",\"male\",\"male\",\"female\",\"female\",\"male\",\"female\",\"female\",\"female\",\"female\",\"female\",\"male\",\"male\",\"male\",\"female\",\"female\",\"female\",\"female\",\"female\",\"male\",\"female\",\"male\",\"male\",\"female\",\"female\",\"female\",\"female\",\"male\",\"female\",\"male\",\"female\",\"male\",\"female\",\"female\",\"female\",\"male\",\"male\",\"male\",\"male\",\"male\",\"female\",\"male\",\"female\",\"male\",\"female\",null,\"female\",\"female\",\"male\",\"female\",\"male\",\"female\",\"male\",\"female\",\"female\",\"male\",\"female\",\"male\",\"male\",\"male\",null,\"female\",\"female\",\"female\",\"female\",\"male\",\"female\",\"male\",\"female\",\"male\",\"male\",\"female\",\"female\",\"female\",\"male\",\"female\",\"male\",\"male\",\"female\",\"female\",\"female\",\"male\",\"male\",\"male\",\"female\",\"female\",\"female\",\"female\",\"female\",\"male\",\"female\",\"female\",\"male\",null,\"male\",\"female\",\"male\",\"female\",\"female\",\"male\",\"female\",\"female\",\"male\",\"male\",\"female\",\"male\",\"female\",\"female\",\"female\",\"female\",\"female\",\"male\",null,\"female\",\"male\",null,\"female\",\"female\",\"male\",\"male\",null,\"female\",\"female\",null,\"male\",\"female\",\"male\",\"male\",\"female\",\"female\",\"female\",\"male\",\"male\",\"male\",\"male\",\"female\",null,\"male\",\"female\",\"female\",\"male\",\"male\",\"female\",\"male\",\"female\",\"male\",\"female\",\"female\",\"male\",\"female\",\"male\",\"male\",\"male\",\"female\",\"male\",\"female\",\"female\",\"female\",\"female\",\"female\",\"female\",\"female\",\"female\",\"male\",\"male\",\"male\",\"male\",\"male\",\"female\",\"male\",\"female\",\"female\",\"male\",\"male\",\"male\",\"female\",\"male\",\"female\",\"female\",\"female\",\"male\",\"female\",\"female\",\"female\",\"male\",\"male\",\"female\",null,\"male\",\"male\",\"female\",\"male\",\"female\",\"female\",null,\"female\",\"female\",\"female\",\"male\",\"female\",\"male\",\"female\",\"female\",null,\"female\",\"female\",\"male\",\"female\",\"male\",\"male\",null,\"female\",\"male\",\"male\",\"male\",\"male\",\"female\",\"female\",\"female\",\"female\",\"female\",\"female\",\"male\",\"male\",\"female\",\"female\",\"female\",\"male\",\"female\",\"female\",\"female\",\"female\",\"female\",\"female\",\"female\",\"male\",\"female\",\"female\",\"female\",\"female\",\"male\",\"male\",\"male\",\"male\",\"male\",\"male\",\"male\",\"male\",\"female\",\"female\",\"male\",\"male\",\"male\",\"female\",null,\"female\",\"male\",\"female\",\"male\",\"female\",\"female\",\"male\",\"male\",\"female\",\"female\",\"male\",\"female\",\"male\",\"female\",\"female\",\"female\",\"male\",\"male\",\"male\",\"female\",\"male\",null,\"female\",\"male\",\"female\",null,\"female\",\"male\",\"female\",\"female\",\"male\",\"male\",null,\"female\",\"female\",\"female\",\"male\",\"male\",\"male\",\"female\",\"male\",\"female\",\"male\",\"male\",\"male\",\"female\",null,\"male\",\"male\",\"male\",\"female\",null,\"male\",\"male\",\"female\",\"male\",\"male\",\"female\",\"female\",\"female\",\"male\",\"male\",\"female\",\"female\",\"female\",\"male\",\"female\",\"male\",\"female\",\"male\",\"male\",\"male\",\"male\",\"female\",\"female\",\"male\",\"female\",\"female\",\"male\",\"male\",\"male\",\"female\",\"male\",\"female\",\"male\",\"male\",\"female\",\"female\",\"male\",\"female\",\"female\",\"female\",\"male\",\"female\",\"female\",\"female\",\"female\",\"female\",\"female\",\"female\",\"male\",null,\"female\",\"female\",\"female\",\"male\",\"female\",\"female\",\"female\",null,\"male\",\"male\",\"female\",\"female\",\"male\",null,\"female\",\"male\",\"male\",null,\"male\",\"male\",\"male\",\"male\",\"male\",\"male\",\"female\",\"female\",\"female\",\"female\",\"female\",\"male\",\"female\",\"male\",\"female\",\"male\",\"male\",\"male\",\"male\",\"male\",null,\"female\",\"male\",\"female\",\"female\",\"male\",\"male\",\"male\",\"male\",\"female\",\"male\",\"female\",\"female\",\"male\",\"male\",\"female\",\"female\",\"male\",\"male\",\"female\",\"female\",\"male\",\"female\",\"male\",\"male\",\"female\",\"female\",\"male\",\"female\",\"male\",\"female\",\"female\",\"female\",\"male\",\"male\",\"female\",\"female\",\"male\",\"male\",\"male\",\"female\",\"female\",\"female\",\"female\",\"female\",\"female\",\"male\",\"female\",\"male\",\"female\",\"male\",\"female\",\"male\",\"female\",\"female\",\"male\",\"male\",\"male\",null,\"female\",\"female\",\"female\",\"male\",\"male\",null,\"male\",\"female\",\"male\",\"female\",\"female\",\"male\",null,\"female\",null,\"female\",null,\"male\",\"female\",\"male\",\"male\",\"male\",\"female\",\"female\",\"male\",\"male\",\"female\",\"male\",\"female\",\"male\",\"male\",\"female\",\"female\",\"female\",\"male\",\"male\",\"female\",\"male\",\"male\",\"male\",\"female\",\"male\",\"female\",\"male\",\"male\",\"male\",\"female\",\"male\",\"female\",null,\"female\",\"female\",\"male\",\"female\",\"male\",\"female\",\"male\",\"female\",\"male\",\"male\",\"female\",\"female\",\"male\",\"male\",\"male\",\"female\",\"male\",\"male\",\"male\",\"female\",\"male\",\"female\",\"female\",\"female\",\"male\",\"male\",null,\"female\",\"female\",\"female\",\"male\",\"female\",\"male\",\"male\",\"male\",\"male\",\"female\",\"male\",\"male\",\"female\",null,\"male\",\"female\",\"female\",null,\"male\",\"male\",\"female\",\"male\",\"female\",\"male\",\"male\",\"male\",\"female\",\"female\",\"female\",\"male\",\"male\",\"male\",\"female\",\"male\",\"male\",\"male\",\"male\",\"male\",\"female\",\"male\",\"male\",\"male\",null,\"male\",\"male\",\"female\",\"female\",\"female\",null,\"male\",\"male\",\"female\",\"female\",\"female\",\"male\",\"male\",\"female\",\"male\",\"male\",\"male\",\"male\",\"female\",\"female\",null,\"male\",\"female\",\"male\"],\"shape\":[2000],\"dtype\":\"object\",\"order\":\"little\"}],[\"age\",{\"type\":\"ndarray\",\"array\":{\"type\":\"bytes\",\"data\":\"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\"},\"shape\":[2000],\"dtype\":\"float64\",\"order\":\"little\"}],[\"title\",{\"type\":\"ndarray\",\"array\":[\"The Institutes Of Medicine\",\"Automotive Engine Performance\",\"Directory Of Northern Library Resources\",\"Annual Report Of The Board Of Registration In Medicine\",\"Negative Political Advertising\",\"Geology And Water Resources Of The Goose Creek Basin\",\"Montana\",\"Wiley Cpa Exam Review 2011, Financial Accounting And Reporting\",\"Corliss-Engines And Allied Steam-Motors Working With And Without Automatic Variable Expansion-Gear\",\"Popular Mechanics\",\"A Manual Of The Practice Of Medicine\",\"Html5 Game Engines\",\"Wiley Cpa Exam Review 2011, Financial Accounting And Reporting\",\"North Atlantic Regional Water Resources Study Appendix A ... [To Appendix V]\",\"Component Design For Highly Pressure Charged Diesel Engines\",\"Ingenious Mechanicks\",\"Wiley Cpa Exam Review 2011, Financial Accounting And Reporting\",\"New York State Journal Of Medicine\",\"Advertising For Dummies\",\"Immigration Services\",\"Proceedings Of The Financial Management Conference\",\"Domestic Medicine; Or, Plain Instructions In The Art Of Preserving And Restoring Health By Simple And Efficient Means\",\"How To Advertise\",\"Advertising And The Public Interest\",\"Technical Report - South Carolina Marine Resources Division\",\"Lessons In Elementary Mechanics\",\"Engines Of Creation\",\"Natural And Energy Resources\",\"Marine Diesel Engines\",\"The St. Louis Courier Of Medicine\",\"The Retrospect Of Practical Medicine And Surgery\",\"The National Debt, And How To Pay It: Or, The Financial Condition Of The Nation Considered, Etc. [By J. Mcewen.]\",\"Traditional Use Of Plant Resources By Bankariya Ethnic Group In Makawanpur District, Central Nepal\",\"Effects Of Financial Globalization On Developing Countries: Some Empirical Evidence\",\"The Commercial & Financial Chronicle ...\",\"Tractor And Gas Engine Review\",\"Principles Of Fluid Mechanics And Fluid Machines (Second Edition)\",\"Speeches, Addresses And Letters On Industrial And Financial Questions. To Which Is Added An Introduction, Together With Copious Notes, Etc\",\"Geostatistics For Natural Resources Evaluation\",\"The Mirror Makers\",\"Popular Mechanics\",\"The Devil'S Grin\",\"A Collection Of Problems In Illustration Of The Principles Of Theoretical Mechanics\",\"Modern Electric Railway Practice: Power Stations, Steam And Gas Engines, Generators, And Switchboards\",\"The Retrospect Of Medicine\",\"Advertising Outdoors\",\"Mortal Engines\",\"Advertising Management\",\"Fracture Mechanics\",\"Appleton'S Dictionary Of Machines, Mechanics, Engine-Work, And Engineering\",\"Popular Mechanics\",\"Water Resources Activities In The United States\",\"Control Of Advertising On Interstate Highways\",\"The Resources And Attractions Of Utah\",\"Financial Structure And Economic Development\",\"Medicine\",\"Internal Combustion Engines\",\"Natural Resources Law Newsletter\",\"Monthly Report On Federal Water Resources Investigations And Construction Projects\",\"Financial Management Information Package\",\"Popular Mechanics\",\"Ogilvy On Advertising\",\"The Basics Of Finance\",\"Advertising And Popular Culture\",\"Hand-Book Of Modern Steam Fire-Engines\",\"Google Earth Engine Applications\",\"Lessons In Elementary Mechanics\",\"Annual Resources Report\",\"Elements Of Analytical Mechanics\",\"The Psychology Of Advertising\",\"American Almanac And Treasury Of Facts Statistical, Financial And Political\",\"Michigan Manufacturer & Financial Record\",\"Planning Our Resources\",\"Dynamics Of International Advertising\",\"Organizational Success Through Effective Human Resources Management\",\"Start Your Engines\",\"Popular Mechanics\",\"Medicine In Modern Times\",\"Financial Management\",\"Popular Mechanics\",\"North Atlantic Regional Water Resources Study Appendix A ... [To Appendix V]\",\"Advertising And Sales Promotion\",\"Aircraft Propulsion And Gas Turbine Engines\",\"Dual-Fuel Diesel Engines\",\"The Laws Of Medicine\",\"Hand-Book Of Modern Steam Fire-Engines\",\"National Library Of Medicine Classification\",\"The Devil'S Grin\",\"Consolidated Financial Reporting\",\"Water Resources Paper\",\"The Elements Of Mechanics\",\"Advertising Management\",\"Montana\",\"Engines Of Creation\",\"The Journal Of Psychological Medicine And Mental Pathology\",\"Popular Mechanics\",\"Internal Medicine, Today And Tomorrow\",\"Exercises For The Applied Mechanics Laboratory\",\"Water Resources Management Iv\",\"Mechanics, Molecular Physics And Heat\",\"Analytic Cyclopedia Of Practical Medicine\",\"The Basics Of Finance\",\"Speeches, Addresses And Letters On Industrial And Financial Questions. To Which Is Added An Introduction, Together With Copious Notes, Etc\",\"Game Mechanics\",\"Proceedings Of The Society For Experimental Biology And Medicine\",\"Humor In Advertising\",\"Reports Submitted To The Council On Library Resources\",\"Fundamentals Of Financial Management\",\"Replies To Questionnaires On Aircraft Engine Production Costs And Profits\",\"Popular Mechanics\",\"Analytic Cyclopedia Of Practical Medicine\",\"The Principles Of Elementary Mechanics\",\"Fundamentals Of Financial Management\",\"New York State Journal Of Medicine\",\"Speeches, Addresses And Letters On Industrial And Financial Questions. To Which Is Added An Introduction, Together With Copious Notes, Etc\",\"Analytic Cyclopedia Of Practical Medicine\",\"Advertising & Selling Magazine\",\"Report Of The Federal Trade Commission On Distribution Methods And Costs: Advertising As A Factor In Distribution\",\"Engines Of Creation\",\"The Behavioral Sciences And Preventive Medicine Opportunities And Dilemmas\",\"Michigan Manufacturer & Financial Record\",\"Natural And Energy Resources\",\"Ogilvy On Advertising\",\"Corliss-Engines And Allied Steam-Motors Working With And Without Automatic Variable Expansion-Gear\",\"Web Advertising\",\"Report Of The Committee On Energy And Natural Resources To The Committee On The Budget, United States Senate, Pursuant To Section 301(C) Of The Congressional Budget And Impoundment Control Act Of 1974\",\"The St. Louis Courier Of Medicine\",\"Theory Of Financial Decision Making\",\"Financial Accounting: A Dynamic Approach\",\"Financial Services, 2e\",\"Geology And Water Resources Of The Goose Creek Basin\",\"Financial Annual Of Japan\",\"Financial Inclusion\",\"U.S. Securities, Government Finance, Economic And Financial Conditions\",\"Speeches, Addresses And Letters On Industrial And Financial Questions. To Which Is Added An Introduction, Together With Copious Notes, Etc\",\"Blood Engines\",\"Advertising & Selling Magazine\",\"Geostatistics For Natural Resources Evaluation\",\"Geostatistics For Natural Resources Evaluation\",\"Popular Mechanics\",\"Advertising The American Dream\",\"Introduction To Health Care Economics & Financial Management\",\"Department Publications - State Of California, Dept. Of Water Resources\",\"Technical Report - South Carolina Marine Resources Division\",\"Effects Of Financial Globalization On Developing Countries: Some Empirical Evidence\",\"The New England Journal Of Medicine\",\"Speeches, Addresses And Letters On Industrial And Financial Questions. To Which Is Added An Introduction, Together With Copious Notes, Etc\",\"Journal Of Practical Medicine\",\"Web Advertising\",\"Theory Of Financial Decision Making\",\"Aircraft Propulsion And Gas Turbine Engines\",\"Water Resources Data\",\"Annual Report Of The Board Of Registration In Medicine\",\"Advertising Management\",\"Moral Engines\",\"Internal Medicine, Today And Tomorrow\",\"Financial Accounting: A Dynamic Approach\",\"An Epitome Of The American Eclectic Practice Of Medicine, Surgery, Obstetrics, Diseases Of Women And Children, Materia Medica And Pharmacy\",\"Natural Resources Law Newsletter\",\"Medicine\",\"North Atlantic Regional Water Resources Study Appendix A ... [To Appendix V]\",\"The Institutes Of Medicine\",\"The Retrospect Of Practical Medicine And Surgery\",\"Negative Political Advertising\",\"English Mechanics And The World Of Science\",\"Financial Management\",\"The Profit And Loss Account Of Modern Medicine, And Other Papers\",\"Fracture Mechanics\",\"Beyond Advertising\",\"Handbook On California'S Natural Resources\",\"Emotions, Advertising And Consumer Choice\",\"Elements Of Analytical Mechanics\",\"Game Mechanics\",\"Advertising Management\",\"Navy Medicine\",\"American Almanac And Treasury Of Facts Statistical, Financial And Political\",\"Earth Resources\",\"Fracture Mechanics\",\"Popular Mechanics\",\"The National Debt, And How To Pay It: Or, The Financial Condition Of The Nation Considered, Etc. [By J. Mcewen.]\",\"Water Resources Activities In The United States\",\"A Manual Of The Practice Of Medicine\",\"Popular Mechanics\",\"Report On The Trade And Resources Of The Central Provinces\",\"The Principles Of Elementary Mechanics\",\"Ingenious Mechanicks\",\"Advertising And The Public Interest\",\"The Journal Of Experimental Medicine\",\"Some Vocational Resources And Needs Of A Rural Community As Determined By The Location Of Special Groups\",\"Anachronist\",\"Financial Annual Of Japan\",\"Applied Mechanics\",\"Modern Medicine\",\"Lessons In Elementary Mechanics\",\"Financial Annual Of Japan\",\"Advertising\",\"Heavy Oil As Fuel For Internal-Combustion Engines\",\"Banking Regulation Of Uk And Us Financial Markets\",\"Effects Of Information Technology On Financial Services Systems\",\"Advertising And The Public Interest\",\"Selected Water Resources Abstracts\",\"Automotive Engine Performance\",\"Replies To Questionnaires On Aircraft Engine Production Costs And Profits\",\"Fluid Mechanics\",\"The Mirror Makers\",\"Speeches, Addresses And Letters On Industrial And Financial Questions. To Which Is Added An Introduction, Together With Copious Notes, Etc\",\"Control Of Advertising On Interstate Highways\",\"North Atlantic Regional Water Resources Study Appendix A ... [To Appendix V]\",\"Reports Submitted To The Council On Library Resources\",\"Immigration Services\",\"Proceedings Of The Financial Management Conference\",\"A B C Of The Steam Engine\",\"The Big Book Of Engines (Thomas & Friends)\",\"Advertising Your Small Business\",\"Report Of The Federal Trade Commission On Distribution Methods And Costs: Advertising As A Factor In Distribution\",\"Applied Mechanics\",\"Annual Resources Report\",\"Start Your Engines\",\"The Canadian Financial System\",\"Anachronist\",\"The Commercial & Financial Chronicle ...\",\"Advertising And Sales Promotion\",\"Civil Aircraft And Aircraft Engines\",\"Water Resources Activities In The United States\",\"Water Resources Paper\",\"Natural Resources Of The United States\",\"Advertising Management\",\"Modern Electric Railway Practice: Power Stations, Steam And Gas Engines, Generators, And Switchboards\",\"Elements Of Analytical Mechanics\",\"Financial Management Information Package\",\"Earth Resources\",\"How To Build And Modify Gm Ls-Series Engines\",\"Water Resources Paper\",\"The Retrospect Of Practical Medicine And Surgery\",\"Popular Mechanics\",\"The Psychology Of Advertising\",\"Advertising Your Small Business\",\"Social Communication In Advertising\",\"Handbook On California'S Natural Resources\",\"Immigration Services\",\"Annual Resources Report\",\"Planning Our Resources\",\"Exercises For The Applied Mechanics Laboratory\",\"Minnesota Medicine\",\"Lessons In Elementary Mechanics\",\"Mechanics Of Machinery: Friction And Its Application\",\"New York State Journal Of Medicine\",\"Automotive Engine Performance\",\"Moral Engines\",\"Speeches, Addresses And Letters On Industrial And Financial Questions. To Which Is Added An Introduction, Together With Copious Notes, Etc\",\"Natural-Bonded Molding Sand Resources Of Illinois\",\"Medicine In Modern Times\",\"The Mirror Makers\",\"Advertising Management\",\"Financial Institutions Act, 1973\",\"Advertising Your Small Business\",\"International Record Of Medicine And General Practice Clinics\",\"Elements Of Mechanics\",\"Applied Mechanics\",\"Financial Accountability In Nepal\",\"How To Advertise\",\"Montana\",\"The Psychology Of Advertising\",\"Industrial Resources, Kentucky: Radcliff & Vine Grove\",\"Corliss-Engines And Allied Steam-Motors Working With And Without Automatic Variable Expansion-Gear\",\"Financial Management\",\"Component Design For Highly Pressure Charged Diesel Engines\",\"Natural And Energy Resources\",\"Effects Of Information Technology On Financial Services Systems\",\"Theory Of Financial Decision Making\",\"Engine Of Impact\",\"Marine Diesel Engines\",\"Modern Electric Railway Practice: Power Stations, Steam And Gas Engines, Generators, And Switchboards\",\"The Journal Of Psychological Medicine And Mental Pathology\",\"Modern Electric Railway Practice: Power Stations, Steam And Gas Engines, Generators, And Switchboards\",\"Emotions, Advertising And Consumer Choice\",\"Ogilvy On Advertising\",\"A New And Vastly Improved Edition Of The Industrial Resources Of Wisconsin\",\"Breakthrough Advertising\",\"Popular Mechanics\",\"Resources And Opportunities Of Montana\",\"Component Design For Highly Pressure Charged Diesel Engines\",\"Proceedings Of The Financial Management Conference\",\"Sex And Gender In Acute Care Medicine\",\"Medicine In Modern Times\",\"Sex And Gender In Acute Care Medicine\",\"Internal Medicine, Today And Tomorrow\",\"Advertising Of Alcoholic Beverages. H.R. 4627\",\"Applied Mechanics\",\"Popular Mechanics\",\"Directory Of Northern Library Resources\",\"Development Of Non-Bank Financial Institutions And Capital Markets In European Union Accession Countries\",\"Old Dominion Journal Of Medicine And Surgery\",\"The Retrospect Of Medicine\",\"Moral Engines\",\"The Advertising Concept Book\",\"Mechanics Of Machinery: Friction And Its Application\",\"Replies To Questionnaires On Aircraft Engine Production Costs And Profits\",\"Google Earth Engine Applications\",\"Water Resources Data\",\"The National Debt, And How To Pay It: Or, The Financial Condition Of The Nation Considered, Etc. [By J. Mcewen.]\",\"The American Journal Of Clinical Medicine\",\"Mechanics' Magazine\",\"Report On The Trade And Resources Of The Central Provinces\",\"Water Resources Data\",\"Planning Our Resources\",\"Component Design For Highly Pressure Charged Diesel Engines\",\"International Banking And Financial Centers\",\"Natural And Energy Resources\",\"Mechanics' Magazine\",\"Marine Diesel Engines\",\"Corliss-Engines And Allied Steam-Motors Working With And Without Automatic Variable Expansion-Gear\",\"Report Of The Federal Trade Commission On Distribution Methods And Costs: Advertising As A Factor In Distribution\",\"Negative Political Advertising\",\"International Banking And Financial Centers\",\"Internal Combustion Engines\",\"Water Resources Data\",\"The Elements Of Mechanics\",\"Resources And Opportunities Of Montana\",\"Biennial Report Of The Department Of Water Resources\",\"Replies To Questionnaires On Aircraft Engine Production Costs And Profits\",\"The Commercial And Financial Chronicle\",\"Advertising Outdoors\",\"Earth Resources\",\"Mechanics' Magazine\",\"Advertising To Children In China\",\"A New And Vastly Improved Edition Of The Industrial Resources Of Wisconsin\",\"Dynamics Of International Advertising\",\"Mechanics, Molecular Physics And Heat\",\"Geostatistics For Natural Resources Evaluation\",\"Effects Of Financial Globalization On Developing Countries: Some Empirical Evidence\",\"Medicine\",\"The Laws Of Medicine\",\"Medicine\",\"Organizational Success Through Effective Human Resources Management\",\"Emotions, Advertising And Consumer Choice\",\"Domestic Medicine; Or, Plain Instructions In The Art Of Preserving And Restoring Health By Simple And Efficient Means\",\"Directory Of Japanese Technical Resources In The United States\",\"Advertising And Sales Promotion\",\"How To Advertise\",\"Mortal Engines\",\"Start Your Engines\",\"The Big Book Of Engines (Thomas & Friends)\",\"Water Resources Paper\",\"Internal Combustion Engines\",\"Financial Management\",\"Journal Of Practical Medicine\",\"Proceedings Of The Society For Experimental Biology And Medicine\",\"Political And Commercial Control Of The Mineral Resources Of The World\",\"Consolidated Financial Reporting\",\"Organizational Success Through Effective Human Resources Management\",\"Financial Annual Of Japan\",\"Analytic Cyclopedia Of Practical Medicine\",\"Mortal Engines\",\"Exercises For The Applied Mechanics Laboratory\",\"Financial Management Agencies Face Many Challenges In Meeting The Goals Of The Federal Financial Management Improvement Act\",\"The Elements Of Mechanics\",\"The Basics Of Finance\",\"Atlanta Journal-Record Of Medicine\",\"Medicine\",\"Highlights Of Natural Resources Management\",\"Geostatistics For Natural Resources Evaluation\",\"Natural Resources Of The United States\",\"Resources And Opportunities Of Montana\",\"Hand-Book Of Modern Steam Fire-Engines\",\"The Mirror Makers\",\"Engines Of Anxiety\",\"Google Earth Engine Applications\",\"Advertising Management\",\"Report Of The City Comptroller, Exhibiting The Receipts, Expenditures, And Financial Condition Of The City Of Milwaukee, For The Year ...\",\"The Financial Bulletin\",\"A B C Of The Steam Engine\",\"The Monthly Cyclop\\u00e6dia Of Practical Medicine. V.1-21, V.22, No. 1-5, Aug. 1887-Apr. 1908\",\"Advertising And Popular Culture\",\"Fundamentals Of Financial Management\",\"The Psychology Of Advertising\",\"Natural Resources Of The United States\",\"Sex And Gender In Acute Care Medicine\",\"Popular Mechanics\",\"Geology And Water Resources Of The Goose Creek Basin\",\"Natural-Bonded Molding Sand Resources Of Illinois\",\"Advertising\",\"Engine Of Impact\",\"The Commercial & Financial Chronicle And Hunt'S Merchants' Magazine\",\"Negative Political Advertising\",\"Progressive Medicine\",\"Elementary Mechanics\",\"Natural And Energy Resources\",\"Transient Control Of Gasoline Engines\",\"Financial Structure And Economic Growth\",\"Google Earth Engine Applications\",\"Banking Regulation Of Uk And Us Financial Markets\",\"Traditional Use Of Plant Resources By Bankariya Ethnic Group In Makawanpur District, Central Nepal\",\"Profitable Advertising\",\"A History Of Mechanics\",\"The St. Louis Courier Of Medicine\",\"Popular Mechanics\",\"The Canadian Financial System\",\"Mechanics Of Machinery: Friction And Its Application\",\"Mechanics, Hydrostatics, Pneumatics, Optics\",\"Elementary Mechanics\",\"New Technologies For Emission Control In Marine Diesel Engines\",\"Aircraft Propulsion And Gas Turbine Engines\",\"Financial Management Information Package\",\"Immigration Services\",\"The Canadian Financial System\",\"North Atlantic Regional Water Resources Study Appendix A ... [To Appendix V]\",\"Social Communication In Advertising\",\"Exercises For The Applied Mechanics Laboratory\",\"Industrial Resources, Kentucky: Radcliff & Vine Grove\",\"Recommendation Engines\",\"How To Advertise\",\"Advertising 2.0\",\"Advertising\",\"American Almanac And Treasury Of Facts Statistical, Financial And Political\",\"Heavy Oil As Fuel For Internal-Combustion Engines\",\"Associative Engines\",\"The Retrospect Of Practical Medicine And Surgery\",\"Medicine\",\"Journal Of Sociologic Medicine\",\"North Atlantic Regional Water Resources Study Appendix A ... [To Appendix V]\",\"Ingenious Mechanicks\",\"Game Mechanics\",\"Financial Management, 2e\",\"Aircraft Propulsion And Gas Turbine Engines\",\"Aircraft Propulsion And Gas Turbine Engines\",\"Medicine In Modern Times\",\"Game Mechanics\",\"Core Clinical Medicine\",\"The Journal Of Experimental Medicine\",\"The American Journal Of Clinical Medicine\",\"Annual Resources Report\",\"The Profit And Loss Account Of Modern Medicine, And Other Papers\",\"Directory Of Northern Library Resources\",\"Proceedings Of The Financial Management Conference\",\"Navy Medicine\",\"Advertising Your Small Business\",\"Advertising To Children\",\"A B C Of The Steam Engine\",\"Advertising For Dummies\",\"A New And Vastly Improved Edition Of The Industrial Resources Of Wisconsin\",\"U.S. Securities, Government Finance, Economic And Financial Conditions\",\"Old Dominion Journal Of Medicine And Surgery\",\"Elements Of Analytical Mechanics\",\"Some Vocational Resources And Needs Of A Rural Community As Determined By The Location Of Special Groups\",\"Advertising Management\",\"Directory Of Japanese Technical Resources In The United States\",\"Old Dominion Journal Of Medicine And Surgery\",\"Dynamics Of International Advertising\",\"Financial Accountability In Nepal\",\"Transient Control Of Gasoline Engines\",\"Library Of Advertising\",\"Advertising Your Small Business\",\"National Library Of Medicine Classification\",\"Advertising Management\",\"A B C Of The Steam Engine\",\"Minnesota Medicine\",\"Advertising To The American Woman, 1900-1999\",\"Medicine\",\"Biennial Report Of The Department Of Water Resources\",\"The Elementary Principles Of Mechanics: Kinetics. 1895\",\"A Manual Of Family Medicine For India\",\"Control Of Advertising On Interstate Highways\",\"Old Dominion Journal Of Medicine And Surgery\",\"Geology And Water Resources Of The Goose Creek Basin\",\"Advertising Of Alcoholic Beverages. H.R. 4627\",\"Domestic Medicine; Or, Plain Instructions In The Art Of Preserving And Restoring Health By Simple And Efficient Means\",\"Advertising To Children\",\"Consolidated Financial Reporting\",\"Annual Report Of The Board Of Registration In Medicine\",\"An Epitome Of The American Eclectic Practice Of Medicine, Surgery, Obstetrics, Diseases Of Women And Children, Materia Medica And Pharmacy\",\"The Profit And Loss Account Of Modern Medicine, And Other Papers\",\"Planning Our Resources\",\"Popular Mechanics\",\"Profitable Advertising\",\"Dual-Fuel Diesel Engines\",\"A New And Vastly Improved Edition Of The Industrial Resources Of Wisconsin\",\"Industrial Resources, Kentucky: Radcliff & Vine Grove\",\"Financial Institutions Act, 1973\",\"Natural-Bonded Molding Sand Resources Of Illinois\",\"Heavy Oil As Fuel For Internal-Combustion Engines\",\"The St. Louis Courier Of Medicine\",\"A Collection Of Problems In Illustration Of The Principles Of Theoretical Mechanics\",\"Earth Resources\",\"Associative Engines\",\"Popular Mechanics\",\"Elements Of Analytical Mechanics\",\"Old Dominion Journal Of Medicine And Surgery\",\"Water Resources Management Iv\",\"Advertising To Children In China\",\"The Principles Of Elementary Mechanics\",\"Reality In Advertising\",\"Effects Of Financial Globalization On Developing Countries: Some Empirical Evidence\",\"Financial Management\",\"Financial Management Agencies Face Many Challenges In Meeting The Goals Of The Federal Financial Management Improvement Act\",\"Technical Report - South Carolina Marine Resources Division\",\"Biennial Report Of The Department Of Water Resources\",\"The Retrospect Of Medicine\",\"New Technologies For Emission Control In Marine Diesel Engines\",\"Engines Of Redemption\",\"International Banking And Financial Centers\",\"Financial Services 5e\",\"Advertising The American Dream\",\"The Monthly Cyclop\\u00e6dia Of Practical Medicine. V.1-21, V.22, No. 1-5, Aug. 1887-Apr. 1908\",\"Water Resources Activities In The United States\",\"Advertising And Sales Promotion\",\"The Institutes Of Medicine\",\"Advertising Management\",\"An Epitome Of The American Eclectic Practice Of Medicine, Surgery, Obstetrics, Diseases Of Women And Children, Materia Medica And Pharmacy\",\"Social Communication In Advertising\",\"The Commercial & Financial Chronicle ...\",\"Advertising Of Alcoholic Beverages. H.R. 4627\",\"Functional Analysis In Mechanics\",\"New Technologies For Emission Control In Marine Diesel Engines\",\"Advertising\",\"Proceedings Of The Financial Management Conference\",\"Annual Report Of The General Society Of Mechanics And Tradesmen Of The City Of New York\",\"Journal Of Practical Medicine\",\"Geostatistics For Natural Resources Evaluation\",\"Hand-Book Of Modern Steam Fire-Engines\",\"U.S. Securities, Government Finance, Economic And Financial Conditions\",\"Natural Resources Law Newsletter\",\"Fluid Mechanics\",\"Financial Annual Of Japan\",\"The Laws Of Medicine\",\"Advertising & Selling Magazine\",\"Report On The Trade And Resources Of The Central Provinces\",\"Engineering Mechanics\",\"Negative Political Advertising\",\"Medicine\",\"Organizational Success Through Effective Human Resources Management\",\"Advertising To Children In China\",\"The New England Journal Of Medicine\",\"Elementary Mechanics\",\"Hand-Book Of Modern Steam Fire-Engines\",\"Humor In Advertising\",\"The Basics Of Finance\",\"Dynamics Of International Advertising\",\"New York State Journal Of Medicine\",\"English Mechanics And The World Of Science\",\"Reality In Advertising\",\"Mechanics Of Machinery: Friction And Its Application\",\"Control Of Gas-Turbine And Ramjet Engines\",\"Medicine\",\"Atlanta Journal-Record Of Medicine\",\"Department Publications - State Of California, Dept. Of Water Resources\",\"A Manual Of Family Medicine For India\",\"Development Of Non-Bank Financial Institutions And Capital Markets In European Union Accession Countries\",\"Journal Of Sociologic Medicine\",\"Mechanics Of Engineering ...\",\"Ogilvy On Advertising\",\"Control Of Advertising On Interstate Highways\",\"Medicine\",\"Engine Of Impact\",\"Water Resources Paper\",\"Medicine\",\"Aircraft Propulsion And Gas Turbine Engines\",\"New York State Journal Of Medicine\",\"Control Of Gas-Turbine And Ramjet Engines\",\"Advertising For Dummies\",\"Marine Diesel Engines\",\"A B C Of The Steam Engine\",\"Domestic Medicine; Or, Plain Instructions In The Art Of Preserving And Restoring Health By Simple And Efficient Means\",\"How To Build And Modify Gm Ls-Series Engines\",\"Water Resources Paper\",\"A History Of Mechanics\",\"Replies To Questionnaires On Aircraft Engine Production Costs And Profits\",\"The Retrospect Of Practical Medicine And Surgery\",\"Control Of Advertising On Interstate Highways\",\"Water Resources Paper\",\"Geostatistics For Natural Resources Evaluation\",\"Foreign Publications For Advertising American Goods\",\"Development Of Non-Bank Financial Institutions And Capital Markets In European Union Accession Countries\",\"Financial Annual Of Japan\",\"Financial Structure And Economic Growth\",\"Dynamics Of International Advertising\",\"Reports Submitted To The Council On Library Resources\",\"Internal Combustion Engines\",\"Journal Of Sociologic Medicine\",\"Humor In Advertising\",\"Blood Engines\",\"Start Your Engines\",\"Progressive Medicine\",\"Report On The Trade And Resources Of The Central Provinces\",\"Popular Mechanics\",\"Replies To Questionnaires On Aircraft Engine Production Costs And Profits\",\"Foreign Publications For Advertising American Goods\",\"Annual Report Of The General Society Of Mechanics And Tradesmen Of The City Of New York\",\"Consolidated Financial Reporting\",\"Popular Mechanics\",\"Advertising And The Public Interest\",\"Advertising To The American Woman, 1900-1999\",\"Annual Resources Report\",\"Popular Mechanics\",\"Water Resources Data\",\"Social Communication In Advertising\",\"English Mechanics And The World Of Science\",\"Reality In Advertising\",\"Advertising To Children\",\"Fundamentals Of Financial Management\",\"Associative Engines\",\"Proceedings Of The Financial Management Conference\",\"Mechanics, Hydrostatics, Pneumatics, Optics\",\"Popular Mechanics\",\"Report Of The Committee On Energy And Natural Resources To The Committee On The Budget, United States Senate, Pursuant To Section 301(C) Of The Congressional Budget And Impoundment Control Act Of 1974\",\"The Institutes Of Medicine\",\"Hand-Book Of Modern Steam Fire-Engines\",\"Financial Annual Of Japan\",\"The Basics Of Finance\",\"Advertising\",\"Mechanics Of Machinery: Friction And Its Application\",\"Old Dominion Journal Of Medicine And Surgery\",\"Water Resources Management Iv\",\"Advertising Your Small Business\",\"American Almanac And Treasury Of Facts Statistical, Financial And Political\",\"The Journal Of Experimental Medicine\",\"Advertising And Sales Promotion\",\"Popular Mechanics\",\"Fracture Mechanics\",\"The Canadian Financial System\",\"North Atlantic Regional Water Resources Study Appendix A ... [To Appendix V]\",\"Automotive Engine Performance\",\"Heavy Oil As Fuel For Internal-Combustion Engines\",\"Banking Regulation Of Uk And Us Financial Markets\",\"Defense Health Care Triservice Strategy Needed To Justify Medical Resources For Readiness And Peacetime Care : Report To Congressional Requesters.\",\"Highlights Of Natural Resources Management\",\"Corliss-Engines And Allied Steam-Motors Working With And Without Automatic Variable Expansion-Gear\",\"Automotive Engine Performance\",\"American Almanac And Treasury Of Facts Statistical, Financial And Political\",\"Mechanics' Magazine\",\"Analytic Cyclopedia Of Practical Medicine\",\"Advertising And Sales Promotion\",\"English Mechanics And The World Of Science\",\"Marine Diesel Engines\",\"The Institutes Of Medicine\",\"Control Of Advertising On Interstate Highways\",\"A Manual Of The Practice Of Medicine\",\"Advertising Management\",\"Hand-Book Of Modern Steam Fire-Engines\",\"Development Of Non-Bank Financial Institutions And Capital Markets In European Union Accession Countries\",\"Mechanics' Magazine\",\"Proceedings Of The Financial Management Conference\",\"The Basics Of Finance\",\"A Manual Of The Practice Of Medicine\",\"Immigration Services\",\"Handbook On California'S Natural Resources\",\"Natural Resources Law Newsletter\",\"Elementary Mechanics\",\"Development Of Non-Bank Financial Institutions And Capital Markets In European Union Accession Countries\",\"Html5 Game Engines\",\"Invisible Engines\",\"Elementary Mechanics\",\"Organizational Success Through Effective Human Resources Management\",\"Popular Mechanics\",\"Principles Of Fluid Mechanics And Fluid Machines (Second Edition)\",\"Mechanics, Molecular Physics And Heat\",\"Indian Financial System 5e\",\"Directory Of Northern Library Resources\",\"The Elements Of Mechanics\",\"Engineering Mechanics\",\"Wiley Cpa Exam Review 2011, Financial Accounting And Reporting\",\"Technical Report - South Carolina Marine Resources Division\",\"Advertising To Children\",\"The Laws Of Medicine\",\"Resources And Opportunities Of Montana\",\"Natural And Energy Resources\",\"Advertising Management\",\"Directory Of Japanese Technical Resources In The United States\",\"Financial Structure And Economic Development\",\"Moral Engines\",\"Geostatistics For Natural Resources Evaluation\",\"Negative Political Advertising\",\"Heavy Oil As Fuel For Internal-Combustion Engines\",\"Engine Of Impact\",\"Speeches, Addresses And Letters On Industrial And Financial Questions. To Which Is Added An Introduction, Together With Copious Notes, Etc\",\"The Principles Of Elementary Mechanics\",\"Breakthrough Advertising\",\"Internal Combustion Engines\",\"Advertising And The Public Interest\",\"Associative Engines\",\"Mechanics, Hydrostatics, Pneumatics, Optics\",\"The Principles Of Elementary Mechanics\",\"International Banking And Financial Centers\",\"Financial Services, 2e\",\"The Retrospect Of Practical Medicine And Surgery\",\"The St. Louis Courier Of Medicine\",\"Popular Mechanics\",\"Financial Institutions Act, 1973\",\"Annual Report Of The General Society Of Mechanics And Tradesmen Of The City Of New York\",\"Hand-Book Of Modern Steam Fire-Engines\",\"Natural-Bonded Molding Sand Resources Of Illinois\",\"The Principles Of Elementary Mechanics\",\"Ingenious Mechanicks\",\"Montana\",\"Beyond Advertising\",\"A History Of Mechanics\",\"Planning Our Resources\",\"Modern Medicine\",\"Modern Medicine\",\"Mechanics, Hydrostatics, Pneumatics, Optics\",\"Engineering Mechanics\",\"U.S. Securities, Government Finance, Economic And Financial Conditions\",\"Mechanics\",\"Mechanics, Hydrostatics, Pneumatics, Optics\",\"Water Resources Data\",\"The American Journal Of Clinical Medicine\",\"Associative Engines\",\"Fluid Mechanics\",\"Internal Combustion Engines\",\"Minnesota Medicine\",\"Social Communication In Advertising\",\"Popular Mechanics\",\"Directory Of Japanese Technical Resources In The United States\",\"Tractor And Gas Engine Review\",\"The Behavioral Sciences And Preventive Medicine Opportunities And Dilemmas\",\"Advertising 2.0\",\"Negative Political Advertising\",\"American Almanac And Treasury Of Facts Statistical, Financial And Political\",\"The Institutes Of Medicine\",\"Biennial Report Of The Department Of Water Resources\",\"Dynamics Of International Advertising\",\"Advertising Outdoors\",\"International Accounting/Financial Reporting Standards Guide 2009\",\"Breakthrough Advertising\",\"The Mirror Makers\",\"Popular Mechanics\",\"Journal Of Practical Medicine\",\"The Retrospect Of Medicine\",\"Mechanics' And Engineers' Pocketbook Of Tables\",\"Elementary Mechanics\",\"Mechanics' Magazine\",\"An Epitome Of The American Eclectic Practice Of Medicine, Surgery, Obstetrics, Diseases Of Women And Children, Materia Medica And Pharmacy\",\"Popular Mechanics\",\"Advertising Management\",\"Report Of The City Comptroller, Exhibiting The Receipts, Expenditures, And Financial Condition Of The City Of Milwaukee, For The Year ...\",\"Engines Of Anxiety\",\"Water Resources Activities In The United States\",\"Infernal Devices (Mortal Engines, Book 3)\",\"The Retrospect Of Practical Medicine And Surgery\",\"Water Resources Paper\",\"Html5 Game Engines\",\"Highlights Of Natural Resources Management\",\"Advertising For Dummies\",\"Annual Report Of The Board Of Registration In Medicine\",\"Atlanta Journal-Record Of Medicine\",\"Advertising Your Small Business\",\"Mechanics\",\"Report Of The City Comptroller, Exhibiting The Receipts, Expenditures, And Financial Condition Of The City Of Milwaukee, For The Year ...\",\"Political And Commercial Control Of The Mineral Resources Of The World\",\"Appleton'S Dictionary Of Machines, Mechanics, Engine-Work, And Engineering\",\"Civil Aircraft And Aircraft Engines\",\"Analytic Cyclopedia Of Practical Medicine\",\"Academic Search Engines\",\"The Steam Engine\",\"Hand-Book Of Modern Steam Fire-Engines\",\"Physico-Clinical Medicine\",\"Financial Structure And Economic Growth\",\"Mortal Engines\",\"Advertising To Children\",\"Financial Management Information Package\",\"Financial Structure And Economic Growth\",\"Financial Management, 2e\",\"Mortal Engines\",\"Ogilvy On Advertising\",\"Advertising 2.0\",\"The Financial Bulletin\",\"A Catechism Of The Steam Engine\",\"The New England Journal Of Medicine\",\"Popular Mechanics\",\"Internal Combustion Engines\",\"Advertising To Children\",\"Advertising The American Dream\",\"Natural And Energy Resources\",\"Geology And Water Resources Of The Goose Creek Basin\",\"New Technologies For Emission Control In Marine Diesel Engines\",\"Journal Of Practical Medicine\",\"Popular Mechanics\",\"New York State Journal Of Medicine\",\"Financial Annual Of Japan\",\"International Record Of Medicine And General Practice Clinics\",\"The Laws Of Medicine\",\"Advertising To The American Woman, 1900-1999\",\"Geostatistics For Natural Resources Evaluation\",\"Effects Of Information Technology On Financial Services Systems\",\"Popular Mechanics\",\"Medicine\",\"Popular Mechanics\",\"Banking Regulation Of Uk And Us Financial Markets\",\"Advertising\",\"Ogilvy On Advertising\",\"Engines\",\"Lessons In Elementary Mechanics\",\"Advertising To Children In China\",\"Breakthrough Advertising\",\"The Commercial & Financial Chronicle ...\",\"The Devil'S Grin\",\"Organizational Success Through Effective Human Resources Management\",\"Medicine\",\"Water Resources Data\",\"Engines Of Redemption\",\"Modern Medicine\",\"Water Resources Data\",\"Mechanics' And Engineers' Pocketbook Of Tables\",\"Financial Accountability In Nepal\",\"International Accounting/Financial Reporting Standards Guide 2009\",\"Natural Resources Law Newsletter\",\"Directory Of Northern Library Resources\",\"Emotions, Advertising And Consumer Choice\",\"Montana\",\"Organizational Success Through Effective Human Resources Management\",\"Ingenious Mechanicks\",\"A History Of Mechanics\",\"The Elements Of Mechanics\",\"Library Of Advertising\",\"Domestic Medicine; Or, Plain Instructions In The Art Of Preserving And Restoring Health By Simple And Efficient Means\",\"Dynamics Of International Advertising\",\"North Atlantic Regional Water Resources Study Appendix A ... [To Appendix V]\",\"Hcci And Cai Engines For The Automotive Industry\",\"The Commercial And Financial Chronicle\",\"Popular Mechanics\",\"Ingenious Mechanicks\",\"Advertising & Selling Magazine\",\"Advertising And The Public Interest\",\"Natural Resources Law Newsletter\",\"Mechanics' Magazine\",\"Indian Financial System 5e\",\"Popular Mechanics\",\"Proceedings Of The Society For Experimental Biology And Medicine\",\"How To Build And Modify Gm Ls-Series Engines\",\"Advertising Your Small Business\",\"The Commercial & Financial Chronicle ...\",\"Technical Report - South Carolina Marine Resources Division\",\"Core Clinical Medicine\",\"Infernal Devices (Mortal Engines, Book 3)\",\"Advertising Management\",\"Corliss-Engines And Allied Steam-Motors Working With And Without Automatic Variable Expansion-Gear\",\"How To Advertise\",\"Principles Of Fluid Mechanics And Fluid Machines (Second Edition)\",\"Indian Financial System 5e\",\"Financial Structure And Economic Development\",\"Infernal Devices (Mortal Engines, Book 3)\",\"Corliss-Engines And Allied Steam-Motors Working With And Without Automatic Variable Expansion-Gear\",\"Water Resources Data\",\"Advertising 2.0\",\"Mechanics\",\"The New England Journal Of Medicine\",\"Exercises For The Applied Mechanics Laboratory\",\"The Elementary Principles Of Mechanics: Kinetics. 1895\",\"Internal Medicine, Today And Tomorrow\",\"Annual Report Of The Board Of Registration In Medicine\",\"Elements Of Analytical Mechanics\",\"Financial Management Information Package\",\"The Psychology Of Advertising\",\"Directory Of Northern Library Resources\",\"Defense Health Care Triservice Strategy Needed To Justify Medical Resources For Readiness And Peacetime Care : Report To Congressional Requesters.\",\"Defense Health Care Triservice Strategy Needed To Justify Medical Resources For Readiness And Peacetime Care : Report To Congressional Requesters.\",\"International Record Of Medicine And General Practice Clinics\",\"Financial Management\",\"Water Resources Management Iv\",\"Social Communication In Advertising\",\"Modern Medicine\",\"Financial Annual Of Japan\",\"Old Dominion Journal Of Medicine And Surgery\",\"Technical Report - South Carolina Marine Resources Division\",\"Web Advertising\",\"Aircraft Propulsion And Gas Turbine Engines\",\"Analytic Cyclopedia Of Practical Medicine\",\"Social Communication In Advertising\",\"Dynamics Of International Advertising\",\"Mechanics\",\"The Advertising Concept Book\",\"Mechanics, Molecular Physics And Heat\",\"Financial Structure And Economic Development\",\"The Journal Of Experimental Medicine\",\"An Epitome Of The American Eclectic Practice Of Medicine, Surgery, Obstetrics, Diseases Of Women And Children, Materia Medica And Pharmacy\",\"The Big Book Of Engines (Thomas & Friends)\",\"Automotive Engine Performance\",\"Financial Services 5e\",\"Financial Structure And Economic Growth\",\"Advertising 2.0\",\"Start Your Engines\",\"Effects Of Financial Globalization On Developing Countries: Some Empirical Evidence\",\"Popular Mechanics\",\"Financial Management Information Package\",\"Navy Medicine\",\"Internal Medicine, Today And Tomorrow\",\"Domestic Medicine; Or, Plain Instructions In The Art Of Preserving And Restoring Health By Simple And Efficient Means\",\"Physico-Clinical Medicine\",\"Negative Political Advertising\",\"Defense Health Care Triservice Strategy Needed To Justify Medical Resources For Readiness And Peacetime Care : Report To Congressional Requesters.\",\"A New And Vastly Improved Edition Of The Industrial Resources Of Wisconsin\",\"The Psychology Of Advertising\",\"Emotions, Advertising And Consumer Choice\",\"Atlanta Journal-Record Of Medicine\",\"The Monthly Cyclop\\u00e6dia Of Practical Medicine. V.1-21, V.22, No. 1-5, Aug. 1887-Apr. 1908\",\"Appleton'S Dictionary Of Machines, Mechanics, Engine-Work, And Engineering\",\"The Profit And Loss Account Of Modern Medicine, And Other Papers\",\"Analytic Cyclopedia Of Practical Medicine\",\"Mechanics, Molecular Physics And Heat\",\"Natural Resources Law Newsletter\",\"Marine Diesel Engines\",\"A Catechism Of The Steam Engine\",\"Advertising And Sales Promotion\",\"The Elements Of Mechanics\",\"Water Resources Data\",\"Journal Of Sociologic Medicine\",\"Heavy Oil As Fuel For Internal-Combustion Engines\",\"Technical Report - South Carolina Marine Resources Division\",\"Proceedings Of The Society For Experimental Biology And Medicine\",\"Foreign Publications For Advertising American Goods\",\"Popular Mechanics\",\"Effects Of Information Technology On Financial Services Systems\",\"Internal Medicine, Today And Tomorrow\",\"Popular Mechanics\",\"Journal Of Practical Medicine\",\"Wiley Cpa Exam Review 2011, Financial Accounting And Reporting\",\"Advertising For Dummies\",\"Natural Resources Law Newsletter\",\"Report Of The Committee On Energy And Natural Resources To The Committee On The Budget, United States Senate, Pursuant To Section 301(C) Of The Congressional Budget And Impoundment Control Act Of 1974\",\"Annual Report Of The General Society Of Mechanics And Tradesmen Of The City Of New York\",\"Financial Management For Pharmacists\",\"Infernal Devices (Mortal Engines, Book 3)\",\"New York State Journal Of Medicine\",\"Heavy Oil As Fuel For Internal-Combustion Engines\",\"The Behavioral Sciences And Preventive Medicine Opportunities And Dilemmas\",\"Consolidated Financial Reporting\",\"Planning Our Resources\",\"A New And Vastly Improved Edition Of The Industrial Resources Of Wisconsin\",\"Advertising 2.0\",\"Mortal Engines\",\"Advertising The American Dream\",\"A Collection Of Problems In Illustration Of The Principles Of Theoretical Mechanics\",\"Financial Institutions Act, 1973\",\"Financial Management, 2e\",\"The New England Journal Of Medicine\",\"The Retrospect Of Practical Medicine And Surgery\",\"Advertising Your Small Business\",\"Advertising Management\",\"English Mechanics And The World Of Science\",\"Fluid Mechanics\",\"The Canadian Financial System\",\"Water Resources Paper\",\"Recommendation Engines\",\"Effects Of Financial Globalization On Developing Countries: Some Empirical Evidence\",\"Aircraft Propulsion And Gas Turbine Engines\",\"Financial Structure And Economic Growth\",\"Advertising Of Alcoholic Beverages. H.R. 4627\",\"Medicine\",\"Resources And Opportunities Of Montana\",\"Journal Of Sociologic Medicine\",\"The Big Book Of Engines (Thomas & Friends)\",\"Water Resources Data\",\"Resources And Opportunities Of Montana\",\"Financial Structure And Economic Growth\",\"Replies To Questionnaires On Aircraft Engine Production Costs And Profits\",\"Appleton'S Dictionary Of Machines, Mechanics, Engine-Work, And Engineering\",\"American Folk Medicine\",\"Medicine\",\"The Principles Of Elementary Mechanics\",\"Indian Financial System 5e\",\"Journal Of Sociologic Medicine\",\"Natural Resources Law Newsletter\",\"The Elementary Principles Of Mechanics: Kinetics. 1895\",\"The Steam Engine\",\"Report Of The Committee On Energy And Natural Resources To The Committee On The Budget, United States Senate, Pursuant To Section 301(C) Of The Congressional Budget And Impoundment Control Act Of 1974\",\"A B C Of The Steam Engine\",\"Elementary Mechanics\",\"Google Earth Engine Applications\",\"Blood Engines\",\"The Steam Engine\",\"Water Resources Paper\",\"Negative Political Advertising\",\"A New And Vastly Improved Edition Of The Industrial Resources Of Wisconsin\",\"Navy Medicine\",\"English Mechanics And The World Of Science\",\"Component Design For Highly Pressure Charged Diesel Engines\",\"Fundamentals Of Financial Management\",\"Organizational Success Through Effective Human Resources Management\",\"Reality In Advertising\",\"Mechanics Of Machinery: Friction And Its Application\",\"Applied Mechanics\",\"How To Advertise\",\"The Institutes Of Medicine\",\"Game Mechanics\",\"The Canadian Financial System\",\"Library Of Advertising\",\"Replies To Questionnaires On Aircraft Engine Production Costs And Profits\",\"Directory Of Northern Library Resources\",\"Popular Mechanics\",\"The American Journal Of Clinical Medicine\",\"Anachronist\",\"The Commercial & Financial Chronicle And Hunt'S Merchants' Magazine\",\"The Devil'S Grin\",\"How To Build And Modify Gm Ls-Series Engines\",\"Popular Mechanics\",\"Monthly Report On Federal Water Resources Investigations And Construction Projects\",\"Humor In Advertising\",\"Mechanics' And Engineers' Pocketbook Of Tables\",\"The Financial Bulletin\",\"Geology And Water Resources Of The Goose Creek Basin\",\"Beyond Advertising\",\"The John H. Chafee Coastal Barrier Resources System\",\"Control Of Gas-Turbine And Ramjet Engines\",\"Game Mechanics\",\"Component Design For Highly Pressure Charged Diesel Engines\",\"Google Earth Engine Applications\",\"Effects Of Financial Globalization On Developing Countries: Some Empirical Evidence\",\"Financial Structure And Economic Growth\",\"Popular Mechanics\",\"American Folk Medicine\",\"Invisible Engines\",\"The Retrospect Of Medicine\",\"Web Advertising\",\"Negative Political Advertising\",\"Advertising The American Dream\",\"Popular Mechanics\",\"Principles Of Fluid Mechanics And Fluid Machines (Second Edition)\",\"Control Of Gas-Turbine And Ramjet Engines\",\"Michigan Manufacturer & Financial Record\",\"The Elementary Principles Of Mechanics: Kinetics. 1895\",\"Engine Of Impact\",\"Old Dominion Journal Of Medicine And Surgery\",\"The Canadian Financial System\",\"Blood Engines\",\"Modern Medicine\",\"Directory Of Northern Library Resources\",\"Advertising And Popular Culture\",\"Ogilvy On Advertising\",\"Advertising To The American Woman, 1900-1999\",\"A Manual Of Family Medicine For India\",\"Medicine And Surgery\",\"Report Of The Committee On Energy And Natural Resources To The Committee On The Budget, United States Senate, Pursuant To Section 301(C) Of The Congressional Budget And Impoundment Control Act Of 1974\",\"Advertising To The American Woman, 1900-1999\",\"Banking Regulation Of Uk And Us Financial Markets\",\"Modern Electric Railway Practice: Power Stations, Steam And Gas Engines, Generators, And Switchboards\",\"The New England Journal Of Medicine\",\"Heavy Oil As Fuel For Internal-Combustion Engines\",\"Mechanics, Molecular Physics And Heat\",\"Dynamics Of International Advertising\",\"International Accounting/Financial Reporting Standards Guide 2009\",\"Fluid Mechanics\",\"Financial Accounting: A Dynamic Approach\",\"Geostatistics For Natural Resources Evaluation\",\"Advertising Management\",\"Wiley Cpa Exam Review 2011, Financial Accounting And Reporting\",\"Medicine\",\"North Atlantic Regional Water Resources Study Appendix A ... [To Appendix V]\",\"Natural Resources Of The United States\",\"Report Of The Committee On Energy And Natural Resources To The Committee On The Budget, United States Senate, Pursuant To Section 301(C) Of The Congressional Budget And Impoundment Control Act Of 1974\",\"Dual-Fuel Diesel Engines\",\"Engines Of Redemption\",\"Social Communication In Advertising\",\"The Canadian Financial System\",\"Mechanics Of Engineering ...\",\"Directory Of Japanese Technical Resources In The United States\",\"Mechanics Of Machinery: Friction And Its Application\",\"A Manual Of Family Medicine For India\",\"The Behavioral Sciences And Preventive Medicine Opportunities And Dilemmas\",\"Core Clinical Medicine\",\"Planning Our Resources\",\"Engines Of Creation\",\"Fracture Mechanics\",\"Humor In Advertising\",\"Mechanics, Hydrostatics, Pneumatics, Optics\",\"Humor In Advertising\",\"Selected Water Resources Abstracts\",\"Advertising And Sales Promotion\",\"Navy Medicine\",\"Medicine\",\"Advertising Of Alcoholic Beverages. H.R. 4627\",\"The Profit And Loss Account Of Modern Medicine, And Other Papers\",\"An Epitome Of The American Eclectic Practice Of Medicine, Surgery, Obstetrics, Diseases Of Women And Children, Materia Medica And Pharmacy\",\"Advertising And Popular Culture\",\"Ogilvy On Advertising\",\"U.S. Securities, Government Finance, Economic And Financial Conditions\",\"Mechanics Of Machinery: Friction And Its Application\",\"Earth Resources\",\"Html5 Game Engines\",\"Technical Report - South Carolina Marine Resources Division\",\"Directory Of Japanese Technical Resources In The United States\",\"Popular Mechanics\",\"Industrial Resources, Kentucky: Radcliff & Vine Grove\",\"Engines Of Creation\",\"Popular Mechanics\",\"Profitable Advertising\",\"Profitable Advertising\",\"The Commercial & Financial Chronicle And Hunt'S Merchants' Magazine\",\"Defense Health Care Triservice Strategy Needed To Justify Medical Resources For Readiness And Peacetime Care : Report To Congressional Requesters.\",\"Corliss-Engines And Allied Steam-Motors Working With And Without Automatic Variable Expansion-Gear\",\"Library Of Advertising\",\"The Basics Of Finance\",\"Marine Diesel Engines\",\"Popular Mechanics\",\"Natural And Energy Resources\",\"Navy Medicine\",\"Domestic Medicine; Or, Plain Instructions In The Art Of Preserving And Restoring Health By Simple And Efficient Means\",\"Tractor And Gas Engine Review\",\"The Mirror Makers\",\"Moral Engines\",\"Engines Of Redemption\",\"Development Of Non-Bank Financial Institutions And Capital Markets In European Union Accession Countries\",\"Montana\",\"The Retrospect Of Practical Medicine And Surgery\",\"The Mirror Makers\",\"Introduction To Health Care Economics & Financial Management\",\"Engines Of Creation\",\"Technical Report - South Carolina Marine Resources Division\",\"Popular Mechanics\",\"Hcci And Cai Engines For The Automotive Industry\",\"Journal Of Sociologic Medicine\",\"U.S. Securities, Government Finance, Economic And Financial Conditions\",\"Department Publications - State Of California, Dept. Of Water Resources\",\"Financial Management For Pharmacists\",\"Fundamentals Of Financial Management\",\"Invisible Engines\",\"The Devil'S Grin\",\"The Profit And Loss Account Of Modern Medicine, And Other Papers\",\"English Mechanics And The World Of Science\",\"Report On The Trade And Resources Of The Central Provinces\",\"The Monthly Cyclop\\u00e6dia Of Practical Medicine. V.1-21, V.22, No. 1-5, Aug. 1887-Apr. 1908\",\"The Profit And Loss Account Of Modern Medicine, And Other Papers\",\"How To Build And Modify Gm Ls-Series Engines\",\"The American Journal Of Clinical Medicine\",\"Foreign Publications For Advertising American Goods\",\"Consolidated Financial Reporting\",\"Appleton'S Dictionary Of Machines, Mechanics, Engine-Work, And Engineering\",\"How To Advertise\",\"Natural And Energy Resources\",\"Advertising To The American Woman, 1900-1999\",\"The Monthly Cyclop\\u00e6dia Of Practical Medicine. V.1-21, V.22, No. 1-5, Aug. 1887-Apr. 1908\",\"Fracture Mechanics\",\"Elements Of Mechanics\",\"Heavy Oil As Fuel For Internal-Combustion Engines\",\"Atlanta Journal-Record Of Medicine\",\"Engineering Mechanics\",\"Financial Structure And Economic Growth\",\"Engines\",\"Ogilvy On Advertising\",\"Invisible Engines\",\"The New England Journal Of Medicine\",\"Modern Electric Railway Practice: Power Stations, Steam And Gas Engines, Generators, And Switchboards\",\"Infernal Devices (Mortal Engines, Book 3)\",\"Banking Regulation Of Uk And Us Financial Markets\",\"Advertising And The Public Interest\",\"Social Communication In Advertising\",\"Water Resources Data\",\"The Elements Of Mechanics\",\"The St. Louis Courier Of Medicine\",\"Journal Of Sociologic Medicine\",\"Engines Of Anxiety\",\"The Retrospect Of Practical Medicine And Surgery\",\"Humor In Advertising\",\"Engineering Mechanics\",\"Engines Of Creation\",\"Google Earth Engine Applications\",\"Domestic Medicine; Or, Plain Instructions In The Art Of Preserving And Restoring Health By Simple And Efficient Means\",\"Immigration Services\",\"Corliss-Engines And Allied Steam-Motors Working With And Without Automatic Variable Expansion-Gear\",\"Profitable Advertising\",\"North Atlantic Regional Water Resources Study Appendix A ... [To Appendix V]\",\"The Elements Of Mechanics\",\"Monthly Report On Federal Water Resources Investigations And Construction Projects\",\"National Library Of Medicine Classification\",\"International Accounting/Financial Reporting Standards Guide 2009\",\"Mechanics\",\"Sex And Gender In Acute Care Medicine\",\"Popular Mechanics\",\"Annual Report Of The General Society Of Mechanics And Tradesmen Of The City Of New York\",\"Financial Management, 2e\",\"The Retrospect Of Practical Medicine And Surgery\",\"Proceedings Of The Financial Management Conference\",\"Beyond Advertising\",\"Financial Services, 2e\",\"Internal Medicine, Today And Tomorrow\",\"Advertising Of Alcoholic Beverages. H.R. 4627\",\"Reports Submitted To The Council On Library Resources\",\"Elements Of Mechanics\",\"Advertising Management\",\"Recommendation Engines\",\"Aircraft Propulsion And Gas Turbine Engines\",\"Mechanics, Hydrostatics, Pneumatics, Optics\",\"Engines Of Anxiety\",\"Directory Of Japanese Technical Resources In The United States\",\"Old Dominion Journal Of Medicine And Surgery\",\"Moral Engines\",\"Montana\",\"Profitable Advertising\",\"Annual Resources Report\",\"Popular Mechanics\",\"The Laws Of Medicine\",\"Mechanics' Magazine\",\"Functional Analysis In Mechanics\",\"The Behavioral Sciences And Preventive Medicine Opportunities And Dilemmas\",\"Recommendation Engines\",\"Start Your Engines\",\"Report Of The Federal Trade Commission On Distribution Methods And Costs: Advertising As A Factor In Distribution\",\"The American Journal Of Clinical Medicine\",\"Report On The Trade And Resources Of The Central Provinces\",\"Water Resources Management Iv\",\"Internal Medicine, Today And Tomorrow\",\"Html5 Game Engines\",\"Michigan Manufacturer & Financial Record\",\"Natural Resources Law Newsletter\",\"Speeches, Addresses And Letters On Industrial And Financial Questions. To Which Is Added An Introduction, Together With Copious Notes, Etc\",\"Navy Medicine\",\"Modern Electric Railway Practice: Power Stations, Steam And Gas Engines, Generators, And Switchboards\",\"American Almanac And Treasury Of Facts Statistical, Financial And Political\",\"Advertising & Selling Magazine\",\"Selected Water Resources Abstracts\",\"Advertising And Sales Promotion\",\"Immigration Services\",\"Infernal Devices (Mortal Engines, Book 3)\",\"Domestic Medicine; Or, Plain Instructions In The Art Of Preserving And Restoring Health By Simple And Efficient Means\",\"Engine Of Impact\",\"Report Of The Committee On Energy And Natural Resources To The Committee On The Budget, United States Senate, Pursuant To Section 301(C) Of The Congressional Budget And Impoundment Control Act Of 1974\",\"The Mirror Makers\",\"A B C Of The Steam Engine\",\"A Manual Of Family Medicine For India\",\"Profitable Advertising\",\"American Folk Medicine\",\"Popular Mechanics\",\"Beyond Advertising\",\"Medicine\",\"Consolidated Financial Reporting\",\"Financial Management Information Package\",\"A New And Vastly Improved Edition Of The Industrial Resources Of Wisconsin\",\"Anachronist\",\"Advertising & Selling Magazine\",\"U.S. Securities, Government Finance, Economic And Financial Conditions\",\"Proceedings Of The Society For Experimental Biology And Medicine\",\"Water Resources Management Iv\",\"Theory Of Financial Decision Making\",\"Geostatistics For Natural Resources Evaluation\",\"Emotions, Advertising And Consumer Choice\",\"Atlanta Journal-Record Of Medicine\",\"Automotive Engine Performance\",\"Start Your Engines\",\"International Banking And Financial Centers\",\"Water Resources Paper\",\"Popular Mechanics\",\"Old Dominion Journal Of Medicine And Surgery\",\"Mechanics, Molecular Physics And Heat\",\"Academic Search Engines\",\"Civil Aircraft And Aircraft Engines\",\"Mortal Engines\",\"Appleton'S Dictionary Of Machines, Mechanics, Engine-Work, And Engineering\",\"New Technologies For Emission Control In Marine Diesel Engines\",\"Traditional Use Of Plant Resources By Bankariya Ethnic Group In Makawanpur District, Central Nepal\",\"The Commercial And Financial Chronicle\",\"The Psychology Of Advertising\",\"Water Resources Paper\",\"Geostatistics For Natural Resources Evaluation\",\"Medicine\",\"Advertising Of Alcoholic Beverages. H.R. 4627\",\"Replies To Questionnaires On Aircraft Engine Production Costs And Profits\",\"The Behavioral Sciences And Preventive Medicine Opportunities And Dilemmas\",\"Directory Of Northern Library Resources\",\"The Elementary Principles Of Mechanics: Kinetics. 1895\",\"Advertising For Dummies\",\"Advertising To Children In China\",\"Ingenious Mechanicks\",\"Defense Health Care Triservice Strategy Needed To Justify Medical Resources For Readiness And Peacetime Care : Report To Congressional Requesters.\",\"Marine Diesel Engines\",\"The Profit And Loss Account Of Modern Medicine, And Other Papers\",\"U.S. Securities, Government Finance, Economic And Financial Conditions\",\"Exercises For The Applied Mechanics Laboratory\",\"National Library Of Medicine Classification\",\"Html5 Game Engines\",\"Technical Report - South Carolina Marine Resources Division\",\"Proceedings Of The Financial Management Conference\",\"Fracture Mechanics\",\"Anachronist\",\"Analytic Cyclopedia Of Practical Medicine\",\"Engines Of Anxiety\",\"Financial Structure And Economic Development\",\"Marine Diesel Engines\",\"International Banking And Financial Centers\",\"Navy Medicine\",\"Water Resources Management Iv\",\"Financial Management Agencies Face Many Challenges In Meeting The Goals Of The Federal Financial Management Improvement Act\",\"Recommendation Engines\",\"Recommendation Engines\",\"Annual Report Of The General Society Of Mechanics And Tradesmen Of The City Of New York\",\"Minnesota Medicine\",\"The Principles Of Elementary Mechanics\",\"Anachronist\",\"Biennial Report Of The Department Of Water Resources\",\"Effects Of Information Technology On Financial Services Systems\",\"Journal Of Sociologic Medicine\",\"Mechanics' Magazine\",\"Journal Of Sociologic Medicine\",\"International Record Of Medicine And General Practice Clinics\",\"Financial Management, 2e\",\"The Mirror Makers\",\"Earth Resources\",\"Advertising Management\",\"The Institutes Of Medicine\",\"Industrial Resources, Kentucky: Radcliff & Vine Grove\",\"Progressive Medicine\",\"Advertising Your Small Business\",\"Applied Mechanics\",\"Advertising Management\",\"Elements Of Mechanics\",\"Financial Management, 2e\",\"Financial Services, 2e\",\"Mechanics, Hydrostatics, Pneumatics, Optics\",\"Advertising Of Alcoholic Beverages. H.R. 4627\",\"Control Of Gas-Turbine And Ramjet Engines\",\"The Financial Bulletin\",\"The Journal Of Experimental Medicine\",\"Planning Our Resources\",\"Annual Resources Report\",\"Financial Management\",\"The Behavioral Sciences And Preventive Medicine Opportunities And Dilemmas\",\"Associative Engines\",\"Report Of The City Comptroller, Exhibiting The Receipts, Expenditures, And Financial Condition Of The City Of Milwaukee, For The Year ...\",\"Google Earth Engine Applications\",\"The Institutes Of Medicine\",\"Organizational Success Through Effective Human Resources Management\",\"Foreign Publications For Advertising American Goods\",\"Game Mechanics\",\"Financial Accountability In Nepal\",\"Invisible Engines\",\"Control Of Gas-Turbine And Ramjet Engines\",\"Medicine\",\"A Manual Of Family Medicine For India\",\"Financial Structure And Economic Development\",\"Mechanics Of Machinery: Friction And Its Application\",\"Popular Mechanics\",\"The Journal Of Experimental Medicine\",\"Breakthrough Advertising\",\"Associative Engines\",\"Advertising In India\",\"Advertising 2.0\",\"Theory Of Financial Decision Making\",\"Advertising To The American Woman, 1900-1999\",\"The New England Journal Of Medicine\",\"Reports Submitted To The Council On Library Resources\",\"Mechanics\",\"International Accounting/Financial Reporting Standards Guide 2009\",\"A New And Vastly Improved Edition Of The Industrial Resources Of Wisconsin\",\"U.S. Securities, Government Finance, Economic And Financial Conditions\",\"Engineering Mechanics\",\"The Canadian Financial System\",\"Mortal Engines\",\"Advertising Management\",\"Proceedings Of The Society For Experimental Biology And Medicine\",\"Mortal Engines\",\"Fundamentals Of Financial Management\",\"Financial Management\",\"Elements Of Mechanics\",\"Highlights Of Natural Resources Management\",\"A Manual Of The Practice Of Medicine\",\"Financial Management\",\"Introduction To Health Care Economics & Financial Management\",\"Navy Medicine\",\"How To Advertise\",\"Theory Of Financial Decision Making\",\"Functional Analysis In Mechanics\",\"Engines Of Creation\",\"The John H. Chafee Coastal Barrier Resources System\",\"Effects Of Information Technology On Financial Services Systems\",\"Advertising To Children In China\",\"Mortal Engines\",\"Advertising To The American Woman, 1900-1999\",\"Atlanta Journal-Record Of Medicine\",\"The Psychology Of Advertising\",\"Advertising And Sales Promotion\",\"Geostatistics For Natural Resources Evaluation\",\"The National Debt, And How To Pay It: Or, The Financial Condition Of The Nation Considered, Etc. [By J. Mcewen.]\",\"The Psychology Of Advertising\",\"Fluid Mechanics\",\"Advertising Of Alcoholic Beverages. H.R. 4627\",\"Water Resources Data\",\"Report On The Trade And Resources Of The Central Provinces\",\"Financial Management, 2e\",\"Technical Report - South Carolina Marine Resources Division\",\"Advertising For Dummies\",\"Popular Mechanics\",\"Mechanics' And Engineers' Pocketbook Of Tables\",\"Popular Mechanics\",\"Report Of The Federal Trade Commission On Distribution Methods And Costs: Advertising As A Factor In Distribution\",\"An Epitome Of The American Eclectic Practice Of Medicine, Surgery, Obstetrics, Diseases Of Women And Children, Materia Medica And Pharmacy\",\"Old Dominion Journal Of Medicine And Surgery\",\"Atlanta Journal-Record Of Medicine\",\"Report Of The Federal Trade Commission On Distribution Methods And Costs: Advertising As A Factor In Distribution\",\"Internal Medicine, Today And Tomorrow\",\"Indian Financial System 5e\",\"Financial Management Agencies Face Many Challenges In Meeting The Goals Of The Federal Financial Management Improvement Act\",\"Financial Management For Pharmacists\",\"Development Of Non-Bank Financial Institutions And Capital Markets In European Union Accession Countries\",\"Natural Resources Law Newsletter\",\"Advertising Management\",\"A Manual Of The Practice Of Medicine\",\"The Retrospect Of Medicine\",\"Component Design For Highly Pressure Charged Diesel Engines\",\"Monthly Report On Federal Water Resources Investigations And Construction Projects\",\"The Commercial & Financial Chronicle ...\",\"Organizational Success Through Effective Human Resources Management\",\"Advertising To Children\",\"Resources And Opportunities Of Montana\",\"The Basics Of Finance\",\"Montana\",\"Advertising Management\",\"Financial Management Information Package\",\"Financial Management, 2e\",\"Development Of Non-Bank Financial Institutions And Capital Markets In European Union Accession Countries\",\"International Banking And Financial Centers\",\"The Profit And Loss Account Of Modern Medicine, And Other Papers\",\"Mortal Engines\",\"Water Resources Paper\",\"Tractor And Gas Engine Review\",\"Dual-Fuel Diesel Engines\",\"Transient Control Of Gasoline Engines\",\"The Retrospect Of Practical Medicine And Surgery\",\"The Retrospect Of Medicine\",\"Start Your Engines\",\"Medicine In Modern Times\",\"How To Build And Modify Gm Ls-Series Engines\",\"Effects Of Information Technology On Financial Services Systems\",\"Advertising Outdoors\",\"The Devil'S Grin\",\"Water Resources Data\",\"Financial Management, 2e\",\"How To Build And Modify Gm Ls-Series Engines\",\"Advertising To The American Woman, 1900-1999\",\"Html5 Game Engines\",\"Natural-Bonded Molding Sand Resources Of Illinois\",\"Some Vocational Resources And Needs Of A Rural Community As Determined By The Location Of Special Groups\",\"The Profit And Loss Account Of Modern Medicine, And Other Papers\",\"The Journal Of Psychological Medicine And Mental Pathology\",\"Blood Engines\",\"Geology And Water Resources Of The Goose Creek Basin\",\"Popular Mechanics\",\"Financial Management, 2e\",\"The Laws Of Medicine\",\"Report On The Trade And Resources Of The Central Provinces\",\"Advertising Management\",\"Engines Of Anxiety\",\"Blood Engines\",\"Ogilvy On Advertising\",\"Marine Diesel Engines\",\"Advertising And Sales Promotion\",\"Heavy Oil As Fuel For Internal-Combustion Engines\",\"Mechanics, Hydrostatics, Pneumatics, Optics\",\"Marine Diesel Engines\",\"Mechanics\",\"The Basics Of Finance\",\"Financial Annual Of Japan\",\"Proceedings Of The Financial Management Conference\",\"The New England Journal Of Medicine\",\"Planning Our Resources\",\"Indian Financial System 5e\",\"Popular Mechanics\",\"Geostatistics For Natural Resources Evaluation\",\"Functional Analysis In Mechanics\",\"Advertising And Sales Promotion\",\"Sex And Gender In Acute Care Medicine\",\"Internal Combustion Engines\",\"A B C Of The Steam Engine\",\"The Steam Engine\",\"Advertising Management\",\"Water Resources Paper\",\"Speeches, Addresses And Letters On Industrial And Financial Questions. To Which Is Added An Introduction, Together With Copious Notes, Etc\",\"Natural Resources Law Newsletter\",\"Mechanics Of Engineering ...\",\"Replies To Questionnaires On Aircraft Engine Production Costs And Profits\",\"North Atlantic Regional Water Resources Study Appendix A ... [To Appendix V]\",\"The Profit And Loss Account Of Modern Medicine, And Other Papers\",\"Speeches, Addresses And Letters On Industrial And Financial Questions. To Which Is Added An Introduction, Together With Copious Notes, Etc\",\"Speeches, Addresses And Letters On Industrial And Financial Questions. To Which Is Added An Introduction, Together With Copious Notes, Etc\",\"Financial Management, 2e\",\"The Financial Bulletin\",\"Analytic Cyclopedia Of Practical Medicine\",\"Ogilvy On Advertising\",\"Medicine And Surgery\",\"Physico-Clinical Medicine\",\"Financial Structure And Economic Growth\",\"Html5 Game Engines\",\"Minnesota Medicine\",\"Applied Mechanics\",\"The Profit And Loss Account Of Modern Medicine, And Other Papers\",\"Mortal Engines\",\"Natural And Energy Resources\",\"Defense Health Care Triservice Strategy Needed To Justify Medical Resources For Readiness And Peacetime Care : Report To Congressional Requesters.\",\"Geology And Water Resources Of The Goose Creek Basin\",\"Exercises For The Applied Mechanics Laboratory\",\"Engines\",\"A Manual Of Family Medicine For India\",\"Montana\",\"Mechanics\",\"Breakthrough Advertising\",\"Mortal Engines\",\"International Accounting/Financial Reporting Standards Guide 2009\",\"Foreign Publications For Advertising American Goods\",\"The New England Journal Of Medicine\",\"Financial Management Information Package\",\"Medicine In Modern Times\",\"A Collection Of Problems In Illustration Of The Principles Of Theoretical Mechanics\",\"Development Of Non-Bank Financial Institutions And Capital Markets In European Union Accession Countries\",\"The New England Journal Of Medicine\",\"Medicine And Surgery\",\"Report Of The Federal Trade Commission On Distribution Methods And Costs: Advertising As A Factor In Distribution\",\"Advertising\",\"Advertising And Sales Promotion\",\"Technical Report - South Carolina Marine Resources Division\",\"The Commercial & Financial Chronicle And Hunt'S Merchants' Magazine\",\"Geology And Water Resources Of The Goose Creek Basin\",\"Foreign Publications For Advertising American Goods\",\"Popular Mechanics\",\"Financial Management Agencies Face Many Challenges In Meeting The Goals Of The Federal Financial Management Improvement Act\",\"Selected Water Resources Abstracts\",\"Social Communication In Advertising\",\"Core Clinical Medicine\",\"Geology And Water Resources Of The Goose Creek Basin\",\"Journal Of Practical Medicine\",\"Traditional Use Of Plant Resources By Bankariya Ethnic Group In Makawanpur District, Central Nepal\",\"A Collection Of Problems In Illustration Of The Principles Of Theoretical Mechanics\",\"Automotive Engine Performance\",\"Water Resources Management Iv\",\"Sex And Gender In Acute Care Medicine\",\"Moral Engines\",\"Medicine In Modern Times\",\"Mechanics, Molecular Physics And Heat\",\"The Principles Of Elementary Mechanics\",\"Introduction To Health Care Economics & Financial Management\",\"Introduction To Health Care Economics & Financial Management\",\"Humor In Advertising\",\"The Behavioral Sciences And Preventive Medicine Opportunities And Dilemmas\",\"Minnesota Medicine\",\"Financial Structure And Economic Development\",\"Monthly Report On Federal Water Resources Investigations And Construction Projects\",\"The Journal Of Psychological Medicine And Mental Pathology\",\"Academic Search Engines\",\"Mortal Engines\",\"Popular Mechanics\",\"Aircraft Propulsion And Gas Turbine Engines\",\"Humor In Advertising\",\"Natural-Bonded Molding Sand Resources Of Illinois\",\"Lessons In Elementary Mechanics\",\"Report Of The City Comptroller, Exhibiting The Receipts, Expenditures, And Financial Condition Of The City Of Milwaukee, For The Year ...\",\"Mechanics, Molecular Physics And Heat\",\"Popular Mechanics\",\"Effects Of Financial Globalization On Developing Countries: Some Empirical Evidence\",\"Automotive Engine Performance\",\"Popular Mechanics\",\"Mortal Engines\",\"Advertising To Children\",\"Mechanics\",\"Dynamics Of International Advertising\",\"Financial Services 5e\",\"Google Earth Engine Applications\",\"Popular Mechanics\",\"The Elements Of Mechanics\",\"Google Earth Engine Applications\",\"Financial Management\",\"Report Of The Federal Trade Commission On Distribution Methods And Costs: Advertising As A Factor In Distribution\",\"Annual Report Of The Board Of Registration In Medicine\",\"Advertising And The Public Interest\",\"Blood Engines\",\"Elements Of Mechanics\",\"Start Your Engines\",\"Advertising And Sales Promotion\",\"Introduction To Health Care Economics & Financial Management\",\"The Journal Of Psychological Medicine And Mental Pathology\",\"Old Dominion Journal Of Medicine And Surgery\",\"Advertising Outdoors\",\"Consolidated Financial Reporting\",\"Infernal Devices (Mortal Engines, Book 3)\",\"Old Dominion Journal Of Medicine And Surgery\",\"Traditional Use Of Plant Resources By Bankariya Ethnic Group In Makawanpur District, Central Nepal\",\"Some Vocational Resources And Needs Of A Rural Community As Determined By The Location Of Special Groups\",\"Popular Mechanics\",\"Handbook On California'S Natural Resources\",\"Water Resources Paper\",\"Hcci And Cai Engines For The Automotive Industry\",\"The Mirror Makers\",\"Financial Inclusion\",\"Old Dominion Journal Of Medicine And Surgery\",\"Web Advertising\",\"Annual Report Of The General Society Of Mechanics And Tradesmen Of The City Of New York\",\"The Commercial And Financial Chronicle\",\"Effects Of Financial Globalization On Developing Countries: Some Empirical Evidence\",\"Progressive Medicine\",\"The American Journal Of Clinical Medicine\",\"Earth Resources\",\"Engine Of Impact\",\"Control Of Advertising On Interstate Highways\",\"Annual Resources Report\",\"Michigan Manufacturer & Financial Record\",\"Fundamentals Of Financial Management\",\"Water Resources Paper\",\"The Journal Of Experimental Medicine\",\"Hcci And Cai Engines For The Automotive Industry\",\"Heavy Oil As Fuel For Internal-Combustion Engines\",\"The St. Louis Courier Of Medicine\",\"International Record Of Medicine And General Practice Clinics\",\"International Banking And Financial Centers\",\"A B C Of The Steam Engine\",\"A B C Of The Steam Engine\",\"Mechanics' Magazine\",\"Old Dominion Journal Of Medicine And Surgery\",\"English Mechanics And The World Of Science\",\"Advertising Management\",\"Financial Structure And Economic Development\",\"Internal Combustion Engines\",\"Financial Management For Pharmacists\",\"Financial Institutions Act, 1973\",\"A Collection Of Problems In Illustration Of The Principles Of Theoretical Mechanics\",\"Traditional Use Of Plant Resources By Bankariya Ethnic Group In Makawanpur District, Central Nepal\",\"Emotions, Advertising And Consumer Choice\",\"The National Debt, And How To Pay It: Or, The Financial Condition Of The Nation Considered, Etc. [By J. Mcewen.]\",\"Infernal Devices (Mortal Engines, Book 3)\",\"Internal Medicine, Today And Tomorrow\",\"American Folk Medicine\",\"Marine Diesel Engines\",\"Effects Of Information Technology On Financial Services Systems\",\"Engines\",\"Emotions, Advertising And Consumer Choice\",\"Medicine In Modern Times\",\"Technical Report - South Carolina Marine Resources Division\",\"Biennial Report Of The Department Of Water Resources\",\"Directory Of Northern Library Resources\",\"The Resources And Attractions Of Utah\",\"Planning Our Resources\",\"Engine Of Impact\",\"Component Design For Highly Pressure Charged Diesel Engines\",\"A Catechism Of The Steam Engine\",\"Theory Of Financial Decision Making\",\"Department Publications - State Of California, Dept. Of Water Resources\",\"The Big Book Of Engines (Thomas & Friends)\",\"Advertising 2.0\",\"Elements Of Mechanics\",\"The Big Book Of Engines (Thomas & Friends)\",\"Corliss-Engines And Allied Steam-Motors Working With And Without Automatic Variable Expansion-Gear\",\"Elementary Mechanics\",\"International Banking And Financial Centers\",\"International Record Of Medicine And General Practice Clinics\",\"Earth Resources\",\"Navy Medicine\",\"Effects Of Financial Globalization On Developing Countries: Some Empirical Evidence\",\"Engineering Mechanics\",\"Department Publications - State Of California, Dept. Of Water Resources\",\"Medicine\",\"Negative Political Advertising\",\"Popular Mechanics\",\"The Psychology Of Advertising\",\"Control Of Advertising On Interstate Highways\",\"Domestic Medicine; Or, Plain Instructions In The Art Of Preserving And Restoring Health By Simple And Efficient Means\",\"Advertising And The Public Interest\",\"Popular Mechanics\",\"Elements Of Analytical Mechanics\",\"Reports Submitted To The Council On Library Resources\",\"Navy Medicine\",\"Blood Engines\",\"The John H. Chafee Coastal Barrier Resources System\",\"Engineering Mechanics\",\"The Retrospect Of Medicine\",\"New Technologies For Emission Control In Marine Diesel Engines\",\"Indian Financial System 5e\",\"Mechanics' Magazine\",\"Principles Of Fluid Mechanics And Fluid Machines (Second Edition)\",\"Effects Of Financial Globalization On Developing Countries: Some Empirical Evidence\",\"Modern Electric Railway Practice: Power Stations, Steam And Gas Engines, Generators, And Switchboards\",\"Modern Electric Railway Practice: Power Stations, Steam And Gas Engines, Generators, And Switchboards\",\"Popular Mechanics\",\"The Laws Of Medicine\",\"Reports Submitted To The Council On Library Resources\",\"Selected Water Resources Abstracts\",\"The Psychology Of Advertising\",\"Humor In Advertising\",\"The Financial Bulletin\",\"Water Resources Data\",\"Medicine\",\"Water Resources Management Iv\",\"Foreign Publications For Advertising American Goods\",\"How To Advertise\",\"Advertising Of Alcoholic Beverages. H.R. 4627\",\"Minnesota Medicine\",\"Internal Combustion Engines\",\"Aircraft Propulsion And Gas Turbine Engines\",\"Modern Electric Railway Practice: Power Stations, Steam And Gas Engines, Generators, And Switchboards\",\"Foreign Publications For Advertising American Goods\",\"Indian Financial System 5e\",\"Natural-Bonded Molding Sand Resources Of Illinois\",\"The Psychology Of Advertising\",\"Monthly Report On Federal Water Resources Investigations And Construction Projects\",\"An Epitome Of The American Eclectic Practice Of Medicine, Surgery, Obstetrics, Diseases Of Women And Children, Materia Medica And Pharmacy\",\"Engine Of Impact\",\"American Folk Medicine\",\"Financial Structure And Economic Growth\",\"Tractor And Gas Engine Review\",\"Elementary Mechanics\",\"Financial Services 5e\",\"Geostatistics For Natural Resources Evaluation\",\"Montana\",\"Engines Of Redemption\",\"The American Journal Of Clinical Medicine\",\"The Commercial & Financial Chronicle And Hunt'S Merchants' Magazine\",\"Anachronist\",\"A Catechism Of The Steam Engine\",\"Effects Of Financial Globalization On Developing Countries: Some Empirical Evidence\",\"Corliss-Engines And Allied Steam-Motors Working With And Without Automatic Variable Expansion-Gear\",\"Report Of The Committee On Energy And Natural Resources To The Committee On The Budget, United States Senate, Pursuant To Section 301(C) Of The Congressional Budget And Impoundment Control Act Of 1974\",\"Academic Search Engines\",\"Aircraft Propulsion And Gas Turbine Engines\",\"Industrial Resources, Kentucky: Radcliff & Vine Grove\",\"The Retrospect Of Practical Medicine And Surgery\",\"Internal Combustion Engines\",\"Old Dominion Journal Of Medicine And Surgery\",\"Medicine And Surgery\",\"Financial Annual Of Japan\",\"Resources And Opportunities Of Montana\",\"Financial Management, 2e\",\"Medicine\",\"Control Of Advertising On Interstate Highways\",\"Progressive Medicine\",\"Mechanics Of Machinery: Friction And Its Application\",\"Anachronist\",\"Ogilvy On Advertising\",\"Financial Annual Of Japan\",\"Mechanics, Hydrostatics, Pneumatics, Optics\",\"Proceedings Of The Financial Management Conference\",\"North Atlantic Regional Water Resources Study Appendix A ... [To Appendix V]\",\"Financial Management Information Package\",\"Development Of Non-Bank Financial Institutions And Capital Markets In European Union Accession Countries\",\"Recommendation Engines\",\"American Almanac And Treasury Of Facts Statistical, Financial And Political\",\"Medicine\",\"The Financial Bulletin\",\"A New And Vastly Improved Edition Of The Industrial Resources Of Wisconsin\",\"Engineering Mechanics\",\"Financial Structure And Economic Growth\",\"Medicine\",\"Advertising And Sales Promotion\",\"International Accounting/Financial Reporting Standards Guide 2009\",\"Technical Report - South Carolina Marine Resources Division\",\"Technical Report - South Carolina Marine Resources Division\",\"U.S. Securities, Government Finance, Economic And Financial Conditions\",\"Popular Mechanics\",\"Aircraft Propulsion And Gas Turbine Engines\",\"Medicine In Modern Times\",\"Water Resources Paper\",\"The Basics Of Finance\",\"Traditional Use Of Plant Resources By Bankariya Ethnic Group In Makawanpur District, Central Nepal\",\"New Technologies For Emission Control In Marine Diesel Engines\",\"The Principles Of Elementary Mechanics\",\"Advertising To The American Woman, 1900-1999\",\"Mechanics Of Engineering ...\",\"Development Of Non-Bank Financial Institutions And Capital Markets In European Union Accession Countries\",\"A Catechism Of The Steam Engine\",\"Aircraft Propulsion And Gas Turbine Engines\",\"Organizational Success Through Effective Human Resources Management\",\"Advertising Outdoors\",\"Defense Health Care Triservice Strategy Needed To Justify Medical Resources For Readiness And Peacetime Care : Report To Congressional Requesters.\",\"Advertising\",\"Google Earth Engine Applications\",\"Medicine In Modern Times\",\"Natural And Energy Resources\",\"Financial Management Agencies Face Many Challenges In Meeting The Goals Of The Federal Financial Management Improvement Act\",\"Negative Political Advertising\",\"Directory Of Northern Library Resources\",\"Academic Search Engines\",\"Popular Mechanics\",\"Financial Management, 2e\",\"Financial Inclusion\",\"The Mirror Makers\",\"The Elements Of Mechanics\",\"Medicine\",\"Civil Aircraft And Aircraft Engines\",\"Mechanics\",\"The Principles Of Elementary Mechanics\",\"Mechanics Of Machinery: Friction And Its Application\",\"Popular Mechanics\",\"Report Of The City Comptroller, Exhibiting The Receipts, Expenditures, And Financial Condition Of The City Of Milwaukee, For The Year ...\",\"Fracture Mechanics\",\"Elements Of Mechanics\",\"Old Dominion Journal Of Medicine And Surgery\",\"U.S. Securities, Government Finance, Economic And Financial Conditions\",\"Directory Of Japanese Technical Resources In The United States\",\"Emotions, Advertising And Consumer Choice\",\"A B C Of The Steam Engine\",\"The Mirror Makers\",\"Popular Mechanics\",\"Financial Structure And Economic Growth\",\"Wiley Cpa Exam Review 2011, Financial Accounting And Reporting\",\"International Banking And Financial Centers\",\"Report On The Trade And Resources Of The Central Provinces\",\"Financial Management Agencies Face Many Challenges In Meeting The Goals Of The Federal Financial Management Improvement Act\",\"Control Of Advertising On Interstate Highways\",\"Financial Management For Pharmacists\",\"Financial Management, 2e\",\"The Resources And Attractions Of Utah\",\"A Manual Of The Practice Of Medicine\",\"Recommendation Engines\",\"Principles Of Fluid Mechanics And Fluid Machines (Second Edition)\",\"Medicine\",\"The Canadian Financial System\",\"Directory Of Japanese Technical Resources In The United States\",\"Popular Mechanics\",\"Analytic Cyclopedia Of Practical Medicine\",\"Emotions, Advertising And Consumer Choice\",\"Water Resources Data\",\"The Institutes Of Medicine\",\"Financial Inclusion\",\"Water Resources Management Iv\",\"Popular Mechanics\",\"Industrial Resources, Kentucky: Radcliff & Vine Grove\",\"Advertising And The Public Interest\",\"Natural-Bonded Molding Sand Resources Of Illinois\",\"Natural Resources Of The United States\",\"Library Of Advertising\",\"Journal Of Sociologic Medicine\",\"Organizational Success Through Effective Human Resources Management\",\"Library Of Advertising\",\"Principles Of Fluid Mechanics And Fluid Machines (Second Edition)\",\"The Big Book Of Engines (Thomas & Friends)\",\"Water Resources Management Iv\",\"The Mirror Makers\",\"Fracture Mechanics\",\"Fundamentals Of Financial Management\",\"How To Build And Modify Gm Ls-Series Engines\",\"Foreign Publications For Advertising American Goods\",\"A New And Vastly Improved Edition Of The Industrial Resources Of Wisconsin\",\"Popular Mechanics\",\"Elements Of Mechanics\",\"Advertising To Children\",\"Natural And Energy Resources\",\"Beyond Advertising\",\"Core Clinical Medicine\",\"Hcci And Cai Engines For The Automotive Industry\",\"Financial Management Information Package\",\"The Elements Of Mechanics\",\"Advertising Your Small Business\",\"The Mirror Makers\",\"Component Design For Highly Pressure Charged Diesel Engines\",\"Annual Report Of The Board Of Registration In Medicine\",\"Civil Aircraft And Aircraft Engines\",\"Biennial Report Of The Department Of Water Resources\",\"Popular Mechanics\",\"International Record Of Medicine And General Practice Clinics\",\"Handbook On California'S Natural Resources\",\"The Big Book Of Engines (Thomas & Friends)\",\"A Manual Of The Practice Of Medicine\",\"Emotions, Advertising And Consumer Choice\",\"Old Dominion Journal Of Medicine And Surgery\",\"An Epitome Of The American Eclectic Practice Of Medicine, Surgery, Obstetrics, Diseases Of Women And Children, Materia Medica And Pharmacy\",\"A Collection Of Problems In Illustration Of The Principles Of Theoretical Mechanics\",\"Appleton'S Dictionary Of Machines, Mechanics, Engine-Work, And Engineering\",\"Core Clinical Medicine\",\"Anachronist\",\"Report Of The Federal Trade Commission On Distribution Methods And Costs: Advertising As A Factor In Distribution\",\"Traditional Use Of Plant Resources By Bankariya Ethnic Group In Makawanpur District, Central Nepal\",\"American Folk Medicine\",\"Banking Regulation Of Uk And Us Financial Markets\",\"Hand-Book Of Modern Steam Fire-Engines\",\"Medicine\",\"Mechanics\",\"Popular Mechanics\",\"Medicine In Modern Times\",\"Organizational Success Through Effective Human Resources Management\",\"Financial Institutions Act, 1973\",\"Some Vocational Resources And Needs Of A Rural Community As Determined By The Location Of Special Groups\",\"Financial Management For Pharmacists\",\"American Folk Medicine\",\"Popular Mechanics\",\"Development Of Non-Bank Financial Institutions And Capital Markets In European Union Accession Countries\",\"The Commercial & Financial Chronicle ...\",\"Automotive Engine Performance\",\"How To Advertise\",\"Physico-Clinical Medicine\",\"Mechanics, Molecular Physics And Heat\",\"Report Of The Committee On Energy And Natural Resources To The Committee On The Budget, United States Senate, Pursuant To Section 301(C) Of The Congressional Budget And Impoundment Control Act Of 1974\",\"The Advertising Concept Book\",\"Journal Of Practical Medicine\",\"The St. Louis Courier Of Medicine\",\"Control Of Advertising On Interstate Highways\",\"Foreign Publications For Advertising American Goods\",\"Political And Commercial Control Of The Mineral Resources Of The World\",\"Earth Resources\",\"Advertising The American Dream\",\"Earth Resources\",\"Directory Of Japanese Technical Resources In The United States\",\"Fundamentals Of Financial Management\",\"Geostatistics For Natural Resources Evaluation\",\"The Journal Of Experimental Medicine\",\"American Folk Medicine\",\"Appleton'S Dictionary Of Machines, Mechanics, Engine-Work, And Engineering\",\"Defense Health Care Triservice Strategy Needed To Justify Medical Resources For Readiness And Peacetime Care : Report To Congressional Requesters.\",\"The New England Journal Of Medicine\",\"Resources And Opportunities Of Montana\",\"Advertising And Sales Promotion\",\"Journal Of Sociologic Medicine\",\"Planning Our Resources\",\"Mechanics' And Engineers' Pocketbook Of Tables\",\"International Accounting/Financial Reporting Standards Guide 2009\",\"Advertising Management\",\"Financial Management\",\"Proceedings Of The Financial Management Conference\",\"Corliss-Engines And Allied Steam-Motors Working With And Without Automatic Variable Expansion-Gear\",\"A Manual Of Family Medicine For India\",\"Effects Of Financial Globalization On Developing Countries: Some Empirical Evidence\",\"Earth Resources\",\"A History Of Mechanics\",\"Journal Of Sociologic Medicine\",\"Advertising To The American Woman, 1900-1999\",\"The Journal Of Psychological Medicine And Mental Pathology\",\"Development Of Non-Bank Financial Institutions And Capital Markets In European Union Accession Countries\",\"Montana\",\"Financial Management Agencies Face Many Challenges In Meeting The Goals Of The Federal Financial Management Improvement Act\",\"Internal Medicine, Today And Tomorrow\",\"Advertising And Popular Culture\",\"Banking Regulation Of Uk And Us Financial Markets\",\"Domestic Medicine; Or, Plain Instructions In The Art Of Preserving And Restoring Health By Simple And Efficient Means\",\"A History Of Mechanics\",\"Effects Of Financial Globalization On Developing Countries: Some Empirical Evidence\",\"Banking Regulation Of Uk And Us Financial Markets\",\"Dynamics Of International Advertising\",\"Engines Of Creation\",\"Modern Medicine\",\"International Banking And Financial Centers\",\"The Advertising Concept Book\",\"The Resources And Attractions Of Utah\",\"Highlights Of Natural Resources Management\",\"Mechanics, Hydrostatics, Pneumatics, Optics\",\"Planning Our Resources\",\"The Commercial & Financial Chronicle And Hunt'S Merchants' Magazine\",\"Handbook On California'S Natural Resources\",\"Directory Of Northern Library Resources\",\"Navy Medicine\",\"Michigan Manufacturer & Financial Record\",\"Control Of Advertising On Interstate Highways\",\"Defense Health Care Triservice Strategy Needed To Justify Medical Resources For Readiness And Peacetime Care : Report To Congressional Requesters.\",\"Traditional Use Of Plant Resources By Bankariya Ethnic Group In Makawanpur District, Central Nepal\",\"Popular Mechanics\",\"International Banking And Financial Centers\",\"Natural Resources Of The United States\",\"The Basics Of Finance\",\"Financial Management For Pharmacists\",\"Elements Of Mechanics\",\"Popular Mechanics\",\"Water Resources Data\",\"The Big Book Of Engines (Thomas & Friends)\",\"Popular Mechanics\",\"Principles Of Fluid Mechanics And Fluid Machines (Second Edition)\",\"Indian Financial System 5e\",\"Hcci And Cai Engines For The Automotive Industry\",\"Introduction To Health Care Economics & Financial Management\",\"Financial Services 5e\",\"Engines\",\"Directory Of Japanese Technical Resources In The United States\",\"The Journal Of Experimental Medicine\",\"Sex And Gender In Acute Care Medicine\",\"Advertising To The American Woman, 1900-1999\",\"Internal Medicine, Today And Tomorrow\",\"Sex And Gender In Acute Care Medicine\",\"Web Advertising\",\"Medicine And Surgery\",\"Montana\",\"The Principles Of Elementary Mechanics\",\"Advertising And The Public Interest\",\"Water Resources Activities In The United States\",\"The National Debt, And How To Pay It: Or, The Financial Condition Of The Nation Considered, Etc. [By J. Mcewen.]\",\"Progressive Medicine\",\"Financial Management Information Package\",\"A Catechism Of The Steam Engine\",\"Financial Management Agencies Face Many Challenges In Meeting The Goals Of The Federal Financial Management Improvement Act\",\"Invisible Engines\",\"Montana\",\"Medicine\",\"Reports Submitted To The Council On Library Resources\",\"National Library Of Medicine Classification\",\"The New England Journal Of Medicine\",\"Mortal Engines\",\"Mortal Engines\",\"The Principles Of Elementary Mechanics\",\"A History Of Mechanics\",\"Advertising\",\"International Banking And Financial Centers\",\"Anachronist\",\"The Advertising Concept Book\",\"Advertising And The Public Interest\",\"The Mirror Makers\",\"The Devil'S Grin\",\"Medicine In Modern Times\",\"The Advertising Concept Book\",\"International Accounting/Financial Reporting Standards Guide 2009\",\"Proceedings Of The Financial Management Conference\",\"Breakthrough Advertising\",\"Monthly Report On Federal Water Resources Investigations And Construction Projects\",\"Engineering Mechanics\",\"Financial Accounting: A Dynamic Approach\",\"Some Vocational Resources And Needs Of A Rural Community As Determined By The Location Of Special Groups\",\"Popular Mechanics\",\"Selected Water Resources Abstracts\",\"The American Journal Of Clinical Medicine\",\"Analytic Cyclopedia Of Practical Medicine\",\"Functional Analysis In Mechanics\",\"Report Of The City Comptroller, Exhibiting The Receipts, Expenditures, And Financial Condition Of The City Of Milwaukee, For The Year ...\",\"Civil Aircraft And Aircraft Engines\"],\"shape\":[2000],\"dtype\":\"object\",\"order\":\"little\"}],[\"price\",{\"type\":\"ndarray\",\"array\":{\"type\":\"bytes\",\"data\":\"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\"},\"shape\":[2000],\"dtype\":\"float32\",\"order\":\"little\"}],[\"book_returned\",{\"type\":\"ndarray\",\"array\":{\"type\":\"bytes\",\"data\":\"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\"},\"shape\":[2000],\"dtype\":\"int32\",\"order\":\"little\"}]]}}},\"view\":{\"type\":\"object\",\"name\":\"CDSView\",\"id\":\"p1636\",\"attributes\":{\"filter\":{\"type\":\"object\",\"name\":\"AllIndices\",\"id\":\"p1637\"}}},\"columns\":[{\"type\":\"object\",\"name\":\"TableColumn\",\"id\":\"p1604\",\"attributes\":{\"field\":\"name\",\"title\":\"name\",\"formatter\":{\"type\":\"object\",\"name\":\"StringFormatter\",\"id\":\"p1602\"},\"editor\":{\"type\":\"object\",\"name\":\"StringEditor\",\"id\":\"p1603\"}}},{\"type\":\"object\",\"name\":\"TableColumn\",\"id\":\"p1609\",\"attributes\":{\"field\":\"gender\",\"title\":\"gender\",\"formatter\":{\"type\":\"object\",\"name\":\"StringFormatter\",\"id\":\"p1607\"},\"editor\":{\"type\":\"object\",\"name\":\"StringEditor\",\"id\":\"p1608\"}}},{\"type\":\"object\",\"name\":\"TableColumn\",\"id\":\"p1614\",\"attributes\":{\"field\":\"age\",\"title\":\"age\",\"formatter\":{\"type\":\"object\",\"name\":\"NumberFormatter\",\"id\":\"p1612\",\"attributes\":{\"format\":\"0,0.0[00000]\"}},\"editor\":{\"type\":\"object\",\"name\":\"NumberEditor\",\"id\":\"p1613\"}}},{\"type\":\"object\",\"name\":\"TableColumn\",\"id\":\"p1619\",\"attributes\":{\"field\":\"title\",\"title\":\"title\",\"formatter\":{\"type\":\"object\",\"name\":\"StringFormatter\",\"id\":\"p1617\"},\"editor\":{\"type\":\"object\",\"name\":\"StringEditor\",\"id\":\"p1618\"}}},{\"type\":\"object\",\"name\":\"TableColumn\",\"id\":\"p1624\",\"attributes\":{\"field\":\"price\",\"title\":\"price\",\"formatter\":{\"type\":\"object\",\"name\":\"NumberFormatter\",\"id\":\"p1622\",\"attributes\":{\"format\":\"0,0.0[00000]\"}},\"editor\":{\"type\":\"object\",\"name\":\"NumberEditor\",\"id\":\"p1623\"}}},{\"type\":\"object\",\"name\":\"TableColumn\",\"id\":\"p1629\",\"attributes\":{\"field\":\"book_returned\",\"title\":\"book_returned\",\"formatter\":{\"type\":\"object\",\"name\":\"NumberFormatter\",\"id\":\"p1627\"},\"editor\":{\"type\":\"object\",\"name\":\"IntEditor\",\"id\":\"p1628\"}}}],\"reorderable\":false}},{\"type\":\"object\",\"name\":\"Spacer\",\"id\":\"p1639\",\"attributes\":{\"name\":\"HSpacer01802\",\"stylesheets\":[\"\\n:host(.pn-loading):before, .pn-loading:before {\\n  background-color: #c3c3c3;\\n  mask-size: auto calc(min(50%, 400px));\\n  -webkit-mask-size: auto calc(min(50%, 400px));\\n}\",{\"id\":\"p1597\"},{\"id\":\"p1595\"},{\"id\":\"p1596\"}],\"margin\":0,\"sizing_mode\":\"stretch_width\",\"align\":\"start\"}}]}}],\"defs\":[{\"type\":\"model\",\"name\":\"ReactiveHTML1\"},{\"type\":\"model\",\"name\":\"FlexBox1\",\"properties\":[{\"name\":\"align_content\",\"kind\":\"Any\",\"default\":\"flex-start\"},{\"name\":\"align_items\",\"kind\":\"Any\",\"default\":\"flex-start\"},{\"name\":\"flex_direction\",\"kind\":\"Any\",\"default\":\"row\"},{\"name\":\"flex_wrap\",\"kind\":\"Any\",\"default\":\"wrap\"},{\"name\":\"gap\",\"kind\":\"Any\",\"default\":\"\"},{\"name\":\"justify_content\",\"kind\":\"Any\",\"default\":\"flex-start\"}]},{\"type\":\"model\",\"name\":\"FloatPanel1\",\"properties\":[{\"name\":\"config\",\"kind\":\"Any\",\"default\":{\"type\":\"map\"}},{\"name\":\"contained\",\"kind\":\"Any\",\"default\":true},{\"name\":\"position\",\"kind\":\"Any\",\"default\":\"right-top\"},{\"name\":\"offsetx\",\"kind\":\"Any\",\"default\":null},{\"name\":\"offsety\",\"kind\":\"Any\",\"default\":null},{\"name\":\"theme\",\"kind\":\"Any\",\"default\":\"primary\"},{\"name\":\"status\",\"kind\":\"Any\",\"default\":\"normalized\"}]},{\"type\":\"model\",\"name\":\"GridStack1\",\"properties\":[{\"name\":\"mode\",\"kind\":\"Any\",\"default\":\"warn\"},{\"name\":\"ncols\",\"kind\":\"Any\",\"default\":null},{\"name\":\"nrows\",\"kind\":\"Any\",\"default\":null},{\"name\":\"allow_resize\",\"kind\":\"Any\",\"default\":true},{\"name\":\"allow_drag\",\"kind\":\"Any\",\"default\":true},{\"name\":\"state\",\"kind\":\"Any\",\"default\":[]}]},{\"type\":\"model\",\"name\":\"drag1\",\"properties\":[{\"name\":\"slider_width\",\"kind\":\"Any\",\"default\":5},{\"name\":\"slider_color\",\"kind\":\"Any\",\"default\":\"black\"},{\"name\":\"value\",\"kind\":\"Any\",\"default\":50}]},{\"type\":\"model\",\"name\":\"click1\",\"properties\":[{\"name\":\"terminal_output\",\"kind\":\"Any\",\"default\":\"\"},{\"name\":\"debug_name\",\"kind\":\"Any\",\"default\":\"\"},{\"name\":\"clears\",\"kind\":\"Any\",\"default\":0}]},{\"type\":\"model\",\"name\":\"FastWrapper1\",\"properties\":[{\"name\":\"object\",\"kind\":\"Any\",\"default\":null},{\"name\":\"style\",\"kind\":\"Any\",\"default\":null}]},{\"type\":\"model\",\"name\":\"NotificationAreaBase1\",\"properties\":[{\"name\":\"js_events\",\"kind\":\"Any\",\"default\":{\"type\":\"map\"}},{\"name\":\"position\",\"kind\":\"Any\",\"default\":\"bottom-right\"},{\"name\":\"_clear\",\"kind\":\"Any\",\"default\":0}]},{\"type\":\"model\",\"name\":\"NotificationArea1\",\"properties\":[{\"name\":\"js_events\",\"kind\":\"Any\",\"default\":{\"type\":\"map\"}},{\"name\":\"notifications\",\"kind\":\"Any\",\"default\":[]},{\"name\":\"position\",\"kind\":\"Any\",\"default\":\"bottom-right\"},{\"name\":\"_clear\",\"kind\":\"Any\",\"default\":0},{\"name\":\"types\",\"kind\":\"Any\",\"default\":[{\"type\":\"map\",\"entries\":[[\"type\",\"warning\"],[\"background\",\"#ffc107\"],[\"icon\",{\"type\":\"map\",\"entries\":[[\"className\",\"fas fa-exclamation-triangle\"],[\"tagName\",\"i\"],[\"color\",\"white\"]]}]]},{\"type\":\"map\",\"entries\":[[\"type\",\"info\"],[\"background\",\"#007bff\"],[\"icon\",{\"type\":\"map\",\"entries\":[[\"className\",\"fas fa-info-circle\"],[\"tagName\",\"i\"],[\"color\",\"white\"]]}]]}]}]},{\"type\":\"model\",\"name\":\"Notification\",\"properties\":[{\"name\":\"background\",\"kind\":\"Any\",\"default\":null},{\"name\":\"duration\",\"kind\":\"Any\",\"default\":3000},{\"name\":\"icon\",\"kind\":\"Any\",\"default\":null},{\"name\":\"message\",\"kind\":\"Any\",\"default\":\"\"},{\"name\":\"notification_type\",\"kind\":\"Any\",\"default\":null},{\"name\":\"_destroyed\",\"kind\":\"Any\",\"default\":false}]},{\"type\":\"model\",\"name\":\"TemplateActions1\",\"properties\":[{\"name\":\"open_modal\",\"kind\":\"Any\",\"default\":0},{\"name\":\"close_modal\",\"kind\":\"Any\",\"default\":0}]},{\"type\":\"model\",\"name\":\"BootstrapTemplateActions1\",\"properties\":[{\"name\":\"open_modal\",\"kind\":\"Any\",\"default\":0},{\"name\":\"close_modal\",\"kind\":\"Any\",\"default\":0}]},{\"type\":\"model\",\"name\":\"TemplateEditor1\",\"properties\":[{\"name\":\"layout\",\"kind\":\"Any\",\"default\":[]}]},{\"type\":\"model\",\"name\":\"MaterialTemplateActions1\",\"properties\":[{\"name\":\"open_modal\",\"kind\":\"Any\",\"default\":0},{\"name\":\"close_modal\",\"kind\":\"Any\",\"default\":0}]},{\"type\":\"model\",\"name\":\"ReactiveESM1\"},{\"type\":\"model\",\"name\":\"JSComponent1\"},{\"type\":\"model\",\"name\":\"ReactComponent1\"},{\"type\":\"model\",\"name\":\"AnyWidgetComponent1\"},{\"type\":\"model\",\"name\":\"request_value1\",\"properties\":[{\"name\":\"fill\",\"kind\":\"Any\",\"default\":\"none\"},{\"name\":\"_synced\",\"kind\":\"Any\",\"default\":null},{\"name\":\"_request_sync\",\"kind\":\"Any\",\"default\":0}]}]}};\n",
       "  var render_items = [{\"docid\":\"dc3944d3-d9dd-42c9-b8aa-104199c3b2a2\",\"roots\":{\"p1594\":\"f91a8ccf-edc1-46b4-94c4-0fd48a8a430f\"},\"root_ids\":[\"p1594\"]}];\n",
       "  var docs = Object.values(docs_json)\n",
       "  if (!docs) {\n",
       "    return\n",
       "  }\n",
       "  const py_version = docs[0].version.replace('rc', '-rc.').replace('.dev', '-dev.')\n",
       "  async function embed_document(root) {\n",
       "    var Bokeh = get_bokeh(root)\n",
       "    await Bokeh.embed.embed_items_notebook(docs_json, render_items);\n",
       "    for (const render_item of render_items) {\n",
       "      for (const root_id of render_item.root_ids) {\n",
       "\tconst id_el = document.getElementById(root_id)\n",
       "\tif (id_el.children.length && id_el.children[0].hasAttribute('data-root-id')) {\n",
       "\t  const root_el = id_el.children[0]\n",
       "\t  root_el.id = root_el.id + '-rendered'\n",
       "\t  for (const child of root_el.children) {\n",
       "            // Ensure JupyterLab does not capture keyboard shortcuts\n",
       "            // see: https://jupyterlab.readthedocs.io/en/4.1.x/extension/notebook.html#keyboard-interaction-model\n",
       "\t    child.setAttribute('data-lm-suppress-shortcuts', 'true')\n",
       "\t  }\n",
       "\t}\n",
       "      }\n",
       "    }\n",
       "  }\n",
       "  function get_bokeh(root) {\n",
       "    if (root.Bokeh === undefined) {\n",
       "      return null\n",
       "    } else if (root.Bokeh.version !== py_version) {\n",
       "      if (root.Bokeh.versions === undefined || !root.Bokeh.versions.has(py_version)) {\n",
       "\treturn null\n",
       "      }\n",
       "      return root.Bokeh.versions.get(py_version);\n",
       "    } else if (root.Bokeh.version === py_version) {\n",
       "      return root.Bokeh\n",
       "    }\n",
       "    return null\n",
       "  }\n",
       "  function is_loaded(root) {\n",
       "    var Bokeh = get_bokeh(root)\n",
       "    return (Bokeh != null && Bokeh.Panel !== undefined)\n",
       "  }\n",
       "  if (is_loaded(root)) {\n",
       "    embed_document(root);\n",
       "  } else {\n",
       "    var attempts = 0;\n",
       "    var timer = setInterval(function(root) {\n",
       "      if (is_loaded(root)) {\n",
       "        clearInterval(timer);\n",
       "        embed_document(root);\n",
       "      } else if (document.readyState == \"complete\") {\n",
       "        attempts++;\n",
       "        if (attempts > 200) {\n",
       "          clearInterval(timer);\n",
       "\t  var Bokeh = get_bokeh(root)\n",
       "\t  if (Bokeh == null || Bokeh.Panel == null) {\n",
       "            console.warn(\"Panel: ERROR: Unable to run Panel code because Bokeh or Panel library is missing\");\n",
       "\t  } else {\n",
       "\t    console.warn(\"Panel: WARNING: Attempting to render but not all required libraries could be resolved.\")\n",
       "\t    embed_document(root)\n",
       "\t  }\n",
       "        }\n",
       "      }\n",
       "    }, 25, root)\n",
       "  }\n",
       "})(window);</script>"
      ],
      "text/plain": [
       ":Table   [name,gender,age,title,price,book_returned]"
      ]
     },
     "execution_count": 29,
     "metadata": {
      "application/vnd.holoviews_exec.v0+json": {
       "id": "p1594"
      }
     },
     "output_type": "execute_result"
    }
   ],
   "source": [
    "sub_library_df = library_df.select(\n",
    "    [\n",
    "        \"patron_id\",\n",
    "        \"name\",\n",
    "        \"gender\",\n",
    "        \"education\",\n",
    "        \"occupation\",\n",
    "        \"age\",\n",
    "        \"age_category\",\n",
    "        \"days_holding_book\",\n",
    "        \"title\",\n",
    "        \"published_year\",\n",
    "        \"categories\",\n",
    "        \"price\",\n",
    "        \"pages\",\n",
    "        \"book_returned\",\n",
    "    ]\n",
    ")\n",
    "sub_library_df.hvplot.table(\n",
    "    columns=[\"name\", \"gender\", \"age\", \"title\", \"price\", \"book_returned\"],\n",
    "    sortable=True,\n",
    "    selectable=True,\n",
    ")"
   ]
  },
  {
   "cell_type": "code",
   "execution_count": 30,
   "id": "b9b4ff02-1d86-4839-9cef-c88f9315ec4f",
   "metadata": {},
   "outputs": [
    {
     "data": {
      "text/html": [
       "<div><style>\n",
       ".dataframe > thead > tr,\n",
       ".dataframe > tbody > tr {\n",
       "  text-align: right;\n",
       "  white-space: pre-wrap;\n",
       "}\n",
       "</style>\n",
       "<small>shape: (6, 7)</small><table border=\"1\" class=\"dataframe\"><thead><tr><th>gender</th><th>book_returned</th><th>gender_returning_book</th><th>median_reader_age</th><th>median_book_price</th><th>median_days_renting</th><th>mean_book_pages</th></tr><tr><td>str</td><td>i32</td><td>u32</td><td>f64</td><td>f32</td><td>f64</td><td>f64</td></tr></thead><tbody><tr><td>&quot;female&quot;</td><td>-1</td><td>158</td><td>46.5</td><td>286.0</td><td>-32866.5</td><td>572.506329</td></tr><tr><td>&quot;male&quot;</td><td>1</td><td>603</td><td>45.0</td><td>301.0</td><td>16.0</td><td>579.278607</td></tr><tr><td>&quot;male&quot;</td><td>0</td><td>203</td><td>45.0</td><td>349.0</td><td>32029.0</td><td>622.837438</td></tr><tr><td>&quot;male&quot;</td><td>-1</td><td>161</td><td>45.0</td><td>321.0</td><td>-32774.0</td><td>610.10559</td></tr><tr><td>&quot;female&quot;</td><td>1</td><td>586</td><td>45.0</td><td>297.0</td><td>16.0</td><td>582.049488</td></tr><tr><td>&quot;female&quot;</td><td>0</td><td>188</td><td>45.0</td><td>332.0</td><td>31983.0</td><td>616.382979</td></tr></tbody></table></div>"
      ],
      "text/plain": [
       "shape: (6, 7)\n",
       "┌────────┬──────────────┬──────────────┬──────────────┬──────────────┬──────────────┬──────────────┐\n",
       "│ gender ┆ book_returne ┆ gender_retur ┆ median_reade ┆ median_book_ ┆ median_days_ ┆ mean_book_pa │\n",
       "│ ---    ┆ d            ┆ ning_book    ┆ r_age        ┆ price        ┆ renting      ┆ ges          │\n",
       "│ str    ┆ ---          ┆ ---          ┆ ---          ┆ ---          ┆ ---          ┆ ---          │\n",
       "│        ┆ i32          ┆ u32          ┆ f64          ┆ f32          ┆ f64          ┆ f64          │\n",
       "╞════════╪══════════════╪══════════════╪══════════════╪══════════════╪══════════════╪══════════════╡\n",
       "│ female ┆ -1           ┆ 158          ┆ 46.5         ┆ 286.0        ┆ -32866.5     ┆ 572.506329   │\n",
       "│ male   ┆ 1            ┆ 603          ┆ 45.0         ┆ 301.0        ┆ 16.0         ┆ 579.278607   │\n",
       "│ male   ┆ 0            ┆ 203          ┆ 45.0         ┆ 349.0        ┆ 32029.0      ┆ 622.837438   │\n",
       "│ male   ┆ -1           ┆ 161          ┆ 45.0         ┆ 321.0        ┆ -32774.0     ┆ 610.10559    │\n",
       "│ female ┆ 1            ┆ 586          ┆ 45.0         ┆ 297.0        ┆ 16.0         ┆ 582.049488   │\n",
       "│ female ┆ 0            ┆ 188          ┆ 45.0         ┆ 332.0        ┆ 31983.0      ┆ 616.382979   │\n",
       "└────────┴──────────────┴──────────────┴──────────────┴──────────────┴──────────────┴──────────────┘"
      ]
     },
     "execution_count": 30,
     "metadata": {},
     "output_type": "execute_result"
    }
   ],
   "source": [
    "customer_agg_df = sub_library_df.group_by(\"gender\", \"book_returned\").agg(\n",
    "    gender_returning_book=pl.count(\"gender\"),\n",
    "    median_reader_age=pl.median(\"age\"),\n",
    "    median_book_price=pl.median(\"price\"),\n",
    "    median_days_renting=pl.median(\"days_holding_book\"),\n",
    "    mean_book_pages=pl.mean(\"pages\"),\n",
    ")\n",
    "customer_agg_df = customer_agg_df.drop_nulls()\n",
    "customer_agg_df"
   ]
  },
  {
   "cell_type": "markdown",
   "id": "e5d4ca22-5fb2-4221-99c3-77bef289a266",
   "metadata": {},
   "source": [
    "Looking at the aggregations in the reference to the customers gender, we can see: \n",
    "1) The number of pages doesn't affect renting that much. People hold books with more pages longer however\n",
    "2) Same can be said for the price of the books, higher the price tends not to return the book\n",
    "3) Looking at the same labels and the numbers of renters, their ratio, it looks even."
   ]
  },
  {
   "cell_type": "markdown",
   "id": "e8b63a6a-fc57-4d44-9fac-d488c594ed43",
   "metadata": {},
   "source": [
    "### Potential features in relation to the label"
   ]
  },
  {
   "cell_type": "code",
   "execution_count": 31,
   "id": "5e3ef86d-bce5-4c8f-98a2-5e69924398e7",
   "metadata": {},
   "outputs": [
    {
     "data": {},
     "metadata": {},
     "output_type": "display_data"
    },
    {
     "data": {
      "application/vnd.holoviews_exec.v0+json": "",
      "text/html": [
       "<div id='p1646'>\n",
       "  <div id=\"d33d6ceb-47a0-49a3-8a75-c38c9b118169\" data-root-id=\"p1646\" style=\"display: contents;\"></div>\n",
       "</div>\n",
       "<script type=\"application/javascript\">(function(root) {\n",
       "  var docs_json = {\"50236f0c-7aa8-4cba-a6bb-018873279239\":{\"version\":\"3.6.0\",\"title\":\"Bokeh Application\",\"roots\":[{\"type\":\"object\",\"name\":\"Row\",\"id\":\"p1646\",\"attributes\":{\"name\":\"Row01850\",\"tags\":[\"embedded\"],\"stylesheets\":[\"\\n:host(.pn-loading):before, .pn-loading:before {\\n  background-color: #c3c3c3;\\n  mask-size: auto calc(min(50%, 400px));\\n  -webkit-mask-size: auto calc(min(50%, 400px));\\n}\",{\"type\":\"object\",\"name\":\"ImportedStyleSheet\",\"id\":\"p1649\",\"attributes\":{\"url\":\"https://cdn.holoviz.org/panel/1.5.3/dist/css/loading.css\"}},{\"type\":\"object\",\"name\":\"ImportedStyleSheet\",\"id\":\"p1678\",\"attributes\":{\"url\":\"https://cdn.holoviz.org/panel/1.5.3/dist/css/listpanel.css\"}},{\"type\":\"object\",\"name\":\"ImportedStyleSheet\",\"id\":\"p1647\",\"attributes\":{\"url\":\"https://cdn.holoviz.org/panel/1.5.3/dist/bundled/theme/default.css\"}},{\"type\":\"object\",\"name\":\"ImportedStyleSheet\",\"id\":\"p1648\",\"attributes\":{\"url\":\"https://cdn.holoviz.org/panel/1.5.3/dist/bundled/theme/native.css\"}}],\"min_width\":700,\"margin\":0,\"sizing_mode\":\"stretch_width\",\"align\":\"start\",\"children\":[{\"type\":\"object\",\"name\":\"Spacer\",\"id\":\"p1650\",\"attributes\":{\"name\":\"HSpacer01857\",\"stylesheets\":[\"\\n:host(.pn-loading):before, .pn-loading:before {\\n  background-color: #c3c3c3;\\n  mask-size: auto calc(min(50%, 400px));\\n  -webkit-mask-size: auto calc(min(50%, 400px));\\n}\",{\"id\":\"p1649\"},{\"id\":\"p1647\"},{\"id\":\"p1648\"}],\"margin\":0,\"sizing_mode\":\"stretch_width\",\"align\":\"start\"}},{\"type\":\"object\",\"name\":\"DataTable\",\"id\":\"p1669\",\"attributes\":{\"width\":700,\"height\":300,\"source\":{\"type\":\"object\",\"name\":\"ColumnDataSource\",\"id\":\"p1651\",\"attributes\":{\"selected\":{\"type\":\"object\",\"name\":\"Selection\",\"id\":\"p1652\",\"attributes\":{\"indices\":[],\"line_indices\":[]}},\"selection_policy\":{\"type\":\"object\",\"name\":\"UnionRenderers\",\"id\":\"p1653\"},\"data\":{\"type\":\"map\",\"entries\":[[\"education\",{\"type\":\"ndarray\",\"array\":[\"College\",\"Others\",\"Graduate Degree\",\"College\",\"Others\",\"Graduate Degree\",\"High School\",\"High School\"],\"shape\":[8],\"dtype\":\"object\",\"order\":\"little\"}],[\"book_returned\",{\"type\":\"ndarray\",\"array\":{\"type\":\"bytes\",\"data\":\"AAAAAAEAAAAAAAAAAQAAAAAAAAABAAAAAAAAAAEAAAA=\"},\"shape\":[8],\"dtype\":\"int32\",\"order\":\"little\"}],[\"returning_book\",{\"type\":\"ndarray\",\"array\":{\"type\":\"bytes\",\"data\":\"YwAAAC0BAABgAAAAIQEAAF4AAAAUAQAAWgAAAE8BAAA=\"},\"shape\":[8],\"dtype\":\"uint32\",\"order\":\"little\"}]]}}},\"view\":{\"type\":\"object\",\"name\":\"CDSView\",\"id\":\"p1673\",\"attributes\":{\"filter\":{\"type\":\"object\",\"name\":\"AllIndices\",\"id\":\"p1674\"}}},\"columns\":[{\"type\":\"object\",\"name\":\"TableColumn\",\"id\":\"p1656\",\"attributes\":{\"field\":\"education\",\"title\":\"education\",\"formatter\":{\"type\":\"object\",\"name\":\"StringFormatter\",\"id\":\"p1654\"},\"editor\":{\"type\":\"object\",\"name\":\"StringEditor\",\"id\":\"p1655\"}}},{\"type\":\"object\",\"name\":\"TableColumn\",\"id\":\"p1661\",\"attributes\":{\"field\":\"book_returned\",\"title\":\"book_returned\",\"formatter\":{\"type\":\"object\",\"name\":\"NumberFormatter\",\"id\":\"p1659\"},\"editor\":{\"type\":\"object\",\"name\":\"IntEditor\",\"id\":\"p1660\"}}},{\"type\":\"object\",\"name\":\"TableColumn\",\"id\":\"p1666\",\"attributes\":{\"field\":\"returning_book\",\"title\":\"returning_book\",\"formatter\":{\"type\":\"object\",\"name\":\"StringFormatter\",\"id\":\"p1664\"},\"editor\":{\"type\":\"object\",\"name\":\"StringEditor\",\"id\":\"p1665\"}}}],\"reorderable\":false}},{\"type\":\"object\",\"name\":\"Spacer\",\"id\":\"p1676\",\"attributes\":{\"name\":\"HSpacer01858\",\"stylesheets\":[\"\\n:host(.pn-loading):before, .pn-loading:before {\\n  background-color: #c3c3c3;\\n  mask-size: auto calc(min(50%, 400px));\\n  -webkit-mask-size: auto calc(min(50%, 400px));\\n}\",{\"id\":\"p1649\"},{\"id\":\"p1647\"},{\"id\":\"p1648\"}],\"margin\":0,\"sizing_mode\":\"stretch_width\",\"align\":\"start\"}}]}}],\"defs\":[{\"type\":\"model\",\"name\":\"ReactiveHTML1\"},{\"type\":\"model\",\"name\":\"FlexBox1\",\"properties\":[{\"name\":\"align_content\",\"kind\":\"Any\",\"default\":\"flex-start\"},{\"name\":\"align_items\",\"kind\":\"Any\",\"default\":\"flex-start\"},{\"name\":\"flex_direction\",\"kind\":\"Any\",\"default\":\"row\"},{\"name\":\"flex_wrap\",\"kind\":\"Any\",\"default\":\"wrap\"},{\"name\":\"gap\",\"kind\":\"Any\",\"default\":\"\"},{\"name\":\"justify_content\",\"kind\":\"Any\",\"default\":\"flex-start\"}]},{\"type\":\"model\",\"name\":\"FloatPanel1\",\"properties\":[{\"name\":\"config\",\"kind\":\"Any\",\"default\":{\"type\":\"map\"}},{\"name\":\"contained\",\"kind\":\"Any\",\"default\":true},{\"name\":\"position\",\"kind\":\"Any\",\"default\":\"right-top\"},{\"name\":\"offsetx\",\"kind\":\"Any\",\"default\":null},{\"name\":\"offsety\",\"kind\":\"Any\",\"default\":null},{\"name\":\"theme\",\"kind\":\"Any\",\"default\":\"primary\"},{\"name\":\"status\",\"kind\":\"Any\",\"default\":\"normalized\"}]},{\"type\":\"model\",\"name\":\"GridStack1\",\"properties\":[{\"name\":\"mode\",\"kind\":\"Any\",\"default\":\"warn\"},{\"name\":\"ncols\",\"kind\":\"Any\",\"default\":null},{\"name\":\"nrows\",\"kind\":\"Any\",\"default\":null},{\"name\":\"allow_resize\",\"kind\":\"Any\",\"default\":true},{\"name\":\"allow_drag\",\"kind\":\"Any\",\"default\":true},{\"name\":\"state\",\"kind\":\"Any\",\"default\":[]}]},{\"type\":\"model\",\"name\":\"drag1\",\"properties\":[{\"name\":\"slider_width\",\"kind\":\"Any\",\"default\":5},{\"name\":\"slider_color\",\"kind\":\"Any\",\"default\":\"black\"},{\"name\":\"value\",\"kind\":\"Any\",\"default\":50}]},{\"type\":\"model\",\"name\":\"click1\",\"properties\":[{\"name\":\"terminal_output\",\"kind\":\"Any\",\"default\":\"\"},{\"name\":\"debug_name\",\"kind\":\"Any\",\"default\":\"\"},{\"name\":\"clears\",\"kind\":\"Any\",\"default\":0}]},{\"type\":\"model\",\"name\":\"FastWrapper1\",\"properties\":[{\"name\":\"object\",\"kind\":\"Any\",\"default\":null},{\"name\":\"style\",\"kind\":\"Any\",\"default\":null}]},{\"type\":\"model\",\"name\":\"NotificationAreaBase1\",\"properties\":[{\"name\":\"js_events\",\"kind\":\"Any\",\"default\":{\"type\":\"map\"}},{\"name\":\"position\",\"kind\":\"Any\",\"default\":\"bottom-right\"},{\"name\":\"_clear\",\"kind\":\"Any\",\"default\":0}]},{\"type\":\"model\",\"name\":\"NotificationArea1\",\"properties\":[{\"name\":\"js_events\",\"kind\":\"Any\",\"default\":{\"type\":\"map\"}},{\"name\":\"notifications\",\"kind\":\"Any\",\"default\":[]},{\"name\":\"position\",\"kind\":\"Any\",\"default\":\"bottom-right\"},{\"name\":\"_clear\",\"kind\":\"Any\",\"default\":0},{\"name\":\"types\",\"kind\":\"Any\",\"default\":[{\"type\":\"map\",\"entries\":[[\"type\",\"warning\"],[\"background\",\"#ffc107\"],[\"icon\",{\"type\":\"map\",\"entries\":[[\"className\",\"fas fa-exclamation-triangle\"],[\"tagName\",\"i\"],[\"color\",\"white\"]]}]]},{\"type\":\"map\",\"entries\":[[\"type\",\"info\"],[\"background\",\"#007bff\"],[\"icon\",{\"type\":\"map\",\"entries\":[[\"className\",\"fas fa-info-circle\"],[\"tagName\",\"i\"],[\"color\",\"white\"]]}]]}]}]},{\"type\":\"model\",\"name\":\"Notification\",\"properties\":[{\"name\":\"background\",\"kind\":\"Any\",\"default\":null},{\"name\":\"duration\",\"kind\":\"Any\",\"default\":3000},{\"name\":\"icon\",\"kind\":\"Any\",\"default\":null},{\"name\":\"message\",\"kind\":\"Any\",\"default\":\"\"},{\"name\":\"notification_type\",\"kind\":\"Any\",\"default\":null},{\"name\":\"_destroyed\",\"kind\":\"Any\",\"default\":false}]},{\"type\":\"model\",\"name\":\"TemplateActions1\",\"properties\":[{\"name\":\"open_modal\",\"kind\":\"Any\",\"default\":0},{\"name\":\"close_modal\",\"kind\":\"Any\",\"default\":0}]},{\"type\":\"model\",\"name\":\"BootstrapTemplateActions1\",\"properties\":[{\"name\":\"open_modal\",\"kind\":\"Any\",\"default\":0},{\"name\":\"close_modal\",\"kind\":\"Any\",\"default\":0}]},{\"type\":\"model\",\"name\":\"TemplateEditor1\",\"properties\":[{\"name\":\"layout\",\"kind\":\"Any\",\"default\":[]}]},{\"type\":\"model\",\"name\":\"MaterialTemplateActions1\",\"properties\":[{\"name\":\"open_modal\",\"kind\":\"Any\",\"default\":0},{\"name\":\"close_modal\",\"kind\":\"Any\",\"default\":0}]},{\"type\":\"model\",\"name\":\"ReactiveESM1\"},{\"type\":\"model\",\"name\":\"JSComponent1\"},{\"type\":\"model\",\"name\":\"ReactComponent1\"},{\"type\":\"model\",\"name\":\"AnyWidgetComponent1\"},{\"type\":\"model\",\"name\":\"request_value1\",\"properties\":[{\"name\":\"fill\",\"kind\":\"Any\",\"default\":\"none\"},{\"name\":\"_synced\",\"kind\":\"Any\",\"default\":null},{\"name\":\"_request_sync\",\"kind\":\"Any\",\"default\":0}]}]}};\n",
       "  var render_items = [{\"docid\":\"50236f0c-7aa8-4cba-a6bb-018873279239\",\"roots\":{\"p1646\":\"d33d6ceb-47a0-49a3-8a75-c38c9b118169\"},\"root_ids\":[\"p1646\"]}];\n",
       "  var docs = Object.values(docs_json)\n",
       "  if (!docs) {\n",
       "    return\n",
       "  }\n",
       "  const py_version = docs[0].version.replace('rc', '-rc.').replace('.dev', '-dev.')\n",
       "  async function embed_document(root) {\n",
       "    var Bokeh = get_bokeh(root)\n",
       "    await Bokeh.embed.embed_items_notebook(docs_json, render_items);\n",
       "    for (const render_item of render_items) {\n",
       "      for (const root_id of render_item.root_ids) {\n",
       "\tconst id_el = document.getElementById(root_id)\n",
       "\tif (id_el.children.length && id_el.children[0].hasAttribute('data-root-id')) {\n",
       "\t  const root_el = id_el.children[0]\n",
       "\t  root_el.id = root_el.id + '-rendered'\n",
       "\t  for (const child of root_el.children) {\n",
       "            // Ensure JupyterLab does not capture keyboard shortcuts\n",
       "            // see: https://jupyterlab.readthedocs.io/en/4.1.x/extension/notebook.html#keyboard-interaction-model\n",
       "\t    child.setAttribute('data-lm-suppress-shortcuts', 'true')\n",
       "\t  }\n",
       "\t}\n",
       "      }\n",
       "    }\n",
       "  }\n",
       "  function get_bokeh(root) {\n",
       "    if (root.Bokeh === undefined) {\n",
       "      return null\n",
       "    } else if (root.Bokeh.version !== py_version) {\n",
       "      if (root.Bokeh.versions === undefined || !root.Bokeh.versions.has(py_version)) {\n",
       "\treturn null\n",
       "      }\n",
       "      return root.Bokeh.versions.get(py_version);\n",
       "    } else if (root.Bokeh.version === py_version) {\n",
       "      return root.Bokeh\n",
       "    }\n",
       "    return null\n",
       "  }\n",
       "  function is_loaded(root) {\n",
       "    var Bokeh = get_bokeh(root)\n",
       "    return (Bokeh != null && Bokeh.Panel !== undefined)\n",
       "  }\n",
       "  if (is_loaded(root)) {\n",
       "    embed_document(root);\n",
       "  } else {\n",
       "    var attempts = 0;\n",
       "    var timer = setInterval(function(root) {\n",
       "      if (is_loaded(root)) {\n",
       "        clearInterval(timer);\n",
       "        embed_document(root);\n",
       "      } else if (document.readyState == \"complete\") {\n",
       "        attempts++;\n",
       "        if (attempts > 200) {\n",
       "          clearInterval(timer);\n",
       "\t  var Bokeh = get_bokeh(root)\n",
       "\t  if (Bokeh == null || Bokeh.Panel == null) {\n",
       "            console.warn(\"Panel: ERROR: Unable to run Panel code because Bokeh or Panel library is missing\");\n",
       "\t  } else {\n",
       "\t    console.warn(\"Panel: WARNING: Attempting to render but not all required libraries could be resolved.\")\n",
       "\t    embed_document(root)\n",
       "\t  }\n",
       "        }\n",
       "      }\n",
       "    }, 25, root)\n",
       "  }\n",
       "})(window);</script>"
      ],
      "text/plain": [
       ":Table   [education,book_returned,returning_book]"
      ]
     },
     "execution_count": 31,
     "metadata": {
      "application/vnd.holoviews_exec.v0+json": {
       "id": "p1646"
      }
     },
     "output_type": "execute_result"
    }
   ],
   "source": [
    "education_agg_df = sub_library_df.group_by(\"education\", \"book_returned\").agg(\n",
    "    returning_book=pl.count(\"education\")\n",
    ")\n",
    "education_agg_df = education_agg_df.drop_nulls()\n",
    "\n",
    "education_agg_df = education_agg_df.filter(pl.col(\"book_returned\") != -1)\n",
    "\n",
    "education_agg_df.hvplot.table(\n",
    "    columns=[\"education\", \"book_returned\", \"returning_book\"],\n",
    "    sortable=True,\n",
    "    selectable=True,\n",
    ")"
   ]
  },
  {
   "cell_type": "code",
   "execution_count": 32,
   "id": "5c865417-5050-4d47-913a-543e645712fa",
   "metadata": {},
   "outputs": [
    {
     "data": {},
     "metadata": {},
     "output_type": "display_data"
    },
    {
     "data": {
      "application/vnd.holoviews_exec.v0+json": "",
      "text/html": [
       "<div id='p1682'>\n",
       "  <div id=\"fd6b04cf-de26-438b-ba41-b304ec31efa9\" data-root-id=\"p1682\" style=\"display: contents;\"></div>\n",
       "</div>\n",
       "<script type=\"application/javascript\">(function(root) {\n",
       "  var docs_json = {\"2bbc6e5f-a1ed-4778-8f81-55b1c9ff490d\":{\"version\":\"3.6.0\",\"title\":\"Bokeh Application\",\"roots\":[{\"type\":\"object\",\"name\":\"Row\",\"id\":\"p1682\",\"attributes\":{\"name\":\"Row01903\",\"tags\":[\"embedded\"],\"stylesheets\":[\"\\n:host(.pn-loading):before, .pn-loading:before {\\n  background-color: #c3c3c3;\\n  mask-size: auto calc(min(50%, 400px));\\n  -webkit-mask-size: auto calc(min(50%, 400px));\\n}\",{\"type\":\"object\",\"name\":\"ImportedStyleSheet\",\"id\":\"p1685\",\"attributes\":{\"url\":\"https://cdn.holoviz.org/panel/1.5.3/dist/css/loading.css\"}},{\"type\":\"object\",\"name\":\"ImportedStyleSheet\",\"id\":\"p1714\",\"attributes\":{\"url\":\"https://cdn.holoviz.org/panel/1.5.3/dist/css/listpanel.css\"}},{\"type\":\"object\",\"name\":\"ImportedStyleSheet\",\"id\":\"p1683\",\"attributes\":{\"url\":\"https://cdn.holoviz.org/panel/1.5.3/dist/bundled/theme/default.css\"}},{\"type\":\"object\",\"name\":\"ImportedStyleSheet\",\"id\":\"p1684\",\"attributes\":{\"url\":\"https://cdn.holoviz.org/panel/1.5.3/dist/bundled/theme/native.css\"}}],\"min_width\":700,\"margin\":0,\"sizing_mode\":\"stretch_width\",\"align\":\"start\",\"children\":[{\"type\":\"object\",\"name\":\"Spacer\",\"id\":\"p1686\",\"attributes\":{\"name\":\"HSpacer01910\",\"stylesheets\":[\"\\n:host(.pn-loading):before, .pn-loading:before {\\n  background-color: #c3c3c3;\\n  mask-size: auto calc(min(50%, 400px));\\n  -webkit-mask-size: auto calc(min(50%, 400px));\\n}\",{\"id\":\"p1685\"},{\"id\":\"p1683\"},{\"id\":\"p1684\"}],\"margin\":0,\"sizing_mode\":\"stretch_width\",\"align\":\"start\"}},{\"type\":\"object\",\"name\":\"DataTable\",\"id\":\"p1705\",\"attributes\":{\"width\":700,\"height\":300,\"source\":{\"type\":\"object\",\"name\":\"ColumnDataSource\",\"id\":\"p1687\",\"attributes\":{\"selected\":{\"type\":\"object\",\"name\":\"Selection\",\"id\":\"p1688\",\"attributes\":{\"indices\":[],\"line_indices\":[]}},\"selection_policy\":{\"type\":\"object\",\"name\":\"UnionRenderers\",\"id\":\"p1689\"},\"data\":{\"type\":\"map\",\"entries\":[[\"occupation\",{\"type\":\"ndarray\",\"array\":[\"Education & Health\",\"Sales\",\"Others\",\"Others\",\"Blue Collar\",\"Admin & Support\",\"Tech\",\"Sales\",\"Business & Finance\",\"Education & Health\",\"Admin & Support\",\"Business & Finance\",\"Blue Collar\",\"Tech\"],\"shape\":[14],\"dtype\":\"object\",\"order\":\"little\"}],[\"book_returned\",{\"type\":\"ndarray\",\"array\":{\"type\":\"bytes\",\"data\":\"AQAAAAAAAAABAAAAAAAAAAAAAAAAAAAAAAAAAAEAAAABAAAAAAAAAAEAAAAAAAAAAQAAAAEAAAA=\"},\"shape\":[14],\"dtype\":\"int32\",\"order\":\"little\"}],[\"returning_book\",{\"type\":\"ndarray\",\"array\":{\"type\":\"bytes\",\"data\":\"tQAAADoAAACoAAAAMwAAADUAAABDAAAANwAAAJoAAACkAAAANAAAALcAAAAyAAAApQAAAKYAAAA=\"},\"shape\":[14],\"dtype\":\"uint32\",\"order\":\"little\"}]]}}},\"view\":{\"type\":\"object\",\"name\":\"CDSView\",\"id\":\"p1709\",\"attributes\":{\"filter\":{\"type\":\"object\",\"name\":\"AllIndices\",\"id\":\"p1710\"}}},\"columns\":[{\"type\":\"object\",\"name\":\"TableColumn\",\"id\":\"p1692\",\"attributes\":{\"field\":\"occupation\",\"title\":\"occupation\",\"formatter\":{\"type\":\"object\",\"name\":\"StringFormatter\",\"id\":\"p1690\"},\"editor\":{\"type\":\"object\",\"name\":\"StringEditor\",\"id\":\"p1691\"}}},{\"type\":\"object\",\"name\":\"TableColumn\",\"id\":\"p1697\",\"attributes\":{\"field\":\"book_returned\",\"title\":\"book_returned\",\"formatter\":{\"type\":\"object\",\"name\":\"NumberFormatter\",\"id\":\"p1695\"},\"editor\":{\"type\":\"object\",\"name\":\"IntEditor\",\"id\":\"p1696\"}}},{\"type\":\"object\",\"name\":\"TableColumn\",\"id\":\"p1702\",\"attributes\":{\"field\":\"returning_book\",\"title\":\"returning_book\",\"formatter\":{\"type\":\"object\",\"name\":\"StringFormatter\",\"id\":\"p1700\"},\"editor\":{\"type\":\"object\",\"name\":\"StringEditor\",\"id\":\"p1701\"}}}],\"reorderable\":false}},{\"type\":\"object\",\"name\":\"Spacer\",\"id\":\"p1712\",\"attributes\":{\"name\":\"HSpacer01911\",\"stylesheets\":[\"\\n:host(.pn-loading):before, .pn-loading:before {\\n  background-color: #c3c3c3;\\n  mask-size: auto calc(min(50%, 400px));\\n  -webkit-mask-size: auto calc(min(50%, 400px));\\n}\",{\"id\":\"p1685\"},{\"id\":\"p1683\"},{\"id\":\"p1684\"}],\"margin\":0,\"sizing_mode\":\"stretch_width\",\"align\":\"start\"}}]}}],\"defs\":[{\"type\":\"model\",\"name\":\"ReactiveHTML1\"},{\"type\":\"model\",\"name\":\"FlexBox1\",\"properties\":[{\"name\":\"align_content\",\"kind\":\"Any\",\"default\":\"flex-start\"},{\"name\":\"align_items\",\"kind\":\"Any\",\"default\":\"flex-start\"},{\"name\":\"flex_direction\",\"kind\":\"Any\",\"default\":\"row\"},{\"name\":\"flex_wrap\",\"kind\":\"Any\",\"default\":\"wrap\"},{\"name\":\"gap\",\"kind\":\"Any\",\"default\":\"\"},{\"name\":\"justify_content\",\"kind\":\"Any\",\"default\":\"flex-start\"}]},{\"type\":\"model\",\"name\":\"FloatPanel1\",\"properties\":[{\"name\":\"config\",\"kind\":\"Any\",\"default\":{\"type\":\"map\"}},{\"name\":\"contained\",\"kind\":\"Any\",\"default\":true},{\"name\":\"position\",\"kind\":\"Any\",\"default\":\"right-top\"},{\"name\":\"offsetx\",\"kind\":\"Any\",\"default\":null},{\"name\":\"offsety\",\"kind\":\"Any\",\"default\":null},{\"name\":\"theme\",\"kind\":\"Any\",\"default\":\"primary\"},{\"name\":\"status\",\"kind\":\"Any\",\"default\":\"normalized\"}]},{\"type\":\"model\",\"name\":\"GridStack1\",\"properties\":[{\"name\":\"mode\",\"kind\":\"Any\",\"default\":\"warn\"},{\"name\":\"ncols\",\"kind\":\"Any\",\"default\":null},{\"name\":\"nrows\",\"kind\":\"Any\",\"default\":null},{\"name\":\"allow_resize\",\"kind\":\"Any\",\"default\":true},{\"name\":\"allow_drag\",\"kind\":\"Any\",\"default\":true},{\"name\":\"state\",\"kind\":\"Any\",\"default\":[]}]},{\"type\":\"model\",\"name\":\"drag1\",\"properties\":[{\"name\":\"slider_width\",\"kind\":\"Any\",\"default\":5},{\"name\":\"slider_color\",\"kind\":\"Any\",\"default\":\"black\"},{\"name\":\"value\",\"kind\":\"Any\",\"default\":50}]},{\"type\":\"model\",\"name\":\"click1\",\"properties\":[{\"name\":\"terminal_output\",\"kind\":\"Any\",\"default\":\"\"},{\"name\":\"debug_name\",\"kind\":\"Any\",\"default\":\"\"},{\"name\":\"clears\",\"kind\":\"Any\",\"default\":0}]},{\"type\":\"model\",\"name\":\"FastWrapper1\",\"properties\":[{\"name\":\"object\",\"kind\":\"Any\",\"default\":null},{\"name\":\"style\",\"kind\":\"Any\",\"default\":null}]},{\"type\":\"model\",\"name\":\"NotificationAreaBase1\",\"properties\":[{\"name\":\"js_events\",\"kind\":\"Any\",\"default\":{\"type\":\"map\"}},{\"name\":\"position\",\"kind\":\"Any\",\"default\":\"bottom-right\"},{\"name\":\"_clear\",\"kind\":\"Any\",\"default\":0}]},{\"type\":\"model\",\"name\":\"NotificationArea1\",\"properties\":[{\"name\":\"js_events\",\"kind\":\"Any\",\"default\":{\"type\":\"map\"}},{\"name\":\"notifications\",\"kind\":\"Any\",\"default\":[]},{\"name\":\"position\",\"kind\":\"Any\",\"default\":\"bottom-right\"},{\"name\":\"_clear\",\"kind\":\"Any\",\"default\":0},{\"name\":\"types\",\"kind\":\"Any\",\"default\":[{\"type\":\"map\",\"entries\":[[\"type\",\"warning\"],[\"background\",\"#ffc107\"],[\"icon\",{\"type\":\"map\",\"entries\":[[\"className\",\"fas fa-exclamation-triangle\"],[\"tagName\",\"i\"],[\"color\",\"white\"]]}]]},{\"type\":\"map\",\"entries\":[[\"type\",\"info\"],[\"background\",\"#007bff\"],[\"icon\",{\"type\":\"map\",\"entries\":[[\"className\",\"fas fa-info-circle\"],[\"tagName\",\"i\"],[\"color\",\"white\"]]}]]}]}]},{\"type\":\"model\",\"name\":\"Notification\",\"properties\":[{\"name\":\"background\",\"kind\":\"Any\",\"default\":null},{\"name\":\"duration\",\"kind\":\"Any\",\"default\":3000},{\"name\":\"icon\",\"kind\":\"Any\",\"default\":null},{\"name\":\"message\",\"kind\":\"Any\",\"default\":\"\"},{\"name\":\"notification_type\",\"kind\":\"Any\",\"default\":null},{\"name\":\"_destroyed\",\"kind\":\"Any\",\"default\":false}]},{\"type\":\"model\",\"name\":\"TemplateActions1\",\"properties\":[{\"name\":\"open_modal\",\"kind\":\"Any\",\"default\":0},{\"name\":\"close_modal\",\"kind\":\"Any\",\"default\":0}]},{\"type\":\"model\",\"name\":\"BootstrapTemplateActions1\",\"properties\":[{\"name\":\"open_modal\",\"kind\":\"Any\",\"default\":0},{\"name\":\"close_modal\",\"kind\":\"Any\",\"default\":0}]},{\"type\":\"model\",\"name\":\"TemplateEditor1\",\"properties\":[{\"name\":\"layout\",\"kind\":\"Any\",\"default\":[]}]},{\"type\":\"model\",\"name\":\"MaterialTemplateActions1\",\"properties\":[{\"name\":\"open_modal\",\"kind\":\"Any\",\"default\":0},{\"name\":\"close_modal\",\"kind\":\"Any\",\"default\":0}]},{\"type\":\"model\",\"name\":\"ReactiveESM1\"},{\"type\":\"model\",\"name\":\"JSComponent1\"},{\"type\":\"model\",\"name\":\"ReactComponent1\"},{\"type\":\"model\",\"name\":\"AnyWidgetComponent1\"},{\"type\":\"model\",\"name\":\"request_value1\",\"properties\":[{\"name\":\"fill\",\"kind\":\"Any\",\"default\":\"none\"},{\"name\":\"_synced\",\"kind\":\"Any\",\"default\":null},{\"name\":\"_request_sync\",\"kind\":\"Any\",\"default\":0}]}]}};\n",
       "  var render_items = [{\"docid\":\"2bbc6e5f-a1ed-4778-8f81-55b1c9ff490d\",\"roots\":{\"p1682\":\"fd6b04cf-de26-438b-ba41-b304ec31efa9\"},\"root_ids\":[\"p1682\"]}];\n",
       "  var docs = Object.values(docs_json)\n",
       "  if (!docs) {\n",
       "    return\n",
       "  }\n",
       "  const py_version = docs[0].version.replace('rc', '-rc.').replace('.dev', '-dev.')\n",
       "  async function embed_document(root) {\n",
       "    var Bokeh = get_bokeh(root)\n",
       "    await Bokeh.embed.embed_items_notebook(docs_json, render_items);\n",
       "    for (const render_item of render_items) {\n",
       "      for (const root_id of render_item.root_ids) {\n",
       "\tconst id_el = document.getElementById(root_id)\n",
       "\tif (id_el.children.length && id_el.children[0].hasAttribute('data-root-id')) {\n",
       "\t  const root_el = id_el.children[0]\n",
       "\t  root_el.id = root_el.id + '-rendered'\n",
       "\t  for (const child of root_el.children) {\n",
       "            // Ensure JupyterLab does not capture keyboard shortcuts\n",
       "            // see: https://jupyterlab.readthedocs.io/en/4.1.x/extension/notebook.html#keyboard-interaction-model\n",
       "\t    child.setAttribute('data-lm-suppress-shortcuts', 'true')\n",
       "\t  }\n",
       "\t}\n",
       "      }\n",
       "    }\n",
       "  }\n",
       "  function get_bokeh(root) {\n",
       "    if (root.Bokeh === undefined) {\n",
       "      return null\n",
       "    } else if (root.Bokeh.version !== py_version) {\n",
       "      if (root.Bokeh.versions === undefined || !root.Bokeh.versions.has(py_version)) {\n",
       "\treturn null\n",
       "      }\n",
       "      return root.Bokeh.versions.get(py_version);\n",
       "    } else if (root.Bokeh.version === py_version) {\n",
       "      return root.Bokeh\n",
       "    }\n",
       "    return null\n",
       "  }\n",
       "  function is_loaded(root) {\n",
       "    var Bokeh = get_bokeh(root)\n",
       "    return (Bokeh != null && Bokeh.Panel !== undefined)\n",
       "  }\n",
       "  if (is_loaded(root)) {\n",
       "    embed_document(root);\n",
       "  } else {\n",
       "    var attempts = 0;\n",
       "    var timer = setInterval(function(root) {\n",
       "      if (is_loaded(root)) {\n",
       "        clearInterval(timer);\n",
       "        embed_document(root);\n",
       "      } else if (document.readyState == \"complete\") {\n",
       "        attempts++;\n",
       "        if (attempts > 200) {\n",
       "          clearInterval(timer);\n",
       "\t  var Bokeh = get_bokeh(root)\n",
       "\t  if (Bokeh == null || Bokeh.Panel == null) {\n",
       "            console.warn(\"Panel: ERROR: Unable to run Panel code because Bokeh or Panel library is missing\");\n",
       "\t  } else {\n",
       "\t    console.warn(\"Panel: WARNING: Attempting to render but not all required libraries could be resolved.\")\n",
       "\t    embed_document(root)\n",
       "\t  }\n",
       "        }\n",
       "      }\n",
       "    }, 25, root)\n",
       "  }\n",
       "})(window);</script>"
      ],
      "text/plain": [
       ":Table   [occupation,book_returned,returning_book]"
      ]
     },
     "execution_count": 32,
     "metadata": {
      "application/vnd.holoviews_exec.v0+json": {
       "id": "p1682"
      }
     },
     "output_type": "execute_result"
    }
   ],
   "source": [
    "occupation_agg_df = sub_library_df.group_by(\"occupation\", \"book_returned\").agg(\n",
    "    returning_book=pl.count(\"occupation\")\n",
    ")\n",
    "occupation_agg_df = occupation_agg_df.drop_nulls()\n",
    "\n",
    "occupation_agg_df = occupation_agg_df.filter(pl.col(\"book_returned\") != -1)\n",
    "\n",
    "occupation_agg_df.hvplot.table(\n",
    "    columns=[\"occupation\", \"book_returned\", \"returning_book\"],\n",
    "    sortable=True,\n",
    "    selectable=True,\n",
    ")"
   ]
  },
  {
   "cell_type": "code",
   "execution_count": 33,
   "id": "50b7b532-25e7-4856-b2a2-591ca47c70ca",
   "metadata": {},
   "outputs": [
    {
     "data": {},
     "metadata": {},
     "output_type": "display_data"
    },
    {
     "data": {
      "application/vnd.holoviews_exec.v0+json": "",
      "text/html": [
       "<div id='p1718'>\n",
       "  <div id=\"c0dcdb78-e2e0-441d-a5eb-b49387ede690\" data-root-id=\"p1718\" style=\"display: contents;\"></div>\n",
       "</div>\n",
       "<script type=\"application/javascript\">(function(root) {\n",
       "  var docs_json = {\"83904bad-1d12-4813-a249-a789b622441f\":{\"version\":\"3.6.0\",\"title\":\"Bokeh Application\",\"roots\":[{\"type\":\"object\",\"name\":\"Row\",\"id\":\"p1718\",\"attributes\":{\"name\":\"Row01956\",\"tags\":[\"embedded\"],\"stylesheets\":[\"\\n:host(.pn-loading):before, .pn-loading:before {\\n  background-color: #c3c3c3;\\n  mask-size: auto calc(min(50%, 400px));\\n  -webkit-mask-size: auto calc(min(50%, 400px));\\n}\",{\"type\":\"object\",\"name\":\"ImportedStyleSheet\",\"id\":\"p1721\",\"attributes\":{\"url\":\"https://cdn.holoviz.org/panel/1.5.3/dist/css/loading.css\"}},{\"type\":\"object\",\"name\":\"ImportedStyleSheet\",\"id\":\"p1750\",\"attributes\":{\"url\":\"https://cdn.holoviz.org/panel/1.5.3/dist/css/listpanel.css\"}},{\"type\":\"object\",\"name\":\"ImportedStyleSheet\",\"id\":\"p1719\",\"attributes\":{\"url\":\"https://cdn.holoviz.org/panel/1.5.3/dist/bundled/theme/default.css\"}},{\"type\":\"object\",\"name\":\"ImportedStyleSheet\",\"id\":\"p1720\",\"attributes\":{\"url\":\"https://cdn.holoviz.org/panel/1.5.3/dist/bundled/theme/native.css\"}}],\"min_width\":700,\"margin\":0,\"sizing_mode\":\"stretch_width\",\"align\":\"start\",\"children\":[{\"type\":\"object\",\"name\":\"Spacer\",\"id\":\"p1722\",\"attributes\":{\"name\":\"HSpacer01963\",\"stylesheets\":[\"\\n:host(.pn-loading):before, .pn-loading:before {\\n  background-color: #c3c3c3;\\n  mask-size: auto calc(min(50%, 400px));\\n  -webkit-mask-size: auto calc(min(50%, 400px));\\n}\",{\"id\":\"p1721\"},{\"id\":\"p1719\"},{\"id\":\"p1720\"}],\"margin\":0,\"sizing_mode\":\"stretch_width\",\"align\":\"start\"}},{\"type\":\"object\",\"name\":\"DataTable\",\"id\":\"p1741\",\"attributes\":{\"width\":700,\"height\":300,\"source\":{\"type\":\"object\",\"name\":\"ColumnDataSource\",\"id\":\"p1723\",\"attributes\":{\"selected\":{\"type\":\"object\",\"name\":\"Selection\",\"id\":\"p1724\",\"attributes\":{\"indices\":[],\"line_indices\":[]}},\"selection_policy\":{\"type\":\"object\",\"name\":\"UnionRenderers\",\"id\":\"p1725\"},\"data\":{\"type\":\"map\",\"entries\":[[\"age_category\",{\"type\":\"ndarray\",\"array\":[\"Adult\",\"Middle-Age\",\"Young\",\"Young\",\"Old\",\"Adult\",\"Old\",\"Middle-Age\"],\"shape\":[8],\"dtype\":\"object\",\"order\":\"little\"}],[\"book_returned\",{\"type\":\"ndarray\",\"array\":{\"type\":\"bytes\",\"data\":\"AAAAAAAAAAAAAAAAAQAAAAAAAAABAAAAAQAAAAEAAAA=\"},\"shape\":[8],\"dtype\":\"int32\",\"order\":\"little\"}],[\"returning_book\",{\"type\":\"ndarray\",\"array\":{\"type\":\"bytes\",\"data\":\"YQAAAHUAAAAsAAAAVQAAAFsAAAB2AQAAAgEAAGQBAAA=\"},\"shape\":[8],\"dtype\":\"uint32\",\"order\":\"little\"}]]}}},\"view\":{\"type\":\"object\",\"name\":\"CDSView\",\"id\":\"p1745\",\"attributes\":{\"filter\":{\"type\":\"object\",\"name\":\"AllIndices\",\"id\":\"p1746\"}}},\"columns\":[{\"type\":\"object\",\"name\":\"TableColumn\",\"id\":\"p1728\",\"attributes\":{\"field\":\"age_category\",\"title\":\"age_category\",\"formatter\":{\"type\":\"object\",\"name\":\"StringFormatter\",\"id\":\"p1726\"},\"editor\":{\"type\":\"object\",\"name\":\"StringEditor\",\"id\":\"p1727\"}}},{\"type\":\"object\",\"name\":\"TableColumn\",\"id\":\"p1733\",\"attributes\":{\"field\":\"book_returned\",\"title\":\"book_returned\",\"formatter\":{\"type\":\"object\",\"name\":\"NumberFormatter\",\"id\":\"p1731\"},\"editor\":{\"type\":\"object\",\"name\":\"IntEditor\",\"id\":\"p1732\"}}},{\"type\":\"object\",\"name\":\"TableColumn\",\"id\":\"p1738\",\"attributes\":{\"field\":\"returning_book\",\"title\":\"returning_book\",\"formatter\":{\"type\":\"object\",\"name\":\"StringFormatter\",\"id\":\"p1736\"},\"editor\":{\"type\":\"object\",\"name\":\"StringEditor\",\"id\":\"p1737\"}}}],\"reorderable\":false}},{\"type\":\"object\",\"name\":\"Spacer\",\"id\":\"p1748\",\"attributes\":{\"name\":\"HSpacer01964\",\"stylesheets\":[\"\\n:host(.pn-loading):before, .pn-loading:before {\\n  background-color: #c3c3c3;\\n  mask-size: auto calc(min(50%, 400px));\\n  -webkit-mask-size: auto calc(min(50%, 400px));\\n}\",{\"id\":\"p1721\"},{\"id\":\"p1719\"},{\"id\":\"p1720\"}],\"margin\":0,\"sizing_mode\":\"stretch_width\",\"align\":\"start\"}}]}}],\"defs\":[{\"type\":\"model\",\"name\":\"ReactiveHTML1\"},{\"type\":\"model\",\"name\":\"FlexBox1\",\"properties\":[{\"name\":\"align_content\",\"kind\":\"Any\",\"default\":\"flex-start\"},{\"name\":\"align_items\",\"kind\":\"Any\",\"default\":\"flex-start\"},{\"name\":\"flex_direction\",\"kind\":\"Any\",\"default\":\"row\"},{\"name\":\"flex_wrap\",\"kind\":\"Any\",\"default\":\"wrap\"},{\"name\":\"gap\",\"kind\":\"Any\",\"default\":\"\"},{\"name\":\"justify_content\",\"kind\":\"Any\",\"default\":\"flex-start\"}]},{\"type\":\"model\",\"name\":\"FloatPanel1\",\"properties\":[{\"name\":\"config\",\"kind\":\"Any\",\"default\":{\"type\":\"map\"}},{\"name\":\"contained\",\"kind\":\"Any\",\"default\":true},{\"name\":\"position\",\"kind\":\"Any\",\"default\":\"right-top\"},{\"name\":\"offsetx\",\"kind\":\"Any\",\"default\":null},{\"name\":\"offsety\",\"kind\":\"Any\",\"default\":null},{\"name\":\"theme\",\"kind\":\"Any\",\"default\":\"primary\"},{\"name\":\"status\",\"kind\":\"Any\",\"default\":\"normalized\"}]},{\"type\":\"model\",\"name\":\"GridStack1\",\"properties\":[{\"name\":\"mode\",\"kind\":\"Any\",\"default\":\"warn\"},{\"name\":\"ncols\",\"kind\":\"Any\",\"default\":null},{\"name\":\"nrows\",\"kind\":\"Any\",\"default\":null},{\"name\":\"allow_resize\",\"kind\":\"Any\",\"default\":true},{\"name\":\"allow_drag\",\"kind\":\"Any\",\"default\":true},{\"name\":\"state\",\"kind\":\"Any\",\"default\":[]}]},{\"type\":\"model\",\"name\":\"drag1\",\"properties\":[{\"name\":\"slider_width\",\"kind\":\"Any\",\"default\":5},{\"name\":\"slider_color\",\"kind\":\"Any\",\"default\":\"black\"},{\"name\":\"value\",\"kind\":\"Any\",\"default\":50}]},{\"type\":\"model\",\"name\":\"click1\",\"properties\":[{\"name\":\"terminal_output\",\"kind\":\"Any\",\"default\":\"\"},{\"name\":\"debug_name\",\"kind\":\"Any\",\"default\":\"\"},{\"name\":\"clears\",\"kind\":\"Any\",\"default\":0}]},{\"type\":\"model\",\"name\":\"FastWrapper1\",\"properties\":[{\"name\":\"object\",\"kind\":\"Any\",\"default\":null},{\"name\":\"style\",\"kind\":\"Any\",\"default\":null}]},{\"type\":\"model\",\"name\":\"NotificationAreaBase1\",\"properties\":[{\"name\":\"js_events\",\"kind\":\"Any\",\"default\":{\"type\":\"map\"}},{\"name\":\"position\",\"kind\":\"Any\",\"default\":\"bottom-right\"},{\"name\":\"_clear\",\"kind\":\"Any\",\"default\":0}]},{\"type\":\"model\",\"name\":\"NotificationArea1\",\"properties\":[{\"name\":\"js_events\",\"kind\":\"Any\",\"default\":{\"type\":\"map\"}},{\"name\":\"notifications\",\"kind\":\"Any\",\"default\":[]},{\"name\":\"position\",\"kind\":\"Any\",\"default\":\"bottom-right\"},{\"name\":\"_clear\",\"kind\":\"Any\",\"default\":0},{\"name\":\"types\",\"kind\":\"Any\",\"default\":[{\"type\":\"map\",\"entries\":[[\"type\",\"warning\"],[\"background\",\"#ffc107\"],[\"icon\",{\"type\":\"map\",\"entries\":[[\"className\",\"fas fa-exclamation-triangle\"],[\"tagName\",\"i\"],[\"color\",\"white\"]]}]]},{\"type\":\"map\",\"entries\":[[\"type\",\"info\"],[\"background\",\"#007bff\"],[\"icon\",{\"type\":\"map\",\"entries\":[[\"className\",\"fas fa-info-circle\"],[\"tagName\",\"i\"],[\"color\",\"white\"]]}]]}]}]},{\"type\":\"model\",\"name\":\"Notification\",\"properties\":[{\"name\":\"background\",\"kind\":\"Any\",\"default\":null},{\"name\":\"duration\",\"kind\":\"Any\",\"default\":3000},{\"name\":\"icon\",\"kind\":\"Any\",\"default\":null},{\"name\":\"message\",\"kind\":\"Any\",\"default\":\"\"},{\"name\":\"notification_type\",\"kind\":\"Any\",\"default\":null},{\"name\":\"_destroyed\",\"kind\":\"Any\",\"default\":false}]},{\"type\":\"model\",\"name\":\"TemplateActions1\",\"properties\":[{\"name\":\"open_modal\",\"kind\":\"Any\",\"default\":0},{\"name\":\"close_modal\",\"kind\":\"Any\",\"default\":0}]},{\"type\":\"model\",\"name\":\"BootstrapTemplateActions1\",\"properties\":[{\"name\":\"open_modal\",\"kind\":\"Any\",\"default\":0},{\"name\":\"close_modal\",\"kind\":\"Any\",\"default\":0}]},{\"type\":\"model\",\"name\":\"TemplateEditor1\",\"properties\":[{\"name\":\"layout\",\"kind\":\"Any\",\"default\":[]}]},{\"type\":\"model\",\"name\":\"MaterialTemplateActions1\",\"properties\":[{\"name\":\"open_modal\",\"kind\":\"Any\",\"default\":0},{\"name\":\"close_modal\",\"kind\":\"Any\",\"default\":0}]},{\"type\":\"model\",\"name\":\"ReactiveESM1\"},{\"type\":\"model\",\"name\":\"JSComponent1\"},{\"type\":\"model\",\"name\":\"ReactComponent1\"},{\"type\":\"model\",\"name\":\"AnyWidgetComponent1\"},{\"type\":\"model\",\"name\":\"request_value1\",\"properties\":[{\"name\":\"fill\",\"kind\":\"Any\",\"default\":\"none\"},{\"name\":\"_synced\",\"kind\":\"Any\",\"default\":null},{\"name\":\"_request_sync\",\"kind\":\"Any\",\"default\":0}]}]}};\n",
       "  var render_items = [{\"docid\":\"83904bad-1d12-4813-a249-a789b622441f\",\"roots\":{\"p1718\":\"c0dcdb78-e2e0-441d-a5eb-b49387ede690\"},\"root_ids\":[\"p1718\"]}];\n",
       "  var docs = Object.values(docs_json)\n",
       "  if (!docs) {\n",
       "    return\n",
       "  }\n",
       "  const py_version = docs[0].version.replace('rc', '-rc.').replace('.dev', '-dev.')\n",
       "  async function embed_document(root) {\n",
       "    var Bokeh = get_bokeh(root)\n",
       "    await Bokeh.embed.embed_items_notebook(docs_json, render_items);\n",
       "    for (const render_item of render_items) {\n",
       "      for (const root_id of render_item.root_ids) {\n",
       "\tconst id_el = document.getElementById(root_id)\n",
       "\tif (id_el.children.length && id_el.children[0].hasAttribute('data-root-id')) {\n",
       "\t  const root_el = id_el.children[0]\n",
       "\t  root_el.id = root_el.id + '-rendered'\n",
       "\t  for (const child of root_el.children) {\n",
       "            // Ensure JupyterLab does not capture keyboard shortcuts\n",
       "            // see: https://jupyterlab.readthedocs.io/en/4.1.x/extension/notebook.html#keyboard-interaction-model\n",
       "\t    child.setAttribute('data-lm-suppress-shortcuts', 'true')\n",
       "\t  }\n",
       "\t}\n",
       "      }\n",
       "    }\n",
       "  }\n",
       "  function get_bokeh(root) {\n",
       "    if (root.Bokeh === undefined) {\n",
       "      return null\n",
       "    } else if (root.Bokeh.version !== py_version) {\n",
       "      if (root.Bokeh.versions === undefined || !root.Bokeh.versions.has(py_version)) {\n",
       "\treturn null\n",
       "      }\n",
       "      return root.Bokeh.versions.get(py_version);\n",
       "    } else if (root.Bokeh.version === py_version) {\n",
       "      return root.Bokeh\n",
       "    }\n",
       "    return null\n",
       "  }\n",
       "  function is_loaded(root) {\n",
       "    var Bokeh = get_bokeh(root)\n",
       "    return (Bokeh != null && Bokeh.Panel !== undefined)\n",
       "  }\n",
       "  if (is_loaded(root)) {\n",
       "    embed_document(root);\n",
       "  } else {\n",
       "    var attempts = 0;\n",
       "    var timer = setInterval(function(root) {\n",
       "      if (is_loaded(root)) {\n",
       "        clearInterval(timer);\n",
       "        embed_document(root);\n",
       "      } else if (document.readyState == \"complete\") {\n",
       "        attempts++;\n",
       "        if (attempts > 200) {\n",
       "          clearInterval(timer);\n",
       "\t  var Bokeh = get_bokeh(root)\n",
       "\t  if (Bokeh == null || Bokeh.Panel == null) {\n",
       "            console.warn(\"Panel: ERROR: Unable to run Panel code because Bokeh or Panel library is missing\");\n",
       "\t  } else {\n",
       "\t    console.warn(\"Panel: WARNING: Attempting to render but not all required libraries could be resolved.\")\n",
       "\t    embed_document(root)\n",
       "\t  }\n",
       "        }\n",
       "      }\n",
       "    }, 25, root)\n",
       "  }\n",
       "})(window);</script>"
      ],
      "text/plain": [
       ":Table   [age_category,book_returned,returning_book]"
      ]
     },
     "execution_count": 33,
     "metadata": {
      "application/vnd.holoviews_exec.v0+json": {
       "id": "p1718"
      }
     },
     "output_type": "execute_result"
    }
   ],
   "source": [
    "age_agg_df = sub_library_df.group_by(\"age_category\", \"book_returned\").agg(\n",
    "    returning_book=pl.count(\"age_category\")\n",
    ")\n",
    "age_agg_df = age_agg_df.drop_nulls()\n",
    "\n",
    "age_agg_df = age_agg_df.filter(pl.col(\"book_returned\") != -1)\n",
    "age_agg_df = age_agg_df.filter(pl.col(\"age_category\") != \"Undefined\")\n",
    "\n",
    "age_agg_df.hvplot.table(\n",
    "    columns=[\"age_category\", \"book_returned\", \"returning_book\"],\n",
    "    sortable=True,\n",
    "    selectable=True,\n",
    ")"
   ]
  },
  {
   "cell_type": "markdown",
   "id": "aab46e77-20d7-4b48-880d-f27b3dcd46f6",
   "metadata": {},
   "source": [
    "Analyzing potential features such as education, occupation, age category with the label and without invalid data shows similar story, ~30% of the feature (by count) doesn't return book on time and this is the same for all features. \n",
    "There is no anomalies such as that one group is more dominant than the other.\n",
    "\n",
    "This can mean that all feature will have the same improtance in determining the label, or none at all."
   ]
  },
  {
   "cell_type": "markdown",
   "id": "f01d7cb3-dafc-4675-8dae-be01130354c0",
   "metadata": {},
   "source": [
    "Interesting feature can be book `categories`, but because of the type (list of strings) and its nature (multi label) it can be more complex to analyze it. Intuitively, it can impact the prediction of the label (some categories may be more popular then the other) but I don't see it."
   ]
  },
  {
   "cell_type": "code",
   "execution_count": 34,
   "id": "1c336be0-7aca-4cfb-9108-d1ba7aab8815",
   "metadata": {},
   "outputs": [
    {
     "data": {},
     "metadata": {},
     "output_type": "display_data"
    },
    {
     "data": {
      "application/vnd.holoviews_exec.v0+json": "",
      "text/html": [
       "<div id='p1754'>\n",
       "  <div id=\"ab8b5dc8-5e70-435b-ac25-35760ca53fa4\" data-root-id=\"p1754\" style=\"display: contents;\"></div>\n",
       "</div>\n",
       "<script type=\"application/javascript\">(function(root) {\n",
       "  var docs_json = {\"c6abd113-82fe-4e0c-97fd-71d6381460c2\":{\"version\":\"3.6.0\",\"title\":\"Bokeh Application\",\"roots\":[{\"type\":\"object\",\"name\":\"Row\",\"id\":\"p1754\",\"attributes\":{\"name\":\"Row02009\",\"tags\":[\"embedded\"],\"stylesheets\":[\"\\n:host(.pn-loading):before, .pn-loading:before {\\n  background-color: #c3c3c3;\\n  mask-size: auto calc(min(50%, 400px));\\n  -webkit-mask-size: auto calc(min(50%, 400px));\\n}\",{\"type\":\"object\",\"name\":\"ImportedStyleSheet\",\"id\":\"p1757\",\"attributes\":{\"url\":\"https://cdn.holoviz.org/panel/1.5.3/dist/css/loading.css\"}},{\"type\":\"object\",\"name\":\"ImportedStyleSheet\",\"id\":\"p1786\",\"attributes\":{\"url\":\"https://cdn.holoviz.org/panel/1.5.3/dist/css/listpanel.css\"}},{\"type\":\"object\",\"name\":\"ImportedStyleSheet\",\"id\":\"p1755\",\"attributes\":{\"url\":\"https://cdn.holoviz.org/panel/1.5.3/dist/bundled/theme/default.css\"}},{\"type\":\"object\",\"name\":\"ImportedStyleSheet\",\"id\":\"p1756\",\"attributes\":{\"url\":\"https://cdn.holoviz.org/panel/1.5.3/dist/bundled/theme/native.css\"}}],\"min_width\":700,\"margin\":0,\"sizing_mode\":\"stretch_width\",\"align\":\"start\",\"children\":[{\"type\":\"object\",\"name\":\"Spacer\",\"id\":\"p1758\",\"attributes\":{\"name\":\"HSpacer02016\",\"stylesheets\":[\"\\n:host(.pn-loading):before, .pn-loading:before {\\n  background-color: #c3c3c3;\\n  mask-size: auto calc(min(50%, 400px));\\n  -webkit-mask-size: auto calc(min(50%, 400px));\\n}\",{\"id\":\"p1757\"},{\"id\":\"p1755\"},{\"id\":\"p1756\"}],\"margin\":0,\"sizing_mode\":\"stretch_width\",\"align\":\"start\"}},{\"type\":\"object\",\"name\":\"DataTable\",\"id\":\"p1777\",\"attributes\":{\"width\":700,\"height\":300,\"source\":{\"type\":\"object\",\"name\":\"ColumnDataSource\",\"id\":\"p1759\",\"attributes\":{\"selected\":{\"type\":\"object\",\"name\":\"Selection\",\"id\":\"p1760\",\"attributes\":{\"indices\":[],\"line_indices\":[]}},\"selection_policy\":{\"type\":\"object\",\"name\":\"UnionRenderers\",\"id\":\"p1761\"},\"data\":{\"type\":\"map\",\"entries\":[[\"categories\",{\"type\":\"ndarray\",\"array\":[\"Natural resources\",\"Electric railroads\",\"Banking law\",\"Juvenile Fiction\",\"Environmental law\",\"Barrier islands\",\"Fiction\",\"Nature\",\"Fire engines\",\"Technology & Engineering\",\"Desarrollo economico\",\"Water-supply\",\"Business enterprises\",\"Social Science\",\"Corporations\",\"Agricultural education\",\"Corliss steam-engine\",\"Administrative agencies\",\"Fiction\",\"Juvenile Nonfiction\",\"Industries\",\"Hydrology\",\"Aircraft industry\",\"Nature\",\"Technology\",\"Agriculture\",\"Conservation of natural resources\",\"Libraries\",\"Psychology\",\"Technology & Engineering\",\"Historical Card\",\"Geology\",\"Financial institutions\",\"Government publications\",\"Administrative agencies\",\"Mechanical engineering\",\"Mechanics\",\"Marine diesel motors\",\"Business & Economics\",\"Finance\",\"Emigration and immigration\",\"Aircraft engine industry\",\"Art\",\"Industrial arts\",\"Environmental law\",\"Accounting\",\"Government publications\",\"Philosophy\",\"Medicine\",\"Banks and banking\",\"Information storage and retrieval systems\",\"Electronic books\",\"Classification\",\"Science\",\"Medical\",\"Diesel engines\",\"Financial services industry\",\"Kentucky\",\"Mathematics\",\"Fire engines\",\"Biology\",\"Mechanics\",\"Sports & Recreation\",\"Corliss steam-engine\",\"Art\",\"Engineering\",\"Physicians\",\"Medical\",\"Internal combustion engines\",\"Political Science\",\"Corporations\",\"Electric railroads\",\"Industrial arts\",\"Historical Card\",\"Advertising\",\"Political Science\",\"Capital market\",\"Banks and banking\",\"Marine resources\",\"Science\",\"United States\",\"Computers\",\"Steam-engines\",\"History\",\"Gases\",\"Banking law\",\"Desarrollo economico\",\"Language Arts & Disciplines\",\"Kentucky\",\"Juvenile Fiction\",\"Steam-engines\",\"Emigration and immigration\",\"Psychology\",\"Internal medicine\",\"Marine diesel motors\",\"Industries\",\"Water resources development\",\"Advertising\",\"Sports & Recreation\",\"Information storage and retrieval systems\",\"Sand\",\"Hydrology\",\"Finance\",\"Philosophy\",\"Language Arts & Disciplines\",\"Social Science\",\"Montana\",\"Mines and mineral resources\",\"Engineering\",\"Gases\",\"Water-supply\",\"United States\",\"Geology\",\"Sand\",\"Classification\",\"Biology\",\"Montana\",\"Stream measurements\",\"Conservation of natural resources\",\"Astronautics in earth sciences\",\"Bacteriology\",\"Transportation\",\"Stream measurements\",\"Aircraft engine industry\",\"Financial institutions\",\"Astronautics in earth sciences\",\"Business enterprises\",\"Internal combustion engines\",\"Agricultural education\",\"Utah\",\"Business & Economics\",\"Agriculture\",\"Medicine\",\"Airplanes\",\"Transportation\",\"Water resources development\",\"Technology\",\"Utah\",\"Computers\",\"Aircraft industry\",\"Marine resources\",\"Bacteriology\",\"Airplanes\",\"Financial services industry\",\"Accounting\",\"Central Provinces (India)\",\"Natural resources\",\"History\"],\"shape\":[148,1],\"dtype\":\"object\",\"order\":\"little\"}],[\"book_returned\",{\"type\":\"ndarray\",\"array\":{\"type\":\"bytes\",\"data\":\"AAAAAAEAAAABAAAAAAAAAAEAAAABAAAAAAAAAAAAAAAAAAAAAQAAAAEAAAAAAAAAAAAAAAAAAAAAAAAAAQAAAAEAAAAAAAAAAQAAAAEAAAABAAAAAQAAAAEAAAABAAAAAQAAAAAAAAABAAAAAQAAAAAAAAAAAAAAAQAAAAEAAAAAAAAAAQAAAAEAAAABAAAAAAAAAAAAAAABAAAAAAAAAAEAAAABAAAAAAAAAAEAAAAAAAAAAQAAAAAAAAABAAAAAQAAAAEAAAAAAAAAAQAAAAAAAAAAAAAAAAAAAAEAAAAAAAAAAAAAAAEAAAABAAAAAQAAAAEAAAABAAAAAAAAAAEAAAAAAAAAAQAAAAEAAAAAAAAAAAAAAAEAAAAAAAAAAAAAAAAAAAABAAAAAQAAAAEAAAAAAAAAAQAAAAEAAAAAAAAAAAAAAAAAAAABAAAAAAAAAAAAAAAAAAAAAAAAAAEAAAABAAAAAQAAAAAAAAABAAAAAQAAAAEAAAAAAAAAAQAAAAAAAAAAAAAAAQAAAAAAAAAAAAAAAQAAAAAAAAABAAAAAQAAAAAAAAABAAAAAQAAAAEAAAABAAAAAQAAAAAAAAABAAAAAQAAAAAAAAABAAAAAQAAAAAAAAAAAAAAAQAAAAAAAAAAAAAAAAAAAAEAAAABAAAAAQAAAAEAAAAAAAAAAAAAAAAAAAABAAAAAAAAAAAAAAABAAAAAAAAAAAAAAABAAAAAQAAAAAAAAAAAAAAAAAAAAEAAAABAAAAAAAAAAEAAAABAAAAAAAAAA==\"},\"shape\":[148],\"dtype\":\"int32\",\"order\":\"little\"}],[\"returning_book\",{\"type\":\"ndarray\",\"array\":{\"type\":\"bytes\",\"data\":\"BAAAAAcAAAABAAAAAwAAAAgAAAADAAAAAgAAAAYAAAADAAAAHgAAAAQAAAADAAAAAwAAAAQAAAAEAAAAAwAAAAcAAAACAAAADwAAAAUAAAAPAAAABgAAAAUAAAAKAAAACQAAAAYAAAAIAAAACQAAAAQAAAAHAAAACAAAAAYAAAAEAAAADwAAAAkAAAAIAAAABwAAAAQAAACgAAAABQAAAAMAAAAFAAAABAAAAAUAAAADAAAAAQAAAAUAAAABAAAAYAAAAA0AAAADAAAACAAAAAEAAAAPAAAADAAAAAgAAAACAAAAAQAAAAIAAAAEAAAABAAAABgAAAAFAAAAAwAAAAUAAAAEAAAABwAAABsAAAAEAAAAAQAAAAoAAAABAAAAAwAAAAEAAABFAAAADAAAAAwAAAAEAAAADQAAADsAAAAEAAAABAAAAAEAAAACAAAAAgAAAAMAAAACAAAAAgAAAAQAAAALAAAADgAAAAQAAAAMAAAACwAAAAgAAAADAAAAHAAAABcAAAACAAAAAgAAAAEAAAACAAAAFQAAAAMAAAAEAAAAEgAAAAEAAAAKAAAABAAAAAgAAAAGAAAACwAAAAQAAAAEAAAAAwAAAAEAAAAJAAAACwAAAAMAAAABAAAABAAAAAUAAAABAAAAAQAAAAMAAAAHAAAAAwAAAAkAAAACAAAAAgAAADgAAAACAAAAFgAAAAEAAAALAAAABgAAAAQAAAABAAAACQAAAAQAAAACAAAAAgAAAAQAAAABAAAAAQAAAAcAAAAEAAAAAQAAAA==\"},\"shape\":[148],\"dtype\":\"uint32\",\"order\":\"little\"}]]}}},\"view\":{\"type\":\"object\",\"name\":\"CDSView\",\"id\":\"p1781\",\"attributes\":{\"filter\":{\"type\":\"object\",\"name\":\"AllIndices\",\"id\":\"p1782\"}}},\"columns\":[{\"type\":\"object\",\"name\":\"TableColumn\",\"id\":\"p1764\",\"attributes\":{\"field\":\"categories\",\"title\":\"categories\",\"formatter\":{\"type\":\"object\",\"name\":\"StringFormatter\",\"id\":\"p1762\"},\"editor\":{\"type\":\"object\",\"name\":\"StringEditor\",\"id\":\"p1763\"}}},{\"type\":\"object\",\"name\":\"TableColumn\",\"id\":\"p1769\",\"attributes\":{\"field\":\"book_returned\",\"title\":\"book_returned\",\"formatter\":{\"type\":\"object\",\"name\":\"NumberFormatter\",\"id\":\"p1767\"},\"editor\":{\"type\":\"object\",\"name\":\"IntEditor\",\"id\":\"p1768\"}}},{\"type\":\"object\",\"name\":\"TableColumn\",\"id\":\"p1774\",\"attributes\":{\"field\":\"returning_book\",\"title\":\"returning_book\",\"formatter\":{\"type\":\"object\",\"name\":\"StringFormatter\",\"id\":\"p1772\"},\"editor\":{\"type\":\"object\",\"name\":\"StringEditor\",\"id\":\"p1773\"}}}],\"reorderable\":false}},{\"type\":\"object\",\"name\":\"Spacer\",\"id\":\"p1784\",\"attributes\":{\"name\":\"HSpacer02017\",\"stylesheets\":[\"\\n:host(.pn-loading):before, .pn-loading:before {\\n  background-color: #c3c3c3;\\n  mask-size: auto calc(min(50%, 400px));\\n  -webkit-mask-size: auto calc(min(50%, 400px));\\n}\",{\"id\":\"p1757\"},{\"id\":\"p1755\"},{\"id\":\"p1756\"}],\"margin\":0,\"sizing_mode\":\"stretch_width\",\"align\":\"start\"}}]}}],\"defs\":[{\"type\":\"model\",\"name\":\"ReactiveHTML1\"},{\"type\":\"model\",\"name\":\"FlexBox1\",\"properties\":[{\"name\":\"align_content\",\"kind\":\"Any\",\"default\":\"flex-start\"},{\"name\":\"align_items\",\"kind\":\"Any\",\"default\":\"flex-start\"},{\"name\":\"flex_direction\",\"kind\":\"Any\",\"default\":\"row\"},{\"name\":\"flex_wrap\",\"kind\":\"Any\",\"default\":\"wrap\"},{\"name\":\"gap\",\"kind\":\"Any\",\"default\":\"\"},{\"name\":\"justify_content\",\"kind\":\"Any\",\"default\":\"flex-start\"}]},{\"type\":\"model\",\"name\":\"FloatPanel1\",\"properties\":[{\"name\":\"config\",\"kind\":\"Any\",\"default\":{\"type\":\"map\"}},{\"name\":\"contained\",\"kind\":\"Any\",\"default\":true},{\"name\":\"position\",\"kind\":\"Any\",\"default\":\"right-top\"},{\"name\":\"offsetx\",\"kind\":\"Any\",\"default\":null},{\"name\":\"offsety\",\"kind\":\"Any\",\"default\":null},{\"name\":\"theme\",\"kind\":\"Any\",\"default\":\"primary\"},{\"name\":\"status\",\"kind\":\"Any\",\"default\":\"normalized\"}]},{\"type\":\"model\",\"name\":\"GridStack1\",\"properties\":[{\"name\":\"mode\",\"kind\":\"Any\",\"default\":\"warn\"},{\"name\":\"ncols\",\"kind\":\"Any\",\"default\":null},{\"name\":\"nrows\",\"kind\":\"Any\",\"default\":null},{\"name\":\"allow_resize\",\"kind\":\"Any\",\"default\":true},{\"name\":\"allow_drag\",\"kind\":\"Any\",\"default\":true},{\"name\":\"state\",\"kind\":\"Any\",\"default\":[]}]},{\"type\":\"model\",\"name\":\"drag1\",\"properties\":[{\"name\":\"slider_width\",\"kind\":\"Any\",\"default\":5},{\"name\":\"slider_color\",\"kind\":\"Any\",\"default\":\"black\"},{\"name\":\"value\",\"kind\":\"Any\",\"default\":50}]},{\"type\":\"model\",\"name\":\"click1\",\"properties\":[{\"name\":\"terminal_output\",\"kind\":\"Any\",\"default\":\"\"},{\"name\":\"debug_name\",\"kind\":\"Any\",\"default\":\"\"},{\"name\":\"clears\",\"kind\":\"Any\",\"default\":0}]},{\"type\":\"model\",\"name\":\"FastWrapper1\",\"properties\":[{\"name\":\"object\",\"kind\":\"Any\",\"default\":null},{\"name\":\"style\",\"kind\":\"Any\",\"default\":null}]},{\"type\":\"model\",\"name\":\"NotificationAreaBase1\",\"properties\":[{\"name\":\"js_events\",\"kind\":\"Any\",\"default\":{\"type\":\"map\"}},{\"name\":\"position\",\"kind\":\"Any\",\"default\":\"bottom-right\"},{\"name\":\"_clear\",\"kind\":\"Any\",\"default\":0}]},{\"type\":\"model\",\"name\":\"NotificationArea1\",\"properties\":[{\"name\":\"js_events\",\"kind\":\"Any\",\"default\":{\"type\":\"map\"}},{\"name\":\"notifications\",\"kind\":\"Any\",\"default\":[]},{\"name\":\"position\",\"kind\":\"Any\",\"default\":\"bottom-right\"},{\"name\":\"_clear\",\"kind\":\"Any\",\"default\":0},{\"name\":\"types\",\"kind\":\"Any\",\"default\":[{\"type\":\"map\",\"entries\":[[\"type\",\"warning\"],[\"background\",\"#ffc107\"],[\"icon\",{\"type\":\"map\",\"entries\":[[\"className\",\"fas fa-exclamation-triangle\"],[\"tagName\",\"i\"],[\"color\",\"white\"]]}]]},{\"type\":\"map\",\"entries\":[[\"type\",\"info\"],[\"background\",\"#007bff\"],[\"icon\",{\"type\":\"map\",\"entries\":[[\"className\",\"fas fa-info-circle\"],[\"tagName\",\"i\"],[\"color\",\"white\"]]}]]}]}]},{\"type\":\"model\",\"name\":\"Notification\",\"properties\":[{\"name\":\"background\",\"kind\":\"Any\",\"default\":null},{\"name\":\"duration\",\"kind\":\"Any\",\"default\":3000},{\"name\":\"icon\",\"kind\":\"Any\",\"default\":null},{\"name\":\"message\",\"kind\":\"Any\",\"default\":\"\"},{\"name\":\"notification_type\",\"kind\":\"Any\",\"default\":null},{\"name\":\"_destroyed\",\"kind\":\"Any\",\"default\":false}]},{\"type\":\"model\",\"name\":\"TemplateActions1\",\"properties\":[{\"name\":\"open_modal\",\"kind\":\"Any\",\"default\":0},{\"name\":\"close_modal\",\"kind\":\"Any\",\"default\":0}]},{\"type\":\"model\",\"name\":\"BootstrapTemplateActions1\",\"properties\":[{\"name\":\"open_modal\",\"kind\":\"Any\",\"default\":0},{\"name\":\"close_modal\",\"kind\":\"Any\",\"default\":0}]},{\"type\":\"model\",\"name\":\"TemplateEditor1\",\"properties\":[{\"name\":\"layout\",\"kind\":\"Any\",\"default\":[]}]},{\"type\":\"model\",\"name\":\"MaterialTemplateActions1\",\"properties\":[{\"name\":\"open_modal\",\"kind\":\"Any\",\"default\":0},{\"name\":\"close_modal\",\"kind\":\"Any\",\"default\":0}]},{\"type\":\"model\",\"name\":\"ReactiveESM1\"},{\"type\":\"model\",\"name\":\"JSComponent1\"},{\"type\":\"model\",\"name\":\"ReactComponent1\"},{\"type\":\"model\",\"name\":\"AnyWidgetComponent1\"},{\"type\":\"model\",\"name\":\"request_value1\",\"properties\":[{\"name\":\"fill\",\"kind\":\"Any\",\"default\":\"none\"},{\"name\":\"_synced\",\"kind\":\"Any\",\"default\":null},{\"name\":\"_request_sync\",\"kind\":\"Any\",\"default\":0}]}]}};\n",
       "  var render_items = [{\"docid\":\"c6abd113-82fe-4e0c-97fd-71d6381460c2\",\"roots\":{\"p1754\":\"ab8b5dc8-5e70-435b-ac25-35760ca53fa4\"},\"root_ids\":[\"p1754\"]}];\n",
       "  var docs = Object.values(docs_json)\n",
       "  if (!docs) {\n",
       "    return\n",
       "  }\n",
       "  const py_version = docs[0].version.replace('rc', '-rc.').replace('.dev', '-dev.')\n",
       "  async function embed_document(root) {\n",
       "    var Bokeh = get_bokeh(root)\n",
       "    await Bokeh.embed.embed_items_notebook(docs_json, render_items);\n",
       "    for (const render_item of render_items) {\n",
       "      for (const root_id of render_item.root_ids) {\n",
       "\tconst id_el = document.getElementById(root_id)\n",
       "\tif (id_el.children.length && id_el.children[0].hasAttribute('data-root-id')) {\n",
       "\t  const root_el = id_el.children[0]\n",
       "\t  root_el.id = root_el.id + '-rendered'\n",
       "\t  for (const child of root_el.children) {\n",
       "            // Ensure JupyterLab does not capture keyboard shortcuts\n",
       "            // see: https://jupyterlab.readthedocs.io/en/4.1.x/extension/notebook.html#keyboard-interaction-model\n",
       "\t    child.setAttribute('data-lm-suppress-shortcuts', 'true')\n",
       "\t  }\n",
       "\t}\n",
       "      }\n",
       "    }\n",
       "  }\n",
       "  function get_bokeh(root) {\n",
       "    if (root.Bokeh === undefined) {\n",
       "      return null\n",
       "    } else if (root.Bokeh.version !== py_version) {\n",
       "      if (root.Bokeh.versions === undefined || !root.Bokeh.versions.has(py_version)) {\n",
       "\treturn null\n",
       "      }\n",
       "      return root.Bokeh.versions.get(py_version);\n",
       "    } else if (root.Bokeh.version === py_version) {\n",
       "      return root.Bokeh\n",
       "    }\n",
       "    return null\n",
       "  }\n",
       "  function is_loaded(root) {\n",
       "    var Bokeh = get_bokeh(root)\n",
       "    return (Bokeh != null && Bokeh.Panel !== undefined)\n",
       "  }\n",
       "  if (is_loaded(root)) {\n",
       "    embed_document(root);\n",
       "  } else {\n",
       "    var attempts = 0;\n",
       "    var timer = setInterval(function(root) {\n",
       "      if (is_loaded(root)) {\n",
       "        clearInterval(timer);\n",
       "        embed_document(root);\n",
       "      } else if (document.readyState == \"complete\") {\n",
       "        attempts++;\n",
       "        if (attempts > 200) {\n",
       "          clearInterval(timer);\n",
       "\t  var Bokeh = get_bokeh(root)\n",
       "\t  if (Bokeh == null || Bokeh.Panel == null) {\n",
       "            console.warn(\"Panel: ERROR: Unable to run Panel code because Bokeh or Panel library is missing\");\n",
       "\t  } else {\n",
       "\t    console.warn(\"Panel: WARNING: Attempting to render but not all required libraries could be resolved.\")\n",
       "\t    embed_document(root)\n",
       "\t  }\n",
       "        }\n",
       "      }\n",
       "    }, 25, root)\n",
       "  }\n",
       "})(window);</script>"
      ],
      "text/plain": [
       ":Table   [categories,book_returned,returning_book]"
      ]
     },
     "execution_count": 34,
     "metadata": {
      "application/vnd.holoviews_exec.v0+json": {
       "id": "p1754"
      }
     },
     "output_type": "execute_result"
    }
   ],
   "source": [
    "c_df = sub_library_df.group_by(\"categories\", \"book_returned\").agg(\n",
    "    returning_book=pl.count(\"categories\")\n",
    ")\n",
    "c_df = c_df.drop_nulls()\n",
    "\n",
    "c_df = c_df.filter(pl.col(\"book_returned\") != -1)\n",
    "\n",
    "c_df.hvplot.table(\n",
    "    columns=[\"categories\", \"book_returned\", \"returning_book\"],\n",
    "    sortable=True,\n",
    "    selectable=True,\n",
    ")"
   ]
  },
  {
   "cell_type": "markdown",
   "id": "60ee7554-b9b6-47de-96c4-c14cf78cf3d7",
   "metadata": {},
   "source": [
    "There are too many categories (147) and they apply the same principle and distribution ~ 70%:30% for returned and non-returned books."
   ]
  },
  {
   "cell_type": "markdown",
   "id": "9ca80f15-6de9-4539-b158-d3ba3301712b",
   "metadata": {},
   "source": [
    "### Finalizing dataset"
   ]
  },
  {
   "cell_type": "markdown",
   "id": "952718cd-eed3-4b60-a044-13382d8fd6da",
   "metadata": {},
   "source": [
    "After the feature analysis, final selection of the features is made. \n",
    "\n",
    "Features should be tested for correlation against the label. Another point to make is the labels are analyzed uniformly, without information about the libraries. Some libraries may have bigger issues than the others. "
   ]
  },
  {
   "cell_type": "code",
   "execution_count": 35,
   "id": "52893d54-db71-4f88-895b-a66e71ebf637",
   "metadata": {},
   "outputs": [],
   "source": [
    "dataset_df = library_df.select(\n",
    "    [\n",
    "        \"patron_id\",\n",
    "        \"id\",\n",
    "        \"name\",\n",
    "        \"gender\",\n",
    "        \"education\",\n",
    "        \"occupation\",\n",
    "        \"age_category\",\n",
    "        \"price\",\n",
    "        \"pages\",\n",
    "        \"book_returned\",\n",
    "    ]\n",
    ").rename({\"patron_id\": \"customer_id\", \"id\": \"book_id\", \"book_returned\": \"label\"})"
   ]
  },
  {
   "cell_type": "code",
   "execution_count": 36,
   "id": "b13ca3a1-ff27-421e-800b-f8ec570e952b",
   "metadata": {},
   "outputs": [
    {
     "name": "stdout",
     "output_type": "stream",
     "text": [
      "Dataset length before 'null' drops: 2000\n",
      "\n",
      "Dataset length after 'null' drops: 1700\n",
      "\n"
     ]
    }
   ],
   "source": [
    "print(f\"Dataset length before 'null' drops: {len(dataset_df)}\\n\")\n",
    "\n",
    "dataset_df = dataset_df.drop_nulls()\n",
    "\n",
    "print(f\"Dataset length after 'null' drops: {len(dataset_df)}\\n\")"
   ]
  },
  {
   "cell_type": "code",
   "execution_count": 37,
   "id": "74e896e8-62cb-4798-8555-e4adb6974142",
   "metadata": {},
   "outputs": [],
   "source": [
    "dataset_df = (\n",
    "    dataset_df.with_columns(\n",
    "        pl.col(\"gender\").cast(pl.Categorical).to_physical().alias(\"gender\")\n",
    "    )\n",
    "    .with_columns(\n",
    "        pl.col(\"education\").cast(pl.Categorical).to_physical().alias(\"education\")\n",
    "    )\n",
    "    .with_columns(\n",
    "        pl.col(\"occupation\").cast(pl.Categorical).to_physical().alias(\"occupation\")\n",
    "    )\n",
    "    .with_columns(\n",
    "        pl.col(\"age_category\").cast(pl.Categorical).to_physical().alias(\"age_category\")\n",
    "    )\n",
    ")"
   ]
  },
  {
   "cell_type": "code",
   "execution_count": 38,
   "id": "c3a2a13b-27e1-4c6d-a40f-b05c9a1cb00f",
   "metadata": {},
   "outputs": [],
   "source": [
    "dataset_df = dataset_df.with_columns(\n",
    "    ((pl.col(\"price\") - pl.col(\"price\").mean()) / pl.col(\"price\").std()).alias(\n",
    "        \"price_standardized\"\n",
    "    )\n",
    ")"
   ]
  },
  {
   "cell_type": "code",
   "execution_count": 39,
   "id": "589aa25d-543c-4993-ba99-8e066a4cc3ff",
   "metadata": {},
   "outputs": [],
   "source": [
    "dataset_df = dataset_df.with_columns(\n",
    "    ((pl.col(\"pages\") - pl.col(\"pages\").mean()) / pl.col(\"pages\").std()).alias(\n",
    "        \"pages_standardized\"\n",
    "    )\n",
    ")"
   ]
  },
  {
   "cell_type": "code",
   "execution_count": 40,
   "id": "8b61caff-188d-478e-9650-1af0cbb5458a",
   "metadata": {},
   "outputs": [],
   "source": [
    "# filter invalid labels\n",
    "dataset_df = dataset_df.filter(pl.col(\"label\") != -1)"
   ]
  },
  {
   "cell_type": "markdown",
   "id": "a3d5c095-c315-436d-95cd-9d6829dede51",
   "metadata": {},
   "source": [
    "#### Dataset visualized"
   ]
  },
  {
   "cell_type": "code",
   "execution_count": 41,
   "id": "1e4160d1-bd6e-44a7-b538-1eb3f9f15618",
   "metadata": {},
   "outputs": [
    {
     "data": {},
     "metadata": {},
     "output_type": "display_data"
    },
    {
     "data": {
      "application/vnd.holoviews_exec.v0+json": "",
      "text/html": [
       "<div id='p1790'>\n",
       "  <div id=\"d1570b0d-5138-49de-ae6e-f22c093e9b6a\" data-root-id=\"p1790\" style=\"display: contents;\"></div>\n",
       "</div>\n",
       "<script type=\"application/javascript\">(function(root) {\n",
       "  var docs_json = {\"b1a4fa07-c072-40bf-8a7a-a5279c19f7e9\":{\"version\":\"3.6.0\",\"title\":\"Bokeh Application\",\"roots\":[{\"type\":\"object\",\"name\":\"Row\",\"id\":\"p1790\",\"attributes\":{\"name\":\"Row02072\",\"tags\":[\"embedded\"],\"stylesheets\":[\"\\n:host(.pn-loading):before, .pn-loading:before {\\n  background-color: #c3c3c3;\\n  mask-size: auto calc(min(50%, 400px));\\n  -webkit-mask-size: auto calc(min(50%, 400px));\\n}\",{\"type\":\"object\",\"name\":\"ImportedStyleSheet\",\"id\":\"p1793\",\"attributes\":{\"url\":\"https://cdn.holoviz.org/panel/1.5.3/dist/css/loading.css\"}},{\"type\":\"object\",\"name\":\"ImportedStyleSheet\",\"id\":\"p1842\",\"attributes\":{\"url\":\"https://cdn.holoviz.org/panel/1.5.3/dist/css/listpanel.css\"}},{\"type\":\"object\",\"name\":\"ImportedStyleSheet\",\"id\":\"p1791\",\"attributes\":{\"url\":\"https://cdn.holoviz.org/panel/1.5.3/dist/bundled/theme/default.css\"}},{\"type\":\"object\",\"name\":\"ImportedStyleSheet\",\"id\":\"p1792\",\"attributes\":{\"url\":\"https://cdn.holoviz.org/panel/1.5.3/dist/bundled/theme/native.css\"}}],\"min_width\":700,\"margin\":0,\"sizing_mode\":\"stretch_width\",\"align\":\"start\",\"children\":[{\"type\":\"object\",\"name\":\"Spacer\",\"id\":\"p1794\",\"attributes\":{\"name\":\"HSpacer02079\",\"stylesheets\":[\"\\n:host(.pn-loading):before, .pn-loading:before {\\n  background-color: #c3c3c3;\\n  mask-size: auto calc(min(50%, 400px));\\n  -webkit-mask-size: auto calc(min(50%, 400px));\\n}\",{\"id\":\"p1793\"},{\"id\":\"p1791\"},{\"id\":\"p1792\"}],\"margin\":0,\"sizing_mode\":\"stretch_width\",\"align\":\"start\"}},{\"type\":\"object\",\"name\":\"DataTable\",\"id\":\"p1833\",\"attributes\":{\"width\":700,\"height\":300,\"source\":{\"type\":\"object\",\"name\":\"ColumnDataSource\",\"id\":\"p1795\",\"attributes\":{\"selected\":{\"type\":\"object\",\"name\":\"Selection\",\"id\":\"p1796\",\"attributes\":{\"indices\":[],\"line_indices\":[]}},\"selection_policy\":{\"type\":\"object\",\"name\":\"UnionRenderers\",\"id\":\"p1797\"},\"data\":{\"type\":\"map\",\"entries\":[[\"gender\",{\"type\":\"ndarray\",\"array\":{\"type\":\"bytes\",\"data\":\"AAAAAAEAAAAAAAAAAQAAAAEAAAAAAAAAAQAAAAEAAAAAAAAAAQAAAAEAAAABAAAAAQAAAAEAAAAAAAAAAQAAAAAAAAABAAAAAAAAAAAAAAABAAAAAAAAAAAAAAAAAAAAAAAAAAAAAAAAAAAAAQAAAAEAAAABAAAAAQAAAAAAAAAAAAAAAAAAAAAAAAABAAAAAAAAAAEAAAABAAAAAAAAAAAAAAABAAAAAAAAAAEAAAABAAAAAQAAAAEAAAABAAAAAQAAAAEAAAAAAAAAAAAAAAEAAAABAAAAAAAAAAEAAAABAAAAAAAAAAAAAAABAAAAAQAAAAEAAAAAAAAAAQAAAAAAAAABAAAAAAAAAAEAAAAAAAAAAAAAAAEAAAAAAAAAAAAAAAAAAAABAAAAAQAAAAEAAAABAAAAAAAAAAEAAAABAAAAAQAAAAEAAAABAAAAAAAAAAAAAAAAAAAAAAAAAAAAAAAAAAAAAAAAAAAAAAAAAAAAAAAAAAAAAAAAAAAAAAAAAAEAAAAAAAAAAAAAAAAAAAABAAAAAQAAAAEAAAAAAAAAAAAAAAAAAAAAAAAAAAAAAAAAAAABAAAAAAAAAAAAAAAAAAAAAAAAAAEAAAAAAAAAAAAAAAEAAAABAAAAAQAAAAAAAAAAAAAAAAAAAAEAAAABAAAAAAAAAAAAAAABAAAAAAAAAAEAAAABAAAAAAAAAAAAAAABAAAAAAAAAAAAAAAAAAAAAQAAAAAAAAAAAAAAAAAAAAEAAAABAAAAAQAAAAEAAAABAAAAAQAAAAAAAAAAAAAAAAAAAAAAAAABAAAAAQAAAAAAAAAAAAAAAQAAAAEAAAAAAAAAAAAAAAEAAAABAAAAAQAAAAEAAAAAAAAAAQAAAAEAAAABAAAAAAAAAAEAAAAAAAAAAAAAAAAAAAAAAAAAAAAAAAEAAAAAAAAAAAAAAAAAAAABAAAAAQAAAAAAAAAAAAAAAQAAAAEAAAABAAAAAAAAAAAAAAABAAAAAAAAAAAAAAAAAAAAAQAAAAEAAAAAAAAAAAAAAAEAAAAAAAAAAQAAAAAAAAAAAAAAAAAAAAAAAAABAAAAAQAAAAAAAAABAAAAAQAAAAEAAAABAAAAAAAAAAEAAAABAAAAAQAAAAAAAAAAAAAAAAAAAAEAAAABAAAAAQAAAAAAAAABAAAAAAAAAAEAAAABAAAAAQAAAAAAAAAAAAAAAAAAAAAAAAAAAAAAAQAAAAEAAAAAAAAAAAAAAAEAAAABAAAAAAAAAAEAAAABAAAAAAAAAAEAAAABAAAAAAAAAAEAAAABAAAAAAAAAAEAAAABAAAAAAAAAAEAAAABAAAAAQAAAAAAAAABAAAAAQAAAAEAAAAAAAAAAAAAAAEAAAAAAAAAAQAAAAEAAAAAAAAAAAAAAAAAAAAAAAAAAAAAAAAAAAAAAAAAAAAAAAEAAAAAAAAAAAAAAAAAAAABAAAAAQAAAAAAAAAAAAAAAAAAAAEAAAAAAAAAAAAAAAAAAAABAAAAAAAAAAAAAAAAAAAAAAAAAAEAAAABAAAAAAAAAAEAAAAAAAAAAAAAAAAAAAAAAAAAAAAAAAAAAAABAAAAAQAAAAEAAAAAAAAAAQAAAAEAAAABAAAAAAAAAAAAAAABAAAAAQAAAAAAAAABAAAAAAAAAAEAAAAAAAAAAQAAAAAAAAAAAAAAAQAAAAEAAAAAAAAAAAAAAAAAAAAAAAAAAAAAAAEAAAABAAAAAQAAAAEAAAAAAAAAAQAAAAEAAAAAAAAAAAAAAAAAAAABAAAAAAAAAAAAAAAAAAAAAQAAAAEAAAAAAAAAAQAAAAEAAAABAAAAAAAAAAEAAAAAAAAAAAAAAAAAAAABAAAAAAAAAAEAAAABAAAAAAAAAAEAAAAAAAAAAQAAAAEAAAAAAAAAAAAAAAEAAAAAAAAAAAAAAAEAAAABAAAAAAAAAAAAAAAAAAAAAAAAAAAAAAAAAAAAAAAAAAAAAAAAAAAAAQAAAAEAAAAAAAAAAQAAAAAAAAAAAAAAAAAAAAAAAAAAAAAAAAAAAAEAAAAAAAAAAQAAAAAAAAABAAAAAAAAAAEAAAABAAAAAQAAAAAAAAAAAAAAAAAAAAEAAAABAAAAAQAAAAAAAAABAAAAAQAAAAEAAAABAAAAAAAAAAAAAAABAAAAAQAAAAEAAAABAAAAAAAAAAAAAAAAAAAAAAAAAAEAAAAAAAAAAAAAAAAAAAABAAAAAAAAAAAAAAAAAAAAAQAAAAEAAAAAAAAAAQAAAAEAAAABAAAAAAAAAAAAAAAAAAAAAQAAAAEAAAAAAAAAAAAAAAAAAAABAAAAAQAAAAEAAAAAAAAAAAAAAAEAAAAAAAAAAAAAAAAAAAAAAAAAAQAAAAEAAAAAAAAAAQAAAAAAAAAAAAAAAAAAAAEAAAAAAAAAAAAAAAEAAAAAAAAAAQAAAAAAAAABAAAAAQAAAAEAAAABAAAAAAAAAAAAAAAAAAAAAAAAAAAAAAAAAAAAAQAAAAAAAAAAAAAAAAAAAAAAAAAAAAAAAQAAAAEAAAABAAAAAAAAAAEAAAABAAAAAQAAAAEAAAABAAAAAQAAAAAAAAAAAAAAAAAAAAEAAAABAAAAAQAAAAEAAAAAAAAAAQAAAAEAAAAAAAAAAAAAAAAAAAABAAAAAQAAAAAAAAABAAAAAQAAAAAAAAAAAAAAAAAAAAEAAAAAAAAAAQAAAAAAAAABAAAAAAAAAAAAAAABAAAAAQAAAAAAAAAAAAAAAQAAAAAAAAABAAAAAQAAAAAAAAABAAAAAAAAAAAAAAABAAAAAQAAAAAAAAABAAAAAAAAAAEAAAABAAAAAQAAAAAAAAABAAAAAAAAAAAAAAABAAAAAQAAAAEAAAABAAAAAAAAAAEAAAABAAAAAQAAAAEAAAAAAAAAAQAAAAAAAAABAAAAAQAAAAEAAAABAAAAAAAAAAAAAAAAAAAAAQAAAAEAAAAAAAAAAAAAAAEAAAAAAAAAAAAAAAEAAAAAAAAAAQAAAAAAAAAAAAAAAAAAAAEAAAABAAAAAAAAAAEAAAABAAAAAAAAAAEAAAABAAAAAQAAAAEAAAAAAAAAAAAAAAEAAAAAAAAAAQAAAAAAAAAAAAAAAAAAAAAAAAAAAAAAAQAAAAEAAAABAAAAAQAAAAAAAAAAAAAAAAAAAAAAAAABAAAAAQAAAAEAAAAAAAAAAAAAAAEAAAABAAAAAAAAAAAAAAABAAAAAAAAAAEAAAABAAAAAAAAAAEAAAAAAAAAAAAAAAAAAAABAAAAAQAAAAEAAAAAAAAAAQAAAAAAAAABAAAAAAAAAAEAAAABAAAAAAAAAAAAAAAAAAAAAAAAAAEAAAAAAAAAAAAAAAAAAAABAAAAAAAAAAAAAAABAAAAAAAAAAAAAAAAAAAAAAAAAAAAAAABAAAAAAAAAAAAAAAAAAAAAQAAAAAAAAABAAAAAAAAAAEAAAABAAAAAQAAAAAAAAABAAAAAQAAAAEAAAABAAAAAAAAAAEAAAABAAAAAAAAAAAAAAABAAAAAAAAAAEAAAABAAAAAQAAAAEAAAAAAAAAAQAAAAAAAAAAAAAAAQAAAAEAAAABAAAAAAAAAAAAAAAAAAAAAAAAAAAAAAAAAAAAAAAAAAEAAAABAAAAAQAAAAEAAAAAAAAAAQAAAAEAAAABAAAAAAAAAAEAAAAAAAAAAQAAAAEAAAAAAAAAAAAAAAEAAAAAAAAAAAAAAAEAAAAAAAAAAQAAAAAAAAAAAAAAAQAAAAEAAAABAAAAAAAAAAEAAAABAAAAAAAAAAEAAAABAAAAAQAAAAEAAAAAAAAAAAAAAAEAAAABAAAAAQAAAAEAAAAAAAAAAQAAAAAAAAAAAAAAAQAAAAAAAAAAAAAAAQAAAAAAAAABAAAAAQAAAAEAAAAAAAAAAQAAAAAAAAAAAAAAAQAAAAAAAAABAAAAAQAAAAAAAAABAAAAAQAAAAEAAAAAAAAAAQAAAAEAAAABAAAAAQAAAAAAAAAAAAAAAQAAAAAAAAAAAAAAAAAAAAEAAAAAAAAAAAAAAAEAAAAAAAAAAAAAAAAAAAAAAAAAAQAAAAAAAAAAAAAAAAAAAAEAAAAAAAAAAQAAAAAAAAAAAAAAAAAAAAEAAAAAAAAAAQAAAAAAAAABAAAAAAAAAAEAAAAAAAAAAQAAAAAAAAABAAAAAAAAAAAAAAABAAAAAAAAAAEAAAABAAAAAAAAAAEAAAABAAAAAQAAAAAAAAAAAAAAAQAAAAAAAAABAAAAAQAAAAEAAAABAAAAAAAAAAEAAAABAAAAAAAAAAAAAAAAAAAAAQAAAAAAAAAAAAAAAQAAAAAAAAABAAAAAAAAAAAAAAAAAAAAAQAAAAAAAAAAAAAAAAAAAAAAAAAAAAAAAQAAAAAAAAABAAAAAQAAAAEAAAABAAAAAAAAAAEAAAAAAAAAAAAAAAEAAAABAAAAAAAAAAEAAAAAAAAAAQAAAAEAAAABAAAAAQAAAAEAAAAAAAAAAQAAAAEAAAABAAAAAQAAAAEAAAAAAAAAAAAAAAEAAAAAAAAAAAAAAAEAAAABAAAAAAAAAAAAAAABAAAAAQAAAAAAAAAAAAAAAQAAAAEAAAABAAAAAAAAAAEAAAAAAAAAAAAAAAAAAAAAAAAAAQAAAAEAAAAAAAAAAQAAAAAAAAABAAAAAQAAAAAAAAABAAAAAQAAAAAAAAABAAAAAQAAAAEAAAABAAAAAAAAAAAAAAABAAAAAAAAAAAAAAABAAAAAAAAAAAAAAAAAAAAAQAAAAEAAAAAAAAAAAAAAAEAAAAAAAAAAAAAAAAAAAABAAAAAQAAAAAAAAAAAAAAAQAAAAAAAAABAAAAAQAAAAEAAAAAAAAAAAAAAAEAAAAAAAAAAQAAAAEAAAABAAAAAAAAAAAAAAAAAAAAAAAAAAAAAAAAAAAAAAAAAAAAAAABAAAAAAAAAAAAAAAAAAAAAAAAAAEAAAAAAAAAAQAAAAAAAAAAAAAAAAAAAAEAAAAAAAAAAAAAAAEAAAABAAAAAAAAAAEAAAABAAAAAAAAAAAAAAAAAAAAAAAAAAAAAAABAAAAAAAAAAEAAAABAAAAAAAAAAAAAAAAAAAAAAAAAAEAAAAAAAAAAAAAAAEAAAABAAAAAQAAAAEAAAABAAAAAAAAAAEAAAABAAAAAAAAAAEAAAABAAAAAQAAAAAAAAAAAAAAAQAAAAEAAAABAAAAAQAAAAAAAAABAAAAAAAAAAEAAAABAAAAAAAAAAEAAAAAAAAAAAAAAAAAAAABAAAAAQAAAAAAAAABAAAAAQAAAAEAAAAAAAAAAAAAAAAAAAABAAAAAQAAAAEAAAAAAAAAAAAAAAEAAAABAAAAAQAAAAEAAAAAAAAAAAAAAAEAAAABAAAAAAAAAAAAAAAAAAAAAAAAAAAAAAAAAAAAAQAAAAAAAAABAAAAAQAAAAAAAAAAAAAAAQAAAAEAAAAAAAAAAQAAAAAAAAAAAAAAAQAAAAEAAAAAAAAAAQAAAAAAAAABAAAAAQAAAAEAAAABAAAAAAAAAAAAAAAAAAAAAQAAAAEAAAAAAAAAAAAAAAAAAAABAAAAAQAAAAEAAAAAAAAAAQAAAAEAAAABAAAAAAAAAAEAAAABAAAAAAAAAAAAAAABAAAAAAAAAAEAAAABAAAAAQAAAAEAAAAAAAAAAAAAAAEAAAABAAAAAAAAAAAAAAABAAAAAQAAAAAAAAABAAAAAAAAAAEAAAABAAAAAQAAAAAAAAAAAAAAAQAAAAEAAAAAAAAAAAAAAAEAAAAAAAAAAQAAAAEAAAAAAAAAAQAAAAAAAAAAAAAAAQAAAAAAAAABAAAAAQAAAAEAAAABAAAAAQAAAAEAAAABAAAAAAAAAAAAAAAAAAAAAAAAAAAAAAABAAAAAAAAAAAAAAAAAAAAAAAAAAEAAAAAAAAAAQAAAAEAAAAAAAAAAQAAAAEAAAABAAAAAAAAAAEAAAAAAAAAAQAAAAAAAAABAAAAAQAAAAEAAAABAAAAAAAAAAEAAAABAAAAAQAAAAEAAAAAAAAAAQAAAAAAAAAAAAAAAQAAAAAAAAAAAAAAAAAAAAAAAAABAAAAAQAAAAEAAAABAAAAAQAAAAAAAAAAAAAAAQAAAAEAAAABAAAAAQAAAAEAAAABAAAAAQAAAAAAAAABAAAAAQAAAAEAAAABAAAAAAAAAAAAAAAAAAAAAAAAAAAAAAABAAAAAAAAAAAAAAAAAAAAAAAAAAEAAAAAAAAAAQAAAAEAAAAAAAAAAAAAAAAAAAABAAAAAQAAAAEAAAAAAAAAAAAAAAAAAAABAAAAAAAAAAAAAAABAAAAAQAAAAAAAAABAAAAAAAAAAAAAAAAAAAAAAAAAAAAAAAAAAAAAAAAAAEAAAAAAAAAAAAAAAEAAAAAAAAAAQAAAAEAAAAAAAAAAAAAAAEAAAABAAAAAQAAAAAAAAABAAAAAAAAAAAAAAABAAAAAQAAAAAAAAABAAAAAAAAAAEAAAAAAAAAAQAAAAEAAAAAAAAAAQAAAAAAAAABAAAAAQAAAAEAAAABAAAAAQAAAAAAAAABAAAAAQAAAAEAAAABAAAAAQAAAAAAAAAAAAAAAQAAAAEAAAAAAAAAAQAAAAAAAAAAAAAAAAAAAAAAAAAAAAAAAAAAAAAAAAAAAAAAAQAAAAEAAAABAAAAAQAAAAAAAAAAAAAAAQAAAAAAAAAAAAAAAAAAAAAAAAAAAAAAAQAAAAEAAAAAAAAAAQAAAAAAAAABAAAAAAAAAAAAAAABAAAAAQAAAAAAAAABAAAAAQAAAAAAAAABAAAAAAAAAAAAAAABAAAAAAAAAAEAAAAAAAAAAQAAAAEAAAAAAAAAAAAAAAAAAAAAAAAAAAAAAAEAAAABAAAAAQAAAAEAAAAAAAAAAQAAAAAAAAABAAAAAAAAAAAAAAABAAAAAAAAAAAAAAABAAAAAAAAAAEAAAAAAAAAAQAAAAEAAAAAAAAAAQAAAAEAAAABAAAAAAAAAAAAAAAAAAAAAAAAAAEAAAAAAAAAAAAAAAAAAAABAAAAAQAAAAEAAAAAAAAAAAAAAAEAAAAAAAAAAAAAAAEAAAABAAAAAAAAAAAAAAAAAAAAAQAAAAAAAAABAAAAAQAAAAEAAAABAAAAAAAAAAEAAAAAAAAAAQAAAAAAAAABAAAAAQAAAAAAAAAAAAAAAAAAAAAAAAAAAAAAAAAAAAEAAAABAAAAAAAAAAEAAAABAAAAAQAAAAAAAAAAAAAAAAAAAAAAAAAAAAAAAAAAAAAAAAABAAAAAAAAAAEAAAABAAAAAAAAAAAAAAAAAAAAAQAAAAAAAAAAAAAAAAAAAAEAAAABAAAAAQAAAAAAAAAAAAAAAQAAAAAAAAAAAAAAAAAAAAAAAAABAAAAAAAAAAAAAAAAAAAAAAAAAAEAAAABAAAAAAAAAAAAAAABAAAAAQAAAAAAAAABAAAAAAAAAAAAAAAAAAAAAQAAAAEAAAAAAAAA\"},\"shape\":[1413],\"dtype\":\"uint32\",\"order\":\"little\"}],[\"education\",{\"type\":\"ndarray\",\"array\":{\"type\":\"bytes\",\"data\":\"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\"},\"shape\":[1413],\"dtype\":\"uint32\",\"order\":\"little\"}],[\"occupation\",{\"type\":\"ndarray\",\"array\":{\"type\":\"bytes\",\"data\":\"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\"},\"shape\":[1413],\"dtype\":\"uint32\",\"order\":\"little\"}],[\"age_category\",{\"type\":\"ndarray\",\"array\":{\"type\":\"bytes\",\"data\":\"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\"},\"shape\":[1413],\"dtype\":\"uint32\",\"order\":\"little\"}],[\"price_standardized\",{\"type\":\"ndarray\",\"array\":{\"type\":\"bytes\",\"data\":\"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\"},\"shape\":[1413],\"dtype\":\"float32\",\"order\":\"little\"}],[\"pages_standardized\",{\"type\":\"ndarray\",\"array\":{\"type\":\"bytes\",\"data\":\"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\"},\"shape\":[1413],\"dtype\":\"float64\",\"order\":\"little\"}],[\"label\",{\"type\":\"ndarray\",\"array\":{\"type\":\"bytes\",\"data\":\"AQAAAAEAAAABAAAAAQAAAAAAAAAAAAAAAAAAAAEAAAABAAAAAQAAAAEAAAABAAAAAQAAAAEAAAAAAAAAAQAAAAAAAAABAAAAAQAAAAEAAAAAAAAAAQAAAAEAAAABAAAAAQAAAAEAAAABAAAAAQAAAAEAAAABAAAAAAAAAAAAAAAAAAAAAQAAAAEAAAABAAAAAAAAAAEAAAABAAAAAQAAAAEAAAABAAAAAQAAAAEAAAABAAAAAQAAAAEAAAABAAAAAAAAAAEAAAABAAAAAQAAAAEAAAAAAAAAAQAAAAEAAAAAAAAAAQAAAAEAAAABAAAAAQAAAAEAAAAAAAAAAQAAAAAAAAABAAAAAQAAAAEAAAAAAAAAAQAAAAEAAAABAAAAAAAAAAEAAAABAAAAAAAAAAEAAAABAAAAAQAAAAEAAAABAAAAAAAAAAEAAAABAAAAAQAAAAAAAAABAAAAAQAAAAEAAAABAAAAAQAAAAEAAAABAAAAAQAAAAEAAAAAAAAAAQAAAAEAAAABAAAAAAAAAAEAAAABAAAAAQAAAAEAAAABAAAAAQAAAAEAAAABAAAAAAAAAAEAAAABAAAAAQAAAAAAAAABAAAAAAAAAAEAAAABAAAAAQAAAAAAAAABAAAAAQAAAAEAAAABAAAAAQAAAAEAAAABAAAAAQAAAAEAAAABAAAAAAAAAAAAAAABAAAAAQAAAAEAAAABAAAAAQAAAAAAAAABAAAAAQAAAAAAAAABAAAAAQAAAAAAAAAAAAAAAAAAAAEAAAABAAAAAQAAAAEAAAABAAAAAQAAAAEAAAAAAAAAAQAAAAEAAAABAAAAAAAAAAAAAAABAAAAAQAAAAEAAAABAAAAAAAAAAEAAAABAAAAAQAAAAEAAAAAAAAAAQAAAAAAAAAAAAAAAAAAAAEAAAABAAAAAQAAAAEAAAAAAAAAAAAAAAEAAAAAAAAAAAAAAAEAAAAAAAAAAQAAAAEAAAAAAAAAAAAAAAEAAAAAAAAAAQAAAAEAAAABAAAAAQAAAAEAAAAAAAAAAAAAAAEAAAABAAAAAQAAAAEAAAABAAAAAAAAAAAAAAABAAAAAQAAAAEAAAABAAAAAAAAAAAAAAABAAAAAQAAAAAAAAAAAAAAAAAAAAAAAAABAAAAAQAAAAEAAAAAAAAAAQAAAAEAAAABAAAAAAAAAAEAAAABAAAAAQAAAAEAAAAAAAAAAQAAAAAAAAABAAAAAQAAAAEAAAAAAAAAAQAAAAAAAAABAAAAAAAAAAAAAAABAAAAAAAAAAEAAAABAAAAAAAAAAEAAAAAAAAAAQAAAAEAAAABAAAAAQAAAAEAAAABAAAAAQAAAAEAAAABAAAAAQAAAAEAAAABAAAAAQAAAAEAAAABAAAAAAAAAAAAAAAAAAAAAAAAAAEAAAABAAAAAQAAAAEAAAABAAAAAQAAAAEAAAAAAAAAAQAAAAEAAAABAAAAAAAAAAEAAAABAAAAAQAAAAEAAAABAAAAAQAAAAEAAAAAAAAAAAAAAAEAAAABAAAAAQAAAAEAAAABAAAAAAAAAAEAAAAAAAAAAQAAAAEAAAABAAAAAQAAAAEAAAAAAAAAAQAAAAEAAAABAAAAAAAAAAEAAAABAAAAAQAAAAEAAAAAAAAAAQAAAAAAAAAAAAAAAQAAAAEAAAABAAAAAQAAAAEAAAABAAAAAQAAAAEAAAABAAAAAQAAAAAAAAAAAAAAAQAAAAAAAAABAAAAAQAAAAEAAAABAAAAAQAAAAEAAAABAAAAAQAAAAEAAAABAAAAAQAAAAEAAAABAAAAAQAAAAAAAAAAAAAAAQAAAAEAAAABAAAAAQAAAAEAAAABAAAAAQAAAAAAAAABAAAAAAAAAAEAAAABAAAAAQAAAAEAAAABAAAAAAAAAAEAAAABAAAAAQAAAAEAAAAAAAAAAQAAAAEAAAAAAAAAAQAAAAAAAAABAAAAAQAAAAEAAAAAAAAAAQAAAAEAAAAAAAAAAQAAAAAAAAABAAAAAAAAAAEAAAABAAAAAQAAAAEAAAAAAAAAAQAAAAAAAAABAAAAAAAAAAAAAAABAAAAAQAAAAEAAAABAAAAAQAAAAEAAAABAAAAAQAAAAAAAAABAAAAAAAAAAEAAAAAAAAAAAAAAAEAAAABAAAAAQAAAAEAAAABAAAAAQAAAAEAAAABAAAAAQAAAAAAAAABAAAAAQAAAAAAAAABAAAAAAAAAAAAAAABAAAAAQAAAAEAAAABAAAAAAAAAAEAAAAAAAAAAAAAAAEAAAABAAAAAAAAAAEAAAABAAAAAQAAAAEAAAABAAAAAQAAAAEAAAAAAAAAAQAAAAAAAAABAAAAAQAAAAEAAAABAAAAAQAAAAAAAAAAAAAAAQAAAAEAAAABAAAAAQAAAAAAAAABAAAAAQAAAAEAAAABAAAAAAAAAAEAAAABAAAAAQAAAAEAAAABAAAAAQAAAAAAAAABAAAAAAAAAAEAAAABAAAAAQAAAAEAAAABAAAAAQAAAAAAAAAAAAAAAQAAAAEAAAABAAAAAQAAAAEAAAABAAAAAQAAAAEAAAABAAAAAQAAAAEAAAABAAAAAQAAAAEAAAABAAAAAQAAAAAAAAAAAAAAAQAAAAEAAAABAAAAAAAAAAEAAAABAAAAAAAAAAAAAAAAAAAAAQAAAAEAAAAAAAAAAQAAAAEAAAAAAAAAAQAAAAAAAAABAAAAAQAAAAEAAAABAAAAAQAAAAEAAAAAAAAAAAAAAAEAAAABAAAAAQAAAAEAAAABAAAAAQAAAAEAAAABAAAAAAAAAAAAAAABAAAAAQAAAAEAAAABAAAAAQAAAAEAAAABAAAAAAAAAAEAAAABAAAAAQAAAAEAAAABAAAAAQAAAAAAAAABAAAAAAAAAAAAAAAAAAAAAAAAAAEAAAABAAAAAQAAAAAAAAAAAAAAAQAAAAEAAAAAAAAAAAAAAAEAAAAAAAAAAQAAAAAAAAAAAAAAAQAAAAEAAAABAAAAAQAAAAEAAAABAAAAAQAAAAAAAAAAAAAAAAAAAAEAAAABAAAAAAAAAAEAAAABAAAAAQAAAAEAAAABAAAAAQAAAAEAAAAAAAAAAQAAAAEAAAABAAAAAQAAAAEAAAABAAAAAAAAAAAAAAAAAAAAAQAAAAEAAAAAAAAAAQAAAAEAAAAAAAAAAAAAAAEAAAABAAAAAQAAAAEAAAABAAAAAAAAAAEAAAABAAAAAQAAAAEAAAAAAAAAAAAAAAEAAAABAAAAAQAAAAEAAAABAAAAAQAAAAEAAAABAAAAAQAAAAAAAAABAAAAAAAAAAEAAAABAAAAAQAAAAAAAAABAAAAAQAAAAEAAAABAAAAAQAAAAAAAAABAAAAAQAAAAEAAAABAAAAAQAAAAEAAAAAAAAAAQAAAAAAAAABAAAAAAAAAAEAAAABAAAAAQAAAAAAAAABAAAAAQAAAAEAAAAAAAAAAQAAAAEAAAABAAAAAQAAAAEAAAABAAAAAQAAAAEAAAABAAAAAQAAAAEAAAABAAAAAQAAAAEAAAABAAAAAQAAAAEAAAABAAAAAQAAAAEAAAAAAAAAAQAAAAAAAAAAAAAAAAAAAAEAAAAAAAAAAAAAAAEAAAAAAAAAAQAAAAEAAAABAAAAAQAAAAEAAAABAAAAAQAAAAEAAAABAAAAAQAAAAEAAAABAAAAAQAAAAEAAAABAAAAAQAAAAEAAAAAAAAAAQAAAAEAAAABAAAAAQAAAAEAAAABAAAAAQAAAAAAAAABAAAAAQAAAAEAAAABAAAAAQAAAAEAAAAAAAAAAQAAAAAAAAABAAAAAQAAAAEAAAAAAAAAAAAAAAAAAAABAAAAAQAAAAEAAAABAAAAAQAAAAEAAAABAAAAAQAAAAEAAAABAAAAAQAAAAEAAAABAAAAAQAAAAEAAAABAAAAAAAAAAEAAAABAAAAAAAAAAEAAAABAAAAAQAAAAEAAAAAAAAAAQAAAAEAAAABAAAAAQAAAAAAAAABAAAAAQAAAAEAAAABAAAAAQAAAAEAAAAAAAAAAAAAAAEAAAABAAAAAQAAAAEAAAABAAAAAQAAAAEAAAAAAAAAAQAAAAEAAAABAAAAAQAAAAEAAAABAAAAAQAAAAEAAAABAAAAAQAAAAEAAAABAAAAAQAAAAEAAAABAAAAAQAAAAEAAAABAAAAAQAAAAEAAAABAAAAAQAAAAAAAAABAAAAAQAAAAEAAAABAAAAAQAAAAAAAAABAAAAAQAAAAEAAAABAAAAAQAAAAAAAAABAAAAAQAAAAAAAAABAAAAAAAAAAEAAAABAAAAAQAAAAEAAAABAAAAAQAAAAEAAAABAAAAAQAAAAEAAAABAAAAAQAAAAEAAAABAAAAAQAAAAAAAAABAAAAAAAAAAEAAAABAAAAAAAAAAEAAAABAAAAAQAAAAEAAAABAAAAAQAAAAAAAAABAAAAAAAAAAEAAAABAAAAAAAAAAEAAAAAAAAAAQAAAAEAAAAAAAAAAAAAAAEAAAAAAAAAAQAAAAEAAAABAAAAAQAAAAEAAAABAAAAAQAAAAEAAAABAAAAAQAAAAEAAAABAAAAAQAAAAEAAAABAAAAAAAAAAEAAAABAAAAAAAAAAAAAAAAAAAAAAAAAAEAAAABAAAAAQAAAAAAAAAAAAAAAQAAAAEAAAABAAAAAQAAAAEAAAABAAAAAAAAAAEAAAAAAAAAAQAAAAAAAAABAAAAAQAAAAEAAAAAAAAAAQAAAAEAAAABAAAAAQAAAAAAAAABAAAAAQAAAAEAAAAAAAAAAQAAAAEAAAABAAAAAQAAAAAAAAABAAAAAQAAAAEAAAAAAAAAAQAAAAEAAAABAAAAAQAAAAEAAAABAAAAAQAAAAEAAAABAAAAAQAAAAEAAAABAAAAAAAAAAAAAAABAAAAAQAAAAEAAAAAAAAAAQAAAAEAAAAAAAAAAQAAAAEAAAABAAAAAQAAAAEAAAABAAAAAQAAAAEAAAAAAAAAAAAAAAEAAAABAAAAAQAAAAEAAAABAAAAAAAAAAEAAAABAAAAAQAAAAEAAAABAAAAAQAAAAEAAAAAAAAAAQAAAAEAAAABAAAAAQAAAAEAAAABAAAAAQAAAAEAAAABAAAAAQAAAAEAAAABAAAAAQAAAAEAAAAAAAAAAQAAAAEAAAAAAAAAAAAAAAAAAAAAAAAAAQAAAAEAAAABAAAAAQAAAAEAAAAAAAAAAAAAAAEAAAABAAAAAQAAAAEAAAABAAAAAQAAAAAAAAABAAAAAQAAAAAAAAABAAAAAQAAAAEAAAABAAAAAQAAAAEAAAAAAAAAAQAAAAEAAAABAAAAAQAAAAEAAAAAAAAAAQAAAAEAAAABAAAAAAAAAAEAAAAAAAAAAQAAAAEAAAABAAAAAQAAAAAAAAABAAAAAAAAAAEAAAABAAAAAAAAAAEAAAAAAAAAAQAAAAEAAAAAAAAAAQAAAAEAAAABAAAAAQAAAAEAAAABAAAAAQAAAAEAAAABAAAAAQAAAAAAAAABAAAAAQAAAAEAAAAAAAAAAQAAAAEAAAAAAAAAAAAAAAEAAAABAAAAAQAAAAEAAAABAAAAAQAAAAEAAAAAAAAAAQAAAAEAAAABAAAAAQAAAAEAAAABAAAAAAAAAAEAAAABAAAAAAAAAAEAAAABAAAAAQAAAAEAAAAAAAAAAAAAAAEAAAAAAAAAAAAAAAEAAAAAAAAAAQAAAAAAAAABAAAAAQAAAAEAAAABAAAAAAAAAAEAAAABAAAAAAAAAAEAAAAAAAAAAAAAAAAAAAABAAAAAAAAAAEAAAAAAAAAAQAAAAEAAAABAAAAAAAAAAEAAAABAAAAAAAAAAEAAAABAAAAAQAAAAEAAAABAAAAAAAAAAEAAAABAAAAAAAAAAEAAAABAAAAAQAAAAEAAAABAAAAAQAAAAAAAAAAAAAAAQAAAAEAAAAAAAAAAAAAAAEAAAABAAAAAQAAAAAAAAABAAAAAAAAAAEAAAABAAAAAQAAAAEAAAABAAAAAQAAAAEAAAAAAAAAAQAAAAAAAAAAAAAAAAAAAAEAAAAAAAAAAQAAAAEAAAABAAAAAQAAAAEAAAABAAAAAAAAAAEAAAABAAAAAQAAAAEAAAAAAAAAAAAAAAAAAAABAAAAAQAAAAEAAAAAAAAAAQAAAAEAAAABAAAAAQAAAAEAAAABAAAAAQAAAAEAAAABAAAAAQAAAAEAAAABAAAAAQAAAAAAAAABAAAAAAAAAAEAAAABAAAAAAAAAAAAAAAAAAAAAAAAAAEAAAABAAAAAQAAAAEAAAABAAAAAQAAAAEAAAABAAAAAAAAAAEAAAABAAAAAQAAAAEAAAABAAAAAQAAAAEAAAABAAAAAAAAAAEAAAABAAAAAAAAAAAAAAAAAAAAAQAAAAAAAAAAAAAAAAAAAAEAAAABAAAAAQAAAAEAAAAAAAAAAAAAAAAAAAAAAAAAAQAAAAEAAAABAAAAAQAAAAAAAAABAAAAAAAAAAEAAAABAAAAAQAAAAEAAAABAAAAAQAAAAEAAAABAAAAAAAAAAEAAAABAAAAAQAAAAEAAAABAAAAAQAAAAEAAAABAAAAAQAAAAEAAAABAAAAAQAAAAAAAAABAAAAAQAAAAEAAAABAAAAAQAAAAEAAAABAAAAAAAAAAEAAAABAAAAAAAAAAEAAAABAAAAAQAAAAEAAAABAAAAAQAAAAEAAAABAAAAAQAAAAEAAAABAAAAAQAAAAEAAAABAAAAAQAAAAEAAAAAAAAAAAAAAAEAAAABAAAAAQAAAAEAAAABAAAAAAAAAAAAAAABAAAAAAAAAAEAAAABAAAAAAAAAAAAAAABAAAAAQAAAAEAAAABAAAAAAAAAAAAAAAAAAAAAQAAAAEAAAABAAAAAQAAAAAAAAABAAAAAQAAAAEAAAAAAAAAAQAAAAEAAAABAAAAAQAAAAEAAAABAAAAAQAAAAEAAAAAAAAAAQAAAAEAAAAAAAAAAQAAAAEAAAABAAAAAAAAAAEAAAABAAAAAQAAAAEAAAABAAAAAQAAAAEAAAAAAAAAAQAAAAEAAAABAAAAAQAAAAEAAAABAAAAAAAAAAEAAAABAAAAAQAAAAEAAAABAAAAAQAAAAEAAAABAAAAAQAAAAEAAAABAAAAAAAAAAEAAAABAAAAAQAAAAEAAAAAAAAAAQAAAAEAAAABAAAAAAAAAAEAAAABAAAAAQAAAAEAAAABAAAAAQAAAAAAAAABAAAAAAAAAAEAAAABAAAAAQAAAAEAAAABAAAAAQAAAAAAAAABAAAAAQAAAAEAAAABAAAAAQAAAAEAAAABAAAAAQAAAAEAAAABAAAAAQAAAAAAAAABAAAAAQAAAAEAAAABAAAAAQAAAAEAAAABAAAAAQAAAAAAAAABAAAAAQAAAAEAAAABAAAAAQAAAAEAAAABAAAAAQAAAAEAAAABAAAAAQAAAAEAAAABAAAAAAAAAAEAAAABAAAAAQAAAAAAAAAAAAAAAQAAAAEAAAABAAAA\"},\"shape\":[1413],\"dtype\":\"int32\",\"order\":\"little\"}]]}}},\"view\":{\"type\":\"object\",\"name\":\"CDSView\",\"id\":\"p1837\",\"attributes\":{\"filter\":{\"type\":\"object\",\"name\":\"AllIndices\",\"id\":\"p1838\"}}},\"columns\":[{\"type\":\"object\",\"name\":\"TableColumn\",\"id\":\"p1800\",\"attributes\":{\"field\":\"gender\",\"title\":\"gender\",\"formatter\":{\"type\":\"object\",\"name\":\"StringFormatter\",\"id\":\"p1798\"},\"editor\":{\"type\":\"object\",\"name\":\"StringEditor\",\"id\":\"p1799\"}}},{\"type\":\"object\",\"name\":\"TableColumn\",\"id\":\"p1805\",\"attributes\":{\"field\":\"education\",\"title\":\"education\",\"formatter\":{\"type\":\"object\",\"name\":\"StringFormatter\",\"id\":\"p1803\"},\"editor\":{\"type\":\"object\",\"name\":\"StringEditor\",\"id\":\"p1804\"}}},{\"type\":\"object\",\"name\":\"TableColumn\",\"id\":\"p1810\",\"attributes\":{\"field\":\"occupation\",\"title\":\"occupation\",\"formatter\":{\"type\":\"object\",\"name\":\"StringFormatter\",\"id\":\"p1808\"},\"editor\":{\"type\":\"object\",\"name\":\"StringEditor\",\"id\":\"p1809\"}}},{\"type\":\"object\",\"name\":\"TableColumn\",\"id\":\"p1815\",\"attributes\":{\"field\":\"age_category\",\"title\":\"age_category\",\"formatter\":{\"type\":\"object\",\"name\":\"StringFormatter\",\"id\":\"p1813\"},\"editor\":{\"type\":\"object\",\"name\":\"StringEditor\",\"id\":\"p1814\"}}},{\"type\":\"object\",\"name\":\"TableColumn\",\"id\":\"p1820\",\"attributes\":{\"field\":\"price_standardized\",\"title\":\"price_standardized\",\"formatter\":{\"type\":\"object\",\"name\":\"NumberFormatter\",\"id\":\"p1818\",\"attributes\":{\"format\":\"0,0.0[00000]\"}},\"editor\":{\"type\":\"object\",\"name\":\"NumberEditor\",\"id\":\"p1819\"}}},{\"type\":\"object\",\"name\":\"TableColumn\",\"id\":\"p1825\",\"attributes\":{\"field\":\"pages_standardized\",\"title\":\"pages_standardized\",\"formatter\":{\"type\":\"object\",\"name\":\"NumberFormatter\",\"id\":\"p1823\",\"attributes\":{\"format\":\"0,0.0[00000]\"}},\"editor\":{\"type\":\"object\",\"name\":\"NumberEditor\",\"id\":\"p1824\"}}},{\"type\":\"object\",\"name\":\"TableColumn\",\"id\":\"p1830\",\"attributes\":{\"field\":\"label\",\"title\":\"label\",\"formatter\":{\"type\":\"object\",\"name\":\"NumberFormatter\",\"id\":\"p1828\"},\"editor\":{\"type\":\"object\",\"name\":\"IntEditor\",\"id\":\"p1829\"}}}],\"reorderable\":false}},{\"type\":\"object\",\"name\":\"Spacer\",\"id\":\"p1840\",\"attributes\":{\"name\":\"HSpacer02080\",\"stylesheets\":[\"\\n:host(.pn-loading):before, .pn-loading:before {\\n  background-color: #c3c3c3;\\n  mask-size: auto calc(min(50%, 400px));\\n  -webkit-mask-size: auto calc(min(50%, 400px));\\n}\",{\"id\":\"p1793\"},{\"id\":\"p1791\"},{\"id\":\"p1792\"}],\"margin\":0,\"sizing_mode\":\"stretch_width\",\"align\":\"start\"}}]}}],\"defs\":[{\"type\":\"model\",\"name\":\"ReactiveHTML1\"},{\"type\":\"model\",\"name\":\"FlexBox1\",\"properties\":[{\"name\":\"align_content\",\"kind\":\"Any\",\"default\":\"flex-start\"},{\"name\":\"align_items\",\"kind\":\"Any\",\"default\":\"flex-start\"},{\"name\":\"flex_direction\",\"kind\":\"Any\",\"default\":\"row\"},{\"name\":\"flex_wrap\",\"kind\":\"Any\",\"default\":\"wrap\"},{\"name\":\"gap\",\"kind\":\"Any\",\"default\":\"\"},{\"name\":\"justify_content\",\"kind\":\"Any\",\"default\":\"flex-start\"}]},{\"type\":\"model\",\"name\":\"FloatPanel1\",\"properties\":[{\"name\":\"config\",\"kind\":\"Any\",\"default\":{\"type\":\"map\"}},{\"name\":\"contained\",\"kind\":\"Any\",\"default\":true},{\"name\":\"position\",\"kind\":\"Any\",\"default\":\"right-top\"},{\"name\":\"offsetx\",\"kind\":\"Any\",\"default\":null},{\"name\":\"offsety\",\"kind\":\"Any\",\"default\":null},{\"name\":\"theme\",\"kind\":\"Any\",\"default\":\"primary\"},{\"name\":\"status\",\"kind\":\"Any\",\"default\":\"normalized\"}]},{\"type\":\"model\",\"name\":\"GridStack1\",\"properties\":[{\"name\":\"mode\",\"kind\":\"Any\",\"default\":\"warn\"},{\"name\":\"ncols\",\"kind\":\"Any\",\"default\":null},{\"name\":\"nrows\",\"kind\":\"Any\",\"default\":null},{\"name\":\"allow_resize\",\"kind\":\"Any\",\"default\":true},{\"name\":\"allow_drag\",\"kind\":\"Any\",\"default\":true},{\"name\":\"state\",\"kind\":\"Any\",\"default\":[]}]},{\"type\":\"model\",\"name\":\"drag1\",\"properties\":[{\"name\":\"slider_width\",\"kind\":\"Any\",\"default\":5},{\"name\":\"slider_color\",\"kind\":\"Any\",\"default\":\"black\"},{\"name\":\"value\",\"kind\":\"Any\",\"default\":50}]},{\"type\":\"model\",\"name\":\"click1\",\"properties\":[{\"name\":\"terminal_output\",\"kind\":\"Any\",\"default\":\"\"},{\"name\":\"debug_name\",\"kind\":\"Any\",\"default\":\"\"},{\"name\":\"clears\",\"kind\":\"Any\",\"default\":0}]},{\"type\":\"model\",\"name\":\"FastWrapper1\",\"properties\":[{\"name\":\"object\",\"kind\":\"Any\",\"default\":null},{\"name\":\"style\",\"kind\":\"Any\",\"default\":null}]},{\"type\":\"model\",\"name\":\"NotificationAreaBase1\",\"properties\":[{\"name\":\"js_events\",\"kind\":\"Any\",\"default\":{\"type\":\"map\"}},{\"name\":\"position\",\"kind\":\"Any\",\"default\":\"bottom-right\"},{\"name\":\"_clear\",\"kind\":\"Any\",\"default\":0}]},{\"type\":\"model\",\"name\":\"NotificationArea1\",\"properties\":[{\"name\":\"js_events\",\"kind\":\"Any\",\"default\":{\"type\":\"map\"}},{\"name\":\"notifications\",\"kind\":\"Any\",\"default\":[]},{\"name\":\"position\",\"kind\":\"Any\",\"default\":\"bottom-right\"},{\"name\":\"_clear\",\"kind\":\"Any\",\"default\":0},{\"name\":\"types\",\"kind\":\"Any\",\"default\":[{\"type\":\"map\",\"entries\":[[\"type\",\"warning\"],[\"background\",\"#ffc107\"],[\"icon\",{\"type\":\"map\",\"entries\":[[\"className\",\"fas fa-exclamation-triangle\"],[\"tagName\",\"i\"],[\"color\",\"white\"]]}]]},{\"type\":\"map\",\"entries\":[[\"type\",\"info\"],[\"background\",\"#007bff\"],[\"icon\",{\"type\":\"map\",\"entries\":[[\"className\",\"fas fa-info-circle\"],[\"tagName\",\"i\"],[\"color\",\"white\"]]}]]}]}]},{\"type\":\"model\",\"name\":\"Notification\",\"properties\":[{\"name\":\"background\",\"kind\":\"Any\",\"default\":null},{\"name\":\"duration\",\"kind\":\"Any\",\"default\":3000},{\"name\":\"icon\",\"kind\":\"Any\",\"default\":null},{\"name\":\"message\",\"kind\":\"Any\",\"default\":\"\"},{\"name\":\"notification_type\",\"kind\":\"Any\",\"default\":null},{\"name\":\"_destroyed\",\"kind\":\"Any\",\"default\":false}]},{\"type\":\"model\",\"name\":\"TemplateActions1\",\"properties\":[{\"name\":\"open_modal\",\"kind\":\"Any\",\"default\":0},{\"name\":\"close_modal\",\"kind\":\"Any\",\"default\":0}]},{\"type\":\"model\",\"name\":\"BootstrapTemplateActions1\",\"properties\":[{\"name\":\"open_modal\",\"kind\":\"Any\",\"default\":0},{\"name\":\"close_modal\",\"kind\":\"Any\",\"default\":0}]},{\"type\":\"model\",\"name\":\"TemplateEditor1\",\"properties\":[{\"name\":\"layout\",\"kind\":\"Any\",\"default\":[]}]},{\"type\":\"model\",\"name\":\"MaterialTemplateActions1\",\"properties\":[{\"name\":\"open_modal\",\"kind\":\"Any\",\"default\":0},{\"name\":\"close_modal\",\"kind\":\"Any\",\"default\":0}]},{\"type\":\"model\",\"name\":\"ReactiveESM1\"},{\"type\":\"model\",\"name\":\"JSComponent1\"},{\"type\":\"model\",\"name\":\"ReactComponent1\"},{\"type\":\"model\",\"name\":\"AnyWidgetComponent1\"},{\"type\":\"model\",\"name\":\"request_value1\",\"properties\":[{\"name\":\"fill\",\"kind\":\"Any\",\"default\":\"none\"},{\"name\":\"_synced\",\"kind\":\"Any\",\"default\":null},{\"name\":\"_request_sync\",\"kind\":\"Any\",\"default\":0}]}]}};\n",
       "  var render_items = [{\"docid\":\"b1a4fa07-c072-40bf-8a7a-a5279c19f7e9\",\"roots\":{\"p1790\":\"d1570b0d-5138-49de-ae6e-f22c093e9b6a\"},\"root_ids\":[\"p1790\"]}];\n",
       "  var docs = Object.values(docs_json)\n",
       "  if (!docs) {\n",
       "    return\n",
       "  }\n",
       "  const py_version = docs[0].version.replace('rc', '-rc.').replace('.dev', '-dev.')\n",
       "  async function embed_document(root) {\n",
       "    var Bokeh = get_bokeh(root)\n",
       "    await Bokeh.embed.embed_items_notebook(docs_json, render_items);\n",
       "    for (const render_item of render_items) {\n",
       "      for (const root_id of render_item.root_ids) {\n",
       "\tconst id_el = document.getElementById(root_id)\n",
       "\tif (id_el.children.length && id_el.children[0].hasAttribute('data-root-id')) {\n",
       "\t  const root_el = id_el.children[0]\n",
       "\t  root_el.id = root_el.id + '-rendered'\n",
       "\t  for (const child of root_el.children) {\n",
       "            // Ensure JupyterLab does not capture keyboard shortcuts\n",
       "            // see: https://jupyterlab.readthedocs.io/en/4.1.x/extension/notebook.html#keyboard-interaction-model\n",
       "\t    child.setAttribute('data-lm-suppress-shortcuts', 'true')\n",
       "\t  }\n",
       "\t}\n",
       "      }\n",
       "    }\n",
       "  }\n",
       "  function get_bokeh(root) {\n",
       "    if (root.Bokeh === undefined) {\n",
       "      return null\n",
       "    } else if (root.Bokeh.version !== py_version) {\n",
       "      if (root.Bokeh.versions === undefined || !root.Bokeh.versions.has(py_version)) {\n",
       "\treturn null\n",
       "      }\n",
       "      return root.Bokeh.versions.get(py_version);\n",
       "    } else if (root.Bokeh.version === py_version) {\n",
       "      return root.Bokeh\n",
       "    }\n",
       "    return null\n",
       "  }\n",
       "  function is_loaded(root) {\n",
       "    var Bokeh = get_bokeh(root)\n",
       "    return (Bokeh != null && Bokeh.Panel !== undefined)\n",
       "  }\n",
       "  if (is_loaded(root)) {\n",
       "    embed_document(root);\n",
       "  } else {\n",
       "    var attempts = 0;\n",
       "    var timer = setInterval(function(root) {\n",
       "      if (is_loaded(root)) {\n",
       "        clearInterval(timer);\n",
       "        embed_document(root);\n",
       "      } else if (document.readyState == \"complete\") {\n",
       "        attempts++;\n",
       "        if (attempts > 200) {\n",
       "          clearInterval(timer);\n",
       "\t  var Bokeh = get_bokeh(root)\n",
       "\t  if (Bokeh == null || Bokeh.Panel == null) {\n",
       "            console.warn(\"Panel: ERROR: Unable to run Panel code because Bokeh or Panel library is missing\");\n",
       "\t  } else {\n",
       "\t    console.warn(\"Panel: WARNING: Attempting to render but not all required libraries could be resolved.\")\n",
       "\t    embed_document(root)\n",
       "\t  }\n",
       "        }\n",
       "      }\n",
       "    }, 25, root)\n",
       "  }\n",
       "})(window);</script>"
      ],
      "text/plain": [
       ":Table   [gender,education,occupation,age_category,price_standardized,pages_standardized,label]"
      ]
     },
     "execution_count": 41,
     "metadata": {
      "application/vnd.holoviews_exec.v0+json": {
       "id": "p1790"
      }
     },
     "output_type": "execute_result"
    }
   ],
   "source": [
    "dataset_df.hvplot.table(\n",
    "    columns=[\n",
    "        \"gender\",\n",
    "        \"education\",\n",
    "        \"occupation\",\n",
    "        \"age_category\",\n",
    "        \"price_standardized\",\n",
    "        \"pages_standardized\",\n",
    "        \"label\",\n",
    "    ],\n",
    "    sortable=True,\n",
    "    selectable=True,\n",
    ")"
   ]
  },
  {
   "cell_type": "markdown",
   "id": "78f857d7-a218-4032-b600-e004e1abcfaf",
   "metadata": {},
   "source": [
    "## Library EDA commentary"
   ]
  },
  {
   "cell_type": "markdown",
   "id": "381b6113-b260-4934-9afd-e9ed6fc75cae",
   "metadata": {},
   "source": [
    "The goal of exploratory analysis is to provide insights and explain relationships between entities that are involved in the business process. By applying descriptive statistics techniques potential features are explored. \n",
    "\n",
    "## Motive \n",
    "\n",
    "The main motive or the business problem that drives the analysis is the late return of rented books from the libraries. Data exploration should provide an answer to whether this business problem can be translated into a statistical problem and whether can we mitigate it by collecting statistical data.\n",
    "\n",
    "## Overall conclusion\n",
    "\n",
    "The main entities that are presented and have enough information are `customers` and `books`. Information about libraries is not included in the analysis. The problem is presented uniformly and not by a particular library. \n",
    "After data cleaning (removing special characters, filling in missing values, standardizing formats, etc.) basic analysis is performed. For example, distribution of book pages and prices, and distribution of customer information such as gender, education, age group, etc. all concerning the label (is the book returned on time or not). \n",
    "\n",
    "The features are built that can potentially predict whether customers will return books on time or not.\n",
    "Looking at the labels, there is a 70/30 ratio between positive and negative labels showing class imbalance (which makes training a model more difficult). This can be solved by using sampling techniques or weighting classes (or both).\n",
    "\n",
    "There are no outstanding indicators in the data, for example, one particular feature stands out and shows that it is dominant for the outcome and the resulting label.\n",
    "\n",
    "## The answers to the task\n",
    "\n",
    "1) Building a model that can predict the likelihood of a late return of any book at the checkout time?\n",
    "\n",
    "I would suggest the business (library) center their problem around the customers and explain that we can try to build a predictive model that can tell whether the customer will return a book or not based on their renting history. Having the checkout data, as well as the customer and book data, this is possible. Of course, this should be viewed as an experiment, as we can't know if the model results will satisfy the business requirements.\n",
    "\n",
    "2) Are there any factors that are connected with the late returns?\n",
    "\n",
    "Based on data analysis there are no dominant signs that some particular feature is connected with late returns. Books data shows that pricier books with more pages tend to be returned late with no specific user group returning books late (based on education, age group, etc.)\n",
    "\n",
    "3) What would you recommend the library to do to mitigate the results you find?\n",
    "\n",
    "30% of the books are returned late. Building a statistical model that can predict (on a satisfactory level) whether the customer will return a book is a good start. \n",
    "Even without the model, the library should have more insight and utilize the data collected to potentially build reports or dashboards, tracking the most popular books, number of rents per book, customer with the most rents, or similar **KPIs** which will help them get to the right business decision faster and with more confidence (backed by data).\n",
    "\n",
    "4) How would you present your findings to get a buy-in?\n",
    "\n",
    "The presentation can be in the form of a notebook or even better, in the form of a PowerPoint presentation. The notebooks are a mix of code, diagrams, and text which might not sit well with non-technical personnel.  \n",
    "We should start with the description of the business problem, and how it affects the library business (they're losing money probably) and continue with a section that describes the findings in the data.\n",
    "Throughout the presentation, we should aim to use non-technical terms and try to be concise and precise. \n",
    "When talking about building a model, set expectations and try to find out what is the minimal performance level that solves (or starts to) the already mentioned business problem. We shouldn't aim to build a model that has 95% accuracy (or some other metrics) performance, we should aim to build something that has impact on the business and that may be a model with weaker performance.  \n",
    "The key takeaway is **managing expectations** which can be hard."
   ]
  }
 ],
 "metadata": {
  "kernelspec": {
   "display_name": "Python 3 (ipykernel)",
   "language": "python",
   "name": "python3"
  },
  "language_info": {
   "codemirror_mode": {
    "name": "ipython",
    "version": 3
   },
   "file_extension": ".py",
   "mimetype": "text/x-python",
   "name": "python",
   "nbconvert_exporter": "python",
   "pygments_lexer": "ipython3",
   "version": "3.11.6"
  }
 },
 "nbformat": 4,
 "nbformat_minor": 5
}
